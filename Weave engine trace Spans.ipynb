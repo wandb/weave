{
 "cells": [
  {
   "cell_type": "code",
   "execution_count": 1,
   "id": "c62364f5",
   "metadata": {},
   "outputs": [],
   "source": [
    "import weave\n",
    "weave.use_frontend_devmode()\n",
    "from weave.wandb_interface.wandb_stream_table import StreamTable"
   ]
  },
  {
   "cell_type": "code",
   "execution_count": 2,
   "id": "a452ca36",
   "metadata": {},
   "outputs": [],
   "source": [
    "from weave import syndata"
   ]
  },
  {
   "cell_type": "code",
   "execution_count": 3,
   "id": "b8ea10d9",
   "metadata": {},
   "outputs": [],
   "source": [
    "#StreamTable('shawn/weave-trace-test2/test7').rows()"
   ]
  },
  {
   "cell_type": "code",
   "execution_count": 4,
   "id": "460624d1",
   "metadata": {},
   "outputs": [
    {
     "name": "stderr",
     "output_type": "stream",
     "text": [
      "/Users/shawn/code2/weave/weave/syndata.py:18: RuntimeWarning: divide by zero encountered in power\n",
      "  lambda steps: np.power(steps, -0.5)\n"
     ]
    }
   ],
   "source": [
    "data = weave.save(syndata.random_metrics(1000, 10), 'metrics')"
   ]
  },
  {
   "cell_type": "code",
   "execution_count": 5,
   "id": "032cd56d",
   "metadata": {},
   "outputs": [],
   "source": [
    "#data"
   ]
  },
  {
   "cell_type": "code",
   "execution_count": 17,
   "id": "8d099de8",
   "metadata": {},
   "outputs": [
    {
     "data": {
      "text/html": [
       "\n",
       "        <iframe\n",
       "            width=\"100%\"\n",
       "            height=\"400px\"\n",
       "            src=\"http://localhost:3000/__frontend/weave_jupyter?fullScreen&expNode=%7B%22nodeType%22%3A%20%22output%22%2C%20%22type%22%3A%20%22any%22%2C%20%22fromOp%22%3A%20%7B%22name%22%3A%20%22get%22%2C%20%22inputs%22%3A%20%7B%22uri%22%3A%20%7B%22nodeType%22%3A%20%22const%22%2C%20%22type%22%3A%20%22string%22%2C%20%22val%22%3A%20%22local-artifact%3A///dashboard-Group0%3Alatest/obj%22%7D%7D%7D%7D\"\n",
       "            frameborder=\"0\"\n",
       "            allowfullscreen\n",
       "            allow=\"clipboard-write\"\n",
       "        ></iframe>\n",
       "        "
      ],
      "text/plain": [
       "<IPython.lib.display.IFrame at 0x2a2122b20>"
      ]
     },
     "metadata": {},
     "output_type": "display_data"
    }
   ],
   "source": [
    "spans = StreamTable('shawn/weave-trace-test2/test7').rows()\n",
    "board = weave.panels.Board(\n",
    "    vars={\n",
    "        'spans': spans,\n",
    "        'data': lambda spans: spans.filter(lambda row: row['trace_id'] == '423190159106517541')\n",
    "    },\n",
    "    panels=[\n",
    "        weave.panels.BoardPanel(\n",
    "            # TODO: have to compute all columns we want here, there's no way to\n",
    "            # tell js or python to do auto-columns behavior.\n",
    "            lambda data: data,\n",
    "            id='table',\n",
    "            layout=weave.panels.BoardPanelLayout(x=0, y=0, w=24, h=6)\n",
    "        ),\n",
    "        weave.panels.BoardPanel(\n",
    "            # TODO: have to compute all columns we want here, there's no way to\n",
    "            # tell js or python to do auto-columns behavior.\n",
    "            lambda data: weave.panels.Table(\n",
    "                data,\n",
    "                columns=[\n",
    "                    weave.panels.TableColumn(\n",
    "                        lambda row: row['trace_id'],\n",
    "                        groupby=True,\n",
    "                    ),\n",
    "                    weave.panels.TableColumn(\n",
    "                        lambda row: row.count(),\n",
    "                        name='span count'\n",
    "                    ),\n",
    "                    weave.panels.TableColumn(\n",
    "                        # TODO: not exact, we need to add duration to get end time, but we don't have an add\n",
    "                        # for 2 vectors yet.\n",
    "                        lambda row: (row['start_time_ns'].max() - row['start_time_ns'].min()) / 1000000000,\n",
    "                        name='duration_s'\n",
    "                    )\n",
    "                ]\n",
    "            ),\n",
    "            id='traces',\n",
    "            layout=weave.panels.BoardPanelLayout(x=0, y=0, w=24, h=6)\n",
    "        ),\n",
    "        weave.panels.BoardPanel(\n",
    "            # TODO: have to compute all columns we want here, there's no way to\n",
    "            # tell js or python to do auto-columns behavior.\n",
    "            lambda data: weave.panels.Table(\n",
    "                data,\n",
    "                columns=[\n",
    "                    weave.panels.TableColumn(\n",
    "                        lambda row: row['name'],\n",
    "                        groupby=True,\n",
    "                    ),\n",
    "                    lambda row: row.count(),\n",
    "                    weave.panels.TableColumn(\n",
    "                        # TODO: not exact, we need to add duration to get end time, but we don't have an add\n",
    "                        # for 2 vectors yet.\n",
    "                        lambda row: (row['start_time_ns'].max() - row['start_time_ns'].min()) / 1000000000,\n",
    "                        name='duration_s'\n",
    "                    )\n",
    "                ]\n",
    "            ),\n",
    "            id='spans',\n",
    "            layout=weave.panels.BoardPanelLayout(x=0, y=0, w=24, h=6)\n",
    "        ),\n",
    "#         weave.panels.BoardPanel(\n",
    "#             lambda table: get_trace(table),\n",
    "#             layout=weave.panels.BoardPanelLayout(x=0, y=6, w=24, h=6)\n",
    "#         )\n",
    "    ]\n",
    ")\n",
    "board"
   ]
  }
 ],
 "metadata": {
  "kernelspec": {
   "display_name": "Python 3 (ipykernel)",
   "language": "python",
   "name": "python3"
  },
  "language_info": {
   "codemirror_mode": {
    "name": "ipython",
    "version": 3
   },
   "file_extension": ".py",
   "mimetype": "text/x-python",
   "name": "python",
   "nbconvert_exporter": "python",
   "pygments_lexer": "ipython3",
   "version": "3.9.7"
  }
 },
 "nbformat": 4,
 "nbformat_minor": 5
}
