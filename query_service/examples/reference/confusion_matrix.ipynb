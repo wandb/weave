{
  "cells": [
    {
      "cell_type": "markdown",
      "id": "562cca2e-fd23-4725-9c04-416fde40aadc",
      "metadata": {},
      "source": [
        "# Create an Interactive Confusion Matrix in Weave\n",
        "\n",
        "In this tutorial, we will set up an interactive confusion matrix Weave panel using Weave expressions and Python):\n",
        "* pick an existing W&B Table of predictions\n",
        "* load this data into Weave locally\n",
        "* programmatically configure two Weave Panels: a Facet panel for the confusion matrix grid and an active selection panel to show the details of items in that cell of the confusion matrix\n",
        "\n",
        "<img src=\"https://raw.githubusercontent.com/wandb/weave/master/docs/assets/conf_mat_vert.png\" width=70%>\n",
        "\n",
        "# Step 0: Setup\n",
        "\n",
        "Install dependencies and login to W&B to save & publish your work."
      ]
    },
    {
      "cell_type": "code",
      "execution_count": null,
      "id": "8544cf72",
      "metadata": {},
      "outputs": [],
      "source": [
        "# if not already installed\n",
        "!pip install -qqq weave"
      ]
    },
    {
      "cell_type": "code",
      "execution_count": null,
      "id": "5b86972f-d8d7-4f5a-bf5a-9a6be887978c",
      "metadata": {},
      "outputs": [],
      "source": [
        "import wandb\n",
        "wandb.login()\n",
        "import weave\n",
        "import weave.legacy.weave.panels"
      ]
    },
    {
      "cell_type": "markdown",
      "id": "b35a8e31-3f51-43a9-bf89-543ed6fe62e8",
      "metadata": {},
      "source": [
        "Use our public example or substitute your own W&B Tables by replacing the fields below. You can find the relevant information by navigating to a project in W&B, clicking on the \"Artifacts\" tab, and browsing using the sidebar until you find the artifact type and corresponding table file of interest (e.g. [this one used in the example](https://wandb.ai/stacey/mendeleev/artifacts/test_results/test_res_1fwmcd3q/v0/files/test_results.table.json)).\n",
        "\n",
        "**Note:** the index '0' after `artifacts()` and `versions()` will take the first element in those lists."
      ]
    },
    {
      "cell_type": "code",
      "execution_count": null,
      "id": "01183f54-efa6-405a-be6a-142f75540913",
      "metadata": {},
      "outputs": [],
      "source": [
        "ENTITY = \"stacey\"\n",
        "PROJECT = \"mendeleev\"\n",
        "ARTIFACT_TYPE = \"test_results\"\n",
        "TABLE_FILE = \"test_results.table.json\""
      ]
    },
    {
      "cell_type": "markdown",
      "id": "2c910260-a5c0-4c99-bd00-1b9b95ddde54",
      "metadata": {},
      "source": [
        "# Step 1: Compose Weave expression to load W&B Table\n",
        "\n",
        "Navigate the W&B object tree programmatically with Weave\n",
        "* start with the specified W&B project\n",
        "* fetch all artifacts of the specified type and take the first artifact\n",
        "* fetch all the versions of that artifact and take the first one\n",
        "* load the specified W&B Table file associated with that artifact version\n",
        "* convert that file into a Weave table (with `.table.rows()`)\n",
        "\n",
        "The second cell below will display an interactive Weave Panel of the corresponding Table. You can interact with this panel in the notebook as you would with the underlying W&B Table in the cloud UI: sort, filter, group, etc. You can also expand the panel to open it in a Weave Board in order to iterate further/save and publish your work."
      ]
    },
    {
      "cell_type": "code",
      "execution_count": null,
      "id": "7f5447d2",
      "metadata": {},
      "outputs": [],
      "source": [
        "predictions = (weave.legacy.weave.ops.project(ENTITY, PROJECT)\n",
        "         .artifactType(ARTIFACT_TYPE)\n",
        "         .artifacts()[0]\n",
        "         .versions()[0]\n",
        "         .file(TABLE_FILE)\n",
        "         .table()\n",
        "         .rows())"
      ]
    },
    {
      "cell_type": "code",
      "execution_count": null,
      "id": "e414990d",
      "metadata": {},
      "outputs": [],
      "source": [
        "predictions"
      ]
    },
    {
      "cell_type": "markdown",
      "id": "9ee223ef-1a97-46f6-9933-24cdb78d2488",
      "metadata": {},
      "source": [
        "# Step 2: Configure a Weave Panel Group in code\n",
        "\n",
        "We write a function to create a group of panels in Weave:\n",
        "* Group panel: this is a container to arrange a set of panels — in our case, in equal sizes horizontally\n",
        "* Facet panel: this is the main 2D grid of the confusion matrix, showing the `truth` column (correct label) on the x-axis and the `guess` column (model's prediction) on the y-axis\n",
        "* each cell of the Facet Panel is again a Group with two layers of panels: 1) a Number panel showing the total number of rows/model predictions in that cell of the confusion matrix, and 2) a background Color panel with the count from 1) rescaled on a blue hue, so the more saturated the blue, the more items in that cell\n",
        "* a final Table panel to show the full rows/details of any selected cell from the main Facet panel."
      ]
    },
    {
      "cell_type": "code",
      "execution_count": null,
      "id": "a940dab4",
      "metadata": {},
      "outputs": [],
      "source": [
        "def confusion_matrix(table_data):\n",
        "    conf_mat = weave.legacy.weave.panels.Group(\n",
        "        equalSize=True,\n",
        "        preferHorizontal=True,\n",
        "        items={\n",
        "            'confusion': weave.legacy.weave.panels.Facet(\n",
        "                             table_data,\n",
        "                             x=lambda row: row[\"truth\"],\n",
        "                             y=lambda row: row[\"guess\"],\n",
        "                             select=lambda row: weave.legacy.weave.panels.Group(\n",
        "                                 layoutMode='layer',\n",
        "                                 items={\n",
        "                                     'count': row.count(),\n",
        "                                     'color': weave.legacy.weave.panels.Color(row.count() / 50)\n",
        "                                 }\n",
        "                             )\n",
        "                        ),\n",
        "            'selected': lambda confusion: confusion.selected()\n",
        "        }\n",
        "    )\n",
        "    return conf_mat"
      ]
    },
    {
      "cell_type": "code",
      "execution_count": null,
      "id": "ccf9a5a9-07b0-4967-a5ee-9255f9660ee3",
      "metadata": {},
      "outputs": [],
      "source": [
        "confusion_matrix(predictions)"
      ]
    },
    {
      "cell_type": "markdown",
      "id": "050f6119-7933-4084-9a9c-edb829c6c075",
      "metadata": {},
      "source": [
        "# Step 3: Filter for incorrect predictions\n",
        "\n",
        "We can add a filter predicate to the Weave expression to select only the rows where the model's prediction doesn't match the correct label.  Note that the highest-count / most-blue squares are absent in this version.\n",
        "\n",
        "Try opening this panel as a Weave Board by hovering over the right side and clicking \"Open in new tab\". You can explore more cells, add more panels, and share your work. Let us know if you find any interesting mistakes or patterns&mdash;for example, the mammal confused for an arachnid :)\n",
        "\n",
        "<img src=\"https://raw.githubusercontent.com/wandb/weave/master/docs/assets/conf_mat_full_board.png\">"
      ]
    },
    {
      "cell_type": "code",
      "execution_count": null,
      "id": "75d50c33-9712-4ffe-9971-5552d32648bc",
      "metadata": {},
      "outputs": [],
      "source": [
        "mistakes_only = predictions.filter(lambda row: row[\"truth\"] != row[\"guess\"])\n",
        "confusion_matrix(mistakes_only)"
      ]
    },
    {
      "cell_type": "markdown",
      "id": "9e4195fe-09cb-48e8-99a0-e01acf75e6c2",
      "metadata": {},
      "source": [
        "# Bonus: Make a confusion matrix from the UI only\n",
        "\n",
        "To create a confusion matrix from the UI only:\n",
        "1. Start with a Weave Table object saved with `weave.save()` and loaded into a panel with an expression of the form `get(\"wandb-artifact:///your_entity/your_project/obj:0123456789abcde/obj\")`.\n",
        "2. Click the pencil \"Edit\" icon on the panel to open the panel config menu.\n",
        "3. Change the Panel type to \"Facet\"&mdash;this is the main confusion matrix layout.\n",
        "4. Set the X and Y axes for the intended confusion matrix, e.g to `row[\"truth\"]` and `row[\"guess\"]` for this example.\n",
        "5. In the lower \"Properties\" section, change the child panel type from \"Expression\" to \"Group\", then change the layout from \"vertical\" to \"layer\" and select \"Add child\"&mdash;each child is a cell of the confusion matrix which \"groups\" or \"layers\" the count of items in that cell and the corresponding background color of the cell.\n",
        "6. The \"Input\" of one child can be the count: enter `row.count` as the Weave expression. When you hit \"Run\", \"Panel type\" should update to \"Number\" and you should see numbers render in the confusion matrix panel.\n",
        "7. Click \"Add Child\" and optionally add the cell background. Change \"Panel type\" to \"Color\" and enter `row.count / N` as the \"Input\", where N is some normalizing constant to scale your values from 0 for white to ~1.5 for the highest-saturation blue.\n",
        "\n",
        "Your settings menu should look something like this:\n",
        "\n",
        "<img src=\"https://raw.githubusercontent.com/wandb/weave/master/docs/assets/conf_mat_UI_settings.png\" width=25%>"
      ]
    }
  ],
  "metadata": {
    "kernelspec": {
      "display_name": "Python 3 (ipykernel)",
      "language": "python",
      "name": "python3"
    },
    "language_info": {
      "codemirror_mode": {
        "name": "ipython",
        "version": 3
      },
      "file_extension": ".py",
      "mimetype": "text/x-python",
      "name": "python",
      "nbconvert_exporter": "python",
      "pygments_lexer": "ipython3",
      "version": "3.9.7"
    }
  },
  "nbformat": 4,
  "nbformat_minor": 5
}
