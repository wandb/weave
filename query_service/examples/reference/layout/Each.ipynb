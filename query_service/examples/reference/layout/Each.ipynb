{
  "cells": [
    {
      "cell_type": "code",
      "execution_count": null,
      "id": "4093cfd3",
      "metadata": {},
      "outputs": [],
      "source": [
        "from PIL import Image\n",
        "import weave\n",
        "from weave.legacy.scripts import syndata\n",
        "from weave.legacy.weave import panels"
      ]
    },
    {
      "cell_type": "markdown",
      "id": "b05e49a1",
      "metadata": {},
      "source": [
        "## PanelEach\n",
        "\n",
        "PanelEach renders each item in a list.\n"
      ]
    },
    {
      "cell_type": "code",
      "execution_count": null,
      "id": "b2cc5af5",
      "metadata": {},
      "outputs": [],
      "source": [
        "data = weave.save(syndata.random_metrics(100, 100))\n",
        "panels.Each(data)"
      ]
    },
    {
      "cell_type": "code",
      "execution_count": null,
      "id": "36755a04",
      "metadata": {},
      "outputs": [],
      "source": [
        "ims = weave.save([Image.linear_gradient(\"L\").rotate(i * 4) for i in range(100)])\n",
        "panels.Each(ims)"
      ]
    }
  ],
  "metadata": {
    "kernelspec": {
      "display_name": "Python 3 (ipykernel)",
      "language": "python",
      "name": "python3"
    },
    "language_info": {
      "codemirror_mode": {
        "name": "ipython",
        "version": 3
      },
      "file_extension": ".py",
      "mimetype": "text/x-python",
      "name": "python",
      "nbconvert_exporter": "python",
      "pygments_lexer": "ipython3",
      "version": "3.9.7"
    }
  },
  "nbformat": 4,
  "nbformat_minor": 5
}
