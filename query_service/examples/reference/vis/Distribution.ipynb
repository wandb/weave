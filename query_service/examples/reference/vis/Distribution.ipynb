{
  "cells": [
    {
      "cell_type": "code",
      "execution_count": null,
      "id": "726127b0",
      "metadata": {},
      "outputs": [],
      "source": [
        "import random\n",
        "import weave\n",
        "# Weave package now defaults to eager mode, but lazy mode required for this example notebook for now.\\n\n",
        "weave.use_lazy_execution()\n",
        "from weave.legacy.weave.ecosystem import wandb"
      ]
    },
    {
      "cell_type": "code",
      "execution_count": null,
      "id": "a9875d92",
      "metadata": {},
      "outputs": [],
      "source": [
        "items = weave.save([\n",
        "    {'name': 'x',\n",
        "     'loss1': [random.gauss(5, 2) for i in range(500)],\n",
        "     'loss2': [random.gauss(5, 2) for i in range(500)],\n",
        "     'str_val': [random.choice(['a', 'b', 'c']) for i in range(500)]},\n",
        "    {'name': 'y',\n",
        "     'loss1': [random.gauss(9, 4) for i in range(500)],\n",
        "     'loss2': [random.gauss(-1, 2) for i in range(500)],\n",
        "     'str_val': [random.choice(['a', 'b', 'c']) for i in range(500)]},\n",
        "    ])\n",
        "items"
      ]
    },
    {
      "cell_type": "code",
      "execution_count": null,
      "id": "a92bcc0e",
      "metadata": {},
      "outputs": [],
      "source": [
        "from weave.legacy.weave import weave_internal\n",
        "# Numeric distribution\n",
        "dist = wandb.Distribution(\n",
        "    items,\n",
        "    value_fn=lambda x: x['loss1'],\n",
        "    bin_size=0.1\n",
        ")\n",
        "dist"
      ]
    },
    {
      "cell_type": "code",
      "execution_count": null,
      "id": "fb380da9",
      "metadata": {},
      "outputs": [],
      "source": [
        "# String distribution\n",
        "wandb.Distribution(\n",
        "    items,\n",
        "    value_fn=lambda x: x['str_val'],\n",
        ")"
      ]
    },
    {
      "cell_type": "code",
      "execution_count": null,
      "id": "6db75ca1",
      "metadata": {},
      "outputs": [],
      "source": [
        "# Colored numeric distribution\n",
        "wandb.Distribution(\n",
        "    items,\n",
        "    value_fn=lambda x: x['loss1'],\n",
        "    label_fn=lambda x: x['name'],\n",
        "    bin_size=0.2\n",
        ")"
      ]
    },
    {
      "cell_type": "code",
      "execution_count": null,
      "id": "4eee28b9",
      "metadata": {},
      "outputs": [],
      "source": [
        "# Colored string distribution\n",
        "wandb.Distribution(\n",
        "    items,\n",
        "    value_fn=lambda x: x['str_val'],\n",
        "    label_fn=lambda x: x['name'],\n",
        "    bin_size=0.2\n",
        ")"
      ]
    },
    {
      "cell_type": "code",
      "execution_count": null,
      "id": "30ab60fb",
      "metadata": {},
      "outputs": [],
      "source": [
        "# Labeled numeric distribution by nested value\n",
        "wandb.Distribution(\n",
        "    items,\n",
        "    value_fn=lambda x: x['loss1'],\n",
        "    label_fn=lambda x: x['str_val'],\n",
        "    bin_size=0.2\n",
        ")"
      ]
    }
  ],
  "metadata": {
    "kernelspec": {
      "display_name": "Python 3 (ipykernel)",
      "language": "python",
      "name": "python3"
    },
    "language_info": {
      "codemirror_mode": {
        "name": "ipython",
        "version": 3
      },
      "file_extension": ".py",
      "mimetype": "text/x-python",
      "name": "python",
      "nbconvert_exporter": "python",
      "pygments_lexer": "ipython3",
      "version": "3.9.7"
    }
  },
  "nbformat": 4,
  "nbformat_minor": 5
}
