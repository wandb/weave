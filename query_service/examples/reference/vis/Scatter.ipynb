{
  "cells": [
    {
      "cell_type": "code",
      "execution_count": null,
      "id": "81e1af41",
      "metadata": {},
      "outputs": [],
      "source": [
        "import random\n",
        "import weave\n",
        "import weave.legacy.weave.panels\n",
        "from weave.legacy.weave.show import show\n",
        "# Weave package now defaults to eager mode, but lazy mode required for this example notebook for now.\n",
        "weave.use_lazy_execution()\n",
        "from weave.legacy.weave.ecosystem import wandb"
      ]
    },
    {
      "cell_type": "code",
      "execution_count": null,
      "id": "b6687922",
      "metadata": {},
      "outputs": [],
      "source": [
        "data = weave.save([{\n",
        "    'a': random.gauss(5, 2),\n",
        "    'b': random.gauss(0, 9),\n",
        "    'c': random.gauss(15, 0.9),\n",
        "    'd': random.random(),\n",
        "    'e': random.choice(['a', 'b'])} for i in range(500)])\n",
        "data"
      ]
    },
    {
      "cell_type": "code",
      "execution_count": null,
      "id": "726b9294",
      "metadata": {},
      "outputs": [],
      "source": [
        "panel = weave.legacy.weave.panels.Group(\n",
        "    items={\n",
        "        'scatter': wandb.Scatter(data,\n",
        "                                 x_fn=lambda item: item['a'],\n",
        "                                 y_fn=lambda item: item['b'],\n",
        "                                 label_fn=lambda item: item['e']\n",
        "                                ),\n",
        "        'detail': lambda scatter: weave.legacy.weave.panels.Group(\n",
        "            style=\"height: 400px;\",\n",
        "            preferHorizontal=True,\n",
        "            items={\n",
        "                'a_dist': weave.legacy.weave.panels.LabeledItem(\n",
        "                    label='Distribution for metric a in selection',\n",
        "                    item=wandb.Distribution(scatter.selected(),\n",
        "                                                 value_fn=lambda item: item['a'],\n",
        "                                                 label_fn=lambda item: item['e'],\n",
        "                                                 bin_size=0.1)),\n",
        "                'b_dist': weave.legacy.weave.panels.LabeledItem(\n",
        "                    label='Distribution for metric b in selection',\n",
        "                    item=wandb.Distribution(scatter.selected(),\n",
        "                                                 value_fn=lambda item: item['b'],\n",
        "                                                 label_fn=lambda item: item['e'],\n",
        "                                                 bin_size=0.1))\n",
        "            }),\n",
        "        'table': lambda scatter: weave.legacy.weave.panels.LabeledItem(\n",
        "            label='Selected items',\n",
        "            item=weave.legacy.weave.panels.Group(\n",
        "                style=\"height: 400px;\",\n",
        "                preferHorizontal=True,\n",
        "                items={\n",
        "                    'table': scatter.selected()\n",
        "                }))\n",
        "    }\n",
        ")\n",
        "show(panel, height=1000)"
      ]
    }
  ],
  "metadata": {
    "kernelspec": {
      "display_name": "Python 3 (ipykernel)",
      "language": "python",
      "name": "python3"
    },
    "language_info": {
      "codemirror_mode": {
        "name": "ipython",
        "version": 3
      },
      "file_extension": ".py",
      "mimetype": "text/x-python",
      "name": "python",
      "nbconvert_exporter": "python",
      "pygments_lexer": "ipython3",
      "version": "3.9.7"
    }
  },
  "nbformat": 4,
  "nbformat_minor": 5
}
