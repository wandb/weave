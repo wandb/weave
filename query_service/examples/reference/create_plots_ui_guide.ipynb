{
  "cells": [
    {
      "cell_type": "markdown",
      "id": "1305d15c-9677-4f65-8cd8-338d1cb7aa82",
      "metadata": {},
      "source": [
        "# Weave Plot: Interactively visualize your data\n",
        "\n",
        "In this tutorial, we will visualize data with the **Weave Plot Panel**:\n",
        "* load a Pandas DataFrame or other tabular data into Weave \n",
        "* visualize your data as a 2D plot of (x, y) points with **Weave Plot**\n",
        "* customize the plot to filter or annotate the data\n",
        "\n",
        "We use an example dataset of [notable machine learning models](https://docs.google.com/spreadsheets/d/1AAIebjNsnJj_uKALHbXNfn3_YsT6sHXtCU0q7OIPuc4/edit#gid=0) to get started—you can try your own CSV file, Pandas DataFrame, or any public Google Sheets url.\n",
        "\n",
        "# 0: Setup\n",
        "Import dependencies & login to W&B to save your work and share any visualizations you create."
      ]
    },
    {
      "cell_type": "code",
      "execution_count": null,
      "id": "43053b45-eed1-445c-8bbd-05f113302060",
      "metadata": {},
      "outputs": [],
      "source": [
        "!pip install -qqq weave\n",
        "import pandas as pd"
      ]
    },
    {
      "cell_type": "code",
      "execution_count": null,
      "id": "0d5645e7",
      "metadata": {},
      "outputs": [],
      "source": [
        "import wandb\n",
        "wandb.login()\n",
        "import weave\n",
        "from weave.legacy.weave.show import show"
      ]
    },
    {
      "cell_type": "markdown",
      "id": "cb79fff5-f4fd-45db-a48e-c8581e0e5ad1",
      "metadata": {},
      "source": [
        "# 1: Load your data as an interactive table\n",
        "\n",
        "Load a sample dataset of notable ML publications (560 rows, 33 columns as of Aug 8 2023). Feel free to edit these variables to\n",
        "* load in your own Pandas DataFrame\n",
        "* load a different CSV file\n",
        "* modify the Google Sheets URL and sheet id to work with a different public spreadsheet"
      ]
    },
    {
      "cell_type": "code",
      "execution_count": null,
      "id": "8cf0eddd",
      "metadata": {},
      "outputs": [],
      "source": [
        "GOOGLE_SHEETS_URL = \"https://docs.google.com/spreadsheets/d/1AAIebjNsnJj_uKALHbXNfn3_YsT6sHXtCU0q7OIPuc4\"\n",
        "SHEET_ID = \"0\"\n",
        "CSV_SOURCE = f\"{GOOGLE_SHEETS_URL}/export?format=csv&gid={SHEET_ID}\""
      ]
    },
    {
      "cell_type": "code",
      "execution_count": null,
      "id": "c52f0700",
      "metadata": {},
      "outputs": [],
      "source": [
        "df = pd.read_csv(CSV_SOURCE)\n",
        "df.head()"
      ]
    },
    {
      "cell_type": "markdown",
      "id": "6e48d6d1-e935-4244-b9ea-500fdb18e0bd",
      "metadata": {},
      "source": [
        "View an interactive panel with your data in one line [1]. As with any Weave Table Panel, you can sort or group by any column to explore and build some intuition for the dataset."
      ]
    },
    {
      "cell_type": "code",
      "execution_count": null,
      "id": "c1e62e5a-6a56-4581-a8e6-4f5d3bcc4d0e",
      "metadata": {},
      "outputs": [],
      "source": [
        "show(df)"
      ]
    },
    {
      "cell_type": "markdown",
      "id": "ad96850c-93e7-4b1f-a479-1e4f3655aebc",
      "metadata": {
        "scrolled": true
      },
      "source": [
        "# 2: Plot the data in Weave\n",
        "\n",
        "You can convert any Weave Table into a **Weave Plot**. Change the panel type in the expression at the top of the panel from `table` to `plot`:\n",
        "\n",
        "<img src=\"https://raw.githubusercontent.com/wandb/weave/master/docs/assets/panelplot_usage/in_notebook_plot_convert.gif\">\n",
        "\n",
        "Weave infers a reasonable view of your data based on the column types:\n",
        "* two numerical columns x and y become the scatter plot axes\n",
        "* each row is rendered as an (x, y) point on the resulting 2D grid, with a tooltip showing details on hover\n",
        "* if available, the first string-type column becomes the label / the color shown in the legend.\n",
        "\n",
        "Before we dive into the detailed customization of a Weave Plot, how can we build with and iterate on this starter plot?\n",
        "\n",
        "## Full-screen a plot: Open as a Weave Board\n",
        "\n",
        "If you want more visual space or screen real estate to explore&mdash;zoom into details, zoom out for more context, iterate on multiple panel views in parallel&mdash;open any Weave Panel in a new browser tab. Mouse over the right-hand side and select \"Open in a new tab\"\n",
        "<img src=\"https://raw.githubusercontent.com/wandb/weave/master/docs/assets/panelplot_usage/open_nb_new_tab.png\" width=\"75%\"/>\n",
        "\n",
        "## Multiple views in parallel: Refer to source data as you customize the plot\n",
        "\n",
        "Duplicate a panel so you can keep one copy in the `table` state and convert the second into a `plot`: click on the horizontal three-dot icon in the top right corner and select \"Duplicate\".\n",
        "\n",
        "<img src=\"https://raw.githubusercontent.com/wandb/weave/master/docs/assets/panelplot_usage/small_dup_to_plot.png\" width=\"75%\"/>\n",
        "\n",
        "## Resize one panel to adjust layout & iterate incrementally\n",
        "\n",
        "Combine these UX moves to iterate quickly on a neat layout: duplicate panels, resize one panel from a corner to a smaller portion of the grid to accommodate more panels, and independently modify individual panels until you're happy with the latest version.\n",
        "<img src=\"https://raw.githubusercontent.com/wandb/weave/master/docs/assets/panelplot_usage/open_plot_split.gif\">\n",
        "\n",
        "Try the whole process starting from the single Table panel below:"
      ]
    },
    {
      "cell_type": "code",
      "execution_count": null,
      "id": "b85268d4-ef89-4bf5-9aed-2b8650fcd701",
      "metadata": {},
      "outputs": [],
      "source": [
        "show(df)"
      ]
    },
    {
      "cell_type": "markdown",
      "id": "16cc1620-4d10-41a1-9220-55ca238d5015",
      "metadata": {},
      "source": [
        "# 3. Explore a plot with zoom and interactive selection\n",
        "\n",
        "Interactively explore PanelPlot data with zoom and region highlighting (subset selection):\n",
        "\n",
        "## Zoom level: Click + drag to zoom into a seleted rectangle, double-click to reset\n",
        "To zoom into a region of the plot:\n",
        "* click on the magnifying glass icon in the bottom right corner\n",
        "* click, hold, and drag to select a set of points&mdash;a gray rectangle shows the active selected region\n",
        "* optionally repeat as you find new/different points of interest\n",
        "* double-click anywhere on the plot area to reset to the original zoom level\n",
        "\n",
        "## Selected data: Use the .selected_data Weave op to show point details\n",
        "To see the full row details for selected points:\n",
        "* given one plot panel named `panelN`, create another `panelN+1` and enter `panelN.selected_data` as the new panel's expression. `PanelN+1` will now show any points highlighted in `panelN`\n",
        "* to select points from `panelN`, first click on the pointer icon in the bottom right corner of `panelN`\n",
        "* click, hold, and drag to select a set of points in `panelN`&mdash;a gray rectangle shows the active selected region\n",
        "* view the full details for those points in panelN+1\n",
        "\n",
        "<img src=\"https://raw.githubusercontent.com/wandb/weave/master/docs/assets/panelplot_usage/selected_data_horiz.png\">\n",
        "\n",
        "# 4. Customize Weave Plots: Choose columns or compose Weave expressions\n",
        "\n",
        "Weave plot panels for scatter, line, and bar charts share most of their configuration parameters. To customize a Weave Plot, click on the `Edit` pencil icon in the top right corner to open the settings menu.\n",
        "\n",
        "## X axis & Y axis\n",
        "\n",
        "Define the X and Y dimensions of a plot:\n",
        "* choose a column from your source data:`row[\"your column name here\"]` (with helpful suggestions in the dropdown showing available column names as you type)\n",
        "* further customize the Weave expression using arithmetic (`row[\"x\"] * 2`), combined columns (`row[\"a\"] + row[\"b\"]`), or more advanced Weave ops (`row[\"cost_per_month\"].avg`)\n",
        "\n",
        "Try modifying the X and Y of the starter plot: for example, is there a correlation between publication impact (citations) and compute costs? Try setting X = `row[\"Training compute cost (2020 USD)\"]` and Y = `row[\"Citations\"]`\n",
        " \n",
        "## Colors\n",
        "\n",
        "Point color is set by one of two input methods:\n",
        "* default `Enter a Weave Expression` method: takes the [tableau10 color palette](https://vega.github.io/vega/docs/schemes/#tableau10) and cycles its 10 colors over the distinct values of the result of the Weave Expression, e.g the values of a string column. In our sample plot, the `Color` field defaults to `row[\"System\"]`, and the legend in the top right of the plot shows the [tableau10 colors]((https://vega.github.io/vega/docs/schemes/#tableau10)) repeating over the full list of unique \"System\" names in the source data. Try editing this to `row[\"Domain\"]` to see publication trends by field (the Games and Language models seem to have the highest compute costs).\n",
        "* `Select via Dropdown` -> `Encode from series` : this option defaults to one blue color for a single series, and otherwise cycles through the same tableau10 color palette for multiple series\n",
        "\n",
        "## Tooltip\n",
        "\n",
        "The tooltip field determines the content displayed when the mouse hovers over a data point. This defaults to a subset of columns from the underlying Weave Table and can be configured via Weave Expression to select one or more columns and optionally link them with string literals for readability/formatting. The following expression might be a useful summary for our sample data to show the authors and date for each model in addition to the system name: `row[\"System\"] + \" - \" + row[\"Authors\"] + \"; \" + row[\"Publication date\"]`\n",
        "\n",
        "## Labels\n",
        "\n",
        "This menu (at the very bottom of the plot settings) optionally sets the titles of the X axis, Y axis, and Color legend to the provided text. In our sample, we might condense the X axis title to \"Compute cost\", expand the Color legend title as \"ML task type\", etc.\n",
        "\n",
        "Here is a [sample side-by-side Weave Board](https://weave.wandb.ai/?exp=get%28%0A++++%22wandb-artifact%3A%2F%2F%2Fstacey%2Fpivot%2Fdefault_plot_with_mods%3Alatest%2Fobj%22%29) of the default starter plot and the final state with all the above modifications (note that the tooltip appears to the bottom right of the cursor/corresponds to the point on the upper left corner of the textbox)\n",
        "<img src=\"https://raw.githubusercontent.com/wandb/weave/master/docs/assets/panelplot_usage/side_by_side_plot.png\">\n",
        "\n",
        "## Multiple series\n",
        "\n",
        "Use the \"New Series +\" button to add one or more series of points. You can treat each of the Series 1, 2, 3... in a plot as an independent group/collection of settings with a separate instance of the specifications described above. When a plot contains multiple series, all of the series are overlayed/rendered on the same plot area when visualized and their settings combined in the legend/titles/etc. With our sample dataset, we may want to configure a different series/visual settings for each domain: language models in one series, computer vision in another, etc.\n",
        "\n",
        "## Advanced configuration\n",
        "\n",
        "### Switch linear scale to log scale\n",
        "\n",
        "There are two ways to convert a plot axis to log scale:\n",
        "\n",
        "1. Use the **Advanced properties editor**: click the pencil \"edit\" icon on a plot to expand the config menu on the right, then select \"Advanced properties\" at the end of the first 'Properties\" section. Set x- and y- axes to be log scale instead of linear in the dropdown menu.\n",
        "\n",
        "2. Convert the Weave expression to **log base 10 mathematically**: e.g. convert `row[\"Parameters\"]` to `row[\"Parameters\"] ** 0.1`. This will not adust the grid scale markers like the first option, but it will apply to any expression/dimension (not only x- and y- axes) and can be easier to try in the flow of editing charts.\n",
        "<img src=\"https://raw.githubusercontent.com/wandb/weave/master/docs/assets/panelplot_usage/log_scale_example.png\">\n",
        "\n",
        "### Filter source data to remove outliers\n",
        "\n",
        "Sometimes a log scale or zooming in is still insufficient. You can remove outliers by filtering the input data based on a range of column values. Use the `.filter` Weave op on the `Input` field to plot only the points that meet the specified condition. For example, compare the default starter plot with dropping any models that have >= 1e12 parameters:\n",
        "<img src=\"https://raw.githubusercontent.com/wandb/weave/master/docs/assets/panelplot_usage/advanced_filter.png\">\n",
        "\n",
        "Try editing some of these settings from the Table below:"
      ]
    },
    {
      "cell_type": "code",
      "execution_count": null,
      "id": "4b56735b-f35f-4bb7-bcb6-ce315a16ba30",
      "metadata": {},
      "outputs": [],
      "source": [
        "show(df)"
      ]
    },
    {
      "cell_type": "markdown",
      "id": "dd71e9f7-9c37-440b-8acf-7997baa60065",
      "metadata": {},
      "source": [
        "# 5. Scatter plot: Customize point shape and size via explicit assignment or enumeration over option list\n",
        "\n",
        "The `Mark` setting intially determines the plot style: scatter plot, line plot, bar chart, etc. This defaults to \"auto\" and picks the best option based on the incoming data types. If `Mark` is set explicitly to `point`, this reveals controls for the shape and size of the points.\n",
        "\n",
        "## Point shape\n",
        "\n",
        "* defaults to \"Enter a Weave Expression\": as with the other config fields, write a Weave Expression that returns a list, where each distinct option in that list will cycle throught the built-in list of shape options\n",
        "* \"Select via dropdown\" -> \"circle\", \"square\", \"cross\", \"diamond\", etc: this input method sets a specific literal point shape from the list of available options\n",
        "* \"Select via dropdown\" -> \"Encode from series\": cycle the shape options over the multiple series in the plot\n",
        "\n",
        "In our example scenario, we could look at how compute sponsorship compares for notable papers: set `Shape` to `row[\"Compute Sponsor Categorization\"]` and observe circles for academia and squares for industry.\n",
        "\n",
        "## Point size (with  approximately-bucketed enumeration)\n",
        "\n",
        "* default 100 / user-specified number: point size for scatter plots defaults to 100 and can be set to any other numerical value [2]\n",
        "* Weave expression: as in other settings, the list of distinct values resulting from the user-specified Weave expression will cycle through five perceptually-distinguishable point sizes from smallest to larges\n",
        "\n",
        "In this sample plot, try log-scaling point size with compute costs: set `Size` to `row[\"Training compute cost (2020 USD)\"] ** 0.1`. \n",
        "\n",
        "### Combining all of these suggestions\n",
        "\n",
        "Here's a static view of the original plot with the modifications described&mdash;one more chance to try the fully-interactive and customizable version below\n",
        "<img src=\"https://raw.githubusercontent.com/wandb/weave/panel_plot_ref/docs/assets/panelplot_usage/shape_size_change.png\">"
      ]
    },
    {
      "cell_type": "code",
      "execution_count": null,
      "id": "06b8483f-1db0-4c2d-a27d-e0592a6ce160",
      "metadata": {},
      "outputs": [],
      "source": [
        "show(df)"
      ]
    },
    {
      "cell_type": "markdown",
      "id": "cfc8055c-0406-4b4c-a545-11f8c870d2d4",
      "metadata": {},
      "source": [
        "# 6. Inspiration for many possible data exploration workflows\n",
        "\n",
        "Weave is a maximally general toolkit, and the path of any interactive visual exploration will depend on the data, context, interests, goals, etc. We've described the main options and useful features of Weave Plot to both illustrate concrete steps and hopefully spark your own questions and insights. In follow-up tutorials, we will cover settings specific to line plots and bar charts. We'd love to hear if you discover something interesting in this or your own iterations!\n",
        "\n",
        "# 7. End notes\n",
        "\n",
        "## [1] Viewing data in Weave\n",
        "\n",
        "When starting with a Pandas DataFrame, you have two options for getting data into Weave:\n",
        "\n",
        "### weave.show(my_dataframe)\n",
        "\n",
        "`weave.show(my_dataframe)` returns an interactive Weave Panel with the Pandas DataFrame as a Table. This is the fastest and simplest way to load an interactive panel with your data.\n",
        "\n",
        "### weave.save(weave.from_pandas(my_dataframe), name=\"my_dataframe\")\n",
        "\n",
        "If you'd like to save the DataFrame as a local object, first wrap it a in format Weave can parse using the `weave.from_pandas` op:\n",
        "\n",
        "```python\n",
        "my_data = weave.save(weave.from_pandas(dataframe), name=\"my_dataframe\")\n",
        "my_data\n",
        "```\n",
        "\n",
        "## [2] Configuring point size\n",
        "\n",
        "Point size is currently \"perceptually clamped\" to around five distinguishable sizes: tiny, small, medium, larger, largest. Increasing/decreasing the literal number will not perceptually increase the biggest points or add more perceptible gradations of size. It may make the smallest points effectively invisible."
      ]
    }
  ],
  "metadata": {
    "kernelspec": {
      "display_name": "Python 3 (ipykernel)",
      "language": "python",
      "name": "python3"
    },
    "language_info": {
      "codemirror_mode": {
        "name": "ipython",
        "version": 3
      },
      "file_extension": ".py",
      "mimetype": "text/x-python",
      "name": "python",
      "nbconvert_exporter": "python",
      "pygments_lexer": "ipython3",
      "version": "3.9.7"
    }
  },
  "nbformat": 4,
  "nbformat_minor": 5
}
