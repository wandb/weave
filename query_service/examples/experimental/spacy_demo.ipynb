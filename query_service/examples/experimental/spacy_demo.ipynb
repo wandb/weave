{
  "cells": [
    {
      "cell_type": "code",
      "execution_count": null,
      "id": "cd35f2be",
      "metadata": {},
      "outputs": [],
      "source": [
        "# Run the following installation if you have not already\n",
        "#!python -m spacy download en_core_web_sm"
      ]
    },
    {
      "cell_type": "code",
      "execution_count": null,
      "id": "ede77c85",
      "metadata": {},
      "outputs": [],
      "source": [
        "from weave.legacy.weave.ecosystem.spacy import spacy\n",
        "\n",
        "text = \"\"\"Welcome to the spaCy Demo.\\\n",
        "We currently support the small English language model, \\\n",
        "and will add support for different types in the near future!\"\"\"\n",
        "\n",
        "spacy(text)"
      ]
    }
  ],
  "metadata": {
    "kernelspec": {
      "display_name": "Python 3 (ipykernel)",
      "language": "python",
      "name": "python3"
    },
    "language_info": {
      "codemirror_mode": {
        "name": "ipython",
        "version": 3
      },
      "file_extension": ".py",
      "mimetype": "text/x-python",
      "name": "python",
      "nbconvert_exporter": "python",
      "pygments_lexer": "ipython3",
      "version": "3.9.9"
    }
  },
  "nbformat": 4,
  "nbformat_minor": 5
}
