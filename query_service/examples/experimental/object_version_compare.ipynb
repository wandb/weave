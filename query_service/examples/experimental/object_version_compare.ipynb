{
  "cells": [
    {
      "cell_type": "code",
      "execution_count": null,
      "id": "e114a840",
      "metadata": {},
      "outputs": [],
      "source": [
        "import math\n",
        "import weave\n",
        "import typing"
      ]
    },
    {
      "cell_type": "code",
      "execution_count": null,
      "id": "47ae117d",
      "metadata": {},
      "outputs": [],
      "source": [
        "@weave.op(render_info={'type': 'function'})\n",
        "def weave_range(n: int) -> list[int]:\n",
        "    return list(range(n))\n",
        "\n",
        "class Point(typing.TypedDict):\n",
        "    x: float\n",
        "    y: float\n",
        "\n",
        "@weave.op()\n",
        "def compute_points(xs: list[int], freq: float) -> list[Point]:\n",
        "    res: list[Point] = []\n",
        "    for x in xs:\n",
        "        res.append({\"x\": x, \"y\": math.sin(freq * x)})\n",
        "    return res"
      ]
    },
    {
      "cell_type": "code",
      "execution_count": null,
      "id": "e6db91c9",
      "metadata": {},
      "outputs": [],
      "source": [
        "xs = weave_range(1000)\n",
        "points = compute_points(xs, 0.16)\n",
        "points = weave.save(points, 'points')"
      ]
    },
    {
      "cell_type": "code",
      "execution_count": null,
      "id": "5c88c35e",
      "metadata": {},
      "outputs": [],
      "source": [
        "plot = weave.legacy.weave.panels.Plot(points,\n",
        "                         x=lambda row: row['x'],\n",
        "                         y=lambda row: row['y'])\n",
        "plot\n",
        "\n",
        "# NOTE! There is a UI bug here. You need to click the gear icon and\n",
        "#     then \"Reset & Automate Plot\" -> \"OK\" to make it render correctly"
      ]
    },
    {
      "cell_type": "code",
      "execution_count": null,
      "id": "db404b2e",
      "metadata": {},
      "outputs": [],
      "source": [
        "for version in weave.versions(points):\n",
        "    print(weave.expr(version))"
      ]
    },
    {
      "cell_type": "code",
      "execution_count": null,
      "id": "caa2daef",
      "metadata": {},
      "outputs": [],
      "source": [
        "plot = weave.legacy.weave.panels.Plot(weave.legacy.weave.ops.compare_versions(points))\n",
        "plot.set_x(lambda row: row['x'])\n",
        "plot.set_y(lambda row: row['y'])\n",
        "plot.set_label(lambda row: row['version'])\n",
        "weave.show(plot)\n",
        "\n",
        "# NOTE! There is a UI bug here. You need to click the gear icon and\n",
        "#     then \"Reset & Automate Plot\" -> \"OK\" to make it render correctly"
      ]
    }
  ],
  "metadata": {
    "kernelspec": {
      "display_name": "Python 3 (ipykernel)",
      "language": "python",
      "name": "python3"
    },
    "language_info": {
      "codemirror_mode": {
        "name": "ipython",
        "version": 3
      },
      "file_extension": ".py",
      "mimetype": "text/x-python",
      "name": "python",
      "nbconvert_exporter": "python",
      "pygments_lexer": "ipython3",
      "version": "3.9.7"
    }
  },
  "nbformat": 4,
  "nbformat_minor": 5
}
