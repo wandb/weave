{
  "cells": [
    {
      "cell_type": "code",
      "execution_count": null,
      "id": "2088ebdf",
      "metadata": {},
      "outputs": [],
      "source": [
        "# weave-test-skip-all: The craiyon API takes at least 60s per prediction!\n",
        "import weave"
      ]
    },
    {
      "cell_type": "code",
      "execution_count": null,
      "id": "b6e6882b",
      "metadata": {},
      "outputs": [],
      "source": [
        "from weave.legacy.weave.ecosystem import craiyon\n",
        "craiyon.generate('hello')"
      ]
    },
    {
      "cell_type": "code",
      "execution_count": null,
      "id": "3322e1c5",
      "metadata": {},
      "outputs": [],
      "source": [
        "prompts = ['cats', 'dogs', 'catdogs']\n",
        "panel = weave.legacy.weave.panels.Table(prompts,\n",
        "                           columns=[\n",
        "                               lambda prompt: prompt,\n",
        "                               lambda prompt: craiyon.generate(prompt)\n",
        "                           ]\n",
        "                          )\n",
        "weave.show(panel)"
      ]
    }
  ],
  "metadata": {
    "kernelspec": {
      "display_name": "Python 3 (ipykernel)",
      "language": "python",
      "name": "python3"
    }
  },
  "nbformat": 4,
  "nbformat_minor": 5
}
