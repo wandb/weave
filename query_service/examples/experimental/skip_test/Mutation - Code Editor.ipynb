{
  "cells": [
    {
      "cell_type": "code",
      "execution_count": null,
      "id": "b856b674",
      "metadata": {},
      "outputs": [],
      "source": [
        "import weave\n",
        "weave.use_frontend_devmode()\n",
        "weave.capture_weave_server_logs()"
      ]
    },
    {
      "cell_type": "markdown",
      "id": "e056ac84",
      "metadata": {},
      "source": [
        "Run the cell below, then click the gear icon to change to TextEditor. Your changes will be reflected in train.py"
      ]
    },
    {
      "cell_type": "code",
      "execution_count": null,
      "id": "c71000cc",
      "metadata": {},
      "outputs": [],
      "source": [
        "weave.legacy.weave.ops.local_path('../weave/testdata/train.py')"
      ]
    }
  ],
  "metadata": {
    "kernelspec": {
      "display_name": "Python 3 (ipykernel)",
      "language": "python",
      "name": "python3"
    },
    "language_info": {
      "codemirror_mode": {
        "name": "ipython",
        "version": 3
      },
      "file_extension": ".py",
      "mimetype": "text/x-python",
      "name": "python",
      "nbconvert_exporter": "python",
      "pygments_lexer": "ipython3",
      "version": "3.9.7"
    }
  },
  "nbformat": 4,
  "nbformat_minor": 5
}
