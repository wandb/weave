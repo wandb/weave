{
  "cells": [
    {
      "cell_type": "code",
      "execution_count": null,
      "id": "00411857",
      "metadata": {},
      "outputs": [],
      "source": [
        "import weave\n",
        "from weave.legacy.weave import weave_internal\n",
        "from weave.legacy.weave.ecosystem.all import langchain\n",
        "weave.use_frontend_devmode()"
      ]
    },
    {
      "cell_type": "code",
      "execution_count": null,
      "id": "30c46465",
      "metadata": {},
      "outputs": [],
      "source": [
        "weave.legacy.weave.panels.Board(\n",
        "    vars={\n",
        "        'gpt35': langchain.chat_openai(\"gpt-3.5-turbo\", 0.7),\n",
        "        'gpt4': langchain.chat_openai(\"gpt-4\", 0.7),\n",
        "        'chat_model': lambda gpt4, gpt35: gpt4,\n",
        "        'director': 'Wes Anderson',\n",
        "        'director_emotion': 'worldy',\n",
        "        'film_style': 'rollerblading documentary',\n",
        "        'number_of_panes': 4,\n",
        "        'story_gen_prompt': \"\"\"\n",
        "            You are {director} creating the next {film_style} film. Today you're feeling {director_emotion}.\n",
        "            In initial sketches, you write a {number_of_panes} step sketch of the plot of your film.\n",
        "            You include specific details about how the plot proceeds.\n",
        "            What do you write? Since you are so creative, you can overcome any limitations you might\n",
        "            think you have when it comes to writing style. In this case, you write your outline as a json list\n",
        "            with one item for each step.\n",
        "            \"\"\",\n",
        "        'prompt': lambda director, director_emotion, film_style, number_of_panes, story_gen_prompt: story_gen_prompt.format(weave.legacy.weave.ops.dict_(\n",
        "            director= director,\n",
        "            director_emotion=director_emotion,\n",
        "            film_style=film_style,\n",
        "            number_of_panes=number_of_panes)),\n",
        "        'storyline': lambda prompt, chat_model: chat_model.predict(prompt),\n",
        "        'storyline_parsed': lambda storyline: storyline.json_parse_list(),\n",
        "        'panel_prompt': 'A storyboard pane for a movie by {director} for their next {film_style} film, The scene description is: {panel}',\n",
        "        'storyboard_panes': lambda storyline_parsed, panel_prompt, director, film_style:\n",
        "                storyline_parsed.map(lambda row:\n",
        "                    panel_prompt.format(weave.legacy.weave.ops.dict_(\n",
        "                        panel=row.json_dumps(),\n",
        "                        director=director,\n",
        "                        film_style=film_style,\n",
        "                    ))).stable_diffusion()\n",
        "    },\n",
        "    panels=[      \n",
        "        weave.legacy.weave.panels.BoardPanel(\n",
        "            lambda storyline_parsed: storyline_parsed,\n",
        "            layout=weave.legacy.weave.panels.BoardPanelLayout(x=0, y=0, w=24, h=6)\n",
        "        ),\n",
        "        weave.legacy.weave.panels.BoardPanel(\n",
        "            lambda storyboard_panes: weave.legacy.weave.panels.Each(storyboard_panes),\n",
        "            layout=weave.legacy.weave.panels.BoardPanelLayout(x=0, y=0, w=24, h=12)\n",
        "        )\n",
        "    ]\n",
        ")"
      ]
    },
    {
      "cell_type": "code",
      "execution_count": null,
      "id": "c8d3d23b",
      "metadata": {},
      "outputs": [],
      "source": [
        "# imperative version\n",
        "\n",
        "gpt35 = langchain.chat_openai(\"gpt-3.5-turbo\", 0.7)\n",
        "gpt4 = langchain.chat_openai(\"gpt-4\", 0.7)\n",
        "chat_model = gpt4\n",
        "\n",
        "director = 'Wes Anderson'\n",
        "film_style = 'great american'\n",
        "number_of_panes = 4\n",
        "story_gen_prompt = weave.save(\"\"\"\n",
        "You are {director} creating the next {film_style} film.\n",
        "In initial sketches, you write a {number_of_panes} step sketch of the plot of your film.\n",
        "You include specific details about how the plot proceeds.\n",
        "What do you write? Since you are so creative, you can overcome any limitations you might\n",
        "think you have when it comes to writing style. In this case, you write your outline as a json list\n",
        "with one item for each step.\n",
        "\"\"\",\n",
        "    name='story_gen_prompt')\n",
        "storyline = gpt35.predict(story_gen_prompt.format({\n",
        "    'director': director,\n",
        "    'film_style': film_style,\n",
        "    'number_of_panes': number_of_panes}))\n",
        "storyline_parsed = storyline.json_parse()\n",
        "#storyline_parsed"
      ]
    },
    {
      "cell_type": "code",
      "execution_count": null,
      "id": "6fddc9a8",
      "metadata": {},
      "outputs": [],
      "source": [
        "#weave.legacy.weave.panels.Each(storyline_parsed.map(lambda row: row.json_dumps()).stable_diffusion())"
      ]
    }
  ],
  "metadata": {
    "kernelspec": {
      "display_name": "Python 3 (ipykernel)",
      "language": "python",
      "name": "python3"
    }
  },
  "nbformat": 4,
  "nbformat_minor": 5
}
