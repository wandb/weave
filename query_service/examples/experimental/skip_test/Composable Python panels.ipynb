{
  "cells": [
    {
      "cell_type": "markdown",
      "id": "6f2db98c",
      "metadata": {},
      "source": [
        "## This demo is not currently working"
      ]
    },
    {
      "cell_type": "code",
      "execution_count": null,
      "id": "5b582daf",
      "metadata": {},
      "outputs": [],
      "source": [
        "import weave"
      ]
    },
    {
      "cell_type": "code",
      "execution_count": null,
      "id": "06ea5a95",
      "metadata": {},
      "outputs": [],
      "source": [
        "container = weave.legacy.weave.panels.Container()\n",
        "\n",
        "# A couple variables to hold our slider values (this is unnecessary boilerplate that I can\n",
        "# get rid of)\n",
        "var_a = container.config.add_variable('slider_value_a', weave.types.Number(), 5)\n",
        "var_b = container.config.add_variable('slider_value_b', weave.types.Number(), 19)\n",
        "\n",
        "# Create two sliders in the Container\n",
        "container.config.add_panel(\n",
        "    weave.legacy.weave.panels.Slider(input_node=var_a, config=weave.legacy.weave.panels.SliderConfig(0, 100, 0.1)))\n",
        "container.config.add_panel(\n",
        "    weave.legacy.weave.panels.Slider(input_node=var_b, config=weave.legacy.weave.panels.SliderConfig(-1000, 1000, 1)))\n",
        "\n",
        "# Use a Number panel to show the results of adding the two sliders together\n",
        "container.config.add_panel(\n",
        "    weave.legacy.weave.panels.Number(input_node=var_a + var_b)\n",
        ")"
      ]
    },
    {
      "cell_type": "code",
      "execution_count": null,
      "id": "9423cf32",
      "metadata": {},
      "outputs": [],
      "source": [
        "weave.show(container)"
      ]
    }
  ],
  "metadata": {
    "kernelspec": {
      "display_name": "Python 3 (ipykernel)",
      "language": "python",
      "name": "python3"
    },
    "language_info": {
      "codemirror_mode": {
        "name": "ipython",
        "version": 3
      },
      "file_extension": ".py",
      "mimetype": "text/x-python",
      "name": "python",
      "nbconvert_exporter": "python",
      "pygments_lexer": "ipython3",
      "version": "3.9.7"
    }
  },
  "nbformat": 4,
  "nbformat_minor": 5
}
