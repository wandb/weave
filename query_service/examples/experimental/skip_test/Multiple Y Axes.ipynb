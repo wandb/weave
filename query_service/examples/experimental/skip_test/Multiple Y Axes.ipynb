{
  "cells": [
    {
      "cell_type": "markdown",
      "id": "0903a3ef",
      "metadata": {},
      "source": [
        "## Using this notebook to develop multiple y axes on Panel Plot"
      ]
    },
    {
      "cell_type": "code",
      "execution_count": null,
      "id": "f6c524b9",
      "metadata": {},
      "outputs": [],
      "source": [
        "import weave\n",
        "import math\n",
        "import random\n",
        "weave.use_frontend_devmode()"
      ]
    },
    {
      "cell_type": "code",
      "execution_count": null,
      "id": "f8d46616",
      "metadata": {},
      "outputs": [],
      "source": [
        "# PanelPlot supports multiple Y axes. Create a table with one row per series, with lists of x and y values.\n",
        "data = []\n",
        "for run in ['a1', 'a2', 'b1', 'b2', 'b3', 'c1']:\n",
        "    for x in range(100):\n",
        "        data.append({\n",
        "            'group': run[0],\n",
        "            'run': run,\n",
        "            'step': x,\n",
        "            'acc': random.random(),\n",
        "        })\n",
        "        \n",
        "plot = weave.legacy.weave.panels.Plot(data)\n",
        "plot.set_x(lambda row: row['step'])\n",
        "plot.set_y(lambda row: row['acc'])\n",
        "plot.set_label(lambda row: row['run'])\n",
        "weave.show(plot)"
      ]
    },
    {
      "cell_type": "code",
      "execution_count": null,
      "id": "3d97c0fd",
      "metadata": {},
      "outputs": [],
      "source": [
        "# PanelPlot supports multiple Y axes. Create a table with one row per series, with lists of x and y values.\n",
        "data = []\n",
        "xs = [i / 1000.0 for i in range(0, 1000)]\n",
        "for series in range(3):\n",
        "  data.append({\n",
        "      'key': 'y%s' % series,\n",
        "      'x': xs,\n",
        "      'y': [math.sin(10 * x / (series+1)) for x in xs]\n",
        "  })\n",
        "plot = weave.legacy.weave.panels.Plot(data)\n",
        "plot.set_x(lambda row: row['x'])\n",
        "plot.set_y(lambda row: row['y'])\n",
        "plot.set_label(lambda row: row['key'])\n",
        "weave.show(plot)"
      ]
    },
    {
      "cell_type": "code",
      "execution_count": null,
      "id": "00fdefb5",
      "metadata": {},
      "outputs": [],
      "source": [
        "# Or you can unnest the data yourself (one row per point)\n",
        "data = []\n",
        "xs = [i / 1000.0 for i in range(0, 1000)]\n",
        "for series in range(3):\n",
        "    for x in xs:\n",
        "        data.append({\n",
        "            'key': 'y%s' % series,\n",
        "            'x': x,\n",
        "            'y': math.sin(10 * x / (series+1))\n",
        "        })\n",
        "plot = weave.legacy.weave.panels.Plot(data)\n",
        "plot.set_x(lambda row: row['x'])\n",
        "plot.set_y(lambda row: row['y'])\n",
        "plot.set_label(lambda row: row['key'])\n",
        "plot.set_mark('line')\n",
        "weave.show(plot)"
      ]
    },
    {
      "cell_type": "code",
      "execution_count": null,
      "id": "5f9b0741",
      "metadata": {},
      "outputs": [],
      "source": [
        "# If your series are column-oriented, you can use df.melt to orient the data to work with PanelPlot\n",
        "\n",
        "import pandas as pd\n",
        "df = pd.DataFrame()\n",
        "df['x'] = [i / 1000.0 for i in range(0, 1000)]\n",
        "df['y1'] = df['x'].map(lambda x: math.sin(10 * x / 1))\n",
        "df['y2'] = df['x'].map(lambda x: math.sin(10 * x / 2))\n",
        "df['y3'] = df['x'].map(lambda x: math.sin(10 * x / 3))\n",
        "\n",
        "# df.melt converts to a table with three columns: x, series, y\n",
        "df = df.melt(id_vars=['x'], value_vars=['y1', 'y2', 'y3'], var_name='series', value_name='y')\n",
        "\n",
        "multiple_y = df.to_dict('records')\n",
        "plot = weave.legacy.weave.panels.Plot(multiple_y)\n",
        "plot.set_x(lambda row: row['x'])\n",
        "plot.set_y(lambda row: row['y'])\n",
        "plot.set_label(lambda row: row['series'])\n",
        "plot.set_mark('line')\n",
        "weave.show(plot)"
      ]
    },
    {
      "cell_type": "code",
      "execution_count": null,
      "id": "07752656",
      "metadata": {},
      "outputs": [],
      "source": [
        "# Or, leave the table in columnar form, and return arrays of the values you want for each series for PanelPlot\n",
        "# x and label dimensions.\n",
        "\n",
        "# This relies on changes in this branch.\n",
        "\n",
        "# Note ExpressionEditor doesn't render list literals so it looks weird in the panel config. And we'll probably want\n",
        "# to make the config editor more helpful, so that you choose labels along-side each y axis choice, or so that\n",
        "# if you return a dict for Y we use the keys as the labels.\n",
        "\n",
        "import pandas as pd\n",
        "df = pd.DataFrame()\n",
        "df['x'] = [i / 100.0 for i in range(0, 100)]\n",
        "df['x1'] = [i / 100.0 for i in range(0, 100)]\n",
        "df['x2'] = [2 * i / 100.0 for i in range(0, 100)]\n",
        "df['x3'] = [3 * i / 100.0 for i in range(0, 100)]\n",
        "df['y1'] = df['x'].map(lambda x: math.sin(10 * x / 1))\n",
        "df['y2'] = df['x'].map(lambda x: math.sin(10 * x / 2))\n",
        "df['y3'] = df['x'].map(lambda x: math.sin(10 * x / 3))\n",
        "multiple_y = df.to_dict('records')\n",
        "\n",
        "plot = weave.legacy.weave.panels.Plot(multiple_y)\n",
        "plot.set_x(lambda row: row['x'])\n",
        "\n",
        "# Return lists for y and label\n",
        "plot.set_y(lambda row: [row['y1'], row['y2'], row['y3']])\n",
        "plot.set_label(lambda row: ['y1', 'y2', 'y3'])\n",
        "plot.set_mark('line')\n",
        "weave.show(plot)"
      ]
    }
  ],
  "metadata": {
    "kernelspec": {
      "display_name": "Python 3 (ipykernel)",
      "language": "python",
      "name": "python3"
    },
    "language_info": {
      "codemirror_mode": {
        "name": "ipython",
        "version": 3
      },
      "file_extension": ".py",
      "mimetype": "text/x-python",
      "name": "python",
      "nbconvert_exporter": "python",
      "pygments_lexer": "ipython3",
      "version": "3.9.7"
    }
  },
  "nbformat": 4,
  "nbformat_minor": 5
}
