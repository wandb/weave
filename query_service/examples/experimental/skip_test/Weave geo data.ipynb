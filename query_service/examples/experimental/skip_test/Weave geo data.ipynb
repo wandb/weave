{
  "cells": [
    {
      "cell_type": "code",
      "execution_count": null,
      "id": "8d5be6da",
      "metadata": {},
      "outputs": [],
      "source": [
        "import weave\n",
        "import pandas as pd\n",
        "from weave.legacy.weave.ecosystem import wandb\n",
        "weave.use_frontend_devmode()"
      ]
    },
    {
      "cell_type": "code",
      "execution_count": null,
      "id": "90518a5e",
      "metadata": {},
      "outputs": [],
      "source": [
        "data = pd.read_csv(\"/Users/shawn/code2/weave/database.csv\").to_dict(orient='records')\n",
        "data = data[:1000]\n",
        "weave.show(data)"
      ]
    },
    {
      "cell_type": "code",
      "execution_count": null,
      "id": "f643bb3f",
      "metadata": {},
      "outputs": [],
      "source": [
        "#wandb.Scatter(data, x_fn=lambda item: item[\"Longitude\"], y_fn=lambda item: item[\"Latitude\"])"
      ]
    },
    {
      "cell_type": "code",
      "execution_count": null,
      "id": "b94b992b",
      "metadata": {},
      "outputs": [],
      "source": [
        "# wandb.plotly_geo([\n",
        "#     {'lat': 35, 'long': 39, 'color': 0.1},\n",
        "#     {'lat': 19, 'long': 24, 'color': 100}])"
      ]
    },
    {
      "cell_type": "code",
      "execution_count": null,
      "id": "6b31859b",
      "metadata": {},
      "outputs": [],
      "source": [
        "#wandb.Geo(data)"
      ]
    },
    {
      "cell_type": "code",
      "execution_count": null,
      "id": "872cb8d0",
      "metadata": {},
      "outputs": [],
      "source": [
        "weave.legacy.weave.panels.Group(\n",
        "    items={\n",
        "        'geo': wandb.Geo(data,\n",
        "          x_fn=lambda item: item['Longitude'],\n",
        "          y_fn=lambda item: item[\"Latitude\"],\n",
        "          color_fn=lambda item: item[\"Magnitude\"]),\n",
        "        'table': lambda geo: weave.legacy.weave.panels.LabeledItem(\n",
        "            label='Selected items',\n",
        "            item=weave.legacy.weave.panels.Group(\n",
        "                style=\"height: 400px;\",\n",
        "                preferHorizontal=True,\n",
        "                items={\n",
        "                    'table': geo.selected()\n",
        "                }))\n",
        "    })\n"
      ]
    }
  ],
  "metadata": {
    "kernelspec": {
      "display_name": "Python 3 (ipykernel)",
      "language": "python",
      "name": "python3"
    },
    "language_info": {
      "codemirror_mode": {
        "name": "ipython",
        "version": 3
      },
      "file_extension": ".py",
      "mimetype": "text/x-python",
      "name": "python",
      "nbconvert_exporter": "python",
      "pygments_lexer": "ipython3",
      "version": "3.9.7"
    }
  },
  "nbformat": 4,
  "nbformat_minor": 5
}
