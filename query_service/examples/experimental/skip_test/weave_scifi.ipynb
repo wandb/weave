{
  "cells": [
    {
      "cell_type": "code",
      "execution_count": null,
      "id": "3c4790a9",
      "metadata": {},
      "outputs": [],
      "source": [
        "import weave\n",
        "from weave.legacy.weave import weave_internal\n",
        "from weave.legacy.weave.ecosystem.all import langchain\n",
        "weave.use_frontend_devmode()"
      ]
    },
    {
      "cell_type": "code",
      "execution_count": null,
      "id": "2e9fe6dd",
      "metadata": {},
      "outputs": [],
      "source": [
        "weave.legacy.weave.panels.Board(\n",
        "    vars={\n",
        "        \"gpt\": langchain.chat_openai(\"gpt-3.5-turbo\", 0.7),\n",
        "        \"viz_style\" : [\"vintage art deco travel poster\",\n",
        "                       \"futuristic science fiction movie\",\n",
        "                       \"cute retro space anime\"],\n",
        "        \"viz_id\" : 0,\n",
        "        \"num_rows\": 2,\n",
        "        \"ml_terms\" : [\"models\", \"datasets\"],\n",
        "        \"prompts\": \n",
        "            lambda gpt, num_rows, ml_terms:\n",
        "                weave.legacy.weave.ops.range(0, num_rows, 1).map(\n",
        "                    lambda row:\n",
        "                        gpt.predict(weave_internal.const(\"You are an expert AGI architect describing the most powerful and flexible user interface for working with \")\n",
        "                         + ml_terms[row] + \"in machine learning and AI. The three most important features for this are:\")\n",
        "      \n",
        "        ),\n",
        "        \"dream_view\":\n",
        "            lambda prompts, num_rows, viz_style, viz_id:\n",
        "                weave.legacy.weave.ops.range(0, num_rows, 1).map(\n",
        "                    lambda row: weave_internal.const(\"a \") + viz_style[viz_id] + \" of a \" + prompts[row]).stable_diffusion(),\n",
        "    },\n",
        "    panels=[\n",
        "        weave.legacy.weave.panels.BoardPanel(\n",
        "            lambda prompts: weave.legacy.weave.panels.Table(prompts, columns=[lambda col: col]),\n",
        "            layout=weave.legacy.weave.panels.BoardPanelLayout(x=0, y=0, w=12, h=16)\n",
        "        ),\n",
        "        weave.legacy.weave.panels.BoardPanel(\n",
        "            lambda dream_view: weave.legacy.weave.panels.Table(dream_view, columns=[lambda col: col]),\n",
        "            layout=weave.legacy.weave.panels.BoardPanelLayout(x=12, y=0, w=12, h=16)\n",
        "        ),\n",
        "    ]\n",
        ")"
      ]
    }
  ],
  "metadata": {
    "kernelspec": {
      "display_name": "Python 3 (ipykernel)",
      "language": "python",
      "name": "python3"
    },
    "language_info": {
      "codemirror_mode": {
        "name": "ipython",
        "version": 3
      },
      "file_extension": ".py",
      "mimetype": "text/x-python",
      "name": "python",
      "nbconvert_exporter": "python",
      "pygments_lexer": "ipython3",
      "version": "3.9.9"
    }
  },
  "nbformat": 4,
  "nbformat_minor": 5
}
