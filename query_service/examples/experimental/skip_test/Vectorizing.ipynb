{
  "cells": [
    {
      "cell_type": "code",
      "execution_count": null,
      "id": "5f10d941",
      "metadata": {},
      "outputs": [],
      "source": [
        "import weave\n",
        "import time\n",
        "from weave.legacy.weave import storage\n",
        "from weave.legacy.weave.ops_primitives import geom"
      ]
    },
    {
      "cell_type": "code",
      "execution_count": null,
      "id": "9f3026bd",
      "metadata": {},
      "outputs": [],
      "source": [
        "segs = []\n",
        "for i in range(1000000):\n",
        "    segs.append(geom.LineSegment(i*0.1, i+0.2, i+0.3, i*0.5))\n",
        "l = weave.save(segs)\n",
        "arr = weave.legacy.weave.ops.ArrowArrayList(storage.to_arrow(segs))"
      ]
    },
    {
      "cell_type": "code",
      "execution_count": null,
      "id": "7544d866",
      "metadata": {},
      "outputs": [],
      "source": [
        "# pure python\n",
        "start_time = time.time()\n",
        "sum(seg.length.resolve_fn(seg) for seg in segs)\n",
        "print('TIME: ', time.time() - start_time)"
      ]
    },
    {
      "cell_type": "code",
      "execution_count": null,
      "id": "11c2a9b6",
      "metadata": {},
      "outputs": [],
      "source": [
        "# weave list\n",
        "start_time = time.time()\n",
        "weave.use(l.map(lambda seg: seg.length()).sum())\n",
        "print('TIME: ', time.time() - start_time)"
      ]
    },
    {
      "cell_type": "code",
      "execution_count": null,
      "id": "71816731",
      "metadata": {},
      "outputs": [],
      "source": [
        "# weave vectorized arrow\n",
        "start_time = time.time()\n",
        "weave.use(arr.map(lambda seg: seg.length()).sum())\n",
        "print('TIME: ', time.time() - start_time)"
      ]
    }
  ],
  "metadata": {
    "kernelspec": {
      "display_name": "Python 3 (ipykernel)",
      "language": "python",
      "name": "python3"
    },
    "language_info": {
      "codemirror_mode": {
        "name": "ipython",
        "version": 3
      },
      "file_extension": ".py",
      "mimetype": "text/x-python",
      "name": "python",
      "nbconvert_exporter": "python",
      "pygments_lexer": "ipython3",
      "version": "3.9.7"
    }
  },
  "nbformat": 4,
  "nbformat_minor": 5
}
