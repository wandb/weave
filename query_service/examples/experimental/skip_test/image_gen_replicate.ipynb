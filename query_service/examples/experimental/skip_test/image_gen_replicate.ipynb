{
  "cells": [
    {
      "cell_type": "markdown",
      "id": "a1d79cb9",
      "metadata": {},
      "source": [
        "# Image Generation with Replicate\n",
        "\n",
        "Convert a text prompt to an image and back to text with img2prompt or clip captioning."
      ]
    },
    {
      "cell_type": "code",
      "execution_count": null,
      "id": "7c49c962",
      "metadata": {},
      "outputs": [],
      "source": [
        "# weave-test-skip-all: replicate API is slow and fails sometimes\n",
        "import os\n",
        "from weave.legacy.weave.ecosystem import replicate as weave_replicate"
      ]
    },
    {
      "cell_type": "code",
      "execution_count": null,
      "id": "38f878f2",
      "metadata": {},
      "outputs": [],
      "source": [
        "weave_replicate.stable_diffusion(\"Your life is a sheep herd. You're the driver.\")"
      ]
    },
    {
      "cell_type": "code",
      "execution_count": null,
      "id": "6e848393",
      "metadata": {},
      "outputs": [],
      "source": [
        "weave_replicate.img2prompt(weave_replicate.stable_diffusion(\"Your life is a sheep herd. You're the driver.\"))"
      ]
    },
    {
      "cell_type": "code",
      "execution_count": null,
      "id": "50596314",
      "metadata": {},
      "outputs": [],
      "source": [
        "weave_replicate.clip_prefix_caption(weave_replicate.stable_diffusion(\"Your life is a sheep herd. You're the driver.\"))"
      ]
    }
  ],
  "metadata": {
    "kernelspec": {
      "display_name": "Python 3 (ipykernel)",
      "language": "python",
      "name": "python3"
    },
    "language_info": {
      "codemirror_mode": {
        "name": "ipython",
        "version": 3
      },
      "file_extension": ".py",
      "mimetype": "text/x-python",
      "name": "python",
      "nbconvert_exporter": "python",
      "pygments_lexer": "ipython3",
      "version": "3.9.7"
    }
  },
  "nbformat": 4,
  "nbformat_minor": 5
}
