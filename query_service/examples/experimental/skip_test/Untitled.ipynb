{
  "cells": [
    {
      "cell_type": "code",
      "execution_count": null,
      "id": "5ca8d4be",
      "metadata": {},
      "outputs": [],
      "source": [
        "import csv\n",
        "import weave"
      ]
    },
    {
      "cell_type": "code",
      "execution_count": null,
      "id": "492a6655",
      "metadata": {},
      "outputs": [],
      "source": [
        "#help(csv.reader)\n",
        "# reader = csv.reader(open('/Users/shawn/Downloads/wandb_export_2023-03-30T15_21_00.493-04_00.csv'))\n",
        "# for row in reader:\n",
        "#     print(row)\n",
        "#help(csv.reader)\n",
        "weave.legacy.weave.ops.local_path('/Users/shawn/code2/weave/weave/testdata/cereal.csv').readcsv()"
      ]
    }
  ],
  "metadata": {
    "kernelspec": {
      "display_name": "Python 3 (ipykernel)",
      "language": "python",
      "name": "python3"
    },
    "language_info": {
      "codemirror_mode": {
        "name": "ipython",
        "version": 3
      },
      "file_extension": ".py",
      "mimetype": "text/x-python",
      "name": "python",
      "nbconvert_exporter": "python",
      "pygments_lexer": "ipython3",
      "version": "3.9.7"
    }
  },
  "nbformat": 4,
  "nbformat_minor": 5
}
