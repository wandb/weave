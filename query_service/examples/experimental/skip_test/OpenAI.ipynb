{
  "cells": [
    {
      "cell_type": "code",
      "execution_count": null,
      "id": "94f2344d",
      "metadata": {},
      "outputs": [],
      "source": [
        "import weave\n",
        "from weave.legacy.weave.ecosystem import openai"
      ]
    },
    {
      "cell_type": "code",
      "execution_count": null,
      "id": "1abed8ce",
      "metadata": {},
      "outputs": [],
      "source": [
        "# Construct a dataset, we'll see if GPT-3 can do simple arithmetic\n",
        "data = []\n",
        "for i in range (101):\n",
        "    a = i\n",
        "    b = i % 9\n",
        "    r = a + b\n",
        "    data.append({'id': i, 'prompt': '%s + %s =' % (a, b), 'completion': ' %s<end>' % r})\n",
        "data = weave.save(data, name='openai-dataset')\n",
        "data"
      ]
    },
    {
      "cell_type": "code",
      "execution_count": null,
      "id": "348d63f0",
      "metadata": {},
      "outputs": [],
      "source": [
        "# Fine tune gpt-3 on our dataset.\n",
        "\n",
        "# Change this to \"openai.finetune_gpt3\" to run a real OpenAI fine-tune job\n",
        "fine_tune = openai.finetune_gpt3_demo(data, {'n_epochs' : 2})\n",
        "fine_tune"
      ]
    },
    {
      "cell_type": "code",
      "execution_count": null,
      "id": "fe3d0872",
      "metadata": {},
      "outputs": [],
      "source": [
        "model = fine_tune.model()\n",
        "model = weave.save(model, name='openai-model')"
      ]
    },
    {
      "cell_type": "code",
      "execution_count": null,
      "id": "7d656075",
      "metadata": {},
      "outputs": [],
      "source": [
        "# Show all the models we've trained, and \n",
        "for version in weave.versions(model):\n",
        "    print(weave.expr(version))"
      ]
    },
    {
      "cell_type": "code",
      "execution_count": null,
      "id": "89bebbff",
      "metadata": {},
      "outputs": [],
      "source": [
        "# make some predictions using our new model\n",
        "\n",
        "panel = weave.legacy.weave.panels.Table(['1 + 9 =', '2 + 14 ='])\n",
        "panel.table_query.add_column(lambda row: row)\n",
        "panel.table_query.add_column(lambda row: model.complete(row)['choices'][0]['text'])\n",
        "weave.show(panel)"
      ]
    }
  ],
  "metadata": {
    "kernelspec": {
      "display_name": "Python 3 (ipykernel)",
      "language": "python",
      "name": "python3"
    },
    "language_info": {
      "codemirror_mode": {
        "name": "ipython",
        "version": 3
      },
      "file_extension": ".py",
      "mimetype": "text/x-python",
      "name": "python",
      "nbconvert_exporter": "python",
      "pygments_lexer": "ipython3",
      "version": "3.9.7"
    }
  },
  "nbformat": 4,
  "nbformat_minor": 5
}
