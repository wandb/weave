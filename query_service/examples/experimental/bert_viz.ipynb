{
  "cells": [
    {
      "cell_type": "markdown",
      "id": "f4fcc7fa",
      "metadata": {},
      "source": [
        "# BertViz + HuggingFace: Visualize Attention for Language Models\n",
        "\n",
        "Integrates the amazing [bertviz package](https://github.com/jessevig/bertviz) to visualize the attention for a provided language model (here loaded in from Hugging Face).\n",
        "\n",
        "## Settings to explore\n",
        "\n",
        "* model name: select a different model from HuggingFace (or add your own :)\n",
        "* input text: edit the text sample on which to visualize attention \n",
        "* visualization type: try toggling the output panel type to see the full attention map across heads and layers :)"
      ]
    },
    {
      "cell_type": "code",
      "execution_count": null,
      "id": "d85f7aaa",
      "metadata": {
        "execution": {
          "iopub.execute_input": "2023-06-02T01:46:20.864046Z",
          "iopub.status.busy": "2023-06-02T01:46:20.863903Z",
          "iopub.status.idle": "2023-06-02T01:46:26.125190Z",
          "shell.execute_reply": "2023-06-02T01:46:26.124715Z"
        }
      },
      "outputs": [],
      "source": [
        "import weave\n",
        "# Weave package now defaults to eager mode, but lazy mode required for this example notebook for now.\n",
        "weave.use_lazy_execution()\n",
        "from weave.legacy.weave.ecosystem.huggingface import huggingface\n",
        "\n",
        "# Call a hugging face model\n",
        "hf_model = huggingface().model('gpt2')\n",
        "model_output = hf_model.call('The cat sat on the mat')\n",
        "\n",
        "# The type of .attention() is huggingface.ModelOutputType. Our bertviz panel is\n",
        "# registered as the only handler for that type, so it will automatically get rendered.\n",
        "\n",
        "# model_output.attention()\n",
        "model_output"
      ]
    }
  ],
  "metadata": {
    "kernelspec": {
      "display_name": "Python 3 (ipykernel)",
      "language": "python",
      "name": "python3"
    },
    "language_info": {
      "codemirror_mode": {
        "name": "ipython",
        "version": 3
      },
      "file_extension": ".py",
      "mimetype": "text/x-python",
      "name": "python",
      "nbconvert_exporter": "python",
      "pygments_lexer": "ipython3",
      "version": "3.9.7"
    }
  },
  "nbformat": 4,
  "nbformat_minor": 5
}
