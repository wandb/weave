{
  "cells": [
    {
      "cell_type": "code",
      "execution_count": null,
      "id": "d70e6c48",
      "metadata": {},
      "outputs": [],
      "source": [
        "import weave\n",
        "from weave.legacy.weave.ecosystem import lens"
      ]
    },
    {
      "cell_type": "markdown",
      "id": "c3d89416",
      "metadata": {},
      "source": [
        "# Composite Histograms\n",
        "\n",
        "Let's plot some histograms.\n",
        "\n",
        "## Base case: One series, no customization"
      ]
    },
    {
      "cell_type": "code",
      "execution_count": null,
      "id": "e739d513",
      "metadata": {},
      "outputs": [],
      "source": [
        "lens.histogram([[1.0, 2, 3, -1.4]], 1.0, \"Composite Histogram\", ['series'])"
      ]
    },
    {
      "cell_type": "markdown",
      "id": "81fd5769",
      "metadata": {},
      "source": [
        "## Two series with customization"
      ]
    },
    {
      "cell_type": "code",
      "execution_count": null,
      "id": "301be405",
      "metadata": {},
      "outputs": [],
      "source": [
        "lens.histogram([[-1.8, -0.4, 0.1, -0.9, -0.77, 0.5, 0.7, 0.2, 0.1, 0.8],[0.9, 0.4, 0.5, 0.6, 1.2, 1.5, 1.6, 1.7, 2, 2.4, 2.3, 2.1]], 0.5, \"My Histogram\", [\"series A\", \"series B\"])"
      ]
    },
    {
      "cell_type": "markdown",
      "id": "ee794dd4",
      "metadata": {},
      "source": [
        "## Three series"
      ]
    },
    {
      "cell_type": "code",
      "execution_count": null,
      "id": "fba3acec",
      "metadata": {},
      "outputs": [],
      "source": [
        "lens.histogram([[1.0, 2, 3, -1.4],[8.1, 2.2, 3.3, 5.6, 1.1], [1.6, 1.7, 1.8, -2.0, 5]], 0.5, 'Composite histogram', ['a', 'b', 'c'])"
      ]
    },
    {
      "cell_type": "markdown",
      "id": "ac8ee3eb",
      "metadata": {},
      "source": [
        "## More than three series :)"
      ]
    },
    {
      "cell_type": "code",
      "execution_count": null,
      "id": "070314da",
      "metadata": {},
      "outputs": [],
      "source": [
        "lens.histogram([[1.0, -20.0, -25.0, -15.0, 2.0, 3.0, 2.0, 2.0, 2.0, 2.0, 4.0, 5.0, 6.0], [1.0, 1.0, 1.0, 1.0, 1.0, 2.0, 3.0, 3.0, 3.0, 3.0, 2.0, 2.0, 2.0],[16.2, 17.9, 18.2, 2.3, -5.2, 6.0, 7.2, -10.9, 8.2,41.0], [1.3, 2.2, 5.3, 7.7, 8.8, 9.0, 2.0, 3.2, 43.7, 4.2, 5.1, 4.5, 6.9], [1.0, 2.1, 3.0, 4.1, 19.0, 6.0, 12.2, 14.9, 15.0, 16.1, 17.2]], 5.0, 'Composite histogram', ['a', 'b', 'c', 'd', 'e'])"
      ]
    },
    {
      "cell_type": "code",
      "execution_count": null,
      "id": "2245a600",
      "metadata": {},
      "outputs": [],
      "source": [
        "# weave-test-skip: in-notebook ops don't yet work with server\n",
        "# super simple example for now to illustrate fetching W&B data & plotting histograms\n",
        "from wandb.apis import public as wandb_api\n",
        "from PIL import Image\n",
        "\n",
        "@weave.op(render_info={\"type\": \"function\"})\n",
        "def run_accuracy_barchart(runs: list[wandb_api.Run]) -> Image.Image:\n",
        "    runs = list(runs) #[:100] # could shorten this list\n",
        "    acc = [r.summary_metrics.get(\"acc\") or 0.0 for r in runs]\n",
        "    car_acc = [r.summary_metrics.get(\"car_acc\") or 0.0 for r in runs]\n",
        "    traffic_acc = [r.summary_metrics.get(\"traffic_acc\") or 0.0 for r in runs]\n",
        "    road_acc = [r.summary_metrics.get(\"road_acc\") or 0.0 for r in runs]\n",
        "    \n",
        "    # filter out NaNs\n",
        "    for l in [acc, car_acc, traffic_acc, road_acc]:\n",
        "        if \"NaN\" in l:\n",
        "            l = l.remove(\"NaN\")\n",
        "\n",
        "    return weave.use(lens.histogram([acc, car_acc, traffic_acc, road_acc],\n",
        "                                    bin_size=0.05,\n",
        "                                    chart_title=\"Semantic Segmentation Accuracy Across Experiments by Label Class\", \n",
        "                                    series_names=[\"Overall acc\", \"Car acc\", \"Traffic acc\", \"Road acc\"]\n",
        "                                   )\n",
        "                    )\n",
        "\n",
        "runs = weave.legacy.weave.ops.project('stacey', 'deep-drive').runs()\n",
        "run_accuracy_barchart(runs)"
      ]
    }
  ],
  "metadata": {
    "kernelspec": {
      "display_name": "Python 3 (ipykernel)",
      "language": "python",
      "name": "python3"
    }
  },
  "nbformat": 4,
  "nbformat_minor": 5
}
