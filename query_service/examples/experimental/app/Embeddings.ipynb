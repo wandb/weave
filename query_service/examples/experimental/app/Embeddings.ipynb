{
  "cells": [
    {
      "cell_type": "markdown",
      "id": "d3f10990",
      "metadata": {},
      "source": [
        "## Embedding explorer\n",
        "\n",
        "- Embeds a string column using OpenAI Embeddings\n",
        "- Follows the clustering / projection approach from here: https://umap-learn.readthedocs.io/en/latest/clustering.html"
      ]
    },
    {
      "cell_type": "code",
      "execution_count": null,
      "id": "13a3497f",
      "metadata": {},
      "outputs": [],
      "source": [
        "import pandas\n",
        "import weave\n",
        "from weave.legacy.weave.ecosystem import openai\n",
        "from weave.legacy.weave.ecosystem import umap\n",
        "from weave.legacy.weave.ecosystem import hdbscan"
      ]
    },
    {
      "cell_type": "code",
      "execution_count": null,
      "id": "e68f6c86",
      "metadata": {},
      "outputs": [],
      "source": [
        "#raw_data = pandas.read_csv('/Users/shawn/datasets/wandb_export_2023-06-03T15_01_20.066-07_00.csv')\n",
        "raw_data = pandas.read_csv('wandb_export_2023-07-25T11_43_18.362-04_00.csv')\n",
        "\n",
        "#raw_data['request_timestamp'] = pandas.to_datetime(raw_data['request_timestamp'], unit='ms', utc=True)\n",
        "\n",
        "data = weave.save(weave.legacy.weave.ops.dataframe_to_arrow(raw_data), 'data')\n",
        "# from weave.legacy.weave.panels_py import panel_autoboard\n",
        "# panel_autoboard.auto_panels(data)\n",
        "#data"
      ]
    },
    {
      "cell_type": "code",
      "execution_count": null,
      "id": "500e19b1",
      "metadata": {},
      "outputs": [],
      "source": [
        "data"
      ]
    },
    {
      "cell_type": "code",
      "execution_count": null,
      "id": "e194b3ce",
      "metadata": {},
      "outputs": [],
      "source": [
        "weave.legacy.weave.panels.Board(\n",
        "    vars={\n",
        "        'data': data,\n",
        "        'limit': 1005,\n",
        "        'limited_data': lambda data, limit: data.limit(limit),\n",
        "        'embeddings': lambda limited_data: openai.openai_embed(limited_data['question'], {\"model\": \"text-embedding-ada-002\"}),\n",
        "        'clusterable_projection': lambda embeddings: umap.umap_project(\n",
        "            embeddings, {\n",
        "                'n_neighbors': 30,\n",
        "                'min_dist': 0,\n",
        "                'n_components': 2,\n",
        "            }\n",
        "        ),\n",
        "        'clusters': lambda clusterable_projection: hdbscan.hdbscan_cluster(clusterable_projection, {\n",
        "            'min_samples': 10,\n",
        "            'min_cluster_size': 50\n",
        "        }),\n",
        "        'projection': lambda embeddings: umap.umap_project(embeddings, {})\n",
        "    },\n",
        "    panels=[\n",
        "        weave.legacy.weave.panels.BoardPanel(\n",
        "            lambda limited_data, projection, clusters: weave.legacy.weave.panels.Plot(\n",
        "                limited_data,\n",
        "                x=lambda row, index: projection[index][0],\n",
        "                y=lambda row, index: projection[index][1],\n",
        "                label=lambda row, index: clusters[index],\n",
        "            ),\n",
        "            id='projection_plot',\n",
        "            layout=weave.legacy.weave.panels.BoardPanelLayout(x=0, y=0, w=24, h=12)\n",
        "        ),\n",
        "        weave.legacy.weave.panels.BoardPanel(\n",
        "            lambda projection_plot: projection_plot.selected_data(),\n",
        "            layout=weave.legacy.weave.panels.BoardPanelLayout(x=0, y=0, w=24, h=12)\n",
        "        )\n",
        "    ]\n",
        ")"
      ]
    }
  ],
  "metadata": {
    "kernelspec": {
      "display_name": "Python 3 (ipykernel)",
      "language": "python",
      "name": "python3"
    },
    "language_info": {
      "codemirror_mode": {
        "name": "ipython",
        "version": 3
      },
      "file_extension": ".py",
      "mimetype": "text/x-python",
      "name": "python",
      "nbconvert_exporter": "python",
      "pygments_lexer": "ipython3",
      "version": "3.9.7"
    }
  },
  "nbformat": 4,
  "nbformat_minor": 5
}
