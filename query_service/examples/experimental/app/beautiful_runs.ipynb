{
  "cells": [
    {
      "cell_type": "markdown",
      "id": "632b052f",
      "metadata": {},
      "source": [
        "## Beautiful run plot rendering\n",
        "\n",
        "This notebook shows how to create a Weave Board with W&B workspace-like behavior.\n",
        "\n",
        "We group data along the x-axis into 250 bins, and exactly compute the min / max / avg of each bucket. Unlike the W&B workspace, this computation is exact because it happens on unsampled data in the Weave engine. Only the final grouped result is sent back to the UI.\n",
        "\n",
        "You can zoom on any of the plots by dragging a box. All plots are zoom synchronized using Weave 2-way binding, and all plots automatically rebin for the new window.\n",
        "\n",
        "We've also factored out a \"groupby\" variable so you can group by run parameters from the varbar. You can change it to 'id' or 'config.b' to try other groupings.\n",
        "\n",
        "All of this behavior is complete defined by the code below.\n",
        "\n",
        "_TODO: There is one major outstanding issue here: we're using the start of the bucket for the x-coordinate\n",
        "instead of the midpoint! Fix this!_\n"
      ]
    },
    {
      "cell_type": "code",
      "execution_count": null,
      "id": "d2492048",
      "metadata": {},
      "outputs": [],
      "source": [
        "import weave\n",
        "from weave.legacy.scripts import syndata"
      ]
    },
    {
      "cell_type": "code",
      "execution_count": null,
      "id": "af8e89a5",
      "metadata": {},
      "outputs": [],
      "source": [
        "# Generate synthetic run data for now\n",
        "runs = weave.save(syndata.random_runs(10, 10000, 10), 'runs')\n",
        "# Doing this unnest operation in the UI doesn't work (like in the varbar). I don't remember\n",
        "# if the types are wrong, or what the specific situation is.\n",
        "# TODO: Figure out why we have to do this!\n",
        "unnested_runs = weave.save(weave.use(runs.unnest()), 'random_runs_unnested')\n",
        "#unnested_runs"
      ]
    },
    {
      "cell_type": "code",
      "execution_count": null,
      "id": "69f0792f",
      "metadata": {},
      "outputs": [],
      "source": [
        "\n",
        "def plot_for_metric(metric_name):\n",
        "    return weave.legacy.weave.panels.BoardPanel(\n",
        "            lambda runs, groupby, zoom_domain_x, bin_domain_x: weave.legacy.weave.panels.Plot(\n",
        "                            runs,\n",
        "                            series=[\n",
        "                                # Use two plot series, one for the avg line, and one for\n",
        "                                # min/max area. We could reduce duplication here a bit more\n",
        "                                # by updating the Plot API to allow common features of series\n",
        "                                # to be factored out.\n",
        "                                weave.legacy.weave.panels.Series(\n",
        "                                        runs,\n",
        "                                    select_functions={\n",
        "                                        'x': lambda row: row[\"history.step\"].bin(\n",
        "                                            weave.legacy.weave.ops.numbers_bins_equal(bin_domain_x, 250))[\"start\"],\n",
        "                                        'label': lambda row: row[groupby],\n",
        "                                        'y': lambda row: row[\"history\"][metric_name].avg()\n",
        "                                    },\n",
        "                                    groupby_dims=['x', 'label'],\n",
        "                                    constants=weave.legacy.weave.panels.PlotConstants(\n",
        "                                        mark='line'\n",
        "                                    )\n",
        "                                ),\n",
        "                                weave.legacy.weave.panels.Series(\n",
        "                                    runs,\n",
        "                                    select_functions={\n",
        "                                        'x': lambda row: row[\"history.step\"].bin(\n",
        "                                            weave.legacy.weave.ops.numbers_bins_equal(bin_domain_x, 250))[\"start\"],\n",
        "                                        'label': lambda row: row[groupby],\n",
        "                                        'y': lambda row: row[\"history\"][metric_name].min(),\n",
        "                                        'y2': lambda row: row[\"history\"][metric_name].max(),\n",
        "                                    },\n",
        "                                    groupby_dims=['x', 'label'],\n",
        "                                    constants=weave.legacy.weave.panels.PlotConstants(\n",
        "                                        mark='area'\n",
        "                                    )\n",
        "                                )\n",
        "                            ],\n",
        "                            domain_x=zoom_domain_x,\n",
        "                        ),\n",
        "            #layout=weave.legacy.weave.panels.BoardPanelLayout(x=x, y=0, w=12, h=6)\n",
        "        )\n",
        "\n",
        "board = weave.legacy.weave.panels.Board(\n",
        "    vars={\n",
        "        'runs': unnested_runs,\n",
        "        'groupby': 'config.a',\n",
        "        # This holds the zoom boundaries, and is two-way synchronized with the plot zooms\n",
        "        'zoom_domain_x': None,\n",
        "        # This is the extent of the step field in our data (the minimum and maxium values)\n",
        "        'step_domain': lambda runs: weave.legacy.weave.ops.make_list(\n",
        "            a=weave.legacy.weave.ops.numbers_min(runs['history']['step']),\n",
        "            b=weave.legacy.weave.ops.numbers_max(runs['history']['step'])),\n",
        "        # The \"domain\" used for binning, which is the zoom range if its non-null, otherwise\n",
        "        # the step_extent\n",
        "        'bin_domain_x': lambda zoom_domain_x, step_domain: zoom_domain_x.coalesce(step_domain)\n",
        "    },\n",
        "    # TODO: Use EachColumn to do this automatically for all metrics.\n",
        "    panels=[\n",
        "        plot_for_metric('metric0'),\n",
        "        plot_for_metric('metric1'),\n",
        "        plot_for_metric('metric2'),\n",
        "        plot_for_metric('metric3'),\n",
        "        plot_for_metric('metric4'),\n",
        "        plot_for_metric('metric5'),\n",
        "        plot_for_metric('metric6'),\n",
        "        plot_for_metric('metric7'),\n",
        "    ]\n",
        ")"
      ]
    },
    {
      "cell_type": "code",
      "execution_count": null,
      "id": "3f157310",
      "metadata": {},
      "outputs": [],
      "source": [
        "board"
      ]
    }
  ],
  "metadata": {
    "kernelspec": {
      "display_name": "Python 3 (ipykernel)",
      "language": "python",
      "name": "python3"
    },
    "language_info": {
      "codemirror_mode": {
        "name": "ipython",
        "version": 3
      },
      "file_extension": ".py",
      "mimetype": "text/x-python",
      "name": "python",
      "nbconvert_exporter": "python",
      "pygments_lexer": "ipython3",
      "version": "3.9.7"
    }
  },
  "nbformat": 4,
  "nbformat_minor": 5
}
