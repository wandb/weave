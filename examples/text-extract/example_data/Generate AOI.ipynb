{
 "cells": [
  {
   "cell_type": "code",
   "execution_count": null,
   "id": "f053631c",
   "metadata": {},
   "outputs": [],
   "source": [
    "import weave\n",
    "import openai\n",
    "from datetime import datetime"
   ]
  },
  {
   "cell_type": "code",
   "execution_count": null,
   "id": "9d714379-6c0f-4921-8428-d8451556387e",
   "metadata": {},
   "outputs": [],
   "source": [
    "def gen_aoi():\n",
    "    messages = [\n",
    "        {'role': 'system', 'content': 'you are a tool used for generating ultra-realistic datasets. you do not use placeholders in your output'},\n",
    "        {'role': 'user', 'content': 'please generate an articles of incorporation document for a realistic (but not real) company'}\n",
    "    ]\n",
    "    response = openai.ChatCompletion.create(\n",
    "            model='gpt-4',\n",
    "            messages=messages,\n",
    "            temperature=1.1,\n",
    "            n=1,\n",
    "        )\n",
    "    result = response['choices'][0]['message']['content']\n",
    "    now = datetime.now()\n",
    "    timestamp_str = now.strftime(\"%Y%m%d_%H%M%S\")\n",
    "    open(f'example_data/aoi_{timestamp_str}.txt', 'w').write(result)"
   ]
  },
  {
   "cell_type": "code",
   "execution_count": null,
   "id": "c616d80f-3b2d-434b-879b-29edb33963f2",
   "metadata": {},
   "outputs": [],
   "source": [
    "import tqdm\n",
    "\n",
    "for i in tqdm.tqdm(range(50)):\n",
    "    gen_aoi()"
   ]
  }
 ],
 "metadata": {
  "kernelspec": {
   "display_name": "Python 3 (ipykernel)",
   "language": "python",
   "name": "python3"
  },
  "language_info": {
   "codemirror_mode": {
    "name": "ipython",
    "version": 3
   },
   "file_extension": ".py",
   "mimetype": "text/x-python",
   "name": "python",
   "nbconvert_exporter": "python",
   "pygments_lexer": "ipython3",
   "version": "3.9.7"
  }
 },
 "nbformat": 4,
 "nbformat_minor": 5
}
