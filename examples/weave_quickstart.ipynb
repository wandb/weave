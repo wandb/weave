{
 "cells": [
  {
   "cell_type": "markdown",
   "id": "81c835f8",
   "metadata": {},
   "source": [
    "# Weave quickstart\n",
    "\n",
    "## 0: Acquire standard iris dataset"
   ]
  },
  {
   "cell_type": "code",
   "execution_count": null,
   "id": "b2f76045",
   "metadata": {},
   "outputs": [],
   "source": [
    "# get iris dataset via sklearn\n",
    "from sklearn.datasets import load_iris\n",
    "\n",
    "def get_iris_dataset():\n",
    "    iris = load_iris(as_frame=True)\n",
    "    data = iris['data']\n",
    "    data['target_id'] = iris['target']\n",
    "    data['target_name'] = iris['target_names'][iris['target']]\n",
    "\n",
    "    def clean_column_name(c):\n",
    "        return c.replace(\" (cm)\", \"\").replace(\" \", \"_\")\n",
    "    data.columns = [clean_column_name(c) for c in data.columns]\n",
    "    return data"
   ]
  },
  {
   "cell_type": "markdown",
   "id": "94736109",
   "metadata": {},
   "source": [
    "## 1. Load, view, and explore!"
   ]
  },
  {
   "cell_type": "code",
   "execution_count": null,
   "id": "84f1a891",
   "metadata": {},
   "outputs": [],
   "source": [
    "import weave\n",
    "my_dataframe = get_iris_dataset()\n",
    "weave.show(my_dataframe)"
   ]
  }
 ],
 "metadata": {
  "kernelspec": {
   "display_name": "Python 3 (ipykernel)",
   "language": "python",
   "name": "python3"
  },
  "language_info": {
   "codemirror_mode": {
    "name": "ipython",
    "version": 3
   },
   "file_extension": ".py",
   "mimetype": "text/x-python",
   "name": "python",
   "nbconvert_exporter": "python",
   "pygments_lexer": "ipython3",
   "version": "3.9.9"
  }
 },
 "nbformat": 4,
 "nbformat_minor": 5
}
