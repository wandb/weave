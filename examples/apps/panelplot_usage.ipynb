{
 "cells": [
  {
   "cell_type": "markdown",
   "id": "1305d15c-9677-4f65-8cd8-338d1cb7aa82",
   "metadata": {},
   "source": [
    "# Weave PanelPlot: Visualize Point, Bar, and Line Charts\n",
    "\n",
    "In this tutorial, we will visualize data with **Weave PanelPlot**:\n",
    "* load a Pandas DataFrame or other tabular data into Weave \n",
    "* visualize your data as a 2D plot of (x, y) points with *Weave Plot*\n",
    "* customize the plot to filter or annotate the data\n",
    "* convert to a **Bar Chart** or **Line Plot**\n",
    "\n",
    "We provide a sample dataset of [notable machine learning models](https://docs.google.com/spreadsheets/d/1AAIebjNsnJj_uKALHbXNfn3_YsT6sHXtCU0q7OIPuc4/edit#gid=0) to get started—you can try your own CSV file, Pandas DataFrame, or any public Google Sheets url.\n",
    "\n",
    "# 0: Setup\n",
    "Import dependencies & login to W&B to save your work"
   ]
  },
  {
   "cell_type": "code",
   "execution_count": null,
   "id": "43053b45-eed1-445c-8bbd-05f113302060",
   "metadata": {},
   "outputs": [],
   "source": [
    "!pip install -qqq weave\n",
    "import pandas as pd"
   ]
  },
  {
   "cell_type": "code",
   "execution_count": null,
   "id": "bf5e4efe",
   "metadata": {},
   "outputs": [],
   "source": [
    "import wandb\n",
    "wandb.login()\n",
    "import weave"
   ]
  },
  {
   "cell_type": "markdown",
   "id": "cb79fff5-f4fd-45db-a48e-c8581e0e5ad1",
   "metadata": {},
   "source": [
    "# 1: Load some data\n",
    "\n",
    "Load a fascinating sample dataset of notable ML publications (560 rows, 33 columns). Feel free to\n",
    "* load in your own Pandas DataFrame\n",
    "* load a different CSV file\n",
    "* modify the Google Sheets URL and sheet id to a different public spreadsheet"
   ]
  },
  {
   "cell_type": "code",
   "execution_count": null,
   "id": "d46a83aa",
   "metadata": {},
   "outputs": [],
   "source": [
    "GOOGLE_SHEETS_URL = \"https://docs.google.com/spreadsheets/d/1AAIebjNsnJj_uKALHbXNfn3_YsT6sHXtCU0q7OIPuc4\"\n",
    "SHEET_ID = \"0\"\n",
    "CSV_SOURCE = f\"{GOOGLE_SHEETS_URL}/export?format=csv&gid={SHEET_ID}\""
   ]
  },
  {
   "cell_type": "code",
   "execution_count": null,
   "id": "3c43afd5",
   "metadata": {},
   "outputs": [],
   "source": [
    "df = pd.read_csv(CSV_SOURCE)\n",
    "df.head()"
   ]
  },
  {
   "cell_type": "markdown",
   "id": "6e48d6d1-e935-4244-b9ea-500fdb18e0bd",
   "metadata": {},
   "source": [
    "# 2: View your data in Weave\n",
    "\n",
    "View an interactive panel with your data in one line [1]. \n",
    "TODO: prepend to URLS: https://raw.githubusercontent.com/wandb/weave/panel_plot_ref/docs/assets/panelplot_usage/"
   ]
  },
  {
   "cell_type": "code",
   "execution_count": null,
   "id": "c1e62e5a-6a56-4581-a8e6-4f5d3bcc4d0e",
   "metadata": {
    "scrolled": true
   },
   "outputs": [],
   "source": [
    "weave.show(df)"
   ]
  },
  {
   "cell_type": "markdown",
   "id": "ad96850c-93e7-4b1f-a479-1e4f3655aebc",
   "metadata": {
    "scrolled": true
   },
   "source": [
    "# 3: View as PanelPlot\n",
    "\n",
    "You can convert any Weave Panel of type `Table` to one of type `Plot` to make a **Weave PanelPlot**. Change the Weave Panel type in the expression at the top of the panel from `table` to `plot`:\n",
    "\n",
    "<img src=\"https://raw.githubusercontent.com/wandb/weave/panel_plot_ref/docs/assets/panelplot_usage/in_notebook_plot_convert.gif\">\n",
    "\n",
    "Weave infers a reasonable view of your data based on the column types:\n",
    "* two numerical columns x and y become the scatter plot axes\n",
    "* each row is rendered as an (x, y) point on the resulting 2D grid, with a tooltip showing details on hover\n",
    "* if available, the first string-type column becomes the label / the color shown in the legend.\n",
    "\n",
    "Before we dive into the detailed customization of a PanelPlot, how can we build with and iterate on this starter PanelPlot?\n",
    "\n",
    "## Full-screen a plot: Open as a Weave Board\n",
    "\n",
    "If you want more visual space/screen real estate to explore&mdash;zoom into details, zoom out to larger context, iterate on multiple panel views in parallel&mdash;open any Weave Panel in a new browser tab to get more space. Mouse over the right hand side and select \"Open in a new tab\"\n",
    "<img src=\"https://raw.githubusercontent.com/wandb/weave/panel_plot_ref/docs/assets/panelplot_usage/open_nb_new_tab.png\" width=\"75%\"/>\n",
    "\n",
    "## Multiple views: Refer to source data as you customize the plot\n",
    "\n",
    "Duplicate a panel so you can keep one copy in the `table` state and convert the second into a `plot`: click on the horizontal three-dot icon in the top right corner and select \"Duplicate\".\n",
    "\n",
    "<img src=\"https://raw.githubusercontent.com/wandb/weave/panel_plot_ref/docs/assets/panelplot_usage/small_dup_to_plot.png\" width=\"75%\"/>\n",
    "\n",
    "## Resize one panel to adjust layout & iterate incrementally\n",
    "\n",
    "Combine these UX moves to iterate quickly on a neat layout&mdash;duplicate panels, resize one panel from a corner to a smaller portion of the grid to accommodate more panels, and independently modify individual panels until you're happy with the next version.\n",
    "<img src=\"https://raw.githubusercontent.com/wandb/weave/panel_plot_ref/docs/assets/panelplot_usage/open_plot_split.gif\">\n",
    "\n",
    "Try the whole process with the panel below:"
   ]
  },
  {
   "cell_type": "code",
   "execution_count": null,
   "id": "b85268d4-ef89-4bf5-9aed-2b8650fcd701",
   "metadata": {},
   "outputs": [],
   "source": [
    "weave.show(df)"
   ]
  },
  {
   "cell_type": "markdown",
   "id": "bd8f59a6-8375-403a-a33a-8ff28b440d3f",
   "metadata": {},
   "source": [
    "# 4. PanelPlot Visual Exploration: Zoom and Selection\n",
    "\n",
    "Interactively explore PanelPlot data with zoom and region highlighting (subset selection):\n",
    "\n",
    "## Zoom level: Click + drag to zoom into seleted rectangle, double-click to reset\n",
    "To zoom into a region of the PanelPlot:\n",
    "* click on the magnifying glass icon in the bottom right corner\n",
    "* click, hold, and drag to select a set of points&mdash;a gray rectangle shows the active selected region\n",
    "* repeat until you find the points of interest\n",
    "* double-click anywhere in the plot to reset to the original zoom level\n",
    "\n",
    "<img src=\"https://raw.githubusercontent.com/wandb/weave/panel_plot_ref/docs/assets/panelplot_usage/zoom_in.gif\">\n",
    "\n",
    "## Selected data: Use .selected_data op to show point details\n",
    "To see the full row details for selected points:\n",
    "* given one plot panel named `panelN`, create another `panelN+1` and enter `panelN.selected_data` in the new panel's expression. `PanelN+1` will now show any points highlighted in `panelN`\n",
    "* to select points from `panelN`, click on the pointer icon in the bottom right corner of `panelN`\n",
    "* click, hold, and drag to select a set of points in `panelN`&mdash;a gray rectangle shows the active selected region\n",
    "* view the full details for those points in panelN+1\n",
    "\n",
    "<img src=\"https://raw.githubusercontent.com/wandb/weave/panel_plot_ref/docs/assets/panelplot_usage/selected_data_horiz.png\">"
   ]
  },
  {
   "cell_type": "markdown",
   "id": "16cc1620-4d10-41a1-9220-55ca238d5015",
   "metadata": {},
   "source": [
    "# 5. Customizing Plot Panels\n",
    "\n",
    "Plot panels&mdash;whether scatter, line, or bar&mdash;share fundamental parameters\n",
    "\n",
    "## X & Y axis\n",
    "\n",
    "## Color\n",
    "\n",
    "## Tooltip\n",
    "\n",
    "# 6. Line Plot\n",
    "\n",
    "# 7. Bar Chart\n",
    "\n",
    "# 8. General Exploration???\n",
    "\n",
    "## Filter source data to remove outliers\n",
    "\n",
    "## Log scale axes\n",
    "\n",
    "## Configure tooltip\n",
    "\n",
    "Weave is a general toolkit, and interactive visual exploration is heavily dependent on your data, goals, context, and interests. We will cover some of the basic patterns starting from this dataset as inspiration\n"
   ]
  },
  {
   "cell_type": "markdown",
   "id": "c1a54344-7f4c-4044-af05-55c8120b5452",
   "metadata": {},
   "source": [
    "# End notes\n",
    "\n",
    "## [1] Viewing data in Weave\n",
    "\n",
    "When starting with a Pandas DataFrame, you have two options for getting data into Weave:\n",
    "\n",
    "### weave.show(my_dataframe)\n",
    "\n",
    "`weave.show(my_dataframe)` returns an interactive Weave Panel with the Pandas DataFrame as a Table. This is the fastest and simplest way to load an interactive panel with your data.\n",
    "\n",
    "### weave.save(weave.from_pandas(my_dataframe), name=\"my_dataframe\")\n",
    "\n",
    "If you'd like to save the DataFrame as a local object, first wrap it o\n",
    "\n",
    "```python\n",
    "my_data = weave.save(weave.from_pandas(dataframe), name=\"my_dataframe\")\n",
    "my_data\n",
    "```\n"
   ]
  }
 ],
 "metadata": {
  "kernelspec": {
   "display_name": "Python 3 (ipykernel)",
   "language": "python",
   "name": "python3"
  },
  "language_info": {
   "codemirror_mode": {
    "name": "ipython",
    "version": 3
   },
   "file_extension": ".py",
   "mimetype": "text/x-python",
   "name": "python",
   "nbconvert_exporter": "python",
   "pygments_lexer": "ipython3",
   "version": "3.9.7"
  }
 },
 "nbformat": 4,
 "nbformat_minor": 5
}
