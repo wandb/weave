{
 "cells": [
  {
   "cell_type": "code",
   "execution_count": null,
   "id": "307ad3b7",
   "metadata": {},
   "outputs": [],
   "source": [
    "from weave.monitoring import StreamTable\n",
    "import PIL\n",
    "import numpy as np\n",
    "\n",
    "\n",
    "def make_image():\n",
    "    imarray = np.random.rand(100, 100, 3) * 255\n",
    "    return PIL.Image.fromarray(imarray.astype(\"uint8\")).convert(\"RGBA\")"
   ]
  },
  {
   "cell_type": "code",
   "execution_count": null,
   "id": "643f46e3",
   "metadata": {},
   "outputs": [],
   "source": []
  },
  {
   "cell_type": "code",
   "execution_count": null,
   "id": "e7db9358",
   "metadata": {},
   "outputs": [],
   "source": []
  },
  {
   "cell_type": "code",
   "execution_count": null,
   "id": "90aba081",
   "metadata": {},
   "outputs": [],
   "source": [
    "from weave.monitoring import StreamTable\n",
    "table = StreamTable(\"pm_demo_wip\")\n",
    "for _ in range(10):\n",
    "    table.log({\n",
    "        'number': 1, \n",
    "        'string': 'hello', \n",
    "        'bool': True, \n",
    "        'nested': {'data': 5}, \n",
    "        'lists': list(range(10)), \n",
    "        'custom': make_image()})\n",
    "table"
   ]
  },
  {
   "cell_type": "code",
   "execution_count": null,
   "id": "f49b9b31",
   "metadata": {},
   "outputs": [],
   "source": []
  },
  {
   "cell_type": "code",
   "execution_count": null,
   "id": "6a84eca8",
   "metadata": {},
   "outputs": [],
   "source": [
    "from langchain.agents import load_tools\n",
    "from langchain.agents import initialize_agent\n",
    "from langchain.agents import AgentType\n",
    "from langchain.llms import OpenAI\n",
    "\n",
    "llm = OpenAI(temperature=0)\n",
    "tools = load_tools([\"llm-math\"], llm=llm)\n",
    "agent = initialize_agent(tools, llm, agent=AgentType.ZERO_SHOT_REACT_DESCRIPTION)"
   ]
  },
  {
   "cell_type": "code",
   "execution_count": null,
   "id": "04f780ce",
   "metadata": {},
   "outputs": [],
   "source": [
    "from weave.monitoring import monitor\n",
    "\n",
    "@monitor()\n",
    "def ask_llm_calculator(prompt, question):\n",
    "    return agent.run(prompt + \" \" + question)\n",
    "\n",
    "\n",
    "ask_llm_calculator(\n",
    "    \"Please accurately answer the following question:\", \n",
    "    \"Find the square root of 5.4.\"\n",
    ")"
   ]
  },
  {
   "cell_type": "code",
   "execution_count": null,
   "id": "b9bebf19",
   "metadata": {},
   "outputs": [],
   "source": [
    "ask_llm_calculator._stream_table._stream_table.rows()"
   ]
  },
  {
   "cell_type": "code",
   "execution_count": null,
   "id": "1e889802",
   "metadata": {},
   "outputs": [],
   "source": [
    "\n",
    "\n",
    "\n",
    "\n",
    "table = StreamTable(\"pm_demo_wip\")\n",
    "for _ in range(10):\n",
    "    table.log({\n",
    "        'number': 1, \n",
    "        'string': 'hello', \n",
    "        'bool': True, \n",
    "        'nested': {'data': 5}, \n",
    "        'lists': list(range(10)), \n",
    "        'custom': make_image()})\n",
    "table"
   ]
  },
  {
   "cell_type": "code",
   "execution_count": null,
   "id": "9e0986a5",
   "metadata": {},
   "outputs": [],
   "source": [
    "import weave\n",
    "from weave import syndata\n",
    "from weave import syndata_mon\n",
    "weave.use_frontend_devmode()\n",
    "from weave.panels_py import panel_autoboard"
   ]
  },
  {
   "cell_type": "code",
   "execution_count": null,
   "id": "2a63aa7d",
   "metadata": {},
   "outputs": [],
   "source": [
    "from weave.monitoring import StreamTable\n",
    "data = syndata_mon.random_predictions(10)\n",
    "st = StreamTable(\"timssweeney/weave/syndata_test_2\")\n",
    "# st.\n",
    "import datetime\n",
    "raw_data = data.to_pylist_tagged()\n",
    "for row in raw_data:\n",
    "    row['timestamp'] = row['timestamp'].to_pydatetime()\n",
    "    st.log(row)\n",
    "st.finish()\n",
    "# for row in data:\n",
    "# a = ['timestamp']\n",
    "# a.to_pydatetime()\n",
    "# raw_data[0]"
   ]
  },
  {
   "cell_type": "code",
   "execution_count": null,
   "id": "c1cbc203",
   "metadata": {},
   "outputs": [],
   "source": []
  }
 ],
 "metadata": {
  "kernelspec": {
   "display_name": "Python 3 (ipykernel)",
   "language": "python",
   "name": "python3"
  },
  "language_info": {
   "codemirror_mode": {
    "name": "ipython",
    "version": 3
   },
   "file_extension": ".py",
   "mimetype": "text/x-python",
   "name": "python",
   "nbconvert_exporter": "python",
   "pygments_lexer": "ipython3",
   "version": "3.10.8"
  }
 },
 "nbformat": 4,
 "nbformat_minor": 5
}
