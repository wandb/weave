{
 "cells": [
  {
   "cell_type": "markdown",
   "metadata": {},
   "source": [
    "## OpenAI Monitoring Examples\n",
    "\n",
    "This updates our monitoring code to:\n",
    "1. Be compatible with `openai>=1.0.0`\n",
    "2. Use patching (instead of forcing the user to import from our custom impl)\n",
    "3. Use a callback system to add new functionality before/after certain stages"
   ]
  },
  {
   "cell_type": "markdown",
   "metadata": {},
   "source": [
    "### Setup"
   ]
  },
  {
   "cell_type": "code",
   "execution_count": null,
   "metadata": {},
   "outputs": [],
   "source": [
    "import openai\n",
    "import weave\n",
    "from weave.monitoring.openai import patch, unpatch\n",
    "\n",
    "weave.monitoring.openai.patch()\n",
    "# weave.monitoring.openai.unpatch()\n"
   ]
  },
  {
   "cell_type": "markdown",
   "metadata": {},
   "source": [
    "### Advanced Setup\n",
    "You can customize callbacks (e.g. which StreamTable to log to) by explicitly passing callbacks to `patch`"
   ]
  },
  {
   "cell_type": "code",
   "execution_count": 2,
   "metadata": {},
   "outputs": [],
   "source": [
    "# from weave.monitoring.openai import ReassembleStream, LogToStreamTable\n",
    "\n",
    "# weave.monitoring.openai.patch(\n",
    "#     callbacks=[LogToStreamTable.from_stream_name(\"stream\", \"project\", \"entity\")]\n",
    "# )\n"
   ]
  },
  {
   "cell_type": "markdown",
   "metadata": {},
   "source": [
    "### Module-level Sync Completion"
   ]
  },
  {
   "cell_type": "code",
   "execution_count": 3,
   "metadata": {},
   "outputs": [],
   "source": [
    "result = openai.chat.completions.create(\n",
    "    model=\"gpt-3.5-turbo\",\n",
    "    messages=[{\"role\": \"system\", \"content\": \"Tell me a joke\"}],\n",
    ")\n"
   ]
  },
  {
   "cell_type": "code",
   "execution_count": 4,
   "metadata": {},
   "outputs": [
    {
     "data": {
      "text/plain": [
       "ChatCompletion(id='chatcmpl-8QeydoZRXfT6Lzni9VoaatY24vmGU', choices=[Choice(finish_reason='stop', index=0, message=ChatCompletionMessage(content=\"Sure, here's one for you:\\n\\nWhy did the scarecrow win an award?\\nBecause he was outstanding in his field!\", role='assistant', function_call=None, tool_calls=None))], created=1701364735, model='gpt-3.5-turbo-0613', object='chat.completion', system_fingerprint=None, usage=CompletionUsage(completion_tokens=25, prompt_tokens=11, total_tokens=36))"
      ]
     },
     "execution_count": 4,
     "metadata": {},
     "output_type": "execute_result"
    }
   ],
   "source": [
    "result\n"
   ]
  },
  {
   "cell_type": "markdown",
   "metadata": {},
   "source": [
    "### Sync Completion"
   ]
  },
  {
   "cell_type": "code",
   "execution_count": null,
   "metadata": {},
   "outputs": [],
   "source": []
  },
  {
   "cell_type": "code",
   "execution_count": 5,
   "metadata": {},
   "outputs": [],
   "source": [
    "client = openai.OpenAI()\n",
    "\n",
    "result = client.chat.completions.create(\n",
    "    model=\"gpt-3.5-turbo\",\n",
    "    messages=[{\"role\": \"system\", \"content\": \"Tell me a joke\"}],\n",
    ")\n"
   ]
  },
  {
   "cell_type": "code",
   "execution_count": 6,
   "metadata": {},
   "outputs": [
    {
     "data": {
      "text/plain": [
       "ChatCompletion(id='chatcmpl-8QeyfaTRDhaJUfwnZSMM5HVb9WfAS', choices=[Choice(finish_reason='stop', index=0, message=ChatCompletionMessage(content=\"Why don't scientists trust atoms?\\n\\nBecause they make up everything!\", role='assistant', function_call=None, tool_calls=None))], created=1701364737, model='gpt-3.5-turbo-0613', object='chat.completion', system_fingerprint=None, usage=CompletionUsage(completion_tokens=13, prompt_tokens=11, total_tokens=24))"
      ]
     },
     "execution_count": 6,
     "metadata": {},
     "output_type": "execute_result"
    }
   ],
   "source": [
    "result\n"
   ]
  },
  {
   "cell_type": "markdown",
   "metadata": {},
   "source": [
    "### Sync Completion (Streaming)"
   ]
  },
  {
   "cell_type": "code",
   "execution_count": 7,
   "metadata": {},
   "outputs": [
    {
     "name": "stdout",
     "output_type": "stream",
     "text": [
      "ChatCompletionChunk(id='chatcmpl-8QeygzpBUra5K30DKsIT1v2epsae5', choices=[Choice(delta=ChoiceDelta(content='', function_call=None, role='assistant', tool_calls=None), finish_reason=None, index=0)], created=1701364738, model='gpt-3.5-turbo-0613', object='chat.completion.chunk', system_fingerprint=None)\n",
      "ChatCompletionChunk(id='chatcmpl-8QeygzpBUra5K30DKsIT1v2epsae5', choices=[Choice(delta=ChoiceDelta(content='Sure', function_call=None, role=None, tool_calls=None), finish_reason=None, index=0)], created=1701364738, model='gpt-3.5-turbo-0613', object='chat.completion.chunk', system_fingerprint=None)\n",
      "ChatCompletionChunk(id='chatcmpl-8QeygzpBUra5K30DKsIT1v2epsae5', choices=[Choice(delta=ChoiceDelta(content=',', function_call=None, role=None, tool_calls=None), finish_reason=None, index=0)], created=1701364738, model='gpt-3.5-turbo-0613', object='chat.completion.chunk', system_fingerprint=None)\n",
      "ChatCompletionChunk(id='chatcmpl-8QeygzpBUra5K30DKsIT1v2epsae5', choices=[Choice(delta=ChoiceDelta(content=' here', function_call=None, role=None, tool_calls=None), finish_reason=None, index=0)], created=1701364738, model='gpt-3.5-turbo-0613', object='chat.completion.chunk', system_fingerprint=None)\n",
      "ChatCompletionChunk(id='chatcmpl-8QeygzpBUra5K30DKsIT1v2epsae5', choices=[Choice(delta=ChoiceDelta(content=' you', function_call=None, role=None, tool_calls=None), finish_reason=None, index=0)], created=1701364738, model='gpt-3.5-turbo-0613', object='chat.completion.chunk', system_fingerprint=None)\n",
      "ChatCompletionChunk(id='chatcmpl-8QeygzpBUra5K30DKsIT1v2epsae5', choices=[Choice(delta=ChoiceDelta(content=' go', function_call=None, role=None, tool_calls=None), finish_reason=None, index=0)], created=1701364738, model='gpt-3.5-turbo-0613', object='chat.completion.chunk', system_fingerprint=None)\n",
      "ChatCompletionChunk(id='chatcmpl-8QeygzpBUra5K30DKsIT1v2epsae5', choices=[Choice(delta=ChoiceDelta(content=':\\n\\n', function_call=None, role=None, tool_calls=None), finish_reason=None, index=0)], created=1701364738, model='gpt-3.5-turbo-0613', object='chat.completion.chunk', system_fingerprint=None)\n",
      "ChatCompletionChunk(id='chatcmpl-8QeygzpBUra5K30DKsIT1v2epsae5', choices=[Choice(delta=ChoiceDelta(content='Why', function_call=None, role=None, tool_calls=None), finish_reason=None, index=0)], created=1701364738, model='gpt-3.5-turbo-0613', object='chat.completion.chunk', system_fingerprint=None)\n",
      "ChatCompletionChunk(id='chatcmpl-8QeygzpBUra5K30DKsIT1v2epsae5', choices=[Choice(delta=ChoiceDelta(content=' don', function_call=None, role=None, tool_calls=None), finish_reason=None, index=0)], created=1701364738, model='gpt-3.5-turbo-0613', object='chat.completion.chunk', system_fingerprint=None)\n",
      "ChatCompletionChunk(id='chatcmpl-8QeygzpBUra5K30DKsIT1v2epsae5', choices=[Choice(delta=ChoiceDelta(content=\"'t\", function_call=None, role=None, tool_calls=None), finish_reason=None, index=0)], created=1701364738, model='gpt-3.5-turbo-0613', object='chat.completion.chunk', system_fingerprint=None)\n",
      "ChatCompletionChunk(id='chatcmpl-8QeygzpBUra5K30DKsIT1v2epsae5', choices=[Choice(delta=ChoiceDelta(content=' scientists', function_call=None, role=None, tool_calls=None), finish_reason=None, index=0)], created=1701364738, model='gpt-3.5-turbo-0613', object='chat.completion.chunk', system_fingerprint=None)\n",
      "ChatCompletionChunk(id='chatcmpl-8QeygzpBUra5K30DKsIT1v2epsae5', choices=[Choice(delta=ChoiceDelta(content=' trust', function_call=None, role=None, tool_calls=None), finish_reason=None, index=0)], created=1701364738, model='gpt-3.5-turbo-0613', object='chat.completion.chunk', system_fingerprint=None)\n",
      "ChatCompletionChunk(id='chatcmpl-8QeygzpBUra5K30DKsIT1v2epsae5', choices=[Choice(delta=ChoiceDelta(content=' atoms', function_call=None, role=None, tool_calls=None), finish_reason=None, index=0)], created=1701364738, model='gpt-3.5-turbo-0613', object='chat.completion.chunk', system_fingerprint=None)\n",
      "ChatCompletionChunk(id='chatcmpl-8QeygzpBUra5K30DKsIT1v2epsae5', choices=[Choice(delta=ChoiceDelta(content='?', function_call=None, role=None, tool_calls=None), finish_reason=None, index=0)], created=1701364738, model='gpt-3.5-turbo-0613', object='chat.completion.chunk', system_fingerprint=None)\n",
      "ChatCompletionChunk(id='chatcmpl-8QeygzpBUra5K30DKsIT1v2epsae5', choices=[Choice(delta=ChoiceDelta(content=' \\n\\n', function_call=None, role=None, tool_calls=None), finish_reason=None, index=0)], created=1701364738, model='gpt-3.5-turbo-0613', object='chat.completion.chunk', system_fingerprint=None)\n",
      "ChatCompletionChunk(id='chatcmpl-8QeygzpBUra5K30DKsIT1v2epsae5', choices=[Choice(delta=ChoiceDelta(content='Because', function_call=None, role=None, tool_calls=None), finish_reason=None, index=0)], created=1701364738, model='gpt-3.5-turbo-0613', object='chat.completion.chunk', system_fingerprint=None)\n",
      "ChatCompletionChunk(id='chatcmpl-8QeygzpBUra5K30DKsIT1v2epsae5', choices=[Choice(delta=ChoiceDelta(content=' they', function_call=None, role=None, tool_calls=None), finish_reason=None, index=0)], created=1701364738, model='gpt-3.5-turbo-0613', object='chat.completion.chunk', system_fingerprint=None)\n",
      "ChatCompletionChunk(id='chatcmpl-8QeygzpBUra5K30DKsIT1v2epsae5', choices=[Choice(delta=ChoiceDelta(content=' make', function_call=None, role=None, tool_calls=None), finish_reason=None, index=0)], created=1701364738, model='gpt-3.5-turbo-0613', object='chat.completion.chunk', system_fingerprint=None)\n",
      "ChatCompletionChunk(id='chatcmpl-8QeygzpBUra5K30DKsIT1v2epsae5', choices=[Choice(delta=ChoiceDelta(content=' up', function_call=None, role=None, tool_calls=None), finish_reason=None, index=0)], created=1701364738, model='gpt-3.5-turbo-0613', object='chat.completion.chunk', system_fingerprint=None)\n",
      "ChatCompletionChunk(id='chatcmpl-8QeygzpBUra5K30DKsIT1v2epsae5', choices=[Choice(delta=ChoiceDelta(content=' everything', function_call=None, role=None, tool_calls=None), finish_reason=None, index=0)], created=1701364738, model='gpt-3.5-turbo-0613', object='chat.completion.chunk', system_fingerprint=None)\n",
      "ChatCompletionChunk(id='chatcmpl-8QeygzpBUra5K30DKsIT1v2epsae5', choices=[Choice(delta=ChoiceDelta(content='!', function_call=None, role=None, tool_calls=None), finish_reason=None, index=0)], created=1701364738, model='gpt-3.5-turbo-0613', object='chat.completion.chunk', system_fingerprint=None)\n",
      "ChatCompletionChunk(id='chatcmpl-8QeygzpBUra5K30DKsIT1v2epsae5', choices=[Choice(delta=ChoiceDelta(content=None, function_call=None, role=None, tool_calls=None), finish_reason='stop', index=0)], created=1701364738, model='gpt-3.5-turbo-0613', object='chat.completion.chunk', system_fingerprint=None)\n"
     ]
    }
   ],
   "source": [
    "client = openai.OpenAI()\n",
    "\n",
    "stream = client.chat.completions.create(\n",
    "    model=\"gpt-3.5-turbo\",\n",
    "    messages=[{\"role\": \"system\", \"content\": \"Tell me a joke\"}],\n",
    "    stream=True\n",
    ")\n",
    "\n",
    "for x in stream:\n",
    "    print(x)\n"
   ]
  },
  {
   "cell_type": "markdown",
   "metadata": {},
   "source": [
    "### Async Completion"
   ]
  },
  {
   "cell_type": "code",
   "execution_count": 8,
   "metadata": {},
   "outputs": [],
   "source": [
    "client = openai.AsyncOpenAI()\n",
    "\n",
    "result = await client.chat.completions.create(\n",
    "    model=\"gpt-3.5-turbo\",\n",
    "    messages=[{\"role\": \"system\", \"content\": \"Tell me a joke\"}],\n",
    ")\n"
   ]
  },
  {
   "cell_type": "code",
   "execution_count": 9,
   "metadata": {},
   "outputs": [
    {
     "data": {
      "text/plain": [
       "ChatCompletion(id='chatcmpl-8QeyhK9A5E4Ro7SJmS4S2BSS3lHqi', choices=[Choice(finish_reason='stop', index=0, message=ChatCompletionMessage(content=\"Sure, here's one for you:\\n\\nWhy don't scientists trust atoms?\\n\\nBecause they make up everything!\", role='assistant', function_call=None, tool_calls=None))], created=1701364739, model='gpt-3.5-turbo-0613', object='chat.completion', system_fingerprint=None, usage=CompletionUsage(completion_tokens=21, prompt_tokens=11, total_tokens=32))"
      ]
     },
     "execution_count": 9,
     "metadata": {},
     "output_type": "execute_result"
    }
   ],
   "source": [
    "result\n"
   ]
  },
  {
   "cell_type": "markdown",
   "metadata": {},
   "source": [
    "### Async Completion (Streaming)"
   ]
  },
  {
   "cell_type": "code",
   "execution_count": 10,
   "metadata": {},
   "outputs": [],
   "source": [
    "client = openai.AsyncOpenAI()\n",
    "\n",
    "stream = await client.chat.completions.create(\n",
    "    model=\"gpt-3.5-turbo\",\n",
    "    messages=[{\"role\": \"system\", \"content\": \"Tell me a joke\"}],\n",
    "    stream=True\n",
    ")\n"
   ]
  },
  {
   "cell_type": "code",
   "execution_count": 11,
   "metadata": {},
   "outputs": [
    {
     "ename": "",
     "evalue": "",
     "output_type": "error",
     "traceback": [
      "\u001b[1;31mThe Kernel crashed while executing code in the the current cell or a previous cell. Please review the code in the cell(s) to identify a possible cause of the failure. Click <a href='https://aka.ms/vscodeJupyterKernelCrash'>here</a> for more info. View Jupyter <a href='command:jupyter.viewOutput'>log</a> for further details."
     ]
    }
   ],
   "source": [
    "async for x in stream:\n",
    "    ...\n"
   ]
  },
  {
   "cell_type": "code",
   "execution_count": null,
   "metadata": {},
   "outputs": [],
   "source": []
  }
 ],
 "metadata": {
  "kernelspec": {
   "display_name": "weave310",
   "language": "python",
   "name": "python3"
  },
  "language_info": {
   "codemirror_mode": {
    "name": "ipython",
    "version": 3
   },
   "file_extension": ".py",
   "mimetype": "text/x-python",
   "name": "python",
   "nbconvert_exporter": "python",
   "pygments_lexer": "ipython3",
   "version": "3.10.11"
  }
 },
 "nbformat": 4,
 "nbformat_minor": 2
}
