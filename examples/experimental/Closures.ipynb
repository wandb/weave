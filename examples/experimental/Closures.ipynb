{
 "cells": [
  {
   "cell_type": "code",
   "execution_count": null,
   "id": "69440036",
   "metadata": {},
   "outputs": [],
   "source": [
    "import weave\n",
    "# Weave package now defaults to eager mode, but lazy mode required for this example notebook for now.\n",
    "weave.use_lazy_execution()"
   ]
  },
  {
   "cell_type": "code",
   "execution_count": null,
   "id": "a7f7eda3",
   "metadata": {},
   "outputs": [],
   "source": [
    "x = 7\n",
    "\n",
    "@weave.op()\n",
    "def add_to_closed_var(n: int) -> int:\n",
    "    return x + n"
   ]
  },
  {
   "cell_type": "code",
   "execution_count": null,
   "id": "e36d5f49",
   "metadata": {},
   "outputs": [],
   "source": [
    "print(add_to_closed_var.resolve_fn.__closure__)"
   ]
  },
  {
   "cell_type": "code",
   "execution_count": null,
   "id": "287a502c",
   "metadata": {},
   "outputs": [],
   "source": [
    "print(weave.use(add_to_closed_var(9)))"
   ]
  },
  {
   "cell_type": "code",
   "execution_count": null,
   "id": "64f7c176",
   "metadata": {},
   "outputs": [],
   "source": [
    "outer_var = 1\n",
    "\n",
    "def make_fn():\n",
    "    maker_var = 2\n",
    "    def fn(arg_var):\n",
    "        return outer_var + maker_var + arg_var\n",
    "    return fn\n",
    "\n",
    "fn = make_fn()\n",
    "fn.__closure__"
   ]
  },
  {
   "cell_type": "code",
   "execution_count": null,
   "id": "4f01dcf4",
   "metadata": {},
   "outputs": [],
   "source": [
    "outer_var = 1\n",
    "def simple_fn(simple_arg):\n",
    "    return outer_var + simple_arg\n",
    "# no closure here\n",
    "print(simple_fn.__closure__)\n",
    "\n",
    "def receiver(fn):\n",
    "    print(fn.__closure__)\n",
    "# no closure when you received the function as input\n",
    "receiver(simple_fn)\n",
    "def returner(fn):\n",
    "    return fn\n",
    "\n",
    "# no closure when fn is returned from another function\n",
    "print(returner(simple_fn).__closure__)\n",
    "\n",
    "# This doesn't think it needs to close, because all versions have the value available in globals (I think)\n",
    "\n",
    "# *Causes AttributeError\n",
    "# print(simple_fn.__globals__.outer_var)\n",
    "\n",
    "# not present in globals()\n",
    "# *Causes AttributeError\n",
    "# globals().outer_var\n",
    "\n",
    "# not present in locals()\n",
    "# *Causes AttributeError\n",
    "# locals().outer_var\n",
    "\n",
    "display(simple_fn)\n",
    "\n",
    "# it is here in dir:\n",
    "dir()\n",
    "\n",
    "# Here's a really good article to read: https://www.wrighters.io/how-to-view-all-your-variables-in-a-jupyter-notebook/\n"
   ]
  }
 ],
 "metadata": {
  "kernelspec": {
   "display_name": "Python 3 (ipykernel)",
   "language": "python",
   "name": "python3"
  },
  "language_info": {
   "codemirror_mode": {
    "name": "ipython",
    "version": 3
   },
   "file_extension": ".py",
   "mimetype": "text/x-python",
   "name": "python",
   "nbconvert_exporter": "python",
   "pygments_lexer": "ipython3",
   "version": "3.9.7"
  }
 },
 "nbformat": 4,
 "nbformat_minor": 5
}
