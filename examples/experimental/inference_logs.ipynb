{
 "cells": [
  {
   "cell_type": "code",
   "execution_count": null,
   "id": "04867a84",
   "metadata": {},
   "outputs": [],
   "source": [
    "import weave\n",
    "from weave.ecosystem.huggingface import huggingface as hf"
   ]
  },
  {
   "cell_type": "code",
   "execution_count": null,
   "id": "706c885c",
   "metadata": {},
   "outputs": [],
   "source": [
    "text_gen_model = hf().model('gpt2')"
   ]
  },
  {
   "cell_type": "code",
   "execution_count": null,
   "id": "65cd354a",
   "metadata": {},
   "outputs": [],
   "source": [
    "# Call it\n",
    "text_gen_output = text_gen_model.call('This is the start')\n",
    "weave.show(text_gen_output)"
   ]
  },
  {
   "cell_type": "code",
   "execution_count": null,
   "id": "a7376f5f",
   "metadata": {},
   "outputs": [],
   "source": [
    "# The Model Inference Logs panel should show historical inference runs and output\n",
    "weave.show(text_gen_model)"
   ]
  }
 ],
 "metadata": {
  "kernelspec": {
   "display_name": "Python 3 (ipykernel)",
   "language": "python",
   "name": "python3"
  },
  "language_info": {
   "codemirror_mode": {
    "name": "ipython",
    "version": 3
   },
   "file_extension": ".py",
   "mimetype": "text/x-python",
   "name": "python",
   "nbconvert_exporter": "python",
   "pygments_lexer": "ipython3",
   "version": "3.9.7"
  }
 },
 "nbformat": 4,
 "nbformat_minor": 5
}
