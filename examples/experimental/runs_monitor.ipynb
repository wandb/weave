{
 "cells": [
  {
   "cell_type": "code",
   "execution_count": null,
   "id": "00b5ab7a",
   "metadata": {},
   "outputs": [],
   "source": [
    "import weave\n",
    "from weave.ops_domain import wb_domain_types\n",
    "from weave.ecosystem.wandb import runs2, runs2_with_columns, make_runs2_tables"
   ]
  },
  {
   "cell_type": "code",
   "execution_count": null,
   "id": "99b13fef",
   "metadata": {},
   "outputs": [],
   "source": [
    "N_RUNS = 1000\n",
    "N_CONFIG = 10\n",
    "N_SUMMARY = 10\n",
    "N_CONFIG_VALUE_CHARS = 3\n",
    "LIVE_SET_SIZE = 50\n",
    "PROJECT_NAME = f'weavetest-{N_RUNS}-{N_CONFIG}-{N_SUMMARY}-{LIVE_SET_SIZE}'\n",
    "\n",
    "make_runs2_tables(N_RUNS, N_CONFIG, N_SUMMARY, N_CONFIG_VALUE_CHARS, LIVE_SET_SIZE)"
   ]
  },
  {
   "cell_type": "code",
   "execution_count": null,
   "id": "71ccebfd",
   "metadata": {},
   "outputs": [],
   "source": [
    "project = weave.save(wb_domain_types.Project.from_keys({\"name\": PROJECT_NAME}))"
   ]
  },
  {
   "cell_type": "code",
   "execution_count": null,
   "id": "a0f25e77",
   "metadata": {},
   "outputs": [],
   "source": [
    "runs = runs2(project)\n",
    "runs"
   ]
  }
 ],
 "metadata": {
  "kernelspec": {
   "display_name": "Python 3 (ipykernel)",
   "language": "python",
   "name": "python3"
  }
 },
 "nbformat": 4,
 "nbformat_minor": 5
}
