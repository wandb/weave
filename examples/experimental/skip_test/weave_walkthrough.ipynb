{
 "cells": [
  {
   "cell_type": "code",
   "execution_count": null,
   "id": "5f8febdb",
   "metadata": {},
   "outputs": [],
   "source": [
    "import weave"
   ]
  },
  {
   "cell_type": "markdown",
   "id": "71ffc2ae",
   "metadata": {},
   "source": [
    "## Intro to Weave\n",
    "\n",
    "Weave is new kind of visual development environment, designed for developing AI-powered software.\n",
    "\n",
    "Building and working with AI models is a fuzzy process. The work is iterative, experimental, analytical, and visual.\n",
    "\n",
    "This notebook is an evolving introduction to Weave&mdash;it walks through the core concepts and existing patterns for  composing, manipulating, and extending a compute graph of typed objects."
   ]
  },
  {
   "cell_type": "markdown",
   "id": "ba8961ce",
   "metadata": {},
   "source": [
    "## Getting data into Weave"
   ]
  },
  {
   "cell_type": "markdown",
   "id": "0ce4e951",
   "metadata": {},
   "source": [
    "Get started by saving an object to Weave. Here we save the integer 5."
   ]
  },
  {
   "cell_type": "code",
   "execution_count": null,
   "id": "2ec8fa33",
   "metadata": {},
   "outputs": [],
   "source": [
    "mynum = weave.save(5, 'mynum')"
   ]
  },
  {
   "cell_type": "markdown",
   "id": "8eb4082e",
   "metadata": {},
   "source": [
    "mynum is now a Weave Node"
   ]
  },
  {
   "cell_type": "code",
   "execution_count": null,
   "id": "6ac4911b",
   "metadata": {},
   "outputs": [],
   "source": [
    "type(mynum)"
   ]
  },
  {
   "cell_type": "markdown",
   "id": "524f10af",
   "metadata": {},
   "source": [
    "A Weave Node represents a Weave Expression. Converting a Weave Node to a string shows the expression."
   ]
  },
  {
   "cell_type": "code",
   "execution_count": null,
   "id": "9450c0ac",
   "metadata": {},
   "outputs": [],
   "source": [
    "str(mynum)"
   ]
  },
  {
   "cell_type": "markdown",
   "id": "ac36edf6",
   "metadata": {},
   "source": [
    "You can execute a Weave Node by calling `weave.use()` on it"
   ]
  },
  {
   "cell_type": "code",
   "execution_count": null,
   "id": "272038df",
   "metadata": {},
   "outputs": [],
   "source": [
    "weave.use(mynum)"
   ]
  },
  {
   "cell_type": "markdown",
   "id": "df1326f6",
   "metadata": {},
   "source": [
    "Weave saves all of its data&mdash;including integers, text, images, and any other user input, as well as any downstream objects produced by computation&mdash;as Weave LocalArtifacts by default. You can inspect local artifacts at `/tmp/weave/fs/admin/local-artifacts`.\n",
    "\n",
    "**Note**: the `/tmp/weave/fs` root path is set by the `WEAVE_LOCAL_ARTIFACT_DIR` environment variable, which you can modify to store artifacts in different locations. \n",
    "\n",
    "**Note**: more precisely, Weave files are stored at `/tmp/weave/fs/[USER]/`. When you are authenticated with W&B on your local machine, your username is `admin`. This specific path component is only used in the local development case."
   ]
  },
  {
   "cell_type": "code",
   "execution_count": null,
   "id": "1c02f5ce",
   "metadata": {},
   "outputs": [],
   "source": [
    "!ls /tmp/weave/fs/admin/local-artifacts/mynum"
   ]
  },
  {
   "cell_type": "markdown",
   "id": "789a0a7b",
   "metadata": {},
   "source": [
    "You can visualize any Weave Node by putting it at the end of a cell.\n",
    "\n",
    "The Weave UI shows the expression, and by default chooses the Number panel, which calls `weave.use()` (in Javascript) and renders the result as a centered number."
   ]
  },
  {
   "cell_type": "code",
   "execution_count": null,
   "id": "5f2e7c5a",
   "metadata": {},
   "outputs": [],
   "source": [
    "mynum"
   ]
  },
  {
   "cell_type": "markdown",
   "id": "b31b65ab",
   "metadata": {},
   "source": [
    "## Operating on data"
   ]
  },
  {
   "cell_type": "markdown",
   "id": "0193b117",
   "metadata": {},
   "source": [
    "Weave Nodes have a type, you can see it by accessing the type attribute."
   ]
  },
  {
   "cell_type": "code",
   "execution_count": null,
   "id": "c3fe586c",
   "metadata": {},
   "outputs": [],
   "source": [
    "mynum.type"
   ]
  },
  {
   "cell_type": "markdown",
   "id": "4eeaef4d",
   "metadata": {},
   "source": [
    "Weave ops are typed functions. You can see the available ops for any given Weave type from the UI by placing your cursor at the end of any Weave node in the expression at the top of the panel. Weave ops can be called with the `.` operator (and in some cases, with spaces as operands — e.g. `mynum + 3`)\n",
    "<img src=\"assets/op_preview_via_cursor.png\" width=100% height=100%/>\n"
   ]
  },
  {
   "cell_type": "code",
   "execution_count": null,
   "id": "fa949ea9",
   "metadata": {},
   "outputs": [],
   "source": [
    "mynum_plus_3 = mynum.add(3)\n",
    "# You can also just do mynum + 3\n",
    "# mynum_plus_3 = mynum + 3"
   ]
  },
  {
   "cell_type": "markdown",
   "id": "474905ae",
   "metadata": {},
   "source": [
    "Now we have a new Weave Node, let's look at its expression"
   ]
  },
  {
   "cell_type": "code",
   "execution_count": null,
   "id": "d5f8672a",
   "metadata": {},
   "outputs": [],
   "source": [
    "str(mynum_plus_3)"
   ]
  },
  {
   "cell_type": "markdown",
   "id": "f4e00310",
   "metadata": {},
   "source": [
    "Execute to fetch its result"
   ]
  },
  {
   "cell_type": "code",
   "execution_count": null,
   "id": "9c6b2160",
   "metadata": {},
   "outputs": [],
   "source": [
    "weave.use(mynum_plus_3)"
   ]
  },
  {
   "cell_type": "markdown",
   "id": "eeb8b44b",
   "metadata": {},
   "source": [
    "We can see the WeaveUI shows the full expression and correct result.\n",
    "\n",
    "You can edit the expression in the UI using Weave's powerful Expression Editor. Try editing the expression to do something else."
   ]
  },
  {
   "cell_type": "code",
   "execution_count": null,
   "id": "6c53551d",
   "metadata": {},
   "outputs": [],
   "source": [
    "mynum_plus_3"
   ]
  },
  {
   "cell_type": "markdown",
   "id": "88057ffa",
   "metadata": {},
   "source": [
    "## Beyond numbers\n",
    "\n",
    "### Strings\n",
    "\n",
    "The Weave String type handles text:"
   ]
  },
  {
   "cell_type": "code",
   "execution_count": null,
   "id": "1537638f",
   "metadata": {},
   "outputs": [],
   "source": [
    "hello = weave.save(\"hello world\", \"hello\")\n",
    "hello"
   ]
  },
  {
   "cell_type": "markdown",
   "id": "6c9d5d61",
   "metadata": {},
   "source": [
    "The ops available for Weave String include comparison operands (e.g. `==\"\"`, `!= \"\"`), basic character-checking ops (`isAlpha`, `isNumeric`), simple string manipulation (e.g. `lower`, `len`, `append`), and more sophisticated string parsing (e.g. `contains`, `split`, `findAll`, `replace`)."
   ]
  },
  {
   "cell_type": "code",
   "execution_count": null,
   "id": "d234f0be",
   "metadata": {},
   "outputs": [],
   "source": [
    "greet = hello.replace(\"hello\", \"Hi\").replace(\"world\", \"Weave\") + \"!\"\n",
    "greet"
   ]
  },
  {
   "cell_type": "markdown",
   "id": "2583a0aa",
   "metadata": {},
   "source": [
    "### Bool\n",
    "\n",
    "The Weave Boolean type can be True or False and follows binary logic."
   ]
  },
  {
   "cell_type": "code",
   "execution_count": null,
   "id": "0f18a53b",
   "metadata": {},
   "outputs": [],
   "source": [
    "isTrue = weave.save(True, \"isTrue\")\n",
    "isTrue"
   ]
  },
  {
   "cell_type": "markdown",
   "id": "a31733f6",
   "metadata": {},
   "source": [
    "The following ops are available on a Weave Boolean: `!`(not), `and`, and `or`.\n",
    "\n",
    "Try adding them from the Expression Editor to change the value of the cell below."
   ]
  },
  {
   "cell_type": "code",
   "execution_count": null,
   "id": "f2961e0e",
   "metadata": {},
   "outputs": [],
   "source": [
    "isFalse = weave.save(False, \"isFalse\")\n",
    "isFalse"
   ]
  },
  {
   "cell_type": "markdown",
   "id": "fb742e66",
   "metadata": {},
   "source": [
    "You can evaluate logical expressions of Weave Booleans by calling `weave.use()` to first get the value of the Weave Node.  "
   ]
  },
  {
   "cell_type": "markdown",
   "id": "ee7948d3",
   "metadata": {},
   "source": [
    "### None\n",
    "\n",
    "For completeness, the Weave None type also exists. Currently the Python null (`None`) is rendered as an empty Panel of type Boolean. You can click on the panel type (e.g. the string \"Boolean\" after running the cell below), change it to \"none\", and see the union of all the ecosystem ops across types.\n",
    "\n",
    "none = weave.save(None, \"none\")\n",
    "none"
   ]
  },
  {
   "cell_type": "markdown",
   "id": "2d3f4ea1",
   "metadata": {},
   "source": [
    "# Lists"
   ]
  },
  {
   "cell_type": "code",
   "execution_count": null,
   "id": "e925b8df",
   "metadata": {},
   "outputs": [],
   "source": [
    "my_list = weave.save([1, 2, 3])\n",
    "my_list"
   ]
  }
 ],
 "metadata": {
  "kernelspec": {
   "display_name": "Python 3 (ipykernel)",
   "language": "python",
   "name": "python3"
  },
  "language_info": {
   "codemirror_mode": {
    "name": "ipython",
    "version": 3
   },
   "file_extension": ".py",
   "mimetype": "text/x-python",
   "name": "python",
   "nbconvert_exporter": "python",
   "pygments_lexer": "ipython3",
   "version": "3.9.7"
  }
 },
 "nbformat": 4,
 "nbformat_minor": 5
}
