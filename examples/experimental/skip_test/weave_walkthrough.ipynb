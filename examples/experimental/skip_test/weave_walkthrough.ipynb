{
 "cells": [
  {
   "cell_type": "code",
   "execution_count": null,
   "id": "5f8febdb",
   "metadata": {},
   "outputs": [],
   "source": [
    "import weave\n",
    "weave.use_frontend_devmode()"
   ]
  },
  {
   "cell_type": "markdown",
   "id": "71ffc2ae",
   "metadata": {},
   "source": [
    "## Intro\n",
    "\n",
    "Weave is new kind of visual development environment, designed for developing AI-powered software.\n",
    "\n",
    "Building and working with AI models is a fuzzy process. The work is iterative, experimental, analytical, and visual."
   ]
  },
  {
   "cell_type": "markdown",
   "id": "ba8961ce",
   "metadata": {},
   "source": [
    "## Getting data into Weave"
   ]
  },
  {
   "cell_type": "markdown",
   "id": "0ce4e951",
   "metadata": {},
   "source": [
    "Get started by saving an object to Weave. Here we save the integer 5."
   ]
  },
  {
   "cell_type": "code",
   "execution_count": null,
   "id": "2ec8fa33",
   "metadata": {},
   "outputs": [],
   "source": [
    "mynum = weave.save(5, 'mynum')"
   ]
  },
  {
   "cell_type": "markdown",
   "id": "8eb4082e",
   "metadata": {},
   "source": [
    "mynum is now a Weave Node"
   ]
  },
  {
   "cell_type": "code",
   "execution_count": null,
   "id": "6ac4911b",
   "metadata": {},
   "outputs": [],
   "source": [
    "type(mynum)"
   ]
  },
  {
   "cell_type": "markdown",
   "id": "524f10af",
   "metadata": {},
   "source": [
    "A Weave Node represents a Weave Expression. Converting a Weave Node to a string shows the expression."
   ]
  },
  {
   "cell_type": "code",
   "execution_count": null,
   "id": "9450c0ac",
   "metadata": {},
   "outputs": [],
   "source": [
    "str(mynum)"
   ]
  },
  {
   "cell_type": "markdown",
   "id": "ac36edf6",
   "metadata": {},
   "source": [
    "You can execute a Weave Node by calling weave.use on it"
   ]
  },
  {
   "cell_type": "code",
   "execution_count": null,
   "id": "272038df",
   "metadata": {},
   "outputs": [],
   "source": [
    "weave.use(mynum)"
   ]
  },
  {
   "cell_type": "markdown",
   "id": "df1326f6",
   "metadata": {},
   "source": [
    "Weave saves data as a Weave LocalArtifact by default. You can inspect local artifacts at /tmp/weave/fs/admin/local-artifacts."
   ]
  },
  {
   "cell_type": "code",
   "execution_count": null,
   "id": "1c02f5ce",
   "metadata": {},
   "outputs": [],
   "source": [
    "!ls /tmp/weave/fs/admin/local-artifacts/mynum"
   ]
  },
  {
   "cell_type": "markdown",
   "id": "789a0a7b",
   "metadata": {},
   "source": [
    "You can visualize any Weave Node by putting it at the end of a cell.\n",
    "(TODO: this should just say panel0 = Number(mynum))\n",
    "\n",
    "The Weave UI shows the expression, and by default chooses the Number panel, which calls weave.use (in javascript) and renders the result as a centered number."
   ]
  },
  {
   "cell_type": "code",
   "execution_count": null,
   "id": "5f2e7c5a",
   "metadata": {},
   "outputs": [],
   "source": [
    "mynum"
   ]
  },
  {
   "cell_type": "markdown",
   "id": "b31b65ab",
   "metadata": {},
   "source": [
    "## Operating on data"
   ]
  },
  {
   "cell_type": "markdown",
   "id": "0193b117",
   "metadata": {},
   "source": [
    "Weave Nodes have a type, you can see it by accessing the type attribute"
   ]
  },
  {
   "cell_type": "code",
   "execution_count": null,
   "id": "c3fe586c",
   "metadata": {},
   "outputs": [],
   "source": [
    "mynum.type"
   ]
  },
  {
   "cell_type": "markdown",
   "id": "4eeaef4d",
   "metadata": {},
   "source": [
    "Weave ops are typed functions. There are lots built in to Weave. To see ops that are callable on a Weave Node, you can use .chainable_ops()"
   ]
  },
  {
   "cell_type": "code",
   "execution_count": null,
   "id": "4d899db6",
   "metadata": {},
   "outputs": [],
   "source": [
    "mynum.chainable_ops()"
   ]
  },
  {
   "cell_type": "markdown",
   "id": "85462d54",
   "metadata": {},
   "source": [
    "Any chainable op can be called with the \".\" operator"
   ]
  },
  {
   "cell_type": "code",
   "execution_count": null,
   "id": "fa949ea9",
   "metadata": {},
   "outputs": [],
   "source": [
    "mynum_plus_3 = mynum.add(3)  # You can also just do mynum + 3"
   ]
  },
  {
   "cell_type": "markdown",
   "id": "474905ae",
   "metadata": {},
   "source": [
    "Now we have a new Weave Node, let's look at its expression"
   ]
  },
  {
   "cell_type": "code",
   "execution_count": null,
   "id": "d5f8672a",
   "metadata": {},
   "outputs": [],
   "source": [
    "str(mynum_plus_3)"
   ]
  },
  {
   "cell_type": "markdown",
   "id": "f4e00310",
   "metadata": {},
   "source": [
    "Execute to fetch its result"
   ]
  },
  {
   "cell_type": "code",
   "execution_count": null,
   "id": "9c6b2160",
   "metadata": {},
   "outputs": [],
   "source": [
    "weave.use(mynum_plus_3)"
   ]
  },
  {
   "cell_type": "markdown",
   "id": "eeb8b44b",
   "metadata": {},
   "source": [
    "We can see the WeaveUI shows the full expression and correct result.\n",
    "\n",
    "You can edit the expression in the UI using Weave's powerful Expression Editor. Try editing the expression to do something else.\n",
    "\n",
    "(TODO: lots of junk in suggestions here, and clicking some of them like .round() doesn't work due to calling conventions :()"
   ]
  },
  {
   "cell_type": "code",
   "execution_count": null,
   "id": "6c53551d",
   "metadata": {},
   "outputs": [],
   "source": [
    "mynum_plus_3"
   ]
  },
  {
   "cell_type": "markdown",
   "id": "88057ffa",
   "metadata": {},
   "source": [
    "## Beyond numbers\n",
    "\n",
    "### Strings\n",
    "\n",
    "The Weave String type handles text:"
   ]
  },
  {
   "cell_type": "code",
   "execution_count": null,
   "id": "1537638f",
   "metadata": {},
   "outputs": [],
   "source": [
    "hello = weave.save(\"hello world\", \"hello\")\n",
    "hello"
   ]
  },
  {
   "cell_type": "markdown",
   "id": "6c9d5d61",
   "metadata": {},
   "source": [
    "The ops available for Weave String include comparison operands (e.g. ==\"\", != \"\"), basic type-checking ops (isAlpha, isNumeric), simple string manipulation (e.g. lower, len, append), and more sophisticated string parsing (e.g. contains, split, findAll, replace)."
   ]
  },
  {
   "cell_type": "code",
   "execution_count": null,
   "id": "d234f0be",
   "metadata": {},
   "outputs": [],
   "source": [
    "greet = hello.replace(\"hello\", \"Hi\").replace(\"world\", \"Weave\") + \"!\"\n",
    "greet"
   ]
  },
  {
   "cell_type": "markdown",
   "id": "2583a0aa",
   "metadata": {},
   "source": [
    "### Bool\n",
    "\n",
    "The Weave Boolean type can be True or False and follows binary logic."
   ]
  },
  {
   "cell_type": "code",
   "execution_count": null,
   "id": "0f18a53b",
   "metadata": {},
   "outputs": [],
   "source": [
    "yes = weave.save(True, \"yes\")\n",
    "yes"
   ]
  },
  {
   "cell_type": "code",
   "execution_count": null,
   "id": "f2961e0e",
   "metadata": {},
   "outputs": [],
   "source": [
    "no = weave.save(False, \"no\")\n",
    "no"
   ]
  },
  {
   "cell_type": "code",
   "execution_count": null,
   "id": "ad2d4406",
   "metadata": {},
   "outputs": [],
   "source": [
    "weave_or = weave.use(yes) or weave.use(no)\n",
    "weave_or"
   ]
  },
  {
   "cell_type": "markdown",
   "id": "a31733f6",
   "metadata": {},
   "source": [
    "The following ops are available on a Weave Boolean: ! (not), and, or.\n",
    "\n",
    "Try adding them from the Expression Editor to change the output of the cell below."
   ]
  },
  {
   "cell_type": "code",
   "execution_count": null,
   "id": "5a1ad511",
   "metadata": {},
   "outputs": [],
   "source": [
    "maybe = weave.save(weave_or)\n",
    "maybe"
   ]
  },
  {
   "cell_type": "markdown",
   "id": "ee7948d3",
   "metadata": {},
   "source": [
    "### None\n",
    "\n",
    "TODO: is this correct/expected behavior? is there a different way to access/use the None type?\n",
    "\n",
    "For completeness, the Weave None type also exists. Currently the Python null (**None**) is rendered as an empty Panel of type Boolean. You can click on the panel type (e.g. the string \"Boolean\" after running the cell below), change it to \"none\", and see the union of all the ecosystem ops across types."
   ]
  },
  {
   "cell_type": "code",
   "execution_count": null,
   "id": "f980a904",
   "metadata": {},
   "outputs": [],
   "source": [
    "none = weave.save(None, \"none\")\n",
    "none"
   ]
  },
  {
   "cell_type": "markdown",
   "id": "2d3f4ea1",
   "metadata": {},
   "source": [
    "### TODOs:\n",
    "- chainable_ops doesn't work\n",
    "- clean up EE suggestions / have a workaround?\n",
    "- \"You can visualize any Weave Node by putting it at the end of a cell. (TODO: this should just say panel0 = Number(mynum))\" — does this mean we want to render a Board in addition to/instead of a Table? Or can we remove this note?\n",
    "\n",
    "- OTHER TYPES\n",
    "  - dictionaries and lists\n",
    "  - tables, dataframes\n",
    "  - models\n",
    "- Publish and boards\n",
    "- Cross panel interactions\n",
    "- Weave properties like tags/mapping/null\n",
    "- Ecosystem and Creating new stuff"
   ]
  },
  {
   "cell_type": "code",
   "execution_count": null,
   "id": "e925b8df",
   "metadata": {},
   "outputs": [],
   "source": [
    "weave.save([1, 2, 3])"
   ]
  }
 ],
 "metadata": {
  "kernelspec": {
   "display_name": "Python 3 (ipykernel)",
   "language": "python",
   "name": "python3"
  },
  "language_info": {
   "codemirror_mode": {
    "name": "ipython",
    "version": 3
   },
   "file_extension": ".py",
   "mimetype": "text/x-python",
   "name": "python",
   "nbconvert_exporter": "python",
   "pygments_lexer": "ipython3",
   "version": "3.9.7"
  }
 },
 "nbformat": 4,
 "nbformat_minor": 5
}
