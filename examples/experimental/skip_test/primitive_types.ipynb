{
 "cells": [
  {
   "cell_type": "markdown",
   "id": "8e561dd6",
   "metadata": {},
   "source": [
    "# Weave Primitives: Number and String\n",
    "\n",
    "How to use numbers and strings in Weave"
   ]
  },
  {
   "cell_type": "code",
   "execution_count": null,
   "id": "3dc970ad",
   "metadata": {},
   "outputs": [],
   "source": [
    "import weave\n",
    "weave.use_frontend_devmode()"
   ]
  },
  {
   "cell_type": "markdown",
   "id": "7de36fc3",
   "metadata": {},
   "source": [
    "# Weave Number\n",
    "\n",
    "Handles numeric types, including Python integers and floats\n",
    "\n",
    "Start by saving an integer as an object to Weave:"
   ]
  },
  {
   "cell_type": "code",
   "execution_count": null,
   "id": "8e120856",
   "metadata": {},
   "outputs": [],
   "source": [
    "num = weave.save(5, \"num\")"
   ]
  },
  {
   "cell_type": "markdown",
   "id": "85cdce88",
   "metadata": {},
   "source": [
    "Call the object to view it as Weave panel:"
   ]
  },
  {
   "cell_type": "code",
   "execution_count": null,
   "id": "af748324",
   "metadata": {},
   "outputs": [],
   "source": [
    "num"
   ]
  },
  {
   "cell_type": "markdown",
   "id": "7d5b7aaa",
   "metadata": {},
   "source": [
    "Weave objects know their types:"
   ]
  },
  {
   "cell_type": "code",
   "execution_count": null,
   "id": "772ae7d5",
   "metadata": {},
   "outputs": [],
   "source": [
    "num.type"
   ]
  },
  {
   "cell_type": "code",
   "execution_count": null,
   "id": "eee51811",
   "metadata": {},
   "outputs": [],
   "source": [
    "decimal = weave.save(4.123, \"decimal\")\n",
    "decimal"
   ]
  },
  {
   "cell_type": "code",
   "execution_count": null,
   "id": "5201f33e",
   "metadata": {},
   "outputs": [],
   "source": [
    "decimal.type"
   ]
  },
  {
   "cell_type": "code",
   "execution_count": null,
   "id": "5753e362",
   "metadata": {},
   "outputs": [],
   "source": [
    "sum_so_far = num + decimal\n",
    "sum_so_far"
   ]
  },
  {
   "cell_type": "markdown",
   "id": "0b29e5da",
   "metadata": {},
   "source": [
    "## Weave Number Ops\n",
    "\n",
    "The following operations are available for the Weave Number type:\n",
    "\n",
    "### Operands \n",
    "\n",
    "Relations between two Weave nodes\n",
    "* basic comparison ops: !=, ==, >, >=, <, <=\n",
    "* basic mathematical operations: +, -, *, /, //, **, %\n",
    "\n",
    "### Ecosystem ops\n",
    "\n",
    "Weave op callable on a single Weave node\n",
    "* more advanced math: sin, cos\n",
    "* formatting numerical values: abs, ceil, round, toString, toTimestamp\n",
    "* relevant generics: isNone, json_dumps\n",
    "\n",
    "### Making histograms & panels\n",
    "\n",
    "May not be relevant for every instance of a number\n",
    "* number_bins_fixed, timestamp_bins_fixed\n",
    "* gauss, random_normal(), random_normal(,)\n",
    "* _new_Facet_CellSize(), _new_Point2D, _new_Size2D(,)\n",
    "\n",
    "### Misc from Ecosystem\n",
    "* an_example op, food101, mnist, ca_housing_dataset, days"
   ]
  },
  {
   "cell_type": "markdown",
   "id": "5ccdfacc",
   "metadata": {},
   "source": [
    "# Weave String\n",
    "\n",
    "Handles text"
   ]
  },
  {
   "cell_type": "code",
   "execution_count": null,
   "id": "48c7dcf7",
   "metadata": {},
   "outputs": [],
   "source": [
    "hello = weave.save(\"hello\", \"my_greeting\")\n",
    "hello"
   ]
  },
  {
   "cell_type": "code",
   "execution_count": null,
   "id": "2723a161",
   "metadata": {},
   "outputs": [],
   "source": [
    "hello.type"
   ]
  },
  {
   "cell_type": "code",
   "execution_count": null,
   "id": "5919313a",
   "metadata": {},
   "outputs": [],
   "source": [
    "world = weave.save(\"world\", \"who\")\n",
    "hello_world = hello + \" \" + world\n",
    "hello_world"
   ]
  },
  {
   "cell_type": "markdown",
   "id": "ef638ef1",
   "metadata": {},
   "source": [
    "## Weave String Ops\n",
    "\n",
    "Operations available on Weave Strings, by category:\n",
    "\n",
    "* basic operands: ==, !=, +\n",
    "* basic checks/type conversion: isNone, isAlpha, isAlnum, isNumeric\n",
    "* basic callable ops: append, lStrip, rStrip, lower, len, prepend\n",
    "* generic formatting: json_dumps, json_parse, json_parse_list, date_parse\n",
    "* more sophisticated string parsing: contains, endsWith, findAll, levenshtein, replace, slice, split "
   ]
  },
  {
   "cell_type": "markdown",
   "id": "b3f26cd3",
   "metadata": {},
   "source": [
    "# TODO\n",
    "\n",
    "## Notes / questions\n",
    "\n",
    "* shall we start with the Weave-typing intro (cache paths, weave.use) or no?\n",
    "* how attached are we to the current set of default ops? can I group/edit suggestions, or filter out the ecosystem noise? Would consider including screenshots of the suggestions, and these seem too messy right now.\n",
    "* order of suggestions—is this defined anywhere?\n",
    "* how do we treat more generic ops? talk about these as a separate category?\n",
    "* something specific about wording/documenting types I should consider besides basic definitions and ops? e.g. push the boundaries of what is a Number/String...? have more realistic/complex op examples? e.g. do some algebra/calculus/at least stats with the numbers, plot them...? or ok to save that for future notebooks?\n",
    "* condensing weave expressions—do we want to recommend that folks? implement their math as a series of weave modifiers in EE? seriously?\n",
    "\n",
    "## Number details\n",
    "* why does chainable_ops() not work anymore?\n",
    "* any differences in Int/Float? any other numerical types we should know about? e.g. pi/irrationals...? fancier math?\n",
    "* missing floor op?\n",
    "* what is fromNumber?\n",
    "* String: what is lastLetter/do we need it?\n",
    "* String: partition? what is it?\n",
    "* String: pyfunction()? calls... the function defined in the string?"
   ]
  },
  {
   "cell_type": "code",
   "execution_count": null,
   "id": "cbead95e",
   "metadata": {},
   "outputs": [],
   "source": [
    "type(num)"
   ]
  },
  {
   "cell_type": "code",
   "execution_count": null,
   "id": "df63636c",
   "metadata": {},
   "outputs": [],
   "source": [
    "# currently broken, prints an error: WeaveDispatchError: No ops called \"chainable_ops\" available on type \"Int()\"\n",
    "num.chainable_ops()"
   ]
  }
 ],
 "metadata": {
  "kernelspec": {
   "display_name": "Python 3 (ipykernel)",
   "language": "python",
   "name": "python3"
  },
  "language_info": {
   "codemirror_mode": {
    "name": "ipython",
    "version": 3
   },
   "file_extension": ".py",
   "mimetype": "text/x-python",
   "name": "python",
   "nbconvert_exporter": "python",
   "pygments_lexer": "ipython3",
   "version": "3.9.7"
  }
 },
 "nbformat": 4,
 "nbformat_minor": 5
}
