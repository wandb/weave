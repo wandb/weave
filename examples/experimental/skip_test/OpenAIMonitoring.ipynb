{
 "cells": [
  {
   "cell_type": "code",
   "execution_count": 1,
   "id": "8107732a-fb90-45f8-8377-6381bd28475d",
   "metadata": {},
   "outputs": [],
   "source": [
    "import openai"
   ]
  },
  {
   "cell_type": "code",
   "execution_count": 2,
   "id": "2514db68",
   "metadata": {},
   "outputs": [
    {
     "data": {
      "text/html": [
       " View data at <a href='https://weave.wandb.ai/?exp=get%28%0A++++%22wandb-artifact%3A%2F%2F%2Fshawn%2Fopenai_mon%2Fcompletions_5%3Alatest%2Fobj%22%29%0A++.rows' target=\"_blank\">https://weave.wandb.ai/?exp=get%28%0A++++%22wandb-artifact%3A%2F%2F%2Fshawn%2Fopenai_mon%2Fcompletions_5%3Alatest%2Fobj%22%29%0A++.rows</a>"
      ],
      "text/plain": [
       "<IPython.core.display.HTML object>"
      ]
     },
     "metadata": {},
     "output_type": "display_data"
    }
   ],
   "source": [
    "import weave\n",
    "weave.use_frontend_devmode()\n",
    "from weave.monitoring import monitor\n",
    "m = monitor(\"shawn/openai_mon/completions_5\")\n",
    "monitored_create = m.trace()(openai.ChatCompletion.create)"
   ]
  },
  {
   "cell_type": "code",
   "execution_count": 3,
   "id": "0394c0a8",
   "metadata": {},
   "outputs": [
    {
     "name": "stdout",
     "output_type": "stream",
     "text": [
      "Q: What is the value of pi?\n",
      "A: The value of pi is approximately 3.14159. It is a mathematical constant that represents the ratio of a circle's circumference to its diameter.\n",
      "Q: What is the boiling point of water in Celsius?\n",
      "A: The boiling point of water in Celsius is 100 degrees Celsius.\n",
      "Q: What is the boiling point of water in degrees Celsius?\n",
      "A: The boiling point of water in degrees Celsius is 100°C.\n",
      "Q: What is the boiling point of water at sea level?\n",
      "A: The boiling point of water at sea level is 100 degrees Celsius (212 degrees Fahrenheit).\n",
      "Q: What percentage of Earth's surface is covered by water?\n",
      "A: Approximately 71% of Earth's surface is covered by water.\n"
     ]
    }
   ],
   "source": [
    "import time\n",
    "import random\n",
    "question = None\n",
    "for i in range(5):\n",
    "    time.sleep(random.random() * 3)\n",
    "    helper = \"\"\n",
    "    # if question is not None:\n",
    "    #     helper = f\"It should be different than \\\"{question}\\\".\"\n",
    "    record = monitored_create(model=\"gpt-3.5-turbo\", messages=[\n",
    "        {\"role\": \"system\", \"content\": \"You are a world-class machine learning researcher.\"},\n",
    "        {\"role\": \"user\", \"content\": f\"Please provide a simple, fact-based question to send to an AI system. Do not say anything other than the question itself. Use this random number as inspiration: {random.random()}.\"},\n",
    "    ])\n",
    "    question = record['choices'][0]['message']['content']\n",
    "    time.sleep(random.random() * 3)\n",
    "    record2 = monitored_create(model=\"gpt-3.5-turbo\", messages=[\n",
    "        {\"role\": \"system\", \"content\": \"You are a helpful assistant.\"},\n",
    "        {\"role\": \"user\", \"content\": f'Please answer the following question: \\\"{question}\\\"'},\n",
    "    ])\n",
    "    answer = record2['choices'][0]['message']['content']\n",
    "    print(f\"Q: {question}\\nA: {answer}\")\n",
    "    "
   ]
  },
  {
   "cell_type": "code",
   "execution_count": 4,
   "id": "0a8b2abb",
   "metadata": {
    "scrolled": false
   },
   "outputs": [
    {
     "data": {
      "text/html": [
       "\n",
       "        <iframe\n",
       "            width=\"100%\"\n",
       "            height=\"400px\"\n",
       "            src=\"http://localhost:3000/__frontend/weave_jupyter?fullScreen&expNode=%7B%22nodeType%22%3A%20%22output%22%2C%20%22type%22%3A%20%22any%22%2C%20%22fromOp%22%3A%20%7B%22name%22%3A%20%22get%22%2C%20%22inputs%22%3A%20%7B%22uri%22%3A%20%7B%22nodeType%22%3A%20%22const%22%2C%20%22type%22%3A%20%22string%22%2C%20%22val%22%3A%20%22local-artifact%3A///dashboard-tagged%3Alatest/obj%22%7D%7D%7D%7D\"\n",
       "            frameborder=\"0\"\n",
       "            allowfullscreen\n",
       "            allow=\"clipboard-write\"\n",
       "        ></iframe>\n",
       "        "
      ],
      "text/plain": [
       "<IPython.lib.display.IFrame at 0x1728f6ee0>"
      ]
     },
     "metadata": {},
     "output_type": "display_data"
    }
   ],
   "source": [
    "m._streamtable.rows()"
   ]
  },
  {
   "cell_type": "code",
   "execution_count": 5,
   "id": "ca2c2765",
   "metadata": {},
   "outputs": [],
   "source": [
    "import weave\n",
    "from weave.panels_py import panel_open_ai_monitor"
   ]
  },
  {
   "cell_type": "code",
   "execution_count": 6,
   "id": "bdae9ba5-aa2b-4191-9a42-c1078ba0698a",
   "metadata": {},
   "outputs": [
    {
     "ename": "AttributeError",
     "evalue": "'function' object has no attribute 'rows'",
     "output_type": "error",
     "traceback": [
      "\u001b[0;31m---------------------------------------------------------------------------\u001b[0m",
      "\u001b[0;31mAttributeError\u001b[0m                            Traceback (most recent call last)",
      "Cell \u001b[0;32mIn[6], line 1\u001b[0m\n\u001b[0;32m----> 1\u001b[0m weave\u001b[38;5;241m.\u001b[39muse(panel_open_ai_monitor\u001b[38;5;241m.\u001b[39mboard(\u001b[43mmonitored_create\u001b[49m\u001b[38;5;241;43m.\u001b[39;49m\u001b[43mrows\u001b[49m()))\n",
      "\u001b[0;31mAttributeError\u001b[0m: 'function' object has no attribute 'rows'"
     ]
    }
   ],
   "source": [
    "weave.use(panel_open_ai_monitor.board(monitored_create.rows()))"
   ]
  }
 ],
 "metadata": {
  "kernelspec": {
   "display_name": "Python 3 (ipykernel)",
   "language": "python",
   "name": "python3"
  },
  "language_info": {
   "codemirror_mode": {
    "name": "ipython",
    "version": 3
   },
   "file_extension": ".py",
   "mimetype": "text/x-python",
   "name": "python",
   "nbconvert_exporter": "python",
   "pygments_lexer": "ipython3",
   "version": "3.9.7"
  }
 },
 "nbformat": 4,
 "nbformat_minor": 5
}
