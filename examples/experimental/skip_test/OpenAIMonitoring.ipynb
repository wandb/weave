{
 "cells": [
  {
   "cell_type": "code",
   "execution_count": null,
   "id": "8107732a-fb90-45f8-8377-6381bd28475d",
   "metadata": {},
   "outputs": [],
   "source": [
    "import openai"
   ]
  },
  {
   "cell_type": "code",
   "execution_count": null,
   "id": "b9d9646e",
   "metadata": {},
   "outputs": [],
   "source": [
    "response = openai.ChatCompletion.create(\n",
    "  model=\"gpt-3.5-turbo\",\n",
    "  messages=[\n",
    "        {\"role\": \"system\", \"content\": \"You are a helpful assistant.\"},\n",
    "        {\"role\": \"user\", \"content\": \"Who won the world series in 2020?\"},\n",
    "        {\"role\": \"assistant\", \"content\": \"The Los Angeles Dodgers won the World Series in 2020.\"},\n",
    "        {\"role\": \"user\", \"content\": \"Where was it played?\"}\n",
    "    ]\n",
    ")"
   ]
  },
  {
   "cell_type": "code",
   "execution_count": null,
   "id": "fa486bb6",
   "metadata": {},
   "outputs": [],
   "source": [
    "response"
   ]
  },
  {
   "cell_type": "code",
   "execution_count": null,
   "id": "2514db68",
   "metadata": {},
   "outputs": [],
   "source": [
    "from weave.monitoring import monitor\n",
    "m = monitor(\"completions_4\", project_name=\"open_ai_monitor_example\", entity_name=\"timssweeney\")\n",
    "monitored_create = m(openai.ChatCompletion.create)"
   ]
  },
  {
   "cell_type": "code",
   "execution_count": null,
   "id": "0394c0a8",
   "metadata": {},
   "outputs": [],
   "source": [
    "import time\n",
    "import random\n",
    "question = None\n",
    "for i in range(5):\n",
    "    time.sleep(random.random() * 3)\n",
    "    helper = \"\"\n",
    "    # if question is not None:\n",
    "    #     helper = f\"It should be different than \\\"{question}\\\".\"\n",
    "    record = monitored_create(model=\"gpt-3.5-turbo\", messages=[\n",
    "        {\"role\": \"system\", \"content\": \"You are a world-class machine learning researcher.\"},\n",
    "        {\"role\": \"user\", \"content\": f\"Please provide a simple, fact-based question to send to an AI system. Do not say anything other than the question itself. Use this random number as inspiration: {random.random()}.\"},\n",
    "    ])\n",
    "    question = record.get()['choices'][0]['message']['content']\n",
    "    time.sleep(random.random() * 3)\n",
    "    record2 = monitored_create(model=\"gpt-3.5-turbo\", messages=[\n",
    "        {\"role\": \"system\", \"content\": \"You are a helpful assistant.\"},\n",
    "        {\"role\": \"user\", \"content\": f'Please answer the following question: \\\"{question}\\\"'},\n",
    "    ])\n",
    "    answer = record2.get()['choices'][0]['message']['content']\n",
    "    print(f\"Q: {question}\\nA: {answer}\")\n",
    "    "
   ]
  },
  {
   "cell_type": "code",
   "execution_count": null,
   "id": "0a8b2abb",
   "metadata": {},
   "outputs": [],
   "source": [
    "monitored_create.rows()"
   ]
  },
  {
   "cell_type": "code",
   "execution_count": null,
   "id": "ca2c2765",
   "metadata": {},
   "outputs": [],
   "source": [
    "import weave\n",
    "from weave.panels_py import panel_open_ai_monitor"
   ]
  },
  {
   "cell_type": "code",
   "execution_count": null,
   "id": "bdae9ba5-aa2b-4191-9a42-c1078ba0698a",
   "metadata": {},
   "outputs": [],
   "source": [
    "weave.use(panel_open_ai_monitor.board(monitored_create.rows()))"
   ]
  }
 ],
 "metadata": {
  "kernelspec": {
   "display_name": "Python 3 (ipykernel)",
   "language": "python",
   "name": "python3"
  },
  "language_info": {
   "codemirror_mode": {
    "name": "ipython",
    "version": 3
   },
   "file_extension": ".py",
   "mimetype": "text/x-python",
   "name": "python",
   "nbconvert_exporter": "python",
   "pygments_lexer": "ipython3",
   "version": "3.10.8"
  }
 },
 "nbformat": 4,
 "nbformat_minor": 5
}
