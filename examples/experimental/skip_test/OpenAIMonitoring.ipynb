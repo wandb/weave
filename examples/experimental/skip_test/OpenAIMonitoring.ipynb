{
 "cells": [
  {
   "cell_type": "code",
   "execution_count": 1,
   "id": "5c2cc986-9f98-4419-90ad-3bb030dfe505",
   "metadata": {},
   "outputs": [],
   "source": [
    "%load_ext autoreload"
   ]
  },
  {
   "cell_type": "code",
   "execution_count": 2,
   "id": "25c6b779-4720-420b-8548-c3370b13144e",
   "metadata": {},
   "outputs": [],
   "source": [
    "%autoreload 2"
   ]
  },
  {
   "cell_type": "code",
   "execution_count": 3,
   "id": "8107732a-fb90-45f8-8377-6381bd28475d",
   "metadata": {},
   "outputs": [],
   "source": [
    "import openai"
   ]
  },
  {
   "cell_type": "code",
   "execution_count": null,
   "id": "b9d9646e",
   "metadata": {},
   "outputs": [],
   "source": [
    "response = openai.ChatCompletion.create(\n",
    "  model=\"gpt-3.5-turbo\",\n",
    "  messages=[\n",
    "        {\"role\": \"system\", \"content\": \"You are a helpful assistant.\"},\n",
    "        {\"role\": \"user\", \"content\": \"Who won the world series in 2020?\"},\n",
    "        {\"role\": \"assistant\", \"content\": \"The Los Angeles Dodgers won the World Series in 2020.\"},\n",
    "        {\"role\": \"user\", \"content\": \"Where was it played?\"}\n",
    "    ]\n",
    ")"
   ]
  },
  {
   "cell_type": "code",
   "execution_count": null,
   "id": "fa486bb6",
   "metadata": {},
   "outputs": [],
   "source": [
    "response"
   ]
  },
  {
   "cell_type": "code",
   "execution_count": 18,
   "id": "2514db68",
   "metadata": {},
   "outputs": [
    {
     "data": {
      "text/html": [
       " View data at <a href='https://weave.wandb.ai/?exp=get%28%0A++++%22wandb-artifact%3A%2F%2F%2Ftimssweeney%2Fopen_ai_monitor_example%2Fcompletions_4%3Alatest%2Fobj%22%29%0A++.rows' target=\"_blank\">https://weave.wandb.ai/?exp=get%28%0A++++%22wandb-artifact%3A%2F%2F%2Ftimssweeney%2Fopen_ai_monitor_example%2Fcompletions_4%3Alatest%2Fobj%22%29%0A++.rows</a>"
      ],
      "text/plain": [
       "<IPython.core.display.HTML object>"
      ]
     },
     "metadata": {},
     "output_type": "display_data"
    }
   ],
   "source": [
    "from weave.monitoring import monitor\n",
    "m = monitor(\"completions_4\", project_name=\"open_ai_monitor_example\", entity_name=\"timssweeney\")\n",
    "monitored_create = m(openai.ChatCompletion.create)"
   ]
  },
  {
   "cell_type": "code",
   "execution_count": 19,
   "id": "0394c0a8",
   "metadata": {},
   "outputs": [
    {
     "name": "stdout",
     "output_type": "stream",
     "text": [
      "Q: What is the approximate value of the square root of 0.16774964004798298?\n",
      "A: The approximate value of the square root of 0.16774964004798298 is approximately 0.4096070355922885.\n",
      "Q: What is the approximate value of pi (π)?\n",
      "A: The approximate value of pi (π) is 3.14.\n",
      "Q: What is the capital of Canada?\n",
      "A: The capital of Canada is Ottawa.\n",
      "Q: What is the boiling point of water at sea level?\n",
      "A: The boiling point of water at sea level is approximately 100 degrees Celsius or 212 degrees Fahrenheit.\n",
      "Q: What is the atomic number of an element with an atomic mass of 0.00010296087465422321?\n",
      "A: To determine the atomic number of an element given its atomic mass, you need to refer to the periodic table. The atomic mass of an element is generally represented as a decimal number, while the atomic number is an integer.\n",
      "\n",
      "Unfortunately, the atomic mass you provided (0.00010296087465422321) seems to be too precise and specific to correspond with any known element. Typical atomic masses are expressed to four decimal places or rounded to two decimal places on the periodic table.\n",
      "\n",
      "If you can provide the atomic mass of an element to a more commonly used decimal place, I would be happy to help you determine its corresponding atomic number.\n"
     ]
    }
   ],
   "source": [
    "import time\n",
    "import random\n",
    "question = None\n",
    "for i in range(5):\n",
    "    time.sleep(random.random() * 3)\n",
    "    helper = \"\"\n",
    "    # if question is not None:\n",
    "    #     helper = f\"It should be different than \\\"{question}\\\".\"\n",
    "    record = monitored_create(model=\"gpt-3.5-turbo\", messages=[\n",
    "        {\"role\": \"system\", \"content\": \"You are a world-class machine learning researcher.\"},\n",
    "        {\"role\": \"user\", \"content\": f\"Please provide a simple, fact-based question to send to an AI system. Do not say anything other than the question itself. Use this random number as inspiration: {random.random()}.\"},\n",
    "    ])\n",
    "    question = record.get()['choices'][0]['message']['content']\n",
    "    time.sleep(random.random() * 3)\n",
    "    record2 = monitored_create(model=\"gpt-3.5-turbo\", messages=[\n",
    "        {\"role\": \"system\", \"content\": \"You are a helpful assistant.\"},\n",
    "        {\"role\": \"user\", \"content\": f'Please answer the following question: \\\"{question}\\\"'},\n",
    "    ])\n",
    "    answer = record2.get()['choices'][0]['message']['content']\n",
    "    print(f\"Q: {question}\\nA: {answer}\")\n",
    "    "
   ]
  },
  {
   "cell_type": "code",
   "execution_count": null,
   "id": "0a8b2abb",
   "metadata": {},
   "outputs": [],
   "source": [
    "monitored_create.rows()"
   ]
  },
  {
   "cell_type": "code",
   "execution_count": 5,
   "id": "ca2c2765",
   "metadata": {},
   "outputs": [],
   "source": [
    "import weave\n",
    "from weave.panels_py import panel_open_ai_monitor"
   ]
  },
  {
   "cell_type": "code",
   "execution_count": 17,
   "id": "bdae9ba5-aa2b-4191-9a42-c1078ba0698a",
   "metadata": {},
   "outputs": [
    {
     "data": {
      "text/html": [
       "\n",
       "        <iframe\n",
       "            width=\"100%\"\n",
       "            height=\"400px\"\n",
       "            src=\"http://localhost:3000/__frontend/weave_jupyter?fullScreen&expNode=%7B%22nodeType%22%3A%20%22output%22%2C%20%22type%22%3A%20%22any%22%2C%20%22fromOp%22%3A%20%7B%22name%22%3A%20%22get%22%2C%20%22inputs%22%3A%20%7B%22uri%22%3A%20%7B%22nodeType%22%3A%20%22const%22%2C%20%22type%22%3A%20%22string%22%2C%20%22val%22%3A%20%22local-artifact%3A///dashboard-Group0%3Alatest/obj%22%7D%7D%7D%7D\"\n",
       "            frameborder=\"0\"\n",
       "            allowfullscreen\n",
       "            allow=\"clipboard-write\"\n",
       "        ></iframe>\n",
       "        "
      ],
      "text/plain": [
       "<IPython.lib.display.IFrame at 0x2d5318070>"
      ]
     },
     "metadata": {},
     "output_type": "display_data"
    }
   ],
   "source": [
    "weave.use(panel_open_ai_monitor.board(monitored_create.rows()))"
   ]
  },
  {
   "cell_type": "code",
   "execution_count": null,
   "id": "221c154d-fe77-4e77-9665-30c54a52d151",
   "metadata": {},
   "outputs": [],
   "source": []
  }
 ],
 "metadata": {
  "kernelspec": {
   "display_name": "Python 3 (ipykernel)",
   "language": "python",
   "name": "python3"
  },
  "language_info": {
   "codemirror_mode": {
    "name": "ipython",
    "version": 3
   },
   "file_extension": ".py",
   "mimetype": "text/x-python",
   "name": "python",
   "nbconvert_exporter": "python",
   "pygments_lexer": "ipython3",
   "version": "3.10.8"
  }
 },
 "nbformat": 4,
 "nbformat_minor": 5
}
