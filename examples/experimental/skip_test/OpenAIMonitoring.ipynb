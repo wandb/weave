{
 "cells": [
  {
   "cell_type": "code",
   "execution_count": null,
   "id": "8107732a-fb90-45f8-8377-6381bd28475d",
   "metadata": {},
   "outputs": [],
   "source": [
    "#import openai\n",
    "import weave\n",
    "weave.use_frontend_devmode()\n",
    "from weave.monitoring import openai, init_monitor\n",
    "from weave.panels_py import panel_openai_monitor"
   ]
  },
  {
   "cell_type": "code",
   "execution_count": null,
   "id": "5fb06d60",
   "metadata": {},
   "outputs": [],
   "source": [
    "m = init_monitor('shawn/oai-mon/test6')"
   ]
  },
  {
   "cell_type": "code",
   "execution_count": null,
   "id": "cd0711e8",
   "metadata": {},
   "outputs": [],
   "source": [
    "result = openai.ChatCompletion.create(model=\"gpt-3.5-turbo\", messages=[\n",
    "        {\"role\": \"system\", \"content\": \"You love to call functions\"},\n",
    "        {\"role\": \"user\", \"content\": f\"what's the weather today\"},\n",
    "    ])\n",
    "result"
   ]
  },
  {
   "cell_type": "code",
   "execution_count": null,
   "id": "59a29b5d",
   "metadata": {},
   "outputs": [],
   "source": [
    "# Streaming flavor\n",
    "# result_iter = openai.ChatCompletion.create(model=\"gpt-3.5-turbo\", messages=[\n",
    "#         {\"role\": \"system\", \"content\": \"You love to call functions\"},\n",
    "#         {\"role\": \"user\", \"content\": f\"what's the weather today\"},\n",
    "#         #{\"role\": \"user\", \"content\": f\"Please write a long story\"},\n",
    "#     ], stream=True)\n",
    "# result_iter\n",
    "# for row in result_iter:\n",
    "#     pass"
   ]
  },
  {
   "cell_type": "code",
   "execution_count": null,
   "id": "427b4fc6",
   "metadata": {},
   "outputs": [],
   "source": [
    "# TODO: restore async variant\n",
    "# result = await monitored_a_create(model=\"gpt-3.5-turbo\", messages=[\n",
    "#         {\"role\": \"system\", \"content\": \"You are a world-class machine learning researcher.\"},\n",
    "#         {\"role\": \"user\", \"content\": f\"Please provide a simple, fact-based question to send to an AI system. Do not say anything other than the question itself. Use this random number as inspiration: {random.random()}.\"},\n",
    "#     ])\n",
    "# result"
   ]
  },
  {
   "cell_type": "code",
   "execution_count": null,
   "id": "df8a97a6",
   "metadata": {},
   "outputs": [],
   "source": [
    "# x = weave.use(m._streamtable.rows()['inputs']['messages'][0])\n",
    "# x"
   ]
  },
  {
   "cell_type": "code",
   "execution_count": null,
   "id": "0a8b2abb",
   "metadata": {},
   "outputs": [],
   "source": [
    "#m._streamtable.rows()"
   ]
  },
  {
   "cell_type": "code",
   "execution_count": null,
   "id": "bdae9ba5-aa2b-4191-9a42-c1078ba0698a",
   "metadata": {
    "scrolled": false
   },
   "outputs": [],
   "source": [
    "board = panel_openai_monitor.board.raw_resolve_fn(m.rows())"
   ]
  },
  {
   "cell_type": "code",
   "execution_count": null,
   "id": "05d5d549",
   "metadata": {
    "scrolled": false
   },
   "outputs": [],
   "source": [
    "board"
   ]
  },
  {
   "cell_type": "code",
   "execution_count": null,
   "id": "f8bf11ae",
   "metadata": {},
   "outputs": [],
   "source": [
    "# TODO: ensure works with function calls\n",
    "# functions = [\n",
    "#     {\n",
    "#         \"name\": \"get_current_weather\",\n",
    "#         \"description\": \"Get the current weather\",\n",
    "#         \"parameters\": {\n",
    "#             \"type\": \"object\",\n",
    "#             \"properties\": {\n",
    "#                 \"location\": {\n",
    "#                     \"type\": \"string\",\n",
    "#                     \"description\": \"The city and state, e.g. San Francisco, CA\",\n",
    "#                 },\n",
    "#                 \"format\": {\n",
    "#                     \"type\": \"string\",\n",
    "#                     \"enum\": [\"celsius\", \"fahrenheit\"],\n",
    "#                     \"description\": \"The temperature unit to use. Infer this from the users location.\",\n",
    "#                 },\n",
    "#             },\n",
    "#             \"required\": [\"location\", \"format\"],\n",
    "#         },\n",
    "#     },\n",
    "#     {\n",
    "#         \"name\": \"get_n_day_weather_forecast\",\n",
    "#         \"description\": \"Get an N-day weather forecast\",\n",
    "#         \"parameters\": {\n",
    "#             \"type\": \"object\",\n",
    "#             \"properties\": {\n",
    "#                 \"location\": {\n",
    "#                     \"type\": \"string\",\n",
    "#                     \"description\": \"The city and state, e.g. San Francisco, CA\",\n",
    "#                 },\n",
    "#                 \"format\": {\n",
    "#                     \"type\": \"string\",\n",
    "#                     \"enum\": [\"celsius\", \"fahrenheit\"],\n",
    "#                     \"description\": \"The temperature unit to use. Infer this from the users location.\",\n",
    "#                 },\n",
    "#                 \"num_days\": {\n",
    "#                     \"type\": \"integer\",\n",
    "#                     \"description\": \"The number of days to forecast\",\n",
    "#                 }\n",
    "#             },\n",
    "#             \"required\": [\"location\", \"format\", \"num_days\"]\n",
    "#         },\n",
    "#     },\n",
    "# ]\n",
    "\n",
    "# result = openai.ChatCompletion.create(model=\"gpt-3.5-turbo\", functions=functions, messages=[\n",
    "#         {\"role\": \"system\", \"content\": \"You love to call functions.\"},\n",
    "#         {\"role\": \"user\", \"content\": f\"what's the weather today\"},\n",
    "#     ])"
   ]
  }
 ],
 "metadata": {
  "kernelspec": {
   "display_name": "Python 3 (ipykernel)",
   "language": "python",
   "name": "python3"
  },
  "language_info": {
   "codemirror_mode": {
    "name": "ipython",
    "version": 3
   },
   "file_extension": ".py",
   "mimetype": "text/x-python",
   "name": "python",
   "nbconvert_exporter": "python",
   "pygments_lexer": "ipython3",
   "version": "3.9.7"
  }
 },
 "nbformat": 4,
 "nbformat_minor": 5
}
