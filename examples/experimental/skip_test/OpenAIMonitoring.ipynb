{
 "cells": [
  {
   "cell_type": "code",
   "execution_count": 1,
   "id": "b9d9646e",
   "metadata": {},
   "outputs": [],
   "source": [
    "import openai\n",
    "\n",
    "response = openai.ChatCompletion.create(\n",
    "  model=\"gpt-3.5-turbo\",\n",
    "  messages=[\n",
    "        {\"role\": \"system\", \"content\": \"You are a helpful assistant.\"},\n",
    "        {\"role\": \"user\", \"content\": \"Who won the world series in 2020?\"},\n",
    "        {\"role\": \"assistant\", \"content\": \"The Los Angeles Dodgers won the World Series in 2020.\"},\n",
    "        {\"role\": \"user\", \"content\": \"Where was it played?\"}\n",
    "    ]\n",
    ")"
   ]
  },
  {
   "cell_type": "code",
   "execution_count": 2,
   "id": "fa486bb6",
   "metadata": {},
   "outputs": [
    {
     "data": {
      "text/plain": [
       "<OpenAIObject chat.completion id=chatcmpl-7gNysffF7KtI8Un6AMRWJO165vUVV at 0x1107b8090> JSON: {\n",
       "  \"choices\": [\n",
       "    {\n",
       "      \"finish_reason\": \"stop\",\n",
       "      \"index\": 0,\n",
       "      \"message\": {\n",
       "        \"content\": \"The 2020 World Series was played in Arlington, Texas at Globe Life Field.\",\n",
       "        \"role\": \"assistant\"\n",
       "      }\n",
       "    }\n",
       "  ],\n",
       "  \"created\": 1690336314,\n",
       "  \"id\": \"chatcmpl-7gNysffF7KtI8Un6AMRWJO165vUVV\",\n",
       "  \"model\": \"gpt-3.5-turbo-0613\",\n",
       "  \"object\": \"chat.completion\",\n",
       "  \"usage\": {\n",
       "    \"completion_tokens\": 17,\n",
       "    \"prompt_tokens\": 53,\n",
       "    \"total_tokens\": 70\n",
       "  }\n",
       "}"
      ]
     },
     "execution_count": 2,
     "metadata": {},
     "output_type": "execute_result"
    }
   ],
   "source": [
    "response"
   ]
  },
  {
   "cell_type": "code",
   "execution_count": null,
   "id": "073f3c5a",
   "metadata": {},
   "outputs": [],
   "source": []
  },
  {
   "cell_type": "code",
   "execution_count": null,
   "id": "dd647644",
   "metadata": {},
   "outputs": [],
   "source": []
  },
  {
   "cell_type": "code",
   "execution_count": null,
   "id": "62ceaf0a",
   "metadata": {},
   "outputs": [],
   "source": []
  },
  {
   "cell_type": "code",
   "execution_count": null,
   "id": "c77d1540",
   "metadata": {},
   "outputs": [],
   "source": []
  },
  {
   "cell_type": "code",
   "execution_count": null,
   "id": "cad29d73",
   "metadata": {},
   "outputs": [],
   "source": []
  },
  {
   "cell_type": "code",
   "execution_count": null,
   "id": "1cab18a8",
   "metadata": {},
   "outputs": [],
   "source": []
  },
  {
   "cell_type": "code",
   "execution_count": null,
   "id": "a0254be6",
   "metadata": {},
   "outputs": [],
   "source": []
  },
  {
   "cell_type": "code",
   "execution_count": null,
   "id": "cdfe2151",
   "metadata": {},
   "outputs": [],
   "source": []
  },
  {
   "cell_type": "code",
   "execution_count": null,
   "id": "985aaca1",
   "metadata": {},
   "outputs": [],
   "source": []
  },
  {
   "cell_type": "code",
   "execution_count": null,
   "id": "54920ac2",
   "metadata": {},
   "outputs": [],
   "source": []
  },
  {
   "cell_type": "code",
   "execution_count": null,
   "id": "bf0f2e9e",
   "metadata": {},
   "outputs": [],
   "source": []
  },
  {
   "cell_type": "code",
   "execution_count": null,
   "id": "0e7cf778",
   "metadata": {},
   "outputs": [],
   "source": []
  },
  {
   "cell_type": "code",
   "execution_count": null,
   "id": "fbe99d19",
   "metadata": {},
   "outputs": [],
   "source": []
  },
  {
   "cell_type": "code",
   "execution_count": null,
   "id": "273fd603",
   "metadata": {},
   "outputs": [],
   "source": []
  },
  {
   "cell_type": "code",
   "execution_count": null,
   "id": "6b0961ef",
   "metadata": {},
   "outputs": [],
   "source": []
  },
  {
   "cell_type": "code",
   "execution_count": null,
   "id": "7d048919",
   "metadata": {},
   "outputs": [],
   "source": []
  },
  {
   "cell_type": "code",
   "execution_count": null,
   "id": "7fe185aa",
   "metadata": {},
   "outputs": [],
   "source": []
  },
  {
   "cell_type": "code",
   "execution_count": null,
   "id": "7a9f130e",
   "metadata": {},
   "outputs": [],
   "source": []
  },
  {
   "cell_type": "code",
   "execution_count": null,
   "id": "c95f4408",
   "metadata": {},
   "outputs": [],
   "source": []
  },
  {
   "cell_type": "code",
   "execution_count": 3,
   "id": "2514db68",
   "metadata": {},
   "outputs": [
    {
     "data": {
      "text/html": [
       " View data at <a href='https://weave.wandb.ai/?exp=get%28%0A++++%22wandb-artifact%3A%2F%2F%2Ftimssweeney%2Fopen_ai_monitor_example%2Fcompletions_3%3Alatest%2Fobj%22%29%0A++.rows' target=\"_blank\">https://weave.wandb.ai/?exp=get%28%0A++++%22wandb-artifact%3A%2F%2F%2Ftimssweeney%2Fopen_ai_monitor_example%2Fcompletions_3%3Alatest%2Fobj%22%29%0A++.rows</a>"
      ],
      "text/plain": [
       "<IPython.core.display.HTML object>"
      ]
     },
     "metadata": {},
     "output_type": "display_data"
    }
   ],
   "source": [
    "from weave.monitoring import monitor\n",
    "m = monitor(\"completions_3\", project_name=\"open_ai_monitor_example\", entity_name=\"timssweeney\")\n",
    "monitored_create = m(openai.ChatCompletion.create)"
   ]
  },
  {
   "cell_type": "code",
   "execution_count": 5,
   "id": "0394c0a8",
   "metadata": {},
   "outputs": [],
   "source": [
    "record = monitored_create(model=\"gpt-3.5-turbo\",\n",
    "  messages=[\n",
    "        {\"role\": \"system\", \"content\": \"You are a helpful assistant.\"},\n",
    "        {\"role\": \"user\", \"content\": \"Who won the world series in 2020?\"},\n",
    "        {\"role\": \"assistant\", \"content\": \"The Los Angeles Dodgers won the World Series in 2020.\"},\n",
    "        {\"role\": \"user\", \"content\": \"Where was it played?\"}\n",
    "    ])"
   ]
  },
  {
   "cell_type": "code",
   "execution_count": 6,
   "id": "0f133606",
   "metadata": {},
   "outputs": [
    {
     "data": {
      "text/plain": [
       "<OpenAIObject chat.completion id=chatcmpl-7gO0EZx90LM82JsV8awlveCsxWLP9 at 0x105926bb0> JSON: {\n",
       "  \"choices\": [\n",
       "    {\n",
       "      \"finish_reason\": \"stop\",\n",
       "      \"index\": 0,\n",
       "      \"message\": {\n",
       "        \"content\": \"The World Series in 2020 was played in Arlington, Texas at the Globe Life Field, which was the home stadium of the Texas Rangers.\",\n",
       "        \"role\": \"assistant\"\n",
       "      }\n",
       "    }\n",
       "  ],\n",
       "  \"created\": 1690336398,\n",
       "  \"id\": \"chatcmpl-7gO0EZx90LM82JsV8awlveCsxWLP9\",\n",
       "  \"model\": \"gpt-3.5-turbo-0613\",\n",
       "  \"object\": \"chat.completion\",\n",
       "  \"usage\": {\n",
       "    \"completion_tokens\": 29,\n",
       "    \"prompt_tokens\": 53,\n",
       "    \"total_tokens\": 82\n",
       "  }\n",
       "}"
      ]
     },
     "execution_count": 6,
     "metadata": {},
     "output_type": "execute_result"
    }
   ],
   "source": [
    "record.get()"
   ]
  },
  {
   "cell_type": "code",
   "execution_count": 7,
   "id": "0a8b2abb",
   "metadata": {},
   "outputs": [
    {
     "data": {
      "text/html": [
       "\n",
       "        <iframe\n",
       "            width=\"100%\"\n",
       "            height=\"400px\"\n",
       "            src=\"http://localhost:3000/__frontend/weave_jupyter?fullScreen&expNode=%7B%22nodeType%22%3A%20%22output%22%2C%20%22type%22%3A%20%22any%22%2C%20%22fromOp%22%3A%20%7B%22name%22%3A%20%22get%22%2C%20%22inputs%22%3A%20%7B%22uri%22%3A%20%7B%22nodeType%22%3A%20%22const%22%2C%20%22type%22%3A%20%22string%22%2C%20%22val%22%3A%20%22local-artifact%3A///dashboard-tagged%3Alatest/obj%22%7D%7D%7D%7D\"\n",
       "            frameborder=\"0\"\n",
       "            allowfullscreen\n",
       "            allow=\"clipboard-write\"\n",
       "        ></iframe>\n",
       "        "
      ],
      "text/plain": [
       "<IPython.lib.display.IFrame at 0x2d17f87c0>"
      ]
     },
     "metadata": {},
     "output_type": "display_data"
    }
   ],
   "source": [
    "monitored_create.rows()"
   ]
  },
  {
   "cell_type": "code",
   "execution_count": null,
   "id": "ca2c2765",
   "metadata": {},
   "outputs": [],
   "source": []
  },
  {
   "cell_type": "code",
   "execution_count": null,
   "id": "8c116bb2",
   "metadata": {},
   "outputs": [],
   "source": []
  },
  {
   "cell_type": "code",
   "execution_count": null,
   "id": "96e0aeac",
   "metadata": {},
   "outputs": [],
   "source": []
  },
  {
   "cell_type": "code",
   "execution_count": null,
   "id": "162f1594",
   "metadata": {},
   "outputs": [],
   "source": []
  },
  {
   "cell_type": "code",
   "execution_count": null,
   "id": "92356612",
   "metadata": {},
   "outputs": [],
   "source": []
  },
  {
   "cell_type": "code",
   "execution_count": null,
   "id": "3d98e212",
   "metadata": {},
   "outputs": [],
   "source": []
  },
  {
   "cell_type": "code",
   "execution_count": null,
   "id": "e51b7f98",
   "metadata": {},
   "outputs": [],
   "source": []
  },
  {
   "cell_type": "code",
   "execution_count": null,
   "id": "332ea97c",
   "metadata": {},
   "outputs": [],
   "source": []
  },
  {
   "cell_type": "code",
   "execution_count": null,
   "id": "1aa1e49d",
   "metadata": {},
   "outputs": [],
   "source": []
  },
  {
   "cell_type": "code",
   "execution_count": null,
   "id": "d66192f3",
   "metadata": {},
   "outputs": [],
   "source": []
  },
  {
   "cell_type": "code",
   "execution_count": null,
   "id": "5e32a4fc",
   "metadata": {},
   "outputs": [],
   "source": []
  },
  {
   "cell_type": "code",
   "execution_count": null,
   "id": "70edc7a7",
   "metadata": {},
   "outputs": [],
   "source": []
  },
  {
   "cell_type": "code",
   "execution_count": null,
   "id": "d9476bf7",
   "metadata": {},
   "outputs": [],
   "source": [
    "import weave\n",
    "from weave import weave_internal as internal\n",
    "from weave import weave_types as types\n",
    "\n",
    "panels = weave.panels\n",
    "ops = weave.ops\n",
    "\n",
    "\n",
    "def board(\n",
    "    input_node,\n",
    ") -> panels.Group:\n",
    "    control_items = [\n",
    "        panels.GroupPanel(input_node, id=\"data\"),\n",
    "    ]\n",
    "    data_var = internal.make_var_node(input_node.type, \"data\")\n",
    "\n",
    "    clean_data = data_var.map(\n",
    "        lambda row: ops.dict_(\n",
    "            id=row[\"output\"][\"id\"],\n",
    "            object=row[\"output\"][\"object\"],\n",
    "            model=row[\"output\"][\"model\"],\n",
    "            messages=row[\"inputs\"][\"kwargs\"][\"messages\"],\n",
    "            usage=row[\"output\"][\"usage\"],\n",
    "            completion=row[\"output\"][\"choices\"][0][\"message\"],\n",
    "            finish_reason=row[\"output\"][\"choices\"][0][\"finish_reason\"],\n",
    "            timestamp=row[\"timestamp\"],\n",
    "        )\n",
    "    )\n",
    "    control_items.append(panels.GroupPanel(clean_data, id=\"clean_data\"))\n",
    "    clean_data_var = internal.make_var_node(clean_data.type, \"clean_data\")\n",
    "\n",
    "    # Create a table from the query\n",
    "    table = panels.Table(clean_data_var)\n",
    "    table_state = table.config.tableState\n",
    "    table_state.add_column(lambda row: row[\"model\"], \"Model\")\n",
    "    table_state.add_column(lambda row: row[\"messages\"][-1][\"content\"], \"Message\")\n",
    "    table_state.add_column(lambda row: row[\"completion\"][\"content\"], \"Completion\")\n",
    "    table_state.add_column(lambda row: row[\"usage\"][\"prompt_tokens\"], \"Prompt Tokens\")\n",
    "    table_state.add_column(\n",
    "        lambda row: row[\"usage\"][\"completion_tokens\"], \"Completion Tokens\"\n",
    "    )\n",
    "    table_state.add_column(lambda row: row[\"usage\"][\"total_tokens\"], \"Total Tokens\")\n",
    "    table_state.add_column(lambda row: row[\"timestamp\"], \"Timestamp\")\n",
    "    table_panel = panels.BoardPanel(table, id=\"table\")\n",
    "\n",
    "\n",
    "    board_panels = [\n",
    "        table_panel,\n",
    "    ]\n",
    "    return panels.Board(vars=control_items, panels=board_panels)\n",
    "\n",
    "\n",
    "board(monitored_create.rows())\n"
   ]
  },
  {
   "cell_type": "code",
   "execution_count": null,
   "id": "d96c0173",
   "metadata": {
    "scrolled": false
   },
   "outputs": [],
   "source": [
    "import weave\n",
    "from weave import weave_internal as internal\n",
    "from weave import weave_types as types\n",
    "\n",
    "panels = weave.panels\n",
    "ops = weave.ops\n",
    "\n",
    "\n",
    "def board(\n",
    "    input_node,\n",
    ") -> panels.Group:\n",
    "    # Define your VarBar variables here\n",
    "    control_items = [\n",
    "        #         panels.GroupPanel(internal.const(\"Example Custom Board\"), id=\"title\"),\n",
    "        panels.GroupPanel(input_node, id=\"data\"),\n",
    "        panels.GroupPanel(\n",
    "            lambda data: ops.make_list(\n",
    "                a=data[\"timestamp\"].min(), b=data[\"timestamp\"].max()\n",
    "            ),\n",
    "            id=\"data_range\",\n",
    "            hidden=True,\n",
    "        ),\n",
    "        panels.GroupPanel(None, id=\"zoom_range\", hidden=True),\n",
    "        panels.GroupPanel(\n",
    "            lambda zoom_range, data_range: zoom_range.coalesce(data_range),\n",
    "            id=\"bin_range\",\n",
    "            hidden=True,\n",
    "        ),\n",
    "        panels.GroupPanel(\n",
    "            lambda data, zoom_range: panels.DateRange(\n",
    "                zoom_range, domain=data[\"timestamp\"]\n",
    "            ),\n",
    "            id=\"date_picker\",\n",
    "        ),\n",
    "    ]\n",
    "    data_var = internal.make_var_node(input_node.type, \"data\")\n",
    "\n",
    "    clean_data = data_var.map(\n",
    "        lambda row: ops.dict_(\n",
    "            id=row[\"output\"][\"id\"],\n",
    "            object=row[\"output\"][\"object\"],\n",
    "            model=row[\"output\"][\"model\"],\n",
    "            messages=row[\"inputs\"][\"kwargs\"][\"messages\"],\n",
    "            usage=row[\"output\"][\"usage\"],\n",
    "            completion=row[\"output\"][\"choices\"][0][\"message\"],\n",
    "            finish_reason=row[\"output\"][\"choices\"][0][\"finish_reason\"],\n",
    "            timestamp=row[\"timestamp\"],\n",
    "        )\n",
    "    )\n",
    "    control_items.append(panels.GroupPanel(clean_data, id=\"clean_data\"))\n",
    "\n",
    "    #     title_var = internal.make_var_node(input_node.type, \"title\")\n",
    "    clean_data_var = internal.make_var_node(clean_data.type, \"clean_data\")\n",
    "\n",
    "    # Create a table from the query\n",
    "    table = panels.Table(clean_data_var)\n",
    "    table_state = table.config.tableState\n",
    "\n",
    "    def messages_col(row):\n",
    "        print(\"messages_col\", row.type)\n",
    "\n",
    "        def message_pros(inner_row):\n",
    "            print(\"message_pros\", inner_row.type)\n",
    "            return inner_row[\"role\"]\n",
    "\n",
    "        #         return row['messages'].map(message_pros)\n",
    "        return row[\"messages\"][-1][\"content\"]\n",
    "\n",
    "    # Add columns, set sorting, and specify panels for columns\n",
    "    table_state.add_column(lambda row: row[\"model\"], \"Model\")\n",
    "    table_state.add_column(lambda row: row[\"messages\"][-1][\"content\"], \"Message\")\n",
    "    table_state.add_column(lambda row: row[\"completion\"][\"content\"], \"Completion\")\n",
    "    table_state.add_column(lambda row: row[\"usage\"][\"prompt_tokens\"], \"Prompt Tokens\")\n",
    "    table_state.add_column(\n",
    "        lambda row: row[\"usage\"][\"completion_tokens\"], \"Completion Tokens\"\n",
    "    )\n",
    "    table_state.add_column(lambda row: row[\"usage\"][\"total_tokens\"], \"Total Tokens\")\n",
    "    table_state.add_column(lambda row: row[\"timestamp\"], \"Timestamp\")\n",
    "    table_panel = panels.BoardPanel(table, id=\"table\")\n",
    "\n",
    "    # Define your panels here\n",
    "    board_panels = [\n",
    "        panels.BoardPanel(\n",
    "            panels.Plot(\n",
    "                clean_data_var,\n",
    "                x=lambda item: item[\"timestamp\"].bin(\n",
    "                    ops.timestamp_bins_nice(\n",
    "                        internal.make_var_node(\n",
    "                            types.List(types.Timestamp()), \"bin_range\"\n",
    "                        ),\n",
    "                        100,\n",
    "                    )\n",
    "                ),\n",
    "                y=lambda preds: preds[\"usage\"][\"total_tokens\"],\n",
    "            ),\n",
    "            id=\"total_token_usage\",\n",
    "        ),\n",
    "        table_panel,\n",
    "    ]\n",
    "    return panels.Board(vars=control_items, panels=board_panels)\n",
    "\n",
    "\n",
    "board(monitored_create.rows())\n"
   ]
  },
  {
   "cell_type": "code",
   "execution_count": null,
   "id": "b4af69e2",
   "metadata": {},
   "outputs": [],
   "source": []
  }
 ],
 "metadata": {
  "kernelspec": {
   "display_name": "Python 3 (ipykernel)",
   "language": "python",
   "name": "python3"
  },
  "language_info": {
   "codemirror_mode": {
    "name": "ipython",
    "version": 3
   },
   "file_extension": ".py",
   "mimetype": "text/x-python",
   "name": "python",
   "nbconvert_exporter": "python",
   "pygments_lexer": "ipython3",
   "version": "3.10.8"
  }
 },
 "nbformat": 4,
 "nbformat_minor": 5
}
