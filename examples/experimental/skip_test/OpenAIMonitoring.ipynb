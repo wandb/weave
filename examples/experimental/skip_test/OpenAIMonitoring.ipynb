{
 "cells": [
  {
   "cell_type": "code",
   "execution_count": 1,
   "id": "8107732a-fb90-45f8-8377-6381bd28475d",
   "metadata": {},
   "outputs": [],
   "source": [
    "#import openai\n",
    "import weave\n",
    "weave.use_frontend_devmode()\n",
    "from weave.monitoring import openai, init_monitor\n",
    "from weave.panels_py import panel_openai_monitor"
   ]
  },
  {
   "cell_type": "code",
   "execution_count": 2,
   "id": "ba2b2070",
   "metadata": {},
   "outputs": [
    {
     "data": {
      "text/html": [
       " View data at <a href='https://weave.wandb.ai/wandb/shawn/oai-mon/table/test6' target=\"_blank\">https://weave.wandb.ai/wandb/shawn/oai-mon/table/test6</a>"
      ],
      "text/plain": [
       "<IPython.core.display.HTML object>"
      ]
     },
     "metadata": {},
     "output_type": "display_data"
    }
   ],
   "source": [
    "m = init_monitor('shawn/oai-mon/test6')"
   ]
  },
  {
   "cell_type": "code",
   "execution_count": 3,
   "id": "e711d521",
   "metadata": {},
   "outputs": [
    {
     "data": {
      "text/plain": [
       "<OpenAIObject chat.completion id=chatcmpl-7mMQkHG3YjdIYWgapoY7ivgLNTAQm at 0x176d88680> JSON: {\n",
       "  \"id\": \"chatcmpl-7mMQkHG3YjdIYWgapoY7ivgLNTAQm\",\n",
       "  \"object\": \"chat.completion\",\n",
       "  \"created\": 1691760322,\n",
       "  \"model\": \"gpt-3.5-turbo-0613\",\n",
       "  \"choices\": [\n",
       "    {\n",
       "      \"index\": 0,\n",
       "      \"message\": {\n",
       "        \"role\": \"assistant\",\n",
       "        \"content\": \"I'm sorry, but I am an AI language model and I don't have access to real-time data. I suggest you check a reliable weather website or use a weather app on your phone to get the most accurate and up-to-date information about the weather today.\"\n",
       "      },\n",
       "      \"finish_reason\": \"stop\"\n",
       "    }\n",
       "  ],\n",
       "  \"usage\": {\n",
       "    \"prompt_tokens\": 21,\n",
       "    \"completion_tokens\": 53,\n",
       "    \"total_tokens\": 74\n",
       "  }\n",
       "}"
      ]
     },
     "execution_count": 3,
     "metadata": {},
     "output_type": "execute_result"
    }
   ],
   "source": [
    "result = openai.ChatCompletion.create(model=\"gpt-3.5-turbo\", messages=[\n",
    "        {\"role\": \"system\", \"content\": \"You love to call functions\"},\n",
    "        {\"role\": \"user\", \"content\": f\"what's the weather today\"},\n",
    "    ])\n",
    "result"
   ]
  },
  {
   "cell_type": "code",
   "execution_count": 4,
   "id": "59a29b5d",
   "metadata": {},
   "outputs": [],
   "source": [
    "# Streaming flavor\n",
    "# result_iter = openai.ChatCompletion.create(model=\"gpt-3.5-turbo\", messages=[\n",
    "#         {\"role\": \"system\", \"content\": \"You love to call functions\"},\n",
    "#         {\"role\": \"user\", \"content\": f\"what's the weather today\"},\n",
    "#         #{\"role\": \"user\", \"content\": f\"Please write a long story\"},\n",
    "#     ], stream=True)\n",
    "# result_iter\n",
    "# for row in result_iter:\n",
    "#     pass"
   ]
  },
  {
   "cell_type": "code",
   "execution_count": 5,
   "id": "427b4fc6",
   "metadata": {},
   "outputs": [],
   "source": [
    "# TODO: restore async variant\n",
    "# result = await monitored_a_create(model=\"gpt-3.5-turbo\", messages=[\n",
    "#         {\"role\": \"system\", \"content\": \"You are a world-class machine learning researcher.\"},\n",
    "#         {\"role\": \"user\", \"content\": f\"Please provide a simple, fact-based question to send to an AI system. Do not say anything other than the question itself. Use this random number as inspiration: {random.random()}.\"},\n",
    "#     ])\n",
    "# result"
   ]
  },
  {
   "cell_type": "code",
   "execution_count": 6,
   "id": "df8a97a6",
   "metadata": {},
   "outputs": [],
   "source": [
    "# x = weave.use(m._streamtable.rows()['inputs']['messages'][0])\n",
    "# x"
   ]
  },
  {
   "cell_type": "code",
   "execution_count": 7,
   "id": "0a8b2abb",
   "metadata": {},
   "outputs": [],
   "source": [
    "#m._streamtable.rows()"
   ]
  },
  {
   "cell_type": "code",
   "execution_count": 8,
   "id": "bdae9ba5-aa2b-4191-9a42-c1078ba0698a",
   "metadata": {
    "scrolled": false
   },
   "outputs": [],
   "source": [
    "board = panel_openai_monitor.board.raw_resolve_fn(m.rows())"
   ]
  },
  {
   "cell_type": "code",
   "execution_count": 9,
   "id": "05d5d549",
   "metadata": {
    "scrolled": false
   },
   "outputs": [
    {
     "data": {
      "text/html": [
       "\n",
       "        <iframe\n",
       "            width=\"100%\"\n",
       "            height=\"400px\"\n",
       "            src=\"http://localhost:3000/__frontend/weave_jupyter?fullScreen&expNode=%7B%22nodeType%22%3A%20%22output%22%2C%20%22type%22%3A%20%22any%22%2C%20%22fromOp%22%3A%20%7B%22name%22%3A%20%22get%22%2C%20%22inputs%22%3A%20%7B%22uri%22%3A%20%7B%22nodeType%22%3A%20%22const%22%2C%20%22type%22%3A%20%22string%22%2C%20%22val%22%3A%20%22local-artifact%3A///dashboard-Group0%3Alatest/obj%22%7D%7D%7D%7D\"\n",
       "            frameborder=\"0\"\n",
       "            allowfullscreen\n",
       "            allow=\"clipboard-write\"\n",
       "        ></iframe>\n",
       "        "
      ],
      "text/plain": [
       "<IPython.lib.display.IFrame at 0x17710f7f0>"
      ]
     },
     "metadata": {},
     "output_type": "display_data"
    }
   ],
   "source": [
    "board"
   ]
  },
  {
   "cell_type": "code",
   "execution_count": 10,
   "id": "d237a885",
   "metadata": {},
   "outputs": [],
   "source": [
    "# TODO: ensure works with function calls\n",
    "# functions = [\n",
    "#     {\n",
    "#         \"name\": \"get_current_weather\",\n",
    "#         \"description\": \"Get the current weather\",\n",
    "#         \"parameters\": {\n",
    "#             \"type\": \"object\",\n",
    "#             \"properties\": {\n",
    "#                 \"location\": {\n",
    "#                     \"type\": \"string\",\n",
    "#                     \"description\": \"The city and state, e.g. San Francisco, CA\",\n",
    "#                 },\n",
    "#                 \"format\": {\n",
    "#                     \"type\": \"string\",\n",
    "#                     \"enum\": [\"celsius\", \"fahrenheit\"],\n",
    "#                     \"description\": \"The temperature unit to use. Infer this from the users location.\",\n",
    "#                 },\n",
    "#             },\n",
    "#             \"required\": [\"location\", \"format\"],\n",
    "#         },\n",
    "#     },\n",
    "#     {\n",
    "#         \"name\": \"get_n_day_weather_forecast\",\n",
    "#         \"description\": \"Get an N-day weather forecast\",\n",
    "#         \"parameters\": {\n",
    "#             \"type\": \"object\",\n",
    "#             \"properties\": {\n",
    "#                 \"location\": {\n",
    "#                     \"type\": \"string\",\n",
    "#                     \"description\": \"The city and state, e.g. San Francisco, CA\",\n",
    "#                 },\n",
    "#                 \"format\": {\n",
    "#                     \"type\": \"string\",\n",
    "#                     \"enum\": [\"celsius\", \"fahrenheit\"],\n",
    "#                     \"description\": \"The temperature unit to use. Infer this from the users location.\",\n",
    "#                 },\n",
    "#                 \"num_days\": {\n",
    "#                     \"type\": \"integer\",\n",
    "#                     \"description\": \"The number of days to forecast\",\n",
    "#                 }\n",
    "#             },\n",
    "#             \"required\": [\"location\", \"format\", \"num_days\"]\n",
    "#         },\n",
    "#     },\n",
    "# ]\n",
    "\n",
    "# result = openai.ChatCompletion.create(model=\"gpt-3.5-turbo\", functions=functions, messages=[\n",
    "#         {\"role\": \"system\", \"content\": \"You love to call functions.\"},\n",
    "#         {\"role\": \"user\", \"content\": f\"what's the weather today\"},\n",
    "#     ])"
   ]
  }
 ],
 "metadata": {
  "kernelspec": {
   "display_name": "Python 3 (ipykernel)",
   "language": "python",
   "name": "python3"
  },
  "language_info": {
   "codemirror_mode": {
    "name": "ipython",
    "version": 3
   },
   "file_extension": ".py",
   "mimetype": "text/x-python",
   "name": "python",
   "nbconvert_exporter": "python",
   "pygments_lexer": "ipython3",
   "version": "3.9.7"
  }
 },
 "nbformat": 4,
 "nbformat_minor": 5
}
