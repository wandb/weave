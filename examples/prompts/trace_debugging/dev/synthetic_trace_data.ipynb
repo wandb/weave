{
 "cells": [
  {
   "cell_type": "markdown",
   "id": "7aaafefa-ec2f-4feb-ad07-e7f2df83f3ea",
   "metadata": {},
   "source": [
    "<img src=\"http://wandb.me/logo-im-png\" width=\"400\" alt=\"Weights & Biases\" />\n",
    "\n",
    "<br />\n",
    "<br />\n",
    "\n",
    "<a target=\"_blank\" href=\"https://colab.research.google.com/github/wandb/weave/blob/master/examples/prompts/trace_debugging/dev/synthetic_trace_data.ipynb\">\n",
    "  <img src=\"https://colab.research.google.com/assets/colab-badge.svg\" alt=\"Open In Colab\"/>\n",
    "</a>\n",
    "\n",
    "# Generate Synthetic Trace Data\n",
    "\n",
    "Generate some synthetic trace data we can explore in a Trace Debugging Board.\n",
    "\n",
    "# Step 0: Setup"
   ]
  },
  {
   "cell_type": "code",
   "execution_count": null,
   "id": "0949d807",
   "metadata": {},
   "outputs": [],
   "source": [
    "!pip install -qqq weave"
   ]
  },
  {
   "cell_type": "code",
   "execution_count": null,
   "id": "00599068-b72e-4148-894f-dbfd022e6bea",
   "metadata": {},
   "outputs": [],
   "source": [
    "import weave\n",
    "from weave.legacy.monitoring import StreamTable\n",
    "from weave.stream_data_interfaces import TraceSpanDict"
   ]
  },
  {
   "cell_type": "markdown",
   "id": "3d0c4b21-9081-4666-ae6f-893230d7b6cf",
   "metadata": {},
   "source": [
    "# Step 1: Configure data streaming"
   ]
  },
  {
   "cell_type": "code",
   "execution_count": null,
   "id": "c3e49bf5-b40a-4039-85e7-4b4795c0665e",
   "metadata": {},
   "outputs": [],
   "source": [
    "WB_PROJECT = \"prompts\"\n",
    "WB_STREAM = \"synthetic_traces_stream\"\n",
    "WB_ENTITY = # set wandb username or team name"
   ]
  },
  {
   "cell_type": "markdown",
   "id": "6a2c911e-c23c-48a6-98d8-d39172dad03a",
   "metadata": {},
   "source": [
    "**Note**: The WB_ENTITY will match the default entity associated with your [W&B API key](wandb.ai/authorize). You can optionally set WB_ENTITY to a different wandb username or team name. Log in to W&B and navigate to [the Home Page](https://wandb.ai/home) to see any other valid options for your WB_ENTITY under your \"Profile\" and \"Teams\" in the left sidebar."
   ]
  },
  {
   "cell_type": "markdown",
   "id": "3342a2c5-3b73-4580-a569-ca11fe8e8784",
   "metadata": {},
   "source": [
    "# Step 2: Generate some synthetic data to log"
   ]
  },
  {
   "cell_type": "code",
   "execution_count": null,
   "id": "962a0eee-526d-4ed4-9cf5-f734a34fd5df",
   "metadata": {},
   "outputs": [],
   "source": [
    "import random\n",
    "from uuid import uuid4\n",
    "import datetime\n",
    "import json\n",
    "\n",
    "names = [\n",
    "\"fit\",\n",
    "\"predict\",\n",
    "\"transform\",\n",
    "\"compile\",\n",
    "\"evaluate\",\n",
    "\"GridSearchCV\",\n",
    "\"train_test_split\",\n",
    "\"Sequential\",\n",
    "\"early_stopping\",\n",
    "\"OneHotEncoder\",\n",
    "\"Dense\",\n",
    "\"MinMaxScaler\",\n",
    "\"dropout\",\n",
    "\"confusion_matrix\",\n",
    "\"lstm\",\n",
    "]\n",
    "\n",
    "def simple_dict():\n",
    "    return {\n",
    "        \"a_1\": 42,\n",
    "        \"a_2\": \"Test\",\n",
    "        \"a_3\": True,\n",
    "        \"a_4\": {\n",
    "            \"_kind\": \"AGENT\",\n",
    "            \"list\": [1,2,3],\n",
    "            \"dict\": {\n",
    "                \"hello\": \"world\"\n",
    "            }\n",
    "        }\n",
    "    }\n",
    "\n",
    "def create_random_span(accumulator, trace_id=None, parent_id=None, start_time_s=None):\n",
    "    name = random.choice(names)\n",
    "    kind = random.choice([None, 'CHAIN','AGENT','TOOL','LLM',])\n",
    "    \n",
    "    status_code = \"UNSET\"\n",
    "    status = random.randint(0, 10000)\n",
    "    if status == 0:\n",
    "        status_code = \"ERROR\"\n",
    "    elif status <= 9995:\n",
    "        status_code = \"SUCCESS\"\n",
    "    exception = random.choice([None, \"Error\"]) if status_code == \"ERROR\" else None\n",
    "    span_id = str(uuid4())\n",
    "    if trace_id is None:\n",
    "        trace_id = str(uuid4())\n",
    "    attributes = simple_dict()\n",
    "\n",
    "    # Special Attributes\n",
    "    attributes[\"span_kind\"] = kind\n",
    "    attributes[\"model\"] = {\n",
    "        \"id\": \"4edfghu7654edfg\",\n",
    "        \"obj\": json.dumps(simple_dict())\n",
    "    }\n",
    "    inputs = simple_dict()\n",
    "    output = simple_dict()\n",
    "    summary = simple_dict()\n",
    "    \n",
    "    if start_time_s is None:\n",
    "        start_time_s = datetime.datetime.now().timestamp()\n",
    "\n",
    "    if parent_id is None:\n",
    "        num_children = random.choice([1,2,3,4,5])\n",
    "    else:\n",
    "        num_children = random.choice([0,0,0,0,0,1,2])\n",
    "\n",
    "    if num_children == 0 or status_code == 'ERROR':\n",
    "        duration_s = random.randint(1, 10000) / 1000\n",
    "    else:\n",
    "        duration_s = 0\n",
    "        for i in range(num_children):\n",
    "            child_span = create_random_span(accumulator, trace_id, span_id, duration_s + start_time_s)\n",
    "            duration_s += child_span['end_time_s'] - child_span['start_time_s']\n",
    "            if child_span['status_code'] == 'ERROR':\n",
    "                status_code = 'ERROR'\n",
    "                exception = child_span['exception']\n",
    "                break\n",
    "        \n",
    "    end_time_s = start_time_s + duration_s\n",
    "    self_span = TraceSpanDict(\n",
    "        name=name,\n",
    "        span_id=span_id,\n",
    "        trace_id=trace_id,\n",
    "        status_code=status_code,\n",
    "        start_time_s=start_time_s,\n",
    "        end_time_s=end_time_s,\n",
    "        parent_id=parent_id,\n",
    "        attributes=attributes,\n",
    "        inputs=inputs,\n",
    "        output=output,\n",
    "        summary=summary,\n",
    "        exception=exception,\n",
    "    )\n",
    "    # Purely a simulation hack\n",
    "    self_span[\"timestamp\"] = datetime.datetime.fromtimestamp(start_time_s)\n",
    "    accumulator.append(self_span)\n",
    "    return self_span"
   ]
  },
  {
   "cell_type": "markdown",
   "id": "c3a45607-de32-4e15-a1bd-b735f7c6b7fb",
   "metadata": {},
   "source": [
    "# Step 3: Iinitialize data stream and log synthetic data"
   ]
  },
  {
   "cell_type": "code",
   "execution_count": null,
   "id": "8445f72f-27a0-41ec-b618-c76eab7a553f",
   "metadata": {},
   "outputs": [],
   "source": [
    "st = StreamTable(f\"{WB_ENTITY}/{WB_PROJECT}/{WB_STREAM}\")\n",
    "\n",
    "start_time_s = datetime.datetime.now().timestamp()\n",
    "for i in range(10):\n",
    "    acc = []\n",
    "    create_random_span(acc, start_time_s=start_time_s)\n",
    "    st.log(acc)\n",
    "    start_time_s = max([a['timestamp'].timestamp() for a in acc])\n",
    "\n",
    "st.finish()"
   ]
  },
  {
   "cell_type": "markdown",
   "id": "22d89515-7926-41fe-8b90-2a0ce881a712",
   "metadata": {},
   "source": [
    "# Next: View and explore a Trace Debugging Board\n",
    "\n",
    "Click on the \"View data at:\" link above to view your data stream in Weave. \n",
    "\n",
    "You can click on \"+ New board from template\" on the right to create a Trace Debug Board, which enables:\n",
    "* key LLM tuning metrics at a glance: latency and success vs failure, for each call and as a distribution\n",
    "* complete view of call details: inputs, outputs, status, timestamp, etc&mdash;also available for downtream queries & analaysis\n",
    "* interactive W&B Trace view: a color-coded flow chart of every step of an LLM chain, with full metadata, model details, and similar span views updating in sync with every selected span\n",
    "* monitor & analyze from the automatic Board; customize & publish the Board for streamlined collaboration with your team"
   ]
  }
 ],
 "metadata": {
  "kernelspec": {
   "display_name": "Python 3 (ipykernel)",
   "language": "python",
   "name": "python3"
  },
  "language_info": {
   "codemirror_mode": {
    "name": "ipython",
    "version": 3
   },
   "file_extension": ".py",
   "mimetype": "text/x-python",
   "name": "python",
   "nbconvert_exporter": "python",
   "pygments_lexer": "ipython3",
   "version": "3.9.7"
  }
 },
 "nbformat": 4,
 "nbformat_minor": 5
}
