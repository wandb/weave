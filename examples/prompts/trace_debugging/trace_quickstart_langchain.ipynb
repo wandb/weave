{
 "cells": [
  {
   "cell_type": "code",
   "execution_count": null,
   "id": "e4d1be6b-27e4-41f9-97b3-1c188352286f",
   "metadata": {},
   "outputs": [],
   "source": [
    "import weave\n",
    "from weave.monitoring.langchain import WeaveTracer"
   ]
  },
  {
   "cell_type": "code",
   "execution_count": null,
   "id": "4cea66fe-d6f7-4273-8ba8-754d8ce5dd14",
   "metadata": {},
   "outputs": [],
   "source": [
    "from langchain.agents import load_tools\n",
    "from langchain.agents import initialize_agent\n",
    "from langchain.agents import AgentType\n",
    "from langchain.llms import OpenAI\n",
    "\n",
    "llm = OpenAI(temperature=0)\n",
    "tools = load_tools([\"llm-math\"], llm=llm)\n",
    "agent = initialize_agent(tools, llm, agent=AgentType.ZERO_SHOT_REACT_DESCRIPTION)"
   ]
  },
  {
   "cell_type": "code",
   "execution_count": null,
   "id": "b92d9e5e-17ef-4bc3-a7ec-9d321fd1a465",
   "metadata": {},
   "outputs": [],
   "source": [
    "tracer = WeaveTracer(\"timssweeney/monitor_dev_test/lc_stream_23\")"
   ]
  },
  {
   "cell_type": "code",
   "execution_count": null,
   "id": "66f19e5c-ae34-4c6c-83c5-c5d376c541e6",
   "metadata": {},
   "outputs": [],
   "source": [
    "answer_as_json = questions = [\n",
    "    {'question': 'What is the sum of 5 and 7?'},\n",
    "     # {'question': 'What is the product of 4 and 6?'},\n",
    "     # {'question': 'What is the square root of 64?'},\n",
    "     # {'question': 'What is the area of a circle with a radius of 5?'},\n",
    "     # {'question': 'What is the slope of the line y = 3x + 2?'},\n",
    "     # {'question': 'What is the value of x in the equation 3x + 4 = 10?'},\n",
    "     # {'question': 'What is the value of y in the equation y = 2x + 1 when x = 3?'},\n",
    "     # {'question': 'What is the equation of the line that passes through the points (2, 4) and (3, 6)?'},\n",
    "     # {'question': 'What is the volume of a cube with a side length of 5?'},\n",
    "     # {'question': 'What is the value of x in the equation x2 + 3x - 4 = 0?'}\n",
    "]"
   ]
  },
  {
   "cell_type": "code",
   "execution_count": null,
   "id": "7caa4277-bc10-493a-bbf2-f259d970822c",
   "metadata": {},
   "outputs": [],
   "source": [
    "questions = [row['question'] for row in answer_as_json]"
   ]
  },
  {
   "cell_type": "code",
   "execution_count": null,
   "id": "e666563f-9948-4911-ab3a-ca106c0b0a89",
   "metadata": {},
   "outputs": [],
   "source": [
    "for question in questions:\n",
    "  try:\n",
    "    answer = agent.run(question, callbacks=[tracer])\n",
    "    print(answer)\n",
    "  except Exception as e:\n",
    "    print(e)\n",
    "    pass"
   ]
  },
  {
   "cell_type": "code",
   "execution_count": null,
   "id": "74f578d7-044b-4423-b5ad-0860e30c59af",
   "metadata": {},
   "outputs": [],
   "source": [
    "weave.panels.panel_trace.Trace(tracer._st.rows())"
   ]
  }
 ],
 "metadata": {
  "kernelspec": {
   "display_name": "Python 3 (ipykernel)",
   "language": "python",
   "name": "python3"
  },
  "language_info": {
   "codemirror_mode": {
    "name": "ipython",
    "version": 3
   },
   "file_extension": ".py",
   "mimetype": "text/x-python",
   "name": "python",
   "nbconvert_exporter": "python",
   "pygments_lexer": "ipython3",
   "version": "3.10.8"
  }
 },
 "nbformat": 4,
 "nbformat_minor": 5
}
