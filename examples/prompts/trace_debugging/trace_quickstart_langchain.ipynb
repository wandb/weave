{
 "cells": [
  {
   "cell_type": "markdown",
   "id": "957b839e-ae72-4608-8f17-454e95c6c76c",
   "metadata": {},
   "source": [
    "# LLM Debugging with W&B Trace and LangChain\n",
    "\n",
    "<a target=\"_blank\" href=\"https://colab.research.google.com/github/wandb/weave/blob/master/examples/prompts/trace_debugging/trace_quickstart_langchain.ipynb\">\n",
    "  <img src=\"https://colab.research.google.com/assets/colab-badge.svg\" alt=\"Open In Colab\"/>\n",
    "</a>\n",
    "\n",
    "Use W&B Traces with LangChain to\n",
    "* trace and visualize all the stages, intermediate processing calls, and other details of your LLM calls\n",
    "* debug and diagnose errors in specific prompts or chain configurations\n",
    "* get quick insights and more complete understanding of effective prompt langauge and patterns for your specific use case \n",
    "\n",
    "<img src=\"https://raw.githubusercontent.com/wandb/weave/master/docs/assets/traces_debug_board.png\">\n",
    "\n",
    "# Step 0: Setup\n",
    "\n",
    "Install dependencies, authenticate with OpenAI, login to W&B so you can save and share your work."
   ]
  },
  {
   "cell_type": "code",
   "execution_count": null,
   "id": "1de23014-21d9-4f48-8541-636c5d741410",
   "metadata": {},
   "outputs": [],
   "source": [
    "# if not already installed\n",
    "!pip install -qqq wandb weave"
   ]
  },
  {
   "cell_type": "code",
   "execution_count": 1,
   "id": "005fc98a-ef8d-46d0-9774-a8bbc5cc93bf",
   "metadata": {},
   "outputs": [
    {
     "name": "stdin",
     "output_type": "stream",
     "text": [
      "Paste your OpenAI key from: https://platform.openai.com/account/api-keys\n",
      " ········\n"
     ]
    },
    {
     "name": "stdout",
     "output_type": "stream",
     "text": [
      "OpenAI API key configured\n"
     ]
    }
   ],
   "source": [
    "import os\n",
    "from getpass import getpass\n",
    "\n",
    "if os.getenv(\"OPENAI_API_KEY\") is None:\n",
    "  os.environ[\"OPENAI_API_KEY\"] = getpass(\"Paste your OpenAI key from: https://platform.openai.com/account/api-keys\\n\")\n",
    "assert os.getenv(\"OPENAI_API_KEY\", \"\").startswith(\"sk-\"), \"This doesn't look like a valid OpenAI API key\"\n",
    "print(\"OpenAI API key configured\")"
   ]
  },
  {
   "cell_type": "code",
   "execution_count": 2,
   "id": "cb27a8d0",
   "metadata": {},
   "outputs": [
    {
     "name": "stderr",
     "output_type": "stream",
     "text": [
      "\u001b[34m\u001b[1mwandb\u001b[0m: Currently logged in as: \u001b[33mstacey\u001b[0m. Use \u001b[1m`wandb login --relogin`\u001b[0m to force relogin\n"
     ]
    },
    {
     "data": {
      "text/plain": [
       "True"
      ]
     },
     "execution_count": 2,
     "metadata": {},
     "output_type": "execute_result"
    }
   ],
   "source": [
    "import wandb\n",
    "wandb.login()"
   ]
  },
  {
   "cell_type": "code",
   "execution_count": 3,
   "id": "e4d1be6b-27e4-41f9-97b3-1c188352286f",
   "metadata": {},
   "outputs": [
    {
     "ename": "AttributeError",
     "evalue": "module 'langchain.callbacks.tracers.wandb' has no attribute '_serialize_io'",
     "output_type": "error",
     "traceback": [
      "\u001b[0;31m---------------------------------------------------------------------------\u001b[0m",
      "\u001b[0;31mAttributeError\u001b[0m                            Traceback (most recent call last)",
      "Cell \u001b[0;32mIn[3], line 2\u001b[0m\n\u001b[1;32m      1\u001b[0m \u001b[38;5;28;01mimport\u001b[39;00m \u001b[38;5;21;01mweave\u001b[39;00m\n\u001b[0;32m----> 2\u001b[0m \u001b[38;5;28;01mfrom\u001b[39;00m \u001b[38;5;21;01mweave\u001b[39;00m\u001b[38;5;21;01m.\u001b[39;00m\u001b[38;5;21;01mmonitoring\u001b[39;00m\u001b[38;5;21;01m.\u001b[39;00m\u001b[38;5;21;01mlangchain\u001b[39;00m \u001b[38;5;28;01mimport\u001b[39;00m WeaveTracer\n",
      "File \u001b[0;32m~/Code/bracelet/weave/weave/monitoring/langchain.py:102\u001b[0m\n\u001b[1;32m     97\u001b[0m         \u001b[38;5;28;01mreturn\u001b[39;00m old_serialize_io(run_inputs)\n\u001b[1;32m     99\u001b[0m     LCW\u001b[38;5;241m.\u001b[39m_serialize_io \u001b[38;5;241m=\u001b[39m new_serialize_io\n\u001b[0;32m--> 102\u001b[0m \u001b[43mpatch_serialize\u001b[49m\u001b[43m(\u001b[49m\u001b[43m)\u001b[49m\n\u001b[1;32m    105\u001b[0m \u001b[38;5;28;01mclass\u001b[39;00m \u001b[38;5;21;01mWeaveTracer\u001b[39;00m(BaseTracer):\n\u001b[1;32m    106\u001b[0m     \u001b[38;5;28;01mdef\u001b[39;00m \u001b[38;5;21m__init__\u001b[39m(\u001b[38;5;28mself\u001b[39m, stream_uri: \u001b[38;5;28mstr\u001b[39m, \u001b[38;5;241m*\u001b[39m\u001b[38;5;241m*\u001b[39mkwargs: typing\u001b[38;5;241m.\u001b[39mAny) \u001b[38;5;241m-\u001b[39m\u001b[38;5;241m>\u001b[39m \u001b[38;5;28;01mNone\u001b[39;00m:\n",
      "File \u001b[0;32m~/Code/bracelet/weave/weave/monitoring/langchain.py:92\u001b[0m, in \u001b[0;36mpatch_serialize\u001b[0;34m()\u001b[0m\n\u001b[1;32m     89\u001b[0m     \u001b[38;5;28;01mreturn\u001b[39;00m\n\u001b[1;32m     90\u001b[0m patched \u001b[38;5;241m=\u001b[39m \u001b[38;5;28;01mTrue\u001b[39;00m\n\u001b[0;32m---> 92\u001b[0m old_serialize_io \u001b[38;5;241m=\u001b[39m \u001b[43mLCW\u001b[49m\u001b[38;5;241;43m.\u001b[39;49m\u001b[43m_serialize_io\u001b[49m\n\u001b[1;32m     94\u001b[0m \u001b[38;5;28;01mdef\u001b[39;00m \u001b[38;5;21mnew_serialize_io\u001b[39m(run_inputs):  \u001b[38;5;66;03m# type: ignore\u001b[39;00m\n\u001b[1;32m     95\u001b[0m     \u001b[38;5;28;01mif\u001b[39;00m run_inputs \u001b[38;5;129;01mis\u001b[39;00m \u001b[38;5;28;01mNone\u001b[39;00m:\n",
      "\u001b[0;31mAttributeError\u001b[0m: module 'langchain.callbacks.tracers.wandb' has no attribute '_serialize_io'"
     ]
    }
   ],
   "source": [
    "import weave\n",
    "from weave.monitoring.langchain import WeaveTracer"
   ]
  },
  {
   "cell_type": "markdown",
   "id": "ca215666-16a7-4dc5-8354-4c7b30f83d44",
   "metadata": {},
   "source": [
    "# Step 1: Configure data streaming\n",
    "\n",
    "Configure how W&B stores all the work related to the current project.\n",
    "* required: set WB_ENTITY to your wandb username or team name\n",
    "* optional: rename the WB_PROJECT, the top-level directory for this work\n",
    "* optional: rename the STREAM_NAME, the record table which stores the logs of LangChain calls"
   ]
  },
  {
   "cell_type": "code",
   "execution_count": null,
   "id": "b92d9e5e-17ef-4bc3-a7ec-9d321fd1a465",
   "metadata": {},
   "outputs": [],
   "source": [
    "WB_ENTITY = \"stacey\" # replace with your W&B entity\n",
    "WB_PROJECT = \"lc_trace_quickstart\"\n",
    "WB_STREAM = \"prompts\"\n",
    "\n",
    "tracer = WeaveTracer(f\"{WB_ENTITY}/{WB_PROJECT}/{WB_STREAM}\")"
   ]
  },
  {
   "cell_type": "code",
   "execution_count": null,
   "id": "4cea66fe-d6f7-4273-8ba8-754d8ce5dd14",
   "metadata": {},
   "outputs": [],
   "source": [
    "from langchain.agents import load_tools\n",
    "from langchain.agents import initialize_agent\n",
    "from langchain.agents import AgentType\n",
    "from langchain.llms import OpenAI\n",
    "\n",
    "llm = OpenAI(temperature=0)\n",
    "tools = load_tools([\"llm-math\"], llm=llm)\n",
    "agent = initialize_agent(tools, llm, agent=AgentType.ZERO_SHOT_REACT_DESCRIPTION)"
   ]
  },
  {
   "cell_type": "code",
   "execution_count": null,
   "id": "7caa4277-bc10-493a-bbf2-f259d970822c",
   "metadata": {},
   "outputs": [],
   "source": [
    "questions = [\n",
    "    'What is the sum of 5 and 7?',\n",
    "    'What is the product of 4 and 6?',\n",
    "    'What is the square root of 64?',\n",
    "    'What is the area of a circle with a radius of 5?',\n",
    "    'What is the slope of the line y = 3x + 2?',\n",
    "    'What is the value of x in the equation 3x + 4 = 10?',\n",
    "    'What is the value of y in the equation y = 2x + 1 when x = 3?',\n",
    "    'What is the equation of the line that passes through the points (2, 4) and (3, 6)?',\n",
    "    'What is the volume of a cube with a side length of 5?',\n",
    "    'What is the value of x in the equation x2 + 3x - 4 = 0?'\n",
    "]"
   ]
  },
  {
   "cell_type": "code",
   "execution_count": null,
   "id": "e666563f-9948-4911-ab3a-ca106c0b0a89",
   "metadata": {},
   "outputs": [],
   "source": [
    "for question in questions:\n",
    "    try:\n",
    "        print(agent.run(question, callbacks=[tracer]))\n",
    "    except Exception as e:\n",
    "        print(\"Caught Exception:\", e)"
   ]
  }
 ],
 "metadata": {
  "kernelspec": {
   "display_name": "Python 3 (ipykernel)",
   "language": "python",
   "name": "python3"
  },
  "language_info": {
   "codemirror_mode": {
    "name": "ipython",
    "version": 3
   },
   "file_extension": ".py",
   "mimetype": "text/x-python",
   "name": "python",
   "nbconvert_exporter": "python",
   "pygments_lexer": "ipython3",
   "version": "3.9.7"
  }
 },
 "nbformat": 4,
 "nbformat_minor": 5
}
