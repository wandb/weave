{
 "cells": [
  {
   "cell_type": "code",
   "execution_count": null,
   "id": "cb27a8d0",
   "metadata": {},
   "outputs": [],
   "source": [
    "import wandb\n",
    "wandb.login()"
   ]
  },
  {
   "cell_type": "code",
   "execution_count": null,
   "id": "e4d1be6b-27e4-41f9-97b3-1c188352286f",
   "metadata": {},
   "outputs": [],
   "source": [
    "import weave\n",
    "from weave.monitoring.langchain import WeaveTracer"
   ]
  },
  {
   "cell_type": "code",
   "execution_count": null,
   "id": "4cea66fe-d6f7-4273-8ba8-754d8ce5dd14",
   "metadata": {},
   "outputs": [],
   "source": [
    "from langchain.agents import load_tools\n",
    "from langchain.agents import initialize_agent\n",
    "from langchain.agents import AgentType\n",
    "from langchain.llms import OpenAI\n",
    "\n",
    "llm = OpenAI(temperature=0)\n",
    "tools = load_tools([\"llm-math\"], llm=llm)\n",
    "agent = initialize_agent(tools, llm, agent=AgentType.ZERO_SHOT_REACT_DESCRIPTION)"
   ]
  },
  {
   "cell_type": "code",
   "execution_count": null,
   "id": "b92d9e5e-17ef-4bc3-a7ec-9d321fd1a465",
   "metadata": {},
   "outputs": [],
   "source": [
    "WB_ENTITY = \"timssweeney\"\n",
    "WB_PROJECT = \"lc_trace_quickstart\"\n",
    "WB_STREAM = \"prompts\"\n",
    "\n",
    "tracer = WeaveTracer(f\"{WB_ENTITY}/{WB_PROJECT}/{WB_STREAM}\")"
   ]
  },
  {
   "cell_type": "code",
   "execution_count": null,
   "id": "7caa4277-bc10-493a-bbf2-f259d970822c",
   "metadata": {},
   "outputs": [],
   "source": [
    "questions = [\n",
    "    'What is the sum of 5 and 7?',\n",
    "    'What is the product of 4 and 6?',\n",
    "    'What is the square root of 64?',\n",
    "    'What is the area of a circle with a radius of 5?',\n",
    "    'What is the slope of the line y = 3x + 2?',\n",
    "    'What is the value of x in the equation 3x + 4 = 10?',\n",
    "    'What is the value of y in the equation y = 2x + 1 when x = 3?',\n",
    "    'What is the equation of the line that passes through the points (2, 4) and (3, 6)?',\n",
    "    'What is the volume of a cube with a side length of 5?',\n",
    "    'What is the value of x in the equation x2 + 3x - 4 = 0?'\n",
    "]"
   ]
  },
  {
   "cell_type": "code",
   "execution_count": null,
   "id": "e666563f-9948-4911-ab3a-ca106c0b0a89",
   "metadata": {},
   "outputs": [],
   "source": [
    "for question in questions:\n",
    "    try:\n",
    "        print(agent.run(question, callbacks=[tracer]))\n",
    "    except Exception as e:\n",
    "        print(\"Caught Exception:\", e)"
   ]
  }
 ],
 "metadata": {
  "kernelspec": {
   "display_name": "Python 3 (ipykernel)",
   "language": "python",
   "name": "python3"
  },
  "language_info": {
   "codemirror_mode": {
    "name": "ipython",
    "version": 3
   },
   "file_extension": ".py",
   "mimetype": "text/x-python",
   "name": "python",
   "nbconvert_exporter": "python",
   "pygments_lexer": "ipython3",
   "version": "3.10.8"
  }
 },
 "nbformat": 4,
 "nbformat_minor": 5
}
