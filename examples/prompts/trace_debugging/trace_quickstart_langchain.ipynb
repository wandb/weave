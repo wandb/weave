{
 "cells": [
  {
   "cell_type": "markdown",
   "id": "957b839e-ae72-4608-8f17-454e95c6c76c",
   "metadata": {},
   "source": [
    "# Debug LLMs with W&B Trace and LangChain\n",
    "\n",
    "<a target=\"_blank\" href=\"https://colab.research.google.com/github/wandb/weave/blob/master/examples/prompts/trace_debugging/trace_quickstart_langchain.ipynb\">\n",
    "  <img src=\"https://colab.research.google.com/assets/colab-badge.svg\" alt=\"Open In Colab\"/>\n",
    "</a>\n",
    "\n",
    "Use W&B Traces with LangChain to\n",
    "* trace and visualize all the intermediate processing steps of your LLM calls\n",
    "* debug and diagnose errors in specific prompts or chain configurations\n",
    "* quickly find more effective prompts and LLM chains for your specific use case \n",
    "\n",
    "<img src=\"https://raw.githubusercontent.com/wandb/weave/master/docs/assets/traces_debug_board.png\">\n",
    "\n",
    "# Step 0: Setup\n",
    "\n",
    "Install dependencies, authenticate with OpenAI, and login to W&B so you can save and share your work. Your W&B API key can be copied & pasted from [wandb.ai/authorize](wandb.ai/authorize)."
   ]
  },
  {
   "cell_type": "code",
   "execution_count": null,
   "id": "1de23014-21d9-4f48-8541-636c5d741410",
   "metadata": {},
   "outputs": [],
   "source": [
    "!pip install -qqq wandb langchain==0.0.295\n",
    "# if not already installed\n",
    "#!pip install -qqq weave"
   ]
  },
  {
   "cell_type": "code",
   "execution_count": null,
   "id": "005fc98a-ef8d-46d0-9774-a8bbc5cc93bf",
   "metadata": {},
   "outputs": [],
   "source": [
    "import os\n",
    "from getpass import getpass\n",
    "\n",
    "if os.getenv(\"OPENAI_API_KEY\") is None:\n",
    "  os.environ[\"OPENAI_API_KEY\"] = getpass(\"Paste your OpenAI key from: https://platform.openai.com/account/api-keys\\n\")\n",
    "assert os.getenv(\"OPENAI_API_KEY\", \"\").startswith(\"sk-\"), \"This doesn't look like a valid OpenAI API key\"\n",
    "print(\"OpenAI API key configured\")"
   ]
  },
  {
   "cell_type": "code",
   "execution_count": null,
   "id": "cb27a8d0",
   "metadata": {},
   "outputs": [],
   "source": [
    "import wandb\n",
    "!wandb login"
   ]
  },
  {
   "cell_type": "code",
   "execution_count": null,
   "id": "e4d1be6b-27e4-41f9-97b3-1c188352286f",
   "metadata": {},
   "outputs": [],
   "source": [
    "import langchain\n",
    "import weave\n",
    "from weave.monitoring.langchain import WeaveTracer"
   ]
  },
  {
   "cell_type": "markdown",
   "id": "ca215666-16a7-4dc5-8354-4c7b30f83d44",
   "metadata": {},
   "source": [
    "# Step 1: Configure data streaming and storage in W&B"
   ]
  },
  {
   "cell_type": "code",
   "execution_count": null,
   "id": "b92d9e5e-17ef-4bc3-a7ec-9d321fd1a465",
   "metadata": {},
   "outputs": [],
   "source": [
    "WB_ENTITY = # replace with your W&B username or team name\n",
    "WB_PROJECT = \"lc_trace_quickstart\" # top-level directory for this work\n",
    "WB_STREAM = \"prompts\" # record table which stores the logs of LangChain calls"
   ]
  },
  {
   "cell_type": "code",
   "execution_count": null,
   "id": "9f9fa217-2e3a-48ac-b057-6a9e7b2aaf1f",
   "metadata": {},
   "outputs": [],
   "source": [
    "# feel free to edit or add your own!\n",
    "sample_math_questions = [\n",
    "   'What is the sum of 5 and 7?',\n",
    "   'What is the product of 4 and 6?',\n",
    "   'What is the square root of 64?',\n",
    "   'What is the area of a circle with a radius of 5?',\n",
    "   'What is the value of x in the equation 3x + 4 = 10?',\n",
    "   'What is the value of y in the equation y = 2x + 1 when x = 3?',\n",
    "   'What is the equation of the line that passes through the points (2, 4) and (3, 6)?',\n",
    "   'What is the volume of a cube with a side length of 5?',\n",
    "   'What is the value of x in the equation x^2 + 3x - 4 = 0?'\n",
    "]"
   ]
  },
  {
   "cell_type": "markdown",
   "id": "f1801036-39fa-4022-b971-2d1497ffce56",
   "metadata": {},
   "source": [
    "# Step 2: Add a WeaveTracer as a callback"
   ]
  },
  {
   "cell_type": "code",
   "execution_count": null,
   "id": "4cea66fe-d6f7-4273-8ba8-754d8ce5dd14",
   "metadata": {},
   "outputs": [],
   "source": [
    "from langchain.agents import load_tools\n",
    "from langchain.agents import initialize_agent\n",
    "from langchain.agents import AgentType\n",
    "from langchain.llms import OpenAI\n",
    "\n",
    "llm = OpenAI(temperature=0)\n",
    "tools = load_tools([\"llm-math\"], llm=llm)\n",
    "agent = initialize_agent(tools, llm, agent=AgentType.ZERO_SHOT_REACT_DESCRIPTION)\n",
    "\n",
    "# store all traces in the StreamTable we configured above\n",
    "tracer = WeaveTracer(f\"{WB_ENTITY}/{WB_PROJECT}/{WB_STREAM}\")\n",
    "\n",
    "for question in sample_math_questions:\n",
    "    try:\n",
    "        # add WeaveTracer as a callback to monitor & log all calls\n",
    "        print(agent.run(question, callbacks=[tracer]))\n",
    "    except Exception as e:\n",
    "        print(\"Caught Exception:\", e)"
   ]
  },
  {
   "cell_type": "markdown",
   "id": "6f0ac3c2-8566-4517-bbf9-cd380e5697f2",
   "metadata": {},
   "source": [
    "# Step 3: Create and customize a Trace Debugging Board\n",
    "\n",
    "Click on the \"View data at:\" link above to view your data stream in Weave.\n",
    "\n",
    "You can click on \"+ New board from template\" on the right to create a Trace Debug Board, which enables:\n",
    "* key LLM tuning metrics at a glance**: latency and success vs failure, for each call and as a distribution\n",
    "* complete view of call details: inputs, outputs, status, timestamp, etc&mdash;also available for downtream queries & analaysis\n",
    "* interactive W&B Trace view: a color-coded flow chart of every step of an LLM chain, with full metadata, model details, and similar span views updating in sync with every selected span\n",
    "* monitor & analyze from the automatic Board; customize & publish the Board for streamlined collaboration with your team\n",
    "\n",
    "# Next steps\n",
    "\n",
    "Use the Board to dive into the details of your chains!\n",
    "For UI instructions, see this [guide](https://docs.wandb.ai/guides/prompts)."
   ]
  }
 ],
 "metadata": {
  "kernelspec": {
   "display_name": "Python 3 (ipykernel)",
   "language": "python",
   "name": "python3"
  },
  "language_info": {
   "codemirror_mode": {
    "name": "ipython",
    "version": 3
   },
   "file_extension": ".py",
   "mimetype": "text/x-python",
   "name": "python",
   "nbconvert_exporter": "python",
   "pygments_lexer": "ipython3",
   "version": "3.9.7"
  }
 },
 "nbformat": 4,
 "nbformat_minor": 5
}
