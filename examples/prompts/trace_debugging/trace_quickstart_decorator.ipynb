{
 "cells": [
  {
   "cell_type": "markdown",
   "id": "f7d06536-57e5-49d3-93ea-a0d1a0a118a8",
   "metadata": {},
   "source": [
    "# Custom Tracing with the W&B Trace Decorator\n",
    "\n",
    "<a target=\"_blank\" href=\"https://colab.research.google.com/github/wandb/weave/blob/master/examples/prompts/trace_debugging/trace_quickstart_decorator.ipynb\">\n",
    "  <img src=\"https://colab.research.google.com/assets/colab-badge.svg\" alt=\"Open In Colab\"/>\n",
    "</a>\n",
    "\n",
    "# Step 0: Setup\n",
    "\n",
    "Install dependencies and login to W&B so you can save and share your work."
   ]
  },
  {
   "cell_type": "code",
   "execution_count": 5,
   "id": "4f0a1817-a0aa-4bb1-ab9a-c852e57b7f51",
   "metadata": {},
   "outputs": [
    {
     "data": {
      "text/plain": [
       "True"
      ]
     },
     "execution_count": 5,
     "metadata": {},
     "output_type": "execute_result"
    }
   ],
   "source": [
    "import wandb\n",
    "wandb.login()"
   ]
  },
  {
   "cell_type": "code",
   "execution_count": 6,
   "id": "a36c6f7d",
   "metadata": {},
   "outputs": [],
   "source": [
    "import weave\n",
    "import time\n",
    "from weave.monitoring import init_monitor"
   ]
  },
  {
   "cell_type": "markdown",
   "id": "f6f18966-6219-490f-9eec-625278cd1c61",
   "metadata": {},
   "source": [
    "# Step 1: Configure data streaming and storage in W&B"
   ]
  },
  {
   "cell_type": "code",
   "execution_count": null,
   "id": "a3e25fc6-0061-4259-abb4-cb5310d4c0e1",
   "metadata": {},
   "outputs": [],
   "source": [
    "WB_ENTITY = # replace with your W&B username or team name\n",
    "WB_PROJECT = \"trace_quickstart\"\n",
    "WB_STREAM = \"decorator_stream\""
   ]
  },
  {
   "cell_type": "markdown",
   "id": "314bbe1f-128c-45c6-833e-046c8f6ef659",
   "metadata": {},
   "source": [
    "# Step 2: Setup log stream and add decorators to functions of interest"
   ]
  },
  {
   "cell_type": "code",
   "execution_count": 7,
   "id": "7f0e78c1",
   "metadata": {},
   "outputs": [
    {
     "data": {
      "text/html": [
       " View data at <a href='https://weave.wandb.ai/browse/wandb/stacey/trace_quickstart/table/decorator_stream' target=\"_blank\">https://weave.wandb.ai/browse/wandb/stacey/trace_quickstart/table/decorator_stream</a>"
      ],
      "text/plain": [
       "<IPython.core.display.HTML object>"
      ]
     },
     "metadata": {},
     "output_type": "display_data"
    },
    {
     "ename": "Exception",
     "evalue": "Example exception",
     "output_type": "error",
     "traceback": [
      "\u001b[0;31m---------------------------------------------------------------------------\u001b[0m",
      "\u001b[0;31mException\u001b[0m                                 Traceback (most recent call last)",
      "Cell \u001b[0;32mIn[7], line 31\u001b[0m\n\u001b[1;32m     27\u001b[0m     \u001b[38;5;66;03m# call the traced function to generate a span for it\u001b[39;00m\n\u001b[1;32m     28\u001b[0m     \u001b[38;5;66;03m# we add an argument \"monitor_attributes\" which allows you pass in additional\u001b[39;00m\n\u001b[1;32m     29\u001b[0m     \u001b[38;5;66;03m# attributes to be logged\u001b[39;00m\n\u001b[1;32m     30\u001b[0m     result \u001b[38;5;241m=\u001b[39m adder(\u001b[38;5;241m1\u001b[39m, \u001b[38;5;241m2\u001b[39m, monitor_attributes\u001b[38;5;241m=\u001b[39m{\u001b[38;5;124m'\u001b[39m\u001b[38;5;124mj\u001b[39m\u001b[38;5;124m'\u001b[39m: \u001b[38;5;241m15\u001b[39m})\n\u001b[0;32m---> 31\u001b[0m     \u001b[43mbuggy_fn\u001b[49m\u001b[43m(\u001b[49m\u001b[43mresult\u001b[49m\u001b[43m,\u001b[49m\u001b[43m \u001b[49m\u001b[38;5;241;43m2\u001b[39;49m\u001b[43m)\u001b[49m\n\u001b[1;32m     32\u001b[0m time\u001b[38;5;241m.\u001b[39msleep(\u001b[38;5;241m0.05\u001b[39m)\n",
      "File \u001b[0;32m~/Code/bracelet/weave/weave/monitoring/monitor.py:257\u001b[0m, in \u001b[0;36mMonitor.trace.<locals>.decorator.<locals>.sync_wrapper\u001b[0;34m(*args, **kwargs)\u001b[0m\n\u001b[1;32m    255\u001b[0m     preprocess(span)\n\u001b[1;32m    256\u001b[0m \u001b[38;5;28;01mtry\u001b[39;00m:\n\u001b[0;32m--> 257\u001b[0m     span\u001b[38;5;241m.\u001b[39moutput \u001b[38;5;241m=\u001b[39m \u001b[43mfn\u001b[49m\u001b[43m(\u001b[49m\u001b[38;5;241;43m*\u001b[39;49m\u001b[43margs\u001b[49m\u001b[43m,\u001b[49m\u001b[43m \u001b[49m\u001b[38;5;241;43m*\u001b[39;49m\u001b[38;5;241;43m*\u001b[39;49m\u001b[43mkwargs\u001b[49m\u001b[43m)\u001b[49m\n\u001b[1;32m    258\u001b[0m     \u001b[38;5;28;01mif\u001b[39;00m postprocess:\n\u001b[1;32m    259\u001b[0m         output \u001b[38;5;241m=\u001b[39m postprocess(span)\n",
      "Cell \u001b[0;32mIn[7], line 16\u001b[0m, in \u001b[0;36mbuggy_fn\u001b[0;34m(a, b)\u001b[0m\n\u001b[1;32m     13\u001b[0m \u001b[38;5;129m@mon\u001b[39m\u001b[38;5;241m.\u001b[39mtrace()\n\u001b[1;32m     14\u001b[0m \u001b[38;5;28;01mdef\u001b[39;00m \u001b[38;5;21mbuggy_fn\u001b[39m(a, b):\n\u001b[1;32m     15\u001b[0m     time\u001b[38;5;241m.\u001b[39msleep(\u001b[38;5;241m0.2\u001b[39m)\n\u001b[0;32m---> 16\u001b[0m     \u001b[38;5;28;01mraise\u001b[39;00m \u001b[38;5;167;01mException\u001b[39;00m(\u001b[38;5;124m\"\u001b[39m\u001b[38;5;124mExample exception\u001b[39m\u001b[38;5;124m\"\u001b[39m)\n\u001b[1;32m     17\u001b[0m     \u001b[38;5;28;01mreturn\u001b[39;00m a \u001b[38;5;241m*\u001b[39m b\n",
      "\u001b[0;31mException\u001b[0m: Example exception"
     ]
    }
   ],
   "source": [
    "mon = init_monitor(f\"{WB_ENTITY}/{WB_PROJECT}/{WB_STREAM}\")\n",
    "\n",
    "# Wrap a function to make it auto-log\n",
    "@mon.trace()\n",
    "def adder(a, b):\n",
    "    time.sleep(0.2)\n",
    "    return a + b\n",
    "\n",
    "@mon.trace()\n",
    "def buggy_fn(a, b):\n",
    "    time.sleep(0.2)\n",
    "    raise Exception(\"Example exception\")\n",
    "    return a * b\n",
    "\n",
    "# you can create manual spans with the mon.span context manager\n",
    "with mon.span('a_span') as s:\n",
    "    time.sleep(0.5)\n",
    "    # you can add attributes to all child spans with the mon.attributes context manager\n",
    "    with mon.attributes({'a': 5, 'b': 6}):\n",
    "        # spans can be nested\n",
    "        with mon.span('b_span') as b:\n",
    "            time.sleep(0.5)\n",
    "            # call the traced function to generate a span for it\n",
    "            # we add an argument \"monitor_attributes\" which allows you pass in additional\n",
    "            # attributes to be logged\n",
    "            result = adder(1, 2, monitor_attributes={'j': 15})\n",
    "            buggy_fn(result, 2)\n",
    "        time.sleep(0.05)"
   ]
  },
  {
   "cell_type": "markdown",
   "id": "b9d1f71b-29ac-4e6e-a87a-ae493ad6dc5b",
   "metadata": {},
   "source": [
    "# Step 3: Create and customize a Trace Debugging Board\n",
    "\n",
    "Click on the \"View data at:\" link above to view your data stream in Weave. \n",
    "You can click on \"+ New board from template\" on the right to create a Trace Debug Board to track, dynamically analyze, and understand all your decorated calls."
   ]
  },
  {
   "cell_type": "code",
   "execution_count": 8,
   "id": "cba9ede6",
   "metadata": {},
   "outputs": [
    {
     "name": "stderr",
     "output_type": "stream",
     "text": [
      "/Users/stacey/.pyenv/versions/3.9.7/envs/blt/lib/python3.9/site-packages/tqdm/auto.py:21: TqdmWarning: IProgress not found. Please update jupyter and ipywidgets. See https://ipywidgets.readthedocs.io/en/stable/user_install.html\n",
      "  from .autonotebook import tqdm as notebook_tqdm\n",
      "2023-09-20 17:03:38.435823: I tensorflow/core/platform/cpu_feature_guard.cc:182] This TensorFlow binary is optimized to use available CPU instructions in performance-critical operations.\n",
      "To enable the following instructions: AVX2 FMA, in other operations, rebuild TensorFlow with the appropriate compiler flags.\n"
     ]
    },
    {
     "data": {
      "text/html": [
       "\n",
       "        <iframe\n",
       "            width=\"100%\"\n",
       "            height=\"400px\"\n",
       "            src=\"http://localhost:60721/__frontend/weave_jupyter?fullScreen&expNode=%7B%22nodeType%22%3A%20%22output%22%2C%20%22type%22%3A%20%22any%22%2C%20%22fromOp%22%3A%20%7B%22name%22%3A%20%22get%22%2C%20%22inputs%22%3A%20%7B%22uri%22%3A%20%7B%22nodeType%22%3A%20%22const%22%2C%20%22type%22%3A%20%22string%22%2C%20%22val%22%3A%20%22local-artifact%3A///dashboard-tagged%3Alatest/obj%22%7D%7D%7D%7D\"\n",
       "            frameborder=\"0\"\n",
       "            allowfullscreen\n",
       "            allow=\"clipboard-write\"\n",
       "        ></iframe>\n",
       "        "
      ],
      "text/plain": [
       "<IPython.lib.display.IFrame at 0x175f4dc10>"
      ]
     },
     "metadata": {},
     "output_type": "display_data"
    }
   ],
   "source": [
    "# You can change the PanelType in the UI to Trace, to see a trace of the execution above.\n",
    "mon.rows()"
   ]
  },
  {
   "cell_type": "code",
   "execution_count": null,
   "id": "2ab1d9c9-9f12-4264-b378-4bc9d4a96232",
   "metadata": {},
   "outputs": [],
   "source": []
  }
 ],
 "metadata": {
  "kernelspec": {
   "display_name": "Python 3 (ipykernel)",
   "language": "python",
   "name": "python3"
  },
  "language_info": {
   "codemirror_mode": {
    "name": "ipython",
    "version": 3
   },
   "file_extension": ".py",
   "mimetype": "text/x-python",
   "name": "python",
   "nbconvert_exporter": "python",
   "pygments_lexer": "ipython3",
   "version": "3.9.7"
  }
 },
 "nbformat": 4,
 "nbformat_minor": 5
}
