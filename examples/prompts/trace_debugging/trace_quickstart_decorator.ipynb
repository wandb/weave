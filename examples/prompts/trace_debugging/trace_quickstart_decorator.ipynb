{
 "cells": [
  {
   "cell_type": "code",
   "execution_count": null,
   "id": "97466608-1670-4f36-a9b0-a75ec089f7dc",
   "metadata": {},
   "outputs": [],
   "source": [
    "import wandb\n",
    "wandb.login()"
   ]
  },
  {
   "cell_type": "code",
   "execution_count": null,
   "id": "a36c6f7d",
   "metadata": {},
   "outputs": [],
   "source": [
    "import weave\n",
    "import time\n",
    "from weave.monitoring import init_monitor"
   ]
  },
  {
   "cell_type": "code",
   "execution_count": null,
   "id": "7f0e78c1",
   "metadata": {},
   "outputs": [],
   "source": [
    "WB_ENTITY = \"timssweeney\"\n",
    "WB_PROJECT = \"trace_quickstart\"\n",
    "WB_STREAM = \"decorator_stream\"\n",
    "\n",
    "mon = init_monitor(f\"{WB_ENTITY}/{WB_PROJECT}/{WB_STREAM}\")\n",
    "\n",
    "# Wrap a function to make it auto-log\n",
    "@mon.trace()\n",
    "def adder(a, b):\n",
    "    time.sleep(0.2)\n",
    "    return a + b\n",
    "\n",
    "@mon.trace()\n",
    "def buggy_fn(a, b):\n",
    "    time.sleep(0.2)\n",
    "    raise Exception(\"Example exception\")\n",
    "    return a * b\n",
    "\n",
    "# you can create manual spans with the mon.span context manager\n",
    "with mon.span('a_span') as s:\n",
    "    time.sleep(0.5)\n",
    "    # you can add attributes to all child spans with the mon.attributes context manager\n",
    "    with mon.attributes({'a': 5, 'b': 6}):\n",
    "        # spans can be nested\n",
    "        with mon.span('b_span') as b:\n",
    "            time.sleep(0.5)\n",
    "            # call the traced function to generate a span for it\n",
    "            # we add an argument \"monitor_attributes\" which allows you pass in additional\n",
    "            # attributes to be logged\n",
    "            result = adder(1, 2, monitor_attributes={'j': 15})\n",
    "            buggy_fn(result, 2)\n",
    "        time.sleep(0.05)"
   ]
  },
  {
   "cell_type": "code",
   "execution_count": null,
   "id": "cba9ede6",
   "metadata": {},
   "outputs": [],
   "source": [
    "# You can change the PanelType in the UI to Trace, to see a trace of the execution above.\n",
    "mon.rows()"
   ]
  }
 ],
 "metadata": {
  "kernelspec": {
   "display_name": "Python 3 (ipykernel)",
   "language": "python",
   "name": "python3"
  },
  "language_info": {
   "codemirror_mode": {
    "name": "ipython",
    "version": 3
   },
   "file_extension": ".py",
   "mimetype": "text/x-python",
   "name": "python",
   "nbconvert_exporter": "python",
   "pygments_lexer": "ipython3",
   "version": "3.10.8"
  }
 },
 "nbformat": 4,
 "nbformat_minor": 5
}
