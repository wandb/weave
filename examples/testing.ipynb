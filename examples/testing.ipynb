{
 "cells": [
  {
   "cell_type": "code",
   "execution_count": null,
   "metadata": {},
   "outputs": [],
   "source": [
    "%load_ext autoreload\n",
    "%autoreload 2\n"
   ]
  },
  {
   "cell_type": "code",
   "execution_count": null,
   "metadata": {},
   "outputs": [],
   "source": [
    "import openai\n",
    "import weave\n",
    "\n",
    "weave.monitoring2.openai.patch()\n"
   ]
  },
  {
   "cell_type": "code",
   "execution_count": null,
   "metadata": {},
   "outputs": [],
   "source": [
    "# client = openai.OpenAI()\n",
    "# client = openai.AsyncOpenAI()\n",
    "client = openai\n"
   ]
  },
  {
   "cell_type": "code",
   "execution_count": null,
   "metadata": {},
   "outputs": [],
   "source": [
    "msg = 'you are a helpful assistant.'\n",
    "base_msg = [{\"role\": \"system\", \"content\": msg}]\n",
    "# client = openai.AsyncOpenAI()\n",
    "\n",
    "base_result = client.chat.completions.create(\n",
    "    model=\"gpt-3.5-turbo\",\n",
    "    messages=[{\"role\": \"system\", \"content\": msg}],\n",
    "    stream=True,\n",
    ")\n",
    "\n"
   ]
  },
  {
   "cell_type": "code",
   "execution_count": null,
   "metadata": {},
   "outputs": [],
   "source": [
    "result = base_result\n",
    "type(result)\n"
   ]
  },
  {
   "cell_type": "code",
   "execution_count": null,
   "metadata": {},
   "outputs": [],
   "source": [
    "for x in result:\n",
    "    ...\n"
   ]
  },
  {
   "cell_type": "code",
   "execution_count": null,
   "metadata": {},
   "outputs": [],
   "source": [
    "raise\n"
   ]
  },
  {
   "cell_type": "code",
   "execution_count": null,
   "metadata": {},
   "outputs": [],
   "source": [
    "r = list(stream_result)\n"
   ]
  },
  {
   "cell_type": "code",
   "execution_count": null,
   "metadata": {},
   "outputs": [],
   "source": [
    "for result in r:\n",
    "    print(result)\n"
   ]
  },
  {
   "cell_type": "code",
   "execution_count": null,
   "metadata": {},
   "outputs": [],
   "source": [
    "raise\n"
   ]
  },
  {
   "cell_type": "code",
   "execution_count": null,
   "metadata": {},
   "outputs": [],
   "source": [
    "openai.resources.chat.completions.Completions.create\n"
   ]
  },
  {
   "cell_type": "code",
   "execution_count": null,
   "metadata": {},
   "outputs": [],
   "source": [
    "openai.OpenAI().chat.completions.create\n"
   ]
  },
  {
   "cell_type": "markdown",
   "metadata": {},
   "source": []
  },
  {
   "cell_type": "code",
   "execution_count": null,
   "metadata": {},
   "outputs": [],
   "source": [
    "r = list(stream_result)\n"
   ]
  },
  {
   "cell_type": "code",
   "execution_count": null,
   "metadata": {},
   "outputs": [],
   "source": [
    "cmpl = oai.reconstruct_completion(r)\n"
   ]
  },
  {
   "cell_type": "code",
   "execution_count": null,
   "metadata": {},
   "outputs": [],
   "source": [
    "m = cmpl.choices[0].message\n"
   ]
  },
  {
   "cell_type": "code",
   "execution_count": null,
   "metadata": {},
   "outputs": [],
   "source": [
    "oai.\n"
   ]
  },
  {
   "cell_type": "code",
   "execution_count": null,
   "metadata": {},
   "outputs": [],
   "source": [
    "raise\n"
   ]
  },
  {
   "cell_type": "code",
   "execution_count": null,
   "metadata": {},
   "outputs": [],
   "source": []
  },
  {
   "cell_type": "code",
   "execution_count": null,
   "metadata": {},
   "outputs": [],
   "source": []
  },
  {
   "cell_type": "code",
   "execution_count": null,
   "metadata": {},
   "outputs": [],
   "source": []
  },
  {
   "cell_type": "code",
   "execution_count": null,
   "metadata": {},
   "outputs": [],
   "source": []
  },
  {
   "cell_type": "code",
   "execution_count": null,
   "metadata": {},
   "outputs": [],
   "source": []
  },
  {
   "cell_type": "code",
   "execution_count": null,
   "metadata": {},
   "outputs": [],
   "source": []
  },
  {
   "cell_type": "code",
   "execution_count": null,
   "metadata": {},
   "outputs": [],
   "source": []
  },
  {
   "cell_type": "code",
   "execution_count": null,
   "metadata": {},
   "outputs": [],
   "source": [
    "Choice??\n"
   ]
  },
  {
   "cell_type": "code",
   "execution_count": null,
   "metadata": {},
   "outputs": [],
   "source": [
    "import openai\n",
    "\n",
    "openai.types.chat.chat_completion.Choice??\n"
   ]
  },
  {
   "cell_type": "code",
   "execution_count": null,
   "metadata": {},
   "outputs": [],
   "source": [
    "base_result.choices\n"
   ]
  },
  {
   "cell_type": "code",
   "execution_count": null,
   "metadata": {},
   "outputs": [],
   "source": [
    "stream_result_list = list(stream_result)\n"
   ]
  },
  {
   "cell_type": "code",
   "execution_count": null,
   "metadata": {},
   "outputs": [],
   "source": [
    "stream_result_list\n"
   ]
  },
  {
   "cell_type": "code",
   "execution_count": null,
   "metadata": {},
   "outputs": [],
   "source": [
    "from openai.types.chat import *\n",
    "from openai.types.chat.chat_completion_chunk import *\n",
    "from typing import *\n",
    "from pydantic import BaseModel\n",
    "\n",
    "class DeltaCollector(BaseModel):\n",
    "    id: str\n",
    "    choices: List[Choice]\n",
    "    \n",
    "\n",
    "# def chunks_to_choices(chunks: List[ChatCompletionChunk]) -> Dict[int, Choice]:\n",
    "chunks = stream_result_list\n",
    "\n",
    "if not chunks:\n",
    "    # return {}\n",
    "    pass\n",
    "\n",
    "index_deltas: Dict[int, List[ChoiceDelta]] = {}\n",
    "for chunk in chunks:\n",
    "    for choice in chunk.choices:\n",
    "        if (i := choice.index) not in index_deltas:\n",
    "            index_deltas[i] = [choice.delta]\n",
    "        else:\n",
    "            index_deltas[i].append(choice.delta)\n",
    "\n",
    "# index_messages: Dict[int, Choice] = {}\n",
    "choices: List[Choice] = []\n",
    "for i, deltas in index_deltas.items():\n",
    "    for delta in deltas:\n",
    "        role = delta.role\n",
    "        content = delta.content\n",
    "        if role:\n",
    "            message = ChatCompletionMessage(role=role, content=content)\n",
    "        elif content is None:\n",
    "            ...\n",
    "        elif content:\n",
    "            message.content += content\n",
    "    # choice = Choice()\n",
    "\n",
    "chunks\n",
    "        \n",
    "#     index_messages[i] = message\n",
    "\n",
    "# choices: List[Choice]\n",
    "# for i, message in index_messages.items():\n",
    "#     choice = Choice()\n",
    "\n",
    "\n",
    "# def merge(chunks: List[ChatCompletionChunk]) -> ChatCompletion:\n",
    "#     return chunks\n",
    "\n",
    "# merge(stream_result_list)\n"
   ]
  },
  {
   "cell_type": "code",
   "execution_count": null,
   "metadata": {},
   "outputs": [],
   "source": [
    "from openai.types.chat.chat_completion import Choice as ChatCompletionChoice\n",
    "from openai.types.chat.chat_completion_chunk import Choice as ChatCompletionChunkChoice\n",
    "from openai.types.completion_usage import CompletionUsage\n",
    "from pydantic import BaseModel\n",
    "import tiktoken\n",
    "\n"
   ]
  },
  {
   "cell_type": "code",
   "execution_count": null,
   "metadata": {},
   "outputs": [],
   "source": [
    "openai.types.completion_create_params.CompletionCreateParamsBase\n"
   ]
  },
  {
   "cell_type": "code",
   "execution_count": null,
   "metadata": {},
   "outputs": [],
   "source": [
    "from openai.types import CompletionUsage\n"
   ]
  },
  {
   "cell_type": "code",
   "execution_count": null,
   "metadata": {},
   "outputs": [],
   "source": [
    "from openai.types import *\n"
   ]
  },
  {
   "cell_type": "code",
   "execution_count": null,
   "metadata": {},
   "outputs": [],
   "source": [
    "chat_completion.\n"
   ]
  },
  {
   "cell_type": "code",
   "execution_count": null,
   "metadata": {},
   "outputs": [],
   "source": [
    "ChatCompletionRequest\n"
   ]
  },
  {
   "cell_type": "code",
   "execution_count": null,
   "metadata": {},
   "outputs": [],
   "source": [
    "combine_choices(chunks)\n"
   ]
  },
  {
   "cell_type": "code",
   "execution_count": null,
   "metadata": {},
   "outputs": [],
   "source": []
  },
  {
   "cell_type": "code",
   "execution_count": null,
   "metadata": {},
   "outputs": [],
   "source": [
    "ChatCompletionMessage??\n"
   ]
  },
  {
   "cell_type": "code",
   "execution_count": null,
   "metadata": {},
   "outputs": [],
   "source": []
  },
  {
   "cell_type": "code",
   "execution_count": null,
   "metadata": {},
   "outputs": [],
   "source": [
    "index_messages\n"
   ]
  },
  {
   "cell_type": "code",
   "execution_count": null,
   "metadata": {},
   "outputs": [],
   "source": [
    "base_result\n"
   ]
  },
  {
   "cell_type": "code",
   "execution_count": null,
   "metadata": {},
   "outputs": [],
   "source": [
    "delta.role\n"
   ]
  },
  {
   "cell_type": "code",
   "execution_count": null,
   "metadata": {},
   "outputs": [],
   "source": []
  },
  {
   "cell_type": "code",
   "execution_count": null,
   "metadata": {},
   "outputs": [],
   "source": [
    "for result in result:\n",
    "    break\n"
   ]
  },
  {
   "cell_type": "code",
   "execution_count": null,
   "metadata": {},
   "outputs": [],
   "source": [
    "type(result.choices[0].delta)\n"
   ]
  },
  {
   "cell_type": "code",
   "execution_count": null,
   "metadata": {},
   "outputs": [],
   "source": [
    "result\n"
   ]
  },
  {
   "cell_type": "code",
   "execution_count": null,
   "metadata": {},
   "outputs": [],
   "source": [
    "result.choices[0]\n"
   ]
  },
  {
   "cell_type": "code",
   "execution_count": null,
   "metadata": {},
   "outputs": [],
   "source": [
    "type(result.choices[0].message)\n"
   ]
  },
  {
   "cell_type": "code",
   "execution_count": null,
   "metadata": {},
   "outputs": [],
   "source": [
    "raise\n"
   ]
  },
  {
   "cell_type": "code",
   "execution_count": null,
   "metadata": {},
   "outputs": [],
   "source": [
    "# thing = openai.ChatCompletion.create(\n",
    "#     model=\"gpt-3.5-turbo\",\n",
    "#     messages=[{\"role\": \"system\", \"content\": \"You are a helpful assistant.\"}],\n",
    "#     stream=False,\n",
    "# )\n"
   ]
  },
  {
   "cell_type": "code",
   "execution_count": null,
   "metadata": {},
   "outputs": [],
   "source": [
    "# from weave.monitoring_new.oai import *\n",
    "\n",
    "from openai import OpenAI\n",
    "client = OpenAI()\n",
    "\n",
    "thing = client.chat.completions.create(\n",
    "    model=\"gpt-3.5-turbo\",\n",
    "    messages=[{\"role\": \"system\", \"content\": \"You are a helpful assistant.\"}],\n",
    "    stream=False,\n",
    ")\n",
    "\n",
    "thing\n",
    "\n",
    "# stream = await thing\n",
    "\n",
    "# async for x in stream:\n",
    "#     print(thing)\n",
    "# # for t in thing:\n",
    "# #     # print(t)\n",
    "# #     pass\n"
   ]
  },
  {
   "cell_type": "code",
   "execution_count": null,
   "metadata": {},
   "outputs": [],
   "source": []
  },
  {
   "cell_type": "code",
   "execution_count": null,
   "metadata": {},
   "outputs": [],
   "source": [
    "raise\n"
   ]
  },
  {
   "cell_type": "code",
   "execution_count": null,
   "metadata": {},
   "outputs": [],
   "source": [
    "from pydantic import BaseModel, Extra\n",
    "\n",
    "class RequestModel(BaseModel):\n",
    "    # Define your known fields here\n",
    "    a: int\n",
    "    b: int\n",
    "\n",
    "    # Allow any extra fields\n",
    "    class Config:\n",
    "        extra = Extra.allow\n"
   ]
  },
  {
   "cell_type": "code",
   "execution_count": null,
   "metadata": {},
   "outputs": [],
   "source": [
    "RequestModel(a=1,b=2,c='asd')\n"
   ]
  },
  {
   "cell_type": "code",
   "execution_count": null,
   "metadata": {},
   "outputs": [],
   "source": [
    "\n",
    "ChatCompletionRequest.model_validate()\n"
   ]
  },
  {
   "cell_type": "code",
   "execution_count": null,
   "metadata": {},
   "outputs": [],
   "source": [
    "match_signature(openai.ChatCompletion.create, model='gpt-3.5-turbo')\n"
   ]
  },
  {
   "cell_type": "code",
   "execution_count": null,
   "metadata": {},
   "outputs": [],
   "source": [
    "raise\n"
   ]
  },
  {
   "cell_type": "code",
   "execution_count": null,
   "metadata": {},
   "outputs": [],
   "source": [
    "import inspect\n",
    "\n",
    "sig = inspect.signature(openai.ChatCompletion.create)\n",
    "kwargs = dict(    model=\"gpt-3.5-turbo\",\n",
    "    messages=[{\"role\": \"system\", \"content\": \"You are a helpful assistant.\"}],\n",
    "    stream=True)\n",
    "args = ['test']\n",
    "bound_params = sig.bind(*args, **kwargs)\n"
   ]
  },
  {
   "cell_type": "code",
   "execution_count": null,
   "metadata": {},
   "outputs": [],
   "source": [
    "\n",
    "raise\n"
   ]
  },
  {
   "cell_type": "code",
   "execution_count": null,
   "metadata": {},
   "outputs": [],
   "source": [
    "bound_params.apply_defaults()\n",
    "bound_params.arguments\n"
   ]
  },
  {
   "cell_type": "code",
   "execution_count": null,
   "metadata": {},
   "outputs": [],
   "source": [
    "from pydantic import BaseModel\n",
    "from typing import Any\n",
    "\n",
    "class AcceptsArgsModel(BaseModel):\n",
    "    class Config:\n",
    "        arbitrary_types_allowed = True\n",
    "    first_arg: Any\n",
    "    second_arg: Any\n",
    "\n",
    "    def __init__(self, *args, **kwargs):\n",
    "        super().__init__(*args, **kwargs)\n"
   ]
  },
  {
   "cell_type": "code",
   "execution_count": null,
   "metadata": {},
   "outputs": [],
   "source": [
    "class Thing(AcceptsArgsModel):\n",
    "    x: int\n",
    "    y: int\n"
   ]
  },
  {
   "cell_type": "code",
   "execution_count": null,
   "metadata": {},
   "outputs": [],
   "source": [
    "thing = Thing(1,2)\n"
   ]
  },
  {
   "cell_type": "code",
   "execution_count": null,
   "metadata": {},
   "outputs": [],
   "source": [
    "import tiktoken\n",
    "\n",
    "r = oai.ChatCompletionRequest.model_validate(kwargs)\n",
    "encoding = tiktoken.encoding_for_model(r.model)\n",
    "resp = oai.ChatCompletion.model_validate(thing)\n"
   ]
  },
  {
   "cell_type": "code",
   "execution_count": null,
   "metadata": {},
   "outputs": [],
   "source": [
    "things\n"
   ]
  },
  {
   "cell_type": "code",
   "execution_count": null,
   "metadata": {},
   "outputs": [],
   "source": [
    "encoding.encode(...)\n"
   ]
  },
  {
   "cell_type": "code",
   "execution_count": null,
   "metadata": {},
   "outputs": [],
   "source": []
  },
  {
   "cell_type": "code",
   "execution_count": null,
   "metadata": {},
   "outputs": [],
   "source": [
    "raise\n"
   ]
  },
  {
   "cell_type": "code",
   "execution_count": null,
   "metadata": {},
   "outputs": [],
   "source": [
    "weave.monitoring_new.oai.unpatch()\n"
   ]
  },
  {
   "cell_type": "code",
   "execution_count": null,
   "metadata": {},
   "outputs": [],
   "source": [
    "import openai\n",
    "thing = openai.ChatCompletion.create(\n",
    "    model=\"gpt-3.5-turbo\",\n",
    "    messages=[{\"role\": \"system\", \"content\": \"You are a helpful assistant.\"}],\n",
    "    stream=False,\n",
    ")\n"
   ]
  },
  {
   "cell_type": "code",
   "execution_count": null,
   "metadata": {},
   "outputs": [],
   "source": [
    "raise\n"
   ]
  },
  {
   "cell_type": "code",
   "execution_count": null,
   "metadata": {},
   "outputs": [],
   "source": [
    "for result in thing:\n",
    "    pass\n"
   ]
  },
  {
   "cell_type": "code",
   "execution_count": null,
   "metadata": {},
   "outputs": [],
   "source": [
    "raise\n"
   ]
  },
  {
   "cell_type": "code",
   "execution_count": null,
   "metadata": {},
   "outputs": [],
   "source": [
    "m = weave.monitoring_new.oai.ChatCompletion.model_validate(thing)\n",
    "type(m)\n"
   ]
  },
  {
   "cell_type": "code",
   "execution_count": null,
   "metadata": {},
   "outputs": [],
   "source": [
    "m.choices[0].finish_reason\n"
   ]
  },
  {
   "cell_type": "code",
   "execution_count": null,
   "metadata": {},
   "outputs": [],
   "source": [
    "raise\n"
   ]
  },
  {
   "cell_type": "code",
   "execution_count": null,
   "metadata": {},
   "outputs": [],
   "source": [
    "base_create = openai.ChatCompletion.create\n",
    "base_acreate = openai.ChatCompletion.acreate\n"
   ]
  },
  {
   "cell_type": "code",
   "execution_count": null,
   "metadata": {},
   "outputs": [],
   "source": [
    "# response = openai.ChatCompletion.create(model=\"gpt-4\", messages=[{\"role\": \"system\", \"content\": \"You are a helpful assistant.\"},])\n",
    "# response = openai.Completion.create(model=\"gpt-3.5-turbo-instruct\", )\n"
   ]
  },
  {
   "cell_type": "code",
   "execution_count": null,
   "metadata": {},
   "outputs": [],
   "source": [
    "def process_chunk(chunk):\n",
    "    print(\"preprocessed chunk\", chunk)\n",
    "\n",
    "def process_result(result):\n",
    "    print(\"preprocessed result\", result)\n",
    "\n",
    "def _create_streaming(*args, **kwargs):\n",
    "    stream = base_create(*args, **kwargs)\n",
    "    for chunk in stream:\n",
    "        yield chunk\n",
    "        process_chunk(chunk)\n",
    "\n",
    "def _create(*args, **kwargs):\n",
    "    result = base_create(*args, **kwargs)\n",
    "    process_result(result)\n",
    "    return result\n",
    "\n",
    "def create(*args, **kwargs):\n",
    "    if kwargs.get(\"stream\", False):\n",
    "        return _create_streaming(*args, **kwargs)\n",
    "    else:\n",
    "        return _create(*args, **kwargs)\n",
    "\n",
    "#\n",
    "\n",
    "async def aprocess_chunk(chunk):\n",
    "    print(\"preprocessed chunk\", chunk)\n",
    "\n",
    "async def aprocess_result(result):\n",
    "    print(\"preprocessed result\", result)\n",
    "\n",
    "async def _acreate_streaming(*args, **kwargs):\n",
    "    stream = base_acreate(*args, **kwargs)\n",
    "    async for chunk in stream:\n",
    "        yield chunk\n",
    "        await aprocess_chunk(chunk)  # can write to streamtable be async?\n",
    "\n",
    "async def _acreate(*args, **kwargs):\n",
    "    result = await base_acreate(*args, **kwargs)\n",
    "    await aprocess_result(result)\n",
    "    return result\n",
    "\n",
    "async def acreate(*args, **kwargs):\n",
    "    if kwargs.get(\"stream\", False):\n",
    "        return _acreate_streaming(*args, **kwargs)\n",
    "    else:\n",
    "        return await _acreate(*args, **kwargs)\n"
   ]
  },
  {
   "cell_type": "code",
   "execution_count": null,
   "metadata": {},
   "outputs": [],
   "source": [
    "thing = base_acreate(\n",
    "    model=\"gpt-3.5-turbo\",\n",
    "    messages=[{\"role\": \"system\", \"content\": \"You are a helpful assistant.\"}],\n",
    "    stream=True\n",
    ")\n",
    "await thing\n"
   ]
  },
  {
   "cell_type": "code",
   "execution_count": null,
   "metadata": {},
   "outputs": [],
   "source": [
    "await result\n"
   ]
  },
  {
   "cell_type": "code",
   "execution_count": null,
   "metadata": {},
   "outputs": [],
   "source": []
  },
  {
   "cell_type": "code",
   "execution_count": null,
   "metadata": {},
   "outputs": [],
   "source": [
    "thing = base_create(model=\"gpt-4\", messages=[{\"role\": \"system\", \"content\": \"You are a helpful assistant.\"}], stream=True)\n",
    "for result in thing:\n",
    "    print(result)\n"
   ]
  },
  {
   "cell_type": "code",
   "execution_count": null,
   "metadata": {},
   "outputs": [],
   "source": [
    "response = openai.ChatCompletion.create(model=\"gpt-3.5-turbo\", messages=[{\"role\": \"system\", \"content\": \"You are a helpful assistant.\"},], stream=True)\n",
    "\n",
    "def process_stream(stream):\n",
    "    for chunk in stream:\n",
    "        print('applying changes')\n",
    "        # print(chunk)\n",
    "\n",
    "\n",
    "# process_stream(response)\n"
   ]
  },
  {
   "cell_type": "code",
   "execution_count": null,
   "metadata": {},
   "outputs": [],
   "source": []
  },
  {
   "cell_type": "code",
   "execution_count": null,
   "metadata": {},
   "outputs": [],
   "source": [
    "for r in response:\n",
    "    break\n"
   ]
  },
  {
   "cell_type": "code",
   "execution_count": null,
   "metadata": {},
   "outputs": [],
   "source": [
    "r\n"
   ]
  },
  {
   "cell_type": "code",
   "execution_count": null,
   "metadata": {},
   "outputs": [],
   "source": [
    "def \n"
   ]
  },
  {
   "cell_type": "code",
   "execution_count": null,
   "metadata": {},
   "outputs": [],
   "source": [
    "list(response)\n"
   ]
  },
  {
   "cell_type": "code",
   "execution_count": null,
   "metadata": {},
   "outputs": [],
   "source": [
    "async def create_chat_completion():\n",
    "    return await openai.ChatCompletion.acreate(model=\"gpt-3.5-turbo\", messages=[{\"role\": \"user\", \"content\": \"Hello world\"}], stream=True)\n"
   ]
  },
  {
   "cell_type": "code",
   "execution_count": null,
   "metadata": {},
   "outputs": [],
   "source": [
    "create_chat_completion()\n"
   ]
  },
  {
   "cell_type": "code",
   "execution_count": null,
   "metadata": {},
   "outputs": [],
   "source": [
    "chunks = list(map(ChatCompletionChunk.model_validate, response))\n"
   ]
  },
  {
   "cell_type": "code",
   "execution_count": null,
   "metadata": {},
   "outputs": [],
   "source": [
    "assemble_completion_from_chunks(chunks)\n"
   ]
  },
  {
   "cell_type": "code",
   "execution_count": null,
   "metadata": {},
   "outputs": [],
   "source": [
    "raise\n"
   ]
  },
  {
   "cell_type": "code",
   "execution_count": null,
   "metadata": {},
   "outputs": [],
   "source": [
    "choices = [c.choices for c in chunks]\n"
   ]
  },
  {
   "cell_type": "code",
   "execution_count": null,
   "metadata": {},
   "outputs": [],
   "source": []
  },
  {
   "cell_type": "code",
   "execution_count": null,
   "metadata": {},
   "outputs": [],
   "source": [
    "chunks\n"
   ]
  },
  {
   "cell_type": "code",
   "execution_count": null,
   "metadata": {},
   "outputs": [],
   "source": [
    "choices[0][0].delta + choices[1][0].delta\n"
   ]
  },
  {
   "cell_type": "code",
   "execution_count": null,
   "metadata": {},
   "outputs": [],
   "source": [
    "raise\n"
   ]
  },
  {
   "cell_type": "code",
   "execution_count": null,
   "metadata": {},
   "outputs": [],
   "source": [
    "from typing import *\n",
    "\n",
    "id = chunks[0].id\n",
    "object = chunks[0].object\n",
    "created = chunks[0].created\n",
    "model = chunks[0].model\n",
    "\n",
    "messages: Dict[int, Dict[str, Union[Message, Usage]]] = {}\n",
    "\n",
    "for chunk in chunks:\n",
    "    for choice in chunk.choices:\n",
    "        i: int = choice.index\n",
    "        role = choice.delta.role\n",
    "        content = choice.delta.content\n",
    "        finish_reason = choice.finish_reason\n",
    "        if i not in messages:\n",
    "            messages[i] = {'message': Message(role=role, content=content), 'usage': Usage(prompt_tokens=0,completion_tokens=0,total_tokens=0)}\n",
    "        if finish_reason is not None:\n",
    "            messages[i]['finish_reason'] = finish_reason\n",
    "        if content is not None:\n",
    "            messages[i]['message'].content += content\n",
    "            messages[i]['usage'].completion_tokens += len(content)\n",
    "\n",
    "choices = [Choice(index=i, message=d['message'], finish_reason=d['finish_reason']) for i, d in messages.items()]\n"
   ]
  },
  {
   "cell_type": "code",
   "execution_count": null,
   "metadata": {},
   "outputs": [],
   "source": [
    "completion = assemble_completion_from_chunks(chunks)\n"
   ]
  },
  {
   "cell_type": "code",
   "execution_count": null,
   "metadata": {},
   "outputs": [],
   "source": [
    "completion\n"
   ]
  },
  {
   "cell_type": "code",
   "execution_count": null,
   "metadata": {},
   "outputs": [],
   "source": [
    "raise\n"
   ]
  },
  {
   "cell_type": "code",
   "execution_count": null,
   "metadata": {},
   "outputs": [],
   "source": [
    "from copy import deepcopy\n"
   ]
  },
  {
   "cell_type": "code",
   "execution_count": null,
   "metadata": {},
   "outputs": [],
   "source": [
    "merged_choices = []\n",
    "\n",
    "for chunk in chunks:\n",
    "    choice = chunk.choices[0]\n",
    "    choice2 = deepcopy(choice)\n",
    "    choice2.index = 1\n",
    "    chunk.choices = [choice, choice2]\n"
   ]
  },
  {
   "cell_type": "code",
   "execution_count": null,
   "metadata": {},
   "outputs": [],
   "source": [
    "def assemble_completion_from_chunks(chunks):\n",
    "    id = chunks[0].id\n",
    "    object = chunks[0].object\n",
    "    created = chunks[0].created\n",
    "    model = chunks[0].model\n",
    "\n",
    "    merged_choices = []\n",
    "    messages: Dict[int, Dict[str, Union[Message, Usage]]] = {}\n",
    "\n",
    "    for chunk in chunks:\n",
    "        for choice in chunk.choices:\n",
    "            i: int = choice.index\n",
    "            role = choice.delta.role\n",
    "            content = choice.delta.content\n",
    "            finish_reason = choice.finish_reason\n",
    "            if i not in messages:\n",
    "                messages[i] = {'message': Message(role=role, content=content), 'usage': Usage(prompt_tokens=0,completion_tokens=0,total_tokens=0)}\n",
    "            if finish_reason is not None:\n",
    "                messages[i]['finish_reason'] = finish_reason\n",
    "            if content is not None:\n",
    "                messages[i]['message'].content += content\n",
    "                messages[i]['usage'].completion_tokens += len(content)\n",
    "\n",
    "    choices = [Choice(index=i, message=d['message'], finish_reason=d['finish_reason']) for i, d in messages.items()]\n",
    "    return ChatCompletion(id=id, object=object, created=created, model=model, choices=choices, usage=usage)\n"
   ]
  },
  {
   "cell_type": "code",
   "execution_count": null,
   "metadata": {},
   "outputs": [],
   "source": [
    "assembled_completion\n"
   ]
  },
  {
   "cell_type": "code",
   "execution_count": null,
   "metadata": {},
   "outputs": [],
   "source": [
    "messages\n"
   ]
  },
  {
   "cell_type": "code",
   "execution_count": null,
   "metadata": {},
   "outputs": [],
   "source": []
  },
  {
   "cell_type": "code",
   "execution_count": null,
   "metadata": {},
   "outputs": [],
   "source": []
  },
  {
   "cell_type": "code",
   "execution_count": null,
   "metadata": {},
   "outputs": [],
   "source": [
    "ChatCompletion()\n"
   ]
  },
  {
   "cell_type": "code",
   "execution_count": null,
   "metadata": {},
   "outputs": [],
   "source": []
  },
  {
   "cell_type": "code",
   "execution_count": null,
   "metadata": {},
   "outputs": [],
   "source": [
    "def unify_chunks(chunks: List[ChatCompletionChunk]) -> ChatCompletion:\n",
    "    if not chunks:\n",
    "        raise ValueError(\"No chunks provided to unify.\")\n",
    "    \n",
    "    common_id = chunks[0].id\n",
    "    common_object = chunks[0].object\n",
    "    common_created = chunks[0].created\n",
    "    common_model = chunks[0].model\n",
    "\n",
    "    messages = []\n",
    "    total_tokens = 0\n",
    "    index = 0\n",
    "\n",
    "    for chunk in chunks:\n",
    "        for choice in chunk.choices:\n",
    "            delta = choice.delta\n",
    "            if delta.content is not None:\n",
    "                messages.append(delta.content)\n",
    "                total_tokens += len(delta.content.split())\n",
    "\n",
    "            if choice.finish_reason is not None:\n",
    "                # If finish_reason is not None, finalize the current message\n",
    "\n",
    "                print(delta.role)\n",
    "                print(messages)\n",
    "                aggregated_choice = Choice(\n",
    "                    index=index,\n",
    "                    message=Message(role=delta.role, content=''.join(messages)),\n",
    "                    finish_reason=choice.finish_reason\n",
    "                )\n",
    "                index += 1\n",
    "                messages = []  # Reset messages for the next choice if any\n",
    "\n",
    "    # Create the final Usage object\n",
    "    usage = Usage(\n",
    "        prompt_tokens=0,  # Assuming 0 for prompt_tokens for simplicity\n",
    "        completion_tokens=total_tokens,\n",
    "        total_tokens=total_tokens  # Only completion_tokens are counted here\n",
    "    )\n",
    "\n",
    "    # Create and return the final ChatCompletion object\n",
    "    return ChatCompletion(\n",
    "        id=common_id,\n",
    "        object=common_object,\n",
    "        created=common_created,\n",
    "        model=common_model,\n",
    "        choices=[aggregated_choice],  # Assuming there's only one choice to return\n",
    "        usage=usage\n",
    "    )\n"
   ]
  },
  {
   "cell_type": "code",
   "execution_count": null,
   "metadata": {},
   "outputs": [],
   "source": [
    "unify_chunks(responses)\n"
   ]
  },
  {
   "cell_type": "code",
   "execution_count": null,
   "metadata": {},
   "outputs": [],
   "source": []
  }
 ],
 "metadata": {
  "kernelspec": {
   "display_name": "py310",
   "language": "python",
   "name": "python3"
  },
  "language_info": {
   "codemirror_mode": {
    "name": "ipython",
    "version": 3
   },
   "file_extension": ".py",
   "mimetype": "text/x-python",
   "name": "python",
   "nbconvert_exporter": "python",
   "pygments_lexer": "ipython3",
   "version": "3.10.11"
  }
 },
 "nbformat": 4,
 "nbformat_minor": 2
}
