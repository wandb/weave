{
 "cells": [
  {
   "cell_type": "markdown",
   "id": "30ccfdbc",
   "metadata": {},
   "source": [
    "# OpenAI LLM Monitoring\n",
    "\n",
    "This notebook shows how to use the W&B OpenAI integration to monitor API calls and understand how your projects and teams are leveraging LLMs.\n",
    "\n",
    "TODO:\n",
    "\n",
    "- correct openai authentication\n",
    "- remove devmode + try without it\n",
    "- when board link first shows up, there is just an empty True brick - no data there if I click it after the first two log calls.\n",
    "\n",
    "# Step 0: Setup\n",
    "\n",
    "* authenticate with OpenAI\n",
    "* login to W&B so you can save and share your work\n",
    "* install dependencies"
   ]
  },
  {
   "cell_type": "code",
   "execution_count": null,
   "id": "7f1f177b-60f6-421f-b46b-66596bea720f",
   "metadata": {},
   "outputs": [],
   "source": [
    "OPENAI_API_KEY = \"sk-\""
   ]
  },
  {
   "cell_type": "code",
   "execution_count": null,
   "id": "dd2822d2-5b03-48a0-8c77-105383caf96b",
   "metadata": {},
   "outputs": [],
   "source": [
    "import openai as openai_access; openai_access.api_key=OPENAI_API_KEY"
   ]
  },
  {
   "cell_type": "code",
   "execution_count": null,
   "id": "d0d21f68-7945-4a10-bb78-a921809790ee",
   "metadata": {},
   "outputs": [],
   "source": [
    "import wandb\n",
    "wandb.login()"
   ]
  },
  {
   "cell_type": "code",
   "execution_count": null,
   "id": "8107732a-fb90-45f8-8377-6381bd28475d",
   "metadata": {},
   "outputs": [],
   "source": [
    "import weave\n",
    "weave.use_frontend_devmode()\n",
    "from weave.monitoring import openai, init_monitor"
   ]
  },
  {
   "cell_type": "markdown",
   "id": "32e91f9c-0640-4346-8c4a-e5f35256afe6",
   "metadata": {},
   "source": [
    "# Step 1: Configure logging"
   ]
  },
  {
   "cell_type": "code",
   "execution_count": null,
   "id": "2a75400a-0614-4af5-9945-48fa1cd93934",
   "metadata": {},
   "outputs": [],
   "source": [
    "STREAM_TABLE_NAME = \"test72\"\n",
    "WB_PROJECT = \"myth\"\n",
    "WB_ENTITY = \"stacey\""
   ]
  },
  {
   "cell_type": "code",
   "execution_count": null,
   "id": "89c6e2af-ab8d-4041-a5ce-de6f645c3fe7",
   "metadata": {},
   "outputs": [],
   "source": [
    "OPENAI_MODEL = 'gpt-3.5-turbo'"
   ]
  },
  {
   "cell_type": "code",
   "execution_count": null,
   "id": "ba2b2070",
   "metadata": {},
   "outputs": [],
   "source": [
    "# Pass <wandb_team_or_user>/<wandb_project>/<table_name>\n",
    "m = init_monitor(f\"{WB_ENTITY}/{WB_PROJECT}/{STREAM_TABLE_NAME}\")\n",
    "\n",
    "# Do an initial request, otherwise we don't have a type on which to recommend the OpenAI board!\n",
    "# We need at least 2 requests for the Board to work, otherwise we get divide by zero errors.\n",
    "# TODO: fix this onboarding issue\n",
    "r = openai.ChatCompletion.create(model=OPENAI_MODEL, messages=[{\"role\": \"user\", \"content\": f\"hello world!\"}])\n",
    "r = openai.ChatCompletion.create(model=OPENAI_MODEL, messages=[{\"role\": \"user\", \"content\": f\"what is 2+2?\"}])"
   ]
  },
  {
   "cell_type": "markdown",
   "id": "fb51abb4",
   "metadata": {},
   "source": [
    "Click the link above to go to the Weave UI for the table we're logging to.\n",
    "\n",
    "From there you can click \"OpenAI Monitor Board\" to create a Weave Board for this data stream."
   ]
  },
  {
   "cell_type": "code",
   "execution_count": null,
   "id": "e711d521",
   "metadata": {},
   "outputs": [],
   "source": [
    "# Monitor ChatCompletion requests\n",
    "r = openai.ChatCompletion.create(model=OPENAI_MODEL, messages=[\n",
    "        {\"role\": \"user\", \"content\": f\"who won the world series in 2006?\"},\n",
    "    ])\n",
    "r['choices'][0]['message']['content']"
   ]
  },
  {
   "cell_type": "code",
   "execution_count": null,
   "id": "7930e774",
   "metadata": {},
   "outputs": [],
   "source": [
    "# To keep track of prompts and parameters, add them to attributes on the logged\n",
    "# record.\n",
    "\n",
    "system_prompt = \"you always write in bullet points\"\n",
    "prompt = 'solve the following equation step by step: {equation}'\n",
    "params = {'equation': '4 * (3 - 1)'}\n",
    "openai.ChatCompletion.create(model=OPENAI_MODEL,\n",
    "                             messages=[\n",
    "                                    {\"role\": \"system\", \"content\": system_prompt},\n",
    "                                    {\"role\": \"user\", \"content\": prompt.format(**params)},\n",
    "                                ],\n",
    "                             # you can add additional attributes to the logged record\n",
    "                             # see the monitor_api notebook for more examples\n",
    "                             monitor_attributes={\n",
    "                                 'system_prompt': system_prompt,\n",
    "                                 'prompt': prompt,\n",
    "                                 'params': params\n",
    "                             })"
   ]
  },
  {
   "cell_type": "code",
   "execution_count": null,
   "id": "b8b423df",
   "metadata": {},
   "outputs": [],
   "source": [
    "# Monitor streaming requests\n",
    "# TODO: we don't get token counts here yet.\n",
    "from weave.monitoring.openai import message_from_stream\n",
    "r = openai.ChatCompletion.create(model=OPENAI_MODEL, messages=[\n",
    "        {\"role\": \"system\", \"content\": \"Your are a robot and only speak in robot, like beep bloop bop.\"},\n",
    "        {\"role\": \"user\", \"content\": f\"Tell me a 50 word story.\"},\n",
    "    ], stream=True)\n",
    "for s in message_from_stream(r):\n",
    "    print(s, end='')"
   ]
  },
  {
   "cell_type": "code",
   "execution_count": null,
   "id": "de5c26c3-393d-45a0-84a8-b277c42e4724",
   "metadata": {},
   "outputs": [],
   "source": [
    "import os\n",
    "from getpass import getpass\n",
    "\n",
    "if os.getenv(\"OPENAI_API_KEY\") is None:\n",
    "  os.environ[\"OPENAI_API_KEY\"] = getpass(\"Paste your OpenAI key from: https://platform.openai.com/account/api-keys\\n\")\n",
    "assert os.getenv(\"OPENAI_API_KEY\", \"\").startswith(\"sk-\"), \"This doesn't look like a valid OpenAI API key\"\n",
    "print(\"OpenAI API key configured\")"
   ]
  }
 ],
 "metadata": {
  "kernelspec": {
   "display_name": "Python 3 (ipykernel)",
   "language": "python",
   "name": "python3"
  },
  "language_info": {
   "codemirror_mode": {
    "name": "ipython",
    "version": 3
   },
   "file_extension": ".py",
   "mimetype": "text/x-python",
   "name": "python",
   "nbconvert_exporter": "python",
   "pygments_lexer": "ipython3",
   "version": "3.9.7"
  }
 },
 "nbformat": 4,
 "nbformat_minor": 5
}
