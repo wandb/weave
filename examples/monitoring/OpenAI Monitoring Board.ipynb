{
 "cells": [
  {
   "cell_type": "markdown",
   "id": "4549831c",
   "metadata": {},
   "source": [
    "This board showcases what the default LLM monitoring template looks like. It logs synthetic data in the format used by the monitoring.openai integration."
   ]
  },
  {
   "cell_type": "code",
   "execution_count": null,
   "id": "00647082",
   "metadata": {},
   "outputs": [],
   "source": [
    "import uuid\n",
    "from datetime import timedelta\n",
    "import weave\n",
    "weave.use_frontend_devmode()\n",
    "from weave import ops_arrow\n",
    "from weave.monitoring import monitor"
   ]
  },
  {
   "cell_type": "code",
   "execution_count": null,
   "id": "93041e2e",
   "metadata": {},
   "outputs": [],
   "source": [
    "from weave.syndata_mon import random_predictions"
   ]
  },
  {
   "cell_type": "code",
   "execution_count": null,
   "id": "345a1b0a",
   "metadata": {},
   "outputs": [],
   "source": [
    "preds = random_predictions()"
   ]
  },
  {
   "cell_type": "code",
   "execution_count": null,
   "id": "93653c45",
   "metadata": {},
   "outputs": [],
   "source": [
    "# Convert synthetic data into the format used by the weave.monitoring.openai integration\n",
    "\n",
    "spans = []\n",
    "for pred in preds:\n",
    "    span = monitor.Span('openai.api_resources.chat_completion.type.create',\n",
    "                 inputs={\n",
    "                     'messages':[\n",
    "                         {\"role\": \"user\", \"content\": pred['prompt']}\n",
    "                     ]\n",
    "                 },\n",
    "                 output={\n",
    "                     'id': 'chatcmpl-%s' % uuid.uuid4(),\n",
    "                     'object': 'chat.completion',\n",
    "                     'created': pred['timestamp'].timestamp(),\n",
    "                     'model': 'gpt-3.5-turbo-0613',\n",
    "                     'choices': [\n",
    "                         {\n",
    "                             'index': 0,\n",
    "                             'message': {\n",
    "                                 'role': 'assistant',\n",
    "                                 'content': pred['completion']\n",
    "                             },\n",
    "                             'finish_reason': 'stop'\n",
    "                         }\n",
    "                     ],\n",
    "                     'usage': {\n",
    "                         'prompt_tokens': pred['prompt_tokens'],\n",
    "                         'completion_tokens': pred['completion_tokens'],\n",
    "                         'total_tokens': pred['prompt_tokens'] + pred['completion_tokens']\n",
    "                     }\n",
    "                 },\n",
    "                 attributes={\n",
    "                     'api_key': 'sk-U4...yK7z',\n",
    "                     'username': pred['username']\n",
    "                 })\n",
    "    span.start_time = pred['timestamp']\n",
    "    span.end_time = pred['timestamp'] + timedelta(seconds=pred['latency'])\n",
    "    spans.append({'timestamp': pred['timestamp'], **span.asdict()})"
   ]
  },
  {
   "cell_type": "code",
   "execution_count": null,
   "id": "9548c9aa",
   "metadata": {},
   "outputs": [],
   "source": [
    "# Save as a local table\n",
    "oai_data = weave.save(ops_arrow.to_arrow(spans), 'oai_data')"
   ]
  },
  {
   "cell_type": "code",
   "execution_count": null,
   "id": "b59be0b5",
   "metadata": {},
   "outputs": [],
   "source": [
    "oai_data"
   ]
  },
  {
   "cell_type": "code",
   "execution_count": null,
   "id": "f8121474",
   "metadata": {},
   "outputs": [],
   "source": [
    "# Visualize the table\n",
    "from weave import weave_internal\n",
    "weave.use(oai_data['attributes'].keys().flatten().unique().map(lambda k: weave_internal.const('attribute.') + k))"
   ]
  },
  {
   "cell_type": "code",
   "execution_count": null,
   "id": "7045f1eb",
   "metadata": {},
   "outputs": [],
   "source": [
    "# Use the llm monitoring template to visualize the data\n",
    "from weave.panels_py import panel_openai_monitor\n",
    "board = panel_openai_monitor.board.raw_resolve_fn(oai_data)\n",
    "board"
   ]
  }
 ],
 "metadata": {
  "kernelspec": {
   "display_name": "Python 3 (ipykernel)",
   "language": "python",
   "name": "python3"
  },
  "language_info": {
   "codemirror_mode": {
    "name": "ipython",
    "version": 3
   },
   "file_extension": ".py",
   "mimetype": "text/x-python",
   "name": "python",
   "nbconvert_exporter": "python",
   "pygments_lexer": "ipython3",
   "version": "3.9.7"
  }
 },
 "nbformat": 4,
 "nbformat_minor": 5
}
