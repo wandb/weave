{
 "cells": [
  {
   "cell_type": "code",
   "execution_count": null,
   "id": "13a3497f",
   "metadata": {},
   "outputs": [],
   "source": [
    "import pandas\n",
    "import weave\n",
    "weave.use_frontend_devmode()\n",
    "from weave.ecosystem import openai\n",
    "from weave.ecosystem import umap\n",
    "from weave.ecosystem import hdbscan"
   ]
  },
  {
   "cell_type": "code",
   "execution_count": null,
   "id": "e68f6c86",
   "metadata": {},
   "outputs": [],
   "source": [
    "raw_data = pandas.read_csv('/Users/shawn/datasets/wandb_export_2023-06-03T15_01_20.066-07_00.csv')\n",
    "\n",
    "data = weave.save(weave.ops.dataframe_to_arrow(raw_data), 'data')"
   ]
  },
  {
   "cell_type": "code",
   "execution_count": null,
   "id": "e194b3ce",
   "metadata": {},
   "outputs": [],
   "source": [
    "weave.panels.Board(\n",
    "    vars={\n",
    "        'data': data,\n",
    "        'limit': 1005,\n",
    "        'limited_data': lambda data, limit: data.limit(limit),\n",
    "        'embeddings': lambda limited_data: openai.openai_embed(limited_data['question'], {\"model\": \"text-embedding-ada-002\"}),\n",
    "        'clusterable_projection': lambda embeddings: umap.umap_project(\n",
    "            embeddings, {\n",
    "                'n_neighbors': 30,\n",
    "                'min_dist': 0,\n",
    "                'n_components': 2,\n",
    "                #'random_state': 42\n",
    "            }\n",
    "        ),\n",
    "        'clusters': lambda clusterable_projection: hdbscan.hdbscan_cluster(clusterable_projection, {\n",
    "            'min_samples': 10,\n",
    "            'min_cluster_size': 50\n",
    "        }),\n",
    "    },\n",
    "    panels=[\n",
    "        weave.panels.BoardPanel(\n",
    "            lambda limited_data, clusterable_projection, clusters: weave.panels.Plot(\n",
    "                limited_data,\n",
    "                x=lambda row, index: clusterable_projection[index][0],\n",
    "                y=lambda row, index: clusterable_projection[index][1],\n",
    "                label=lambda row, index: clusters[index],\n",
    "            )\n",
    "        )\n",
    "    ]\n",
    ")"
   ]
  }
 ],
 "metadata": {
  "kernelspec": {
   "display_name": "Python 3 (ipykernel)",
   "language": "python",
   "name": "python3"
  },
  "language_info": {
   "codemirror_mode": {
    "name": "ipython",
    "version": 3
   },
   "file_extension": ".py",
   "mimetype": "text/x-python",
   "name": "python",
   "nbconvert_exporter": "python",
   "pygments_lexer": "ipython3",
   "version": "3.9.7"
  }
 },
 "nbformat": 4,
 "nbformat_minor": 5
}
