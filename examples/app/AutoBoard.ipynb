{
 "cells": [
  {
   "cell_type": "code",
   "execution_count": 1,
   "id": "315969ff",
   "metadata": {},
   "outputs": [],
   "source": [
    "import weave\n",
    "from weave import syndata\n",
    "from weave import syndata_mon\n",
    "weave.use_frontend_devmode()\n",
    "from weave.panels_py import panel_autoboard"
   ]
  },
  {
   "cell_type": "code",
   "execution_count": 2,
   "id": "a6b988de",
   "metadata": {},
   "outputs": [
    {
     "name": "stderr",
     "output_type": "stream",
     "text": [
      "100%|█████████████████████████████████████████████████████████████████████████████████████████████████████████████████| 129/129 [00:00<00:00, 270.05it/s]\n"
     ]
    }
   ],
   "source": [
    "predictions = weave.save(syndata_mon.random_predictions(10), 'predictions')\n",
    "#predictions"
   ]
  },
  {
   "cell_type": "code",
   "execution_count": 3,
   "id": "64aef598",
   "metadata": {},
   "outputs": [
    {
     "data": {
      "text/html": [
       "\n",
       "        <iframe\n",
       "            width=\"100%\"\n",
       "            height=\"400px\"\n",
       "            src=\"http://localhost:3000/__frontend/weave_jupyter?fullScreen&expNode=%7B%22nodeType%22%3A%20%22output%22%2C%20%22type%22%3A%20%22any%22%2C%20%22fromOp%22%3A%20%7B%22name%22%3A%20%22get%22%2C%20%22inputs%22%3A%20%7B%22uri%22%3A%20%7B%22nodeType%22%3A%20%22const%22%2C%20%22type%22%3A%20%22string%22%2C%20%22val%22%3A%20%22local-artifact%3A///dashboard-Group0%3Alatest/obj%22%7D%7D%7D%7D\"\n",
       "            frameborder=\"0\"\n",
       "            allowfullscreen\n",
       "            allow=\"clipboard-write\"\n",
       "        ></iframe>\n",
       "        "
      ],
      "text/plain": [
       "<IPython.lib.display.IFrame at 0x29d699e80>"
      ]
     },
     "metadata": {},
     "output_type": "display_data"
    }
   ],
   "source": [
    "panel_autoboard.auto_panels(predictions)\n",
    "#weave.ops.project('shawn', 'fasion-sweep').runs().history().concat()['_step'].type"
   ]
  },
  {
   "cell_type": "code",
   "execution_count": null,
   "id": "78a3a155",
   "metadata": {},
   "outputs": [],
   "source": [
    "metrics = weave.save(syndata.random_metrics(10000, 10), 'syndata')\n",
    "#metrics"
   ]
  },
  {
   "cell_type": "code",
   "execution_count": null,
   "id": "77e03fd6",
   "metadata": {},
   "outputs": [],
   "source": [
    "#panel_autoboard.auto_panels(metrics)"
   ]
  },
  {
   "cell_type": "code",
   "execution_count": null,
   "id": "8b417fd2",
   "metadata": {},
   "outputs": [],
   "source": [
    "#panel_autoboard.auto_panels(weave.ops.project('shawn', 'oai-api5').run('test4').history2())"
   ]
  }
 ],
 "metadata": {
  "kernelspec": {
   "display_name": "Python 3 (ipykernel)",
   "language": "python",
   "name": "python3"
  },
  "language_info": {
   "codemirror_mode": {
    "name": "ipython",
    "version": 3
   },
   "file_extension": ".py",
   "mimetype": "text/x-python",
   "name": "python",
   "nbconvert_exporter": "python",
   "pygments_lexer": "ipython3",
   "version": "3.9.7"
  }
 },
 "nbformat": 4,
 "nbformat_minor": 5
}
