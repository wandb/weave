{
 "cells": [
  {
   "cell_type": "code",
   "execution_count": null,
   "id": "83fee798",
   "metadata": {},
   "outputs": [],
   "source": [
    "import weave"
   ]
  },
  {
   "cell_type": "code",
   "execution_count": null,
   "id": "6c85e3b7",
   "metadata": {},
   "outputs": [],
   "source": [
    "# Uncontrolled: panel creates its own state slot\n",
    "panel = weave.panels.Group(\n",
    "    items={\n",
    "        \"my_slider\": weave.panels.Slider(),\n",
    "        \"val\": lambda my_slider: my_slider.value()\n",
    "    })\n",
    "panel"
   ]
  },
  {
   "cell_type": "code",
   "execution_count": null,
   "id": "0dd8dd51",
   "metadata": {},
   "outputs": [],
   "source": [
    "# Controlled: state is external to panel\n",
    "\n",
    "panel = weave.panels.Group(\n",
    "    vars={'slider_val': 5},\n",
    "    items={\n",
    "        'state_value': lambda slider_val: slider_val,\n",
    "        'slider': lambda slider_val: weave.panels.Group(\n",
    "            items={\n",
    "                \"my_slider\": weave.panels.Slider(slider_val),\n",
    "                \"val\": lambda my_slider: my_slider.value(),\n",
    "                \"my_slider2\": weave.panels.Slider(slider_val)\n",
    "            })\n",
    "    })\n",
    "panel"
   ]
  }
 ],
 "metadata": {
  "kernelspec": {
   "display_name": "Python 3 (ipykernel)",
   "language": "python",
   "name": "python3"
  }
 },
 "nbformat": 4,
 "nbformat_minor": 5
}
