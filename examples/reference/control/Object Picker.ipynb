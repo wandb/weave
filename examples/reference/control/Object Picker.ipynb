{
 "cells": [
  {
   "cell_type": "code",
   "execution_count": null,
   "id": "f9712d25",
   "metadata": {},
   "outputs": [],
   "source": [
    "import weave"
   ]
  },
  {
   "cell_type": "code",
   "execution_count": null,
   "id": "2a60bff3",
   "metadata": {},
   "outputs": [],
   "source": [
    "ints = weave.save([1, 2, 3])"
   ]
  },
  {
   "cell_type": "code",
   "execution_count": null,
   "id": "2185cbbc",
   "metadata": {},
   "outputs": [],
   "source": [
    "panel = weave.panels.Group(\n",
    "    showExpressions=False,\n",
    "    items={\n",
    "        \"a\": weave.panels.ObjectPicker(ints, label=\"a\"),\n",
    "        \"b\": weave.panels.ObjectPicker(ints, label=\"b\"),\n",
    "        \"panel\": lambda a, b: a.config.choice + b.config.choice\n",
    "    })\n",
    "panel"
   ]
  },
  {
   "cell_type": "code",
   "execution_count": null,
   "id": "a0f2f998",
   "metadata": {},
   "outputs": [],
   "source": [
    "# A more complex example with sidebar\n",
    "\n",
    "# ints = weave.ops.objects(weave.types.Int(), 'latest', 9)\n",
    "# weave.use(ints[0])\n",
    "ints = weave.save([1, 2, 3], name='ints:latest')\n",
    "panel = weave.panels.Group(\n",
    "    preferHorizontal=True,\n",
    "    equalSize=True,\n",
    "    items={\n",
    "        \"sidebar\": weave.panels.Group(\n",
    "            items={\n",
    "                \"a\": weave.panels.ObjectPicker(ints, label=\"A\"),\n",
    "                \"b\": weave.panels.ObjectPicker(ints, label=\"B\")\n",
    "            }\n",
    "        ),\n",
    "        \"main\": lambda sidebar: weave.panels.Group(\n",
    "            items={\n",
    "                \"choice_values\": weave.panels.Group(\n",
    "                    preferHorizontal=True,\n",
    "                    style=\"height:150px\",\n",
    "                    items={\n",
    "                        'choice_a': weave.panels.LabeledItem(\n",
    "                            label=\"A\",\n",
    "                            item=sidebar.config.items['a'].config.choice.execute()\n",
    "                        ),\n",
    "                        'choice_b': weave.panels.LabeledItem(\n",
    "                            label=\"B\",\n",
    "                            item=sidebar.config.items['b'].config.choice.execute()\n",
    "                        )\n",
    "                    }\n",
    "                ),\n",
    "                \"aggregates\": weave.panels.Group(\n",
    "                    preferHorizontal=True,\n",
    "                    style=\"height:150px\",\n",
    "                    items={\n",
    "                        'sum': weave.panels.LabeledItem(\n",
    "                            label='sum',\n",
    "                            item=sidebar.config.items['a'].config.choice + sidebar.config.items['b'].config.choice\n",
    "                        ),\n",
    "                        'product': weave.panels.LabeledItem(\n",
    "                            label='product',\n",
    "                            item=sidebar.config.items['a'].config.choice * sidebar.config.items['b'].config.choice\n",
    "                        )\n",
    "                    }\n",
    "                )\n",
    "            }\n",
    "        )\n",
    "    })\n",
    "panel"
   ]
  }
 ],
 "metadata": {
  "kernelspec": {
   "display_name": "Python 3 (ipykernel)",
   "language": "python",
   "name": "python3"
  }
 },
 "nbformat": 4,
 "nbformat_minor": 5
}
