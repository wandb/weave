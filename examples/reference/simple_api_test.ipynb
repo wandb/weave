{
 "cells": [
  {
   "cell_type": "code",
   "execution_count": null,
   "id": "14480355",
   "metadata": {},
   "outputs": [],
   "source": [
    "import os\n",
    "import weave"
   ]
  },
  {
   "cell_type": "code",
   "execution_count": null,
   "id": "36af353f",
   "metadata": {},
   "outputs": [],
   "source": [
    "# basic number ops\n",
    "weave.use(weave.ops.Number.__add__(3, 9))"
   ]
  },
  {
   "cell_type": "code",
   "execution_count": null,
   "id": "965e1205",
   "metadata": {},
   "outputs": [],
   "source": [
    "test_data_directory = os.path.abspath(os.path.join(os.getcwd(), '../../weave/testdata'))\n",
    "\n",
    "# Try the different table flavors here\n",
    "\n",
    "# sql table\n",
    "# table = weave.ops.sqlconnection_table(\n",
    "#     weave.ops.local_sqlconnection(f'sqlite:///{test_data_directory}/cereal.db'),\n",
    "#     'cereal')\n",
    "\n",
    "# pandas csv\n",
    "table = weave.ops.pandasreadcsv(weave.ops.local_path(f'{test_data_directory}/cereal.csv'))\n",
    "\n",
    "table"
   ]
  },
  {
   "cell_type": "code",
   "execution_count": null,
   "id": "43714678",
   "metadata": {},
   "outputs": [],
   "source": [
    "# count\n",
    "weave.use(table.count())"
   ]
  },
  {
   "cell_type": "code",
   "execution_count": null,
   "id": "cc95ec18",
   "metadata": {},
   "outputs": [],
   "source": [
    "# index\n",
    "weave.use(table[0])"
   ]
  },
  {
   "cell_type": "code",
   "execution_count": null,
   "id": "839b513f",
   "metadata": {},
   "outputs": [],
   "source": [
    "# filter\n",
    "\n",
    "filter_fn = weave.define_fn(\n",
    "    {'row': table[0].type},\n",
    "    lambda row: row['potass'] > 280)\n",
    "filtered = table.filter(filter_fn)\n",
    "weave.use(filtered.count())"
   ]
  },
  {
   "cell_type": "code",
   "execution_count": null,
   "id": "96a953d5",
   "metadata": {},
   "outputs": [],
   "source": [
    "# map\n",
    "\n",
    "map_fn = weave.define_fn(\n",
    "    {'row': weave.types.TypedDict({})},\n",
    "    lambda row: row['potass'])\n",
    "mapped = table.map(map_fn)\n",
    "weave.use(mapped[0])"
   ]
  },
  {
   "cell_type": "code",
   "execution_count": null,
   "id": "9bdae724",
   "metadata": {},
   "outputs": [],
   "source": [
    "# group by\n",
    "grouped = table.groupby(lambda row: row['type'])\n",
    "group0 = grouped[0]\n",
    "group0key = group0.groupkey()\n",
    "group00 = group0[0]\n",
    "weave.use((group0key, group00))"
   ]
  }
 ],
 "metadata": {
  "kernelspec": {
   "display_name": "Python 3 (ipykernel)",
   "language": "python",
   "name": "python3"
  },
  "language_info": {
   "codemirror_mode": {
    "name": "ipython",
    "version": 3
   },
   "file_extension": ".py",
   "mimetype": "text/x-python",
   "name": "python",
   "nbconvert_exporter": "python",
   "pygments_lexer": "ipython3",
   "version": "3.9.7"
  }
 },
 "nbformat": 4,
 "nbformat_minor": 5
}
