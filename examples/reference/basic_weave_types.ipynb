{
 "cells": [
  {
   "cell_type": "markdown",
   "id": "8e561dd6",
   "metadata": {},
   "source": [
    "# Basic Weave types : Number and String\n",
    "\n",
    "How to use numbers and strings in Weave"
   ]
  },
  {
   "cell_type": "code",
   "execution_count": null,
   "id": "3dc970ad",
   "metadata": {},
   "outputs": [],
   "source": [
    "import weave"
   ]
  },
  {
   "cell_type": "markdown",
   "id": "7de36fc3",
   "metadata": {},
   "source": [
    "# Weave Number\n",
    "\n",
    "Handles numeric types, including Python integers and floats\n",
    "\n",
    "Start by saving an integer as an object to Weave:"
   ]
  },
  {
   "cell_type": "code",
   "execution_count": null,
   "id": "8e120856",
   "metadata": {},
   "outputs": [],
   "source": [
    "num = weave.save(5, \"num\")"
   ]
  },
  {
   "cell_type": "markdown",
   "id": "85cdce88",
   "metadata": {},
   "source": [
    "Call the object to view it as Weave panel:"
   ]
  },
  {
   "cell_type": "code",
   "execution_count": null,
   "id": "af748324",
   "metadata": {},
   "outputs": [],
   "source": [
    "num"
   ]
  },
  {
   "cell_type": "markdown",
   "id": "7d5b7aaa",
   "metadata": {},
   "source": [
    "Weave objects know their types:"
   ]
  },
  {
   "cell_type": "code",
   "execution_count": null,
   "id": "772ae7d5",
   "metadata": {},
   "outputs": [],
   "source": [
    "num.type"
   ]
  },
  {
   "cell_type": "code",
   "execution_count": null,
   "id": "eee51811",
   "metadata": {},
   "outputs": [],
   "source": [
    "decimal = weave.save(4.123, \"decimal\")\n",
    "decimal"
   ]
  },
  {
   "cell_type": "code",
   "execution_count": null,
   "id": "5201f33e",
   "metadata": {},
   "outputs": [],
   "source": [
    "decimal.type"
   ]
  },
  {
   "cell_type": "code",
   "execution_count": null,
   "id": "5753e362",
   "metadata": {},
   "outputs": [],
   "source": [
    "sum_so_far = num + decimal\n",
    "sum_so_far"
   ]
  },
  {
   "cell_type": "markdown",
   "id": "0b29e5da",
   "metadata": {},
   "source": [
    "## Weave Number Ops\n",
    "\n",
    "The following operations are available for the Weave Number type:\n",
    "\n",
    "### Operands \n",
    "\n",
    "Relations between two Weave nodes\n",
    "* basic comparison ops: !=, ==, >, >=, <, <=\n",
    "* basic mathematical operations: +, -, *, /, //, **, %\n",
    "\n",
    "### Ecosystem ops\n",
    "\n",
    "Weave op callable on a single Weave node\n",
    "* more advanced math: sin, cos\n",
    "* formatting numerical values: abs, ceil, round, toString, toTimestamp\n",
    "* relevant generics: isNone, json_dumps\n",
    "\n",
    "### Making histograms & panels\n",
    "\n",
    "May not be relevant for every instance of a number\n",
    "* number_bins_fixed, timestamp_bins_fixed\n",
    "* gauss, random_normal(), random_normal(,)\n",
    "* _new_Facet_CellSize(), _new_Point2D, _new_Size2D(,)\n",
    "\n",
    "### Misc from Ecosystem\n",
    "* an_example op, food101, mnist, ca_housing_dataset, days\n",
    "\n",
    "# Weave String\n",
    "\n",
    "Handles text"
   ]
  },
  {
   "cell_type": "code",
   "execution_count": null,
   "id": "48c7dcf7",
   "metadata": {},
   "outputs": [],
   "source": [
    "hello = weave.save(\"hello\", \"my_greeting\")\n",
    "hello"
   ]
  },
  {
   "cell_type": "code",
   "execution_count": null,
   "id": "2723a161",
   "metadata": {},
   "outputs": [],
   "source": [
    "hello.type"
   ]
  },
  {
   "cell_type": "code",
   "execution_count": null,
   "id": "5919313a",
   "metadata": {},
   "outputs": [],
   "source": [
    "world = weave.save(\"world\", \"who\")\n",
    "hello_world = hello + \" \" + world\n",
    "hello_world"
   ]
  },
  {
   "cell_type": "markdown",
   "id": "ef638ef1",
   "metadata": {},
   "source": [
    "## Weave String Ops\n",
    "\n",
    "Operations available on Weave Strings, by category:\n",
    "\n",
    "* basic operands: ==, !=, +\n",
    "* basic checks/type conversion: isNone, isAlpha, isAlnum, isNumeric\n",
    "* basic callable ops: append, lStrip, rStrip, lower, len, prepend\n",
    "* generic formatting: json_dumps, json_parse, json_parse_list, date_parse\n",
    "* more sophisticated string parsing: contains, endsWith, findAll, levenshtein, replace, slice, split \n",
    "\n",
    "## Changing Weave types\n",
    "\n",
    "We can convert between these types using existing ops.\n",
    "\n",
    "Type conversion ops available so far:\n",
    "* `toString()` for converting Number to String\n",
    "* `toNumber()` for converting String to Number"
   ]
  },
  {
   "cell_type": "code",
   "execution_count": null,
   "id": "b694f341",
   "metadata": {},
   "outputs": [],
   "source": [
    "num.type"
   ]
  },
  {
   "cell_type": "code",
   "execution_count": null,
   "id": "b87499d2",
   "metadata": {},
   "outputs": [],
   "source": [
    "num_as_str = num.toString()\n",
    "num_as_str.type"
   ]
  },
  {
   "cell_type": "markdown",
   "id": "2cf71ffd",
   "metadata": {},
   "source": [
    "You can call the `toNumber()` op from the UI to convert this back to a Number."
   ]
  },
  {
   "cell_type": "code",
   "execution_count": null,
   "id": "9f2eb0e3",
   "metadata": {},
   "outputs": [],
   "source": [
    "# TODO: fix\n",
    "num_as_str"
   ]
  },
  {
   "cell_type": "code",
   "execution_count": null,
   "id": "d35fae13",
   "metadata": {},
   "outputs": [],
   "source": [
    "pi_str = weave.save(\"3.1415926\", \"pi\")\n",
    "pi_num = pi_str.toNumber()\n",
    "pi_num"
   ]
  },
  {
   "cell_type": "markdown",
   "id": "b3f26cd3",
   "metadata": {},
   "source": [
    "### Appendix A: Weave Boolean gotchas\n",
    "\n",
    "Weave Boolean nodes work slightly differently from Weave Numbers or Weave Strings. To operate on these directly, you need to first call `weave.use()` to evaluate the node or look up the correct Weave op from its literal string name because `and` and `or` are reserved keywords in Python :)"
   ]
  },
  {
   "cell_type": "code",
   "execution_count": null,
   "id": "fff646e5",
   "metadata": {},
   "outputs": [],
   "source": [
    "isTrue = weave.save(True, \"isTrue\")\n",
    "isFalse = weave.save(False, \"isFalse\")\n",
    "isTrue"
   ]
  },
  {
   "cell_type": "code",
   "execution_count": null,
   "id": "c5f50eb5",
   "metadata": {},
   "outputs": [],
   "source": [
    "isTrue.type"
   ]
  },
  {
   "cell_type": "markdown",
   "id": "4284a367",
   "metadata": {},
   "source": [
    "Option 1: Call `weave.use()` to get the literal value, then operate on predicates."
   ]
  },
  {
   "cell_type": "code",
   "execution_count": null,
   "id": "4e019d8c",
   "metadata": {},
   "outputs": [],
   "source": [
    "or_expression = weave.use(isTrue) or weave.use(isFalse)\n",
    "or_expression"
   ]
  },
  {
   "cell_type": "code",
   "execution_count": null,
   "id": "2ab1944a",
   "metadata": {},
   "outputs": [],
   "source": [
    "type(or_expression)"
   ]
  },
  {
   "cell_type": "markdown",
   "id": "da21a44d",
   "metadata": {},
   "source": [
    "Option 2: To compose Weave Boolean nodes the way we do Weave Strings or Weave Numbers, fetch the Weave op by name and then use it, as `or` and `and` are reserved."
   ]
  },
  {
   "cell_type": "code",
   "execution_count": null,
   "id": "4f27b00a",
   "metadata": {},
   "outputs": [],
   "source": [
    "# works for Weave Numbers\n",
    "mynum = weave.save(5, \"mynum\")\n",
    "mynum_plus_10 = mynum + 10\n",
    "weave.use(mynum_plus_10)"
   ]
  },
  {
   "cell_type": "code",
   "execution_count": null,
   "id": "f3141739",
   "metadata": {},
   "outputs": [],
   "source": [
    "# edge case: we cannot call the \"or\" Weave op since it's a reserved term\n",
    "# weave_node_or = isTrue.or(isFalse)\n",
    "weave_get_op_or = isTrue._get_op(\"or\")(isFalse)\n",
    "weave_get_op_or"
   ]
  }
 ],
 "metadata": {
  "kernelspec": {
   "display_name": "Python 3 (ipykernel)",
   "language": "python",
   "name": "python3"
  },
  "language_info": {
   "codemirror_mode": {
    "name": "ipython",
    "version": 3
   },
   "file_extension": ".py",
   "mimetype": "text/x-python",
   "name": "python",
   "nbconvert_exporter": "python",
   "pygments_lexer": "ipython3",
   "version": "3.9.7"
  }
 },
 "nbformat": 4,
 "nbformat_minor": 5
}
