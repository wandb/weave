{
 "cells": [
  {
   "cell_type": "code",
   "execution_count": null,
   "id": "8544cf72",
   "metadata": {},
   "outputs": [],
   "source": [
    "import weave\n",
    "weave.use_frontend_devmode()"
   ]
  },
  {
   "cell_type": "code",
   "execution_count": null,
   "id": "7f5447d2",
   "metadata": {},
   "outputs": [],
   "source": [
    "preds = (weave.ops.project('stacey', \"mendeleev\")\n",
    "         .artifactType('test_results')\n",
    "         .artifacts()[0]\n",
    "         .versions()[0]\n",
    "         .file('test_results.table.json')\n",
    "         .table()\n",
    "         .rows())"
   ]
  },
  {
   "cell_type": "code",
   "execution_count": null,
   "id": "e414990d",
   "metadata": {},
   "outputs": [],
   "source": [
    "preds"
   ]
  },
  {
   "cell_type": "code",
   "execution_count": null,
   "id": "4415c7bc",
   "metadata": {},
   "outputs": [],
   "source": [
    "weave.panels.Group(\n",
    "    equalSize=True,\n",
    "    preferHorizontal=True,\n",
    "    items={\n",
    "        'confusion': weave.panels.Facet(preds,\n",
    "                  x=lambda row: row['guess'],\n",
    "                   y=lambda row: row['truth'],\n",
    "           select=lambda row: weave.panels.Group(\n",
    "               layoutMode='layer',\n",
    "               items={\n",
    "                   'color': weave.panels.Color(row.count() / 50),\n",
    "                   'count': row.count()\n",
    "               })\n",
    "           ),\n",
    "        'something_else': lambda confusion: confusion.selected()\n",
    "    })"
   ]
  },
  {
   "cell_type": "code",
   "execution_count": null,
   "id": "a940dab4",
   "metadata": {},
   "outputs": [],
   "source": [
    "facet = weave.panels.Group(\n",
    "    equalSize=True,\n",
    "    preferHorizontal=True,\n",
    "    items={\n",
    "        'confusion': weave.panels.Facet(preds,\n",
    "                           x=lambda row: row['guess'],\n",
    "                           y=lambda row: row['truth'],\n",
    "                           select=lambda row: weave.panels.Group(\n",
    "                               layoutMode='layer',\n",
    "                               items={\n",
    "                                   'color': weave.panels.Color(row.count() / 50),\n",
    "                                   'count': row.count()\n",
    "                               })),\n",
    "        'selected': lambda confusion: confusion.selected()\n",
    "    }\n",
    ")\n",
    "facet"
   ]
  }
 ],
 "metadata": {
  "kernelspec": {
   "display_name": "Python 3 (ipykernel)",
   "language": "python",
   "name": "python3"
  },
  "language_info": {
   "codemirror_mode": {
    "name": "ipython",
    "version": 3
   },
   "file_extension": ".py",
   "mimetype": "text/x-python",
   "name": "python",
   "nbconvert_exporter": "python",
   "pygments_lexer": "ipython3",
   "version": "3.9.7"
  }
 },
 "nbformat": 4,
 "nbformat_minor": 5
}
