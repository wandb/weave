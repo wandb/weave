{
 "cells": [
  {
   "cell_type": "code",
   "execution_count": 8,
   "id": "8544cf72",
   "metadata": {},
   "outputs": [],
   "source": [
    "import weave\n",
    "weave.use_frontend_devmode()"
   ]
  },
  {
   "cell_type": "code",
   "execution_count": 18,
   "id": "7f5447d2",
   "metadata": {},
   "outputs": [],
   "source": [
    "preds = (weave.ops.project('stacey', \"mendeleev\")\n",
    "         .artifactType('test_results')\n",
    "         .artifacts()[0]\n",
    "         .versions()[0]\n",
    "         .file('test_results.table.json')\n",
    "         .table()\n",
    "         .rows())"
   ]
  },
  {
   "cell_type": "code",
   "execution_count": 33,
   "id": "e414990d",
   "metadata": {},
   "outputs": [
    {
     "data": {
      "text/html": [
       "\n",
       "        <iframe\n",
       "            width=\"100%\"\n",
       "            height=\"400px\"\n",
       "            src=\"http://localhost:3000/__frontend/weave_jupyter?fullScreen&expNode=%7B%22nodeType%22%3A%20%22output%22%2C%20%22type%22%3A%20%22any%22%2C%20%22fromOp%22%3A%20%7B%22name%22%3A%20%22get%22%2C%20%22inputs%22%3A%20%7B%22uri%22%3A%20%7B%22nodeType%22%3A%20%22const%22%2C%20%22type%22%3A%20%22string%22%2C%20%22val%22%3A%20%22local-artifact%3A///dashboard-tagged%3Alatest/obj%22%7D%7D%7D%7D\"\n",
       "            frameborder=\"0\"\n",
       "            allowfullscreen\n",
       "            allow=\"clipboard-write\"\n",
       "        ></iframe>\n",
       "        "
      ],
      "text/plain": [
       "<IPython.lib.display.IFrame at 0x2bf2b1fc0>"
      ]
     },
     "metadata": {},
     "output_type": "display_data"
    }
   ],
   "source": [
    "preds"
   ]
  },
  {
   "cell_type": "code",
   "execution_count": 32,
   "id": "4415c7bc",
   "metadata": {},
   "outputs": [
    {
     "data": {
      "text/html": [
       "\n",
       "        <iframe\n",
       "            width=\"100%\"\n",
       "            height=\"400px\"\n",
       "            src=\"http://localhost:3000/__frontend/weave_jupyter?fullScreen&expNode=%7B%22nodeType%22%3A%20%22output%22%2C%20%22type%22%3A%20%22any%22%2C%20%22fromOp%22%3A%20%7B%22name%22%3A%20%22get%22%2C%20%22inputs%22%3A%20%7B%22uri%22%3A%20%7B%22nodeType%22%3A%20%22const%22%2C%20%22type%22%3A%20%22string%22%2C%20%22val%22%3A%20%22local-artifact%3A///dashboard-Group0%3Alatest/obj%22%7D%7D%7D%7D\"\n",
       "            frameborder=\"0\"\n",
       "            allowfullscreen\n",
       "            allow=\"clipboard-write\"\n",
       "        ></iframe>\n",
       "        "
      ],
      "text/plain": [
       "<IPython.lib.display.IFrame at 0x2bf2b2650>"
      ]
     },
     "metadata": {},
     "output_type": "display_data"
    }
   ],
   "source": [
    "weave.panels.Group(\n",
    "    equalSize=True,\n",
    "    preferHorizontal=True,\n",
    "    items={\n",
    "        'confusion': weave.panels.Facet(preds,\n",
    "                  x=lambda row: row['guess'],\n",
    "                   y=lambda row: row['truth'],\n",
    "           select=lambda row: weave.panels.Group(\n",
    "               layoutMode='layer',\n",
    "               items={\n",
    "                   'color': weave.panels.Color(row.count() / 50),\n",
    "                   'count': row.count()\n",
    "               })\n",
    "           ),\n",
    "        'something_else': lambda confusion: confusion.selected()\n",
    "    })"
   ]
  },
  {
   "cell_type": "code",
   "execution_count": 17,
   "id": "a940dab4",
   "metadata": {},
   "outputs": [
    {
     "data": {
      "text/html": [
       "\n",
       "        <iframe\n",
       "            width=\"100%\"\n",
       "            height=\"400px\"\n",
       "            src=\"http://localhost:3000/__frontend/weave_jupyter?fullScreen&expNode=%7B%22nodeType%22%3A%20%22output%22%2C%20%22type%22%3A%20%22any%22%2C%20%22fromOp%22%3A%20%7B%22name%22%3A%20%22get%22%2C%20%22inputs%22%3A%20%7B%22uri%22%3A%20%7B%22nodeType%22%3A%20%22const%22%2C%20%22type%22%3A%20%22string%22%2C%20%22val%22%3A%20%22local-artifact%3A///dashboard-Group0%3Alatest/obj%22%7D%7D%7D%7D\"\n",
       "            frameborder=\"0\"\n",
       "            allowfullscreen\n",
       "            allow=\"clipboard-write\"\n",
       "        ></iframe>\n",
       "        "
      ],
      "text/plain": [
       "<IPython.lib.display.IFrame at 0x2be5880d0>"
      ]
     },
     "metadata": {},
     "output_type": "display_data"
    }
   ],
   "source": [
    "facet = weave.panels.Group(\n",
    "    equalSize=True,\n",
    "    preferHorizontal=True,\n",
    "    items={\n",
    "        'confusion': weave.panels.Facet(preds,\n",
    "                           x=lambda row: row['guess'],\n",
    "                           y=lambda row: row['truth'],\n",
    "                           select=lambda row: weave.panels.Group(\n",
    "                               layoutMode='layer',\n",
    "                               items={\n",
    "                                   'color': weave.panels.Color(row.count() / 50),\n",
    "                                   'count': row.count()\n",
    "                               })),\n",
    "        'selected': lambda confusion: confusion.selected()\n",
    "    }\n",
    ")\n",
    "facet"
   ]
  },
  {
   "cell_type": "code",
   "execution_count": null,
   "id": "6add5a83",
   "metadata": {},
   "outputs": [],
   "source": []
  }
 ],
 "metadata": {
  "kernelspec": {
   "display_name": "Python 3 (ipykernel)",
   "language": "python",
   "name": "python3"
  },
  "language_info": {
   "codemirror_mode": {
    "name": "ipython",
    "version": 3
   },
   "file_extension": ".py",
   "mimetype": "text/x-python",
   "name": "python",
   "nbconvert_exporter": "python",
   "pygments_lexer": "ipython3",
   "version": "3.10.11"
  }
 },
 "nbformat": 4,
 "nbformat_minor": 5
}
