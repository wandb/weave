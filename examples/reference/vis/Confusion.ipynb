{
 "cells": [
  {
   "cell_type": "code",
   "execution_count": null,
   "id": "8544cf72",
   "metadata": {},
   "outputs": [],
   "source": [
    "import weave"
   ]
  },
  {
   "cell_type": "code",
   "execution_count": null,
   "id": "7f5447d2",
   "metadata": {},
   "outputs": [],
   "source": [
    "preds = (weave.ops.project('stacey', \"mendeleev\")\n",
    "         .artifactType('test_results')\n",
    "         .artifacts()[0]\n",
    "         .versions()[0]\n",
    "         .file('test_results.table.json')\n",
    "         .table()\n",
    "         .rows())"
   ]
  },
  {
   "cell_type": "code",
   "execution_count": null,
   "id": "a940dab4",
   "metadata": {},
   "outputs": [],
   "source": [
    "facet = weave.panels.Group(\n",
    "    equalSize=True,\n",
    "    preferHorizontal=True,\n",
    "    items={\n",
    "        'confusion': weave.panels.Facet(preds,\n",
    "                           x=lambda row: row['guess'],\n",
    "                           y=lambda row: row['truth'],\n",
    "                           select=lambda row: weave.panels.Group(\n",
    "                               layoutMode='layer',\n",
    "                               items={\n",
    "                                   'color': weave.panels.Color(row.count() / 50),\n",
    "                                   'count': row.count()\n",
    "                               })),\n",
    "        'selected': lambda confusion: confusion.selected()\n",
    "    }\n",
    ")\n",
    "facet"
   ]
  }
 ],
 "metadata": {
  "kernelspec": {
   "display_name": "Python 3 (ipykernel)",
   "language": "python",
   "name": "python3"
  }
 },
 "nbformat": 4,
 "nbformat_minor": 5
}
