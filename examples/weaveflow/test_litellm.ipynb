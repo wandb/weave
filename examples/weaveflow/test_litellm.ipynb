{
 "cells": [
  {
   "cell_type": "code",
   "execution_count": 1,
   "metadata": {},
   "outputs": [],
   "source": [
    "import os\n",
    "\n",
    "from dotenv import find_dotenv, load_dotenv\n",
    "from litellm import acompletion"
   ]
  },
  {
   "cell_type": "code",
   "execution_count": 2,
   "metadata": {},
   "outputs": [],
   "source": [
    "load_dotenv(find_dotenv())\n",
    "\n",
    "API_KEY = os.getenv('API_KEY')\n",
    "API_BASE = os.getenv('API_BASE')\n",
    "API_VERSION = os.getenv('API_VERSION')\n",
    "DEPLOYMENT_NAME = os.getenv('DEPLOYMENT_NAME')\n",
    "\n",
    "os.environ[\"AZURE_API_KEY\"] = API_KEY\n",
    "os.environ[\"AZURE_API_BASE\"] = API_BASE\n",
    "os.environ[\"AZURE_API_VERSION\"] = API_VERSION"
   ]
  },
  {
   "cell_type": "code",
   "execution_count": 3,
   "metadata": {},
   "outputs": [],
   "source": [
    "query = \"how are you?\"\n",
    "responses = await acompletion(\n",
    "            messages=[{\"role\": \"user\", \"content\": query}],\n",
    "            model=f\"azure/{DEPLOYMENT_NAME}\",\n",
    "            n=3,\n",
    "            temperature=1,\n",
    "            )"
   ]
  },
  {
   "cell_type": "code",
   "execution_count": 4,
   "metadata": {},
   "outputs": [
    {
     "data": {
      "text/plain": [
       "ModelResponse(id='chatcmpl-BHryUaPzKc4hDBefWCJaePj02EpQq', created=1743598754, model='gpt-35-turbo-16k', object='chat.completion', system_fingerprint='fp_0165350fbb', choices=[Choices(finish_reason='stop', index=0, message=Message(content=\"As an AI, I don't have feelings, but I'm here to assist you. How can I help you today?\", role='assistant', tool_calls=None, function_call=None, provider_specific_fields={'refusal': None})), Choices(finish_reason='stop', index=1, message=Message(content='Thank you for asking. As an AI, I do not have feelings, but I am here to assist you with any questions or tasks you have. How can I help you today?', role='assistant', tool_calls=None, function_call=None, provider_specific_fields={'refusal': None})), Choices(finish_reason='stop', index=2, message=Message(content=\"As an AI, I don't have emotions, but I'm here to help you. How can I assist you today?\", role='assistant', tool_calls=None, function_call=None, provider_specific_fields={'refusal': None}))], usage=Usage(completion_tokens=87, prompt_tokens=11, total_tokens=98, completion_tokens_details=None, prompt_tokens_details=None), service_tier=None, prompt_filter_results=[{'prompt_index': 0, 'content_filter_results': {'hate': {'filtered': False, 'severity': 'safe'}, 'self_harm': {'filtered': False, 'severity': 'safe'}, 'sexual': {'filtered': False, 'severity': 'safe'}, 'violence': {'filtered': False, 'severity': 'safe'}}}])"
      ]
     },
     "execution_count": 4,
     "metadata": {},
     "output_type": "execute_result"
    }
   ],
   "source": [
    "responses"
   ]
  },
  {
   "cell_type": "code",
   "execution_count": 5,
   "metadata": {},
   "outputs": [
    {
     "data": {
      "text/plain": [
       "\"As an AI, I don't have feelings, but I'm here to assist you. How can I help you today?\""
      ]
     },
     "execution_count": 5,
     "metadata": {},
     "output_type": "execute_result"
    }
   ],
   "source": [
    "responses.choices[0].message.content"
   ]
  },
  {
   "cell_type": "code",
   "execution_count": 6,
   "metadata": {},
   "outputs": [
    {
     "data": {
      "text/plain": [
       "[\"As an AI, I don't have feelings, but I'm here to assist you. How can I help you today?\",\n",
       " 'Thank you for asking. As an AI, I do not have feelings, but I am here to assist you with any questions or tasks you have. How can I help you today?',\n",
       " \"As an AI, I don't have emotions, but I'm here to help you. How can I assist you today?\"]"
      ]
     },
     "execution_count": 6,
     "metadata": {},
     "output_type": "execute_result"
    }
   ],
   "source": [
    "[responses.choices[i].message.content for i in range(3)]"
   ]
  }
 ],
 "metadata": {
  "kernelspec": {
   "display_name": ".weave_env1",
   "language": "python",
   "name": "python3"
  },
  "language_info": {
   "codemirror_mode": {
    "name": "ipython",
    "version": 3
   },
   "file_extension": ".py",
   "mimetype": "text/x-python",
   "name": "python",
   "nbconvert_exporter": "python",
   "pygments_lexer": "ipython3",
   "version": "3.12.9"
  }
 },
 "nbformat": 4,
 "nbformat_minor": 2
}
