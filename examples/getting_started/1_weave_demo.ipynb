{
 "cells": [
  {
   "cell_type": "markdown",
   "id": "e5341685",
   "metadata": {},
   "source": [
    "# Weave demo\n",
    "\n",
    "An incremental walkthrough of different Weave Types, building up to Weave Ops and an Ecosystem Panel."
   ]
  },
  {
   "cell_type": "code",
   "execution_count": null,
   "id": "24001c7d",
   "metadata": {},
   "outputs": [],
   "source": [
    "import weave"
   ]
  },
  {
   "cell_type": "code",
   "execution_count": null,
   "id": "9c61af9d",
   "metadata": {},
   "outputs": [],
   "source": [
    "weave.type_of(14)"
   ]
  },
  {
   "cell_type": "code",
   "execution_count": null,
   "id": "bf4a0fbc",
   "metadata": {},
   "outputs": [],
   "source": [
    "my_num = weave.save(5, name='my_num')\n",
    "my_num"
   ]
  },
  {
   "cell_type": "code",
   "execution_count": null,
   "id": "514b91b1",
   "metadata": {},
   "outputs": [],
   "source": [
    "for version in weave.versions(my_num):\n",
    "    print(version)"
   ]
  },
  {
   "cell_type": "code",
   "execution_count": null,
   "id": "ee6482e3",
   "metadata": {},
   "outputs": [],
   "source": [
    "my_num = weave.save(6, name='my_num')"
   ]
  },
  {
   "cell_type": "code",
   "execution_count": null,
   "id": "0c102e55",
   "metadata": {},
   "outputs": [],
   "source": [
    "for version in weave.versions(my_num):\n",
    "    print(version)"
   ]
  },
  {
   "cell_type": "code",
   "execution_count": null,
   "id": "a7029941",
   "metadata": {},
   "outputs": [],
   "source": [
    "my_num"
   ]
  },
  {
   "cell_type": "code",
   "execution_count": null,
   "id": "1586fb74",
   "metadata": {},
   "outputs": [],
   "source": [
    "my_dict = weave.save({'a': 5, 'b': 6, 'c': {'e': 9, 'f': 10, 'j': 12}}, name='my_dict')"
   ]
  },
  {
   "cell_type": "code",
   "execution_count": null,
   "id": "e69a6be3",
   "metadata": {},
   "outputs": [],
   "source": [
    "my_dict"
   ]
  },
  {
   "cell_type": "code",
   "execution_count": null,
   "id": "ee2f6cc6",
   "metadata": {},
   "outputs": [],
   "source": [
    "import random\n",
    "import string\n",
    "N_ROWS = 1000\n",
    "N_COLS = 20\n",
    "table = []\n",
    "for i in range(N_ROWS):\n",
    "    row = {}\n",
    "    for j in range(N_COLS):\n",
    "        if j < 2:\n",
    "            val = random.randrange(100)\n",
    "        elif j < 4:\n",
    "            val = random.randrange(1000)\n",
    "        elif j < 6:\n",
    "            val = random.choice(string.ascii_lowercase)\n",
    "        else:\n",
    "            val = random.random()\n",
    "        row[f'col{j}'] = val\n",
    "    table.append(row)\n",
    "\n",
    "my_table = weave.save(table, 'my_table')\n",
    "my_table"
   ]
  },
  {
   "cell_type": "code",
   "execution_count": null,
   "id": "6e2d583e",
   "metadata": {},
   "outputs": [],
   "source": [
    "#weave.publish(table, name='my-table')"
   ]
  },
  {
   "cell_type": "code",
   "execution_count": null,
   "id": "b84e3058",
   "metadata": {},
   "outputs": [],
   "source": [
    "from PIL import Image\n",
    "ims = []\n",
    "base_im = Image.linear_gradient('L')\n",
    "for rotate in range(10):\n",
    "    for shear in range(10):\n",
    "        ims.append({\n",
    "            'rotate': rotate,\n",
    "            'shear': shear,\n",
    "            'image': base_im\n",
    "                .rotate(rotate * 4)\n",
    "                .transform((256, 256), Image.AFFINE, (1, shear / 10, 0, 0, 1, 0), Image.BICUBIC)\n",
    "        })\n",
    "ims = weave.save(ims, name='ims')\n",
    "ims"
   ]
  },
  {
   "cell_type": "code",
   "execution_count": null,
   "id": "636fc728",
   "metadata": {},
   "outputs": [],
   "source": [
    "@weave.op()\n",
    "def flip_lr(im: Image.Image) -> Image.Image:\n",
    "    return im.transpose(Image.Transpose.FLIP_LEFT_RIGHT)"
   ]
  },
  {
   "cell_type": "code",
   "execution_count": null,
   "id": "382536e3",
   "metadata": {},
   "outputs": [],
   "source": [
    "from weave.ecosystem.huggingface import huggingface\n",
    "classification_model = huggingface().model('bhadresh-savani/distilbert-base-uncased-emotion')\n",
    "classification_model"
   ]
  }
 ],
 "metadata": {
  "kernelspec": {
   "display_name": "Python 3 (ipykernel)",
   "language": "python",
   "name": "python3"
  },
  "language_info": {
   "codemirror_mode": {
    "name": "ipython",
    "version": 3
   },
   "file_extension": ".py",
   "mimetype": "text/x-python",
   "name": "python",
   "nbconvert_exporter": "python",
   "pygments_lexer": "ipython3",
   "version": "3.9.7"
  }
 },
 "nbformat": 4,
 "nbformat_minor": 5
}
