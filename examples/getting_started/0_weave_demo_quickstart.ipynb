{
 "cells": [
  {
   "cell_type": "markdown",
   "id": "81c835f8",
   "metadata": {},
   "source": [
    "# Weave quickstart demo\n",
    "\n",
    "## 0: Acquire standard iris data with labels"
   ]
  },
  {
   "cell_type": "code",
   "execution_count": null,
   "id": "da74f60c",
   "metadata": {},
   "outputs": [],
   "source": [
    "from sklearn.datasets import load_iris\n",
    "iris = load_iris(as_frame=True)\n",
    "df = iris.data.assign(target=iris.target_names[iris.target])\n",
    "df"
   ]
  },
  {
   "cell_type": "markdown",
   "id": "94736109",
   "metadata": {},
   "source": [
    "## 1. Load, view, and explore!"
   ]
  },
  {
   "cell_type": "code",
   "execution_count": null,
   "id": "84f1a891",
   "metadata": {},
   "outputs": [],
   "source": [
    "import weave\n",
    "weave.show(df)"
   ]
  }
 ],
 "metadata": {
  "kernelspec": {
   "display_name": "Python 3 (ipykernel)",
   "language": "python",
   "name": "python3"
  },
  "language_info": {
   "codemirror_mode": {
    "name": "ipython",
    "version": 3
   },
   "file_extension": ".py",
   "mimetype": "text/x-python",
   "name": "python",
   "nbconvert_exporter": "python",
   "pygments_lexer": "ipython3",
   "version": "3.9.7"
  }
 },
 "nbformat": 4,
 "nbformat_minor": 5
}
