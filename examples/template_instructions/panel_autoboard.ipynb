{
 "cells": [
  {
   "cell_type": "markdown",
   "metadata": {},
   "source": [
    "# Timeseries Instructions"
   ]
  },
  {
   "cell_type": "code",
   "execution_count": null,
   "metadata": {
    "vscode": {
     "languageId": "plaintext"
    }
   },
   "outputs": [],
   "source": [
    "st= StreamTable(\"...\")\n",
    "st.log({})"
   ]
  },
  {
   "cell_type": "markdown",
   "metadata": {},
   "source": [
    "# Markdown Sample\n",
    "\n",
    "## Headers\n",
    "\n",
    "# Header 1\n",
    "## Header 2\n",
    "### Header 3\n",
    "#### Header 4\n",
    "##### Header 5\n",
    "###### Header 6\n",
    "\n",
    "## Emphasis\n",
    "\n",
    "*Italic* or _Italic_\n",
    "\n",
    "**Bold** or __Bold__\n",
    "\n",
    "**Bold and _Italic_**\n",
    "\n",
    "~~Strikethrough~~\n",
    "\n",
    "## Lists\n",
    "\n",
    "### Unordered\n",
    "\n",
    "* Item 1\n",
    "* Item 2\n",
    "  * Subitem 2.1\n",
    "  * Subitem 2.2\n",
    "\n",
    "### Ordered\n",
    "\n",
    "1. First item\n",
    "2. Second item\n",
    "   1. Subitem 2.1\n",
    "   2. Subitem 2.2\n",
    "\n",
    "## Links\n",
    "\n",
    "[Google](https://www.google.com)\n",
    "\n",
    "[Link with title](https://www.google.com \"Google's Homepage\")\n",
    "\n",
    "## Images\n",
    "\n",
    "![Alt text](https://via.placeholder.com/150 \"Sample Image\")\n",
    "\n",
    "## Code\n",
    "\n",
    "Inline `code` here.\n",
    "\n",
    "```\n",
    "Block of code\n",
    "Another line of code\n",
    "```\n",
    "\n",
    "```python\n",
    "def hello_world():\n",
    "    print(\"Hello, World!\")\n",
    "```\n",
    "\n",
    "## Tables\n",
    "\n",
    "| Header 1 | Header 2 |\n",
    "|----------|----------|\n",
    "| Cell 1   | Cell 2   |\n",
    "| Cell 3   | Cell 4   |\n",
    "\n",
    "## Blockquotes\n",
    "\n",
    "> This is a blockquote.\n",
    "\n",
    "## Horizontal Rule\n",
    "\n",
    "---\n",
    "\n",
    "## Task Lists\n",
    "\n",
    "- [x] Completed task\n",
    "- [ ] Incomplete task\n"
   ]
  }
 ],
 "metadata": {
  "kernelspec": {
   "display_name": "weave-as-user",
   "language": "python",
   "name": "python3"
  },
  "language_info": {
   "codemirror_mode": {
    "name": "ipython",
    "version": 3
   },
   "file_extension": ".py",
   "mimetype": "text/x-python",
   "name": "python",
   "nbconvert_exporter": "python",
   "pygments_lexer": "ipython3",
   "version": "3.10.8"
  }
 },
 "nbformat": 4,
 "nbformat_minor": 2
}
