{
 "cells": [
  {
   "cell_type": "markdown",
   "id": "c365d427",
   "metadata": {},
   "source": [
    "# Images in Weave\n",
    "\n",
    "- upload or generate images\n",
    "- add them to lists or Tables\n",
    "- Facet across these\n",
    "- dynamic & interactive Weave Ops via Facet"
   ]
  },
  {
   "cell_type": "code",
   "execution_count": null,
   "id": "51500f80",
   "metadata": {},
   "outputs": [],
   "source": [
    "import typing\n",
    "import itertools\n",
    "from PIL import Image\n",
    "import weave"
   ]
  },
  {
   "cell_type": "markdown",
   "id": "5238cad1",
   "metadata": {},
   "source": [
    "## Show an image"
   ]
  },
  {
   "cell_type": "code",
   "execution_count": null,
   "id": "a24f7f25",
   "metadata": {},
   "outputs": [],
   "source": [
    "weave.show(Image.linear_gradient(\"L\"))"
   ]
  },
  {
   "cell_type": "markdown",
   "id": "3dbed6d5",
   "metadata": {},
   "source": [
    "## Images in Lists"
   ]
  },
  {
   "cell_type": "code",
   "execution_count": null,
   "id": "28e050c2",
   "metadata": {},
   "outputs": [],
   "source": [
    "ims = [Image.linear_gradient(\"L\").rotate(i * 4) for i in range(100)]\n",
    "weave.show(ims)"
   ]
  },
  {
   "cell_type": "markdown",
   "id": "9575d1ff",
   "metadata": {},
   "source": [
    "## Images in Tables"
   ]
  },
  {
   "cell_type": "code",
   "execution_count": null,
   "id": "0c258714",
   "metadata": {},
   "outputs": [],
   "source": [
    "ims = []\n",
    "base_im = Image.linear_gradient('L')\n",
    "for rotate in range(10):\n",
    "    for shear in range(10):\n",
    "        ims.append({\n",
    "            'rotate': rotate,\n",
    "            'shear': shear,\n",
    "            'image': base_im\n",
    "                .rotate(rotate * 4)\n",
    "                .transform((256, 256), Image.AFFINE, (1, shear / 10, 0, 0, 1, 0), Image.BICUBIC)\n",
    "        })\n",
    "ims = weave.save(ims)\n",
    "weave.show(ims)"
   ]
  },
  {
   "cell_type": "markdown",
   "id": "6583e01c",
   "metadata": {},
   "source": [
    "## Facet is fun!"
   ]
  },
  {
   "cell_type": "code",
   "execution_count": null,
   "id": "090d8ab8",
   "metadata": {},
   "outputs": [],
   "source": [
    "facet = weave.panels.Facet(ims,\n",
    "                           x=lambda row: row['rotate'],\n",
    "                           y=lambda row: row['shear'],\n",
    "                           select=lambda row: row[0]['image'])\n",
    "weave.show(facet, height=600)"
   ]
  },
  {
   "cell_type": "markdown",
   "id": "3708a052",
   "metadata": {},
   "source": [
    "## Create some ops to make it dynamic and interactive"
   ]
  },
  {
   "cell_type": "code",
   "execution_count": null,
   "id": "3387f185",
   "metadata": {},
   "outputs": [],
   "source": [
    "# weave-test-skip: in notebook declared ops can't run on server yet\n",
    "\n",
    "class ParamType(typing.TypedDict):\n",
    "    rotate: int\n",
    "    shear: int\n",
    "        \n",
    "@weave.op(render_info={'type': 'function'})\n",
    "def make_params(n_rotate: int, n_shear: int) -> list[ParamType]:\n",
    "    params = []\n",
    "    for rotate, shear in itertools.product(range(n_rotate), range(n_shear)):\n",
    "        params.append({\n",
    "            'rotate': rotate,\n",
    "            'shear': shear\n",
    "        })\n",
    "    return params\n",
    "\n",
    "@weave.op(render_info={'type': 'function'})\n",
    "def make_image(rotate: int, shear: int) -> Image.Image:\n",
    "    return (Image.linear_gradient('L')\n",
    "        .rotate(rotate * 4)\n",
    "        .transform((256, 256), Image.AFFINE, (1, shear / 10, 0, 0, 1, 0), Image.BICUBIC))\n",
    "\n",
    "facet = weave.panels.Facet(make_params(10, 5),\n",
    "                           x=lambda row: row['rotate'],\n",
    "                           y=lambda row: row['shear'],\n",
    "                           select=lambda row: make_image(row[0]['rotate'], row[0]['shear']))\n",
    "weave.show(facet, height=600)"
   ]
  }
 ],
 "metadata": {
  "kernelspec": {
   "display_name": "Python 3 (ipykernel)",
   "language": "python",
   "name": "python3"
  },
  "language_info": {
   "codemirror_mode": {
    "name": "ipython",
    "version": 3
   },
   "file_extension": ".py",
   "mimetype": "text/x-python",
   "name": "python",
   "nbconvert_exporter": "python",
   "pygments_lexer": "ipython3",
   "version": "3.9.7"
  }
 },
 "nbformat": 4,
 "nbformat_minor": 5
}
