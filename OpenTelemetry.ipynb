{
 "cells": [
  {
   "cell_type": "code",
   "execution_count": 1,
   "id": "0a53d554",
   "metadata": {},
   "outputs": [],
   "source": [
    "import opentelemetry"
   ]
  },
  {
   "cell_type": "code",
   "execution_count": 2,
   "id": "6dc0efe5",
   "metadata": {},
   "outputs": [],
   "source": [
    "from opentelemetry import trace, baggage\n",
    "from opentelemetry.sdk.trace import TracerProvider\n",
    "from opentelemetry.sdk.trace.export import BatchSpanProcessor, ConsoleSpanExporter\n",
    "from opentelemetry.sdk.resources import SERVICE_NAME, Resource\n",
    "from opentelemetry.trace import Status, StatusCode"
   ]
  },
  {
   "cell_type": "code",
   "execution_count": 3,
   "id": "a38d46ee",
   "metadata": {},
   "outputs": [],
   "source": [
    "resource = Resource(attributes={\n",
    "    SERVICE_NAME: \"your-service-name\"\n",
    "})\n",
    "\n",
    "provider = TracerProvider(resource=resource)\n",
    "processor = BatchSpanProcessor(ConsoleSpanExporter())\n",
    "provider.add_span_processor(processor)\n",
    "trace.set_tracer_provider(provider)"
   ]
  },
  {
   "cell_type": "code",
   "execution_count": 4,
   "id": "20043cbb",
   "metadata": {},
   "outputs": [],
   "source": [
    "tracer = trace.get_tracer(\"my.tracer.name\")"
   ]
  },
  {
   "cell_type": "code",
   "execution_count": 5,
   "id": "5535b182",
   "metadata": {},
   "outputs": [],
   "source": [
    "@tracer.start_as_current_span(\"do_work\")\n",
    "def do_work():\n",
    "    print(\"doing some work...\")"
   ]
  },
  {
   "cell_type": "code",
   "execution_count": 6,
   "id": "cfa6f4f0",
   "metadata": {},
   "outputs": [],
   "source": [
    "@tracer.start_as_current_span(\"add2\")\n",
    "def add2(a, b):\n",
    "    print(\"a + b\", a, b, a+b)\n",
    "    return a + b"
   ]
  },
  {
   "cell_type": "code",
   "execution_count": 7,
   "id": "a07d551a",
   "metadata": {},
   "outputs": [
    {
     "name": "stdout",
     "output_type": "stream",
     "text": [
      "a + b 1 5 6\n"
     ]
    },
    {
     "data": {
      "text/plain": [
       "6"
      ]
     },
     "execution_count": 7,
     "metadata": {},
     "output_type": "execute_result"
    },
    {
     "name": "stdout",
     "output_type": "stream",
     "text": [
      "{\n",
      "    \"name\": \"add2\",\n",
      "    \"context\": {\n",
      "        \"trace_id\": \"0x64113310e5bcdc94e0a21e7473e54137\",\n",
      "        \"span_id\": \"0x53314a87abd6dc5b\",\n",
      "        \"trace_state\": \"[]\"\n",
      "    },\n",
      "    \"kind\": \"SpanKind.INTERNAL\",\n",
      "    \"parent_id\": null,\n",
      "    \"start_time\": \"2023-08-09T00:22:49.436253Z\",\n",
      "    \"end_time\": \"2023-08-09T00:22:49.436475Z\",\n",
      "    \"status\": {\n",
      "        \"status_code\": \"UNSET\"\n",
      "    },\n",
      "    \"attributes\": {},\n",
      "    \"events\": [],\n",
      "    \"links\": [],\n",
      "    \"resource\": {\n",
      "        \"attributes\": {\n",
      "            \"service.name\": \"your-service-name\"\n",
      "        },\n",
      "        \"schema_url\": \"\"\n",
      "    }\n",
      "}\n"
     ]
    }
   ],
   "source": [
    "add2(1, 5)"
   ]
  },
  {
   "cell_type": "code",
   "execution_count": null,
   "id": "2f0be390",
   "metadata": {},
   "outputs": [],
   "source": [
    "current_span = trace.get_current_span()"
   ]
  },
  {
   "cell_type": "code",
   "execution_count": null,
   "id": "404e8d1b",
   "metadata": {},
   "outputs": [],
   "source": [
    "current_span.set_attribute('attr', 5)"
   ]
  },
  {
   "cell_type": "code",
   "execution_count": null,
   "id": "0ad9c82f",
   "metadata": {},
   "outputs": [],
   "source": [
    "dir(StatusCode)"
   ]
  },
  {
   "cell_type": "code",
   "execution_count": null,
   "id": "66dc8365",
   "metadata": {},
   "outputs": [],
   "source": [
    "with tracer.start_as_current_span(\"aspan\") as span:\n",
    "    ctx = baggage.set_baggage(\"context\", \"parent\")\n",
    "    span.set_attribute('attr', [1, 2, 3])\n",
    "    try:\n",
    "        1 / 0\n",
    "    except Exception as e:\n",
    "        span.set_status(Status(StatusCode.ERROR))\n",
    "        span.record_exception(e)"
   ]
  },
  {
   "cell_type": "code",
   "execution_count": null,
   "id": "2d8b664e",
   "metadata": {},
   "outputs": [],
   "source": [
    "@tracer.start_as_current_span('first-trace')"
   ]
  }
 ],
 "metadata": {
  "kernelspec": {
   "display_name": "Python 3 (ipykernel)",
   "language": "python",
   "name": "python3"
  },
  "language_info": {
   "codemirror_mode": {
    "name": "ipython",
    "version": 3
   },
   "file_extension": ".py",
   "mimetype": "text/x-python",
   "name": "python",
   "nbconvert_exporter": "python",
   "pygments_lexer": "ipython3",
   "version": "3.9.7"
  }
 },
 "nbformat": 4,
 "nbformat_minor": 5
}
