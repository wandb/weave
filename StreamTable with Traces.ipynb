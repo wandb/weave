{
 "cells": [
  {
   "cell_type": "code",
   "execution_count": null,
   "id": "de1d26cd",
   "metadata": {},
   "outputs": [],
   "source": [
    "import json\n",
    "import weave\n",
    "import dataclasses\n",
    "weave.use_frontend_devmode()\n",
    "from weave.ops_domain import trace_tree\n",
    "from weave.wandb_interface.wandb_stream_table import StreamTable"
   ]
  },
  {
   "cell_type": "code",
   "execution_count": null,
   "id": "0ee9b3df",
   "metadata": {},
   "outputs": [],
   "source": [
    "#stream = StreamTable('shawn/mystream/coolstream3')\n",
    "stream = StreamTable('shawn/weave-trace-test/test8')"
   ]
  },
  {
   "cell_type": "code",
   "execution_count": null,
   "id": "ca93d6f1",
   "metadata": {},
   "outputs": [],
   "source": [
    "span = trace_tree.Span(\n",
    "    _name='span1',\n",
    "    start_time_ms=0, end_time_ms=100,\n",
    "    attributes={'hello': 6},\n",
    "    span_kind=trace_tree.SpanKind.LLM,\n",
    "    child_spans=[\n",
    "        trace_tree.Span(\n",
    "            _name='span2', \n",
    "            start_time_ms=10,\n",
    "            end_time_ms=200,\n",
    "            span_kind=trace_tree.SpanKind.TOOL,\n",
    "            attributes={'hello': 9}\n",
    "        )]\n",
    ")"
   ]
  },
  {
   "cell_type": "code",
   "execution_count": null,
   "id": "715ec574",
   "metadata": {},
   "outputs": [],
   "source": [
    "tt = trace_tree.WBTraceTree(json.dumps(dataclasses.asdict(span)))"
   ]
  },
  {
   "cell_type": "code",
   "execution_count": null,
   "id": "b5aaf69d",
   "metadata": {},
   "outputs": [],
   "source": [
    "stream.log({'a': 50, 'trace': tt})\n",
    "stream.log({'a': 50, 'b': 100, 'trace': tt})"
   ]
  },
  {
   "cell_type": "code",
   "execution_count": null,
   "id": "583599ad",
   "metadata": {
    "scrolled": false
   },
   "outputs": [],
   "source": [
    "from weave import weave_internal\n",
    "\n",
    "# Had to do this gnarly hack to get the correct type for active_data()\n",
    "# this happens because Group doesn't correctly hoist granchild variables, so there\n",
    "# is still a var in the graph when we call table.active_data(), and refine doesn't\n",
    "# happen in python when there are vars\n",
    "# TODO: Fix with correct hoisting (at least I think that's the issue)\n",
    "def get_trace(table):\n",
    "    active = table.active_data()\n",
    "    active.type = stream.rows().type\n",
    "    return active['trace']\n",
    "\n",
    "board = weave.panels.Board(\n",
    "    vars={\n",
    "        'data': stream.rows(),\n",
    "    },\n",
    "    panels=[\n",
    "        weave.panels.BoardPanel(\n",
    "            # TODO: have to compute all columns we want here, there's no way to\n",
    "            # tell js or python to do auto-columns behavior.\n",
    "            lambda data: weave.panels.Table(data,\n",
    "                                            columns=[\n",
    "                                                lambda row: row['_timestamp'],\n",
    "                                                lambda row: row['span_count'],\n",
    "                                                lambda row: row['duration_ms'],\n",
    "                                                lambda row: row['request_size'],\n",
    "                                            ]\n",
    "                                           ),\n",
    "            id='table',\n",
    "            layout=weave.panels.BoardPanelLayout(x=0, y=0, w=24, h=6)\n",
    "        ),\n",
    "        weave.panels.BoardPanel(\n",
    "            lambda table: get_trace(table),\n",
    "            layout=weave.panels.BoardPanelLayout(x=0, y=6, w=24, h=6)\n",
    "        )\n",
    "    ]\n",
    ")\n",
    "board"
   ]
  },
  {
   "cell_type": "code",
   "execution_count": null,
   "id": "12482baa",
   "metadata": {},
   "outputs": [],
   "source": [
    "StreamTable('shawn/weave-trace-test2/test7').rows()"
   ]
  }
 ],
 "metadata": {
  "kernelspec": {
   "display_name": "Python 3 (ipykernel)",
   "language": "python",
   "name": "python3"
  },
  "language_info": {
   "codemirror_mode": {
    "name": "ipython",
    "version": 3
   },
   "file_extension": ".py",
   "mimetype": "text/x-python",
   "name": "python",
   "nbconvert_exporter": "python",
   "pygments_lexer": "ipython3",
   "version": "3.9.7"
  }
 },
 "nbformat": 4,
 "nbformat_minor": 5
}
