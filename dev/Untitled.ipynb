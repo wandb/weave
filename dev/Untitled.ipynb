{
 "cells": [
  {
   "cell_type": "code",
   "execution_count": 1,
   "id": "22424f5d-9937-42f1-b06a-261130ab4468",
   "metadata": {},
   "outputs": [],
   "source": [
    "import weave\n",
    "\n",
    "weave.init(\"test-project-weave\")\n",
    "\n",
    "@weave.op()\n",
    "def do_it(a):\n",
    "    return a + 1\n",
    "\n",
    "do_it(1)"
   ]
  },
  {
   "cell_type": "code",
   "execution_count": 5,
   "id": "3f3e6b68-c754-497a-89eb-ee3fcdc1e4cf",
   "metadata": {},
   "outputs": [
    {
     "data": {
      "text/plain": [
       "<weave.graph_client_wandb_art_st.GraphClientWandbArtStreamTable at 0x167931870>"
      ]
     },
     "execution_count": 5,
     "metadata": {},
     "output_type": "execute_result"
    }
   ],
   "source": []
  },
  {
   "cell_type": "code",
   "execution_count": 6,
   "id": "3dc08d2d-fae9-4200-977d-b4cf1ccd8bb0",
   "metadata": {},
   "outputs": [],
   "source": []
  },
  {
   "cell_type": "code",
   "execution_count": 7,
   "id": "aab12f2b-3687-4e72-a3de-55aaeeeaefe0",
   "metadata": {},
   "outputs": [
    {
     "name": "stdout",
     "output_type": "stream",
     "text": [
      "🍩 View trace: https://wandb.ai/timssweeney/test-project-weave/weaveflow/calls/5a846244-1e9e-4cc8-8a7a-d93a6ae9c8eb?convertToPeek=true\n"
     ]
    },
    {
     "data": {
      "text/plain": [
       "2"
      ]
     },
     "execution_count": 7,
     "metadata": {},
     "output_type": "execute_result"
    }
   ],
   "source": []
  },
  {
   "cell_type": "code",
   "execution_count": null,
   "id": "6f56e139-1ddc-4f0a-a027-d4c13ce4f0dc",
   "metadata": {},
   "outputs": [],
   "source": []
  }
 ],
 "metadata": {
  "kernelspec": {
   "display_name": "Python 3 (ipykernel)",
   "language": "python",
   "name": "python3"
  },
  "language_info": {
   "codemirror_mode": {
    "name": "ipython",
    "version": 3
   },
   "file_extension": ".py",
   "mimetype": "text/x-python",
   "name": "python",
   "nbconvert_exporter": "python",
   "pygments_lexer": "ipython3",
   "version": "3.10.8"
  }
 },
 "nbformat": 4,
 "nbformat_minor": 5
}
