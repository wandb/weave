{
 "cells": [
  {
   "cell_type": "code",
   "execution_count": 1,
   "id": "679b34ca-1d37-4991-8552-542bce21063a",
   "metadata": {},
   "outputs": [
    {
     "name": "stderr",
     "output_type": "stream",
     "text": [
      "\u001b[34m\u001b[1mwandb\u001b[0m: \u001b[32m\u001b[41mERROR\u001b[0m problem patching: monitor logging (via openai patch for example) is only supported with wandb client currently, auto-unpatching\n"
     ]
    },
    {
     "ename": "ValueError",
     "evalue": "monitor logging (via openai patch for example) is only supported with wandb client currently",
     "output_type": "error",
     "traceback": [
      "\u001b[0;31m---------------------------------------------------------------------------\u001b[0m",
      "\u001b[0;31mValueError\u001b[0m                                Traceback (most recent call last)",
      "File \u001b[0;32m~/Workspace/github/wandb/core/services/weave-python/weave-public/weave/monitoring/openai/openai.py:138\u001b[0m, in \u001b[0;36mpatch\u001b[0;34m()\u001b[0m\n\u001b[1;32m    137\u001b[0m \u001b[38;5;28;01mtry\u001b[39;00m:\n\u001b[0;32m--> 138\u001b[0m     \u001b[43m_patch\u001b[49m\u001b[43m(\u001b[49m\u001b[43m)\u001b[49m\n\u001b[1;32m    139\u001b[0m \u001b[38;5;28;01mexcept\u001b[39;00m \u001b[38;5;167;01mException\u001b[39;00m \u001b[38;5;28;01mas\u001b[39;00m e:\n",
      "File \u001b[0;32m~/Workspace/github/wandb/core/services/weave-python/weave-public/weave/monitoring/openai/openai.py:117\u001b[0m, in \u001b[0;36mpatch.<locals>._patch\u001b[0;34m()\u001b[0m\n\u001b[1;32m    115\u001b[0m unpatch_fqn \u001b[38;5;241m=\u001b[39m \u001b[38;5;124mf\u001b[39m\u001b[38;5;124m\"\u001b[39m\u001b[38;5;132;01m{\u001b[39;00munpatch\u001b[38;5;241m.\u001b[39m\u001b[38;5;18m__module__\u001b[39m\u001b[38;5;132;01m}\u001b[39;00m\u001b[38;5;124m.\u001b[39m\u001b[38;5;132;01m{\u001b[39;00munpatch\u001b[38;5;241m.\u001b[39m\u001b[38;5;18m__qualname__\u001b[39m\u001b[38;5;132;01m}\u001b[39;00m\u001b[38;5;124m()\u001b[39m\u001b[38;5;124m\"\u001b[39m\n\u001b[0;32m--> 117\u001b[0m \u001b[38;5;28;01mif\u001b[39;00m \u001b[43m_get_global_monitor\u001b[49m\u001b[43m(\u001b[49m\u001b[43m)\u001b[49m \u001b[38;5;129;01mis\u001b[39;00m \u001b[38;5;129;01mnot\u001b[39;00m \u001b[38;5;28;01mNone\u001b[39;00m:\n\u001b[1;32m    118\u001b[0m     \u001b[38;5;66;03m# info(f\"Patching OpenAI completions.  To unpatch, call {unpatch_fqn}\")\u001b[39;00m\n\u001b[1;32m    120\u001b[0m     gc \u001b[38;5;241m=\u001b[39m graph_client_context\u001b[38;5;241m.\u001b[39mrequire_graph_client()\n",
      "File \u001b[0;32m~/Workspace/github/wandb/core/services/weave-python/weave-public/weave/monitoring/monitor.py:374\u001b[0m, in \u001b[0;36m_get_global_monitor\u001b[0;34m()\u001b[0m\n\u001b[1;32m    371\u001b[0m \u001b[38;5;28;01mif\u001b[39;00m \u001b[38;5;129;01mnot\u001b[39;00m \u001b[38;5;28misinstance\u001b[39m(\n\u001b[1;32m    372\u001b[0m     client, graph_client_wandb_art_st\u001b[38;5;241m.\u001b[39mGraphClientWandbArtStreamTable\n\u001b[1;32m    373\u001b[0m ):\n\u001b[0;32m--> 374\u001b[0m     \u001b[38;5;28;01mraise\u001b[39;00m \u001b[38;5;167;01mValueError\u001b[39;00m(\n\u001b[1;32m    375\u001b[0m         \u001b[38;5;124m\"\u001b[39m\u001b[38;5;124mmonitor logging (via openai patch for example) is only supported with wandb client currently\u001b[39m\u001b[38;5;124m\"\u001b[39m\n\u001b[1;32m    376\u001b[0m     )\n\u001b[1;32m    377\u001b[0m \u001b[38;5;28;01mreturn\u001b[39;00m Monitor(client\u001b[38;5;241m.\u001b[39mruns_st)\n",
      "\u001b[0;31mValueError\u001b[0m: monitor logging (via openai patch for example) is only supported with wandb client currently",
      "\nDuring handling of the above exception, another exception occurred:\n",
      "\u001b[0;31mValueError\u001b[0m                                Traceback (most recent call last)",
      "Cell \u001b[0;32mIn[1], line 4\u001b[0m\n\u001b[1;32m      1\u001b[0m \u001b[38;5;28;01mimport\u001b[39;00m \u001b[38;5;21;01mweave\u001b[39;00m\n\u001b[1;32m      2\u001b[0m \u001b[38;5;28;01mimport\u001b[39;00m \u001b[38;5;21;01mdatetime\u001b[39;00m\n\u001b[0;32m----> 4\u001b[0m \u001b[43mweave\u001b[49m\u001b[38;5;241;43m.\u001b[39;49m\u001b[43minit_trace_client\u001b[49m\u001b[43m(\u001b[49m\u001b[38;5;124;43m\"\u001b[39;49m\u001b[38;5;124;43mtimssweeney/weave_dev_1\u001b[39;49m\u001b[38;5;124;43m\"\u001b[39;49m\u001b[43m)\u001b[49m\n\u001b[1;32m      6\u001b[0m \u001b[38;5;129m@weave\u001b[39m\u001b[38;5;241m.\u001b[39mtype()\n\u001b[1;32m      7\u001b[0m \u001b[38;5;28;01mclass\u001b[39;00m \u001b[38;5;21;01mNumberHolder\u001b[39;00m:\n\u001b[1;32m      8\u001b[0m     val: \u001b[38;5;28mint\u001b[39m\n",
      "File \u001b[0;32m~/Workspace/github/wandb/core/services/weave-python/weave-public/weave/api.py:180\u001b[0m, in \u001b[0;36minit_trace_client\u001b[0;34m(project_name)\u001b[0m\n\u001b[1;32m    179\u001b[0m \u001b[38;5;28;01mdef\u001b[39;00m \u001b[38;5;21minit_trace_client\u001b[39m(project_name: \u001b[38;5;28mstr\u001b[39m) \u001b[38;5;241m-\u001b[39m\u001b[38;5;241m>\u001b[39m _graph_client\u001b[38;5;241m.\u001b[39mGraphClient:\n\u001b[0;32m--> 180\u001b[0m     \u001b[38;5;28;01mreturn\u001b[39;00m \u001b[43m_weave_init\u001b[49m\u001b[38;5;241;43m.\u001b[39;49m\u001b[43minit_trace_remote\u001b[49m\u001b[43m(\u001b[49m\u001b[43mproject_name\u001b[49m\u001b[43m)\u001b[49m\u001b[38;5;241m.\u001b[39mclient\n",
      "File \u001b[0;32m~/Workspace/github/wandb/core/services/weave-python/weave-public/weave/weave_init.py:95\u001b[0m, in \u001b[0;36minit_trace_remote\u001b[0;34m(project_name, trace_server_url)\u001b[0m\n\u001b[1;32m     90\u001b[0m init_client \u001b[38;5;241m=\u001b[39m InitializedClient(client)\n\u001b[1;32m     92\u001b[0m \u001b[38;5;66;03m# autopatching is only supporte for the wandb client, because OpenAI calls are not\u001b[39;00m\n\u001b[1;32m     93\u001b[0m \u001b[38;5;66;03m# logged in local mode currently. When that's fixed, this autopatch call can be\u001b[39;00m\n\u001b[1;32m     94\u001b[0m \u001b[38;5;66;03m# moved to InitializedClient.__init__\u001b[39;00m\n\u001b[0;32m---> 95\u001b[0m \u001b[43mautopatch\u001b[49m\u001b[38;5;241;43m.\u001b[39;49m\u001b[43mautopatch\u001b[49m\u001b[43m(\u001b[49m\u001b[43m)\u001b[49m\n\u001b[1;32m     97\u001b[0m \u001b[38;5;28;01mreturn\u001b[39;00m init_client\n",
      "File \u001b[0;32m~/Workspace/github/wandb/core/services/weave-python/weave-public/weave/autopatch.py:25\u001b[0m, in \u001b[0;36mautopatch\u001b[0;34m()\u001b[0m\n\u001b[1;32m     24\u001b[0m \u001b[38;5;28;01mdef\u001b[39;00m \u001b[38;5;21mautopatch\u001b[39m() \u001b[38;5;241m-\u001b[39m\u001b[38;5;241m>\u001b[39m \u001b[38;5;28;01mNone\u001b[39;00m:\n\u001b[0;32m---> 25\u001b[0m     \u001b[43mautopatch_openai\u001b[49m\u001b[43m(\u001b[49m\u001b[43m)\u001b[49m\n",
      "File \u001b[0;32m~/Workspace/github/wandb/core/services/weave-python/weave-public/weave/autopatch.py:21\u001b[0m, in \u001b[0;36mautopatch_openai\u001b[0;34m()\u001b[0m\n\u001b[1;32m     18\u001b[0m     \u001b[38;5;28;01mreturn\u001b[39;00m\n\u001b[1;32m     19\u001b[0m \u001b[38;5;28;01mfrom\u001b[39;00m \u001b[38;5;21;01mweave\u001b[39;00m\u001b[38;5;21;01m.\u001b[39;00m\u001b[38;5;21;01mmonitoring\u001b[39;00m\u001b[38;5;21;01m.\u001b[39;00m\u001b[38;5;21;01mopenai\u001b[39;00m \u001b[38;5;28;01mimport\u001b[39;00m patch\n\u001b[0;32m---> 21\u001b[0m \u001b[43mpatch\u001b[49m\u001b[43m(\u001b[49m\u001b[43m)\u001b[49m\n",
      "File \u001b[0;32m~/Workspace/github/wandb/core/services/weave-python/weave-public/weave/monitoring/openai/openai.py:141\u001b[0m, in \u001b[0;36mpatch\u001b[0;34m()\u001b[0m\n\u001b[1;32m    139\u001b[0m \u001b[38;5;28;01mexcept\u001b[39;00m \u001b[38;5;167;01mException\u001b[39;00m \u001b[38;5;28;01mas\u001b[39;00m e:\n\u001b[1;32m    140\u001b[0m     error(\u001b[38;5;124mf\u001b[39m\u001b[38;5;124m\"\u001b[39m\u001b[38;5;124mproblem patching: \u001b[39m\u001b[38;5;132;01m{\u001b[39;00me\u001b[38;5;132;01m}\u001b[39;00m\u001b[38;5;124m, auto-unpatching\u001b[39m\u001b[38;5;124m\"\u001b[39m)\n\u001b[0;32m--> 141\u001b[0m     \u001b[43munpatch\u001b[49m\u001b[43m(\u001b[49m\u001b[43m)\u001b[49m\n\u001b[1;32m    142\u001b[0m     \u001b[38;5;28;01mraise\u001b[39;00m \u001b[38;5;167;01mException\u001b[39;00m \u001b[38;5;28;01mfrom\u001b[39;00m \u001b[38;5;21;01me\u001b[39;00m\n",
      "File \u001b[0;32m~/Workspace/github/wandb/core/services/weave-python/weave-public/weave/monitoring/openai/openai.py:146\u001b[0m, in \u001b[0;36munpatch\u001b[0;34m()\u001b[0m\n\u001b[1;32m    145\u001b[0m \u001b[38;5;28;01mdef\u001b[39;00m \u001b[38;5;21munpatch\u001b[39m() \u001b[38;5;241m-\u001b[39m\u001b[38;5;241m>\u001b[39m \u001b[38;5;28;01mNone\u001b[39;00m:\n\u001b[0;32m--> 146\u001b[0m     \u001b[38;5;28;01mif\u001b[39;00m \u001b[43m_get_global_monitor\u001b[49m\u001b[43m(\u001b[49m\u001b[43m)\u001b[49m \u001b[38;5;129;01mis\u001b[39;00m \u001b[38;5;129;01mnot\u001b[39;00m \u001b[38;5;28;01mNone\u001b[39;00m:\n\u001b[1;32m    147\u001b[0m         info(\u001b[38;5;124m\"\u001b[39m\u001b[38;5;124mUnpatching OpenAI completions\u001b[39m\u001b[38;5;124m\"\u001b[39m)\n\u001b[1;32m    148\u001b[0m         openai\u001b[38;5;241m.\u001b[39mresources\u001b[38;5;241m.\u001b[39mchat\u001b[38;5;241m.\u001b[39mcompletions\u001b[38;5;241m.\u001b[39mCompletions\u001b[38;5;241m.\u001b[39mcreate \u001b[38;5;241m=\u001b[39m old_create\n",
      "File \u001b[0;32m~/Workspace/github/wandb/core/services/weave-python/weave-public/weave/monitoring/monitor.py:374\u001b[0m, in \u001b[0;36m_get_global_monitor\u001b[0;34m()\u001b[0m\n\u001b[1;32m    370\u001b[0m \u001b[38;5;28;01mif\u001b[39;00m client \u001b[38;5;129;01mis\u001b[39;00m \u001b[38;5;129;01mnot\u001b[39;00m \u001b[38;5;28;01mNone\u001b[39;00m:\n\u001b[1;32m    371\u001b[0m     \u001b[38;5;28;01mif\u001b[39;00m \u001b[38;5;129;01mnot\u001b[39;00m \u001b[38;5;28misinstance\u001b[39m(\n\u001b[1;32m    372\u001b[0m         client, graph_client_wandb_art_st\u001b[38;5;241m.\u001b[39mGraphClientWandbArtStreamTable\n\u001b[1;32m    373\u001b[0m     ):\n\u001b[0;32m--> 374\u001b[0m         \u001b[38;5;28;01mraise\u001b[39;00m \u001b[38;5;167;01mValueError\u001b[39;00m(\n\u001b[1;32m    375\u001b[0m             \u001b[38;5;124m\"\u001b[39m\u001b[38;5;124mmonitor logging (via openai patch for example) is only supported with wandb client currently\u001b[39m\u001b[38;5;124m\"\u001b[39m\n\u001b[1;32m    376\u001b[0m         )\n\u001b[1;32m    377\u001b[0m     \u001b[38;5;28;01mreturn\u001b[39;00m Monitor(client\u001b[38;5;241m.\u001b[39mruns_st)\n\u001b[1;32m    378\u001b[0m \u001b[38;5;28;01mreturn\u001b[39;00m _global_monitor\n",
      "\u001b[0;31mValueError\u001b[0m: monitor logging (via openai patch for example) is only supported with wandb client currently"
     ]
    }
   ],
   "source": [
    "import weave\n",
    "import datetime\n",
    "\n",
    "weave.init_trace_client(\"timssweeney/weave_dev_1\")\n",
    "\n",
    "@weave.type()\n",
    "class NumberHolder:\n",
    "    val: int\n",
    "\n",
    "@weave.op()\n",
    "def add(a, b):\n",
    "    return NumberHolder(a.val + b.val)\n",
    "\n",
    "@weave.op()\n",
    "def mult(a, b):\n",
    "    return NumberHolder(a.val * b.val)\n",
    "\n",
    "@weave.op()\n",
    "def line(m, b, x):\n",
    "    return add(mult(m, x), b)\n",
    "\n",
    "start_time = datetime.datetime.now()\n",
    "loop_count = 0\n",
    "row_count = 0\n",
    "for m in range(loop_count):\n",
    "    saved_m = NumberHolder(m)\n",
    "    weave.publish(saved_m)\n",
    "    # print(\"HERE\", saved_m)\n",
    "    for b in range(loop_count):\n",
    "        for x in range(loop_count):\n",
    "            line(saved_m, NumberHolder(b), NumberHolder(x))\n",
    "            row_count += 1\n",
    "            elapsed = datetime.datetime.now() - start_time\n",
    "    # print(\"ROWS\", row_count, \"Time\", elapsed, \"time/row\", elapsed / row_count)"
   ]
  },
  {
   "cell_type": "code",
   "execution_count": 16,
   "id": "e80a2be9-4779-47fb-b972-a6562c5889b4",
   "metadata": {},
   "outputs": [],
   "source": [
    "import clickhouse_connect"
   ]
  },
  {
   "cell_type": "code",
   "execution_count": 18,
   "id": "0980bfb2-d07b-45a2-821a-f59f7bd98239",
   "metadata": {},
   "outputs": [],
   "source": [
    "client = clickhouse_connect.get_client(host=\"localhost\")"
   ]
  },
  {
   "cell_type": "code",
   "execution_count": 27,
   "id": "335a8626-5d49-47ef-a421-557685cc3ed6",
   "metadata": {},
   "outputs": [
    {
     "data": {
      "text/plain": [
       "<clickhouse_connect.driver.summary.QuerySummary at 0x158b36920>"
      ]
     },
     "execution_count": 27,
     "metadata": {},
     "output_type": "execute_result"
    }
   ],
   "source": [
    "client.command(\"SHOW TABLES\")"
   ]
  },
  {
   "cell_type": "code",
   "execution_count": 26,
   "id": "55bbe200-8cb9-4737-974a-295a42c24382",
   "metadata": {},
   "outputs": [
    {
     "data": {
      "text/plain": [
       "<clickhouse_connect.driver.summary.QuerySummary at 0x158aac2e0>"
      ]
     },
     "execution_count": 26,
     "metadata": {},
     "output_type": "execute_result"
    }
   ],
   "source": [
    "client.command(\"DROP TABLE objects\")"
   ]
  },
  {
   "cell_type": "code",
   "execution_count": 28,
   "id": "4ea615de-97d1-4c71-a8db-dcf827891cc7",
   "metadata": {},
   "outputs": [
    {
     "data": {
      "text/plain": [
       "<clickhouse_connect.driver.summary.QuerySummary at 0x158ac5b10>"
      ]
     },
     "execution_count": 28,
     "metadata": {},
     "output_type": "execute_result"
    }
   ],
   "source": [
    "command = \"\"\"\n",
    "    CREATE TABLE IF NOT EXISTS\n",
    "    call_start (\n",
    "        entity String,\n",
    "        project String,\n",
    "        id String,\n",
    "        trace_id String NULL,\n",
    "        parent_id String NULL,\n",
    "        name String,\n",
    "        start_datetime DateTime64(3),\n",
    "        inputs Map(String, String),\n",
    "        attributes Map(String, String),\n",
    "        start_created_at DateTime64(3) DEFAULT now64(3),\n",
    "    )\n",
    "    ENGINE = MergeTree\n",
    "    ORDER BY (entity, project, id)\n",
    "\"\"\"\n",
    "\n",
    "client.command(command)"
   ]
  },
  {
   "cell_type": "code",
   "execution_count": 31,
   "id": "c8ffb268-732d-4d8b-8d9c-007b4e1685b3",
   "metadata": {},
   "outputs": [
    {
     "data": {
      "text/plain": [
       "<clickhouse_connect.driver.summary.QuerySummary at 0x158b503d0>"
      ]
     },
     "execution_count": 31,
     "metadata": {},
     "output_type": "execute_result"
    }
   ],
   "source": [
    "command = \"\"\"\n",
    "    CREATE TABLE IF NOT EXISTS\n",
    "    call_end (\n",
    "        entity String,\n",
    "        project String,\n",
    "        id String,\n",
    "        end_datetime DateTime64(3),\n",
    "        \n",
    "        outputs Map(String, String),\n",
    "        summary Map(String, String),\n",
    "        exception String NULL,\n",
    "        \n",
    "        end_created_at DateTime64(3) DEFAULT now64(3),\n",
    "    )\n",
    "    ENGINE = MergeTree\n",
    "    ORDER BY (entity, project, id)\n",
    "\"\"\"\n",
    "client.command(command)"
   ]
  },
  {
   "cell_type": "code",
   "execution_count": 38,
   "id": "7592bd8f-7daa-432e-a31e-a679a314c5eb",
   "metadata": {},
   "outputs": [
    {
     "ename": "DatabaseError",
     "evalue": ":HTTPDriver for http://localhost:8123 returned response code 400)\n Code: 62. DB::Exception: Cannot parse expression of type Map(String, String) here: {'b': 'b'},\n    )\n: While executing ValuesBlockInputFormat. (SYNTAX_ERROR) (version 24.2.1.1007 (official build))\n",
     "output_type": "error",
     "traceback": [
      "\u001b[0;31m---------------------------------------------------------------------------\u001b[0m",
      "\u001b[0;31mDatabaseError\u001b[0m                             Traceback (most recent call last)",
      "Cell \u001b[0;32mIn[38], line 24\u001b[0m\n\u001b[1;32m      1\u001b[0m command \u001b[38;5;241m=\u001b[39m \u001b[38;5;124m\"\"\"\u001b[39m\n\u001b[1;32m      2\u001b[0m \u001b[38;5;124m    INSERT INTO call_start (\u001b[39m\n\u001b[1;32m      3\u001b[0m \u001b[38;5;124m        entity,\u001b[39m\n\u001b[0;32m   (...)\u001b[0m\n\u001b[1;32m     22\u001b[0m \u001b[38;5;124m    )\u001b[39m\n\u001b[1;32m     23\u001b[0m \u001b[38;5;124m\"\"\"\u001b[39m\n\u001b[0;32m---> 24\u001b[0m \u001b[43mclient\u001b[49m\u001b[38;5;241;43m.\u001b[39;49m\u001b[43mcommand\u001b[49m\u001b[43m(\u001b[49m\u001b[43mcommand\u001b[49m\u001b[43m)\u001b[49m\n",
      "File \u001b[0;32m~/.pyenv/versions/wandb-weave/lib/python3.10/site-packages/clickhouse_connect/driver/httpclient.py:335\u001b[0m, in \u001b[0;36mHttpClient.command\u001b[0;34m(self, cmd, parameters, data, settings, use_database, external_data)\u001b[0m\n\u001b[1;32m    332\u001b[0m params\u001b[38;5;241m.\u001b[39mupdate(\u001b[38;5;28mself\u001b[39m\u001b[38;5;241m.\u001b[39m_validate_settings(settings \u001b[38;5;129;01mor\u001b[39;00m {}))\n\u001b[1;32m    334\u001b[0m method \u001b[38;5;241m=\u001b[39m \u001b[38;5;124m'\u001b[39m\u001b[38;5;124mPOST\u001b[39m\u001b[38;5;124m'\u001b[39m \u001b[38;5;28;01mif\u001b[39;00m payload \u001b[38;5;129;01mor\u001b[39;00m fields \u001b[38;5;28;01melse\u001b[39;00m \u001b[38;5;124m'\u001b[39m\u001b[38;5;124mGET\u001b[39m\u001b[38;5;124m'\u001b[39m\n\u001b[0;32m--> 335\u001b[0m response \u001b[38;5;241m=\u001b[39m \u001b[38;5;28;43mself\u001b[39;49m\u001b[38;5;241;43m.\u001b[39;49m\u001b[43m_raw_request\u001b[49m\u001b[43m(\u001b[49m\u001b[43mpayload\u001b[49m\u001b[43m,\u001b[49m\u001b[43m \u001b[49m\u001b[43mparams\u001b[49m\u001b[43m,\u001b[49m\u001b[43m \u001b[49m\u001b[43mheaders\u001b[49m\u001b[43m,\u001b[49m\u001b[43m \u001b[49m\u001b[43mmethod\u001b[49m\u001b[43m,\u001b[49m\u001b[43m \u001b[49m\u001b[43mfields\u001b[49m\u001b[38;5;241;43m=\u001b[39;49m\u001b[43mfields\u001b[49m\u001b[43m)\u001b[49m\n\u001b[1;32m    336\u001b[0m \u001b[38;5;28;01mif\u001b[39;00m response\u001b[38;5;241m.\u001b[39mdata:\n\u001b[1;32m    337\u001b[0m     \u001b[38;5;28;01mtry\u001b[39;00m:\n",
      "File \u001b[0;32m~/.pyenv/versions/wandb-weave/lib/python3.10/site-packages/clickhouse_connect/driver/httpclient.py:437\u001b[0m, in \u001b[0;36mHttpClient._raw_request\u001b[0;34m(self, data, params, headers, method, retries, stream, server_wait, fields, error_handler)\u001b[0m\n\u001b[1;32m    435\u001b[0m     error_handler(response)\n\u001b[1;32m    436\u001b[0m \u001b[38;5;28;01melse\u001b[39;00m:\n\u001b[0;32m--> 437\u001b[0m     \u001b[38;5;28;43mself\u001b[39;49m\u001b[38;5;241;43m.\u001b[39;49m\u001b[43m_error_handler\u001b[49m\u001b[43m(\u001b[49m\u001b[43mresponse\u001b[49m\u001b[43m)\u001b[49m\n",
      "File \u001b[0;32m~/.pyenv/versions/wandb-weave/lib/python3.10/site-packages/clickhouse_connect/driver/httpclient.py:361\u001b[0m, in \u001b[0;36mHttpClient._error_handler\u001b[0;34m(self, response, retried)\u001b[0m\n\u001b[1;32m    359\u001b[0m     err_msg \u001b[38;5;241m=\u001b[39m common\u001b[38;5;241m.\u001b[39mformat_error(err_content\u001b[38;5;241m.\u001b[39mdecode(errors\u001b[38;5;241m=\u001b[39m\u001b[38;5;124m'\u001b[39m\u001b[38;5;124mbackslashreplace\u001b[39m\u001b[38;5;124m'\u001b[39m))\n\u001b[1;32m    360\u001b[0m     err_str \u001b[38;5;241m=\u001b[39m \u001b[38;5;124mf\u001b[39m\u001b[38;5;124m'\u001b[39m\u001b[38;5;124m:\u001b[39m\u001b[38;5;132;01m{\u001b[39;00merr_str\u001b[38;5;132;01m}\u001b[39;00m\u001b[38;5;130;01m\\n\u001b[39;00m\u001b[38;5;124m \u001b[39m\u001b[38;5;132;01m{\u001b[39;00merr_msg\u001b[38;5;132;01m}\u001b[39;00m\u001b[38;5;124m'\u001b[39m\n\u001b[0;32m--> 361\u001b[0m \u001b[38;5;28;01mraise\u001b[39;00m OperationalError(err_str) \u001b[38;5;28;01mif\u001b[39;00m retried \u001b[38;5;28;01melse\u001b[39;00m DatabaseError(err_str) \u001b[38;5;28;01mfrom\u001b[39;00m \u001b[38;5;28mNone\u001b[39m\n",
      "\u001b[0;31mDatabaseError\u001b[0m: :HTTPDriver for http://localhost:8123 returned response code 400)\n Code: 62. DB::Exception: Cannot parse expression of type Map(String, String) here: {'b': 'b'},\n    )\n: While executing ValuesBlockInputFormat. (SYNTAX_ERROR) (version 24.2.1.1007 (official build))\n"
     ]
    }
   ],
   "source": [
    "command = \"\"\"\n",
    "    INSERT INTO call_start (\n",
    "        entity,\n",
    "        project,\n",
    "        id,\n",
    "        trace_id,\n",
    "        parent_id,\n",
    "        name,\n",
    "        start_datetime,\n",
    "        inputs,\n",
    "        attributes\n",
    "    ) VALUES (\n",
    "        'entity',\n",
    "        'project',\n",
    "        'id',\n",
    "        NULL,\n",
    "        NULL,\n",
    "        'name',\n",
    "        now64(3),\n",
    "        {'a': 'a'},\n",
    "        {'b': 'b'},\n",
    "    )\n",
    "\"\"\"\n",
    "client.command(command)"
   ]
  },
  {
   "cell_type": "code",
   "execution_count": 313,
   "id": "515251b9-fd46-4f70-9b78-e151a14e2271",
   "metadata": {},
   "outputs": [
    {
     "name": "stdout",
     "output_type": "stream",
     "text": [
      "deleting objects_deduplicated\n",
      "deleting objects_deduplicated_view\n",
      "deleting objects_raw\n",
      "<clickhouse_connect.driver.summary.QuerySummary object at 0x15aaf2830>\n",
      "insert\n",
      "insert\n",
      "insert\n",
      "insert\n",
      "insert\n",
      "insert\n",
      "insert\n",
      "insert\n",
      "insert\n",
      "insert\n",
      "insert\n",
      "insert\n",
      "insert\n",
      "insert\n",
      "insert\n",
      "insert\n",
      "insert\n",
      "insert\n",
      "insert\n",
      "insert\n",
      "   entity  project   name   version_hash                 created_datetime  \\\n",
      "0  entity  project  namea  version_hash0 2024-02-21 19:05:53.701000-08:00   \n",
      "1  entity  project  namea  version_hash1 2024-02-21 19:05:53.724000-08:00   \n",
      "2  entity  project  namea  version_hash2 2024-02-21 19:05:53.941000-08:00   \n",
      "3  entity  project  namea  version_hash3 2024-02-21 19:05:54.864000-08:00   \n",
      "4  entity  project  namea  version_hash4 2024-02-21 19:05:54.889000-08:00   \n",
      "5  entity  project  nameb  version_hash0 2024-02-21 19:05:53.708000-08:00   \n",
      "6  entity  project  nameb  version_hash1 2024-02-21 19:05:53.730000-08:00   \n",
      "7  entity  project  nameb  version_hash2 2024-02-21 19:05:53.946000-08:00   \n",
      "8  entity  project  nameb  version_hash3 2024-02-21 19:05:54.871000-08:00   \n",
      "9  entity  project  nameb  version_hash4 2024-02-21 19:05:54.894000-08:00   \n",
      "\n",
      "  any(type_dict_dump) any(b64_file_map) any(metadata_dict_dump)  \\\n",
      "0      type_dict_dump        {'a': 'a'}      metadata_dict_dump   \n",
      "1      type_dict_dump        {'a': 'a'}      metadata_dict_dump   \n",
      "2      type_dict_dump        {'a': 'a'}      metadata_dict_dump   \n",
      "3      type_dict_dump        {'a': 'a'}      metadata_dict_dump   \n",
      "4      type_dict_dump        {'a': 'a'}      metadata_dict_dump   \n",
      "5      type_dict_dump        {'a': 'a'}      metadata_dict_dump   \n",
      "6      type_dict_dump        {'a': 'a'}      metadata_dict_dump   \n",
      "7      type_dict_dump        {'a': 'a'}      metadata_dict_dump   \n",
      "8      type_dict_dump        {'a': 'a'}      metadata_dict_dump   \n",
      "9      type_dict_dump        {'a': 'a'}      metadata_dict_dump   \n",
      "\n",
      "   version_index  is_latest  \n",
      "0              1          0  \n",
      "1              2          0  \n",
      "2              3          0  \n",
      "3              4          0  \n",
      "4              5          1  \n",
      "5              1          0  \n",
      "6              2          0  \n",
      "7              3          0  \n",
      "8              4          0  \n",
      "9              5          1  \n",
      "objects_deduplicated\n",
      "-----\n",
      "entity\tString\t\t\t\t\t\n",
      "project\tString\t\t\t\t\t\n",
      "name\tString\t\t\t\t\t\n",
      "version_hash\tString\t\t\t\t\t\n",
      "orig_created_datetime\tSimpleAggregateFunction(min, DateTime64(3))\t\t\t\t\t\n",
      "type_dict_dump\tSimpleAggregateFunction(any, String)\t\t\t\t\t\n",
      "b64_file_map\tSimpleAggregateFunction(any, Map(String, String))\t\t\t\t\t\n",
      "metadata_dict_dump\tSimpleAggregateFunction(any, String)\t\t\t\t\t\n",
      "\n",
      "objects_deduplicated_view\n",
      "-----\n",
      "entity\tString\t\t\t\t\t\n",
      "project\tString\t\t\t\t\t\n",
      "name\tString\t\t\t\t\t\n",
      "version_hash\tString\t\t\t\t\t\n",
      "orig_created_datetime\tSimpleAggregateFunction(min, DateTime64(3))\t\t\t\t\t\n",
      "type_dict_dump\tSimpleAggregateFunction(any, String)\t\t\t\t\t\n",
      "b64_file_map\tSimpleAggregateFunction(any, Map(String, String))\t\t\t\t\t\n",
      "metadata_dict_dump\tSimpleAggregateFunction(any, String)\t\t\t\t\t\n",
      "\n",
      "objects_raw\n",
      "-----\n",
      "entity\tString\t\t\t\t\t\n",
      "project\tString\t\t\t\t\t\n",
      "name\tString\t\t\t\t\t\n",
      "version_hash\tString\t\t\t\t\t\n",
      "created_datetime\tDateTime64(3)\t\t\t\t\t\n",
      "type_dict_dump\tString\t\t\t\t\t\n",
      "b64_file_map\tMap(String, String)\t\t\t\t\t\n",
      "metadata_dict_dump\tString\t\t\t\t\t\n",
      "db_row_created_at\tDateTime64(3)\tDEFAULT\tnow64(3)\t\t\t\n",
      "\n",
      "objects_versioned\n",
      "-----\n",
      "entity\tString\t\t\t\t\t\n",
      "project\tString\t\t\t\t\t\n",
      "name\tString\t\t\t\t\t\n",
      "version_hash\tString\t\t\t\t\t\n",
      "created_datetime\tSimpleAggregateFunction(min, DateTime64(3))\t\t\t\t\t\n",
      "any(type_dict_dump)\tSimpleAggregateFunction(any, String)\t\t\t\t\t\n",
      "any(b64_file_map)\tMap(String, String)\t\t\t\t\t\n",
      "any(metadata_dict_dump)\tSimpleAggregateFunction(any, String)\t\t\t\t\t\n",
      "version_index\tUInt64\t\t\t\t\t\n",
      "is_latest\tUInt8\t\t\t\t\t\n",
      "\n"
     ]
    }
   ],
   "source": [
    "res = client.command(\"SHOW TABLES\")\n",
    "if type(res) == str:\n",
    "    table_names = res.split(\"\\n\")\n",
    "    for table_name in table_names:\n",
    "        if not table_name.startswith(\".\"):\n",
    "            print(\"deleting \" + table_name)\n",
    "            client.command(\"DROP TABLE IF EXISTS \" + table_name)\n",
    "    print(client.command(\"SHOW TABLES\"))\n",
    "\n",
    "\n",
    "\n",
    "client.command(\n",
    "    \"\"\"\n",
    "CREATE TABLE IF NOT EXISTS\n",
    "objects_raw (\n",
    "    entity String,\n",
    "    project String,\n",
    "    name String,\n",
    "    version_hash String,\n",
    "    created_datetime DateTime64(3),\n",
    "\n",
    "    type_dict_dump String,\n",
    "    b64_file_map Map(String, String),\n",
    "    metadata_dict_dump String,\n",
    "\n",
    "    db_row_created_at DateTime64(3) DEFAULT now64(3)\n",
    "\n",
    ")\n",
    "ENGINE = MergeTree\n",
    "ORDER BY (entity, project, name, version_hash)\n",
    "\"\"\"\n",
    ")\n",
    "\n",
    "client.command(\n",
    "    \"\"\"\n",
    "CREATE TABLE IF NOT EXISTS\n",
    "objects_deduplicated (\n",
    "    entity String,\n",
    "    project String,\n",
    "    name String,\n",
    "    version_hash String,\n",
    "    orig_created_datetime SimpleAggregateFunction(min, DateTime64(3)),\n",
    "\n",
    "    type_dict_dump SimpleAggregateFunction(any, String),\n",
    "    b64_file_map SimpleAggregateFunction(any, Map(String, String)),\n",
    "    metadata_dict_dump SimpleAggregateFunction(any, String),\n",
    ")\n",
    "ENGINE = AggregatingMergeTree\n",
    "ORDER BY (entity, project, name, version_hash)\n",
    "\"\"\"\n",
    ")\n",
    "\n",
    "\n",
    "client.command(\"\"\"\n",
    "CREATE MATERIALIZED VIEW objects_deduplicated_view TO objects_deduplicated\n",
    "AS\n",
    "SELECT\n",
    "    entity,\n",
    "    project,\n",
    "    name,\n",
    "    version_hash,\n",
    "    minSimpleState(created_datetime) as orig_created_datetime,\n",
    "\n",
    "    anySimpleState(type_dict_dump) as type_dict_dump,\n",
    "    anySimpleState(b64_file_map) as b64_file_map,\n",
    "    anySimpleState(metadata_dict_dump) as metadata_dict_dump\n",
    "    \n",
    "FROM objects_raw\n",
    "GROUP BY entity, project, name, version_hash\n",
    "\"\"\")\n",
    "\n",
    "\n",
    "\n",
    "# The following view is just to workout version indexing and latest keys\n",
    "client.command(\"\"\"\n",
    "CREATE VIEW objects_versioned\n",
    "AS\n",
    "SELECT\n",
    "    entity,\n",
    "    project,\n",
    "    name,\n",
    "    version_hash,\n",
    "    min(orig_created_datetime) as created_datetime,\n",
    "    any(type_dict_dump) as type_dict_dump,\n",
    "    any(b64_file_map) as b64_file_map,\n",
    "    any(metadata_dict_dump) as metadata_dict_dump,\n",
    "    row_number() OVER w1 as version_index,\n",
    "    1 == count(*) OVER w1 as is_latest\n",
    "FROM objects_deduplicated\n",
    "GROUP BY entity, project, name, version_hash\n",
    "WINDOW\n",
    "    w1 AS (PARTITION BY entity, project, name ORDER BY min(orig_created_datetime) ASC Rows BETWEEN CURRENT ROW AND 1 FOLLOWING)\n",
    "\"\"\")\n",
    "\n",
    "\n",
    "for v in range(5):\n",
    "    for dup in range(2):\n",
    "        for i in ['a', 'b']:\n",
    "            print(\"insert\")\n",
    "            client.insert(\"objects_raw\", \n",
    "                          # data=[[\"entity\", \"project\", \"name\" + i, \"version_hash\" + str(v), datetime.datetime.now()]], \n",
    "                          # column_names=[\"entity\", \"project\", \"name\", \"version_hash\", \"created_datetime\"])\n",
    "                          data=[[\"entity\", \"project\", \"name\" + i, \"version_hash\" + str(v),  datetime.datetime.now(), \"type_dict_dump\", {'a': 'a'}, \"metadata_dict_dump\"]], \n",
    "                          column_names=[\"entity\", \"project\", \"name\", \"version_hash\", \"created_datetime\", \"type_dict_dump\", \"b64_file_map\", \"metadata_dict_dump\"])\n",
    "\n",
    "\n",
    "res = client.query_df(\"\"\"\n",
    "SELECT\n",
    "*\n",
    "    \n",
    "FROM objects_versioned\n",
    "\n",
    "\"\"\", use_none=True)\n",
    "\n",
    "print(res)\n",
    "\n",
    "\n",
    "# print(res)\n",
    "\n",
    "    # count(*) OVER (PARTITION BY name ORDER BY created_datetime ASC Rows BETWEEN UNBOUNDED PRECEDING AND CURRENT ROW) as version_index,\n",
    "# \n",
    "# client.command(\n",
    "#     \"\"\"\n",
    "# CREATE TABLE IF NOT EXISTS\n",
    "# objects_first (\n",
    "#     entity String,\n",
    "#     project String,\n",
    "#     name String,\n",
    "#     version_hash String,\n",
    "#     created_datetime DateTime64(3) DEFAULT now64(3),\n",
    "# )\n",
    "# ENGINE = MergeTree\n",
    "# ORDER BY (entity, project, name, version_hash)\n",
    "# \"\"\"\n",
    "# )\n",
    "\n",
    "\n",
    "\n",
    "\n",
    "res = client.command(\"SHOW TABLES\")\n",
    "table_names = res.split(\"\\n\")\n",
    "for table_name in table_names:\n",
    "    if not table_name.startswith(\".\"):\n",
    "        res = client.command(\"DESCRIBE TABLE \" + table_name)\n",
    "        print(table_name)\n",
    "        print(\"-----\")\n",
    "        print(\"\\t\".join(res))\n",
    "        print(\"\")"
   ]
  },
  {
   "cell_type": "code",
   "execution_count": 124,
   "id": "26be507b-1fc4-4ee7-9592-ac6be866baf6",
   "metadata": {},
   "outputs": [
    {
     "data": {
      "text/plain": [
       "[1, 1, 1, 1, 1, 1, 1, 1, 1, 1]"
      ]
     },
     "execution_count": 124,
     "metadata": {},
     "output_type": "execute_result"
    }
   ],
   "source": [
    "[1] * 10"
   ]
  },
  {
   "cell_type": "code",
   "execution_count": 107,
   "id": "630ac372-8965-49a2-b6a4-11a793b7bf20",
   "metadata": {},
   "outputs": [
    {
     "data": {
      "text/plain": [
       "{'read_rows': '2',\n",
       " 'read_bytes': '315',\n",
       " 'written_rows': '2',\n",
       " 'written_bytes': '309',\n",
       " 'total_rows_to_read': '0',\n",
       " 'result_rows': '2',\n",
       " 'result_bytes': '309',\n",
       " 'elapsed_ns': '5053500',\n",
       " 'query_id': '0d78a67b-0218-49f5-a85b-5440ac562abc'}"
      ]
     },
     "execution_count": 107,
     "metadata": {},
     "output_type": "execute_result"
    }
   ],
   "source": [
    "res = client.insert(\n",
    "    \"calls_raw\",\n",
    "    data=[[\n",
    "        \"entity\",\n",
    "        \"project\",\n",
    "        \"id\",\n",
    "        \"trace_id\",\n",
    "        \"parent_id\",\n",
    "        \"name\",\n",
    "        datetime.datetime.now(),\n",
    "        \"{}\",\n",
    "        \"{}\",\n",
    "        []\n",
    "    ]],\n",
    "    column_names=[\n",
    "        \"entity\",\n",
    "        \"project\",\n",
    "        \"id\",\n",
    "        \"trace_id\",\n",
    "        \"parent_id\",\n",
    "        \"name\",\n",
    "        \"start_time\",\n",
    "        \"attributes_dump\",\n",
    "        \"inputs_dump\",\n",
    "        \"input_refs\"\n",
    "    ],\n",
    "    # column_type_names=all_obj_column_type_names_with_defaults_nullable,\n",
    ")\n",
    "res.summary"
   ]
  },
  {
   "cell_type": "code",
   "execution_count": 116,
   "id": "d2c8d1b7-4723-46b8-bc5d-e22a79f422f7",
   "metadata": {},
   "outputs": [
    {
     "name": "stdout",
     "output_type": "stream",
     "text": [
      "{'read_rows': '2', 'read_bytes': '350', 'written_rows': '0', 'written_bytes': '0', 'total_rows_to_read': '2', 'result_rows': '1', 'result_bytes': '19966', 'elapsed_ns': '5334917', 'query_id': '09464287-f88a-469b-84a1-8ba29ab478f2'}\n"
     ]
    },
    {
     "data": {
      "text/plain": [
       "[('entity',\n",
       "  'project',\n",
       "  'id',\n",
       "  'trace_id',\n",
       "  'parent_id',\n",
       "  'name',\n",
       "  datetime.datetime(2024, 2, 21, 13, 34, 49, 93000, tzinfo=datetime.timezone(datetime.timedelta(days=-1, seconds=57600), 'PST')),\n",
       "  '{}',\n",
       "  '{}',\n",
       "  [],\n",
       "  None,\n",
       "  None,\n",
       "  None,\n",
       "  None,\n",
       "  [])]"
      ]
     },
     "execution_count": 116,
     "metadata": {},
     "output_type": "execute_result"
    }
   ],
   "source": [
    "res = client.query(\"\"\"\n",
    "SELECT\n",
    "    entity,\n",
    "    project,\n",
    "    id,\n",
    "    any(trace_id) as trace_id,\n",
    "    any(parent_id) as parent_id,\n",
    "    any(name) as name,\n",
    "    any(start_time) as start_time,\n",
    "    any(attributes_dump) as attributes_dump,\n",
    "    any(inputs_dump) as inputs_dump,\n",
    "    array_concat_agg(input_refs) as input_refs,\n",
    "    any(end_time) as end_time,\n",
    "    any(outputs_dump) as outputs_dump,\n",
    "    any(summary_dump) as summary_dump,\n",
    "    any(exception) as exception,\n",
    "    array_concat_agg(output_refs) as output_refs\n",
    "FROM calls_merged\n",
    "GROUP BY entity, project, id\n",
    "\"\"\", use_none=True)\n",
    "print(res.summary)\n",
    "res.result_rows"
   ]
  },
  {
   "cell_type": "code",
   "execution_count": null,
   "id": "9db8cccc-7942-496f-abe5-f069f4d1d18e",
   "metadata": {},
   "outputs": [],
   "source": [
    "res = client.insert(\n",
    "    \"calls_raw\",\n",
    "    data=[[\n",
    "        \"entity\",\n",
    "        \"project\",\n",
    "        \"id\",\n",
    "        \"trace_id\",\n",
    "        \"parent_id\",\n",
    "        \"name\",\n",
    "        datetime.datetime.now(),\n",
    "        \"{}\",\n",
    "        \"{}\",\n",
    "        []\n",
    "    ]],\n",
    "    column_names=[\n",
    "        \"entity\",\n",
    "        \"project\",\n",
    "        \"id\",\n",
    "        \"trace_id\",\n",
    "        \"parent_id\",\n",
    "        \"name\",\n",
    "        \"start_time\",\n",
    "        \"attributes_dump\",\n",
    "        \"inputs_dump\",\n",
    "        \"input_refs\"\n",
    "    ],\n",
    "    # column_type_names=all_obj_column_type_names_with_defaults_nullable,\n",
    ")\n",
    "res.summary"
   ]
  }
 ],
 "metadata": {
  "kernelspec": {
   "display_name": "Python 3 (ipykernel)",
   "language": "python",
   "name": "python3"
  },
  "language_info": {
   "codemirror_mode": {
    "name": "ipython",
    "version": 3
   },
   "file_extension": ".py",
   "mimetype": "text/x-python",
   "name": "python",
   "nbconvert_exporter": "python",
   "pygments_lexer": "ipython3",
   "version": "3.10.8"
  }
 },
 "nbformat": 4,
 "nbformat_minor": 5
}
