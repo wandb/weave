{
 "cells": [
  {
   "cell_type": "markdown",
   "id": "8571663c",
   "metadata": {},
   "source": [
    "Explores a case_when based conditional performance v a short-circuiting if_then_else\n",
    "implementation, as discussed in this PR: https://github.com/wandb/weave/pull/406#discussion_r1299238062"
   ]
  },
  {
   "cell_type": "code",
   "execution_count": 1,
   "id": "f5ba866b",
   "metadata": {},
   "outputs": [],
   "source": [
    "import timeit\n",
    "\n",
    "import numpy as np\n",
    "import pyarrow as pa\n",
    "import pyarrow.compute as pc"
   ]
  },
  {
   "cell_type": "code",
   "execution_count": 59,
   "id": "8174a151",
   "metadata": {},
   "outputs": [],
   "source": [
    "def if_then_else(arr, if_fn, then_fn, else_fn):\n",
    "    case = if_fn(arr)\n",
    "    case_inverted = pc.invert(case)\n",
    "    filt_true = pc.filter(arr, case)\n",
    "    filt_false = pc.filter(arr, case_inverted)\n",
    "    true_result = then_fn(filt_true)\n",
    "    false_result = else_fn(filt_false)\n",
    "    new_arr = pc.replace_with_mask(arr, case, true_result)\n",
    "    new_arr = pc.replace_with_mask(new_arr, case_inverted, false_result)\n",
    "    return new_arr"
   ]
  },
  {
   "cell_type": "code",
   "execution_count": 55,
   "id": "c947dc17",
   "metadata": {},
   "outputs": [],
   "source": [
    "def cond_if_then_else(arr, case_fns, result_fns):\n",
    "    result_arr = arr\n",
    "    then_fn = result_fns[0]\n",
    "\n",
    "    # have to do this because of variable capture\n",
    "    def make_else(ef):\n",
    "        return lambda arr: if_then_else(arr, case_fns[i - 1], result_fns[i - 1], ef)\n",
    "\n",
    "    else_fn = result_fns[-1]\n",
    "    for i in range(len(result_fns) - 1, 1, -1):\n",
    "        else_fn = make_else(else_fn)\n",
    "    return if_then_else(arr, case_fns[0], result_fns[0], else_fn)"
   ]
  },
  {
   "cell_type": "code",
   "execution_count": 60,
   "id": "76bc84b4",
   "metadata": {},
   "outputs": [],
   "source": [
    "def cond(arr, case_fns, result_fns):\n",
    "    cases = [case_fn(arr) for case_fn in case_fns]\n",
    "    case_names = [\"%s\" % i for i in range(len(case_fns))]\n",
    "    results = [result_fn(arr) for result_fn in result_fns]\n",
    "    return pc.case_when(pa.StructArray.from_arrays(cases, names=case_names), *results)"
   ]
  },
  {
   "cell_type": "code",
   "execution_count": 63,
   "id": "9efe23bf",
   "metadata": {},
   "outputs": [
    {
     "data": {
      "text/plain": [
       "True"
      ]
     },
     "execution_count": 63,
     "metadata": {},
     "output_type": "execute_result"
    }
   ],
   "source": [
    "cond_args = {\n",
    "    \"case_fns\": [lambda arr: pc.greater(arr, 0.9), lambda arr: pc.greater(arr, 0.25)],\n",
    "    \"result_fns\": [\n",
    "        lambda arr: pc.add(arr, 50),\n",
    "        lambda arr: pc.subtract(arr, 5),\n",
    "        lambda arr: pc.add(arr, 5),\n",
    "    ],\n",
    "}\n",
    "# cond_res = cond(arr, **cond_args)\n",
    "# if_res = cond_if_then_else(arr, **cond_args)\n",
    "# cond_res == if_res"
   ]
  },
  {
   "cell_type": "code",
   "execution_count": 98,
   "id": "26373d9d",
   "metadata": {},
   "outputs": [],
   "source": [
    "n_cases = 100\n",
    "\n",
    "\n",
    "def make_case(i):\n",
    "    # With this variant, we eliminate most of the options during the first step. Should be very\n",
    "    # favorable to the if_then_else variant\n",
    "    # return lambda arr: pc.greater(arr, (i / n_cases))\n",
    "\n",
    "    # The \"1 -\" version means we only eliminate a fraction of the options at each step in our\n",
    "    # tree.\n",
    "    return lambda arr: pc.greater(arr, 1 - (i / n_cases))\n",
    "\n",
    "\n",
    "def make_result(i):\n",
    "    return lambda arr: pc.add(arr, i)\n",
    "\n",
    "\n",
    "cond_args = {\n",
    "    \"case_fns\": [make_case(i) for i in range(n_cases)],\n",
    "    \"result_fns\": [make_result(i) for i in range(n_cases + 1)],\n",
    "}"
   ]
  },
  {
   "cell_type": "code",
   "execution_count": 99,
   "id": "17757341",
   "metadata": {},
   "outputs": [
    {
     "name": "stdout",
     "output_type": "stream",
     "text": [
      "COND RES 0.23255444579999676\n",
      "IFTH RES 0.18101482080001005\n"
     ]
    }
   ],
   "source": [
    "n_trials = 10\n",
    "arr = np.random.rand(1000000)\n",
    "cond_res = timeit.timeit(lambda: cond(arr, **cond_args), number=n_trials) / n_trials\n",
    "print(\"COND RES\", cond_res)\n",
    "cond_if_then_else_res = (\n",
    "    timeit.timeit(lambda: cond_if_then_else(arr, **cond_args), number=n_trials)\n",
    "    / n_trials\n",
    ")\n",
    "print(\"IFTH RES\", cond_if_then_else_res)"
   ]
  }
 ],
 "metadata": {
  "kernelspec": {
   "display_name": "Python 3 (ipykernel)",
   "language": "python",
   "name": "python3"
  },
  "language_info": {
   "codemirror_mode": {
    "name": "ipython",
    "version": 3
   },
   "file_extension": ".py",
   "mimetype": "text/x-python",
   "name": "python",
   "nbconvert_exporter": "python",
   "pygments_lexer": "ipython3",
   "version": "3.9.7"
  }
 },
 "nbformat": 4,
 "nbformat_minor": 5
}
