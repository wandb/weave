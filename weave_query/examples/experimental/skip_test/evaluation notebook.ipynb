{
 "cells": [
  {
   "cell_type": "code",
   "execution_count": null,
   "id": "2aaa2b60",
   "metadata": {},
   "outputs": [],
   "source": [
    "import json\n",
    "\n",
    "import langchain\n",
    "langchain.debug=True\n",
    "from langchain.docstore.document import Document\n",
    "from langchain.embeddings.openai import OpenAIEmbeddings\n",
    "from langchain.vectorstores import VectorStore, FAISS\n",
    "from langchain.llms import OpenAI\n",
    "from langchain.chains import RetrievalQA"
   ]
  },
  {
   "cell_type": "code",
   "execution_count": null,
   "id": "11a506e0",
   "metadata": {},
   "outputs": [],
   "source": [
    "# There are lots of parameters you can play with in each of these steps!\n",
    "# - how documents are chunked\n",
    "# - which vectorstore we use and what parameters\n",
    "# - etc."
   ]
  },
  {
   "cell_type": "code",
   "execution_count": null,
   "id": "512aed42",
   "metadata": {},
   "outputs": [],
   "source": [
    "# Load documents\n",
    "documents = []\n",
    "for line in open('/Users/shawn/Downloads/documents.jsonl'):\n",
    "    documents.append(Document(**json.loads(line)))\n",
    "\n",
    "# First 100 only\n",
    "documents = documents[:100]"
   ]
  },
  {
   "cell_type": "code",
   "execution_count": null,
   "id": "9740d6e5",
   "metadata": {},
   "outputs": [],
   "source": [
    "# Construct vector store\n",
    "\n",
    "embeddings = OpenAIEmbeddings()\n",
    "faiss = FAISS.from_documents(documents, embeddings)"
   ]
  },
  {
   "cell_type": "code",
   "execution_count": null,
   "id": "f6fbf260",
   "metadata": {},
   "outputs": [],
   "source": [
    "# Construct an LLM for the query\n",
    "\n",
    "llm = OpenAI(model_name='text-davinci-003', temperature=0.7)"
   ]
  },
  {
   "cell_type": "code",
   "execution_count": null,
   "id": "1eb4e238",
   "metadata": {},
   "outputs": [],
   "source": [
    "# Construct a Retrieval QA chain, giving it an LLM and VectorStore.\n",
    "# chain_type 'stuff' tells the chain to just stick the found documents in the context of the query.\n",
    "# There are other options!\n",
    "\n",
    "qa = RetrievalQA.from_chain_type(\n",
    "        llm=llm, chain_type='stuff', retriever=faiss.as_retriever()\n",
    "    )"
   ]
  },
  {
   "cell_type": "code",
   "execution_count": null,
   "id": "294fdd1f",
   "metadata": {},
   "outputs": [],
   "source": [
    "# Perform inference\n",
    "\n",
    "qa.run('Who are you?')"
   ]
  }
 ],
 "metadata": {
  "kernelspec": {
   "display_name": "Python 3 (ipykernel)",
   "language": "python",
   "name": "python3"
  },
  "language_info": {
   "codemirror_mode": {
    "name": "ipython",
    "version": 3
   },
   "file_extension": ".py",
   "mimetype": "text/x-python",
   "name": "python",
   "nbconvert_exporter": "python",
   "pygments_lexer": "ipython3",
   "version": "3.9.7"
  }
 },
 "nbformat": 4,
 "nbformat_minor": 5
}
