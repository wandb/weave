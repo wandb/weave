{
 "cells": [
  {
   "cell_type": "markdown",
   "id": "f7d06536-57e5-49d3-93ea-a0d1a0a118a8",
   "metadata": {},
   "source": [
    "# Custom Tracing with the W&B Trace Decorator\n",
    "\n",
    "<a target=\"_blank\" href=\"https://colab.research.google.com/github/wandb/weave/blob/master/examples/prompts/trace_debugging/trace_quickstart_decorator.ipynb\">\n",
    "  <img src=\"https://colab.research.google.com/assets/colab-badge.svg\" alt=\"Open In Colab\"/>\n",
    "</a>\n",
    "\n",
    "# Step 0: Setup\n",
    "\n",
    "Install dependencies and login to W&B so you can save and share your work."
   ]
  },
  {
   "cell_type": "code",
   "execution_count": null,
   "id": "6f7a6e27",
   "metadata": {},
   "outputs": [],
   "source": [
    "!pip install -qqq weave wandb"
   ]
  },
  {
   "cell_type": "code",
   "execution_count": null,
   "id": "4f0a1817-a0aa-4bb1-ab9a-c852e57b7f51",
   "metadata": {},
   "outputs": [],
   "source": [
    "import wandb\n",
    "wandb.login()"
   ]
  },
  {
   "cell_type": "code",
   "execution_count": null,
   "id": "a36c6f7d",
   "metadata": {},
   "outputs": [],
   "source": [
    "import weave\n",
    "import time\n",
    "from weave.legacy.weave.monitoring import init_monitor"
   ]
  },
  {
   "cell_type": "markdown",
   "id": "f6f18966-6219-490f-9eec-625278cd1c61",
   "metadata": {},
   "source": [
    "# Step 1: Configure data streaming and storage in W&B"
   ]
  },
  {
   "cell_type": "code",
   "execution_count": null,
   "id": "a3e25fc6-0061-4259-abb4-cb5310d4c0e1",
   "metadata": {},
   "outputs": [],
   "source": [
    "WB_PROJECT = \"traces\"\n",
    "WB_STREAM = \"decorator_traces_stream\"\n",
    "WB_ENTITY = \"\" # optional: wandb username or team name"
   ]
  },
  {
   "cell_type": "markdown",
   "id": "92acf0d3-4e20-4761-998e-db856e7f6cb0",
   "metadata": {},
   "source": [
    "**Note**: The WB_ENTITY will match the default entity associated with your [W&B API key](wandb.ai/authorize). You can optionally set WB_ENTITY to a different wandb username or team name. Log in to W&B and navigate to [the Home Page](https://wandb.ai/home) to see any other valid options for your WB_ENTITY under your \"Profile\" and \"Teams\" in the left sidebar."
   ]
  },
  {
   "cell_type": "markdown",
   "id": "314bbe1f-128c-45c6-833e-046c8f6ef659",
   "metadata": {},
   "source": [
    "# Step 2: Setup log stream and add decorators to functions of interest"
   ]
  },
  {
   "cell_type": "code",
   "execution_count": null,
   "id": "7f0e78c1",
   "metadata": {},
   "outputs": [],
   "source": [
    "mon = init_monitor(f\"{WB_ENTITY}/{WB_PROJECT}/{WB_STREAM}\")\n",
    "\n",
    "# Wrap a function to make it auto-log\n",
    "@mon.trace()\n",
    "def adder(a, b):\n",
    "    time.sleep(0.2)\n",
    "    return a + b\n",
    "\n",
    "@mon.trace()\n",
    "def buggy_fn(a, b):\n",
    "    time.sleep(0.2)\n",
    "    raise Exception(\"Intentional example exception happening here :)\")\n",
    "    return a * b\n",
    "\n",
    "# you can create manual spans with the mon.span context manager\n",
    "with mon.span('a_span') as s:\n",
    "    time.sleep(0.5)\n",
    "    # you can add attributes to all child spans with the mon.attributes context manager\n",
    "    with mon.attributes({'a': 5, 'b': 6}):\n",
    "        # spans can be nested\n",
    "        with mon.span('b_span') as b:\n",
    "            time.sleep(0.5)\n",
    "            # call the traced function to generate a span for it\n",
    "            # we add an argument \"monitor_attributes\" which allows you pass in additional\n",
    "            # attributes to be logged\n",
    "            result = adder(1, 2, monitor_attributes={'j': 15})\n",
    "            buggy_fn(result, 2)\n",
    "        time.sleep(0.05)"
   ]
  },
  {
   "cell_type": "markdown",
   "id": "b9d1f71b-29ac-4e6e-a87a-ae493ad6dc5b",
   "metadata": {},
   "source": [
    "# Step 3: Create and customize a Trace Debugging Board\n",
    "\n",
    "Click on the \"View data at:\" link above to view your data stream in Weave. \n",
    "You can click on \"+ New board from template\" on the right to create a Trace Debug Board to track, dynamically analyze, and understand all your decorated calls."
   ]
  }
 ],
 "metadata": {
  "kernelspec": {
   "display_name": "Python 3 (ipykernel)",
   "language": "python",
   "name": "python3"
  },
  "language_info": {
   "codemirror_mode": {
    "name": "ipython",
    "version": 3
   },
   "file_extension": ".py",
   "mimetype": "text/x-python",
   "name": "python",
   "nbconvert_exporter": "python",
   "pygments_lexer": "ipython3",
   "version": "3.9.7"
  }
 },
 "nbformat": 4,
 "nbformat_minor": 5
}
