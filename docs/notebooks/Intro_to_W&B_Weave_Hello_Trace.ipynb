{
  "nbformat": 4,
  "nbformat_minor": 0,
  "metadata": {
    "colab": {
      "provenance": []
    },
    "kernelspec": {
      "name": "python3",
      "display_name": "Python 3"
    },
    "language_info": {
      "name": "python"
    }
  },
  "cells": [
    {
      "cell_type": "markdown",
      "source": [
        "<img src=\"http://wandb.me/logo-im-png\" width=\"400\" alt=\"Weights & Biases\" />\n",
        "\n",
        "Weave is a toolkit for developing AI-powered applications.\n",
        "\n",
        "You can use Weave to:\n",
        "- Log and debug language model inputs, outputs, and traces.\n",
        "- Build rigorous, apples-to-apples evaluations for language model use cases.\n",
        "- Organize all the information generated across the LLM workflow, from experimentation to evaluations to production."
      ],
      "metadata": {
        "id": "Tjh24iCFw8TH"
      }
    },
    {
      "cell_type": "markdown",
      "source": [
        "## 🔑 Prerequisites\n",
        "\n",
        "Install the W&B Weave SDK, OpenAI SDK, and login with your API keys.\\\n",
        "You can find your Weights and Biases API key here: https://wandb.ai/settings#api \\\n",
        "You can generate your OpenAI API key here: https://platform.openai.com/api-keys\n"
      ],
      "metadata": {
        "id": "McE7cuqSxMiP"
      }
    },
    {
      "cell_type": "code",
      "execution_count": null,
      "metadata": {
        "id": "56XteuP7s7sm"
      },
      "outputs": [],
      "source": [
        "# Install dependancies and imports\n",
        "!pip install wandb weave openai -q\n",
        "\n",
        "import os\n",
        "import json\n",
        "import weave\n",
        "\n",
        "from getpass import getpass\n",
        "from openai import OpenAI\n",
        "\n",
        "# 🔑 Setup your API keys\n",
        "# Running this cell will prompt you for your API key with `getpass` and will not echo to the terminal.\n",
        "#####\n",
        "print(\"---\")\n",
        "print(\"You can find your Weights and Biases API key here: https://wandb.ai/settings#api\")\n",
        "os.environ[\"WANDB_API_KEY\"] = getpass('Enter your Weights and Biases API key: ')\n",
        "print(\"---\")\n",
        "print(\"You can generate your OpenAI API key here: https://platform.openai.com/api-keys\")\n",
        "os.environ[\"OPENAI_API_KEY\"] = getpass('Enter your OpenAI API key: ')\n",
        "print(\"---\")\n",
        "#####\n",
        "\n",
        "# 🏠 Enter your W&B project name\n",
        "weave_client = weave.init('MY_PROJECT_NAME') # 🐝 Your W&B project name"
      ]
    },
    {
      "cell_type": "markdown",
      "source": [
        "## 🐝 Run your first trace\n",
        "\n",
        "Start tracking inputs and outputs of functions by decorating them with `weave.op`().\\\n",
        "Run this sample code to see the new trace."
      ],
      "metadata": {
        "id": "0mmzfm_cxr6Z"
      }
    },
    {
      "cell_type": "code",
      "source": [
        "@weave.op() # 🐝 Decorator to track requests\n",
        "def extract_fruit(sentence: str) -> dict:\n",
        "    client = OpenAI()\n",
        "    system_prompt = \"Parse sentences into a JSON dict with keys: fruit, color and flavor.\"\n",
        "    response = client.chat.completions.create(\n",
        "      model=\"gpt-4o\",\n",
        "      messages=[\n",
        "        {\"role\": \"system\", \"content\": system_prompt},\n",
        "        {\"role\": \"user\", \"content\": sentence}\n",
        "      ],\n",
        "      temperature=0.7,\n",
        "      response_format={\"type\": \"json_object\"}\n",
        "    )\n",
        "    extracted = response.choices[0].message.content\n",
        "    return json.loads(extracted)\n",
        "\n",
        "sentence = \"There are many fruits that were found on the recently discovered planet Goocrux. There are neoskizzles that grow there, which are purple and taste like candy.\"\n",
        "extract_fruit(sentence)"
      ],
      "metadata": {
        "id": "I1w-C5MHtjRg"
      },
      "execution_count": null,
      "outputs": []
    },
    {
      "cell_type": "markdown",
      "source": [
        "## 🚀 Looking for more examples?\n",
        "Check out our full getting started guide here:\\\n",
        "https://weave-docs.wandb.ai/quickstart"
      ],
      "metadata": {
        "id": "JGqeyYMmw7Hl"
      }
    }
  ]
}