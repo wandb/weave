{
 "cells": [
  {
   "cell_type": "markdown",
   "metadata": {},
   "source": [
    "<!-- docusaurus_head_meta::start\n",
    "---\n",
    "title: Log Feedback from Production\n",
    "---\n",
    "docusaurus_head_meta::end -->\n",
    "\n",
    "<img src=\"http://wandb.me/logo-im-png\" width=\"400\" alt=\"Weights & Biases\" />\n",
    "<!--- @wandbcode{feedback-colab} -->"
   ]
  },
  {
   "cell_type": "markdown",
   "metadata": {
    "vscode": {
     "languageId": "plaintext"
    }
   },
   "source": [
    "\n",
    "It is often hard to automatically evaluate a generated LLM response so, depending on your risk tolerance, you can gather direct user feedback to find areas to improve.\n",
    "\n",
    "In this tutorial, we'll use a custom RAG chatbot as an example app with which the users can interact and which allows us to collect user feedback.\n",
    "We'll use Streamlit to build the interface and we'll capture the LLM interactions and feedback in Weave."
   ]
  },
  {
   "cell_type": "markdown",
   "metadata": {
    "vscode": {
     "languageId": "plaintext"
    }
   },
   "source": [
    "## Setup"
   ]
  },
  {
   "cell_type": "code",
   "execution_count": null,
   "metadata": {},
   "outputs": [],
   "source": [
    "!pip install weave openai streamlit"
   ]
  },
  {
   "cell_type": "markdown",
   "metadata": {},
   "source": [
    "First, create a file called `secrets.toml` and add an OpenAI key so it works with [st.secrets](https://docs.streamlit.io/develop/api-reference/connections/st.secrets). You can [sign up](https://platform.openai.com/signup) on the OpenAI platform to get your own API key. "
   ]
  },
  {
   "cell_type": "code",
   "execution_count": null,
   "metadata": {},
   "outputs": [],
   "source": [
    "# secrets.toml\n",
    "OPENAI_API_KEY = \"your OpenAI key\""
   ]
  },
  {
   "cell_type": "markdown",
   "metadata": {},
   "source": [
    "Next, create a file called `chatbot.py` with the following contents:"
   ]
  },
  {
   "cell_type": "code",
   "execution_count": null,
   "metadata": {},
   "outputs": [],
   "source": [
    "# chatbot.py\n",
    "\n",
    "import streamlit as st\n",
    "from openai import OpenAI\n",
    "\n",
    "import weave\n",
    "\n",
    "st.title(\"Add feedback\")\n",
    "\n",
    "\n",
    "# highlight-next-line\n",
    "@weave.op\n",
    "def chat_response(prompt):\n",
    "    stream = client.chat.completions.create(\n",
    "        model=\"gpt-4o\",\n",
    "        messages=[\n",
    "            {\"role\": \"user\", \"content\": prompt},\n",
    "            *[\n",
    "                {\"role\": m[\"role\"], \"content\": m[\"content\"]}\n",
    "                for m in st.session_state.messages\n",
    "            ],\n",
    "        ],\n",
    "        stream=True,\n",
    "    )\n",
    "    response = st.write_stream(stream)\n",
    "    return {\"response\": response}\n",
    "\n",
    "\n",
    "client = OpenAI(api_key=st.secrets[\"OPENAI_API_KEY\"])\n",
    "# highlight-next-line\n",
    "weave_client = weave.init(\"feedback-example\")\n",
    "\n",
    "\n",
    "def display_chat_messages():\n",
    "    for message in st.session_state.messages:\n",
    "        with st.chat_message(message[\"role\"]):\n",
    "            st.markdown(message[\"content\"])\n",
    "\n",
    "\n",
    "def get_and_process_prompt():\n",
    "    if prompt := st.chat_input(\"What is up?\"):\n",
    "        st.session_state.messages.append({\"role\": \"user\", \"content\": prompt})\n",
    "\n",
    "        with st.chat_message(\"user\"):\n",
    "            st.markdown(prompt)\n",
    "\n",
    "        with st.chat_message(\"assistant\"):\n",
    "            # highlight-next-line\n",
    "            with weave.attributes(\n",
    "                {\"session\": st.session_state[\"session_id\"], \"env\": \"prod\"}\n",
    "            ):\n",
    "                # This could also be weave model.predict.call if you're using a weave.Model subclass\n",
    "                result, call = chat_response.call(\n",
    "                    prompt\n",
    "                )  # call the function with `.call`, this returns a tuple with a new Call object\n",
    "                # highlight-next-line\n",
    "                st.button(\n",
    "                    \":thumbsup:\",\n",
    "                    on_click=lambda: call.feedback.add_reaction(\"👍\"),\n",
    "                    key=\"up\",\n",
    "                )\n",
    "                # highlight-next-line\n",
    "                st.button(\n",
    "                    \":thumbsdown:\",\n",
    "                    on_click=lambda: call.feedback.add_reaction(\"👎\"),\n",
    "                    key=\"down\",\n",
    "                )\n",
    "                st.session_state.messages.append(\n",
    "                    {\"role\": \"assistant\", \"content\": result[\"response\"]}\n",
    "                )\n",
    "\n",
    "\n",
    "def init_chat_history():\n",
    "    if \"messages\" not in st.session_state:\n",
    "        st.session_state.messages = st.session_state.messages = []\n",
    "\n",
    "\n",
    "def main():\n",
    "    st.session_state[\"session_id\"] = \"123abc\"\n",
    "    init_chat_history()\n",
    "    display_chat_messages()\n",
    "    get_and_process_prompt()\n",
    "\n",
    "\n",
    "if __name__ == \"__main__\":\n",
    "    main()"
   ]
  },
  {
   "cell_type": "markdown",
   "metadata": {
    "vscode": {
     "languageId": "plaintext"
    }
   },
   "source": [
    "You can run this with `streamlit run chatbot.py`.\n",
    "\n",
    "Now, you can interact with this application and click the feedback buttons after each response. \n",
    "Visit the Weave UI to see the attached feedback.\n",
    "\n",
    "## Explanation\n",
    "\n",
    "If we consider our decorated prediction function as:"
   ]
  },
  {
   "cell_type": "code",
   "execution_count": 1,
   "metadata": {},
   "outputs": [
    {
     "ename": "ModuleNotFoundError",
     "evalue": "No module named 'weave'",
     "output_type": "error",
     "traceback": [
      "\u001b[0;31m---------------------------------------------------------------------------\u001b[0m",
      "\u001b[0;31mModuleNotFoundError\u001b[0m                       Traceback (most recent call last)",
      "Cell \u001b[0;32mIn[1], line 1\u001b[0m\n\u001b[0;32m----> 1\u001b[0m \u001b[38;5;28;01mimport\u001b[39;00m \u001b[38;5;21;01mweave\u001b[39;00m\n\u001b[1;32m      3\u001b[0m weave\u001b[38;5;241m.\u001b[39minit(\u001b[38;5;124m\"\u001b[39m\u001b[38;5;124mfeedback-example\u001b[39m\u001b[38;5;124m\"\u001b[39m)\n\u001b[1;32m      6\u001b[0m \u001b[38;5;66;03m# highlight-next-line\u001b[39;00m\n",
      "\u001b[0;31mModuleNotFoundError\u001b[0m: No module named 'weave'"
     ]
    }
   ],
   "source": [
    "import weave\n",
    "\n",
    "weave.init(\"feedback-example\")\n",
    "\n",
    "\n",
    "# highlight-next-line\n",
    "@weave.op\n",
    "def predict(input_data):\n",
    "    # Your prediction logic here\n",
    "    some_result = \"hello world\"\n",
    "    return some_result"
   ]
  },
  {
   "cell_type": "markdown",
   "metadata": {},
   "source": [
    "We can use it as usual to deliver some model response to the user:"
   ]
  },
  {
   "cell_type": "code",
   "execution_count": null,
   "metadata": {},
   "outputs": [],
   "source": [
    "with weave.attributes(\n",
    "    {\"session\": \"123abc\", \"env\": \"prod\"}\n",
    "):  # attach arbitrary attributes to the call alongside inputs & outputs\n",
    "    result = predict(input_data=\"your data here\")  # user question through the App UI"
   ]
  },
  {
   "cell_type": "markdown",
   "metadata": {},
   "source": [
    "To attach feedback, you need the `call` object, which is obtained by using the `.call()` method *instead of calling the function as normal*:"
   ]
  },
  {
   "cell_type": "code",
   "execution_count": null,
   "metadata": {},
   "outputs": [],
   "source": [
    "result, call = predict.call(input_data=\"your data here\")"
   ]
  },
  {
   "cell_type": "markdown",
   "metadata": {},
   "source": [
    "This call object is needed for attaching feedback to the specific response.\n",
    "After making the call, the output of the operation is available using `result` above."
   ]
  },
  {
   "cell_type": "code",
   "execution_count": null,
   "metadata": {},
   "outputs": [],
   "source": [
    "call.feedback.add_reaction(\"👍\")  # user reaction through the App UI"
   ]
  },
  {
   "cell_type": "markdown",
   "metadata": {},
   "source": [
    "## Conclusion\n",
    "\n",
    "In this tutorial, we built a chat UI with Streamlit which had inputs & outputs captured in Weave, alongside 👍👎 buttons to capture user feedback. "
   ]
  }
 ],
 "metadata": {
  "kernelspec": {
   "display_name": "Python 3 (ipykernel)",
   "language": "python",
   "name": "python3"
  },
  "language_info": {
   "codemirror_mode": {
    "name": "ipython",
    "version": 3
   },
   "file_extension": ".py",
   "mimetype": "text/x-python",
   "name": "python",
   "nbconvert_exporter": "python",
   "pygments_lexer": "ipython3",
   "version": "3.10.7"
  }
 },
 "nbformat": 4,
 "nbformat_minor": 4
}
