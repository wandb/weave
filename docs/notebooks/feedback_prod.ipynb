{
 "cells": [
  {
   "cell_type": "markdown",
   "metadata": {},
   "source": [
    "<!-- docusaurus_head_meta::start\n",
    "---\n",
    "title: Log Feedback from Production\n",
    "---\n",
    "docusaurus_head_meta::end -->\n",
    "\n",
    "<!--- @wandbcode{feedback-colab} -->"
   ]
  },
  {
   "cell_type": "markdown",
   "metadata": {
    "vscode": {
     "languageId": "plaintext"
    }
   },
   "source": [
    "\n",
    "It is often hard to automatically evaluate a generated LLM response so, depending on your risk tolerance, you can gather direct user feedback to find areas to improve.\n",
    "\n",
    "In this tutorial, we'll use a custom chatbot as an example app from which to collect user feedback.\n",
    "We'll use Streamlit to build the interface and we'll capture the LLM interactions and feedback in Weave."
   ]
  },
  {
   "cell_type": "markdown",
   "metadata": {
    "vscode": {
     "languageId": "plaintext"
    }
   },
   "source": [
    "## Setup"
   ]
  },
  {
   "cell_type": "code",
   "execution_count": null,
   "metadata": {},
   "outputs": [],
   "source": [
    "!pip install weave openai streamlit wandb\n",
    "!pip install set-env-colab-kaggle-dotenv -q # for env var"
   ]
  },
  {
   "cell_type": "code",
   "execution_count": 0,
   "metadata": {},
   "outputs": [],
   "source": [
    "# Add a .env file with your OpenAI and WandB API keys\n",
    "from set_env import set_env\n",
    "\n",
    "_ = set_env(\"OPENAI_API_KEY\")\n",
    "_ = set_env(\"WANDB_API_KEY\")"
   ]
  },
  {
   "cell_type": "markdown",
   "metadata": {},
   "source": [
    "Next, create a file called `chatbot.py` with the following contents:"
   ]
  },
  {
   "cell_type": "code",
   "execution_count": null,
   "metadata": {},
   "outputs": [],
   "source": [
    "# chatbot.py\n",
    "\n",
    "import openai\n",
    "import streamlit as st\n",
    "import wandb\n",
    "from set_env import set_env\n",
    "\n",
    "import weave\n",
    "\n",
    "_ = set_env(\"OPENAI_API_KEY\")\n",
    "_ = set_env(\"WANDB_API_KEY\")\n",
    "\n",
    "# highlight-next-line\n",
    "wandb.login()\n",
    "\n",
    "# highlight-next-line\n",
    "weave_client = weave.init(\"feedback-example\")\n",
    "oai_client = openai.OpenAI()\n",
    "\n",
    "\n",
    "def init_states():\n",
    "    \"\"\"Set up session_state keys if they don't exist yet.\"\"\"\n",
    "    if \"messages\" not in st.session_state:\n",
    "        st.session_state[\"messages\"] = []\n",
    "    if \"calls\" not in st.session_state:\n",
    "        st.session_state[\"calls\"] = []\n",
    "    if \"session_id\" not in st.session_state:\n",
    "        st.session_state[\"session_id\"] = \"123abc\"\n",
    "\n",
    "\n",
    "# highlight-next-line\n",
    "@weave.op\n",
    "def chat_response(full_history):\n",
    "    \"\"\"\n",
    "    Calls the OpenAI API in streaming mode given the entire conversation history so far.\n",
    "    full_history is a list of dicts: [{\"role\":\"user\"|\"assistant\",\"content\":...}, ...]\n",
    "    \"\"\"\n",
    "    stream = oai_client.chat.completions.create(\n",
    "        model=\"gpt-4\", messages=full_history, stream=True\n",
    "    )\n",
    "    response_text = st.write_stream(stream)\n",
    "    return {\"response\": response_text}\n",
    "\n",
    "\n",
    "def render_feedback_buttons(call_idx):\n",
    "    \"\"\"Renders thumbs up/down and text feedback for the call.\"\"\"\n",
    "    col1, col2, col3 = st.columns([1, 1, 4])\n",
    "\n",
    "    # Thumbs up button\n",
    "    with col1:\n",
    "        if st.button(\"👍\", key=f\"thumbs_up_{call_idx}\"):\n",
    "            st.session_state.calls[call_idx].feedback.add_reaction(\"👍\")\n",
    "            st.success(\"Thanks for the feedback!\")\n",
    "\n",
    "    # Thumbs down button\n",
    "    with col2:\n",
    "        if st.button(\"👎\", key=f\"thumbs_down_{call_idx}\"):\n",
    "            st.session_state.calls[call_idx].feedback.add_reaction(\"👎\")\n",
    "            st.success(\"Thanks for the feedback!\")\n",
    "\n",
    "    # Text feedback\n",
    "    with col3:\n",
    "        feedback_text = st.text_input(\"Feedback\", key=f\"feedback_input_{call_idx}\")\n",
    "        if st.button(\"Submit Feedback\", key=f\"submit_feedback_{call_idx}\"):\n",
    "            if feedback_text:\n",
    "                st.session_state.calls[call_idx].feedback.add_note(feedback_text)\n",
    "                st.success(\"Feedback submitted!\")\n",
    "\n",
    "\n",
    "def display_old_messages():\n",
    "    \"\"\"Displays the conversation stored in st.session_state.messages with feedback buttons\"\"\"\n",
    "    for idx, message in enumerate(st.session_state.messages):\n",
    "        with st.chat_message(message[\"role\"]):\n",
    "            st.markdown(message[\"content\"])\n",
    "\n",
    "            # If it's an assistant message, show feedback form\n",
    "            if message[\"role\"] == \"assistant\":\n",
    "                # Figure out index of this assistant message in st.session_state.calls\n",
    "                assistant_idx = (\n",
    "                    len(\n",
    "                        [\n",
    "                            m\n",
    "                            for m in st.session_state.messages[: idx + 1]\n",
    "                            if m[\"role\"] == \"assistant\"\n",
    "                        ]\n",
    "                    )\n",
    "                    - 1\n",
    "                )\n",
    "                # Render thumbs up/down & text feedback\n",
    "                if assistant_idx < len(st.session_state.calls):\n",
    "                    render_feedback_buttons(assistant_idx)\n",
    "\n",
    "\n",
    "def display_chat_prompt():\n",
    "    \"\"\"Displays the chat prompt input box.\"\"\"\n",
    "    if prompt := st.chat_input(\"Ask me anything!\"):\n",
    "        # Immediately render new user message\n",
    "        with st.chat_message(\"user\"):\n",
    "            st.markdown(prompt)\n",
    "\n",
    "        # Save user message in session\n",
    "        st.session_state.messages.append({\"role\": \"user\", \"content\": prompt})\n",
    "\n",
    "        # Prepare chat history for the API\n",
    "        full_history = [\n",
    "            {\"role\": msg[\"role\"], \"content\": msg[\"content\"]}\n",
    "            for msg in st.session_state.messages\n",
    "        ]\n",
    "\n",
    "        with st.chat_message(\"assistant\"):\n",
    "            # Attach Weave attributes for tracking of conversation instances\n",
    "            with weave.attributes(\n",
    "                {\"session\": st.session_state[\"session_id\"], \"env\": \"prod\"}\n",
    "            ):\n",
    "                # Call the OpenAI API (stream)\n",
    "                result, call = chat_response.call(full_history)\n",
    "\n",
    "                # Store the assistant message\n",
    "                st.session_state.messages.append(\n",
    "                    {\"role\": \"assistant\", \"content\": result[\"response\"]}\n",
    "                )\n",
    "\n",
    "                # Store the weave call object to link feedback to the specific response\n",
    "                st.session_state.calls.append(call)\n",
    "\n",
    "                # Render feedback buttons for the new message\n",
    "                new_assistant_idx = (\n",
    "                    len(\n",
    "                        [\n",
    "                            m\n",
    "                            for m in st.session_state.messages\n",
    "                            if m[\"role\"] == \"assistant\"\n",
    "                        ]\n",
    "                    )\n",
    "                    - 1\n",
    "                )\n",
    "\n",
    "                # Render feedback buttons\n",
    "                if new_assistant_idx < len(st.session_state.calls):\n",
    "                    render_feedback_buttons(new_assistant_idx)\n",
    "\n",
    "\n",
    "def main():\n",
    "    st.title(\"Chatbot with immediate feedback forms\")\n",
    "    init_states()\n",
    "    display_old_messages()\n",
    "    display_chat_prompt()\n",
    "\n",
    "\n",
    "if __name__ == \"__main__\":\n",
    "    main()"
   ]
  },
  {
   "cell_type": "markdown",
   "metadata": {
    "vscode": {
     "languageId": "plaintext"
    }
   },
   "source": [
    "You can run this with `streamlit run chatbot.py`.\n",
    "\n",
    "Now, you can interact with this application and click the feedback buttons after each response. \n",
    "Visit the Weave UI to see the attached feedback.\n",
    "\n",
    "## Explanation\n",
    "\n",
    "If we consider our decorated prediction function as:"
   ]
  },
  {
   "cell_type": "code",
   "execution_count": null,
   "metadata": {},
   "outputs": [],
   "source": [
    "import weave\n",
    "\n",
    "weave.init(\"feedback-example\")\n",
    "\n",
    "\n",
    "# highlight-next-line\n",
    "@weave.op\n",
    "def predict(input_data):\n",
    "    # Your prediction logic here\n",
    "    some_result = \"hello world\"\n",
    "    return some_result"
   ]
  },
  {
   "cell_type": "markdown",
   "metadata": {},
   "source": [
    "We can use it as usual to deliver some model response to the user:"
   ]
  },
  {
   "cell_type": "code",
   "execution_count": null,
   "metadata": {},
   "outputs": [],
   "source": [
    "with weave.attributes(\n",
    "    {\"session\": \"123abc\", \"env\": \"prod\"}\n",
    "):  # attach arbitrary attributes to the call alongside inputs & outputs\n",
    "    result = predict(input_data=\"your data here\")  # user question through the App UI"
   ]
  },
  {
   "cell_type": "markdown",
   "metadata": {},
   "source": [
    "To attach feedback, you need the `call` object, which is obtained by using the `.call()` method *instead of calling the function as normal*:"
   ]
  },
  {
   "cell_type": "code",
   "execution_count": null,
   "metadata": {},
   "outputs": [],
   "source": [
    "result, call = predict.call(input_data=\"your data here\")"
   ]
  },
  {
   "cell_type": "markdown",
   "metadata": {},
   "source": [
    "This call object is needed for attaching feedback to the specific response.\n",
    "After making the call, the output of the operation is available using `result` above."
   ]
  },
  {
   "cell_type": "code",
   "execution_count": null,
   "metadata": {},
   "outputs": [],
   "source": [
    "call.feedback.add_reaction(\"👍\")  # user reaction through the App UI"
   ]
  },
  {
   "cell_type": "markdown",
   "metadata": {},
   "source": [
    "## Conclusion\n",
    "\n",
    "In this tutorial, we built a chat UI with Streamlit which had inputs & outputs captured in Weave, alongside 👍👎 buttons to capture user feedback. "
   ]
  }
 ],
 "metadata": {
  "kernelspec": {
   "display_name": "Python 3 (ipykernel)",
   "language": "python",
   "name": "python3"
  },
  "language_info": {
   "codemirror_mode": {
    "name": "ipython",
    "version": 3
   },
   "file_extension": ".py",
   "mimetype": "text/x-python",
   "name": "python",
   "nbconvert_exporter": "python",
   "pygments_lexer": "ipython3",
   "version": "3.11.11"
  }
 },
 "nbformat": 4,
 "nbformat_minor": 4
}
