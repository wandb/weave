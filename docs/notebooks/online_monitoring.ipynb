{
 "cells": [
  {
   "cell_type": "markdown",
   "metadata": {},
   "source": [
    "<!-- docusaurus_head_meta::start\n",
    "---\n",
    "title: Integrating with Weave - Production Dashboard\n",
    "---\n",
    "docusaurus_head_meta::end -->\n",
    "\n",
    "<img src=\"http://wandb.me/logo-im-png\" width=\"400\" alt=\"Weights & Biases\" />\n",
    "<!--- @wandbcode{cod-notebook} -->"
   ]
  },
  {
   "cell_type": "markdown",
   "metadata": {},
   "source": [
    "# Integrating with Weave: Production Dashboard\n",
    "\n",
    "The GenAI tooling landscape is rapidly evolving - new frameworks, tools, and applications are emerging all the time. Weave aims to be a one-stop-shop for all your GenAI monitoring and evaluation needs. This also means that sometimes it is necessary to integrate with existing platforms or extend Weave to fit the specific needs of your project or organization.\n",
    "\n",
    "In this cookbook, we'll demonstrate how to leverage Weave's powerful APIs and functions to create a custom dashboard for production monitoring as an extension to the Traces view in Weave. We'll focus on:\n",
    "* Fetching traces, costs, feedback, and other metrics from Weave\n",
    "* Creating aggregate views for user feedback and cost distribution\n",
    "* Creating visualizations for token usage and latency over time\n",
    "\n",
    "You can try out the dashboard with your own Weave project by installing streamlit and running [this production dashboard script](https://github.com/NiWaRe/agent-dev-collection)!"
   ]
  },
  {
   "cell_type": "markdown",
   "metadata": {},
   "source": [
    "<img src=\"https://github.com/NiWaRe/knowledge-worker-weave/blob/master/screenshots/dashboard_weave_preview.jpg?raw=true\" width=\"1000\" alt=\"Example Production Dashboard with Weave\" />"
   ]
  },
  {
   "cell_type": "markdown",
   "metadata": {},
   "source": [
    "# 1. Setup\n",
    "To follow along this tutorial you'll only need to install the following packages:"
   ]
  },
  {
   "cell_type": "code",
   "execution_count": null,
   "metadata": {},
   "outputs": [],
   "source": [
    "!pip install streamlit pandas plotly weave"
   ]
  },
  {
   "cell_type": "markdown",
   "metadata": {},
   "source": [
    "# 2. Implementation"
   ]
  },
  {
   "cell_type": "markdown",
   "metadata": {},
   "source": [
    "## 2.1 Initializing Weave Client and Defining Costs\n",
    "First, we'll set up a function to initialize the Weave client and add costs for each model. \n",
    "\n",
    "* We have included the standard costs for many standard models but we also make it easy to add your own custom costs and custom models. In the following we'll show how to add custom costs for a few models and use the standard costs for the rest.\n",
    "* The costs are calculate based on the tracked tokens for each call in Weave. For many LLM vendor libraries, we will automatically track the token usage, but it is also possible to return custom token counts for any call. See this cookbook on how to define the token count and cost calculation for a custom model - [custom cost cookbook](https://weave-docs.wandb.ai/reference/gen_notebooks/custom_model_cost#setting-up-a-model-with-weave)."
   ]
  },
  {
   "cell_type": "code",
   "execution_count": 11,
   "metadata": {},
   "outputs": [],
   "source": [
    "PROJECT_NAME = \"wandb-smle/weave-cookboook-demo\""
   ]
  },
  {
   "cell_type": "code",
   "execution_count": 3,
   "metadata": {},
   "outputs": [
    {
     "name": "stdout",
     "output_type": "stream",
     "text": [
      "Logged in as Weights & Biases user: nicolas-remerscheid.\n",
      "View Weave data at https://wandb.ai/wandb-smle/weave-cookboook-demo/weave\n"
     ]
    }
   ],
   "source": [
    "import weave\n",
    "\n",
    "MODEL_NAMES = [\n",
    "    # model name, prompt cost, completion cost\n",
    "    (\"gpt-4o-2024-05-13\", 0.03, 0.06),\n",
    "    (\"gpt-4o-mini-2024-07-18\", 0.03, 0.06),\n",
    "    (\"gemini/gemini-1.5-flash\", 0.00025, 0.0005),\n",
    "    (\"gpt-4o-mini\", 0.03, 0.06),\n",
    "    (\"gpt-4-turbo\", 0.03, 0.06),\n",
    "    (\"claude-3-haiku-20240307\", 0.01, 0.03),\n",
    "    (\"gpt-4o\", 0.03, 0.06),\n",
    "]\n",
    "\n",
    "\n",
    "def init_weave_client(project_name):\n",
    "    try:\n",
    "        client = weave.init(project_name)\n",
    "        for model, prompt_cost, completion_cost in MODEL_NAMES:\n",
    "            client.add_cost(\n",
    "                llm_id=model,\n",
    "                prompt_token_cost=prompt_cost,\n",
    "                completion_token_cost=completion_cost,\n",
    "            )\n",
    "        return client\n",
    "    except Exception as e:\n",
    "        print(f\"Failed to initialize Weave client for project '{project_name}': {e}\")\n",
    "        return None\n",
    "\n",
    "\n",
    "client = init_weave_client(PROJECT_NAME)"
   ]
  },
  {
   "cell_type": "markdown",
   "metadata": {},
   "source": [
    "## 2.2 Fetching Calls Data from Weave\n",
    "In order to fetch call data from Weave, we have two options:\n",
    "1. Fetching Data call-by-call\n",
    "2. Using high-level APIs\n",
    "\n",
    "### 2.2.1 Fetching Data call-by-call\n",
    "The first option to access data from Weave is to retrieve a list of filtered calls and extract the wanted data call-by-call. For that we can use the `calls_query_stream` API to fetch the calls data from Weave:\n",
    "\n",
    "* `calls_query_stream` API: This API allows us to fetch the calls data from Weave.\n",
    "* `filter` dictionary: This dictionary contains the filter parameters to fetch the calls data - see [here](https://weave-docs.wandb.ai/reference/python-sdk/weave/trace_server/weave.trace_server.trace_server_interface/#class-callschema) for more details.\n",
    "* `expand_columns` list: This list contains the columns to expand in the calls data.\n",
    "* `sort_by` list: This list contains the sorting parameters for the calls data.\n",
    "* `include_costs` boolean: This boolean indicates whether to include the costs in the calls data.\n",
    "* `include_feedback` boolean: This boolean indicates whether to include the feedback in the calls data."
   ]
  },
  {
   "cell_type": "code",
   "execution_count": 4,
   "metadata": {},
   "outputs": [
    {
     "name": "stdout",
     "output_type": "stream",
     "text": [
      "Fetched 24 calls.\n"
     ]
    }
   ],
   "source": [
    "import itertools\n",
    "from datetime import datetime, timedelta\n",
    "\n",
    "import pandas as pd\n",
    "\n",
    "\n",
    "def fetch_calls(client, project_id, start_time, trace_roots_only, limit):\n",
    "    filter_params = {\n",
    "        \"project_id\": project_id,\n",
    "        \"filter\": {\"started_at\": start_time, \"trace_roots_only\": trace_roots_only},\n",
    "        \"expand_columns\": [\"inputs.example\", \"inputs.model\"],\n",
    "        \"sort_by\": [{\"field\": \"started_at\", \"direction\": \"desc\"}],\n",
    "        \"include_costs\": True,\n",
    "        \"include_feedback\": True,\n",
    "    }\n",
    "    try:\n",
    "        calls_stream = client.server.calls_query_stream(filter_params)\n",
    "        calls = list(\n",
    "            itertools.islice(calls_stream, limit)\n",
    "        )  # limit the number of calls to fetch if too many\n",
    "        print(f\"Fetched {len(calls)} calls.\")\n",
    "        return calls\n",
    "    except Exception as e:\n",
    "        print(f\"Error fetching calls: {e}\")\n",
    "        return []\n",
    "\n",
    "\n",
    "calls = fetch_calls(client, PROJECT_NAME, datetime.now() - timedelta(days=1), True, 100)"
   ]
  },
  {
   "cell_type": "code",
   "execution_count": 5,
   "metadata": {},
   "outputs": [
    {
     "data": {
      "text/html": [
       "<div>\n",
       "<style scoped>\n",
       "    .dataframe tbody tr th:only-of-type {\n",
       "        vertical-align: middle;\n",
       "    }\n",
       "\n",
       "    .dataframe tbody tr th {\n",
       "        vertical-align: top;\n",
       "    }\n",
       "\n",
       "    .dataframe thead th {\n",
       "        text-align: right;\n",
       "    }\n",
       "</style>\n",
       "<table border=\"1\" class=\"dataframe\">\n",
       "  <thead>\n",
       "    <tr style=\"text-align: right;\">\n",
       "      <th></th>\n",
       "      <th>id</th>\n",
       "      <th>project_id</th>\n",
       "      <th>op_name</th>\n",
       "      <th>display_name</th>\n",
       "      <th>trace_id</th>\n",
       "      <th>parent_id</th>\n",
       "      <th>started_at</th>\n",
       "      <th>attributes</th>\n",
       "      <th>inputs</th>\n",
       "      <th>ended_at</th>\n",
       "      <th>exception</th>\n",
       "      <th>output</th>\n",
       "      <th>summary</th>\n",
       "      <th>wb_user_id</th>\n",
       "      <th>wb_run_id</th>\n",
       "      <th>deleted_at</th>\n",
       "    </tr>\n",
       "  </thead>\n",
       "  <tbody>\n",
       "    <tr>\n",
       "      <th>0</th>\n",
       "      <td>01917eac-1b2f-7ef3-90cb-760f85c2f6a7</td>\n",
       "      <td>wandb-smle/weave-cookboook-demo</td>\n",
       "      <td>weave:///wandb-smle/weave-cookboook-demo/op/pr...</td>\n",
       "      <td>None</td>\n",
       "      <td>01917eac-1b30-76b3-bf54-819facc7c0f8</td>\n",
       "      <td>None</td>\n",
       "      <td>2024-08-23 09:58:14.064000+00:00</td>\n",
       "      <td>{'weave': {'client_version': '0.50.13', 'sourc...</td>\n",
       "      <td>{'model_url': 'weave:///wandb-smle/weave-rag-e...</td>\n",
       "      <td>2024-08-23 09:58:36.377000+00:00</td>\n",
       "      <td>None</td>\n",
       "      <td>[The provided text states that the global uppe...</td>\n",
       "      <td>{'weave': {'status': 'TraceStatus.SUCCESS', 't...</td>\n",
       "      <td>VXNlcjoxNjkyOTM2</td>\n",
       "      <td>None</td>\n",
       "      <td>None</td>\n",
       "    </tr>\n",
       "    <tr>\n",
       "      <th>1</th>\n",
       "      <td>01917716-40b5-7e22-babc-6c9aa9e136f8</td>\n",
       "      <td>wandb-smle/weave-cookboook-demo</td>\n",
       "      <td>weave:///wandb-smle/weave-cookboook-demo/op/pr...</td>\n",
       "      <td>None</td>\n",
       "      <td>01917716-40b5-7e22-babc-6ca075aacf73</td>\n",
       "      <td>None</td>\n",
       "      <td>2024-08-21 22:37:12.757000+00:00</td>\n",
       "      <td>{'weave': {'client_version': '0.50.14', 'sourc...</td>\n",
       "      <td>{'model_url': 'weave:///wandb-smle/weave-rag-e...</td>\n",
       "      <td>2024-08-21 22:37:15.698000+00:00</td>\n",
       "      <td>{\"type\": \"AttributeError\", \"message\": \"'Object...</td>\n",
       "      <td>None</td>\n",
       "      <td>{'weave': {'status': 'TraceStatus.ERROR', 'tra...</td>\n",
       "      <td>VXNlcjo2MjYwNDI=</td>\n",
       "      <td>None</td>\n",
       "      <td>None</td>\n",
       "    </tr>\n",
       "    <tr>\n",
       "      <th>2</th>\n",
       "      <td>01916b37-6f53-7e21-ad51-575f5db55c21</td>\n",
       "      <td>wandb-smle/weave-cookboook-demo</td>\n",
       "      <td>weave:///wandb-smle/weave-cookboook-demo/op/pr...</td>\n",
       "      <td>None</td>\n",
       "      <td>01916b37-6f53-7e21-ad51-5761dff73093</td>\n",
       "      <td>None</td>\n",
       "      <td>2024-08-19 15:18:00.789000+00:00</td>\n",
       "      <td>{'weave': {'client_version': '0.50.13', 'sourc...</td>\n",
       "      <td>{'model_url': 'weave:///wandb-smle/weave-rag-e...</td>\n",
       "      <td>2024-08-19 15:18:32.781000+00:00</td>\n",
       "      <td>None</td>\n",
       "      <td>[The provided context focuses on the observed ...</td>\n",
       "      <td>{'weave': {'status': 'TraceStatus.SUCCESS', 't...</td>\n",
       "      <td>VXNlcjoxNjkyOTM2</td>\n",
       "      <td>None</td>\n",
       "      <td>None</td>\n",
       "    </tr>\n",
       "  </tbody>\n",
       "</table>\n",
       "</div>"
      ],
      "text/plain": [
       "                                     id                       project_id  \\\n",
       "0  01917eac-1b2f-7ef3-90cb-760f85c2f6a7  wandb-smle/weave-cookboook-demo   \n",
       "1  01917716-40b5-7e22-babc-6c9aa9e136f8  wandb-smle/weave-cookboook-demo   \n",
       "2  01916b37-6f53-7e21-ad51-575f5db55c21  wandb-smle/weave-cookboook-demo   \n",
       "\n",
       "                                             op_name display_name  \\\n",
       "0  weave:///wandb-smle/weave-cookboook-demo/op/pr...         None   \n",
       "1  weave:///wandb-smle/weave-cookboook-demo/op/pr...         None   \n",
       "2  weave:///wandb-smle/weave-cookboook-demo/op/pr...         None   \n",
       "\n",
       "                               trace_id parent_id  \\\n",
       "0  01917eac-1b30-76b3-bf54-819facc7c0f8      None   \n",
       "1  01917716-40b5-7e22-babc-6ca075aacf73      None   \n",
       "2  01916b37-6f53-7e21-ad51-5761dff73093      None   \n",
       "\n",
       "                        started_at  \\\n",
       "0 2024-08-23 09:58:14.064000+00:00   \n",
       "1 2024-08-21 22:37:12.757000+00:00   \n",
       "2 2024-08-19 15:18:00.789000+00:00   \n",
       "\n",
       "                                          attributes  \\\n",
       "0  {'weave': {'client_version': '0.50.13', 'sourc...   \n",
       "1  {'weave': {'client_version': '0.50.14', 'sourc...   \n",
       "2  {'weave': {'client_version': '0.50.13', 'sourc...   \n",
       "\n",
       "                                              inputs  \\\n",
       "0  {'model_url': 'weave:///wandb-smle/weave-rag-e...   \n",
       "1  {'model_url': 'weave:///wandb-smle/weave-rag-e...   \n",
       "2  {'model_url': 'weave:///wandb-smle/weave-rag-e...   \n",
       "\n",
       "                          ended_at  \\\n",
       "0 2024-08-23 09:58:36.377000+00:00   \n",
       "1 2024-08-21 22:37:15.698000+00:00   \n",
       "2 2024-08-19 15:18:32.781000+00:00   \n",
       "\n",
       "                                           exception  \\\n",
       "0                                               None   \n",
       "1  {\"type\": \"AttributeError\", \"message\": \"'Object...   \n",
       "2                                               None   \n",
       "\n",
       "                                              output  \\\n",
       "0  [The provided text states that the global uppe...   \n",
       "1                                               None   \n",
       "2  [The provided context focuses on the observed ...   \n",
       "\n",
       "                                             summary        wb_user_id  \\\n",
       "0  {'weave': {'status': 'TraceStatus.SUCCESS', 't...  VXNlcjoxNjkyOTM2   \n",
       "1  {'weave': {'status': 'TraceStatus.ERROR', 'tra...  VXNlcjo2MjYwNDI=   \n",
       "2  {'weave': {'status': 'TraceStatus.SUCCESS', 't...  VXNlcjoxNjkyOTM2   \n",
       "\n",
       "  wb_run_id deleted_at  \n",
       "0      None       None  \n",
       "1      None       None  \n",
       "2      None       None  "
      ]
     },
     "execution_count": 5,
     "metadata": {},
     "output_type": "execute_result"
    }
   ],
   "source": [
    "# the raw data is a list of Call objects\n",
    "pd.DataFrame([call.dict() for call in calls]).head(3)"
   ]
  },
  {
   "cell_type": "markdown",
   "metadata": {},
   "source": [
    "Processing the calls is very easy with the return from Weave - we'll extract the relevant information and store it in a list of dictionaries. We'll then convert the list of dictionaries to a pandas DataFrame and return it. "
   ]
  },
  {
   "cell_type": "code",
   "execution_count": 6,
   "metadata": {},
   "outputs": [],
   "source": [
    "import json\n",
    "from datetime import datetime\n",
    "\n",
    "import pandas as pd\n",
    "\n",
    "\n",
    "def process_calls(calls):\n",
    "    records = []\n",
    "    for call in calls:\n",
    "        feedback = call.summary.get(\"weave\", {}).get(\"feedback\", [])\n",
    "        thumbs_up = sum(\n",
    "            1\n",
    "            for item in feedback\n",
    "            if isinstance(item, dict) and item.get(\"payload\", {}).get(\"emoji\") == \"👍\"\n",
    "        )\n",
    "        thumbs_down = sum(\n",
    "            1\n",
    "            for item in feedback\n",
    "            if isinstance(item, dict) and item.get(\"payload\", {}).get(\"emoji\") == \"👎\"\n",
    "        )\n",
    "        latency = call.summary.get(\"weave\", {}).get(\"latency_ms\", 0)\n",
    "\n",
    "        records.append(\n",
    "            {\n",
    "                \"Call ID\": call.id,\n",
    "                \"Trace ID\": call.trace_id,  # this is a unique ID for the trace that can be used to retrieve it\n",
    "                \"Display Name\": call.display_name,  # this is an optional name you can set in the UI or programatically\n",
    "                \"Latency (ms)\": latency,\n",
    "                \"Thumbs Up\": thumbs_up,\n",
    "                \"Thumbs Down\": thumbs_down,\n",
    "                \"Started At\": pd.to_datetime(getattr(call, \"started_at\", datetime.min)),\n",
    "                \"Inputs\": json.dumps(call.inputs, default=str),\n",
    "                \"Outputs\": json.dumps(call.output, default=str),\n",
    "            }\n",
    "        )\n",
    "    return pd.DataFrame(records)"
   ]
  },
  {
   "cell_type": "code",
   "execution_count": 7,
   "metadata": {},
   "outputs": [
    {
     "data": {
      "text/html": [
       "<div>\n",
       "<style scoped>\n",
       "    .dataframe tbody tr th:only-of-type {\n",
       "        vertical-align: middle;\n",
       "    }\n",
       "\n",
       "    .dataframe tbody tr th {\n",
       "        vertical-align: top;\n",
       "    }\n",
       "\n",
       "    .dataframe thead th {\n",
       "        text-align: right;\n",
       "    }\n",
       "</style>\n",
       "<table border=\"1\" class=\"dataframe\">\n",
       "  <thead>\n",
       "    <tr style=\"text-align: right;\">\n",
       "      <th></th>\n",
       "      <th>Call ID</th>\n",
       "      <th>Trace ID</th>\n",
       "      <th>Display Name</th>\n",
       "      <th>Latency (ms)</th>\n",
       "      <th>Thumbs Up</th>\n",
       "      <th>Thumbs Down</th>\n",
       "      <th>Started At</th>\n",
       "      <th>Inputs</th>\n",
       "      <th>Outputs</th>\n",
       "    </tr>\n",
       "  </thead>\n",
       "  <tbody>\n",
       "    <tr>\n",
       "      <th>0</th>\n",
       "      <td>01917eac-1b2f-7ef3-90cb-760f85c2f6a7</td>\n",
       "      <td>01917eac-1b30-76b3-bf54-819facc7c0f8</td>\n",
       "      <td>None</td>\n",
       "      <td>22313</td>\n",
       "      <td>0</td>\n",
       "      <td>0</td>\n",
       "      <td>2024-08-23 09:58:14.064000+00:00</td>\n",
       "      <td>{\"model_url\": \"weave:///wandb-smle/weave-rag-e...</td>\n",
       "      <td>[\"The provided text states that the global upp...</td>\n",
       "    </tr>\n",
       "    <tr>\n",
       "      <th>1</th>\n",
       "      <td>01917716-40b5-7e22-babc-6c9aa9e136f8</td>\n",
       "      <td>01917716-40b5-7e22-babc-6ca075aacf73</td>\n",
       "      <td>None</td>\n",
       "      <td>2941</td>\n",
       "      <td>0</td>\n",
       "      <td>0</td>\n",
       "      <td>2024-08-21 22:37:12.757000+00:00</td>\n",
       "      <td>{\"model_url\": \"weave:///wandb-smle/weave-rag-e...</td>\n",
       "      <td>null</td>\n",
       "    </tr>\n",
       "    <tr>\n",
       "      <th>2</th>\n",
       "      <td>01916b37-6f53-7e21-ad51-575f5db55c21</td>\n",
       "      <td>01916b37-6f53-7e21-ad51-5761dff73093</td>\n",
       "      <td>None</td>\n",
       "      <td>31992</td>\n",
       "      <td>0</td>\n",
       "      <td>1</td>\n",
       "      <td>2024-08-19 15:18:00.789000+00:00</td>\n",
       "      <td>{\"model_url\": \"weave:///wandb-smle/weave-rag-e...</td>\n",
       "      <td>[\"The provided context focuses on the observed...</td>\n",
       "    </tr>\n",
       "  </tbody>\n",
       "</table>\n",
       "</div>"
      ],
      "text/plain": [
       "                                Call ID                              Trace ID  \\\n",
       "0  01917eac-1b2f-7ef3-90cb-760f85c2f6a7  01917eac-1b30-76b3-bf54-819facc7c0f8   \n",
       "1  01917716-40b5-7e22-babc-6c9aa9e136f8  01917716-40b5-7e22-babc-6ca075aacf73   \n",
       "2  01916b37-6f53-7e21-ad51-575f5db55c21  01916b37-6f53-7e21-ad51-5761dff73093   \n",
       "\n",
       "  Display Name  Latency (ms)  Thumbs Up  Thumbs Down  \\\n",
       "0         None         22313          0            0   \n",
       "1         None          2941          0            0   \n",
       "2         None         31992          0            1   \n",
       "\n",
       "                        Started At  \\\n",
       "0 2024-08-23 09:58:14.064000+00:00   \n",
       "1 2024-08-21 22:37:12.757000+00:00   \n",
       "2 2024-08-19 15:18:00.789000+00:00   \n",
       "\n",
       "                                              Inputs  \\\n",
       "0  {\"model_url\": \"weave:///wandb-smle/weave-rag-e...   \n",
       "1  {\"model_url\": \"weave:///wandb-smle/weave-rag-e...   \n",
       "2  {\"model_url\": \"weave:///wandb-smle/weave-rag-e...   \n",
       "\n",
       "                                             Outputs  \n",
       "0  [\"The provided text states that the global upp...  \n",
       "1                                               null  \n",
       "2  [\"The provided context focuses on the observed...  "
      ]
     },
     "execution_count": 7,
     "metadata": {},
     "output_type": "execute_result"
    }
   ],
   "source": [
    "df_calls = process_calls(calls)\n",
    "df_calls.head(3)"
   ]
  },
  {
   "cell_type": "markdown",
   "metadata": {},
   "source": [
    "### 2.2.2 Using high-level APIs\n",
    "Instead of goin through every call Weave also provides high-level APIs to directly access model costs, feedback, and other metrics. \n",
    "For example, for the cost, we'll use the `query_costs` API to fetch the costs of all used LLMs using in project:"
   ]
  },
  {
   "cell_type": "code",
   "execution_count": 8,
   "metadata": {},
   "outputs": [
    {
     "data": {
      "text/html": [
       "<div>\n",
       "<style scoped>\n",
       "    .dataframe tbody tr th:only-of-type {\n",
       "        vertical-align: middle;\n",
       "    }\n",
       "\n",
       "    .dataframe tbody tr th {\n",
       "        vertical-align: top;\n",
       "    }\n",
       "\n",
       "    .dataframe thead th {\n",
       "        text-align: right;\n",
       "    }\n",
       "</style>\n",
       "<table border=\"1\" class=\"dataframe\">\n",
       "  <thead>\n",
       "    <tr style=\"text-align: right;\">\n",
       "      <th></th>\n",
       "      <th>id</th>\n",
       "      <th>llm_id</th>\n",
       "      <th>prompt_token_cost</th>\n",
       "      <th>completion_token_cost</th>\n",
       "      <th>prompt_token_cost_unit</th>\n",
       "      <th>completion_token_cost_unit</th>\n",
       "      <th>effective_date</th>\n",
       "      <th>provider_id</th>\n",
       "      <th>total_cost</th>\n",
       "    </tr>\n",
       "  </thead>\n",
       "  <tbody>\n",
       "    <tr>\n",
       "      <th>0</th>\n",
       "      <td>01921f0f-d012-7fe1-9989-7176fbf04627</td>\n",
       "      <td>gpt-4o</td>\n",
       "      <td>0.03000</td>\n",
       "      <td>0.0600</td>\n",
       "      <td>USD</td>\n",
       "      <td>USD</td>\n",
       "      <td>2024-09-23 13:26:15.579</td>\n",
       "      <td>default</td>\n",
       "      <td>0.09000</td>\n",
       "    </tr>\n",
       "    <tr>\n",
       "      <th>1</th>\n",
       "      <td>01920e9c-e983-70c3-9a27-03843491f772</td>\n",
       "      <td>claude-3-haiku-20240307</td>\n",
       "      <td>0.01000</td>\n",
       "      <td>0.0300</td>\n",
       "      <td>USD</td>\n",
       "      <td>USD</td>\n",
       "      <td>2024-09-18 20:00:31.111</td>\n",
       "      <td>default</td>\n",
       "      <td>0.04000</td>\n",
       "    </tr>\n",
       "    <tr>\n",
       "      <th>2</th>\n",
       "      <td>01920e9c-e4ac-7df2-b27c-fe274e1b041f</td>\n",
       "      <td>gemini/gemini-1.5-flash</td>\n",
       "      <td>0.00025</td>\n",
       "      <td>0.0005</td>\n",
       "      <td>USD</td>\n",
       "      <td>USD</td>\n",
       "      <td>2024-09-18 20:00:31.111</td>\n",
       "      <td>default</td>\n",
       "      <td>0.00075</td>\n",
       "    </tr>\n",
       "    <tr>\n",
       "      <th>3</th>\n",
       "      <td>01920e9c-e7fb-7390-8e90-f27a74592f0c</td>\n",
       "      <td>gpt-4-turbo</td>\n",
       "      <td>0.03000</td>\n",
       "      <td>0.0600</td>\n",
       "      <td>USD</td>\n",
       "      <td>USD</td>\n",
       "      <td>2024-09-18 20:00:31.111</td>\n",
       "      <td>default</td>\n",
       "      <td>0.09000</td>\n",
       "    </tr>\n",
       "    <tr>\n",
       "      <th>4</th>\n",
       "      <td>01920e9c-e124-7d12-af9d-e32bb4d63a91</td>\n",
       "      <td>gpt-4o-2024-05-13</td>\n",
       "      <td>0.03000</td>\n",
       "      <td>0.0600</td>\n",
       "      <td>USD</td>\n",
       "      <td>USD</td>\n",
       "      <td>2024-09-18 20:00:31.111</td>\n",
       "      <td>default</td>\n",
       "      <td>0.09000</td>\n",
       "    </tr>\n",
       "    <tr>\n",
       "      <th>5</th>\n",
       "      <td>01920e9c-e664-7a53-b1d9-61c6944b6fb0</td>\n",
       "      <td>gpt-4o-mini</td>\n",
       "      <td>0.03000</td>\n",
       "      <td>0.0600</td>\n",
       "      <td>USD</td>\n",
       "      <td>USD</td>\n",
       "      <td>2024-09-18 20:00:31.111</td>\n",
       "      <td>default</td>\n",
       "      <td>0.09000</td>\n",
       "    </tr>\n",
       "    <tr>\n",
       "      <th>6</th>\n",
       "      <td>01920e9c-e2e4-7da3-b77f-3163b4d36fed</td>\n",
       "      <td>gpt-4o-mini-2024-07-18</td>\n",
       "      <td>0.03000</td>\n",
       "      <td>0.0600</td>\n",
       "      <td>USD</td>\n",
       "      <td>USD</td>\n",
       "      <td>2024-09-18 20:00:31.111</td>\n",
       "      <td>default</td>\n",
       "      <td>0.09000</td>\n",
       "    </tr>\n",
       "    <tr>\n",
       "      <th>7</th>\n",
       "      <td>0191e842-17d6-7b52-8111-106a55c54fda</td>\n",
       "      <td>your_model_name</td>\n",
       "      <td>0.10000</td>\n",
       "      <td>0.2000</td>\n",
       "      <td>USD</td>\n",
       "      <td>USD</td>\n",
       "      <td>2024-09-12 22:02:11.286</td>\n",
       "      <td>default</td>\n",
       "      <td>0.30000</td>\n",
       "    </tr>\n",
       "  </tbody>\n",
       "</table>\n",
       "</div>"
      ],
      "text/plain": [
       "                                     id                   llm_id  \\\n",
       "0  01921f0f-d012-7fe1-9989-7176fbf04627                   gpt-4o   \n",
       "1  01920e9c-e983-70c3-9a27-03843491f772  claude-3-haiku-20240307   \n",
       "2  01920e9c-e4ac-7df2-b27c-fe274e1b041f  gemini/gemini-1.5-flash   \n",
       "3  01920e9c-e7fb-7390-8e90-f27a74592f0c              gpt-4-turbo   \n",
       "4  01920e9c-e124-7d12-af9d-e32bb4d63a91        gpt-4o-2024-05-13   \n",
       "5  01920e9c-e664-7a53-b1d9-61c6944b6fb0              gpt-4o-mini   \n",
       "6  01920e9c-e2e4-7da3-b77f-3163b4d36fed   gpt-4o-mini-2024-07-18   \n",
       "7  0191e842-17d6-7b52-8111-106a55c54fda          your_model_name   \n",
       "\n",
       "   prompt_token_cost  completion_token_cost prompt_token_cost_unit  \\\n",
       "0            0.03000                 0.0600                    USD   \n",
       "1            0.01000                 0.0300                    USD   \n",
       "2            0.00025                 0.0005                    USD   \n",
       "3            0.03000                 0.0600                    USD   \n",
       "4            0.03000                 0.0600                    USD   \n",
       "5            0.03000                 0.0600                    USD   \n",
       "6            0.03000                 0.0600                    USD   \n",
       "7            0.10000                 0.2000                    USD   \n",
       "\n",
       "  completion_token_cost_unit          effective_date provider_id  total_cost  \n",
       "0                        USD 2024-09-23 13:26:15.579     default     0.09000  \n",
       "1                        USD 2024-09-18 20:00:31.111     default     0.04000  \n",
       "2                        USD 2024-09-18 20:00:31.111     default     0.00075  \n",
       "3                        USD 2024-09-18 20:00:31.111     default     0.09000  \n",
       "4                        USD 2024-09-18 20:00:31.111     default     0.09000  \n",
       "5                        USD 2024-09-18 20:00:31.111     default     0.09000  \n",
       "6                        USD 2024-09-18 20:00:31.111     default     0.09000  \n",
       "7                        USD 2024-09-12 22:02:11.286     default     0.30000  "
      ]
     },
     "execution_count": 8,
     "metadata": {},
     "output_type": "execute_result"
    }
   ],
   "source": [
    "# Use cost API to get costs\n",
    "costs = client.query_costs()\n",
    "df_costs = pd.DataFrame([cost.dict() for cost in costs])\n",
    "df_costs[\"total_cost\"] = (\n",
    "    df_costs[\"prompt_token_cost\"] + df_costs[\"completion_token_cost\"]\n",
    ")\n",
    "\n",
    "# only show the first row for every unqiue llm_id\n",
    "df_costs"
   ]
  },
  {
   "cell_type": "markdown",
   "metadata": {},
   "source": [
    "## 2.4 Gathering inputs and generating visualizations\n",
    "Next, we can generate the visualizations using plotly. This is the most basic dashboard, but you can customize it as you like! For a more complex example, check out a Streamlit example [here](https://github.com/NiWaRe/knowledge-worker-weave/blob/master/prod_dashboard.py)."
   ]
  },
  {
   "cell_type": "code",
   "execution_count": 9,
   "metadata": {},
   "outputs": [],
   "source": [
    "import plotly.express as px\n",
    "import plotly.graph_objects as go\n",
    "\n",
    "\n",
    "def plot_feedback_pie_chart(thumbs_up, thumbs_down):\n",
    "    fig = go.Figure(\n",
    "        data=[\n",
    "            go.Pie(\n",
    "                labels=[\"Thumbs Up\", \"Thumbs Down\"],\n",
    "                values=[thumbs_up, thumbs_down],\n",
    "                marker=dict(colors=[\"#66b3ff\", \"#ff9999\"]),\n",
    "                hole=0.3,\n",
    "            )\n",
    "        ]\n",
    "    )\n",
    "    fig.update_traces(textinfo=\"percent+label\", hoverinfo=\"label+percent\")\n",
    "    fig.update_layout(showlegend=False, title=\"Feedback Summary\")\n",
    "    return fig\n",
    "\n",
    "\n",
    "def plot_model_cost_distribution(df):\n",
    "    fig = px.bar(\n",
    "        df,\n",
    "        x=\"llm_id\",\n",
    "        y=\"total_cost\",\n",
    "        color=\"llm_id\",\n",
    "        title=\"Cost Distribution by Model\",\n",
    "    )\n",
    "    fig.update_layout(xaxis_title=\"Model\", yaxis_title=\"Cost (USD)\")\n",
    "    return fig\n",
    "\n",
    "\n",
    "# See the source code for all the plots"
   ]
  },
  {
   "cell_type": "code",
   "execution_count": 10,
   "metadata": {},
   "outputs": [
    {
     "data": {
      "application/vnd.plotly.v1+json": {
       "config": {
        "plotlyServerURL": "https://plot.ly"
       },
       "data": [
        {
         "hole": 0.3,
         "hoverinfo": "label+percent",
         "labels": [
          "Thumbs Up",
          "Thumbs Down"
         ],
         "marker": {
          "colors": [
           "#66b3ff",
           "#ff9999"
          ]
         },
         "textinfo": "percent+label",
         "type": "pie",
         "values": [
          5,
          4
         ]
        }
       ],
       "layout": {
        "showlegend": false,
        "template": {
         "data": {
          "bar": [
           {
            "error_x": {
             "color": "#2a3f5f"
            },
            "error_y": {
             "color": "#2a3f5f"
            },
            "marker": {
             "line": {
              "color": "#E5ECF6",
              "width": 0.5
             },
             "pattern": {
              "fillmode": "overlay",
              "size": 10,
              "solidity": 0.2
             }
            },
            "type": "bar"
           }
          ],
          "barpolar": [
           {
            "marker": {
             "line": {
              "color": "#E5ECF6",
              "width": 0.5
             },
             "pattern": {
              "fillmode": "overlay",
              "size": 10,
              "solidity": 0.2
             }
            },
            "type": "barpolar"
           }
          ],
          "carpet": [
           {
            "aaxis": {
             "endlinecolor": "#2a3f5f",
             "gridcolor": "white",
             "linecolor": "white",
             "minorgridcolor": "white",
             "startlinecolor": "#2a3f5f"
            },
            "baxis": {
             "endlinecolor": "#2a3f5f",
             "gridcolor": "white",
             "linecolor": "white",
             "minorgridcolor": "white",
             "startlinecolor": "#2a3f5f"
            },
            "type": "carpet"
           }
          ],
          "choropleth": [
           {
            "colorbar": {
             "outlinewidth": 0,
             "ticks": ""
            },
            "type": "choropleth"
           }
          ],
          "contour": [
           {
            "colorbar": {
             "outlinewidth": 0,
             "ticks": ""
            },
            "colorscale": [
             [
              0,
              "#0d0887"
             ],
             [
              0.1111111111111111,
              "#46039f"
             ],
             [
              0.2222222222222222,
              "#7201a8"
             ],
             [
              0.3333333333333333,
              "#9c179e"
             ],
             [
              0.4444444444444444,
              "#bd3786"
             ],
             [
              0.5555555555555556,
              "#d8576b"
             ],
             [
              0.6666666666666666,
              "#ed7953"
             ],
             [
              0.7777777777777778,
              "#fb9f3a"
             ],
             [
              0.8888888888888888,
              "#fdca26"
             ],
             [
              1,
              "#f0f921"
             ]
            ],
            "type": "contour"
           }
          ],
          "contourcarpet": [
           {
            "colorbar": {
             "outlinewidth": 0,
             "ticks": ""
            },
            "type": "contourcarpet"
           }
          ],
          "heatmap": [
           {
            "colorbar": {
             "outlinewidth": 0,
             "ticks": ""
            },
            "colorscale": [
             [
              0,
              "#0d0887"
             ],
             [
              0.1111111111111111,
              "#46039f"
             ],
             [
              0.2222222222222222,
              "#7201a8"
             ],
             [
              0.3333333333333333,
              "#9c179e"
             ],
             [
              0.4444444444444444,
              "#bd3786"
             ],
             [
              0.5555555555555556,
              "#d8576b"
             ],
             [
              0.6666666666666666,
              "#ed7953"
             ],
             [
              0.7777777777777778,
              "#fb9f3a"
             ],
             [
              0.8888888888888888,
              "#fdca26"
             ],
             [
              1,
              "#f0f921"
             ]
            ],
            "type": "heatmap"
           }
          ],
          "heatmapgl": [
           {
            "colorbar": {
             "outlinewidth": 0,
             "ticks": ""
            },
            "colorscale": [
             [
              0,
              "#0d0887"
             ],
             [
              0.1111111111111111,
              "#46039f"
             ],
             [
              0.2222222222222222,
              "#7201a8"
             ],
             [
              0.3333333333333333,
              "#9c179e"
             ],
             [
              0.4444444444444444,
              "#bd3786"
             ],
             [
              0.5555555555555556,
              "#d8576b"
             ],
             [
              0.6666666666666666,
              "#ed7953"
             ],
             [
              0.7777777777777778,
              "#fb9f3a"
             ],
             [
              0.8888888888888888,
              "#fdca26"
             ],
             [
              1,
              "#f0f921"
             ]
            ],
            "type": "heatmapgl"
           }
          ],
          "histogram": [
           {
            "marker": {
             "pattern": {
              "fillmode": "overlay",
              "size": 10,
              "solidity": 0.2
             }
            },
            "type": "histogram"
           }
          ],
          "histogram2d": [
           {
            "colorbar": {
             "outlinewidth": 0,
             "ticks": ""
            },
            "colorscale": [
             [
              0,
              "#0d0887"
             ],
             [
              0.1111111111111111,
              "#46039f"
             ],
             [
              0.2222222222222222,
              "#7201a8"
             ],
             [
              0.3333333333333333,
              "#9c179e"
             ],
             [
              0.4444444444444444,
              "#bd3786"
             ],
             [
              0.5555555555555556,
              "#d8576b"
             ],
             [
              0.6666666666666666,
              "#ed7953"
             ],
             [
              0.7777777777777778,
              "#fb9f3a"
             ],
             [
              0.8888888888888888,
              "#fdca26"
             ],
             [
              1,
              "#f0f921"
             ]
            ],
            "type": "histogram2d"
           }
          ],
          "histogram2dcontour": [
           {
            "colorbar": {
             "outlinewidth": 0,
             "ticks": ""
            },
            "colorscale": [
             [
              0,
              "#0d0887"
             ],
             [
              0.1111111111111111,
              "#46039f"
             ],
             [
              0.2222222222222222,
              "#7201a8"
             ],
             [
              0.3333333333333333,
              "#9c179e"
             ],
             [
              0.4444444444444444,
              "#bd3786"
             ],
             [
              0.5555555555555556,
              "#d8576b"
             ],
             [
              0.6666666666666666,
              "#ed7953"
             ],
             [
              0.7777777777777778,
              "#fb9f3a"
             ],
             [
              0.8888888888888888,
              "#fdca26"
             ],
             [
              1,
              "#f0f921"
             ]
            ],
            "type": "histogram2dcontour"
           }
          ],
          "mesh3d": [
           {
            "colorbar": {
             "outlinewidth": 0,
             "ticks": ""
            },
            "type": "mesh3d"
           }
          ],
          "parcoords": [
           {
            "line": {
             "colorbar": {
              "outlinewidth": 0,
              "ticks": ""
             }
            },
            "type": "parcoords"
           }
          ],
          "pie": [
           {
            "automargin": true,
            "type": "pie"
           }
          ],
          "scatter": [
           {
            "fillpattern": {
             "fillmode": "overlay",
             "size": 10,
             "solidity": 0.2
            },
            "type": "scatter"
           }
          ],
          "scatter3d": [
           {
            "line": {
             "colorbar": {
              "outlinewidth": 0,
              "ticks": ""
             }
            },
            "marker": {
             "colorbar": {
              "outlinewidth": 0,
              "ticks": ""
             }
            },
            "type": "scatter3d"
           }
          ],
          "scattercarpet": [
           {
            "marker": {
             "colorbar": {
              "outlinewidth": 0,
              "ticks": ""
             }
            },
            "type": "scattercarpet"
           }
          ],
          "scattergeo": [
           {
            "marker": {
             "colorbar": {
              "outlinewidth": 0,
              "ticks": ""
             }
            },
            "type": "scattergeo"
           }
          ],
          "scattergl": [
           {
            "marker": {
             "colorbar": {
              "outlinewidth": 0,
              "ticks": ""
             }
            },
            "type": "scattergl"
           }
          ],
          "scattermapbox": [
           {
            "marker": {
             "colorbar": {
              "outlinewidth": 0,
              "ticks": ""
             }
            },
            "type": "scattermapbox"
           }
          ],
          "scatterpolar": [
           {
            "marker": {
             "colorbar": {
              "outlinewidth": 0,
              "ticks": ""
             }
            },
            "type": "scatterpolar"
           }
          ],
          "scatterpolargl": [
           {
            "marker": {
             "colorbar": {
              "outlinewidth": 0,
              "ticks": ""
             }
            },
            "type": "scatterpolargl"
           }
          ],
          "scatterternary": [
           {
            "marker": {
             "colorbar": {
              "outlinewidth": 0,
              "ticks": ""
             }
            },
            "type": "scatterternary"
           }
          ],
          "surface": [
           {
            "colorbar": {
             "outlinewidth": 0,
             "ticks": ""
            },
            "colorscale": [
             [
              0,
              "#0d0887"
             ],
             [
              0.1111111111111111,
              "#46039f"
             ],
             [
              0.2222222222222222,
              "#7201a8"
             ],
             [
              0.3333333333333333,
              "#9c179e"
             ],
             [
              0.4444444444444444,
              "#bd3786"
             ],
             [
              0.5555555555555556,
              "#d8576b"
             ],
             [
              0.6666666666666666,
              "#ed7953"
             ],
             [
              0.7777777777777778,
              "#fb9f3a"
             ],
             [
              0.8888888888888888,
              "#fdca26"
             ],
             [
              1,
              "#f0f921"
             ]
            ],
            "type": "surface"
           }
          ],
          "table": [
           {
            "cells": {
             "fill": {
              "color": "#EBF0F8"
             },
             "line": {
              "color": "white"
             }
            },
            "header": {
             "fill": {
              "color": "#C8D4E3"
             },
             "line": {
              "color": "white"
             }
            },
            "type": "table"
           }
          ]
         },
         "layout": {
          "annotationdefaults": {
           "arrowcolor": "#2a3f5f",
           "arrowhead": 0,
           "arrowwidth": 1
          },
          "autotypenumbers": "strict",
          "coloraxis": {
           "colorbar": {
            "outlinewidth": 0,
            "ticks": ""
           }
          },
          "colorscale": {
           "diverging": [
            [
             0,
             "#8e0152"
            ],
            [
             0.1,
             "#c51b7d"
            ],
            [
             0.2,
             "#de77ae"
            ],
            [
             0.3,
             "#f1b6da"
            ],
            [
             0.4,
             "#fde0ef"
            ],
            [
             0.5,
             "#f7f7f7"
            ],
            [
             0.6,
             "#e6f5d0"
            ],
            [
             0.7,
             "#b8e186"
            ],
            [
             0.8,
             "#7fbc41"
            ],
            [
             0.9,
             "#4d9221"
            ],
            [
             1,
             "#276419"
            ]
           ],
           "sequential": [
            [
             0,
             "#0d0887"
            ],
            [
             0.1111111111111111,
             "#46039f"
            ],
            [
             0.2222222222222222,
             "#7201a8"
            ],
            [
             0.3333333333333333,
             "#9c179e"
            ],
            [
             0.4444444444444444,
             "#bd3786"
            ],
            [
             0.5555555555555556,
             "#d8576b"
            ],
            [
             0.6666666666666666,
             "#ed7953"
            ],
            [
             0.7777777777777778,
             "#fb9f3a"
            ],
            [
             0.8888888888888888,
             "#fdca26"
            ],
            [
             1,
             "#f0f921"
            ]
           ],
           "sequentialminus": [
            [
             0,
             "#0d0887"
            ],
            [
             0.1111111111111111,
             "#46039f"
            ],
            [
             0.2222222222222222,
             "#7201a8"
            ],
            [
             0.3333333333333333,
             "#9c179e"
            ],
            [
             0.4444444444444444,
             "#bd3786"
            ],
            [
             0.5555555555555556,
             "#d8576b"
            ],
            [
             0.6666666666666666,
             "#ed7953"
            ],
            [
             0.7777777777777778,
             "#fb9f3a"
            ],
            [
             0.8888888888888888,
             "#fdca26"
            ],
            [
             1,
             "#f0f921"
            ]
           ]
          },
          "colorway": [
           "#636efa",
           "#EF553B",
           "#00cc96",
           "#ab63fa",
           "#FFA15A",
           "#19d3f3",
           "#FF6692",
           "#B6E880",
           "#FF97FF",
           "#FECB52"
          ],
          "font": {
           "color": "#2a3f5f"
          },
          "geo": {
           "bgcolor": "white",
           "lakecolor": "white",
           "landcolor": "#E5ECF6",
           "showlakes": true,
           "showland": true,
           "subunitcolor": "white"
          },
          "hoverlabel": {
           "align": "left"
          },
          "hovermode": "closest",
          "mapbox": {
           "style": "light"
          },
          "paper_bgcolor": "white",
          "plot_bgcolor": "#E5ECF6",
          "polar": {
           "angularaxis": {
            "gridcolor": "white",
            "linecolor": "white",
            "ticks": ""
           },
           "bgcolor": "#E5ECF6",
           "radialaxis": {
            "gridcolor": "white",
            "linecolor": "white",
            "ticks": ""
           }
          },
          "scene": {
           "xaxis": {
            "backgroundcolor": "#E5ECF6",
            "gridcolor": "white",
            "gridwidth": 2,
            "linecolor": "white",
            "showbackground": true,
            "ticks": "",
            "zerolinecolor": "white"
           },
           "yaxis": {
            "backgroundcolor": "#E5ECF6",
            "gridcolor": "white",
            "gridwidth": 2,
            "linecolor": "white",
            "showbackground": true,
            "ticks": "",
            "zerolinecolor": "white"
           },
           "zaxis": {
            "backgroundcolor": "#E5ECF6",
            "gridcolor": "white",
            "gridwidth": 2,
            "linecolor": "white",
            "showbackground": true,
            "ticks": "",
            "zerolinecolor": "white"
           }
          },
          "shapedefaults": {
           "line": {
            "color": "#2a3f5f"
           }
          },
          "ternary": {
           "aaxis": {
            "gridcolor": "white",
            "linecolor": "white",
            "ticks": ""
           },
           "baxis": {
            "gridcolor": "white",
            "linecolor": "white",
            "ticks": ""
           },
           "bgcolor": "#E5ECF6",
           "caxis": {
            "gridcolor": "white",
            "linecolor": "white",
            "ticks": ""
           }
          },
          "title": {
           "x": 0.05
          },
          "xaxis": {
           "automargin": true,
           "gridcolor": "white",
           "linecolor": "white",
           "ticks": "",
           "title": {
            "standoff": 15
           },
           "zerolinecolor": "white",
           "zerolinewidth": 2
          },
          "yaxis": {
           "automargin": true,
           "gridcolor": "white",
           "linecolor": "white",
           "ticks": "",
           "title": {
            "standoff": 15
           },
           "zerolinecolor": "white",
           "zerolinewidth": 2
          }
         }
        },
        "title": {
         "text": "Feedback Summary"
        }
       }
      }
     },
     "metadata": {},
     "output_type": "display_data"
    }
   ],
   "source": [
    "plot_feedback_pie_chart(df_calls[\"Thumbs Up\"].sum(), df_calls[\"Thumbs Down\"].sum())"
   ]
  },
  {
   "cell_type": "code",
   "execution_count": 11,
   "metadata": {},
   "outputs": [
    {
     "data": {
      "application/vnd.plotly.v1+json": {
       "config": {
        "plotlyServerURL": "https://plot.ly"
       },
       "data": [
        {
         "alignmentgroup": "True",
         "hovertemplate": "llm_id=%{x}<br>total_cost=%{y}<extra></extra>",
         "legendgroup": "gpt-4o",
         "marker": {
          "color": "#636efa",
          "pattern": {
           "shape": ""
          }
         },
         "name": "gpt-4o",
         "offsetgroup": "gpt-4o",
         "orientation": "v",
         "showlegend": true,
         "textposition": "auto",
         "type": "bar",
         "x": [
          "gpt-4o"
         ],
         "xaxis": "x",
         "y": [
          0.08999999798834324
         ],
         "yaxis": "y"
        },
        {
         "alignmentgroup": "True",
         "hovertemplate": "llm_id=%{x}<br>total_cost=%{y}<extra></extra>",
         "legendgroup": "claude-3-haiku-20240307",
         "marker": {
          "color": "#EF553B",
          "pattern": {
           "shape": ""
          }
         },
         "name": "claude-3-haiku-20240307",
         "offsetgroup": "claude-3-haiku-20240307",
         "orientation": "v",
         "showlegend": true,
         "textposition": "auto",
         "type": "bar",
         "x": [
          "claude-3-haiku-20240307"
         ],
         "xaxis": "x",
         "y": [
          0.03999999910593033
         ],
         "yaxis": "y"
        },
        {
         "alignmentgroup": "True",
         "hovertemplate": "llm_id=%{x}<br>total_cost=%{y}<extra></extra>",
         "legendgroup": "gemini/gemini-1.5-flash",
         "marker": {
          "color": "#00cc96",
          "pattern": {
           "shape": ""
          }
         },
         "name": "gemini/gemini-1.5-flash",
         "offsetgroup": "gemini/gemini-1.5-flash",
         "orientation": "v",
         "showlegend": true,
         "textposition": "auto",
         "type": "bar",
         "x": [
          "gemini/gemini-1.5-flash"
         ],
         "xaxis": "x",
         "y": [
          0.0007500000356230885
         ],
         "yaxis": "y"
        },
        {
         "alignmentgroup": "True",
         "hovertemplate": "llm_id=%{x}<br>total_cost=%{y}<extra></extra>",
         "legendgroup": "gpt-4-turbo",
         "marker": {
          "color": "#ab63fa",
          "pattern": {
           "shape": ""
          }
         },
         "name": "gpt-4-turbo",
         "offsetgroup": "gpt-4-turbo",
         "orientation": "v",
         "showlegend": true,
         "textposition": "auto",
         "type": "bar",
         "x": [
          "gpt-4-turbo"
         ],
         "xaxis": "x",
         "y": [
          0.08999999798834324
         ],
         "yaxis": "y"
        },
        {
         "alignmentgroup": "True",
         "hovertemplate": "llm_id=%{x}<br>total_cost=%{y}<extra></extra>",
         "legendgroup": "gpt-4o-2024-05-13",
         "marker": {
          "color": "#FFA15A",
          "pattern": {
           "shape": ""
          }
         },
         "name": "gpt-4o-2024-05-13",
         "offsetgroup": "gpt-4o-2024-05-13",
         "orientation": "v",
         "showlegend": true,
         "textposition": "auto",
         "type": "bar",
         "x": [
          "gpt-4o-2024-05-13"
         ],
         "xaxis": "x",
         "y": [
          0.08999999798834324
         ],
         "yaxis": "y"
        },
        {
         "alignmentgroup": "True",
         "hovertemplate": "llm_id=%{x}<br>total_cost=%{y}<extra></extra>",
         "legendgroup": "gpt-4o-mini",
         "marker": {
          "color": "#19d3f3",
          "pattern": {
           "shape": ""
          }
         },
         "name": "gpt-4o-mini",
         "offsetgroup": "gpt-4o-mini",
         "orientation": "v",
         "showlegend": true,
         "textposition": "auto",
         "type": "bar",
         "x": [
          "gpt-4o-mini"
         ],
         "xaxis": "x",
         "y": [
          0.08999999798834324
         ],
         "yaxis": "y"
        },
        {
         "alignmentgroup": "True",
         "hovertemplate": "llm_id=%{x}<br>total_cost=%{y}<extra></extra>",
         "legendgroup": "gpt-4o-mini-2024-07-18",
         "marker": {
          "color": "#FF6692",
          "pattern": {
           "shape": ""
          }
         },
         "name": "gpt-4o-mini-2024-07-18",
         "offsetgroup": "gpt-4o-mini-2024-07-18",
         "orientation": "v",
         "showlegend": true,
         "textposition": "auto",
         "type": "bar",
         "x": [
          "gpt-4o-mini-2024-07-18"
         ],
         "xaxis": "x",
         "y": [
          0.08999999798834324
         ],
         "yaxis": "y"
        },
        {
         "alignmentgroup": "True",
         "hovertemplate": "llm_id=%{x}<br>total_cost=%{y}<extra></extra>",
         "legendgroup": "your_model_name",
         "marker": {
          "color": "#B6E880",
          "pattern": {
           "shape": ""
          }
         },
         "name": "your_model_name",
         "offsetgroup": "your_model_name",
         "orientation": "v",
         "showlegend": true,
         "textposition": "auto",
         "type": "bar",
         "x": [
          "your_model_name"
         ],
         "xaxis": "x",
         "y": [
          0.30000000447034836
         ],
         "yaxis": "y"
        }
       ],
       "layout": {
        "barmode": "relative",
        "legend": {
         "title": {
          "text": "llm_id"
         },
         "tracegroupgap": 0
        },
        "template": {
         "data": {
          "bar": [
           {
            "error_x": {
             "color": "#2a3f5f"
            },
            "error_y": {
             "color": "#2a3f5f"
            },
            "marker": {
             "line": {
              "color": "#E5ECF6",
              "width": 0.5
             },
             "pattern": {
              "fillmode": "overlay",
              "size": 10,
              "solidity": 0.2
             }
            },
            "type": "bar"
           }
          ],
          "barpolar": [
           {
            "marker": {
             "line": {
              "color": "#E5ECF6",
              "width": 0.5
             },
             "pattern": {
              "fillmode": "overlay",
              "size": 10,
              "solidity": 0.2
             }
            },
            "type": "barpolar"
           }
          ],
          "carpet": [
           {
            "aaxis": {
             "endlinecolor": "#2a3f5f",
             "gridcolor": "white",
             "linecolor": "white",
             "minorgridcolor": "white",
             "startlinecolor": "#2a3f5f"
            },
            "baxis": {
             "endlinecolor": "#2a3f5f",
             "gridcolor": "white",
             "linecolor": "white",
             "minorgridcolor": "white",
             "startlinecolor": "#2a3f5f"
            },
            "type": "carpet"
           }
          ],
          "choropleth": [
           {
            "colorbar": {
             "outlinewidth": 0,
             "ticks": ""
            },
            "type": "choropleth"
           }
          ],
          "contour": [
           {
            "colorbar": {
             "outlinewidth": 0,
             "ticks": ""
            },
            "colorscale": [
             [
              0,
              "#0d0887"
             ],
             [
              0.1111111111111111,
              "#46039f"
             ],
             [
              0.2222222222222222,
              "#7201a8"
             ],
             [
              0.3333333333333333,
              "#9c179e"
             ],
             [
              0.4444444444444444,
              "#bd3786"
             ],
             [
              0.5555555555555556,
              "#d8576b"
             ],
             [
              0.6666666666666666,
              "#ed7953"
             ],
             [
              0.7777777777777778,
              "#fb9f3a"
             ],
             [
              0.8888888888888888,
              "#fdca26"
             ],
             [
              1,
              "#f0f921"
             ]
            ],
            "type": "contour"
           }
          ],
          "contourcarpet": [
           {
            "colorbar": {
             "outlinewidth": 0,
             "ticks": ""
            },
            "type": "contourcarpet"
           }
          ],
          "heatmap": [
           {
            "colorbar": {
             "outlinewidth": 0,
             "ticks": ""
            },
            "colorscale": [
             [
              0,
              "#0d0887"
             ],
             [
              0.1111111111111111,
              "#46039f"
             ],
             [
              0.2222222222222222,
              "#7201a8"
             ],
             [
              0.3333333333333333,
              "#9c179e"
             ],
             [
              0.4444444444444444,
              "#bd3786"
             ],
             [
              0.5555555555555556,
              "#d8576b"
             ],
             [
              0.6666666666666666,
              "#ed7953"
             ],
             [
              0.7777777777777778,
              "#fb9f3a"
             ],
             [
              0.8888888888888888,
              "#fdca26"
             ],
             [
              1,
              "#f0f921"
             ]
            ],
            "type": "heatmap"
           }
          ],
          "heatmapgl": [
           {
            "colorbar": {
             "outlinewidth": 0,
             "ticks": ""
            },
            "colorscale": [
             [
              0,
              "#0d0887"
             ],
             [
              0.1111111111111111,
              "#46039f"
             ],
             [
              0.2222222222222222,
              "#7201a8"
             ],
             [
              0.3333333333333333,
              "#9c179e"
             ],
             [
              0.4444444444444444,
              "#bd3786"
             ],
             [
              0.5555555555555556,
              "#d8576b"
             ],
             [
              0.6666666666666666,
              "#ed7953"
             ],
             [
              0.7777777777777778,
              "#fb9f3a"
             ],
             [
              0.8888888888888888,
              "#fdca26"
             ],
             [
              1,
              "#f0f921"
             ]
            ],
            "type": "heatmapgl"
           }
          ],
          "histogram": [
           {
            "marker": {
             "pattern": {
              "fillmode": "overlay",
              "size": 10,
              "solidity": 0.2
             }
            },
            "type": "histogram"
           }
          ],
          "histogram2d": [
           {
            "colorbar": {
             "outlinewidth": 0,
             "ticks": ""
            },
            "colorscale": [
             [
              0,
              "#0d0887"
             ],
             [
              0.1111111111111111,
              "#46039f"
             ],
             [
              0.2222222222222222,
              "#7201a8"
             ],
             [
              0.3333333333333333,
              "#9c179e"
             ],
             [
              0.4444444444444444,
              "#bd3786"
             ],
             [
              0.5555555555555556,
              "#d8576b"
             ],
             [
              0.6666666666666666,
              "#ed7953"
             ],
             [
              0.7777777777777778,
              "#fb9f3a"
             ],
             [
              0.8888888888888888,
              "#fdca26"
             ],
             [
              1,
              "#f0f921"
             ]
            ],
            "type": "histogram2d"
           }
          ],
          "histogram2dcontour": [
           {
            "colorbar": {
             "outlinewidth": 0,
             "ticks": ""
            },
            "colorscale": [
             [
              0,
              "#0d0887"
             ],
             [
              0.1111111111111111,
              "#46039f"
             ],
             [
              0.2222222222222222,
              "#7201a8"
             ],
             [
              0.3333333333333333,
              "#9c179e"
             ],
             [
              0.4444444444444444,
              "#bd3786"
             ],
             [
              0.5555555555555556,
              "#d8576b"
             ],
             [
              0.6666666666666666,
              "#ed7953"
             ],
             [
              0.7777777777777778,
              "#fb9f3a"
             ],
             [
              0.8888888888888888,
              "#fdca26"
             ],
             [
              1,
              "#f0f921"
             ]
            ],
            "type": "histogram2dcontour"
           }
          ],
          "mesh3d": [
           {
            "colorbar": {
             "outlinewidth": 0,
             "ticks": ""
            },
            "type": "mesh3d"
           }
          ],
          "parcoords": [
           {
            "line": {
             "colorbar": {
              "outlinewidth": 0,
              "ticks": ""
             }
            },
            "type": "parcoords"
           }
          ],
          "pie": [
           {
            "automargin": true,
            "type": "pie"
           }
          ],
          "scatter": [
           {
            "fillpattern": {
             "fillmode": "overlay",
             "size": 10,
             "solidity": 0.2
            },
            "type": "scatter"
           }
          ],
          "scatter3d": [
           {
            "line": {
             "colorbar": {
              "outlinewidth": 0,
              "ticks": ""
             }
            },
            "marker": {
             "colorbar": {
              "outlinewidth": 0,
              "ticks": ""
             }
            },
            "type": "scatter3d"
           }
          ],
          "scattercarpet": [
           {
            "marker": {
             "colorbar": {
              "outlinewidth": 0,
              "ticks": ""
             }
            },
            "type": "scattercarpet"
           }
          ],
          "scattergeo": [
           {
            "marker": {
             "colorbar": {
              "outlinewidth": 0,
              "ticks": ""
             }
            },
            "type": "scattergeo"
           }
          ],
          "scattergl": [
           {
            "marker": {
             "colorbar": {
              "outlinewidth": 0,
              "ticks": ""
             }
            },
            "type": "scattergl"
           }
          ],
          "scattermapbox": [
           {
            "marker": {
             "colorbar": {
              "outlinewidth": 0,
              "ticks": ""
             }
            },
            "type": "scattermapbox"
           }
          ],
          "scatterpolar": [
           {
            "marker": {
             "colorbar": {
              "outlinewidth": 0,
              "ticks": ""
             }
            },
            "type": "scatterpolar"
           }
          ],
          "scatterpolargl": [
           {
            "marker": {
             "colorbar": {
              "outlinewidth": 0,
              "ticks": ""
             }
            },
            "type": "scatterpolargl"
           }
          ],
          "scatterternary": [
           {
            "marker": {
             "colorbar": {
              "outlinewidth": 0,
              "ticks": ""
             }
            },
            "type": "scatterternary"
           }
          ],
          "surface": [
           {
            "colorbar": {
             "outlinewidth": 0,
             "ticks": ""
            },
            "colorscale": [
             [
              0,
              "#0d0887"
             ],
             [
              0.1111111111111111,
              "#46039f"
             ],
             [
              0.2222222222222222,
              "#7201a8"
             ],
             [
              0.3333333333333333,
              "#9c179e"
             ],
             [
              0.4444444444444444,
              "#bd3786"
             ],
             [
              0.5555555555555556,
              "#d8576b"
             ],
             [
              0.6666666666666666,
              "#ed7953"
             ],
             [
              0.7777777777777778,
              "#fb9f3a"
             ],
             [
              0.8888888888888888,
              "#fdca26"
             ],
             [
              1,
              "#f0f921"
             ]
            ],
            "type": "surface"
           }
          ],
          "table": [
           {
            "cells": {
             "fill": {
              "color": "#EBF0F8"
             },
             "line": {
              "color": "white"
             }
            },
            "header": {
             "fill": {
              "color": "#C8D4E3"
             },
             "line": {
              "color": "white"
             }
            },
            "type": "table"
           }
          ]
         },
         "layout": {
          "annotationdefaults": {
           "arrowcolor": "#2a3f5f",
           "arrowhead": 0,
           "arrowwidth": 1
          },
          "autotypenumbers": "strict",
          "coloraxis": {
           "colorbar": {
            "outlinewidth": 0,
            "ticks": ""
           }
          },
          "colorscale": {
           "diverging": [
            [
             0,
             "#8e0152"
            ],
            [
             0.1,
             "#c51b7d"
            ],
            [
             0.2,
             "#de77ae"
            ],
            [
             0.3,
             "#f1b6da"
            ],
            [
             0.4,
             "#fde0ef"
            ],
            [
             0.5,
             "#f7f7f7"
            ],
            [
             0.6,
             "#e6f5d0"
            ],
            [
             0.7,
             "#b8e186"
            ],
            [
             0.8,
             "#7fbc41"
            ],
            [
             0.9,
             "#4d9221"
            ],
            [
             1,
             "#276419"
            ]
           ],
           "sequential": [
            [
             0,
             "#0d0887"
            ],
            [
             0.1111111111111111,
             "#46039f"
            ],
            [
             0.2222222222222222,
             "#7201a8"
            ],
            [
             0.3333333333333333,
             "#9c179e"
            ],
            [
             0.4444444444444444,
             "#bd3786"
            ],
            [
             0.5555555555555556,
             "#d8576b"
            ],
            [
             0.6666666666666666,
             "#ed7953"
            ],
            [
             0.7777777777777778,
             "#fb9f3a"
            ],
            [
             0.8888888888888888,
             "#fdca26"
            ],
            [
             1,
             "#f0f921"
            ]
           ],
           "sequentialminus": [
            [
             0,
             "#0d0887"
            ],
            [
             0.1111111111111111,
             "#46039f"
            ],
            [
             0.2222222222222222,
             "#7201a8"
            ],
            [
             0.3333333333333333,
             "#9c179e"
            ],
            [
             0.4444444444444444,
             "#bd3786"
            ],
            [
             0.5555555555555556,
             "#d8576b"
            ],
            [
             0.6666666666666666,
             "#ed7953"
            ],
            [
             0.7777777777777778,
             "#fb9f3a"
            ],
            [
             0.8888888888888888,
             "#fdca26"
            ],
            [
             1,
             "#f0f921"
            ]
           ]
          },
          "colorway": [
           "#636efa",
           "#EF553B",
           "#00cc96",
           "#ab63fa",
           "#FFA15A",
           "#19d3f3",
           "#FF6692",
           "#B6E880",
           "#FF97FF",
           "#FECB52"
          ],
          "font": {
           "color": "#2a3f5f"
          },
          "geo": {
           "bgcolor": "white",
           "lakecolor": "white",
           "landcolor": "#E5ECF6",
           "showlakes": true,
           "showland": true,
           "subunitcolor": "white"
          },
          "hoverlabel": {
           "align": "left"
          },
          "hovermode": "closest",
          "mapbox": {
           "style": "light"
          },
          "paper_bgcolor": "white",
          "plot_bgcolor": "#E5ECF6",
          "polar": {
           "angularaxis": {
            "gridcolor": "white",
            "linecolor": "white",
            "ticks": ""
           },
           "bgcolor": "#E5ECF6",
           "radialaxis": {
            "gridcolor": "white",
            "linecolor": "white",
            "ticks": ""
           }
          },
          "scene": {
           "xaxis": {
            "backgroundcolor": "#E5ECF6",
            "gridcolor": "white",
            "gridwidth": 2,
            "linecolor": "white",
            "showbackground": true,
            "ticks": "",
            "zerolinecolor": "white"
           },
           "yaxis": {
            "backgroundcolor": "#E5ECF6",
            "gridcolor": "white",
            "gridwidth": 2,
            "linecolor": "white",
            "showbackground": true,
            "ticks": "",
            "zerolinecolor": "white"
           },
           "zaxis": {
            "backgroundcolor": "#E5ECF6",
            "gridcolor": "white",
            "gridwidth": 2,
            "linecolor": "white",
            "showbackground": true,
            "ticks": "",
            "zerolinecolor": "white"
           }
          },
          "shapedefaults": {
           "line": {
            "color": "#2a3f5f"
           }
          },
          "ternary": {
           "aaxis": {
            "gridcolor": "white",
            "linecolor": "white",
            "ticks": ""
           },
           "baxis": {
            "gridcolor": "white",
            "linecolor": "white",
            "ticks": ""
           },
           "bgcolor": "#E5ECF6",
           "caxis": {
            "gridcolor": "white",
            "linecolor": "white",
            "ticks": ""
           }
          },
          "title": {
           "x": 0.05
          },
          "xaxis": {
           "automargin": true,
           "gridcolor": "white",
           "linecolor": "white",
           "ticks": "",
           "title": {
            "standoff": 15
           },
           "zerolinecolor": "white",
           "zerolinewidth": 2
          },
          "yaxis": {
           "automargin": true,
           "gridcolor": "white",
           "linecolor": "white",
           "ticks": "",
           "title": {
            "standoff": 15
           },
           "zerolinecolor": "white",
           "zerolinewidth": 2
          }
         }
        },
        "title": {
         "text": "Cost Distribution by Model"
        },
        "xaxis": {
         "anchor": "y",
         "categoryarray": [
          "gpt-4o",
          "claude-3-haiku-20240307",
          "gemini/gemini-1.5-flash",
          "gpt-4-turbo",
          "gpt-4o-2024-05-13",
          "gpt-4o-mini",
          "gpt-4o-mini-2024-07-18",
          "your_model_name"
         ],
         "categoryorder": "array",
         "domain": [
          0,
          1
         ],
         "title": {
          "text": "Model"
         }
        },
        "yaxis": {
         "anchor": "x",
         "domain": [
          0,
          1
         ],
         "title": {
          "text": "Cost (USD)"
         }
        }
       }
      }
     },
     "metadata": {},
     "output_type": "display_data"
    }
   ],
   "source": [
    "plot_model_cost_distribution(df_costs)"
   ]
  },
  {
   "cell_type": "markdown",
   "metadata": {},
   "source": [
    "# Conclusion\n",
    "In this cookbook, we demonstrated how to create a custom production monitoring dashboard using Weave's APIs and functions. Weave currently focuses on fast integrations for easy input of data as well as extraction of the data for custom processes.\n",
    "\n",
    "* **Data Input:** \n",
    "    * Framework-agnostic tracing with [@weave-op()](https://weave-docs.wandb.ai/quickstart#2-log-a-trace-to-a-new-project) decorator and the possibility to import calls from CSV (see related [import cookbook](https://weave-docs.wandb.ai/reference/gen_notebooks/import_from_csv))\n",
    "    * Service API endpoints to log to Weave from for various programming frameworks and languages, see [here](https://weave-docs.wandb.ai/reference/service-api/call-start-call-start-post) for more details.\n",
    "* **Data Output:**\n",
    "    * Easy download of the data in CSV, TSV, JSONL, JSON formats - see [here](https://weave-docs.wandb.ai/guides/tracking/tracing#querying--exporting-calls) for more details.\n",
    "    * Easy export using programmatic access to the data - see \"Use Python\" section in the export panel as described in this cookbook. See [here](https://weave-docs.wandb.ai/guides/tracking/tracing#querying--exporting-calls) for more details.\n",
    "\n",
    "This custom dashboard extends Weave's native Traces view, allowing for tailored monitoring of LLM applications in production. If you're interested in viewing a more complex dashboard, check out a Streamlit example where you can add your own Weave project URL [in this repo](https://github.com/NiWaRe/agent-dev-collection)."
   ]
  }
 ],
 "metadata": {
  "kernelspec": {
   "display_name": "Python 3 (ipykernel)",
   "language": "python",
   "name": "python3"
  },
  "language_info": {
   "codemirror_mode": {
    "name": "ipython",
    "version": 3
   },
   "file_extension": ".py",
   "mimetype": "text/x-python",
   "name": "python",
   "nbconvert_exporter": "python",
   "pygments_lexer": "ipython3",
   "version": "3.10.7"
  }
 },
 "nbformat": 4,
 "nbformat_minor": 4
}
