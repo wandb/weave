{
 "cells": [
  {
   "cell_type": "markdown",
   "metadata": {
    "id": "xSqO08zH3qRH"
   },
   "source": []
  },
  {
   "cell_type": "markdown",
   "metadata": {},
   "source": [
    "# Use the Service API to Log and Query Traces"
   ]
  },
  {
   "cell_type": "markdown",
   "metadata": {},
   "source": [
    "In the following guide, you will learn how to use the Weave Service API to log traces. Specifically, you will use the Service API to:\n",
    "\n",
    "1. [Create a mock of a simple LLM call and response, and log it to Weave.](#simple-trace)\n",
    "2. [Create a mock of a more complex LLM call and response, and log it to Weave.](#complex-trace)\n",
    "3. [Run a sample lookup query on the logged traces.](#run-a-lookup-query)\n",
    "\n",
    "> **View logged traces**\n",
    ">\n",
    "> You can view all of the Weave traces created when you run the code in this guide by going to the **Traces** tab in your Weave project (specified by `team_id\\project_id`), and selecting the name of the trace.\n",
    "\n",
    "Before beginning, complete the [prerequisites](#prerequisites-set-variables-and-endpoints)"
   ]
  },
  {
   "cell_type": "markdown",
   "metadata": {},
   "source": [
    "## Prerequisites: Set variables and endpoints\n",
    "\n",
    "The following code sets the URL endpoints that will be used to access the Service API:\n",
    "\n",
    "- [`https://trace.wandb.ai/call/start`](https://weave-docs.wandb.ai/reference/service-api/call-start-call-start-post)\n",
    "- [`https://trace.wandb.ai/call/end`](https://weave-docs.wandb.ai/reference/service-api/call-end-call-end-post)\n",
    "- [`https://trace.wandb.ai/calls/stream_query`](https://weave-docs.wandb.ai/reference/service-api/calls-query-stream-calls-stream-query-post)\n",
    "\n",
    "Additionally, you must set the following variables:\n",
    "\n",
    "- `project_id`: The name of the W&B project that you want to log your traces to.\n",
    "- `team_id`: Your W&B team name.\n",
    "- `wandb_token`: Your [W&B authorization token](https://wandb.ai/authorize)."
   ]
  },
  {
   "cell_type": "code",
   "execution_count": null,
   "metadata": {
    "id": "fkUXz72LCLlA"
   },
   "outputs": [],
   "source": [
    "import datetime\n",
    "import json\n",
    "\n",
    "import requests\n",
    "\n",
    "# Headers and URLs\n",
    "headers = {\"Content-Type\": \"application/json\"}\n",
    "url_start = \"https://trace.wandb.ai/call/start\"\n",
    "url_end = \"https://trace.wandb.ai/call/end\"\n",
    "url_stream_query = \"https://trace.wandb.ai/calls/stream_query\"\n",
    "\n",
    "# W&B variables\n",
    "team_id = \"\"\n",
    "project_id = \"\"\n",
    "wandb_token = \"\""
   ]
  },
  {
   "cell_type": "markdown",
   "metadata": {},
   "source": [
    "## Simple trace\n",
    "The following sections walk you through creating a simple trace.\n",
    "\n",
    "1. [Start a simple trace](#start-a-simple-trace)\n",
    "2. [End a simple trace](#end-a-simple-trace)"
   ]
  },
  {
   "cell_type": "markdown",
   "metadata": {
    "id": "1bnDRiDN-dtc"
   },
   "source": [
    "### Start a simple trace \n",
    "\n",
    "The following code creates a sample LLM call `payload_start` and logs it to Weave using the `url_start` endpoint. The `payload_start` object mimics a call to OpenAI's `gpt-4o` with the query `Why is the sky blue?`.\n",
    "\n",
    "On success, this code will output a message indicating that the trace was started:\n",
    "\n",
    "```\n",
    "Call started. ID: 01939cdc-38d2-7d61-940d-dcca0a56c575, Trace ID: 01939cdc-38d2-7d61-940d-dcd0e76c5f34\n",
    "```"
   ]
  },
  {
   "cell_type": "code",
   "execution_count": 2,
   "metadata": {
    "colab": {
     "base_uri": "https://localhost:8080/"
    },
    "id": "sGq8p8Le-pc2",
    "outputId": "dd123b02-9478-408d-9755-29fc5612e505"
   },
   "outputs": [
    {
     "name": "stdout",
     "output_type": "stream",
     "text": [
      "Call started. ID: 01939cdc-38d2-7d61-940d-dcca0a56c575, Trace ID: 01939cdc-38d2-7d61-940d-dcd0e76c5f34\n"
     ]
    }
   ],
   "source": [
    "## ------------\n",
    "## Start trace\n",
    "## ------------\n",
    "payload_start = {\n",
    "    \"start\": {\n",
    "        \"project_id\": f\"{team_id}/{project_id}\",\n",
    "        \"op_name\": \"simple_trace\",\n",
    "        \"started_at\": datetime.datetime.now().isoformat(),\n",
    "        \"inputs\": {\n",
    "            # Use this \"messages\" style to generate the chat UI in the expanded trace.\n",
    "            \"messages\": [{\"role\": \"user\", \"content\": \"Why is the sky blue?\"}],\n",
    "            \"model\": \"gpt-4o\",\n",
    "        },\n",
    "        \"attributes\": {},\n",
    "    }\n",
    "}\n",
    "response = requests.post(\n",
    "    url_start, headers=headers, json=payload_start, auth=(\"api\", wandb_token)\n",
    ")\n",
    "if response.status_code == 200:\n",
    "    data = response.json()\n",
    "    call_id = data.get(\"id\")\n",
    "    trace_id = data.get(\"trace_id\")\n",
    "    print(f\"Call started. ID: {call_id}, Trace ID: {trace_id}\")\n",
    "else:\n",
    "    print(\"Start request failed with status:\", response.status_code)\n",
    "    print(response.text)\n",
    "    exit()"
   ]
  },
  {
   "cell_type": "markdown",
   "metadata": {
    "id": "G36zXvAM3jPa"
   },
   "source": [
    "### End a simple trace\n",
    "\n",
    "To complete the simple trace, the following code creates a sample LLM call `payload_end` and logs it to Weave using the `url_end` endpoint. The `payload_end` object mimics the response from OpenAI's `gpt-4o` given the query `Why is the sky blue?`. The object is formatted so that pricing summary information and the chat completion are generated in trace view in the Weave Dashboard.\n",
    "\n",
    "On success, this code will output a message indicating that the trace completed:\n",
    "\n",
    "```\n",
    "Call ended.\n",
    "```"
   ]
  },
  {
   "cell_type": "code",
   "execution_count": null,
   "metadata": {
    "id": "5xthEk_4-0iZ"
   },
   "outputs": [],
   "source": [
    "## ------------\n",
    "## End trace\n",
    "## ------------\n",
    "payload_end = {\n",
    "    \"end\": {\n",
    "        \"project_id\": f\"{team_id}/{project_id}\",\n",
    "        \"id\": call_id,\n",
    "        \"ended_at\": datetime.datetime.now().isoformat(),\n",
    "        \"output\": {\n",
    "            # Use this \"choices\" style to add the completion to the chat UI in the expanded trace.\n",
    "            \"choices\": [\n",
    "                {\n",
    "                    \"message\": {\n",
    "                        \"content\": \"It’s due to Rayleigh scattering, where shorter blue wavelengths of sunlight scatter in all directions.\"\n",
    "                    }\n",
    "                },\n",
    "            ]\n",
    "        },\n",
    "        # Format the summary like this to generate the pricing summary information in the traces table.\n",
    "        \"summary\": {\n",
    "            \"usage\": {\n",
    "                \"gpt-4o\": {\n",
    "                    \"prompt_tokens\": 10,\n",
    "                    \"completion_tokens\": 20,\n",
    "                    \"total_tokens\": 30,\n",
    "                    \"requests\": 1,\n",
    "                }\n",
    "            }\n",
    "        },\n",
    "    }\n",
    "}\n",
    "response = requests.post(\n",
    "    url_end, headers=headers, json=payload_end, auth=(\"api\", wandb_token)\n",
    ")\n",
    "if response.status_code == 200:\n",
    "    print(\"Call ended.\")\n",
    "else:\n",
    "    print(\"End request failed with status:\", response.status_code)\n",
    "    print(response.text)"
   ]
  },
  {
   "cell_type": "markdown",
   "metadata": {},
   "source": [
    "## Complex trace\n",
    "The following sections walk you through creating a more complex trace with child spans, similar to a mult-operation RAG lookup.\n",
    "\n",
    "1. [Start a complex trace](#complex-trace)\n",
    "2. [Add a child span: RAG document lookup](#add-a-child-span-to-a-complex-trace-rag-document-lookup)\n",
    "3. [Add a child span: LLM completion call](#add-a-child-span-to-a-complex-trace-llm-completion-call)\n",
    "4. [End a complex trace](#end-a-complex-trace)"
   ]
  },
  {
   "cell_type": "markdown",
   "metadata": {
    "id": "3nsK302HCFdu"
   },
   "source": [
    "### Start a complex trace \n",
    "\n",
    "The following code demonstrates how to create a more complex trace with multiple spans. An example of this would be a Retrieval-Augmented Generation (RAG) lookup followed by an LLM call. The first part initializes a parent trace(`payload_parent_start`) that represents the overall operation. In this case, the operation is  processing the user query `Can you summarize the key points of this document?`.\n",
    "\n",
    "The `payload_parent_start` object mimics the initial step in a multi-step workflow, logging the the operation in Weave using the `url_start` endpoint.\n",
    "\n",
    "On success, this code will output a message indicating that the parent call was logged:\n",
    "\n",
    "```\n",
    "Parent call started. ID: 01939d26-0844-7c43-94bb-cdc471b6d65f, Trace ID: 01939d26-0844-7c43-94bb-cdd97dc296c8\n",
    "```"
   ]
  },
  {
   "cell_type": "code",
   "execution_count": null,
   "metadata": {
    "id": "V_1r4gPsy4Yj"
   },
   "outputs": [],
   "source": [
    "## ------------\n",
    "## Start trace (parent)\n",
    "## ------------\n",
    "\n",
    "# Parent call: Start\n",
    "payload_parent_start = {\n",
    "    \"start\": {\n",
    "        \"project_id\": f\"{team_id}/{project_id}\",\n",
    "        \"op_name\": \"complex_trace\",\n",
    "        \"started_at\": datetime.datetime.now().isoformat(),\n",
    "        \"inputs\": {\"question\": \"Can you summarize the key points of this document?\"},\n",
    "        \"attributes\": {},\n",
    "    }\n",
    "}\n",
    "response = requests.post(\n",
    "    url_start, headers=headers, json=payload_parent_start, auth=(\"api\", wandb_token)\n",
    ")\n",
    "if response.status_code == 200:\n",
    "    data = response.json()\n",
    "    parent_call_id = data.get(\"id\")\n",
    "    trace_id = data.get(\"trace_id\")\n",
    "    print(f\"Parent call started. ID: {parent_call_id}, Trace ID: {trace_id}\")\n",
    "else:\n",
    "    print(\"Parent start request failed with status:\", response.status_code)\n",
    "    print(response.text)\n",
    "    exit()"
   ]
  },
  {
   "cell_type": "markdown",
   "metadata": {},
   "source": [
    "### Add a child span to a complex trace: RAG document lookup\n",
    "\n",
    "The following code demonstrates how to add a child span to the parent trace started in the previous step. This step models a the RAG document lookup sub-operation in the overarching workflow.\n",
    "\n",
    "The child trace is initiated with the `payload_child_start` object, which includes:\n",
    "- `trace_id`: Links this child span to the parent trace.\n",
    "- `parent_id`: Associates the child span with the parent operation.\n",
    "- `inputs`: Logs the search query, e.g., \n",
    "  `\"This is a search query of the documents I'm looking for.\"`\n",
    "\n",
    "On a successful call to the `url_start` endpoint, the code outputs a message indicating that the child call was started and completed:\n",
    "\n",
    "```\n",
    "Child call started. ID: 01939d32-23d6-75f2-9128-36a4a806f179\n",
    "Child call ended.\n",
    "```"
   ]
  },
  {
   "cell_type": "code",
   "execution_count": null,
   "metadata": {
    "id": "Bj_7uOF5zNT6"
   },
   "outputs": [],
   "source": [
    "## ------------\n",
    "## Child span:\n",
    "## Ex. RAG Document lookup\n",
    "## ------------\n",
    "\n",
    "# Child call: Start\n",
    "payload_child_start = {\n",
    "    \"start\": {\n",
    "        \"project_id\": f\"{team_id}/{project_id}\",\n",
    "        \"op_name\": \"rag_document_lookup\",\n",
    "        \"trace_id\": trace_id,\n",
    "        \"parent_id\": parent_call_id,\n",
    "        \"started_at\": datetime.datetime.now().isoformat(),\n",
    "        \"inputs\": {\n",
    "            \"document_search\": \"This is a search query of the documents I'm looking for.\"\n",
    "        },\n",
    "        \"attributes\": {},\n",
    "    }\n",
    "}\n",
    "response = requests.post(\n",
    "    url_start, headers=headers, json=payload_child_start, auth=(\"api\", wandb_token)\n",
    ")\n",
    "if response.status_code == 200:\n",
    "    data = response.json()\n",
    "    child_call_id = data.get(\"id\")\n",
    "    print(f\"Child call started. ID: {child_call_id}\")\n",
    "else:\n",
    "    print(\"Child start request failed with status:\", response.status_code)\n",
    "    print(response.text)\n",
    "    exit()\n",
    "\n",
    "# Child call: End\n",
    "payload_child_end = {\n",
    "    \"end\": {\n",
    "        \"project_id\": f\"{team_id}/{project_id}\",\n",
    "        \"id\": child_call_id,\n",
    "        \"ended_at\": datetime.datetime.now().isoformat(),\n",
    "        \"output\": {\n",
    "            \"document_results\": \"This will be the RAG'd document text which will be returned from the search query.\"\n",
    "        },\n",
    "        \"summary\": {},\n",
    "    }\n",
    "}\n",
    "response = requests.post(\n",
    "    url_end, headers=headers, json=payload_child_end, auth=(\"api\", wandb_token)\n",
    ")\n",
    "if response.status_code == 200:\n",
    "    print(\"Child call ended.\")\n",
    "else:\n",
    "    print(\"Child end request failed with status:\", response.status_code)\n",
    "    print(response.text)"
   ]
  },
  {
   "cell_type": "markdown",
   "metadata": {},
   "source": [
    "### Add a child span to a complex trace: LLM completion call\n",
    "\n",
    "The following code demonstrates how to add another child span to the parent trace, representing an LLM completion call. This step models the AI's response generation based on document context retrieved in the previous RAG operation.\n",
    "\n",
    "The LLM completion trace is initiated with the `payload_child_start` object, which includes:\n",
    "- `trace_id`: Links this child span to the parent trace.\n",
    "- `parent_id`: Associates the child span with the overarching workflow.\n",
    "- `inputs`: Logs the input messages for the LLM, including the user query and the appended document context.\n",
    "- `model`: Specifies the model used for the operation (`gpt-4o`).\n",
    "\n",
    "On success, the code outputs a message indicating the LLM child span trace has started and ended:\n",
    "\n",
    "```\n",
    "Child call started. ID: 0245acdf-83a9-4c90-90df-dcb2b89f234a\n",
    "```\n",
    "\n",
    "Once the operation completes, the `payload_child_end` object ends the trace by logging the LLM-generated response in the `output` field. Usage summary information is also logged.\n",
    "\n",
    "On success, the code outputs a message indicating the LLM child span trace has started and ended:\n",
    "\n",
    "```\n",
    "Child call started. ID: 0245acdf-83a9-4c90-90df-dcb2b89f234a\n",
    "Child call ended.\n",
    "```"
   ]
  },
  {
   "cell_type": "code",
   "execution_count": null,
   "metadata": {
    "id": "7-IpjOPp1amg"
   },
   "outputs": [],
   "source": [
    "## ------------\n",
    "## Child span:\n",
    "## Create an LLM completion call\n",
    "## ------------\n",
    "\n",
    "# Child call: Start\n",
    "payload_child_start = {\n",
    "    \"start\": {\n",
    "        \"project_id\": f\"{team_id}/{project_id}\",\n",
    "        \"op_name\": \"llm_completion\",\n",
    "        \"trace_id\": trace_id,\n",
    "        \"parent_id\": parent_call_id,\n",
    "        \"started_at\": datetime.datetime.now().isoformat(),\n",
    "        \"inputs\": {\n",
    "            \"messages\": [\n",
    "                {\n",
    "                    \"role\": \"user\",\n",
    "                    \"content\": \"With the following document context, could you help me answer:\\n Can you summarize the key points of this document?\\n [+ appended document context]\",\n",
    "                }\n",
    "            ],\n",
    "            \"model\": \"gpt-4o\",\n",
    "        },\n",
    "        \"attributes\": {},\n",
    "    }\n",
    "}\n",
    "response = requests.post(\n",
    "    url_start, headers=headers, json=payload_child_start, auth=(\"api\", wandb_token)\n",
    ")\n",
    "if response.status_code == 200:\n",
    "    data = response.json()\n",
    "    child_call_id = data.get(\"id\")\n",
    "    print(f\"Child call started. ID: {child_call_id}\")\n",
    "else:\n",
    "    print(\"Child start request failed with status:\", response.status_code)\n",
    "    print(response.text)\n",
    "    exit()\n",
    "\n",
    "# Child call: End\n",
    "payload_child_end = {\n",
    "    \"end\": {\n",
    "        \"project_id\": f\"{team_id}/{project_id}\",\n",
    "        \"id\": child_call_id,\n",
    "        \"ended_at\": datetime.datetime.now().isoformat(),\n",
    "        \"output\": {\n",
    "            \"choices\": [\n",
    "                {\"message\": {\"content\": \"This is the response generated by the LLM.\"}},\n",
    "            ]\n",
    "        },\n",
    "        \"summary\": {\n",
    "            \"usage\": {\n",
    "                \"gpt-4o\": {\n",
    "                    \"prompt_tokens\": 10,\n",
    "                    \"completion_tokens\": 20,\n",
    "                    \"total_tokens\": 30,\n",
    "                    \"requests\": 1,\n",
    "                }\n",
    "            }\n",
    "        },\n",
    "    }\n",
    "}\n",
    "response = requests.post(\n",
    "    url_end, headers=headers, json=payload_child_end, auth=(\"api\", wandb_token)\n",
    ")\n",
    "if response.status_code == 200:\n",
    "    print(\"Child call ended.\")\n",
    "else:\n",
    "    print(\"Child end request failed with status:\", response.status_code)\n",
    "    print(response.text)"
   ]
  },
  {
   "cell_type": "markdown",
   "metadata": {},
   "source": [
    "### End a complex trace\n",
    "\n",
    "The following code demonstrates how to finalize the parent trace, marking the completion of the entire workflow. This step aggregates the results of all child spans (e.g., RAG lookup and LLM completion) and logs the final output and metadata.\n",
    "\n",
    "The trace is finalized using the `payload_parent_end` object, which includes:\n",
    "- `id`: The `parent_call_id` from the initial parent trace start.\n",
    "- `output`: Represents the final output of the entire workflow. \n",
    "- `summary`: Consolidates usage data for the entire workflow.\n",
    "- `prompt_tokens`: Total tokens used for all prompts.\n",
    "- `completion_tokens`: Total tokens generated in all responses.\n",
    "- `total_tokens`: Combined token count for the workflow.\n",
    "- `requests`: Total number of requests made (in this case, `1`).\n",
    "\n",
    "On success, the code outputs:\n",
    "\n",
    "```\n",
    "Parent call ended.\n",
    "```"
   ]
  },
  {
   "cell_type": "code",
   "execution_count": null,
   "metadata": {
    "id": "kNXNwHO8zdJn"
   },
   "outputs": [],
   "source": [
    "## ------------\n",
    "## End trace\n",
    "## ------------\n",
    "\n",
    "# Parent call: End\n",
    "payload_parent_end = {\n",
    "    \"end\": {\n",
    "        \"project_id\": f\"{team_id}/{project_id}\",\n",
    "        \"id\": parent_call_id,\n",
    "        \"ended_at\": datetime.datetime.now().isoformat(),\n",
    "        \"output\": {\n",
    "            \"choices\": [\n",
    "                {\"message\": {\"content\": \"This is the response generated by the LLM.\"}},\n",
    "            ]\n",
    "        },\n",
    "        \"summary\": {\n",
    "            \"usage\": {\n",
    "                \"gpt-4o\": {\n",
    "                    \"prompt_tokens\": 10,\n",
    "                    \"completion_tokens\": 20,\n",
    "                    \"total_tokens\": 30,\n",
    "                    \"requests\": 1,\n",
    "                }\n",
    "            }\n",
    "        },\n",
    "    }\n",
    "}\n",
    "response = requests.post(\n",
    "    url_end, headers=headers, json=payload_parent_end, auth=(\"api\", wandb_token)\n",
    ")\n",
    "if response.status_code == 200:\n",
    "    print(\"Parent call ended.\")\n",
    "else:\n",
    "    print(\"Parent end request failed with status:\", response.status_code)\n",
    "    print(response.text)"
   ]
  },
  {
   "cell_type": "markdown",
   "metadata": {
    "id": "XU9QNlMrCx-j"
   },
   "source": [
    "## Run a lookup query\n",
    "The following code demonstrates how to query the traces created in previous examples, filtering only for traces where the `inputs.model` field is equal to `gpt-4o`.\n",
    "\n",
    "The `query_payload` object includes:\n",
    "- `project_id`: Identifies the team and project to query.\n",
    "- `filter`: Ensures the query returns only **trace roots** (top-level traces).\n",
    "- `query`: Defines the filter logic using the `$expr` operator:\n",
    "  - `$getField`: Retrieves the `inputs.model` field.\n",
    "  - `$literal`: Matches traces where `inputs.model` equals `\"gpt-4o\"`.\n",
    "- `limit`: Limits the query to 10,000 results.\n",
    "- `offset`: Starts the query at the first result.\n",
    "- `sort_by`: Orders results by the `started_at` timestamp in descending order.\n",
    "- `include_feedback`: Excludes feedback data from the results.\n",
    "\n",
    "On a successful query, the response will include trace data matching the query parameters:\n",
    "\n",
    "```\n",
    "{'id': '01939cf3-541f-76d3-ade3-50cfae068b39', 'project_id': 'cool-new-team/uncategorized', 'op_name': 'simple_trace', 'display_name': None, 'trace_id': '01939cf3-541f-76d3-ade3-50d5cfabe2db', 'parent_id': None, 'started_at': '2024-12-06T17:10:12.590000Z', 'attributes': {}, 'inputs': {'messages': [{'role': 'user', 'content': 'Why is the sky blue?'}], 'model': 'gpt-4o'}, 'ended_at': '2024-12-06T17:47:08.553000Z', 'exception': None, 'output': {'choices': [{'message': {'content': 'It’s due to Rayleigh scattering, where shorter blue wavelengths of sunlight scatter in all directions.'}}]}, 'summary': {'usage': {'gpt-4o': {'prompt_tokens': 10, 'completion_tokens': 20, 'requests': 1, 'total_tokens': 30}}, 'weave': {'status': 'success', 'trace_name': 'simple_trace', 'latency_ms': 2215963}}, 'wb_user_id': 'VXNlcjoyMDk5Njc0', 'wb_run_id': None, 'deleted_at': None}\n",
    "```\n",
    "\n",
    "\n"
   ]
  },
  {
   "cell_type": "code",
   "execution_count": null,
   "metadata": {
    "id": "9AxhF3aIC1S5"
   },
   "outputs": [],
   "source": [
    "query_payload = {\n",
    "    \"project_id\": f\"{team_id}/{project_id}\",\n",
    "    \"filter\": {\"trace_roots_only\": True},\n",
    "    \"query\": {\n",
    "        \"$expr\": {\"$eq\": [{\"$getField\": \"inputs.model\"}, {\"$literal\": \"gpt-4o\"}]}\n",
    "    },\n",
    "    \"limit\": 10000,\n",
    "    \"offset\": 0,\n",
    "    \"sort_by\": [{\"field\": \"started_at\", \"direction\": \"desc\"}],\n",
    "    \"include_feedback\": False,\n",
    "}\n",
    "response = requests.post(\n",
    "    url_stream_query, headers=headers, json=query_payload, auth=(\"api\", wandb_token)\n",
    ")\n",
    "if response.status_code == 200:\n",
    "    print(\"Query successful!\")\n",
    "    try:\n",
    "        data = response.json()\n",
    "        print(data)\n",
    "    except json.JSONDecodeError as e:\n",
    "        # Alternate decode\n",
    "        json_objects = response.text.strip().split(\"\\n\")\n",
    "        parsed_data = [json.loads(obj) for obj in json_objects]\n",
    "        print(parsed_data)\n",
    "else:\n",
    "    print(f\"Query failed with status code: {response.status_code}\")\n",
    "    print(response.text)"
   ]
  }
 ],
 "metadata": {
  "colab": {
   "provenance": []
  },
  "kernelspec": {
   "display_name": "Python 3",
   "name": "python3"
  },
  "language_info": {
   "name": "python"
  }
 },
 "nbformat": 4,
 "nbformat_minor": 0
}
