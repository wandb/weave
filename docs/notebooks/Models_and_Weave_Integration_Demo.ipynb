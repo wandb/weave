{
 "cells": [
  {
   "cell_type": "markdown",
   "metadata": {
    "id": "Z_U2yjSvQKje"
   },
   "source": [
    "# Use Weave with W&B Models\n",
    "\n",
    "This notebook demonstrates how to use W&B Weave with [W&B Models](https://docs.wandb.ai/guides/) using the scenario of two different teams working on an end-to-end implementation of a Retrieval-Augmented Generation (RAG) application, from fine-tuning the model to building an app around the model. Specifically, the Model Team fine-tunes a new Chat Model (Llama 3.2),and saves it to the [W&B Models Registry](https://docs.wandb.ai/guides/registry/). Then, the App Team retrieves the fine-tuned Chat Model from the Registry, and uses Weave to create and evaluate a RAG chatbot application\n",
    "\n",
    "The guide walks you through the following steps, which are the same steps that the teams in the described scenario would follow:\n",
    "\n",
    "1. Downloading a fine-tuned Llama 3.2 model registered in [W&B Models Registry](https://docs.wandb.ai/guides/registry/)\n",
    "2. Implementing a RAG application using the fine-tuned Llama 3.2 model \n",
    "3. Tracking and evaluating the RAG application using Weave\n",
    "4. Registering the improved RAG app to Registry\n",
    "\n",
    "Find the public workspace for both W&B Models and W&B Weave [here](https://wandb.ai/wandb-smle/weave-cookboook-demo/weave/evaluations).\n",
    "\n",
    "<img src=\"https://github.com/NiWaRe/agent-dev-collection/blob/master/screenshots/weave_models_workflow.jpeg?raw=true\"  alt=\"Weights & Biases\" />\n",
    "\n",
    "\n",
    "\n",
    "\n"
   ]
  },
  {
   "cell_type": "markdown",
   "metadata": {
    "id": "HiSGvI1G--5g"
   },
   "source": [
    "## Prerequisites\n",
    "\n",
    "First, install the necessary libraries, set up API keys, log in to W&B, and create a new W&B project."
   ]
  },
  {
   "cell_type": "markdown",
   "metadata": {},
   "source": [
    "1. Install `weave`, `pandas`, `unsloth`, `wandb`, `litellm`, `pydantic`, `torch`, and `faiss-gpu` using `pip`."
   ]
  },
  {
   "cell_type": "code",
   "execution_count": null,
   "metadata": {
    "collapsed": true,
    "id": "TR2A-Mr623f4"
   },
   "outputs": [],
   "source": [
    "%%capture\n",
    "!pip install weave wandb pandas pydantic litellm faiss-gpu"
   ]
  },
  {
   "cell_type": "code",
   "execution_count": null,
   "metadata": {
    "collapsed": true,
    "id": "eKzwODgCRUxw"
   },
   "outputs": [],
   "source": [
    "%%capture\n",
    "!pip install unsloth\n",
    "# Also get the latest nightly Unsloth!\n",
    "!pip uninstall unsloth -y && pip install --upgrade --no-cache-dir \"unsloth[colab-new] @ git+https://github.com/unslothai/unsloth.git\""
   ]
  },
  {
   "cell_type": "markdown",
   "metadata": {},
   "source": [
    "2. Add the necessary API keys from your environment."
   ]
  },
  {
   "cell_type": "code",
   "execution_count": null,
   "metadata": {
    "id": "95EfDKCT339H"
   },
   "outputs": [],
   "source": [
    "import os\n",
    "\n",
    "from google.colab import userdata\n",
    "\n",
    "os.environ[\"WANDB_API_KEY\"] = userdata.get(\"WANDB_API_KEY\")  # W&B Models and Weave\n",
    "os.environ[\"OPENAI_API_KEY\"] = userdata.get(\n",
    "    \"OPENAI_API_KEY\"\n",
    ")  # OpenAI - for retrieval embeddings\n",
    "os.environ[\"GEMINI_API_KEY\"] = userdata.get(\n",
    "    \"GEMINI_API_KEY\"\n",
    ")  # Gemini - for the base chat model"
   ]
  },
  {
   "cell_type": "markdown",
   "metadata": {},
   "source": [
    "3. Log in to W&B, and create a new project."
   ]
  },
  {
   "cell_type": "code",
   "execution_count": null,
   "metadata": {
    "id": "NJ5RxK2X37ih"
   },
   "outputs": [],
   "source": [
    "import pandas as pd\n",
    "import wandb\n",
    "\n",
    "import weave\n",
    "\n",
    "wandb.login()\n",
    "\n",
    "PROJECT = \"weave-cookboook-demo\"\n",
    "ENTITY = \"wandb-smle\"\n",
    "\n",
    "weave.init(ENTITY + \"/\" + PROJECT)"
   ]
  },
  {
   "cell_type": "markdown",
   "metadata": {
    "id": "SVbGavX9RHbk"
   },
   "source": [
    "##  Download `ChatModel` from Models Registry and implement `UnslothLoRAChatModel`\n",
    "\n",
    "In our scenario, the Llama-3.2 model has already been fine-tuned by the Model Team using the `unsloth` library for performance optimization, and is [available in the W&B Models Registry](https://wandb.ai/wandb-smle/weave-cookboook-demo/weave/object-versions?filter=%7B%22objectName%22%3A%22RagModel%22%7D&peekPath=%2Fwandb-smle%2Fweave-rag-experiments%2Fobjects%2FChatModelRag%2Fversions%2F2mhdPb667uoFlXStXtZ0MuYoxPaiAXj3KyLS1kYRi84%3F%26). In this step, we'll retrieve the fine-tuned [`ChatModel`](https://wandb.ai/wandb-smle/weave-cookboook-demo/weave/object-versions?filter=%7B%22objectName%22%3A%22RagModel%22%7D&peekPath=%2Fwandb-smle%2Fweave-rag-experiments%2Fobjects%2FChatModelRag%2Fversions%2F2mhdPb667uoFlXStXtZ0MuYoxPaiAXj3KyLS1kYRi84%3F%26) from the Registry and convert it into a `weave.Model` to make it compatible with the [`RagModel`](https://wandb.ai/wandb-smle/weave-cookboook-demo/weave/object-versions?filter=%7B%22objectName%22%3A%22RagModel%22%7D&peekPath=%2Fwandb-smle%2Fweave-cookboook-demo%2Fobjects%2FRagModel%2Fversions%2FcqRaGKcxutBWXyM0fCGTR1Yk2mISLsNari4wlGTwERo%3F%26). \n",
    "\n",
    ":::important\n",
    "The `RagModel` referenced below is a top-level `weave.Model` that can be considered a complete RAG Application. It contains a `ChatModel`, vector database, and a prompt. The `ChatModel` is also a `weave.Model`, which contains code to download an artifact from the W&B Registry. `ChatModel` can be changed modularly to support any kind of other LLM chat model as part of the `RagModel`. For more information, [view the model in Weave](https://wandb.ai/wandb-smle/weave-cookboook-demo/weave/evaluations?peekPath=%2Fwandb-smle%2Fweave-cookboook-demo%2Fobjects%2FRagModel%2Fversions%2Fx7MzcgHDrGXYHHDQ9BA8N89qDwcGkdSdpxH30ubm8ZM%3F%26).\n",
    ":::\n",
    "\n",
    "To load the `ChatModel`, `unsloth.FastLanguageModel` or `peft.AutoPeftModelForCausalLM` with adapters are used, enabling efficient integration into the app. After downloading the model from the Registry, you can set up the initialization and prediction logic by using the `model_post_init` method. The required code for this step is available in the **Use** tab of the Registry and can be copied directly into your implementation"
   ]
  },
  {
   "cell_type": "markdown",
   "metadata": {},
   "source": [
    "The code below defines the `UnslothLoRAChatModel` class to manage, initialize, and use the fine-tuned Llama-3.2 model retrieved from the W&B Models Registry. `UnslothLoRAChatModel` uses `unsloth.FastLanguageModel` for optimized inference. The `model_post_init` method handles downloading and setting up the model, while the `predict` method processes user queries and generates responses. To adapt the code for your use case, update the `MODEL_REG_URL` with the correct Registry path for your fine-tuned model and adjust parameters like `max_seq_length` or `dtype` based on your hardware or requirements.\n"
   ]
  },
  {
   "cell_type": "code",
   "execution_count": null,
   "metadata": {
    "colab": {
     "base_uri": "https://localhost:8080/"
    },
    "collapsed": true,
    "id": "Er1xN7d8SZrp",
    "outputId": "d27fde39-4ff3-47a9-8e23-5779ac3cd7bd"
   },
   "outputs": [
    {
     "name": "stdout",
     "output_type": "stream",
     "text": [
      "🦥 Unsloth: Will patch your computer to enable 2x faster free finetuning.\n"
     ]
    }
   ],
   "source": [
    "from typing import Any\n",
    "\n",
    "from pydantic import PrivateAttr\n",
    "from unsloth import FastLanguageModel\n",
    "\n",
    "import weave\n",
    "\n",
    "\n",
    "class UnslothLoRAChatModel(weave.Model):\n",
    "    \"\"\"\n",
    "    We define an extra ChatModel class to be able store and version more parameters than just the model name.\n",
    "    Especially, relevant if we consider fine-tuning (locally or aaS) because of specific parameters.\n",
    "    \"\"\"\n",
    "\n",
    "    chat_model: str\n",
    "    cm_temperature: float\n",
    "    cm_max_new_tokens: int\n",
    "    cm_quantize: bool\n",
    "    inference_batch_size: int\n",
    "    dtype: Any\n",
    "    device: str\n",
    "    _model: Any = PrivateAttr()\n",
    "    _tokenizer: Any = PrivateAttr()\n",
    "\n",
    "    def model_post_init(self, __context):\n",
    "        # we can simply paste this from the \"Use\" tab from the registry\n",
    "        run = wandb.init(project=PROJECT, job_type=\"model_download\")\n",
    "        artifact = run.use_artifact(f\"{self.chat_model}\")\n",
    "        model_path = artifact.download()\n",
    "\n",
    "        # unsloth version (enable native 2x faster inference)\n",
    "        self._model, self._tokenizer = FastLanguageModel.from_pretrained(\n",
    "            model_name=model_path,\n",
    "            max_seq_length=self.cm_max_new_tokens,\n",
    "            dtype=self.dtype,\n",
    "            load_in_4bit=self.cm_quantize,\n",
    "        )\n",
    "        FastLanguageModel.for_inference(self._model)\n",
    "\n",
    "    @weave.op()\n",
    "    async def predict(self, query: list[str]) -> dict:\n",
    "        # add_generation_prompt = true - Must add for generation\n",
    "        input_ids = self._tokenizer.apply_chat_template(\n",
    "            query,\n",
    "            tokenize=True,\n",
    "            add_generation_prompt=True,\n",
    "            return_tensors=\"pt\",\n",
    "        ).to(\"cuda\")\n",
    "\n",
    "        output_ids = self._model.generate(\n",
    "            input_ids=input_ids,\n",
    "            max_new_tokens=64,\n",
    "            use_cache=True,\n",
    "            temperature=1.5,\n",
    "            min_p=0.1,\n",
    "        )\n",
    "\n",
    "        decoded_outputs = self._tokenizer.batch_decode(\n",
    "            output_ids[0][input_ids.shape[1] :], skip_special_tokens=True\n",
    "        )\n",
    "\n",
    "        return \"\".join(decoded_outputs).strip()"
   ]
  },
  {
   "cell_type": "code",
   "execution_count": null,
   "metadata": {
    "colab": {
     "base_uri": "https://localhost:8080/",
     "height": 341,
     "referenced_widgets": [
      "104d05f136db4a7486df7d33cd42019c",
      "c71e9cd5b2834f9c83fc1717d3089e0c",
      "ac66b111d2e145fc8138527a36d74e11",
      "4c18eaf65c364cd3801770299b6a8ad8",
      "0635e51be4f04f93b9d6875fdf41d375",
      "28dc7c34c2b54004b48a0b9ff65788bd",
      "971d25e29f394ebfb6caf6ddfed9ef62",
      "a605aaa7f55a421a8d2e4efd133b7c6c",
      "079cf0f3fd6141c4ad54dcf4733267cd",
      "5fb9295e5a07435ea5fc7d4fbd73d9f4",
      "d7635bc901ef4510bd26cc572e2c7989",
      "5c350ac4c2e14cc6976e00b796a44a07",
      "24ab27958b7a434181e9d14ddd383e3c",
      "07042d3c72d9477288d8a56490125144",
      "ca13b345bd5145848f37471d6301c4af",
      "6fb57f90ca1942deb2fef3009db895c5",
      "b74eb8227e8440c7a22d9673e85de7c1",
      "ba2bb6cb27d0408ca61d62b4c2add78e",
      "82752aa8c4934176919afaa4720f4b89",
      "6a17a4904d234613b285fb1fa345fcab",
      "3693c0f425e34c79a1ddc7c0b3855641",
      "33b02d17894a4e3cbbdadd61ab1f70cd"
     ]
    },
    "collapsed": true,
    "id": "nQnjivD-UOAq",
    "outputId": "623d0e92-ed3e-41ad-e131-d595e2d68849"
   },
   "outputs": [
    {
     "data": {
      "text/html": [
       "Tracking run with wandb version 0.18.3"
      ],
      "text/plain": [
       "<IPython.core.display.HTML object>"
      ]
     },
     "metadata": {},
     "output_type": "display_data"
    },
    {
     "data": {
      "text/html": [
       "Run data is saved locally in <code>/content/wandb/run-20241016_185224-sebf0q7n</code>"
      ],
      "text/plain": [
       "<IPython.core.display.HTML object>"
      ]
     },
     "metadata": {},
     "output_type": "display_data"
    },
    {
     "data": {
      "text/html": [
       "Syncing run <strong><a href='https://wandb.ai/wandb-smle/weave-cookboook-demo/runs/sebf0q7n' target=\"_blank\">decent-pyramid-46</a></strong> to <a href='https://wandb.ai/wandb-smle/weave-cookboook-demo' target=\"_blank\">Weights & Biases</a> (<a href='https://wandb.me/run' target=\"_blank\">docs</a>)<br/>"
      ],
      "text/plain": [
       "<IPython.core.display.HTML object>"
      ]
     },
     "metadata": {},
     "output_type": "display_data"
    },
    {
     "data": {
      "text/html": [
       " View project at <a href='https://wandb.ai/wandb-smle/weave-cookboook-demo' target=\"_blank\">https://wandb.ai/wandb-smle/weave-cookboook-demo</a>"
      ],
      "text/plain": [
       "<IPython.core.display.HTML object>"
      ]
     },
     "metadata": {},
     "output_type": "display_data"
    },
    {
     "data": {
      "text/html": [
       " View run at <a href='https://wandb.ai/wandb-smle/weave-cookboook-demo/runs/sebf0q7n' target=\"_blank\">https://wandb.ai/wandb-smle/weave-cookboook-demo/runs/sebf0q7n</a>"
      ],
      "text/plain": [
       "<IPython.core.display.HTML object>"
      ]
     },
     "metadata": {},
     "output_type": "display_data"
    },
    {
     "name": "stderr",
     "output_type": "stream",
     "text": [
      "\u001b[34m\u001b[1mwandb\u001b[0m: Downloading large artifact Finetuned Llama-3.2:v3, 101.53MB. 8 files... \n",
      "\u001b[34m\u001b[1mwandb\u001b[0m:   8 of 8 files downloaded.  \n",
      "Done. 0:0:3.8\n"
     ]
    },
    {
     "name": "stdout",
     "output_type": "stream",
     "text": [
      "==((====))==  Unsloth 2024.10.0: Fast Llama patching. Transformers = 4.44.2.\n",
      "   \\\\   /|    GPU: Tesla T4. Max memory: 14.748 GB. Platform = Linux.\n",
      "O^O/ \\_/ \\    Pytorch: 2.4.1+cu121. CUDA = 7.5. CUDA Toolkit = 12.1.\n",
      "\\        /    Bfloat16 = FALSE. FA [Xformers = 0.0.28.post1. FA2 = False]\n",
      " \"-____-\"     Free Apache license: http://github.com/unslothai/unsloth\n",
      "Unsloth: Fast downloading is enabled - ignore downloading bars which are red colored!\n"
     ]
    },
    {
     "data": {
      "application/vnd.jupyter.widget-view+json": {
       "model_id": "104d05f136db4a7486df7d33cd42019c",
       "version_major": 2,
       "version_minor": 0
      },
      "text/plain": [
       "model.safetensors:   0%|          | 0.00/2.24G [00:00<?, ?B/s]"
      ]
     },
     "metadata": {},
     "output_type": "display_data"
    },
    {
     "data": {
      "application/vnd.jupyter.widget-view+json": {
       "model_id": "5c350ac4c2e14cc6976e00b796a44a07",
       "version_major": 2,
       "version_minor": 0
      },
      "text/plain": [
       "generation_config.json:   0%|          | 0.00/184 [00:00<?, ?B/s]"
      ]
     },
     "metadata": {},
     "output_type": "display_data"
    },
    {
     "name": "stderr",
     "output_type": "stream",
     "text": [
      "Unsloth 2024.10.0 patched 28 layers with 28 QKV layers, 28 O layers and 28 MLP layers.\n"
     ]
    }
   ],
   "source": [
    "MODEL_REG_URL = \"wandb32/wandb-registry-RAG Chat Models/Finetuned Llama-3.2:v3\"\n",
    "\n",
    "max_seq_length = 2048  # Choose any! We auto support RoPE Scaling internally!\n",
    "dtype = (\n",
    "    None  # None for auto detection. Float16 for Tesla T4, V100, Bfloat16 for Ampere+\n",
    ")\n",
    "load_in_4bit = True  # Use 4bit quantization to reduce memory usage. Can be False.\n",
    "\n",
    "new_chat_model = UnslothLoRAChatModel(\n",
    "    name=\"UnslothLoRAChatModelRag\",\n",
    "    chat_model=MODEL_REG_URL,\n",
    "    cm_temperature=1.0,\n",
    "    cm_max_new_tokens=max_seq_length,\n",
    "    cm_quantize=load_in_4bit,\n",
    "    inference_batch_size=max_seq_length,\n",
    "    dtype=dtype,\n",
    "    device=\"auto\",\n",
    ")"
   ]
  },
  {
   "cell_type": "code",
   "execution_count": null,
   "metadata": {
    "colab": {
     "base_uri": "https://localhost:8080/",
     "height": 89
    },
    "id": "l2BwLe88fzV0",
    "outputId": "29740589-ede9-45e5-ecac-0604f03922e1"
   },
   "outputs": [
    {
     "name": "stderr",
     "output_type": "stream",
     "text": [
      "The attention mask is not set and cannot be inferred from input because pad token is same as eos token. As a consequence, you may observe unexpected behavior. Please pass your input's `attention_mask` to obtain reliable results.\n"
     ]
    },
    {
     "name": "stdout",
     "output_type": "stream",
     "text": [
      "🍩 https://wandb.ai/wandb-smle/weave-cookboook-demo/r/call/019296ad-9446-7f92-8261-8fe16ab68ccb\n"
     ]
    },
    {
     "data": {
      "application/vnd.google.colaboratory.intrinsic+json": {
       "type": "string"
      },
      "text/plain": [
       "'The capital of Germany is Berlin.'"
      ]
     },
     "execution_count": 14,
     "metadata": {},
     "output_type": "execute_result"
    }
   ],
   "source": [
    "await new_chat_model.predict(\n",
    "    [{\"role\": \"user\", \"content\": \"What is the capital of Germany?\"}]\n",
    ")"
   ]
  },
  {
   "cell_type": "markdown",
   "metadata": {
    "id": "ffttTqrDRSkH"
   },
   "source": [
    "## Integrate the new `ChatModel` version into `RagModel`\n",
    "\n",
    "Building a RAG application from a fine-tuned chat model improves conversational AI by using tailored components without having to rebuild the entire pipeline. In this step, we retrieve the existing `RagModel` from our Weave project and update its `ChatModel` to use the newly fine-tuned model. This seamless swap means that other components like the vector database (VDB) and prompts remain untouched, preserving the application's overall structure while improving performance.\n",
    "\n",
    "The code below retrieves the `RagModel` object using a reference from the Weave project. The `chat_model` attribute of the `RagModel` is then updated to use the new `UnslothLoRAChatModel` instance created in the previous step. After this, the updated `RagModel` is published to create a new version. Finally, the updated `RagModel` is used to run a sample prediction query, verifying that the new chat model is being used. \n"
   ]
  },
  {
   "cell_type": "code",
   "execution_count": null,
   "metadata": {
    "id": "2K69NJTTg1fr"
   },
   "outputs": [],
   "source": [
    "RagModel = weave.ref(\n",
    "    \"weave:///wandb-smle/weave-cookboook-demo/object/RagModel:cqRaGKcxutBWXyM0fCGTR1Yk2mISLsNari4wlGTwERo\"\n",
    ").get()"
   ]
  },
  {
   "cell_type": "code",
   "execution_count": null,
   "metadata": {
    "colab": {
     "base_uri": "https://localhost:8080/",
     "height": 35
    },
    "id": "lkunDX7Qk3DV",
    "outputId": "ab6a0c31-15f1-4016-a154-faba5ed2a4e8"
   },
   "outputs": [
    {
     "data": {
      "application/vnd.google.colaboratory.intrinsic+json": {
       "type": "string"
      },
      "text/plain": [
       "'gemini/gemini-1.5-flash'"
      ]
     },
     "execution_count": 19,
     "metadata": {},
     "output_type": "execute_result"
    }
   ],
   "source": [
    "RagModel.chat_model.chat_model"
   ]
  },
  {
   "cell_type": "code",
   "execution_count": null,
   "metadata": {
    "colab": {
     "base_uri": "https://localhost:8080/"
    },
    "collapsed": true,
    "id": "wxWaGYo0j7My",
    "outputId": "410a880f-e22c-4c86-aa2f-2e050df6f684"
   },
   "outputs": [
    {
     "name": "stdout",
     "output_type": "stream",
     "text": [
      "🍩 https://wandb.ai/wandb-smle/weave-cookboook-demo/r/call/019296b1-183a-76a0-9d69-74dff9aba43e\n"
     ]
    },
    {
     "data": {
      "text/plain": [
       "{'result': {'content': \"I don't know. \\n\",\n",
       "  'role': 'assistant',\n",
       "  'tool_calls': None,\n",
       "  'function_call': None},\n",
       " 'source_documents': [{'title': ObjectRef(entity='wandb-smle', project='weave-rag-experiments', name='raw_data', digest='YYrLabVlQ0NWkYcSy3ebbUaYbeJPibSxglwPCMAhamY', extra=('attr', 'rows', 'id', '0tJHKSXpQe1bmAiBe41iGnvuDzYuOYN8U01ilj1cjrk', 'key', 'title')),\n",
       "   'type': ObjectRef(entity='wandb-smle', project='weave-rag-experiments', name='raw_data', digest='YYrLabVlQ0NWkYcSy3ebbUaYbeJPibSxglwPCMAhamY', extra=('attr', 'rows', 'id', '0tJHKSXpQe1bmAiBe41iGnvuDzYuOYN8U01ilj1cjrk', 'key', 'type')),\n",
       "   'url': ObjectRef(entity='wandb-smle', project='weave-rag-experiments', name='raw_data', digest='YYrLabVlQ0NWkYcSy3ebbUaYbeJPibSxglwPCMAhamY', extra=('attr', 'rows', 'id', '0tJHKSXpQe1bmAiBe41iGnvuDzYuOYN8U01ilj1cjrk', 'key', 'url')),\n",
       "   'page_content': 'Engaging Indigenous Peoples and local communities using just-transition and implemented through rights-based decision-making approaches, collective and participatory decision-making processes has enabled deeper ambition and accelerated action in different ways, and at all scales, depending on national circumstances (medium conﬁdence). The media helps shape the public discourse about climate change. This can usefully build public support to accelerate climate action (medium evidence, high agreement). In some instances, public discourses of media and organised counter movements have impeded climate action, exacerbating helplessness and disinformation and fuelling polarisation, with negative implications for climate action (medium conﬁdence). {WGII SPM C.5.1, WGII SPM D.2, WGII TS.D.9, WGII TS.D.9.7, WGII TS.E.2.1, WGII 18.4; WGIII SPM D.3.3, WGIII SPM E.3.3, WGIII TS.6.1, WGIII 6.7, WGIII 13 ES, WGIII Box.13.7} Loss & Damage82 was formally recognized in 2013 through establishment of the Warsaw International Mechanism on Loss and Damage (WIM), and in 2015, Article 8 of the Paris Agreement provided a legal basis for the WIM. There is improved understanding of both economic and non-economic losses and damages, which is informing international climate policy and which has highlighted that losses and damages are not comprehensively addressed by current ﬁnancial, governance and institutional arrangements, particularly in vulnerable developing countries (high conﬁdence). {WGII SPM C.3.5, WGII Cross-Chapter Box LOSS} Other recent global agreements that inﬂuence responses to climate change include the Sendai Framework for Disaster Risk Reduction (2015-2030), the ﬁnance-oriented Addis Ababa Action Agenda (2015) and the New Urban Agenda (2016), and the Kigali Amendment to the Montreal Protocol on Substances that Deplete the Ozone Layer (2016), among others. In addition, the 2030 Agenda for Sustainable Development, adopted in 2015 by UN member states, sets out 17 Sustainable Development Goals (SDGs) and seeks to align efforts globally to prioritise ending extreme poverty, protect the planet and promote more peaceful, prosperous and inclusive societies. If achieved, these agreements would reduce climate change, and the impacts on health, well-being, migration, and conﬂict, among others (very high conﬁdence). {WGII TS.A.1, WGII 7 ES} Since AR5, rising public awareness and an increasing diversity of actors, have overall helped accelerate political commitment and global efforts to address climate change (medium 2.2.2. Mitigation Actions to Date There has been a consistent expansion of policies and laws addressing mitigation since AR5 (high conﬁdence). Climate governance supports mitigation by providing frameworks through which diverse actors interact, and a basis for policy development and implementation (medium conﬁdence). Many regulatory and economic instruments have already been deployed successfully (high conﬁdence). By 2020, laws primarily focussed on reducing GHG emissions existed in 56 countries covering 53% of global emissions (medium conﬁdence). The application of diverse policy instruments for mitigation at the national and sub-national levels has grown consistently across a range of sectors (high conﬁdence). Policy coverage is uneven across sectors and remains limited for emissions from agriculture, and from industrial materials and feedstocks (high conﬁdence). {WGIII SPM B.5, WGIII SPM B.5.2, WGIII SPM E.3, WGIII SPM E.4} Practical experience has instrument design and helped to improve predictability, environmental effectiveness, economic',\n",
       "   'metadata': ObjectRef(entity='wandb-smle', project='weave-rag-experiments', name='raw_data', digest='YYrLabVlQ0NWkYcSy3ebbUaYbeJPibSxglwPCMAhamY', extra=('attr', 'rows', 'id', '0tJHKSXpQe1bmAiBe41iGnvuDzYuOYN8U01ilj1cjrk', 'key', 'metadata'))},\n",
       "  {'title': ObjectRef(entity='wandb-smle', project='weave-rag-experiments', name='raw_data', digest='YYrLabVlQ0NWkYcSy3ebbUaYbeJPibSxglwPCMAhamY', extra=('attr', 'rows', 'id', '0tJHKSXpQe1bmAiBe41iGnvuDzYuOYN8U01ilj1cjrk', 'key', 'title')),\n",
       "   'type': ObjectRef(entity='wandb-smle', project='weave-rag-experiments', name='raw_data', digest='YYrLabVlQ0NWkYcSy3ebbUaYbeJPibSxglwPCMAhamY', extra=('attr', 'rows', 'id', '0tJHKSXpQe1bmAiBe41iGnvuDzYuOYN8U01ilj1cjrk', 'key', 'type')),\n",
       "   'url': ObjectRef(entity='wandb-smle', project='weave-rag-experiments', name='raw_data', digest='YYrLabVlQ0NWkYcSy3ebbUaYbeJPibSxglwPCMAhamY', extra=('attr', 'rows', 'id', '0tJHKSXpQe1bmAiBe41iGnvuDzYuOYN8U01ilj1cjrk', 'key', 'url')),\n",
       "   'page_content': 'B.2.4; WGIII SPM B.3.1; SROCC SPM A.7.1, SROCC SPM A.7.2} impacts Climate change has caused widespread adverse and related losses and damages to nature and people (high conﬁdence). Losses and damages are unequally distributed across systems, regions and sectors (high conﬁdence). Cultural losses, related 80 See Annex 1: Glossary. 81 Governance: The structures, processes and actions through which private and public actors interact to address societal goals. This includes formal and informal institutions and the associated norms, rules, laws and procedures for deciding, managing, implementing and monitoring policies and measures at any geographic or political scale, from global to local. {WGII SPM Footnote 31} 51 S e c t i o n 2 S e c t i o n S e c t i o n 2 1 Section 2 2.2 Responses Undertaken to Date International climate agreements, rising national ambitions for climate action, along with rising public awareness are accelerating efforts to address climate change at multiple levels of governance. Mitigation policies have contributed to a decrease in global energy and carbon intensity, with several countries achieving GHG emission reductions for over a decade. Low-emission technologies are becoming more affordable, with many low or zero emissions options now available for energy, buildings, transport, and industry. Adaptation planning and implementation progress has generated multiple beneﬁts, with effective adaptation options having the potential to reduce climate risks and contribute to sustainable development. Global tracked ﬁnance for mitigation and adaptation has seen an upward trend since AR5, but falls short of needs. (high conﬁdence) 2.2.1. Global Policy Setting The United Nations Framework Convention on Climate Change (UNFCCC), Kyoto Protocol, and Paris Agreement are supporting rising levels of national ambition and encouraging the development and implementation of climate policies at multiple levels of governance (high conﬁdence). The Kyoto Protocol led to reduced emissions in some countries and was instrumental in building national and international capacity for GHG reporting, accounting and emissions markets (high confidence). The Paris Agreement, adopted under the UNFCCC, with near universal participation, has led to policy development and target-setting at national and sub-national levels, particularly in relation to mitigation but also for adaptation, as well as enhanced transparency of climate action and support (medium confidence). Nationally Determined Contributions (NDCs), required under the Paris Agreement, have required countries to articulate their priorities and ambition with respect to climate action. {WGII 17.4, WGII TS D.1.1; WGIII SPM B.5.1, WGIII SPM E.6} conﬁdence). Mass social movements have emerged as catalysing agents in some regions, often building on prior movements including Indigenous Peoples-led movements, youth movements, human rights movements, gender activism, and climate litigation, which is raising awareness and, in some cases, has inﬂuenced the outcome and ambition of climate governance (medium conﬁdence). Engaging Indigenous Peoples and local communities using just-transition and implemented through rights-based decision-making approaches, collective and participatory decision-making processes has enabled deeper ambition and accelerated action in different ways, and at all scales, depending on national circumstances (medium conﬁdence). The media helps shape the public discourse about climate change. This',\n",
       "   'metadata': ObjectRef(entity='wandb-smle', project='weave-rag-experiments', name='raw_data', digest='YYrLabVlQ0NWkYcSy3ebbUaYbeJPibSxglwPCMAhamY', extra=('attr', 'rows', 'id', '0tJHKSXpQe1bmAiBe41iGnvuDzYuOYN8U01ilj1cjrk', 'key', 'metadata'))}]}"
      ]
     },
     "execution_count": 20,
     "metadata": {},
     "output_type": "execute_result"
    }
   ],
   "source": [
    "await RagModel.predict(\"When was the first conference on climate change?\")"
   ]
  },
  {
   "cell_type": "code",
   "execution_count": null,
   "metadata": {
    "collapsed": true,
    "id": "vZTs9Q0Lq0nz"
   },
   "outputs": [],
   "source": [
    "# MAGIC: exchange chat_model and publish new version (no need to worry about other RAG components)\n",
    "RagModel.chat_model = new_chat_model"
   ]
  },
  {
   "cell_type": "code",
   "execution_count": null,
   "metadata": {
    "colab": {
     "base_uri": "https://localhost:8080/",
     "height": 35
    },
    "id": "V2biCY_2jhr_",
    "outputId": "6f7fe671-163e-458e-abcf-c741a74a2797"
   },
   "outputs": [
    {
     "data": {
      "application/vnd.google.colaboratory.intrinsic+json": {
       "type": "string"
      },
      "text/plain": [
       "'wandb32/wandb-registry-RAG Chat Models/Finetuned Llama-3.2:v3'"
      ]
     },
     "execution_count": 22,
     "metadata": {},
     "output_type": "execute_result"
    }
   ],
   "source": [
    "RagModel.chat_model.chat_model"
   ]
  },
  {
   "cell_type": "code",
   "execution_count": null,
   "metadata": {
    "colab": {
     "base_uri": "https://localhost:8080/"
    },
    "id": "z1YVB3bYq2US",
    "outputId": "df158b09-c588-486e-8848-7553cf643ee4"
   },
   "outputs": [
    {
     "name": "stdout",
     "output_type": "stream",
     "text": [
      "📦 Published to https://wandb.ai/wandb-smle/weave-cookboook-demo/weave/objects/RagModel/versions/52kphTk2726ZUTp9Cx5Pe5ntpMzSD9fIu4j50RfnSxs\n"
     ]
    }
   ],
   "source": [
    "# first publish new version so that in prediction we reference new version\n",
    "PUB_REFERENCE = weave.publish(RagModel, \"RagModel\")"
   ]
  },
  {
   "cell_type": "code",
   "execution_count": null,
   "metadata": {
    "colab": {
     "base_uri": "https://localhost:8080/"
    },
    "collapsed": true,
    "id": "6JKXOzhJjpTZ",
    "outputId": "fd95ea9f-c6b2-4c9c-bc08-9f36615b0702"
   },
   "outputs": [
    {
     "name": "stdout",
     "output_type": "stream",
     "text": [
      "🍩 https://wandb.ai/wandb-smle/weave-cookboook-demo/r/call/019296b1-8451-7a12-8b01-9f7f3f85a8ab\n"
     ]
    },
    {
     "data": {
      "text/plain": [
       "{'result': 'The first international conference on climate change was held in 1990 in Geneva, Switzerland, during the United Nations Conference on Environment and Development, also known as the Earth Summit. This conference was convened by the United Nations to address global environmental issues and promote sustainable development. The Geneva Climate Change Conference, as it came to be',\n",
       " 'source_documents': [{'title': ObjectRef(entity='wandb-smle', project='weave-rag-experiments', name='raw_data', digest='YYrLabVlQ0NWkYcSy3ebbUaYbeJPibSxglwPCMAhamY', extra=('attr', 'rows', 'id', '0tJHKSXpQe1bmAiBe41iGnvuDzYuOYN8U01ilj1cjrk', 'key', 'title')),\n",
       "   'type': ObjectRef(entity='wandb-smle', project='weave-rag-experiments', name='raw_data', digest='YYrLabVlQ0NWkYcSy3ebbUaYbeJPibSxglwPCMAhamY', extra=('attr', 'rows', 'id', '0tJHKSXpQe1bmAiBe41iGnvuDzYuOYN8U01ilj1cjrk', 'key', 'type')),\n",
       "   'url': ObjectRef(entity='wandb-smle', project='weave-rag-experiments', name='raw_data', digest='YYrLabVlQ0NWkYcSy3ebbUaYbeJPibSxglwPCMAhamY', extra=('attr', 'rows', 'id', '0tJHKSXpQe1bmAiBe41iGnvuDzYuOYN8U01ilj1cjrk', 'key', 'url')),\n",
       "   'page_content': 'Engaging Indigenous Peoples and local communities using just-transition and implemented through rights-based decision-making approaches, collective and participatory decision-making processes has enabled deeper ambition and accelerated action in different ways, and at all scales, depending on national circumstances (medium conﬁdence). The media helps shape the public discourse about climate change. This can usefully build public support to accelerate climate action (medium evidence, high agreement). In some instances, public discourses of media and organised counter movements have impeded climate action, exacerbating helplessness and disinformation and fuelling polarisation, with negative implications for climate action (medium conﬁdence). {WGII SPM C.5.1, WGII SPM D.2, WGII TS.D.9, WGII TS.D.9.7, WGII TS.E.2.1, WGII 18.4; WGIII SPM D.3.3, WGIII SPM E.3.3, WGIII TS.6.1, WGIII 6.7, WGIII 13 ES, WGIII Box.13.7} Loss & Damage82 was formally recognized in 2013 through establishment of the Warsaw International Mechanism on Loss and Damage (WIM), and in 2015, Article 8 of the Paris Agreement provided a legal basis for the WIM. There is improved understanding of both economic and non-economic losses and damages, which is informing international climate policy and which has highlighted that losses and damages are not comprehensively addressed by current ﬁnancial, governance and institutional arrangements, particularly in vulnerable developing countries (high conﬁdence). {WGII SPM C.3.5, WGII Cross-Chapter Box LOSS} Other recent global agreements that inﬂuence responses to climate change include the Sendai Framework for Disaster Risk Reduction (2015-2030), the ﬁnance-oriented Addis Ababa Action Agenda (2015) and the New Urban Agenda (2016), and the Kigali Amendment to the Montreal Protocol on Substances that Deplete the Ozone Layer (2016), among others. In addition, the 2030 Agenda for Sustainable Development, adopted in 2015 by UN member states, sets out 17 Sustainable Development Goals (SDGs) and seeks to align efforts globally to prioritise ending extreme poverty, protect the planet and promote more peaceful, prosperous and inclusive societies. If achieved, these agreements would reduce climate change, and the impacts on health, well-being, migration, and conﬂict, among others (very high conﬁdence). {WGII TS.A.1, WGII 7 ES} Since AR5, rising public awareness and an increasing diversity of actors, have overall helped accelerate political commitment and global efforts to address climate change (medium 2.2.2. Mitigation Actions to Date There has been a consistent expansion of policies and laws addressing mitigation since AR5 (high conﬁdence). Climate governance supports mitigation by providing frameworks through which diverse actors interact, and a basis for policy development and implementation (medium conﬁdence). Many regulatory and economic instruments have already been deployed successfully (high conﬁdence). By 2020, laws primarily focussed on reducing GHG emissions existed in 56 countries covering 53% of global emissions (medium conﬁdence). The application of diverse policy instruments for mitigation at the national and sub-national levels has grown consistently across a range of sectors (high conﬁdence). Policy coverage is uneven across sectors and remains limited for emissions from agriculture, and from industrial materials and feedstocks (high conﬁdence). {WGIII SPM B.5, WGIII SPM B.5.2, WGIII SPM E.3, WGIII SPM E.4} Practical experience has instrument design and helped to improve predictability, environmental effectiveness, economic',\n",
       "   'metadata': ObjectRef(entity='wandb-smle', project='weave-rag-experiments', name='raw_data', digest='YYrLabVlQ0NWkYcSy3ebbUaYbeJPibSxglwPCMAhamY', extra=('attr', 'rows', 'id', '0tJHKSXpQe1bmAiBe41iGnvuDzYuOYN8U01ilj1cjrk', 'key', 'metadata'))},\n",
       "  {'title': ObjectRef(entity='wandb-smle', project='weave-rag-experiments', name='raw_data', digest='YYrLabVlQ0NWkYcSy3ebbUaYbeJPibSxglwPCMAhamY', extra=('attr', 'rows', 'id', '0tJHKSXpQe1bmAiBe41iGnvuDzYuOYN8U01ilj1cjrk', 'key', 'title')),\n",
       "   'type': ObjectRef(entity='wandb-smle', project='weave-rag-experiments', name='raw_data', digest='YYrLabVlQ0NWkYcSy3ebbUaYbeJPibSxglwPCMAhamY', extra=('attr', 'rows', 'id', '0tJHKSXpQe1bmAiBe41iGnvuDzYuOYN8U01ilj1cjrk', 'key', 'type')),\n",
       "   'url': ObjectRef(entity='wandb-smle', project='weave-rag-experiments', name='raw_data', digest='YYrLabVlQ0NWkYcSy3ebbUaYbeJPibSxglwPCMAhamY', extra=('attr', 'rows', 'id', '0tJHKSXpQe1bmAiBe41iGnvuDzYuOYN8U01ilj1cjrk', 'key', 'url')),\n",
       "   'page_content': 'B.2.4; WGIII SPM B.3.1; SROCC SPM A.7.1, SROCC SPM A.7.2} impacts Climate change has caused widespread adverse and related losses and damages to nature and people (high conﬁdence). Losses and damages are unequally distributed across systems, regions and sectors (high conﬁdence). Cultural losses, related 80 See Annex 1: Glossary. 81 Governance: The structures, processes and actions through which private and public actors interact to address societal goals. This includes formal and informal institutions and the associated norms, rules, laws and procedures for deciding, managing, implementing and monitoring policies and measures at any geographic or political scale, from global to local. {WGII SPM Footnote 31} 51 S e c t i o n 2 S e c t i o n S e c t i o n 2 1 Section 2 2.2 Responses Undertaken to Date International climate agreements, rising national ambitions for climate action, along with rising public awareness are accelerating efforts to address climate change at multiple levels of governance. Mitigation policies have contributed to a decrease in global energy and carbon intensity, with several countries achieving GHG emission reductions for over a decade. Low-emission technologies are becoming more affordable, with many low or zero emissions options now available for energy, buildings, transport, and industry. Adaptation planning and implementation progress has generated multiple beneﬁts, with effective adaptation options having the potential to reduce climate risks and contribute to sustainable development. Global tracked ﬁnance for mitigation and adaptation has seen an upward trend since AR5, but falls short of needs. (high conﬁdence) 2.2.1. Global Policy Setting The United Nations Framework Convention on Climate Change (UNFCCC), Kyoto Protocol, and Paris Agreement are supporting rising levels of national ambition and encouraging the development and implementation of climate policies at multiple levels of governance (high conﬁdence). The Kyoto Protocol led to reduced emissions in some countries and was instrumental in building national and international capacity for GHG reporting, accounting and emissions markets (high confidence). The Paris Agreement, adopted under the UNFCCC, with near universal participation, has led to policy development and target-setting at national and sub-national levels, particularly in relation to mitigation but also for adaptation, as well as enhanced transparency of climate action and support (medium confidence). Nationally Determined Contributions (NDCs), required under the Paris Agreement, have required countries to articulate their priorities and ambition with respect to climate action. {WGII 17.4, WGII TS D.1.1; WGIII SPM B.5.1, WGIII SPM E.6} conﬁdence). Mass social movements have emerged as catalysing agents in some regions, often building on prior movements including Indigenous Peoples-led movements, youth movements, human rights movements, gender activism, and climate litigation, which is raising awareness and, in some cases, has inﬂuenced the outcome and ambition of climate governance (medium conﬁdence). Engaging Indigenous Peoples and local communities using just-transition and implemented through rights-based decision-making approaches, collective and participatory decision-making processes has enabled deeper ambition and accelerated action in different ways, and at all scales, depending on national circumstances (medium conﬁdence). The media helps shape the public discourse about climate change. This',\n",
       "   'metadata': ObjectRef(entity='wandb-smle', project='weave-rag-experiments', name='raw_data', digest='YYrLabVlQ0NWkYcSy3ebbUaYbeJPibSxglwPCMAhamY', extra=('attr', 'rows', 'id', '0tJHKSXpQe1bmAiBe41iGnvuDzYuOYN8U01ilj1cjrk', 'key', 'metadata'))}]}"
      ]
     },
     "execution_count": 24,
     "metadata": {},
     "output_type": "execute_result"
    }
   ],
   "source": [
    "await RagModel.predict(\"When was the first conference on climate change?\")"
   ]
  },
  {
   "cell_type": "markdown",
   "metadata": {
    "id": "FyrA3OERg35D"
   },
   "source": [
    "## Run a `weave.Evaluation` \n",
    "\n",
    "In the next step, we evaluate the performance of our updated `RagModel` using an existing `weave.Evaluation`. This process ensures that the new fine-tuned chat model is performing as expected within the RAG application. To streamline integration and enable collaboration between the Models and Apps teams, we log evaluation results for both the model's W&B run and as part of the Weave workspace.\n",
    "\n",
    "In Models:\n",
    "- The evaluation summary is logged to the W&B run used to download the fine-tuned chat model. This includes summary metrics and graphs displayed in a [workspace view](https://wandb.ai/wandb-smle/weave-cookboook-demo/workspace?nw=eglm8z7o9) for analysis.\n",
    "- The evaluation trace ID is added to the run's configuration, linking directly to the Weave page for easier traceability by the Model Team.\n",
    "\n",
    "In Weave:\n",
    "- The artifact or registry link for the `ChatModel` is stored as an input to the `RagModel`.\n",
    "- The W&B run ID is saved as an extra column in the evaluation traces for better context.\n",
    "\n",
    "The code below demonstrates how to retrieve an evaluation object, execute the evaluation using the updated `RagModel`, and log the results to both W&B and Weave. Ensure that the evaluation reference (`WEAVE_EVAL`) matches your project setup. \n"
   ]
  },
  {
   "cell_type": "code",
   "execution_count": null,
   "metadata": {
    "id": "nrFn_viXKsDE"
   },
   "outputs": [],
   "source": [
    "# MAGIC: we can simply get an evaluation with a eval dataset and scorers and use them\n",
    "WEAVE_EVAL = \"weave:///wandb-smle/weave-cookboook-demo/object/climate_rag_eval:ntRX6qn3Tx6w3UEVZXdhIh1BWGh7uXcQpOQnIuvnSgo\"\n",
    "climate_rag_eval = weave.ref(WEAVE_EVAL).get()"
   ]
  },
  {
   "cell_type": "code",
   "execution_count": null,
   "metadata": {
    "colab": {
     "base_uri": "https://localhost:8080/",
     "height": 527
    },
    "id": "IL5dT2iIrs3d",
    "outputId": "1659ea0c-4315-49ea-b20d-5e796b92cbcc"
   },
   "outputs": [
    {
     "data": {
      "text/html": [
       "<pre style=\"white-space:pre;overflow-x:auto;line-height:normal;font-family:Menlo,'DejaVu Sans Mono',consolas,'Courier New',monospace\">Evaluated <span style=\"color: #008080; text-decoration-color: #008080; font-weight: bold\">1</span> of <span style=\"color: #008080; text-decoration-color: #008080; font-weight: bold\">9</span> examples\n",
       "</pre>\n"
      ],
      "text/plain": [
       "Evaluated \u001b[1;36m1\u001b[0m of \u001b[1;36m9\u001b[0m examples\n"
      ]
     },
     "metadata": {},
     "output_type": "display_data"
    },
    {
     "data": {
      "text/html": [
       "<pre style=\"white-space:pre;overflow-x:auto;line-height:normal;font-family:Menlo,'DejaVu Sans Mono',consolas,'Courier New',monospace\">Evaluated <span style=\"color: #008080; text-decoration-color: #008080; font-weight: bold\">2</span> of <span style=\"color: #008080; text-decoration-color: #008080; font-weight: bold\">9</span> examples\n",
       "</pre>\n"
      ],
      "text/plain": [
       "Evaluated \u001b[1;36m2\u001b[0m of \u001b[1;36m9\u001b[0m examples\n"
      ]
     },
     "metadata": {},
     "output_type": "display_data"
    },
    {
     "data": {
      "text/html": [
       "<pre style=\"white-space:pre;overflow-x:auto;line-height:normal;font-family:Menlo,'DejaVu Sans Mono',consolas,'Courier New',monospace\">Evaluated <span style=\"color: #008080; text-decoration-color: #008080; font-weight: bold\">3</span> of <span style=\"color: #008080; text-decoration-color: #008080; font-weight: bold\">9</span> examples\n",
       "</pre>\n"
      ],
      "text/plain": [
       "Evaluated \u001b[1;36m3\u001b[0m of \u001b[1;36m9\u001b[0m examples\n"
      ]
     },
     "metadata": {},
     "output_type": "display_data"
    },
    {
     "data": {
      "text/html": [
       "<pre style=\"white-space:pre;overflow-x:auto;line-height:normal;font-family:Menlo,'DejaVu Sans Mono',consolas,'Courier New',monospace\">Evaluated <span style=\"color: #008080; text-decoration-color: #008080; font-weight: bold\">4</span> of <span style=\"color: #008080; text-decoration-color: #008080; font-weight: bold\">9</span> examples\n",
       "</pre>\n"
      ],
      "text/plain": [
       "Evaluated \u001b[1;36m4\u001b[0m of \u001b[1;36m9\u001b[0m examples\n"
      ]
     },
     "metadata": {},
     "output_type": "display_data"
    },
    {
     "data": {
      "text/html": [
       "<pre style=\"white-space:pre;overflow-x:auto;line-height:normal;font-family:Menlo,'DejaVu Sans Mono',consolas,'Courier New',monospace\">Evaluated <span style=\"color: #008080; text-decoration-color: #008080; font-weight: bold\">5</span> of <span style=\"color: #008080; text-decoration-color: #008080; font-weight: bold\">9</span> examples\n",
       "</pre>\n"
      ],
      "text/plain": [
       "Evaluated \u001b[1;36m5\u001b[0m of \u001b[1;36m9\u001b[0m examples\n"
      ]
     },
     "metadata": {},
     "output_type": "display_data"
    },
    {
     "data": {
      "text/html": [
       "<pre style=\"white-space:pre;overflow-x:auto;line-height:normal;font-family:Menlo,'DejaVu Sans Mono',consolas,'Courier New',monospace\">Evaluated <span style=\"color: #008080; text-decoration-color: #008080; font-weight: bold\">6</span> of <span style=\"color: #008080; text-decoration-color: #008080; font-weight: bold\">9</span> examples\n",
       "</pre>\n"
      ],
      "text/plain": [
       "Evaluated \u001b[1;36m6\u001b[0m of \u001b[1;36m9\u001b[0m examples\n"
      ]
     },
     "metadata": {},
     "output_type": "display_data"
    },
    {
     "data": {
      "text/html": [
       "<pre style=\"white-space:pre;overflow-x:auto;line-height:normal;font-family:Menlo,'DejaVu Sans Mono',consolas,'Courier New',monospace\">Evaluated <span style=\"color: #008080; text-decoration-color: #008080; font-weight: bold\">7</span> of <span style=\"color: #008080; text-decoration-color: #008080; font-weight: bold\">9</span> examples\n",
       "</pre>\n"
      ],
      "text/plain": [
       "Evaluated \u001b[1;36m7\u001b[0m of \u001b[1;36m9\u001b[0m examples\n"
      ]
     },
     "metadata": {},
     "output_type": "display_data"
    },
    {
     "data": {
      "text/html": [
       "<pre style=\"white-space:pre;overflow-x:auto;line-height:normal;font-family:Menlo,'DejaVu Sans Mono',consolas,'Courier New',monospace\">Evaluated <span style=\"color: #008080; text-decoration-color: #008080; font-weight: bold\">8</span> of <span style=\"color: #008080; text-decoration-color: #008080; font-weight: bold\">9</span> examples\n",
       "</pre>\n"
      ],
      "text/plain": [
       "Evaluated \u001b[1;36m8\u001b[0m of \u001b[1;36m9\u001b[0m examples\n"
      ]
     },
     "metadata": {},
     "output_type": "display_data"
    },
    {
     "data": {
      "text/html": [
       "<pre style=\"white-space:pre;overflow-x:auto;line-height:normal;font-family:Menlo,'DejaVu Sans Mono',consolas,'Courier New',monospace\">Evaluated <span style=\"color: #008080; text-decoration-color: #008080; font-weight: bold\">9</span> of <span style=\"color: #008080; text-decoration-color: #008080; font-weight: bold\">9</span> examples\n",
       "</pre>\n"
      ],
      "text/plain": [
       "Evaluated \u001b[1;36m9\u001b[0m of \u001b[1;36m9\u001b[0m examples\n"
      ]
     },
     "metadata": {},
     "output_type": "display_data"
    },
    {
     "name": "stderr",
     "output_type": "stream",
     "text": [
      "Multi-Judge Correctness Calculation: 2it [00:00, 88.40it/s]\n",
      "Multi-Judge Hallucination Calculation: 2it [00:00, 84.32it/s]\n"
     ]
    },
    {
     "data": {
      "text/html": [
       "<pre style=\"white-space:pre;overflow-x:auto;line-height:normal;font-family:Menlo,'DejaVu Sans Mono',consolas,'Courier New',monospace\">Evaluation summary\n",
       "<span style=\"font-weight: bold\">{</span>\n",
       "    <span style=\"color: #008000; text-decoration-color: #008000\">'Performance Metrics'</span>: <span style=\"font-weight: bold\">{</span>\n",
       "        <span style=\"color: #008000; text-decoration-color: #008000\">'Correctness'</span>: <span style=\"font-weight: bold\">{</span>\n",
       "            <span style=\"color: #008000; text-decoration-color: #008000\">'gpt-4o-mini'</span>: <span style=\"color: #008080; text-decoration-color: #008080; font-weight: bold\">0.3333333333333333</span>,\n",
       "            <span style=\"color: #008000; text-decoration-color: #008000\">'claude-3-haiku-20240307'</span>: <span style=\"color: #008080; text-decoration-color: #008080; font-weight: bold\">0.8888888888888888</span>,\n",
       "            <span style=\"color: #008000; text-decoration-color: #008000\">'Total Avg'</span>: <span style=\"color: #008080; text-decoration-color: #008080; font-weight: bold\">0.6111111111111112</span>\n",
       "        <span style=\"font-weight: bold\">}</span>,\n",
       "        <span style=\"color: #008000; text-decoration-color: #008000\">'Nr1_Retrieval'</span>: <span style=\"color: #008080; text-decoration-color: #008080; font-weight: bold\">0.0</span>\n",
       "    <span style=\"font-weight: bold\">}</span>,\n",
       "    <span style=\"color: #008000; text-decoration-color: #008000\">'Safety Metrics'</span>: <span style=\"font-weight: bold\">{</span>\n",
       "        <span style=\"color: #008000; text-decoration-color: #008000\">'No Hallucination'</span>: <span style=\"font-weight: bold\">{</span>\n",
       "            <span style=\"color: #008000; text-decoration-color: #008000\">'gpt-4o-mini'</span>: <span style=\"color: #008080; text-decoration-color: #008080; font-weight: bold\">0.2222222222222222</span>,\n",
       "            <span style=\"color: #008000; text-decoration-color: #008000\">'claude-3-haiku-20240307'</span>: <span style=\"color: #008080; text-decoration-color: #008080; font-weight: bold\">0.4444444444444444</span>,\n",
       "            <span style=\"color: #008000; text-decoration-color: #008000\">'Total Avg'</span>: <span style=\"color: #008080; text-decoration-color: #008080; font-weight: bold\">0.3333333333333333</span>\n",
       "        <span style=\"font-weight: bold\">}</span>\n",
       "    <span style=\"font-weight: bold\">}</span>,\n",
       "    <span style=\"color: #008000; text-decoration-color: #008000\">'model_latency'</span>: <span style=\"font-weight: bold\">{</span><span style=\"color: #008000; text-decoration-color: #008000\">'mean'</span>: <span style=\"color: #008080; text-decoration-color: #008080; font-weight: bold\">5.077825360827976</span><span style=\"font-weight: bold\">}</span>\n",
       "<span style=\"font-weight: bold\">}</span>\n",
       "</pre>\n"
      ],
      "text/plain": [
       "Evaluation summary\n",
       "\u001b[1m{\u001b[0m\n",
       "    \u001b[32m'Performance Metrics'\u001b[0m: \u001b[1m{\u001b[0m\n",
       "        \u001b[32m'Correctness'\u001b[0m: \u001b[1m{\u001b[0m\n",
       "            \u001b[32m'gpt-4o-mini'\u001b[0m: \u001b[1;36m0.3333333333333333\u001b[0m,\n",
       "            \u001b[32m'claude-3-haiku-20240307'\u001b[0m: \u001b[1;36m0.8888888888888888\u001b[0m,\n",
       "            \u001b[32m'Total Avg'\u001b[0m: \u001b[1;36m0.6111111111111112\u001b[0m\n",
       "        \u001b[1m}\u001b[0m,\n",
       "        \u001b[32m'Nr1_Retrieval'\u001b[0m: \u001b[1;36m0.0\u001b[0m\n",
       "    \u001b[1m}\u001b[0m,\n",
       "    \u001b[32m'Safety Metrics'\u001b[0m: \u001b[1m{\u001b[0m\n",
       "        \u001b[32m'No Hallucination'\u001b[0m: \u001b[1m{\u001b[0m\n",
       "            \u001b[32m'gpt-4o-mini'\u001b[0m: \u001b[1;36m0.2222222222222222\u001b[0m,\n",
       "            \u001b[32m'claude-3-haiku-20240307'\u001b[0m: \u001b[1;36m0.4444444444444444\u001b[0m,\n",
       "            \u001b[32m'Total Avg'\u001b[0m: \u001b[1;36m0.3333333333333333\u001b[0m\n",
       "        \u001b[1m}\u001b[0m\n",
       "    \u001b[1m}\u001b[0m,\n",
       "    \u001b[32m'model_latency'\u001b[0m: \u001b[1m{\u001b[0m\u001b[32m'mean'\u001b[0m: \u001b[1;36m5.077825360827976\u001b[0m\u001b[1m}\u001b[0m\n",
       "\u001b[1m}\u001b[0m\n"
      ]
     },
     "metadata": {},
     "output_type": "display_data"
    },
    {
     "name": "stdout",
     "output_type": "stream",
     "text": [
      "🍩 https://wandb.ai/wandb-smle/weave-cookboook-demo/r/call/019296b2-0366-78a0-8d65-f2c5e587f6f8\n"
     ]
    }
   ],
   "source": [
    "with weave.attributes({\"wandb-run-id\": wandb.run.id}):\n",
    "    # use .call attribute to retrieve both the result and the call in order to save eval trace to Models\n",
    "    summary, call = await climate_rag_eval.evaluate.call(climate_rag_eval, RagModel)"
   ]
  },
  {
   "cell_type": "code",
   "execution_count": null,
   "metadata": {
    "colab": {
     "base_uri": "https://localhost:8080/",
     "height": 530,
     "referenced_widgets": [
      "3c69064dc7e74bda8bc7f0b0992b7536",
      "51346d44e0d54dee9725aaa034f20de2",
      "119f66d0f3154b91aaea88deaa7632a8",
      "1669927ff77a499d853638c9ee2d273f",
      "544ddac0bda04c25a04106b253636577",
      "3d243eb666e54b9381819fd100c5fa7a",
      "9e41f88cbc044b97b305196d602e63c8",
      "bb57bd1899d04f00a51889a168d95093"
     ]
    },
    "id": "bzBFTxDe2p9M",
    "outputId": "71544931-42ff-4cab-fba8-844f7bcfde20"
   },
   "outputs": [
    {
     "data": {
      "application/vnd.jupyter.widget-view+json": {
       "model_id": "3c69064dc7e74bda8bc7f0b0992b7536",
       "version_major": 2,
       "version_minor": 0
      },
      "text/plain": [
       "VBox(children=(Label(value='2.112 MB of 2.112 MB uploaded\\r'), FloatProgress(value=1.0, max=1.0)))"
      ]
     },
     "metadata": {},
     "output_type": "display_data"
    },
    {
     "data": {
      "text/html": [
       "<style>\n",
       "    table.wandb td:nth-child(1) { padding: 0 10px; text-align: left ; width: auto;} td:nth-child(2) {text-align: left ; width: 100%}\n",
       "    .wandb-row { display: flex; flex-direction: row; flex-wrap: wrap; justify-content: flex-start; width: 100% }\n",
       "    .wandb-col { display: flex; flex-direction: column; flex-basis: 100%; flex: 1; padding: 10px; }\n",
       "    </style>\n",
       "<div class=\"wandb-row\"><div class=\"wandb-col\"><h3>Run history:</h3><br/><table class=\"wandb\"><tr><td>Performance Metrics/Correctness/Total Avg</td><td>▁</td></tr><tr><td>Performance Metrics/Correctness/claude-3-haiku-20240307</td><td>▁</td></tr><tr><td>Performance Metrics/Correctness/gpt-4o-mini</td><td>▁</td></tr><tr><td>Performance Metrics/Nr1_Retrieval</td><td>▁</td></tr><tr><td>Safety Metrics/No Hallucination/Total Avg</td><td>▁</td></tr><tr><td>Safety Metrics/No Hallucination/claude-3-haiku-20240307</td><td>▁</td></tr><tr><td>Safety Metrics/No Hallucination/gpt-4o-mini</td><td>▁</td></tr><tr><td>model_latency/mean</td><td>▁</td></tr></table><br/></div><div class=\"wandb-col\"><h3>Run summary:</h3><br/><table class=\"wandb\"><tr><td>Performance Metrics/Correctness/Total Avg</td><td>0.61111</td></tr><tr><td>Performance Metrics/Correctness/claude-3-haiku-20240307</td><td>0.88889</td></tr><tr><td>Performance Metrics/Correctness/gpt-4o-mini</td><td>0.33333</td></tr><tr><td>Performance Metrics/Nr1_Retrieval</td><td>0</td></tr><tr><td>Safety Metrics/No Hallucination/Total Avg</td><td>0.33333</td></tr><tr><td>Safety Metrics/No Hallucination/claude-3-haiku-20240307</td><td>0.44444</td></tr><tr><td>Safety Metrics/No Hallucination/gpt-4o-mini</td><td>0.22222</td></tr><tr><td>model_latency/mean</td><td>5.07783</td></tr></table><br/></div></div>"
      ],
      "text/plain": [
       "<IPython.core.display.HTML object>"
      ]
     },
     "metadata": {},
     "output_type": "display_data"
    },
    {
     "data": {
      "text/html": [
       " View run <strong style=\"color:#cdcd00\">decent-pyramid-46</strong> at: <a href='https://wandb.ai/wandb-smle/weave-cookboook-demo/runs/sebf0q7n' target=\"_blank\">https://wandb.ai/wandb-smle/weave-cookboook-demo/runs/sebf0q7n</a><br/> View project at: <a href='https://wandb.ai/wandb-smle/weave-cookboook-demo' target=\"_blank\">https://wandb.ai/wandb-smle/weave-cookboook-demo</a><br/>Synced 4 W&B file(s), 0 media file(s), 34 artifact file(s) and 0 other file(s)"
      ],
      "text/plain": [
       "<IPython.core.display.HTML object>"
      ]
     },
     "metadata": {},
     "output_type": "display_data"
    },
    {
     "data": {
      "text/html": [
       "Find logs at: <code>./wandb/run-20241016_185224-sebf0q7n/logs</code>"
      ],
      "text/plain": [
       "<IPython.core.display.HTML object>"
      ]
     },
     "metadata": {},
     "output_type": "display_data"
    }
   ],
   "source": [
    "# log to models\n",
    "wandb.run.log(pd.json_normalize(summary, sep=\"/\").to_dict(orient=\"records\")[0])\n",
    "wandb.run.config.update(\n",
    "    {\"weave_url\": f\"https://wandb.ai/wandb-smle/weave-cookboook-demo/r/call/{call.id}\"}\n",
    ")\n",
    "wandb.run.finish()"
   ]
  },
  {
   "cell_type": "markdown",
   "metadata": {
    "id": "HLhXLSnzuSbl"
   },
   "source": [
    "## Save the new RAG Model to the Registry\n",
    "\n",
    "To make the updated `RagModel` available for future use by both the Models and Apps teams, we push it to the W&B Models Registry as a reference artifact.\n",
    "\n",
    "The code below retrieves the `weave` object version and name for the updated `RagModel` and uses them to create reference links. A new artifact is then created in W&B with metadata containing the model's Weave URL. This artifact is logged to the W&B Registry and linked to a designated registry path.\n",
    "\n",
    "Before running the code, ensure the `ENTITY` and `PROJECT` variables match your W&B setup, and the target registry path is correctly specified. This process finalizes the workflow by publishing the new `RagModel` to the W&B ecosystem for easy collaboration and reuse.\n"
   ]
  },
  {
   "cell_type": "code",
   "execution_count": null,
   "metadata": {
    "id": "Hm02Pa5KuRM-"
   },
   "outputs": [],
   "source": [
    "MODELS_OBJECT_VERSION = PUB_REFERENCE.digest  # weave object version\n",
    "MODELS_OBJECT_NAME = PUB_REFERENCE.name  # weave object name"
   ]
  },
  {
   "cell_type": "code",
   "execution_count": null,
   "metadata": {
    "colab": {
     "base_uri": "https://localhost:8080/",
     "height": 228,
     "referenced_widgets": [
      "032b7d80f2644e67aa0e8c1c6a58d0c4",
      "838081c4fa824bca83e8bd336fcdc39c",
      "cc659aba0bd0419dbead85341f64072b",
      "c617e218a32a4fccb3dd54e16f2e3948",
      "6d5c6852080e44d09b47bcc976efc3fa",
      "1baf6c4d80ac4a7e90c108d7570cf856",
      "296436180d3c43b691962ed63598813a",
      "08bde0e54a894a5eab11527608a738a9"
     ]
    },
    "id": "x0gdU1zitSfM",
    "outputId": "a47dd95e-4fc8-49dd-e497-511a93f72214"
   },
   "outputs": [
    {
     "data": {
      "text/html": [
       "Tracking run with wandb version 0.18.3"
      ],
      "text/plain": [
       "<IPython.core.display.HTML object>"
      ]
     },
     "metadata": {},
     "output_type": "display_data"
    },
    {
     "data": {
      "text/html": [
       "Run data is saved locally in <code>/content/wandb/run-20241016_191308-y8bm74fc</code>"
      ],
      "text/plain": [
       "<IPython.core.display.HTML object>"
      ]
     },
     "metadata": {},
     "output_type": "display_data"
    },
    {
     "data": {
      "text/html": [
       "Syncing run <strong><a href='https://wandb.ai/wandb-smle/weave-cookboook-demo/runs/y8bm74fc' target=\"_blank\">smooth-fog-47</a></strong> to <a href='https://wandb.ai/wandb-smle/weave-cookboook-demo' target=\"_blank\">Weights & Biases</a> (<a href='https://wandb.me/run' target=\"_blank\">docs</a>)<br/>"
      ],
      "text/plain": [
       "<IPython.core.display.HTML object>"
      ]
     },
     "metadata": {},
     "output_type": "display_data"
    },
    {
     "data": {
      "text/html": [
       " View project at <a href='https://wandb.ai/wandb-smle/weave-cookboook-demo' target=\"_blank\">https://wandb.ai/wandb-smle/weave-cookboook-demo</a>"
      ],
      "text/plain": [
       "<IPython.core.display.HTML object>"
      ]
     },
     "metadata": {},
     "output_type": "display_data"
    },
    {
     "data": {
      "text/html": [
       " View run at <a href='https://wandb.ai/wandb-smle/weave-cookboook-demo/runs/y8bm74fc' target=\"_blank\">https://wandb.ai/wandb-smle/weave-cookboook-demo/runs/y8bm74fc</a>"
      ],
      "text/plain": [
       "<IPython.core.display.HTML object>"
      ]
     },
     "metadata": {},
     "output_type": "display_data"
    },
    {
     "name": "stderr",
     "output_type": "stream",
     "text": [
      "\u001b[34m\u001b[1mwandb\u001b[0m: \u001b[33mWARNING\u001b[0m Artifact references with unsupported schemes cannot be checksummed: weave:///wandb-smle/weave-cookboook-demo/object/RagModel:52kphTk2726ZUTp9Cx5Pe5ntpMzSD9fIu4j50RfnSxs\n",
      "\u001b[34m\u001b[1mwandb\u001b[0m: \u001b[32m\u001b[41mERROR\u001b[0m LinkArtifact: RAG Model, error: returned error 403 Forbidden: {\"errors\":[{\"message\":\"view-only member cannot write to project\",\"path\":[\"linkArtifact\"]}],\"data\":{\"linkArtifact\":null}}\n"
     ]
    },
    {
     "data": {
      "application/vnd.jupyter.widget-view+json": {
       "model_id": "032b7d80f2644e67aa0e8c1c6a58d0c4",
       "version_major": 2,
       "version_minor": 0
      },
      "text/plain": [
       "VBox(children=(Label(value='1.479 MB of 1.479 MB uploaded\\r'), FloatProgress(value=1.0, max=1.0)))"
      ]
     },
     "metadata": {},
     "output_type": "display_data"
    },
    {
     "data": {
      "text/html": [
       " View run <strong style=\"color:#cdcd00\">smooth-fog-47</strong> at: <a href='https://wandb.ai/wandb-smle/weave-cookboook-demo/runs/y8bm74fc' target=\"_blank\">https://wandb.ai/wandb-smle/weave-cookboook-demo/runs/y8bm74fc</a><br/> View project at: <a href='https://wandb.ai/wandb-smle/weave-cookboook-demo' target=\"_blank\">https://wandb.ai/wandb-smle/weave-cookboook-demo</a><br/>Synced 5 W&B file(s), 0 media file(s), 6 artifact file(s) and 0 other file(s)"
      ],
      "text/plain": [
       "<IPython.core.display.HTML object>"
      ]
     },
     "metadata": {},
     "output_type": "display_data"
    },
    {
     "data": {
      "text/html": [
       "Find logs at: <code>./wandb/run-20241016_191308-y8bm74fc/logs</code>"
      ],
      "text/plain": [
       "<IPython.core.display.HTML object>"
      ]
     },
     "metadata": {},
     "output_type": "display_data"
    }
   ],
   "source": [
    "models_url = f\"https://wandb.ai/{ENTITY}/{PROJECT}/weave/objects/{MODELS_OBJECT_NAME}/versions/{MODELS_OBJECT_VERSION}\"\n",
    "models_link = (\n",
    "    f\"weave:///{ENTITY}/{PROJECT}/object/{MODELS_OBJECT_NAME}:{MODELS_OBJECT_VERSION}\"\n",
    ")\n",
    "\n",
    "with wandb.init(project=PROJECT, entity=ENTITY) as run:\n",
    "    # create new Artifact\n",
    "    artifact_model = wandb.Artifact(\n",
    "        name=\"RagModel\",\n",
    "        type=\"model\",\n",
    "        description=\"Models Link from RagModel in Weave\",\n",
    "        metadata={\"url\": models_url},\n",
    "    )\n",
    "    artifact_model.add_reference(models_link, name=\"model\", checksum=False)\n",
    "\n",
    "    # log new artifact\n",
    "    run.log_artifact(artifact_model, aliases=[MODELS_OBJECT_VERSION])\n",
    "\n",
    "    # link to registry\n",
    "    run.link_artifact(\n",
    "        artifact_model, target_path=\"wandb32/wandb-registry-RAG Models/RAG Model\"\n",
    "    )"
   ]
  }
 ],
 "metadata": {
  "accelerator": "GPU",
  "colab": {
   "gpuType": "T4",
   "provenance": []
  },
  "kernelspec": {
   "display_name": "Python 3",
   "name": "python3"
  },
  "language_info": {
   "name": "python"
  },
  "widgets": {
   "application/vnd.jupyter.widget-state+json": {
    "032b7d80f2644e67aa0e8c1c6a58d0c4": {
     "model_module": "@jupyter-widgets/controls",
     "model_module_version": "1.5.0",
     "model_name": "VBoxModel",
     "state": {
      "_dom_classes": [],
      "_model_module": "@jupyter-widgets/controls",
      "_model_module_version": "1.5.0",
      "_model_name": "VBoxModel",
      "_view_count": null,
      "_view_module": "@jupyter-widgets/controls",
      "_view_module_version": "1.5.0",
      "_view_name": "VBoxView",
      "box_style": "",
      "children": [
       "IPY_MODEL_838081c4fa824bca83e8bd336fcdc39c",
       "IPY_MODEL_cc659aba0bd0419dbead85341f64072b"
      ],
      "layout": "IPY_MODEL_c617e218a32a4fccb3dd54e16f2e3948"
     }
    },
    "0635e51be4f04f93b9d6875fdf41d375": {
     "model_module": "@jupyter-widgets/base",
     "model_module_version": "1.2.0",
     "model_name": "LayoutModel",
     "state": {
      "_model_module": "@jupyter-widgets/base",
      "_model_module_version": "1.2.0",
      "_model_name": "LayoutModel",
      "_view_count": null,
      "_view_module": "@jupyter-widgets/base",
      "_view_module_version": "1.2.0",
      "_view_name": "LayoutView",
      "align_content": null,
      "align_items": null,
      "align_self": null,
      "border": null,
      "bottom": null,
      "display": null,
      "flex": null,
      "flex_flow": null,
      "grid_area": null,
      "grid_auto_columns": null,
      "grid_auto_flow": null,
      "grid_auto_rows": null,
      "grid_column": null,
      "grid_gap": null,
      "grid_row": null,
      "grid_template_areas": null,
      "grid_template_columns": null,
      "grid_template_rows": null,
      "height": null,
      "justify_content": null,
      "justify_items": null,
      "left": null,
      "margin": null,
      "max_height": null,
      "max_width": null,
      "min_height": null,
      "min_width": null,
      "object_fit": null,
      "object_position": null,
      "order": null,
      "overflow": null,
      "overflow_x": null,
      "overflow_y": null,
      "padding": null,
      "right": null,
      "top": null,
      "visibility": null,
      "width": null
     }
    },
    "07042d3c72d9477288d8a56490125144": {
     "model_module": "@jupyter-widgets/controls",
     "model_module_version": "1.5.0",
     "model_name": "FloatProgressModel",
     "state": {
      "_dom_classes": [],
      "_model_module": "@jupyter-widgets/controls",
      "_model_module_version": "1.5.0",
      "_model_name": "FloatProgressModel",
      "_view_count": null,
      "_view_module": "@jupyter-widgets/controls",
      "_view_module_version": "1.5.0",
      "_view_name": "ProgressView",
      "bar_style": "success",
      "description": "",
      "description_tooltip": null,
      "layout": "IPY_MODEL_82752aa8c4934176919afaa4720f4b89",
      "max": 184,
      "min": 0,
      "orientation": "horizontal",
      "style": "IPY_MODEL_6a17a4904d234613b285fb1fa345fcab",
      "value": 184
     }
    },
    "079cf0f3fd6141c4ad54dcf4733267cd": {
     "model_module": "@jupyter-widgets/controls",
     "model_module_version": "1.5.0",
     "model_name": "ProgressStyleModel",
     "state": {
      "_model_module": "@jupyter-widgets/controls",
      "_model_module_version": "1.5.0",
      "_model_name": "ProgressStyleModel",
      "_view_count": null,
      "_view_module": "@jupyter-widgets/base",
      "_view_module_version": "1.2.0",
      "_view_name": "StyleView",
      "bar_color": null,
      "description_width": ""
     }
    },
    "08bde0e54a894a5eab11527608a738a9": {
     "model_module": "@jupyter-widgets/controls",
     "model_module_version": "1.5.0",
     "model_name": "ProgressStyleModel",
     "state": {
      "_model_module": "@jupyter-widgets/controls",
      "_model_module_version": "1.5.0",
      "_model_name": "ProgressStyleModel",
      "_view_count": null,
      "_view_module": "@jupyter-widgets/base",
      "_view_module_version": "1.2.0",
      "_view_name": "StyleView",
      "bar_color": null,
      "description_width": ""
     }
    },
    "104d05f136db4a7486df7d33cd42019c": {
     "model_module": "@jupyter-widgets/controls",
     "model_module_version": "1.5.0",
     "model_name": "HBoxModel",
     "state": {
      "_dom_classes": [],
      "_model_module": "@jupyter-widgets/controls",
      "_model_module_version": "1.5.0",
      "_model_name": "HBoxModel",
      "_view_count": null,
      "_view_module": "@jupyter-widgets/controls",
      "_view_module_version": "1.5.0",
      "_view_name": "HBoxView",
      "box_style": "",
      "children": [
       "IPY_MODEL_c71e9cd5b2834f9c83fc1717d3089e0c",
       "IPY_MODEL_ac66b111d2e145fc8138527a36d74e11",
       "IPY_MODEL_4c18eaf65c364cd3801770299b6a8ad8"
      ],
      "layout": "IPY_MODEL_0635e51be4f04f93b9d6875fdf41d375"
     }
    },
    "119f66d0f3154b91aaea88deaa7632a8": {
     "model_module": "@jupyter-widgets/controls",
     "model_module_version": "1.5.0",
     "model_name": "FloatProgressModel",
     "state": {
      "_dom_classes": [],
      "_model_module": "@jupyter-widgets/controls",
      "_model_module_version": "1.5.0",
      "_model_name": "FloatProgressModel",
      "_view_count": null,
      "_view_module": "@jupyter-widgets/controls",
      "_view_module_version": "1.5.0",
      "_view_name": "ProgressView",
      "bar_style": "",
      "description": "",
      "description_tooltip": null,
      "layout": "IPY_MODEL_9e41f88cbc044b97b305196d602e63c8",
      "max": 1,
      "min": 0,
      "orientation": "horizontal",
      "style": "IPY_MODEL_bb57bd1899d04f00a51889a168d95093",
      "value": 1
     }
    },
    "1669927ff77a499d853638c9ee2d273f": {
     "model_module": "@jupyter-widgets/base",
     "model_module_version": "1.2.0",
     "model_name": "LayoutModel",
     "state": {
      "_model_module": "@jupyter-widgets/base",
      "_model_module_version": "1.2.0",
      "_model_name": "LayoutModel",
      "_view_count": null,
      "_view_module": "@jupyter-widgets/base",
      "_view_module_version": "1.2.0",
      "_view_name": "LayoutView",
      "align_content": null,
      "align_items": null,
      "align_self": null,
      "border": null,
      "bottom": null,
      "display": null,
      "flex": null,
      "flex_flow": null,
      "grid_area": null,
      "grid_auto_columns": null,
      "grid_auto_flow": null,
      "grid_auto_rows": null,
      "grid_column": null,
      "grid_gap": null,
      "grid_row": null,
      "grid_template_areas": null,
      "grid_template_columns": null,
      "grid_template_rows": null,
      "height": null,
      "justify_content": null,
      "justify_items": null,
      "left": null,
      "margin": null,
      "max_height": null,
      "max_width": null,
      "min_height": null,
      "min_width": null,
      "object_fit": null,
      "object_position": null,
      "order": null,
      "overflow": null,
      "overflow_x": null,
      "overflow_y": null,
      "padding": null,
      "right": null,
      "top": null,
      "visibility": null,
      "width": null
     }
    },
    "1baf6c4d80ac4a7e90c108d7570cf856": {
     "model_module": "@jupyter-widgets/controls",
     "model_module_version": "1.5.0",
     "model_name": "DescriptionStyleModel",
     "state": {
      "_model_module": "@jupyter-widgets/controls",
      "_model_module_version": "1.5.0",
      "_model_name": "DescriptionStyleModel",
      "_view_count": null,
      "_view_module": "@jupyter-widgets/base",
      "_view_module_version": "1.2.0",
      "_view_name": "StyleView",
      "description_width": ""
     }
    },
    "24ab27958b7a434181e9d14ddd383e3c": {
     "model_module": "@jupyter-widgets/controls",
     "model_module_version": "1.5.0",
     "model_name": "HTMLModel",
     "state": {
      "_dom_classes": [],
      "_model_module": "@jupyter-widgets/controls",
      "_model_module_version": "1.5.0",
      "_model_name": "HTMLModel",
      "_view_count": null,
      "_view_module": "@jupyter-widgets/controls",
      "_view_module_version": "1.5.0",
      "_view_name": "HTMLView",
      "description": "",
      "description_tooltip": null,
      "layout": "IPY_MODEL_b74eb8227e8440c7a22d9673e85de7c1",
      "placeholder": "​",
      "style": "IPY_MODEL_ba2bb6cb27d0408ca61d62b4c2add78e",
      "value": "generation_config.json: 100%"
     }
    },
    "28dc7c34c2b54004b48a0b9ff65788bd": {
     "model_module": "@jupyter-widgets/base",
     "model_module_version": "1.2.0",
     "model_name": "LayoutModel",
     "state": {
      "_model_module": "@jupyter-widgets/base",
      "_model_module_version": "1.2.0",
      "_model_name": "LayoutModel",
      "_view_count": null,
      "_view_module": "@jupyter-widgets/base",
      "_view_module_version": "1.2.0",
      "_view_name": "LayoutView",
      "align_content": null,
      "align_items": null,
      "align_self": null,
      "border": null,
      "bottom": null,
      "display": null,
      "flex": null,
      "flex_flow": null,
      "grid_area": null,
      "grid_auto_columns": null,
      "grid_auto_flow": null,
      "grid_auto_rows": null,
      "grid_column": null,
      "grid_gap": null,
      "grid_row": null,
      "grid_template_areas": null,
      "grid_template_columns": null,
      "grid_template_rows": null,
      "height": null,
      "justify_content": null,
      "justify_items": null,
      "left": null,
      "margin": null,
      "max_height": null,
      "max_width": null,
      "min_height": null,
      "min_width": null,
      "object_fit": null,
      "object_position": null,
      "order": null,
      "overflow": null,
      "overflow_x": null,
      "overflow_y": null,
      "padding": null,
      "right": null,
      "top": null,
      "visibility": null,
      "width": null
     }
    },
    "296436180d3c43b691962ed63598813a": {
     "model_module": "@jupyter-widgets/base",
     "model_module_version": "1.2.0",
     "model_name": "LayoutModel",
     "state": {
      "_model_module": "@jupyter-widgets/base",
      "_model_module_version": "1.2.0",
      "_model_name": "LayoutModel",
      "_view_count": null,
      "_view_module": "@jupyter-widgets/base",
      "_view_module_version": "1.2.0",
      "_view_name": "LayoutView",
      "align_content": null,
      "align_items": null,
      "align_self": null,
      "border": null,
      "bottom": null,
      "display": null,
      "flex": null,
      "flex_flow": null,
      "grid_area": null,
      "grid_auto_columns": null,
      "grid_auto_flow": null,
      "grid_auto_rows": null,
      "grid_column": null,
      "grid_gap": null,
      "grid_row": null,
      "grid_template_areas": null,
      "grid_template_columns": null,
      "grid_template_rows": null,
      "height": null,
      "justify_content": null,
      "justify_items": null,
      "left": null,
      "margin": null,
      "max_height": null,
      "max_width": null,
      "min_height": null,
      "min_width": null,
      "object_fit": null,
      "object_position": null,
      "order": null,
      "overflow": null,
      "overflow_x": null,
      "overflow_y": null,
      "padding": null,
      "right": null,
      "top": null,
      "visibility": null,
      "width": null
     }
    },
    "33b02d17894a4e3cbbdadd61ab1f70cd": {
     "model_module": "@jupyter-widgets/controls",
     "model_module_version": "1.5.0",
     "model_name": "DescriptionStyleModel",
     "state": {
      "_model_module": "@jupyter-widgets/controls",
      "_model_module_version": "1.5.0",
      "_model_name": "DescriptionStyleModel",
      "_view_count": null,
      "_view_module": "@jupyter-widgets/base",
      "_view_module_version": "1.2.0",
      "_view_name": "StyleView",
      "description_width": ""
     }
    },
    "3693c0f425e34c79a1ddc7c0b3855641": {
     "model_module": "@jupyter-widgets/base",
     "model_module_version": "1.2.0",
     "model_name": "LayoutModel",
     "state": {
      "_model_module": "@jupyter-widgets/base",
      "_model_module_version": "1.2.0",
      "_model_name": "LayoutModel",
      "_view_count": null,
      "_view_module": "@jupyter-widgets/base",
      "_view_module_version": "1.2.0",
      "_view_name": "LayoutView",
      "align_content": null,
      "align_items": null,
      "align_self": null,
      "border": null,
      "bottom": null,
      "display": null,
      "flex": null,
      "flex_flow": null,
      "grid_area": null,
      "grid_auto_columns": null,
      "grid_auto_flow": null,
      "grid_auto_rows": null,
      "grid_column": null,
      "grid_gap": null,
      "grid_row": null,
      "grid_template_areas": null,
      "grid_template_columns": null,
      "grid_template_rows": null,
      "height": null,
      "justify_content": null,
      "justify_items": null,
      "left": null,
      "margin": null,
      "max_height": null,
      "max_width": null,
      "min_height": null,
      "min_width": null,
      "object_fit": null,
      "object_position": null,
      "order": null,
      "overflow": null,
      "overflow_x": null,
      "overflow_y": null,
      "padding": null,
      "right": null,
      "top": null,
      "visibility": null,
      "width": null
     }
    },
    "3c69064dc7e74bda8bc7f0b0992b7536": {
     "model_module": "@jupyter-widgets/controls",
     "model_module_version": "1.5.0",
     "model_name": "VBoxModel",
     "state": {
      "_dom_classes": [],
      "_model_module": "@jupyter-widgets/controls",
      "_model_module_version": "1.5.0",
      "_model_name": "VBoxModel",
      "_view_count": null,
      "_view_module": "@jupyter-widgets/controls",
      "_view_module_version": "1.5.0",
      "_view_name": "VBoxView",
      "box_style": "",
      "children": [
       "IPY_MODEL_51346d44e0d54dee9725aaa034f20de2",
       "IPY_MODEL_119f66d0f3154b91aaea88deaa7632a8"
      ],
      "layout": "IPY_MODEL_1669927ff77a499d853638c9ee2d273f"
     }
    },
    "3d243eb666e54b9381819fd100c5fa7a": {
     "model_module": "@jupyter-widgets/controls",
     "model_module_version": "1.5.0",
     "model_name": "DescriptionStyleModel",
     "state": {
      "_model_module": "@jupyter-widgets/controls",
      "_model_module_version": "1.5.0",
      "_model_name": "DescriptionStyleModel",
      "_view_count": null,
      "_view_module": "@jupyter-widgets/base",
      "_view_module_version": "1.2.0",
      "_view_name": "StyleView",
      "description_width": ""
     }
    },
    "4c18eaf65c364cd3801770299b6a8ad8": {
     "model_module": "@jupyter-widgets/controls",
     "model_module_version": "1.5.0",
     "model_name": "HTMLModel",
     "state": {
      "_dom_classes": [],
      "_model_module": "@jupyter-widgets/controls",
      "_model_module_version": "1.5.0",
      "_model_name": "HTMLModel",
      "_view_count": null,
      "_view_module": "@jupyter-widgets/controls",
      "_view_module_version": "1.5.0",
      "_view_name": "HTMLView",
      "description": "",
      "description_tooltip": null,
      "layout": "IPY_MODEL_5fb9295e5a07435ea5fc7d4fbd73d9f4",
      "placeholder": "​",
      "style": "IPY_MODEL_d7635bc901ef4510bd26cc572e2c7989",
      "value": " 2.24G/2.24G [00:12&lt;00:00, 233MB/s]"
     }
    },
    "51346d44e0d54dee9725aaa034f20de2": {
     "model_module": "@jupyter-widgets/controls",
     "model_module_version": "1.5.0",
     "model_name": "LabelModel",
     "state": {
      "_dom_classes": [],
      "_model_module": "@jupyter-widgets/controls",
      "_model_module_version": "1.5.0",
      "_model_name": "LabelModel",
      "_view_count": null,
      "_view_module": "@jupyter-widgets/controls",
      "_view_module_version": "1.5.0",
      "_view_name": "LabelView",
      "description": "",
      "description_tooltip": null,
      "layout": "IPY_MODEL_544ddac0bda04c25a04106b253636577",
      "placeholder": "​",
      "style": "IPY_MODEL_3d243eb666e54b9381819fd100c5fa7a",
      "value": "2.114 MB of 2.114 MB uploaded\r"
     }
    },
    "544ddac0bda04c25a04106b253636577": {
     "model_module": "@jupyter-widgets/base",
     "model_module_version": "1.2.0",
     "model_name": "LayoutModel",
     "state": {
      "_model_module": "@jupyter-widgets/base",
      "_model_module_version": "1.2.0",
      "_model_name": "LayoutModel",
      "_view_count": null,
      "_view_module": "@jupyter-widgets/base",
      "_view_module_version": "1.2.0",
      "_view_name": "LayoutView",
      "align_content": null,
      "align_items": null,
      "align_self": null,
      "border": null,
      "bottom": null,
      "display": null,
      "flex": null,
      "flex_flow": null,
      "grid_area": null,
      "grid_auto_columns": null,
      "grid_auto_flow": null,
      "grid_auto_rows": null,
      "grid_column": null,
      "grid_gap": null,
      "grid_row": null,
      "grid_template_areas": null,
      "grid_template_columns": null,
      "grid_template_rows": null,
      "height": null,
      "justify_content": null,
      "justify_items": null,
      "left": null,
      "margin": null,
      "max_height": null,
      "max_width": null,
      "min_height": null,
      "min_width": null,
      "object_fit": null,
      "object_position": null,
      "order": null,
      "overflow": null,
      "overflow_x": null,
      "overflow_y": null,
      "padding": null,
      "right": null,
      "top": null,
      "visibility": null,
      "width": null
     }
    },
    "5c350ac4c2e14cc6976e00b796a44a07": {
     "model_module": "@jupyter-widgets/controls",
     "model_module_version": "1.5.0",
     "model_name": "HBoxModel",
     "state": {
      "_dom_classes": [],
      "_model_module": "@jupyter-widgets/controls",
      "_model_module_version": "1.5.0",
      "_model_name": "HBoxModel",
      "_view_count": null,
      "_view_module": "@jupyter-widgets/controls",
      "_view_module_version": "1.5.0",
      "_view_name": "HBoxView",
      "box_style": "",
      "children": [
       "IPY_MODEL_24ab27958b7a434181e9d14ddd383e3c",
       "IPY_MODEL_07042d3c72d9477288d8a56490125144",
       "IPY_MODEL_ca13b345bd5145848f37471d6301c4af"
      ],
      "layout": "IPY_MODEL_6fb57f90ca1942deb2fef3009db895c5"
     }
    },
    "5fb9295e5a07435ea5fc7d4fbd73d9f4": {
     "model_module": "@jupyter-widgets/base",
     "model_module_version": "1.2.0",
     "model_name": "LayoutModel",
     "state": {
      "_model_module": "@jupyter-widgets/base",
      "_model_module_version": "1.2.0",
      "_model_name": "LayoutModel",
      "_view_count": null,
      "_view_module": "@jupyter-widgets/base",
      "_view_module_version": "1.2.0",
      "_view_name": "LayoutView",
      "align_content": null,
      "align_items": null,
      "align_self": null,
      "border": null,
      "bottom": null,
      "display": null,
      "flex": null,
      "flex_flow": null,
      "grid_area": null,
      "grid_auto_columns": null,
      "grid_auto_flow": null,
      "grid_auto_rows": null,
      "grid_column": null,
      "grid_gap": null,
      "grid_row": null,
      "grid_template_areas": null,
      "grid_template_columns": null,
      "grid_template_rows": null,
      "height": null,
      "justify_content": null,
      "justify_items": null,
      "left": null,
      "margin": null,
      "max_height": null,
      "max_width": null,
      "min_height": null,
      "min_width": null,
      "object_fit": null,
      "object_position": null,
      "order": null,
      "overflow": null,
      "overflow_x": null,
      "overflow_y": null,
      "padding": null,
      "right": null,
      "top": null,
      "visibility": null,
      "width": null
     }
    },
    "6a17a4904d234613b285fb1fa345fcab": {
     "model_module": "@jupyter-widgets/controls",
     "model_module_version": "1.5.0",
     "model_name": "ProgressStyleModel",
     "state": {
      "_model_module": "@jupyter-widgets/controls",
      "_model_module_version": "1.5.0",
      "_model_name": "ProgressStyleModel",
      "_view_count": null,
      "_view_module": "@jupyter-widgets/base",
      "_view_module_version": "1.2.0",
      "_view_name": "StyleView",
      "bar_color": null,
      "description_width": ""
     }
    },
    "6d5c6852080e44d09b47bcc976efc3fa": {
     "model_module": "@jupyter-widgets/base",
     "model_module_version": "1.2.0",
     "model_name": "LayoutModel",
     "state": {
      "_model_module": "@jupyter-widgets/base",
      "_model_module_version": "1.2.0",
      "_model_name": "LayoutModel",
      "_view_count": null,
      "_view_module": "@jupyter-widgets/base",
      "_view_module_version": "1.2.0",
      "_view_name": "LayoutView",
      "align_content": null,
      "align_items": null,
      "align_self": null,
      "border": null,
      "bottom": null,
      "display": null,
      "flex": null,
      "flex_flow": null,
      "grid_area": null,
      "grid_auto_columns": null,
      "grid_auto_flow": null,
      "grid_auto_rows": null,
      "grid_column": null,
      "grid_gap": null,
      "grid_row": null,
      "grid_template_areas": null,
      "grid_template_columns": null,
      "grid_template_rows": null,
      "height": null,
      "justify_content": null,
      "justify_items": null,
      "left": null,
      "margin": null,
      "max_height": null,
      "max_width": null,
      "min_height": null,
      "min_width": null,
      "object_fit": null,
      "object_position": null,
      "order": null,
      "overflow": null,
      "overflow_x": null,
      "overflow_y": null,
      "padding": null,
      "right": null,
      "top": null,
      "visibility": null,
      "width": null
     }
    },
    "6fb57f90ca1942deb2fef3009db895c5": {
     "model_module": "@jupyter-widgets/base",
     "model_module_version": "1.2.0",
     "model_name": "LayoutModel",
     "state": {
      "_model_module": "@jupyter-widgets/base",
      "_model_module_version": "1.2.0",
      "_model_name": "LayoutModel",
      "_view_count": null,
      "_view_module": "@jupyter-widgets/base",
      "_view_module_version": "1.2.0",
      "_view_name": "LayoutView",
      "align_content": null,
      "align_items": null,
      "align_self": null,
      "border": null,
      "bottom": null,
      "display": null,
      "flex": null,
      "flex_flow": null,
      "grid_area": null,
      "grid_auto_columns": null,
      "grid_auto_flow": null,
      "grid_auto_rows": null,
      "grid_column": null,
      "grid_gap": null,
      "grid_row": null,
      "grid_template_areas": null,
      "grid_template_columns": null,
      "grid_template_rows": null,
      "height": null,
      "justify_content": null,
      "justify_items": null,
      "left": null,
      "margin": null,
      "max_height": null,
      "max_width": null,
      "min_height": null,
      "min_width": null,
      "object_fit": null,
      "object_position": null,
      "order": null,
      "overflow": null,
      "overflow_x": null,
      "overflow_y": null,
      "padding": null,
      "right": null,
      "top": null,
      "visibility": null,
      "width": null
     }
    },
    "82752aa8c4934176919afaa4720f4b89": {
     "model_module": "@jupyter-widgets/base",
     "model_module_version": "1.2.0",
     "model_name": "LayoutModel",
     "state": {
      "_model_module": "@jupyter-widgets/base",
      "_model_module_version": "1.2.0",
      "_model_name": "LayoutModel",
      "_view_count": null,
      "_view_module": "@jupyter-widgets/base",
      "_view_module_version": "1.2.0",
      "_view_name": "LayoutView",
      "align_content": null,
      "align_items": null,
      "align_self": null,
      "border": null,
      "bottom": null,
      "display": null,
      "flex": null,
      "flex_flow": null,
      "grid_area": null,
      "grid_auto_columns": null,
      "grid_auto_flow": null,
      "grid_auto_rows": null,
      "grid_column": null,
      "grid_gap": null,
      "grid_row": null,
      "grid_template_areas": null,
      "grid_template_columns": null,
      "grid_template_rows": null,
      "height": null,
      "justify_content": null,
      "justify_items": null,
      "left": null,
      "margin": null,
      "max_height": null,
      "max_width": null,
      "min_height": null,
      "min_width": null,
      "object_fit": null,
      "object_position": null,
      "order": null,
      "overflow": null,
      "overflow_x": null,
      "overflow_y": null,
      "padding": null,
      "right": null,
      "top": null,
      "visibility": null,
      "width": null
     }
    },
    "838081c4fa824bca83e8bd336fcdc39c": {
     "model_module": "@jupyter-widgets/controls",
     "model_module_version": "1.5.0",
     "model_name": "LabelModel",
     "state": {
      "_dom_classes": [],
      "_model_module": "@jupyter-widgets/controls",
      "_model_module_version": "1.5.0",
      "_model_name": "LabelModel",
      "_view_count": null,
      "_view_module": "@jupyter-widgets/controls",
      "_view_module_version": "1.5.0",
      "_view_name": "LabelView",
      "description": "",
      "description_tooltip": null,
      "layout": "IPY_MODEL_6d5c6852080e44d09b47bcc976efc3fa",
      "placeholder": "​",
      "style": "IPY_MODEL_1baf6c4d80ac4a7e90c108d7570cf856",
      "value": "1.480 MB of 1.480 MB uploaded\r"
     }
    },
    "971d25e29f394ebfb6caf6ddfed9ef62": {
     "model_module": "@jupyter-widgets/controls",
     "model_module_version": "1.5.0",
     "model_name": "DescriptionStyleModel",
     "state": {
      "_model_module": "@jupyter-widgets/controls",
      "_model_module_version": "1.5.0",
      "_model_name": "DescriptionStyleModel",
      "_view_count": null,
      "_view_module": "@jupyter-widgets/base",
      "_view_module_version": "1.2.0",
      "_view_name": "StyleView",
      "description_width": ""
     }
    },
    "9e41f88cbc044b97b305196d602e63c8": {
     "model_module": "@jupyter-widgets/base",
     "model_module_version": "1.2.0",
     "model_name": "LayoutModel",
     "state": {
      "_model_module": "@jupyter-widgets/base",
      "_model_module_version": "1.2.0",
      "_model_name": "LayoutModel",
      "_view_count": null,
      "_view_module": "@jupyter-widgets/base",
      "_view_module_version": "1.2.0",
      "_view_name": "LayoutView",
      "align_content": null,
      "align_items": null,
      "align_self": null,
      "border": null,
      "bottom": null,
      "display": null,
      "flex": null,
      "flex_flow": null,
      "grid_area": null,
      "grid_auto_columns": null,
      "grid_auto_flow": null,
      "grid_auto_rows": null,
      "grid_column": null,
      "grid_gap": null,
      "grid_row": null,
      "grid_template_areas": null,
      "grid_template_columns": null,
      "grid_template_rows": null,
      "height": null,
      "justify_content": null,
      "justify_items": null,
      "left": null,
      "margin": null,
      "max_height": null,
      "max_width": null,
      "min_height": null,
      "min_width": null,
      "object_fit": null,
      "object_position": null,
      "order": null,
      "overflow": null,
      "overflow_x": null,
      "overflow_y": null,
      "padding": null,
      "right": null,
      "top": null,
      "visibility": null,
      "width": null
     }
    },
    "a605aaa7f55a421a8d2e4efd133b7c6c": {
     "model_module": "@jupyter-widgets/base",
     "model_module_version": "1.2.0",
     "model_name": "LayoutModel",
     "state": {
      "_model_module": "@jupyter-widgets/base",
      "_model_module_version": "1.2.0",
      "_model_name": "LayoutModel",
      "_view_count": null,
      "_view_module": "@jupyter-widgets/base",
      "_view_module_version": "1.2.0",
      "_view_name": "LayoutView",
      "align_content": null,
      "align_items": null,
      "align_self": null,
      "border": null,
      "bottom": null,
      "display": null,
      "flex": null,
      "flex_flow": null,
      "grid_area": null,
      "grid_auto_columns": null,
      "grid_auto_flow": null,
      "grid_auto_rows": null,
      "grid_column": null,
      "grid_gap": null,
      "grid_row": null,
      "grid_template_areas": null,
      "grid_template_columns": null,
      "grid_template_rows": null,
      "height": null,
      "justify_content": null,
      "justify_items": null,
      "left": null,
      "margin": null,
      "max_height": null,
      "max_width": null,
      "min_height": null,
      "min_width": null,
      "object_fit": null,
      "object_position": null,
      "order": null,
      "overflow": null,
      "overflow_x": null,
      "overflow_y": null,
      "padding": null,
      "right": null,
      "top": null,
      "visibility": null,
      "width": null
     }
    },
    "ac66b111d2e145fc8138527a36d74e11": {
     "model_module": "@jupyter-widgets/controls",
     "model_module_version": "1.5.0",
     "model_name": "FloatProgressModel",
     "state": {
      "_dom_classes": [],
      "_model_module": "@jupyter-widgets/controls",
      "_model_module_version": "1.5.0",
      "_model_name": "FloatProgressModel",
      "_view_count": null,
      "_view_module": "@jupyter-widgets/controls",
      "_view_module_version": "1.5.0",
      "_view_name": "ProgressView",
      "bar_style": "danger",
      "description": "",
      "description_tooltip": null,
      "layout": "IPY_MODEL_a605aaa7f55a421a8d2e4efd133b7c6c",
      "max": 2242762780,
      "min": 0,
      "orientation": "horizontal",
      "style": "IPY_MODEL_079cf0f3fd6141c4ad54dcf4733267cd",
      "value": 2242762567
     }
    },
    "b74eb8227e8440c7a22d9673e85de7c1": {
     "model_module": "@jupyter-widgets/base",
     "model_module_version": "1.2.0",
     "model_name": "LayoutModel",
     "state": {
      "_model_module": "@jupyter-widgets/base",
      "_model_module_version": "1.2.0",
      "_model_name": "LayoutModel",
      "_view_count": null,
      "_view_module": "@jupyter-widgets/base",
      "_view_module_version": "1.2.0",
      "_view_name": "LayoutView",
      "align_content": null,
      "align_items": null,
      "align_self": null,
      "border": null,
      "bottom": null,
      "display": null,
      "flex": null,
      "flex_flow": null,
      "grid_area": null,
      "grid_auto_columns": null,
      "grid_auto_flow": null,
      "grid_auto_rows": null,
      "grid_column": null,
      "grid_gap": null,
      "grid_row": null,
      "grid_template_areas": null,
      "grid_template_columns": null,
      "grid_template_rows": null,
      "height": null,
      "justify_content": null,
      "justify_items": null,
      "left": null,
      "margin": null,
      "max_height": null,
      "max_width": null,
      "min_height": null,
      "min_width": null,
      "object_fit": null,
      "object_position": null,
      "order": null,
      "overflow": null,
      "overflow_x": null,
      "overflow_y": null,
      "padding": null,
      "right": null,
      "top": null,
      "visibility": null,
      "width": null
     }
    },
    "ba2bb6cb27d0408ca61d62b4c2add78e": {
     "model_module": "@jupyter-widgets/controls",
     "model_module_version": "1.5.0",
     "model_name": "DescriptionStyleModel",
     "state": {
      "_model_module": "@jupyter-widgets/controls",
      "_model_module_version": "1.5.0",
      "_model_name": "DescriptionStyleModel",
      "_view_count": null,
      "_view_module": "@jupyter-widgets/base",
      "_view_module_version": "1.2.0",
      "_view_name": "StyleView",
      "description_width": ""
     }
    },
    "bb57bd1899d04f00a51889a168d95093": {
     "model_module": "@jupyter-widgets/controls",
     "model_module_version": "1.5.0",
     "model_name": "ProgressStyleModel",
     "state": {
      "_model_module": "@jupyter-widgets/controls",
      "_model_module_version": "1.5.0",
      "_model_name": "ProgressStyleModel",
      "_view_count": null,
      "_view_module": "@jupyter-widgets/base",
      "_view_module_version": "1.2.0",
      "_view_name": "StyleView",
      "bar_color": null,
      "description_width": ""
     }
    },
    "c617e218a32a4fccb3dd54e16f2e3948": {
     "model_module": "@jupyter-widgets/base",
     "model_module_version": "1.2.0",
     "model_name": "LayoutModel",
     "state": {
      "_model_module": "@jupyter-widgets/base",
      "_model_module_version": "1.2.0",
      "_model_name": "LayoutModel",
      "_view_count": null,
      "_view_module": "@jupyter-widgets/base",
      "_view_module_version": "1.2.0",
      "_view_name": "LayoutView",
      "align_content": null,
      "align_items": null,
      "align_self": null,
      "border": null,
      "bottom": null,
      "display": null,
      "flex": null,
      "flex_flow": null,
      "grid_area": null,
      "grid_auto_columns": null,
      "grid_auto_flow": null,
      "grid_auto_rows": null,
      "grid_column": null,
      "grid_gap": null,
      "grid_row": null,
      "grid_template_areas": null,
      "grid_template_columns": null,
      "grid_template_rows": null,
      "height": null,
      "justify_content": null,
      "justify_items": null,
      "left": null,
      "margin": null,
      "max_height": null,
      "max_width": null,
      "min_height": null,
      "min_width": null,
      "object_fit": null,
      "object_position": null,
      "order": null,
      "overflow": null,
      "overflow_x": null,
      "overflow_y": null,
      "padding": null,
      "right": null,
      "top": null,
      "visibility": null,
      "width": null
     }
    },
    "c71e9cd5b2834f9c83fc1717d3089e0c": {
     "model_module": "@jupyter-widgets/controls",
     "model_module_version": "1.5.0",
     "model_name": "HTMLModel",
     "state": {
      "_dom_classes": [],
      "_model_module": "@jupyter-widgets/controls",
      "_model_module_version": "1.5.0",
      "_model_name": "HTMLModel",
      "_view_count": null,
      "_view_module": "@jupyter-widgets/controls",
      "_view_module_version": "1.5.0",
      "_view_name": "HTMLView",
      "description": "",
      "description_tooltip": null,
      "layout": "IPY_MODEL_28dc7c34c2b54004b48a0b9ff65788bd",
      "placeholder": "​",
      "style": "IPY_MODEL_971d25e29f394ebfb6caf6ddfed9ef62",
      "value": "model.safetensors: 100%"
     }
    },
    "ca13b345bd5145848f37471d6301c4af": {
     "model_module": "@jupyter-widgets/controls",
     "model_module_version": "1.5.0",
     "model_name": "HTMLModel",
     "state": {
      "_dom_classes": [],
      "_model_module": "@jupyter-widgets/controls",
      "_model_module_version": "1.5.0",
      "_model_name": "HTMLModel",
      "_view_count": null,
      "_view_module": "@jupyter-widgets/controls",
      "_view_module_version": "1.5.0",
      "_view_name": "HTMLView",
      "description": "",
      "description_tooltip": null,
      "layout": "IPY_MODEL_3693c0f425e34c79a1ddc7c0b3855641",
      "placeholder": "​",
      "style": "IPY_MODEL_33b02d17894a4e3cbbdadd61ab1f70cd",
      "value": " 184/184 [00:00&lt;00:00, 11.9kB/s]"
     }
    },
    "cc659aba0bd0419dbead85341f64072b": {
     "model_module": "@jupyter-widgets/controls",
     "model_module_version": "1.5.0",
     "model_name": "FloatProgressModel",
     "state": {
      "_dom_classes": [],
      "_model_module": "@jupyter-widgets/controls",
      "_model_module_version": "1.5.0",
      "_model_name": "FloatProgressModel",
      "_view_count": null,
      "_view_module": "@jupyter-widgets/controls",
      "_view_module_version": "1.5.0",
      "_view_name": "ProgressView",
      "bar_style": "",
      "description": "",
      "description_tooltip": null,
      "layout": "IPY_MODEL_296436180d3c43b691962ed63598813a",
      "max": 1,
      "min": 0,
      "orientation": "horizontal",
      "style": "IPY_MODEL_08bde0e54a894a5eab11527608a738a9",
      "value": 1
     }
    },
    "d7635bc901ef4510bd26cc572e2c7989": {
     "model_module": "@jupyter-widgets/controls",
     "model_module_version": "1.5.0",
     "model_name": "DescriptionStyleModel",
     "state": {
      "_model_module": "@jupyter-widgets/controls",
      "_model_module_version": "1.5.0",
      "_model_name": "DescriptionStyleModel",
      "_view_count": null,
      "_view_module": "@jupyter-widgets/base",
      "_view_module_version": "1.2.0",
      "_view_name": "StyleView",
      "description_width": ""
     }
    }
   }
  }
 },
 "nbformat": 4,
 "nbformat_minor": 0
}
