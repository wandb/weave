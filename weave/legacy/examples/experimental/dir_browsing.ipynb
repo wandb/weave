{
  "cells": [
    {
      "cell_type": "code",
      "execution_count": null,
      "id": "79d64dea",
      "metadata": {},
      "outputs": [],
      "source": [
        "import os\n",
        "import weave\n",
        "\n",
        "#weave.legacy.weave.ops.local_path(os.path.abspath('../weave/testdata'))"
      ]
    }
  ],
  "metadata": {
    "kernelspec": {
      "display_name": "Python 3 (ipykernel)",
      "language": "python",
      "name": "python3"
    }
  },
  "nbformat": 4,
  "nbformat_minor": 5
}
