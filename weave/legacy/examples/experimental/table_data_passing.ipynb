{
  "cells": [
    {
      "cell_type": "code",
      "execution_count": null,
      "id": "c09f7649",
      "metadata": {},
      "outputs": [],
      "source": [
        "import weave\n",
        "import weave.legacy.weave.panels\n",
        "# Weave package now defaults to eager mode, but lazy mode required for this example notebook for now.\n",
        "weave.use_lazy_execution()"
      ]
    },
    {
      "cell_type": "code",
      "execution_count": null,
      "id": "a6b83817",
      "metadata": {},
      "outputs": [],
      "source": [
        "panel = weave.legacy.weave.panels.Group(\n",
        "    items={\n",
        "        \"table\": weave.legacy.weave.panels.Table(weave.legacy.weave.ops.range(1, 100, 1), \n",
        "            columns=[\n",
        "                lambda row: row,\n",
        "                lambda row: row ** 2,\n",
        "            ],\n",
        "        ),\n",
        "        \"all_rows\": lambda table:  weave.legacy.weave.panels.Plot(table.all_rows(),\n",
        "            x=lambda row: row['c_0'],\n",
        "            y=lambda row: row['c_1']\n",
        "        ),\n",
        "        \"derived\": lambda table: weave.legacy.weave.panels.Group(\n",
        "            preferHorizontal=True,\n",
        "            layoutMode=\"horizontal\",\n",
        "            items={\n",
        "                \"rows\": weave.legacy.weave.panels.Group(\n",
        "                    items={\n",
        "                        \"pinned_rows\": weave.legacy.weave.panels.Plot(table.pinned_rows(),\n",
        "                            x=lambda row: row['c_0'],\n",
        "                            y=lambda row: row['c_1']\n",
        "                        ),\n",
        "                        \"active_row\": table.active_row(),\n",
        "                    }\n",
        "                ),\n",
        "                \"data\":  weave.legacy.weave.panels.Group(\n",
        "                    items={\n",
        "                        \"pinned_data\": table.pinned_data(),\n",
        "                        \"active_data\": table.active_data(),\n",
        "                    }\n",
        "                )\n",
        "            })  \n",
        "    })\n",
        "\n",
        "panel"
      ]
    }
  ],
  "metadata": {
    "kernelspec": {
      "display_name": "Python 3 (ipykernel)",
      "language": "python",
      "name": "python3"
    },
    "language_info": {
      "codemirror_mode": {
        "name": "ipython",
        "version": 3
      },
      "file_extension": ".py",
      "mimetype": "text/x-python",
      "name": "python",
      "nbconvert_exporter": "python",
      "pygments_lexer": "ipython3",
      "version": "3.9.7"
    }
  },
  "nbformat": 4,
  "nbformat_minor": 5
}
