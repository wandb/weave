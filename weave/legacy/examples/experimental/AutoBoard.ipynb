{
  "cells": [
    {
      "cell_type": "code",
      "execution_count": null,
      "id": "315969ff",
      "metadata": {},
      "outputs": [],
      "source": [
        "import weave\n",
        "from weave.legacy.scripts import syndata\n",
        "from weave.legacy.scripts import syndata_mon\n",
        "from weave.legacy.weave.panels_py import panel_autoboard"
      ]
    },
    {
      "cell_type": "code",
      "execution_count": null,
      "id": "a6b988de",
      "metadata": {},
      "outputs": [],
      "source": [
        "predictions = weave.save(syndata_mon.random_predictions(10), 'predictions')\n",
        "#predictions"
      ]
    },
    {
      "cell_type": "code",
      "execution_count": null,
      "id": "64aef598",
      "metadata": {},
      "outputs": [],
      "source": [
        "panel_autoboard.auto_panels(predictions)\n",
        "#weave.legacy.weave.ops.project('shawn', 'fasion-sweep').runs().history().concat()['_step'].type"
      ]
    },
    {
      "cell_type": "code",
      "execution_count": null,
      "id": "78a3a155",
      "metadata": {},
      "outputs": [],
      "source": [
        "metrics = weave.save(syndata.random_metrics(10000, 10), 'syndata')\n",
        "#metrics"
      ]
    },
    {
      "cell_type": "code",
      "execution_count": null,
      "id": "77e03fd6",
      "metadata": {},
      "outputs": [],
      "source": [
        "#panel_autoboard.auto_panels(metrics)"
      ]
    },
    {
      "cell_type": "code",
      "execution_count": null,
      "id": "8b417fd2",
      "metadata": {},
      "outputs": [],
      "source": [
        "#panel_autoboard.auto_panels(weave.legacy.weave.ops.project('shawn', 'oai-api5').run('test4').history2())"
      ]
    }
  ],
  "metadata": {
    "kernelspec": {
      "display_name": "Python 3 (ipykernel)",
      "language": "python",
      "name": "python3"
    },
    "language_info": {
      "codemirror_mode": {
        "name": "ipython",
        "version": 3
      },
      "file_extension": ".py",
      "mimetype": "text/x-python",
      "name": "python",
      "nbconvert_exporter": "python",
      "pygments_lexer": "ipython3",
      "version": "3.9.7"
    }
  },
  "nbformat": 4,
  "nbformat_minor": 5
}
