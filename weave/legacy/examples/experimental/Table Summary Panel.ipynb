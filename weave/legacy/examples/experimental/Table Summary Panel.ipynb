{
  "cells": [
    {
      "cell_type": "code",
      "execution_count": null,
      "id": "e9f32c0f",
      "metadata": {},
      "outputs": [],
      "source": [
        "import weave\n",
        "# Weave package now defaults to eager mode, but lazy mode required for this example notebook for now.\n",
        "weave.use_lazy_execution()\n",
        "import xgboost\n",
        "from weave.legacy.weave.ecosystem import sklearn"
      ]
    },
    {
      "cell_type": "code",
      "execution_count": null,
      "id": "50ff1335",
      "metadata": {},
      "outputs": [],
      "source": [
        "dataset = weave.use(sklearn.ca_housing_dataset(1))\n",
        "dataset_arrow = weave.legacy.weave.ops.dataframe_to_arrow(dataset)"
      ]
    },
    {
      "cell_type": "code",
      "execution_count": null,
      "id": "1f9dcd73",
      "metadata": {},
      "outputs": [],
      "source": [
        "import typing\n",
        "\n",
        "@weave.op()\n",
        "def table_summary(table: typing.Any) -> list[weave.legacy.weave.panels.Panel]:\n",
        "    if not table:\n",
        "        # TODO: type\n",
        "        return\n",
        "    col_names = list(table[0].keys())\n",
        "    with weave.legacy.weave.context_state.lazy_execution():\n",
        "        cols = {col_name: weave.legacy.weave.ops.legacy.ops_arrow.dict.pick(table, col_name) for col_name in col_names}\n",
        "    panels = []\n",
        "    for col_name, col_values in cols.items():\n",
        "        panels.append(weave.legacy.weave.panels.LabeledItem(item=col_values, label=col_name))\n",
        "    return panels"
      ]
    },
    {
      "cell_type": "code",
      "execution_count": null,
      "id": "5d464ef4",
      "metadata": {},
      "outputs": [],
      "source": [
        "data = weave.save(dataset_arrow, 'my-data')\n",
        "table_summary(dataset_arrow)"
      ]
    },
    {
      "cell_type": "code",
      "execution_count": null,
      "id": "47c4cdd9",
      "metadata": {},
      "outputs": [],
      "source": [
        "# Currently broken\n",
        "#weave.publish(table_summary)"
      ]
    }
  ],
  "metadata": {
    "kernelspec": {
      "display_name": "Python 3 (ipykernel)",
      "language": "python",
      "name": "python3"
    },
    "language_info": {
      "codemirror_mode": {
        "name": "ipython",
        "version": 3
      },
      "file_extension": ".py",
      "mimetype": "text/x-python",
      "name": "python",
      "nbconvert_exporter": "python",
      "pygments_lexer": "ipython3",
      "version": "3.10.8"
    }
  },
  "nbformat": 4,
  "nbformat_minor": 5
}
