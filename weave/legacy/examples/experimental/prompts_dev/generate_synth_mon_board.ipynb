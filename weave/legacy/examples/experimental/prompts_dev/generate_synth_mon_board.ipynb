{
  "cells": [
    {
      "cell_type": "markdown",
      "id": "4549831c",
      "metadata": {},
      "source": [
        "<img src=\"http://wandb.me/logo-im-png\" width=\"400\" alt=\"Weights & Biases\" />\n",
        "<!--- @wandbcode{weave_synth_data_qs} -->\n",
        "\n",
        "<a target=\"_blank\" href=\"https://colab.research.google.com/github/wandb/weave/blob/master/examples/prompts/llm_monitoring/dev/generate_synth_mon_board.ipynb\">\n",
        "  <img src=\"https://colab.research.google.com/assets/colab-badge.svg\" alt=\"Open In Colab\"/>\n",
        "</a>\n",
        "\n",
        "# Generate Synthetic Data for Large-Scale LLM Monitoring Demo\n",
        "\n",
        "This notebook generates synthetic data (Shakespearean dialogue) in the format used by the monitoring.openai integration.\n",
        "See the openai_monitoring notebook for instructions for logging real OpenAI API calls.\n",
        "\n",
        "# Step 0: Setup\n",
        "\n",
        "Import dependencies"
      ]
    },
    {
      "cell_type": "code",
      "execution_count": null,
      "id": "00647082",
      "metadata": {},
      "outputs": [],
      "source": [
        "!pip install -qqq weave\n",
        "\n",
        "import uuid\n",
        "from datetime import timedelta\n",
        "import weave\n",
        "from weave.legacy.weave import ops_arrow\n",
        "from weave.legacy.weave.monitoring import monitor\n",
        "from weave.syndata_mon import random_predictions"
      ]
    },
    {
      "cell_type": "markdown",
      "id": "a8b49310-4d7a-4f3f-a901-e1f9e87baff8",
      "metadata": {},
      "source": [
        "# Step 1: Generate random predictions and montior call spans"
      ]
    },
    {
      "cell_type": "code",
      "execution_count": null,
      "id": "93653c45",
      "metadata": {},
      "outputs": [],
      "source": [
        "preds = random_predictions(100)\n",
        "\n",
        "# Convert synthetic data into the format used by the weave.legacy.weave.monitoring.openai integration\n",
        "\n",
        "# convert model_version in the synthetic data to an openai model version\n",
        "# this makes it so that there's a new API key that has appeared in our logs recently, and that key\n",
        "# has started using gpt-4 which makes a cost spike\n",
        "versions = sorted(preds.column('model_version').unique())\n",
        "version_map = {}\n",
        "for i, v in enumerate(reversed(versions)):\n",
        "    api_key = 'sk-U4...yK7z'\n",
        "    model = 'gpt-3.5-turbo-0613'\n",
        "    if i == 1 or i == 2:\n",
        "        # second and third most recent versions use a different api key\n",
        "        api_key = 'sk-U9...a22c'\n",
        "    if i == 1:\n",
        "        # second most recent version uses gpt-4\n",
        "        model = 'gpt-4-0613'\n",
        "    version_map[v] = (api_key, model)\n",
        "    \n",
        "spans = [] \n",
        "for i, pred in enumerate(preds):\n",
        "    api_key, model = version_map[pred['model_version']]\n",
        "    latency_mult = 1\n",
        "    if model == 'gpt-4-0613':\n",
        "        latency_mult = 3\n",
        "    span = monitor.Span('openai.api_resources.chat_completion.type.create',\n",
        "                 inputs={\n",
        "                     'messages':[\n",
        "                         {\"role\": \"user\", \"content\": pred['prompt']}\n",
        "                     ]\n",
        "                 },\n",
        "                 output={\n",
        "                     'id': 'chatcmpl-%s' % uuid.uuid4(),\n",
        "                     'object': 'chat.completion',\n",
        "                     'created': pred['timestamp'].timestamp(),\n",
        "                     'model': model,\n",
        "                     'choices': [\n",
        "                         {\n",
        "                             'index': 0,\n",
        "                             'message': {\n",
        "                                 'role': 'assistant',\n",
        "                                 'content': pred['completion']\n",
        "                             },\n",
        "                             'finish_reason': 'stop'\n",
        "                         }\n",
        "                     ],\n",
        "\n",
        "                 },\n",
        "                 attributes={\n",
        "                     'api_key': api_key,\n",
        "                     'username': pred['username']\n",
        "                 },\n",
        "                 summary={\n",
        "                     'prompt_tokens': pred['prompt_tokens'],\n",
        "                     'completion_tokens': pred['completion_tokens'],\n",
        "                     'total_tokens': (pred['prompt_tokens'] + pred['completion_tokens'])\n",
        "                 })\n",
        "    span.start_time = pred['timestamp']\n",
        "    span.end_time = pred['timestamp'] + timedelta(seconds=pred['latency'] * latency_mult)\n",
        "    spans.append({'timestamp': pred['timestamp'], **span.asdict()})"
      ]
    },
    {
      "cell_type": "markdown",
      "id": "88479dbd-6fae-4353-974e-5e13704f720f",
      "metadata": {},
      "source": [
        "# Step 2: Save and view synthetic data"
      ]
    },
    {
      "cell_type": "code",
      "execution_count": null,
      "id": "9548c9aa",
      "metadata": {},
      "outputs": [],
      "source": [
        "# Save as a local table\n",
        "oai_data = weave.save(ops_arrow.to_arrow(spans), 'oai_data')"
      ]
    },
    {
      "cell_type": "code",
      "execution_count": null,
      "id": "b59be0b5",
      "metadata": {},
      "outputs": [],
      "source": [
        "oai_data"
      ]
    },
    {
      "cell_type": "markdown",
      "id": "46669b4f-c569-40ee-a6fe-c5f2fdf64eb7",
      "metadata": {},
      "source": [
        "# Step 3: View LLM Monitoring Board with synthetic data"
      ]
    },
    {
      "cell_type": "code",
      "execution_count": null,
      "id": "7045f1eb",
      "metadata": {},
      "outputs": [],
      "source": [
        "# Use the llm monitoring template to visualize the data\n",
        "from weave.legacy.weave.panels_py import panel_llm_monitor\n",
        "board = panel_llm_monitor.board.raw_resolve_fn(oai_data)\n",
        "board"
      ]
    }
  ],
  "metadata": {
    "kernelspec": {
      "display_name": "Python 3 (ipykernel)",
      "language": "python",
      "name": "python3"
    },
    "language_info": {
      "codemirror_mode": {
        "name": "ipython",
        "version": 3
      },
      "file_extension": ".py",
      "mimetype": "text/x-python",
      "name": "python",
      "nbconvert_exporter": "python",
      "pygments_lexer": "ipython3",
      "version": "3.9.7"
    }
  },
  "nbformat": 4,
  "nbformat_minor": 5
}
