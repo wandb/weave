{
  "cells": [
    {
      "cell_type": "markdown",
      "id": "4549831c",
      "metadata": {},
      "source": [
        "<img src=\"http://wandb.me/logo-im-png\" width=\"400\" alt=\"Weights & Biases\" />\n",
        "\n",
        "# Generate Synthetic Trace Data\n",
        "\n",
        "Generate some synthetic OpenAI data we can explore in a LLM Monitoring Debugging Board."
      ]
    },
    {
      "cell_type": "markdown",
      "id": "e3d9305e",
      "metadata": {},
      "source": [
        "# Step 0: Setup"
      ]
    },
    {
      "cell_type": "code",
      "execution_count": null,
      "id": "00647082",
      "metadata": {},
      "outputs": [],
      "source": [
        "import uuid\n",
        "from datetime import timedelta\n",
        "import weave\n",
        "\n",
        "from weave.legacy.weave import ops_arrow\n",
        "from weave.legacy.weave.monitoring import monitor, StreamTable"
      ]
    },
    {
      "cell_type": "code",
      "execution_count": null,
      "id": "93041e2e",
      "metadata": {},
      "outputs": [],
      "source": [
        "from weave.syndata_mon import random_predictions"
      ]
    },
    {
      "cell_type": "code",
      "execution_count": null,
      "id": "61b9c12a",
      "metadata": {},
      "outputs": [],
      "source": [
        "WB_ENTITY = # replace with your W&B username or team name\n",
        "WB_PROJECT = \"weave\"\n",
        "WB_STREAM = \"synthetic_openai_stream\""
      ]
    },
    {
      "cell_type": "code",
      "execution_count": null,
      "id": "93653c45",
      "metadata": {},
      "outputs": [],
      "source": [
        "preds = random_predictions(10)\n",
        "\n",
        "# Convert synthetic data into the format used by the weave.legacy.weave.monitoring.openai integration\n",
        "\n",
        "# convert model_version in the synthetic data to an openai model version\n",
        "# this makes it so that there's a new API key that has appeared in our logs recently, and that key\n",
        "# has started using gpt-4 which makes a cost spike\n",
        "versions = sorted(preds.column('model_version').unique())\n",
        "version_map = {}\n",
        "for i, v in enumerate(reversed(versions)):\n",
        "    api_key = 'sk-U4...yK7z'\n",
        "    model = 'gpt-3.5-turbo-0613'\n",
        "    if i == 1 or i == 2:\n",
        "        # second and third most recent versions use a different api key\n",
        "        api_key = 'sk-U9...a22c'\n",
        "    if i == 1:\n",
        "        # second most recent version uses gpt-4\n",
        "        model = 'gpt-4-0613'\n",
        "    version_map[v] = (api_key, model)\n",
        "    \n",
        "spans = [] \n",
        "for i, pred in enumerate(preds):\n",
        "    api_key, model = version_map[pred['model_version']]\n",
        "    latency_mult = 1\n",
        "    if model == 'gpt-4-0613':\n",
        "        latency_mult = 3\n",
        "    span = monitor.Span('openai.api_resources.chat_completion.type.create',\n",
        "                 inputs={\n",
        "                     'messages':[\n",
        "                         {\"role\": \"user\", \"content\": pred['prompt']}\n",
        "                     ]\n",
        "                 },\n",
        "                 output={\n",
        "                     'id': 'chatcmpl-%s' % uuid.uuid4(),\n",
        "                     'object': 'chat.completion',\n",
        "                     'created': pred['timestamp'].timestamp(),\n",
        "                     'model': model,\n",
        "                     'choices': [\n",
        "                         {\n",
        "                             'index': 0,\n",
        "                             'message': {\n",
        "                                 'role': 'assistant',\n",
        "                                 'content': pred['completion']\n",
        "                             },\n",
        "                             'finish_reason': 'stop'\n",
        "                         }\n",
        "                     ],\n",
        "\n",
        "                 },\n",
        "                 attributes={\n",
        "                     'api_key': api_key,\n",
        "                     'username': pred['username']\n",
        "                 },\n",
        "                 summary={\n",
        "                     'prompt_tokens': pred['prompt_tokens'],\n",
        "                     'completion_tokens': pred['completion_tokens'],\n",
        "                     'total_tokens': (pred['prompt_tokens'] + pred['completion_tokens'])\n",
        "                 })\n",
        "    span.start_time = pred['timestamp']\n",
        "    span.end_time = pred['timestamp'] + timedelta(seconds=pred['latency'] * latency_mult)\n",
        "    spans.append({'timestamp': pred['timestamp'], **span.asdict()})"
      ]
    },
    {
      "cell_type": "code",
      "execution_count": null,
      "id": "9548c9aa",
      "metadata": {},
      "outputs": [],
      "source": [
        "st = StreamTable(f\"{WB_ENTITY}/{WB_PROJECT}/{WB_STREAM}\")\n",
        "\n",
        "for span in spans:\n",
        "    st.log(span)\n",
        "\n",
        "st.finish()\n"
      ]
    }
  ],
  "metadata": {
    "kernelspec": {
      "display_name": "Python 3 (ipykernel)",
      "language": "python",
      "name": "python3"
    },
    "language_info": {
      "codemirror_mode": {
        "name": "ipython",
        "version": 3
      },
      "file_extension": ".py",
      "mimetype": "text/x-python",
      "name": "python",
      "nbconvert_exporter": "python",
      "pygments_lexer": "ipython3",
      "version": "3.9.7"
    }
  },
  "nbformat": 4,
  "nbformat_minor": 5
}
