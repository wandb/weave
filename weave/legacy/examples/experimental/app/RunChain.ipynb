{
  "cells": [
    {
      "cell_type": "markdown",
      "id": "d6a6e7cf",
      "metadata": {},
      "source": [
        "## Example of plotting RunChains\n",
        "\n",
        "As described here: https://github.com/wandb/runchain"
      ]
    },
    {
      "cell_type": "code",
      "execution_count": null,
      "id": "bd34fae3",
      "metadata": {},
      "outputs": [],
      "source": [
        "import weave\n",
        "from weave.legacy.weave.ecosystem import wandb"
      ]
    },
    {
      "cell_type": "code",
      "execution_count": null,
      "id": "baa0a8ac",
      "metadata": {},
      "outputs": [],
      "source": [
        "# big project, maybe 41 deep\n",
        "#chain = wandb.run_chain('shawn/branchtest_400_200_1000/2ji8emz2')\n",
        "\n",
        "# big project, 61 deep\n",
        "#chain = wandb.run_chain('shawn/branchtest_400_200_1000/sf0vvene')\n",
        "\n",
        "# big project, 141 deep\n",
        "#chain = wandb.run_chain('shawn/branchtest_400_200_1000/hja8k932')\n",
        "\n",
        "# 3 deep, 200 metrics, 10k steps each (the default, this is fast for CI)\n",
        "chain = wandb.run_chain('shawn/run_chain_20_200_10000/h4vz7n29')\n",
        "\n",
        "# 14 deep, 200 metrics, 10k steps each\n",
        "#chain = wandb.run_chain('shawn/run_chain_20_200_10000/6wdyzlq9')"
      ]
    },
    {
      "cell_type": "code",
      "execution_count": null,
      "id": "0431fff0",
      "metadata": {},
      "outputs": [],
      "source": [
        "# display the chain information\n",
        "chain"
      ]
    },
    {
      "cell_type": "code",
      "execution_count": null,
      "id": "4fd52674",
      "metadata": {},
      "outputs": [],
      "source": [
        "# or fetch the chain object\n",
        "weave.use(chain)"
      ]
    },
    {
      "cell_type": "code",
      "execution_count": null,
      "id": "ee1bbb90",
      "metadata": {},
      "outputs": [],
      "source": [
        "weave.use(chain.segments.count())"
      ]
    },
    {
      "cell_type": "code",
      "execution_count": null,
      "id": "55b0b5c3",
      "metadata": {},
      "outputs": [],
      "source": [
        "# view the chain's metrics table\n",
        "chain.history()"
      ]
    },
    {
      "cell_type": "code",
      "execution_count": null,
      "id": "67caf99a",
      "metadata": {},
      "outputs": [],
      "source": [
        "# Display plots from a RunChain. You need to do some resizing to seem them all currently.\n",
        "\n",
        "def plot_metric(run, metric_name):\n",
        "    return weave.legacy.weave.panels.Plot(\n",
        "            run.history(),\n",
        "            series=[\n",
        "                # Use two plot series, one for the avg line, and one for\n",
        "                # min/max area. We could reduce duplication here a bit more\n",
        "                # by updating the Plot API to allow common features of series\n",
        "                # to be factored out.\n",
        "                weave.legacy.weave.panels.Series(\n",
        "                    run.history(),\n",
        "                    select_functions={\n",
        "                        'x': lambda row, index: index.bin(\n",
        "                                weave.legacy.weave.ops.numbers_bins_equal(\n",
        "                                    weave.legacy.weave.ops.make_list(a=0, b=run.history().count()), 250))[\"start\"],\n",
        "                        'y': lambda row: row[metric_name].avg()\n",
        "                    },\n",
        "                    groupby_dims=['x'],\n",
        "                    constants=weave.legacy.weave.panels.PlotConstants(\n",
        "                        mark='line'\n",
        "                    )\n",
        "                ),\n",
        "                weave.legacy.weave.panels.Series(\n",
        "                    run.history(),\n",
        "                    select_functions={\n",
        "                        'x': lambda row, index: index.bin(\n",
        "                                weave.legacy.weave.ops.numbers_bins_equal(\n",
        "                                    weave.legacy.weave.ops.make_list(a=0, b=run.history().count()), 250))[\"start\"],\n",
        "                        'y': lambda row: row[metric_name].min(),\n",
        "                        'y2': lambda row: row[metric_name].max(),\n",
        "                    },\n",
        "                    groupby_dims=['x'],\n",
        "                    constants=weave.legacy.weave.panels.PlotConstants(\n",
        "                        mark='area'\n",
        "                    )\n",
        "                )\n",
        "            ],\n",
        "        )\n",
        "\n",
        "board = weave.legacy.weave.panels.Board(\n",
        "    vars={\n",
        "        'run_chain': chain,\n",
        "    },\n",
        "    panels=[\n",
        "        weave.legacy.weave.panels.BoardPanel(\n",
        "            lambda run_chain: weave.legacy.weave.panels.Group(\n",
        "                layoutMode='flow',\n",
        "                #gridConfig=bank.flow_nxn(2, 3),\n",
        "                items={k: plot_metric(run_chain, k) for k in ['metric' + str(i) for i in range(10)]}\n",
        "            ),\n",
        "            layout=weave.legacy.weave.panels.BoardPanelLayout(x=0, y=0, w=24, h=12)\n",
        "        )\n",
        "    ]\n",
        ")\n",
        "board"
      ]
    }
  ],
  "metadata": {
    "kernelspec": {
      "display_name": "Python 3 (ipykernel)",
      "language": "python",
      "name": "python3"
    },
    "language_info": {
      "codemirror_mode": {
        "name": "ipython",
        "version": 3
      },
      "file_extension": ".py",
      "mimetype": "text/x-python",
      "name": "python",
      "nbconvert_exporter": "python",
      "pygments_lexer": "ipython3",
      "version": "3.9.7"
    }
  },
  "nbformat": 4,
  "nbformat_minor": 5
}
