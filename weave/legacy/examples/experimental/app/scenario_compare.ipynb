{
  "cells": [
    {
      "cell_type": "code",
      "execution_count": null,
      "id": "67551526",
      "metadata": {},
      "outputs": [],
      "source": [
        "import random\n",
        "import weave\n",
        "# Weave package now defaults to eager mode, but lazy mode required for this example notebook for now.\n",
        "weave.use_lazy_execution()\n",
        "from weave.legacy.weave.ecosystem import scenario"
      ]
    },
    {
      "cell_type": "code",
      "execution_count": null,
      "id": "6e12d2d0",
      "metadata": {},
      "outputs": [],
      "source": [
        "# a = weave.save(5)\n",
        "# b = a + 2\n",
        "# weave.type_of(b)"
      ]
    },
    {
      "cell_type": "code",
      "execution_count": null,
      "id": "4882d74b",
      "metadata": {},
      "outputs": [],
      "source": [
        "import math\n",
        "def make_run(n_scenarios, n) -> list[scenario.ScenarioResult]:\n",
        "    return [\n",
        "        scenario.ScenarioResult(\n",
        "            scenario_id=str(i),\n",
        "            metric1=random.expovariate(n / 33),\n",
        "            metric2=random.gauss(42, n / 100),\n",
        "            metric3=random.triangular(n, 11),\n",
        "            metric4=random.random() * random.random() * n,\n",
        "            metric5=random.random(),\n",
        "            metric6=random.betavariate(0.01, n / 2),\n",
        "        )\n",
        "        for i in range(n_scenarios)\n",
        "    ]"
      ]
    },
    {
      "cell_type": "code",
      "execution_count": null,
      "id": "218e28e2",
      "metadata": {},
      "outputs": [],
      "source": [
        "#panel_input = weave.save({'baseline': make_run(10), 'candidate': make_run(10)}, name='panel_input')"
      ]
    },
    {
      "cell_type": "code",
      "execution_count": null,
      "id": "984bcb3c",
      "metadata": {},
      "outputs": [],
      "source": [
        "#panel_input"
      ]
    },
    {
      "cell_type": "code",
      "execution_count": null,
      "id": "7e1890ca",
      "metadata": {},
      "outputs": [],
      "source": [
        "# make some runs\n",
        "\n",
        "weave.save(make_run(100, 1), name='run1:latest')\n",
        "weave.save(make_run(100, 2), name='run2:latest')\n",
        "weave.save(make_run(100, 3), name='run3:latest')\n",
        "weave.save(make_run(100, 4), name='run4:latest')\n",
        "weave.save(make_run(100, 5), name='run5:latest')\n",
        "pass"
      ]
    },
    {
      "cell_type": "code",
      "execution_count": null,
      "id": "9f2b3a72",
      "metadata": {},
      "outputs": [],
      "source": [
        "# Ugly. We need to compute the Weave type right now.\n",
        "# TODO: Fix\n",
        "from weave.legacy.weave import infer_types\n",
        "run_type = weave.types.List(infer_types.python_type_to_type(scenario.ScenarioResult))\n",
        "\n",
        "import time\n",
        "runs = weave.legacy.weave.ops.objects(run_type, 'latest', int(time.time()))"
      ]
    },
    {
      "cell_type": "code",
      "execution_count": null,
      "id": "89e4b718",
      "metadata": {},
      "outputs": [],
      "source": [
        "panel = weave.legacy.weave.panels.Group(\n",
        "    preferHorizontal=True,\n",
        "    items={\n",
        "        \"sidebar\": weave.legacy.weave.panels.Group(\n",
        "            style=\"width: 200px; padding: 16px;\",\n",
        "            items={\n",
        "                \"baseline\": weave.legacy.weave.panels.ObjectPicker(runs, label='baseline'),\n",
        "                \"candidate\": weave.legacy.weave.panels.ObjectPicker(runs, label='candidate')\n",
        "            }\n",
        "        ),\n",
        "        \"main\": lambda sidebar: weave.legacy.weave.panels.Group(\n",
        "            items={\n",
        "                \"tables\": weave.legacy.weave.panels.Group(\n",
        "                    style=\"height: 300px;\",\n",
        "                    preferHorizontal=True,\n",
        "                    equalSize=True,\n",
        "                    items={\n",
        "                        \"baseline_table\": weave.legacy.weave.panels.LabeledItem(\n",
        "                            label=\"Baseline Table\",\n",
        "                            item=weave.legacy.weave.ops.execute(sidebar.config.items['baseline'].config.choice).get()\n",
        "                        ),\n",
        "                        \"candidate_table\": weave.legacy.weave.panels.LabeledItem(\n",
        "                            label=\"Candidate Table\",\n",
        "                            item=weave.legacy.weave.ops.execute(sidebar.config.items['candidate'].config.choice).get()\n",
        "                        )\n",
        "                    }),\n",
        "                \"plots\": \n",
        "                    weave.legacy.weave.panels.LabeledItem(\n",
        "                        label='Scenario plots',\n",
        "                        item=scenario.MetricsBankPanel(\n",
        "                            weave.legacy.weave.ops.dict_(\n",
        "                                baseline=weave.legacy.weave.ops.execute(sidebar.config.items['baseline'].config.choice).get(),\n",
        "                                candidate=weave.legacy.weave.ops.execute(sidebar.config.items['candidate'].config.choice).get()\n",
        "                            ))\n",
        "                    )\n",
        "\n",
        "            }\n",
        "        )\n",
        "    })\n",
        "panel"
      ]
    }
  ],
  "metadata": {
    "kernelspec": {
      "display_name": "Python 3 (ipykernel)",
      "language": "python",
      "name": "python3"
    },
    "language_info": {
      "codemirror_mode": {
        "name": "ipython",
        "version": 3
      },
      "file_extension": ".py",
      "mimetype": "text/x-python",
      "name": "python",
      "nbconvert_exporter": "python",
      "pygments_lexer": "ipython3",
      "version": "3.9.7"
    }
  },
  "nbformat": 4,
  "nbformat_minor": 5
}
