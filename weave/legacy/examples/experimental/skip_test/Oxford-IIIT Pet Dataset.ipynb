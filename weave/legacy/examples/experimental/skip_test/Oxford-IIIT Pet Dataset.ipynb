{
  "cells": [
    {
      "cell_type": "code",
      "execution_count": null,
      "id": "2cfb0934",
      "metadata": {},
      "outputs": [],
      "source": [
        "import weave\n",
        "weave.use_frontend_devmode()"
      ]
    },
    {
      "cell_type": "code",
      "execution_count": null,
      "id": "b81fda7c",
      "metadata": {},
      "outputs": [],
      "source": [
        "import os\n",
        "im_names = os.listdir('/Users/shawn/datasets/oxford-iiit-pet-dataset/images')\n",
        "breeds = set(i.rsplit('_', 1)[0] for i in im_names)\n",
        "#sorted(breeds)"
      ]
    },
    {
      "cell_type": "code",
      "execution_count": null,
      "id": "5e3925df",
      "metadata": {},
      "outputs": [],
      "source": [
        "import typing\n",
        "type(typing.Optional[int])\n",
        "type(typing._UnionGenericAlias)\n",
        "# isinstance(typing.Optional, typing._SpecialForm)\n",
        "# typing._SpecialForm.__class__"
      ]
    },
    {
      "cell_type": "code",
      "execution_count": null,
      "id": "9d20c10d",
      "metadata": {},
      "outputs": [],
      "source": [
        "#weave.legacy.weave.ops.local_path('/Users/shawn/datasets')\n",
        "# :(, broken right now"
      ]
    },
    {
      "cell_type": "code",
      "execution_count": null,
      "id": "7f668d48",
      "metadata": {},
      "outputs": [],
      "source": [
        "from weave.legacy.weave.ecosystem.shawn import petdataset\n",
        "\n",
        "data = petdataset.petdataset('/Users/shawn/datasets/oxford-iiit-pet-dataset')\n",
        "#data"
      ]
    },
    {
      "cell_type": "code",
      "execution_count": null,
      "id": "981fc71f",
      "metadata": {},
      "outputs": [],
      "source": [
        "from weave.legacy.weave.ecosystem import wandb\n",
        "wandb.MultiDistribution(data, value_fn=lambda item: item['breed'])"
      ]
    },
    {
      "cell_type": "code",
      "execution_count": null,
      "id": "b123d4f9",
      "metadata": {},
      "outputs": [],
      "source": [
        "# A PanelPlot only histogram\n",
        "plot = weave.legacy.weave.panels.Plot(\n",
        "    data,\n",
        "    y=lambda item: item['breed'],\n",
        "    groupby_y=True,\n",
        "    x=lambda group: group.count(),\n",
        "    mark='bar')\n",
        "#plot"
      ]
    }
  ],
  "metadata": {
    "kernelspec": {
      "display_name": "Python 3 (ipykernel)",
      "language": "python",
      "name": "python3"
    },
    "language_info": {
      "codemirror_mode": {
        "name": "ipython",
        "version": 3
      },
      "file_extension": ".py",
      "mimetype": "text/x-python",
      "name": "python",
      "nbconvert_exporter": "python",
      "pygments_lexer": "ipython3",
      "version": "3.9.7"
    }
  },
  "nbformat": 4,
  "nbformat_minor": 5
}
