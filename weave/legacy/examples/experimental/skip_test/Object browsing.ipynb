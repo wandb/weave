{
 "cells": [
  {
   "cell_type": "code",
   "execution_count": null,
   "id": "f4ff49c8",
   "metadata": {},
   "outputs": [],
   "source": [
    "import weave"
   ]
  },
  {
   "cell_type": "code",
   "execution_count": null,
   "id": "38fc854d",
   "metadata": {},
   "outputs": [],
   "source": [
    "weave.show({'a': 5, \n",
    "            'b': [{\n",
    "              'c': 7,\n",
    "                'd': 9\n",
    "            }]})"
   ]
  },
  {
   "cell_type": "code",
   "execution_count": null,
   "id": "e56965f9",
   "metadata": {},
   "outputs": [],
   "source": [
    "import random\n",
    "weave.show(list(range(100)))"
   ]
  }
 ],
 "metadata": {
  "kernelspec": {
   "display_name": "Python 3 (ipykernel)",
   "language": "python",
   "name": "python3"
  },
  "language_info": {
   "codemirror_mode": {
    "name": "ipython",
    "version": 3
   },
   "file_extension": ".py",
   "mimetype": "text/x-python",
   "name": "python",
   "nbconvert_exporter": "python",
   "pygments_lexer": "ipython3",
   "version": "3.9.7"
  }
 },
 "nbformat": 4,
 "nbformat_minor": 5
}
