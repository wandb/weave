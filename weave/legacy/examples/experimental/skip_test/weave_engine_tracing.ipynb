{
  "cells": [
    {
      "cell_type": "markdown",
      "id": "de9a4837",
      "metadata": {},
      "source": [
        "## Visualize Weave engine traces using Weave\n",
        "\n",
        "To produce data, run the Weave server with Datadog logging on, and WEAVE_TRACE_STREAM=<entity>/<project>/<table>"
      ]
    },
    {
      "cell_type": "code",
      "execution_count": null,
      "id": "c62364f5",
      "metadata": {},
      "outputs": [],
      "source": [
        "import weave\n",
        "from weave.legacy.weave.wandb_interface.wandb_stream_table import StreamTable"
      ]
    },
    {
      "cell_type": "code",
      "execution_count": null,
      "id": "8d099de8",
      "metadata": {},
      "outputs": [],
      "source": [
        "# set this to the StreamTable your server logs to. Or run as is to use public test data.\n",
        "spans = StreamTable('shawn/weave-trace-test2/test15').rows()\n",
        "\n",
        "board = weave.legacy.weave.panels.Board(\n",
        "    vars={\n",
        "        'all_spans': spans,\n",
        "        'trace_id': '',\n",
        "        'selected_spans': lambda trace_id, all_spans: all_spans.filter(lambda row: row['trace_id'] == trace_id)\n",
        "    },\n",
        "    panels=[\n",
        "        weave.legacy.weave.panels.BoardPanel(\n",
        "            # TODO: have to compute all columns we want here, there's no way to\n",
        "            # tell js or python to do auto-columns behavior.\n",
        "            lambda all_spans: all_spans,\n",
        "            id='table',\n",
        "            layout=weave.legacy.weave.panels.BoardPanelLayout(x=0, y=0, w=24, h=6)\n",
        "        ),\n",
        "        weave.legacy.weave.panels.BoardPanel(\n",
        "            # TODO: have to compute all columns we want here, there's no way to\n",
        "            # tell js or python to do auto-columns behavior.\n",
        "            lambda all_spans: weave.legacy.weave.panels.Table(\n",
        "                all_spans,\n",
        "                columns=[\n",
        "                    weave.legacy.weave.panels.TableColumn(\n",
        "                        lambda row: row['trace_id'],\n",
        "                        groupby=True,\n",
        "                    ),\n",
        "                    weave.legacy.weave.panels.TableColumn(\n",
        "                        lambda row: row.count(),\n",
        "                        name='span count'\n",
        "                    ),\n",
        "                    weave.legacy.weave.panels.TableColumn(\n",
        "                        # TODO: not exact, we need to add duration to get end time, but we don't have an add\n",
        "                        # for 2 vectors yet.\n",
        "                        lambda row: (row['start_time_ms'].max() - row['start_time_ms'].min()) / 1000,\n",
        "                        name='duration_s'\n",
        "                    )\n",
        "                ]\n",
        "            ),\n",
        "            id='traces',\n",
        "            layout=weave.legacy.weave.panels.BoardPanelLayout(x=0, y=0, w=24, h=6)\n",
        "        ),\n",
        "        weave.legacy.weave.panels.BoardPanel(\n",
        "            # TODO: have to compute all columns we want here, there's no way to\n",
        "            # tell js or python to do auto-columns behavior.\n",
        "            lambda all_spans: weave.legacy.weave.panels.Table(\n",
        "                all_spans,\n",
        "                columns=[\n",
        "                    weave.legacy.weave.panels.TableColumn(\n",
        "                        lambda row: row['name'],\n",
        "                        groupby=True,\n",
        "                    ),\n",
        "                    lambda row: row.count(),\n",
        "                    weave.legacy.weave.panels.TableColumn(\n",
        "                        # TODO: not exact, we need to add duration to get end time, but we don't have an add\n",
        "                        # for 2 vectors yet.\n",
        "                        lambda row: (row['start_time_ms'].max() - row['start_time_ms'].min()) / 1000,\n",
        "                        name='duration_s'\n",
        "                    )\n",
        "                ]\n",
        "            ),\n",
        "            id='spans',\n",
        "            layout=weave.legacy.weave.panels.BoardPanelLayout(x=0, y=0, w=24, h=6)\n",
        "        ),\n",
        "        weave.legacy.weave.panels.BoardPanel(\n",
        "            lambda selected_spans: weave.legacy.weave.panels.Trace(selected_spans),\n",
        "            layout=weave.legacy.weave.panels.BoardPanelLayout(x=0, y=6, w=24, h=6)\n",
        "        )\n",
        "    ]\n",
        ")\n",
        "board"
      ]
    }
  ],
  "metadata": {
    "kernelspec": {
      "display_name": "Python 3 (ipykernel)",
      "language": "python",
      "name": "python3"
    },
    "language_info": {
      "codemirror_mode": {
        "name": "ipython",
        "version": 3
      },
      "file_extension": ".py",
      "mimetype": "text/x-python",
      "name": "python",
      "nbconvert_exporter": "python",
      "pygments_lexer": "ipython3",
      "version": "3.9.7"
    }
  },
  "nbformat": 4,
  "nbformat_minor": 5
}
