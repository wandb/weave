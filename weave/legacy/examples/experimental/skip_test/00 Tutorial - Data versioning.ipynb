{
 "cells": [
  {
   "cell_type": "code",
   "execution_count": null,
   "id": "2ead38fc",
   "metadata": {},
   "outputs": [],
   "source": [
    "import weave"
   ]
  },
  {
   "cell_type": "code",
   "execution_count": null,
   "id": "93580e7b",
   "metadata": {},
   "outputs": [],
   "source": [
    "# Weave saves and versions your data.\n",
    "\n",
    "data = [\n",
    "    {'val': 1941, 'label': 'cat'},\n",
    "    {'val': 2120, 'label': 'dog'}\n",
    "]\n",
    "\n",
    "# Give an object a name by calling weave.save()\n",
    "data = weave.save(data, name='data')\n",
    "print(data)"
   ]
  },
  {
   "cell_type": "code",
   "execution_count": null,
   "id": "2e8b46ee",
   "metadata": {},
   "outputs": [],
   "source": [
    "# Weave objects can be displayed using Weave Panels\n",
    "\n",
    "# You can use weave.show(version), or simply:\n",
    "data"
   ]
  },
  {
   "cell_type": "code",
   "execution_count": null,
   "id": "c366b0f5",
   "metadata": {},
   "outputs": [],
   "source": [
    "# You can see which versions exist for an object with weave.versions()\n",
    "for version in weave.versions(data):\n",
    "    print(version)"
   ]
  },
  {
   "cell_type": "code",
   "execution_count": null,
   "id": "8e969fa8",
   "metadata": {},
   "outputs": [],
   "source": [
    "# You can get a specific version back with weave.get\n",
    "\n",
    "data2 = weave.get('local-artifact:///tmp/local-artifacts/data/latest')\n",
    "data2"
   ]
  }
 ],
 "metadata": {
  "kernelspec": {
   "display_name": "Python 3 (ipykernel)",
   "language": "python",
   "name": "python3"
  },
  "language_info": {
   "codemirror_mode": {
    "name": "ipython",
    "version": 3
   },
   "file_extension": ".py",
   "mimetype": "text/x-python",
   "name": "python",
   "nbconvert_exporter": "python",
   "pygments_lexer": "ipython3",
   "version": "3.9.7"
  }
 },
 "nbformat": 4,
 "nbformat_minor": 5
}
