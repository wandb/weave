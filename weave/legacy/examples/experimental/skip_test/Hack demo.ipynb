{
  "cells": [
    {
      "cell_type": "code",
      "execution_count": null,
      "id": "6e89befe",
      "metadata": {},
      "outputs": [],
      "source": [
        "import typing\n",
        "import weave\n",
        "from weave.legacy.weave.ecosystem import hackdemo\n",
        "\n",
        "PROJECT = 'hackdemo'"
      ]
    },
    {
      "cell_type": "code",
      "execution_count": null,
      "id": "e0209514",
      "metadata": {},
      "outputs": [],
      "source": [
        "dataset = hackdemo.ca_housing_dataset(25000)"
      ]
    },
    {
      "cell_type": "code",
      "execution_count": null,
      "id": "4893a4a8",
      "metadata": {},
      "outputs": [],
      "source": [
        "weave.show(dataset)"
      ]
    },
    {
      "cell_type": "code",
      "execution_count": null,
      "id": "35d52005",
      "metadata": {},
      "outputs": [],
      "source": [
        "@weave.op()\n",
        "def table_summary(table: typing.Any) -> list[weave.legacy.weave.panels.Panel]:\n",
        "    if not table:\n",
        "        return\n",
        "    col_names = list(table[0].keys())\n",
        "    with weave.lazy_execution():\n",
        "        cols = {col_name: table.pick(col_name) for col_name in col_names}\n",
        "    panels = []\n",
        "    for col_name, col_values in cols.items():\n",
        "        panels.append(weave.legacy.weave.panels.LabeledItem(item=col_values, label=col_name))\n",
        "    return panels"
      ]
    },
    {
      "cell_type": "code",
      "execution_count": null,
      "id": "42638af4",
      "metadata": {},
      "outputs": [],
      "source": [
        "data_card = hackdemo.Dataset(\n",
        "    name='California Housing',\n",
        "    created_by=hackdemo.User(name='Pace, R. Kelley'),\n",
        "    description='S&P Letters Data\\n\\nWe collected information on the variables using all the block groups in California from the 1990 Cens us. In this sample a block group on average includes 1425.5 individuals living in a geographically co mpact area. Naturally, the geographical area included varies inversely with the population density. W e computed distances among the centroids of each block group as measured in latitude and longitude. W e excluded all the block groups reporting zero entries for the independent and dependent variables. T he final data contained 20,640 observations on 9 variables. The dependent variable is ln(median house value).',\n",
        "    updated_at='August 25th 2021, at 3:36:29pm',\n",
        "    table=weave.use(dataset) \n",
        ")\n",
        "\n",
        "saved_data_card = weave.save(data_card)"
      ]
    },
    {
      "cell_type": "code",
      "execution_count": null,
      "id": "578adec4",
      "metadata": {},
      "outputs": [],
      "source": [
        "#weave.publish(data_card, '%s/ca-housing-cadr' % PROJECT)"
      ]
    },
    {
      "cell_type": "code",
      "execution_count": null,
      "id": "c35a4702",
      "metadata": {},
      "outputs": [],
      "source": [
        "hackdemo.ca_housing_dataset_card(saved_data_card)"
      ]
    }
  ],
  "metadata": {
    "kernelspec": {
      "display_name": "Python 3 (ipykernel)",
      "language": "python",
      "name": "python3"
    },
    "language_info": {
      "codemirror_mode": {
        "name": "ipython",
        "version": 3
      },
      "file_extension": ".py",
      "mimetype": "text/x-python",
      "name": "python",
      "nbconvert_exporter": "python",
      "pygments_lexer": "ipython3",
      "version": "3.9.7"
    }
  },
  "nbformat": 4,
  "nbformat_minor": 5
}
