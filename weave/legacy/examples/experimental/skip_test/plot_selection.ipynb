{
  "cells": [
    {
      "cell_type": "code",
      "execution_count": null,
      "id": "c09f7649",
      "metadata": {},
      "outputs": [],
      "source": [
        "import weave\n",
        "# weave.use_frontend_devmode()"
      ]
    },
    {
      "cell_type": "code",
      "execution_count": null,
      "id": "a6b83817",
      "metadata": {},
      "outputs": [],
      "source": [
        "panel = weave.legacy.weave.panels.Group(\n",
        "    items={\n",
        "        \"plot\": weave.legacy.weave.panels.Plot(weave.legacy.weave.ops.range(1, 100, 1),\n",
        "                                  x=lambda row: row,\n",
        "                                  y=lambda row: row ** 2,\n",
        "        ),\n",
        "        \"table\": lambda plot: weave.legacy.weave.panels.panel_plot.selected_rows(plot)\n",
        "    })\n",
        "\n",
        "panel"
      ]
    },
    {
      "cell_type": "code",
      "execution_count": null,
      "id": "55f43427",
      "metadata": {},
      "outputs": [],
      "source": []
    }
  ],
  "metadata": {
    "kernelspec": {
      "display_name": "Python 3 (ipykernel)",
      "language": "python",
      "name": "python3"
    },
    "language_info": {
      "codemirror_mode": {
        "name": "ipython",
        "version": 3
      },
      "file_extension": ".py",
      "mimetype": "text/x-python",
      "name": "python",
      "nbconvert_exporter": "python",
      "pygments_lexer": "ipython3",
      "version": "3.10.7"
    }
  },
  "nbformat": 4,
  "nbformat_minor": 5
}
