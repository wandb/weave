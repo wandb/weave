{
  "cells": [
    {
      "cell_type": "code",
      "execution_count": null,
      "id": "0c235474",
      "metadata": {},
      "outputs": [],
      "source": [
        "import weave\n",
        "import xgboost\n",
        "from weave.legacy.weave.ecosystem import shap\n",
        "#weave.use_frontend_devmode()"
      ]
    },
    {
      "cell_type": "code",
      "execution_count": null,
      "id": "63a29a5f",
      "metadata": {},
      "outputs": [],
      "source": [
        "dataset = weave.use(shap.ca_housing_dataset(1))\n",
        "dataset_arrow = weave.legacy.weave.ops.dataframe_to_arrow(dataset)"
      ]
    },
    {
      "cell_type": "code",
      "execution_count": null,
      "id": "c5633045",
      "metadata": {},
      "outputs": [],
      "source": [
        "weave.show(dataset_arrow)"
      ]
    },
    {
      "cell_type": "code",
      "execution_count": null,
      "id": "b6edbb55",
      "metadata": {},
      "outputs": [],
      "source": [
        "weave.publish(dataset_arrow, 'my-dataset-transform')"
      ]
    },
    {
      "cell_type": "code",
      "execution_count": null,
      "id": "dcccca4b",
      "metadata": {},
      "outputs": [],
      "source": [
        "weave.show(x)"
      ]
    },
    {
      "cell_type": "code",
      "execution_count": null,
      "id": "40f37c5a",
      "metadata": {},
      "outputs": [],
      "source": [
        "weave.legacy.weave.ops.get('wandb-artifact://shawn/weave_ops/my-dataset-transform:8c478776a5e01c3c051d')"
      ]
    },
    {
      "cell_type": "code",
      "execution_count": null,
      "id": "7a0d6be5",
      "metadata": {},
      "outputs": [],
      "source": [
        "@weave.op()\n",
        "def some_plotly_op():\n",
        "    return Plotly.plot(whatever)\n",
        "\n",
        "weave.name(some_plotly_op(), name='my-cool-plot')"
      ]
    }
  ],
  "metadata": {
    "kernelspec": {
      "display_name": "Python 3 (ipykernel)",
      "language": "python",
      "name": "python3"
    },
    "language_info": {
      "codemirror_mode": {
        "name": "ipython",
        "version": 3
      },
      "file_extension": ".py",
      "mimetype": "text/x-python",
      "name": "python",
      "nbconvert_exporter": "python",
      "pygments_lexer": "ipython3",
      "version": "3.9.7"
    }
  },
  "nbformat": 4,
  "nbformat_minor": 5
}
