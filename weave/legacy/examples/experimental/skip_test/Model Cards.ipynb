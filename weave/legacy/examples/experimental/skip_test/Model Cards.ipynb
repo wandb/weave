{
  "cells": [
    {
      "cell_type": "code",
      "execution_count": null,
      "id": "c6b2e19b",
      "metadata": {},
      "outputs": [],
      "source": [
        "import weave\n",
        "weave.use_frontend_devmode()\n",
        "from weave.legacy.weave.ecosystem import models"
      ]
    },
    {
      "cell_type": "code",
      "execution_count": null,
      "id": "4b51e4d5",
      "metadata": {},
      "outputs": [],
      "source": [
        "# Declare an instance of a ModelCard\n",
        "model_card = models.ModelCard(\n",
        "    model_name='GPT-3',\n",
        "    created_by=models.User(name='OpenAI'),\n",
        "    updated_at='August 25th 2021, at 3:36:29pm',  # TODO: timestamp\n",
        "    model_type='Language model',\n",
        "    primary_metric=models.TargetMetric(name='acc', direction='up'),\n",
        "    application='Our API has been deployed in thousands of applications with tasks ranging from helping people learn new languages to solving complex classification problems',\n",
        "    example='...Slightly better example...'\n",
        ")\n",
        "model_card_ref = weave.save(model_card, 'my-model-card')\n",
        "models.model_card_panel(model_card_ref)"
      ]
    },
    {
      "cell_type": "code",
      "execution_count": null,
      "id": "ba518a7e",
      "metadata": {},
      "outputs": [],
      "source": [
        "# Publish it to W&B\n",
        "model_card_wbref = weave.publish(model_card, name='my-model')"
      ]
    },
    {
      "cell_type": "code",
      "execution_count": null,
      "id": "32dd7d50",
      "metadata": {},
      "outputs": [],
      "source": [
        "weave.show(model_card_wbref)"
      ]
    }
  ],
  "metadata": {
    "kernelspec": {
      "display_name": "Python 3 (ipykernel)",
      "language": "python",
      "name": "python3"
    },
    "language_info": {
      "codemirror_mode": {
        "name": "ipython",
        "version": 3
      },
      "file_extension": ".py",
      "mimetype": "text/x-python",
      "name": "python",
      "nbconvert_exporter": "python",
      "pygments_lexer": "ipython3",
      "version": "3.9.7"
    }
  },
  "nbformat": 4,
  "nbformat_minor": 5
}
