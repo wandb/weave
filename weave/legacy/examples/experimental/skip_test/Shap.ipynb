{
  "cells": [
    {
      "cell_type": "code",
      "execution_count": null,
      "id": "eb58c451",
      "metadata": {},
      "outputs": [],
      "source": [
        "import weave\n",
        "from weave.legacy.weave.ecosystem import shap"
      ]
    },
    {
      "cell_type": "code",
      "execution_count": null,
      "id": "bac8abef",
      "metadata": {},
      "outputs": [],
      "source": [
        "dataset = shap.ca_housing_dataset(1)\n",
        "xy = shap.split_labels(dataset, 'MedHouseVal')\n",
        "model = shap.xgboost_train(xy, {'learning_rate': 0.02})\n",
        "\n",
        "explain_res = model.shap_explain(xy['X'])"
      ]
    },
    {
      "cell_type": "code",
      "execution_count": null,
      "id": "aa726585",
      "metadata": {},
      "outputs": [],
      "source": [
        "explain_res.summary_plot()"
      ]
    }
  ],
  "metadata": {
    "kernelspec": {
      "display_name": "Python 3 (ipykernel)",
      "language": "python",
      "name": "python3"
    },
    "language_info": {
      "codemirror_mode": {
        "name": "ipython",
        "version": 3
      },
      "file_extension": ".py",
      "mimetype": "text/x-python",
      "name": "python",
      "nbconvert_exporter": "python",
      "pygments_lexer": "ipython3",
      "version": "3.9.7"
    }
  },
  "nbformat": 4,
  "nbformat_minor": 5
}
