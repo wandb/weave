{
  "cells": [
    {
      "cell_type": "code",
      "execution_count": null,
      "id": "1333d291",
      "metadata": {},
      "outputs": [],
      "source": [
        "import weave\n",
        "weave.use_frontend_devmode()"
      ]
    },
    {
      "cell_type": "code",
      "execution_count": null,
      "id": "17a80a08",
      "metadata": {},
      "outputs": [],
      "source": [
        "from weave.legacy.weave.wandb_interface.wandb_stream_table import StreamTable"
      ]
    },
    {
      "cell_type": "code",
      "execution_count": null,
      "id": "058fa5af",
      "metadata": {},
      "outputs": [],
      "source": [
        "import time\n",
        "entity_name = \"timssweeney\"\n",
        "project_name = \"stream_tables\"\n",
        "run_name = \"tt\" + str(int(time.time()))"
      ]
    },
    {
      "cell_type": "code",
      "execution_count": null,
      "id": "f0691851",
      "metadata": {},
      "outputs": [],
      "source": [
        "st = StreamTable(run_name, project_name, entity_name)\n",
        "\n",
        "for i in range(10):\n",
        "    st.log({'a': i})"
      ]
    },
    {
      "cell_type": "code",
      "execution_count": null,
      "id": "e0a597a5",
      "metadata": {},
      "outputs": [],
      "source": [
        "st"
      ]
    },
    {
      "cell_type": "code",
      "execution_count": null,
      "id": "fb42732f",
      "metadata": {},
      "outputs": [],
      "source": [
        "weave.legacy.weave.ops.project(entity_name, project_name).run(run_name).history2()"
      ]
    }
  ],
  "metadata": {
    "kernelspec": {
      "display_name": "Python 3 (ipykernel)",
      "language": "python",
      "name": "python3"
    },
    "language_info": {
      "codemirror_mode": {
        "name": "ipython",
        "version": 3
      },
      "file_extension": ".py",
      "mimetype": "text/x-python",
      "name": "python",
      "nbconvert_exporter": "python",
      "pygments_lexer": "ipython3",
      "version": "3.10.8"
    }
  },
  "nbformat": 4,
  "nbformat_minor": 5
}
