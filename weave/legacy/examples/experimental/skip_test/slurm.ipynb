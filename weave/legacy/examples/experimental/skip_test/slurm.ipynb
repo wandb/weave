{
  "cells": [
    {
      "cell_type": "code",
      "execution_count": null,
      "id": "8817764c",
      "metadata": {},
      "outputs": [],
      "source": [
        "import weave\n",
        "from weave.legacy.weave.ecosystem import slurm"
      ]
    },
    {
      "cell_type": "code",
      "execution_count": null,
      "id": "cda9e9a3",
      "metadata": {},
      "outputs": [],
      "source": [
        "#slurm.slurm('http://localhost:8899').jobs()"
      ]
    },
    {
      "cell_type": "code",
      "execution_count": null,
      "id": "9bee4444",
      "metadata": {},
      "outputs": [],
      "source": [
        "#slurm.slurm('http://localhost:8899').nodes()"
      ]
    },
    {
      "cell_type": "code",
      "execution_count": null,
      "id": "e69a2f48",
      "metadata": {},
      "outputs": [],
      "source": [
        "slurm.slurm('http://localhost:8899')"
      ]
    }
  ],
  "metadata": {
    "kernelspec": {
      "display_name": "Python 3 (ipykernel)",
      "language": "python",
      "name": "python3"
    },
    "language_info": {
      "codemirror_mode": {
        "name": "ipython",
        "version": 3
      },
      "file_extension": ".py",
      "mimetype": "text/x-python",
      "name": "python",
      "nbconvert_exporter": "python",
      "pygments_lexer": "ipython3",
      "version": "3.9.7"
    }
  },
  "nbformat": 4,
  "nbformat_minor": 5
}
