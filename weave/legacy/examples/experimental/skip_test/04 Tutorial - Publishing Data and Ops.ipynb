{
  "cells": [
    {
      "cell_type": "code",
      "execution_count": null,
      "id": "b174bac3",
      "metadata": {},
      "outputs": [],
      "source": [
        "import weave\n",
        "from typing import Any\n",
        "\n",
        "@weave.op()\n",
        "def inc(a: int, delta: int = 1) -> int:\n",
        "    return a + delta\n",
        "\n",
        "# store x in local dir\n",
        "x = weave.save(10, \"local-num\")\n",
        "print(x)\n",
        "# store y as a remote artifact - this is stateful and will create\n",
        "# new versions if you've previously saved this artifact\n",
        "y = weave.publish(100, \"remote-num\")\n",
        "print(y)"
      ]
    },
    {
      "cell_type": "code",
      "execution_count": null,
      "id": "1949651f",
      "metadata": {},
      "outputs": [],
      "source": [
        "# increment constant\n",
        "print(weave.use(inc(1)))\n",
        "# increment local number - DO NOT SAVE\n",
        "print(weave.use(inc(x)))\n",
        "# increment remote number - DO NOT SAVE\n",
        "print(weave.use(inc(y)))"
      ]
    },
    {
      "cell_type": "code",
      "execution_count": null,
      "id": "efd9ed1c",
      "metadata": {},
      "outputs": [],
      "source": [
        "# this might take a minute since constructing w&b artifacts is a bit slow atm\n",
        "for i in range(0, 5):\n",
        "    y = weave.use(inc(y, 1))\n",
        "    # publish result back to remote-num\n",
        "    weave.publish(y, \"remote-num\")"
      ]
    },
    {
      "cell_type": "code",
      "execution_count": null,
      "id": "35a0e593",
      "metadata": {},
      "outputs": [],
      "source": [
        "# TODO: this doesn't work yet, it only returns the current version\n",
        "for version in weave.versions(y):\n",
        "    print(version)"
      ]
    },
    {
      "cell_type": "code",
      "execution_count": null,
      "id": "9d6a69fc",
      "metadata": {},
      "outputs": [],
      "source": [
        "# we can also publish ops\n",
        "remote_op = weave.publish(inc)\n",
        "print(remote_op)"
      ]
    },
    {
      "cell_type": "code",
      "execution_count": null,
      "id": "7548b05f",
      "metadata": {},
      "outputs": [],
      "source": [
        "# this cell can be run from a full kernel restart and it should work\n",
        "import weave\n",
        "import shutil\n",
        "from weave.legacy.weave.artifacts_local import LOCAL_ARTIFACT_DIR\n",
        "from weave import uris\n",
        "\n",
        "try:\n",
        "    shutil.rmtree(LOCAL_ARTIFACT_DIR)\n",
        "except FileNotFoundError:\n",
        "    pass\n",
        "\n",
        "remote_y = uris.WeaveURI.parse('wandb-artifact://jzhao/weave_ops/remote-num:v0').to_ref().get()\n",
        "remote_inc = uris.WeaveURI.parse('wandb-artifact://jzhao/weave_ops/op-def-op-inc:v0').to_ref().get()\n",
        "\n",
        "remote_y"
      ]
    }
  ],
  "metadata": {
    "kernelspec": {
      "display_name": "Python 3 (ipykernel)",
      "language": "python",
      "name": "python3"
    },
    "language_info": {
      "codemirror_mode": {
        "name": "ipython",
        "version": 3
      },
      "file_extension": ".py",
      "mimetype": "text/x-python",
      "name": "python",
      "nbconvert_exporter": "python",
      "pygments_lexer": "ipython3",
      "version": "3.9.7"
    }
  },
  "nbformat": 4,
  "nbformat_minor": 5
}
