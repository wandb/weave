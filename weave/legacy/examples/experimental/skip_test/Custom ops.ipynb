{
  "cells": [
    {
      "cell_type": "code",
      "execution_count": null,
      "id": "f6c524b9",
      "metadata": {},
      "outputs": [],
      "source": [
        "import weave\n",
        "import math\n",
        "weave.use_frontend_devmode()"
      ]
    },
    {
      "cell_type": "code",
      "execution_count": null,
      "id": "a257651b",
      "metadata": {},
      "outputs": [],
      "source": [
        "# Create our own useful op.\n",
        "\n",
        "import math\n",
        "\n",
        "@weave.op()\n",
        "def my_func(x: float) -> float:\n",
        "    return math.sin(x / 0.2)"
      ]
    },
    {
      "cell_type": "code",
      "execution_count": null,
      "id": "89b6c0db",
      "metadata": {},
      "outputs": [],
      "source": [
        "# Now show it.\n",
        "# Weave tries to guess the best way to show your data. Its first guess is not very good yet, so let's teach it!\n",
        "# Click the gear icon to configure the Panel\n",
        "# Try \"List of: Number\". You can page left to right using the controls that the bottom.\n",
        "# Switch to \"Plot\"\n",
        "# Pick \"row\" as the x value (todo this should be called \"i\" or \"item\" instead of row)\n",
        "# Pick \"row * row\" as the y value.\n",
        "# Cool, we made a curve!\n",
        "\n",
        "\n",
        "x = [i / 1000.0 for i in range(0, 1000)]\n",
        "\n",
        "plot = weave.legacy.weave.panels.Plot(x)\n",
        "plot.set_x(lambda row: row)\n",
        "plot.set_y(lambda row: my_func(row))\n",
        "weave.show(plot)"
      ]
    },
    {
      "cell_type": "code",
      "execution_count": null,
      "id": "3d97c0fd",
      "metadata": {},
      "outputs": [],
      "source": [
        "run_data = []\n",
        "xs = [i / 1000.0 for i in range(0, 1000)]\n",
        "for run in range(3):\n",
        "  run_data.append({\n",
        "      'id': 'id-%s' % run,\n",
        "      'x': xs,\n",
        "      'y': [math.sin(10 * x / (run+1)) for x in xs]\n",
        "  })\n",
        "plot = weave.legacy.weave.panels.Plot(run_data)\n",
        "plot.set_x(lambda row: row['x'])\n",
        "plot.set_y(lambda row: row['y'])\n",
        "plot.set_label(lambda row: row['id'])\n",
        "weave.show(plot)"
      ]
    },
    {
      "cell_type": "code",
      "execution_count": null,
      "id": "5f9b0741",
      "metadata": {},
      "outputs": [],
      "source": [
        "import pandas as pd\n",
        "df = pd.DataFrame()\n",
        "df['x'] = [i / 1000.0 for i in range(0, 1000)]\n",
        "df['y1'] = df['x'].map(lambda x: math.sin(10 * x / 1))\n",
        "df['y2'] = df['x'].map(lambda x: math.sin(10 * x / 2))\n",
        "df['y3'] = df['x'].map(lambda x: math.sin(10 * x / 3))\n",
        "\n",
        "# df.melt converts to a table with three columns: x, series, y\n",
        "df = df.melt(id_vars=['x'], value_vars=['y1', 'y2', 'y3'], var_name='series', value_name='y')\n",
        "\n",
        "multiple_y = df.to_dict('records')\n",
        "plot = weave.legacy.weave.panels.Plot(multiple_y)\n",
        "plot.set_x(lambda row: row['x'])\n",
        "plot.set_y(lambda row: row['y'])\n",
        "plot.set_label(lambda row: row['series'])\n",
        "plot.set_mark('line')\n",
        "weave.show(plot)"
      ]
    },
    {
      "cell_type": "code",
      "execution_count": null,
      "id": "07752656",
      "metadata": {},
      "outputs": [],
      "source": [
        "import pandas as pd\n",
        "df = pd.DataFrame()\n",
        "df['x'] = [i / 1000.0 for i in range(0, 1000)]\n",
        "df['y1'] = df['x'].map(lambda x: math.sin(10 * x / 1))\n",
        "df['y2'] = df['x'].map(lambda x: math.sin(10 * x / 2))\n",
        "df['y3'] = df['x'].map(lambda x: math.sin(10 * x / 3))\n",
        "multiple_y = df.to_dict('records')\n",
        "\n",
        "plot = weave.legacy.weave.panels.Plot(multiple_y)\n",
        "plot.set_x(lambda row: row['x'])\n",
        "plot.set_y(lambda row: [row['y1'], row['y2'], row['y3']])\n",
        "plot.set_label(lambda row: ['y1', 'y2', 'y3'])\n",
        "plot.set_mark('line')\n",
        "weave.show(plot)"
      ]
    }
  ],
  "metadata": {
    "kernelspec": {
      "display_name": "Python 3 (ipykernel)",
      "language": "python",
      "name": "python3"
    },
    "language_info": {
      "codemirror_mode": {
        "name": "ipython",
        "version": 3
      },
      "file_extension": ".py",
      "mimetype": "text/x-python",
      "name": "python",
      "nbconvert_exporter": "python",
      "pygments_lexer": "ipython3",
      "version": "3.9.7"
    }
  },
  "nbformat": 4,
  "nbformat_minor": 5
}
