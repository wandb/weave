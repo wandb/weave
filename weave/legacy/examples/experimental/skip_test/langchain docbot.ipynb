{
  "cells": [
    {
      "cell_type": "code",
      "execution_count": null,
      "id": "0d6220cd",
      "metadata": {},
      "outputs": [],
      "source": [
        "import weave\n",
        "from weave import trace\n",
        "weave.use_frontend_devmode()\n",
        "from weave.legacy.weave.ecosystem.all import langchain"
      ]
    },
    {
      "cell_type": "code",
      "execution_count": null,
      "id": "a674fd63",
      "metadata": {},
      "outputs": [],
      "source": [
        "from langchain.chat_models import ChatOpenAI\n",
        "#ChatOpenAI(model_name='gpt-3.5-turbo').query('hey whats up')"
      ]
    },
    {
      "cell_type": "code",
      "execution_count": null,
      "id": "f8cff0cd",
      "metadata": {},
      "outputs": [],
      "source": [
        "weave.save([\n",
        "    'how do I use weave?',\n",
        "    'what products does W&B have?',\n",
        "    'how do I get a sweep ID from a run?'\n",
        "], 'questions')"
      ]
    },
    {
      "cell_type": "code",
      "execution_count": null,
      "id": "a47df334",
      "metadata": {},
      "outputs": [],
      "source": [
        "from langchain.docstore.document import Document\n",
        "documents = weave.legacy.weave.ops.local_path('/Users/shawn/Downloads/documents.jsonl').readjsonl().limit(1000)\n",
        "docs = weave.save([Document(**d) for d in weave.use(documents)], 'documents:latest')\n",
        "#docs"
      ]
    },
    {
      "cell_type": "code",
      "execution_count": null,
      "id": "865af8ce",
      "metadata": {},
      "outputs": [],
      "source": [
        "db = langchain.faiss_from_documents(docs, langchain.openai_embeddings())\n",
        "llm = langchain.chat_openai('gpt-3.5-turbo', 0.7)\n",
        "qa = langchain.retrieval_qa_from_chain_type(llm, 'stuff', db)\n",
        "qa.run('lets try again 2')"
      ]
    }
  ],
  "metadata": {
    "kernelspec": {
      "display_name": "Python 3 (ipykernel)",
      "language": "python",
      "name": "python3"
    },
    "language_info": {
      "codemirror_mode": {
        "name": "ipython",
        "version": 3
      },
      "file_extension": ".py",
      "mimetype": "text/x-python",
      "name": "python",
      "nbconvert_exporter": "python",
      "pygments_lexer": "ipython3",
      "version": "3.9.7"
    }
  },
  "nbformat": 4,
  "nbformat_minor": 5
}
