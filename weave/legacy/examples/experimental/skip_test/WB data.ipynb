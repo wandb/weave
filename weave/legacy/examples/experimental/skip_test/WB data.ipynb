{
  "cells": [
    {
      "cell_type": "code",
      "execution_count": null,
      "id": "bb76d9d8",
      "metadata": {},
      "outputs": [],
      "source": [
        "import weave\n",
        "weave.use_frontend_devmode()"
      ]
    },
    {
      "cell_type": "code",
      "execution_count": null,
      "id": "54243e21",
      "metadata": {},
      "outputs": [],
      "source": [
        "project = weave.legacy.weave.ops.project('shawn', 'fasion-sweep')\n",
        "runs = project.runs()\n",
        "\n",
        "panel = weave.legacy.weave.panels.Group(\n",
        "    preferHorizontal=True,\n",
        "    items={\n",
        "        \"sidebar\": weave.legacy.weave.panels.Group(\n",
        "            style=\"width: 200px; padding: 16px;\",\n",
        "            items={\n",
        "                \"run\": weave.legacy.weave.panels.ObjectPicker(runs, label='run'),\n",
        "            }\n",
        "        ),\n",
        "        #\"main\": lambda sidebar: project.run(sidebar.config.items['run_id'].config.choice).history()\n",
        "        \"main\": lambda sidebar: sidebar.config.items['run'].config.choice.history()\n",
        "    }\n",
        ")\n",
        "panel"
      ]
    },
    {
      "cell_type": "code",
      "execution_count": null,
      "id": "5a771433",
      "metadata": {},
      "outputs": [],
      "source": [
        "project = weave.legacy.weave.ops.project('shawn', 'fasion-sweep')\n",
        "run_ids = project.runs().id()\n",
        "\n",
        "panel = weave.legacy.weave.panels.Group(\n",
        "    preferHorizontal=True,\n",
        "    items={\n",
        "        \"sidebar\": weave.legacy.weave.panels.Group(\n",
        "            style=\"width: 200px; padding: 16px;\",\n",
        "            items={\n",
        "                \"run_id\": weave.legacy.weave.panels.ObjectPicker(run_ids, label='run_id'),\n",
        "            }\n",
        "        ),\n",
        "        #\"main\": lambda sidebar: project.run(sidebar.config.items['run_id'].config.choice).history()\n",
        "        \"main\": lambda sidebar: weave.legacy.weave.panels.Plot(\n",
        "            project.run(sidebar.config.items['run_id'].config.choice).history(),\n",
        "            x=lambda row: row['_step'],\n",
        "            y=lambda row: row['loss'],\n",
        "        )\n",
        "    }\n",
        ")\n",
        "#panel"
      ]
    }
  ],
  "metadata": {
    "kernelspec": {
      "display_name": "Python 3 (ipykernel)",
      "language": "python",
      "name": "python3"
    }
  },
  "nbformat": 4,
  "nbformat_minor": 5
}
