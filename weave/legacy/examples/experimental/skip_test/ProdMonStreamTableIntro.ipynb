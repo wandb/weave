{
  "cells": [
    {
      "cell_type": "markdown",
      "id": "9617c234",
      "metadata": {},
      "source": [
        "# StreamTable API"
      ]
    },
    {
      "cell_type": "code",
      "execution_count": null,
      "id": "307ad3b7",
      "metadata": {},
      "outputs": [],
      "source": [
        "import weave\n",
        "weave.use_frontend_devmode()\n",
        "from weave.legacy.weave.monitoring import StreamTable\n",
        "import PIL\n",
        "import numpy as np\n",
        "\n",
        "def make_image():\n",
        "    imarray = np.random.rand(100, 100, 3) * 255\n",
        "    return PIL.Image.fromarray(imarray.astype(\"uint8\")).convert(\"RGBA\")"
      ]
    },
    {
      "cell_type": "code",
      "execution_count": null,
      "id": "8c7b6c63",
      "metadata": {},
      "outputs": [],
      "source": [
        "table = StreamTable(\"pm_demo_all_2\", entity_name=\"timssweeney\", project_name=\"prodmon\")"
      ]
    },
    {
      "cell_type": "code",
      "execution_count": null,
      "id": "643f46e3",
      "metadata": {},
      "outputs": [],
      "source": [
        "for _ in range(10):\n",
        "    table.log({\n",
        "        'number': 1, \n",
        "        'string': 'hello', \n",
        "        'bool': True, \n",
        "        'nested': {'data': 5}, \n",
        "        'lists': list(range(10)), \n",
        "        'custom': make_image()})\n",
        "table"
      ]
    },
    {
      "cell_type": "markdown",
      "id": "56c50afb",
      "metadata": {},
      "source": [
        "# Monitor Decorator"
      ]
    },
    {
      "cell_type": "code",
      "execution_count": null,
      "id": "e7db9358",
      "metadata": {},
      "outputs": [],
      "source": [
        "from langchain.agents import load_tools\n",
        "from langchain.agents import initialize_agent\n",
        "from langchain.agents import AgentType\n",
        "from langchain.llms import OpenAI\n",
        "\n",
        "llm = OpenAI(temperature=0)\n",
        "tools = load_tools([\"llm-math\"], llm=llm)\n",
        "agent = initialize_agent(tools, llm, agent=AgentType.ZERO_SHOT_REACT_DESCRIPTION)"
      ]
    },
    {
      "cell_type": "code",
      "execution_count": null,
      "id": "90aba081",
      "metadata": {},
      "outputs": [],
      "source": [
        "from weave.legacy.weave.monitoring import monitor\n",
        "\n",
        "@monitor(entity_name=\"timssweeney\", project_name=\"prodmon\")\n",
        "def ask_llm_calculator(prompt, question):\n",
        "    return agent.run(prompt + \" \" + question)\n",
        "\n",
        "\n",
        "ask_llm_calculator(\n",
        "    \"Please accurately answer the following question:\", \n",
        "    \"Find the square root of 5.4.\"\n",
        ")"
      ]
    },
    {
      "cell_type": "code",
      "execution_count": null,
      "id": "f49b9b31",
      "metadata": {},
      "outputs": [],
      "source": [
        "# This API will change\n",
        "ask_llm_calculator._stream_table._stream_table.rows()"
      ]
    }
  ],
  "metadata": {
    "kernelspec": {
      "display_name": "Python 3 (ipykernel)",
      "language": "python",
      "name": "python3"
    },
    "language_info": {
      "codemirror_mode": {
        "name": "ipython",
        "version": 3
      },
      "file_extension": ".py",
      "mimetype": "text/x-python",
      "name": "python",
      "nbconvert_exporter": "python",
      "pygments_lexer": "ipython3",
      "version": "3.10.8"
    }
  },
  "nbformat": 4,
  "nbformat_minor": 5
}
