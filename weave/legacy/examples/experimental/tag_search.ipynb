{
  "cells": [
    {
      "attachments": {},
      "cell_type": "markdown",
      "id": "550a2af8",
      "metadata": {},
      "source": [
        "## An example implementation of tag search\n",
        "\n",
        "This shows how to achieve a UI for tag search.\n",
        "\n",
        "Its not ideal in these ways:\n",
        "- we're missing an intersection op.\n",
        "- we'll need to be sure the pattern vectorizes\n",
        "- list of tag strings may not be the best representation for performance at scale\n",
        "- we don't have a nice way to display list of strings as tags\n",
        "- no centralized tag color control\n",
        "- you should be able to click on a tag and filter the table down to that tag\n",
        "- varbar construction of controls is still pretty odd\n",
        "\n",
        "But it works!\n"
      ]
    },
    {
      "cell_type": "code",
      "execution_count": null,
      "id": "9c690522",
      "metadata": {},
      "outputs": [],
      "source": [
        "import weave\n",
        "from weave.legacy.weave import weave_internal"
      ]
    },
    {
      "cell_type": "code",
      "execution_count": null,
      "id": "cd9ad6f9",
      "metadata": {},
      "outputs": [],
      "source": [
        "data = weave.save([\n",
        "    {'x': 15, 'tags': ['a', 'b']},\n",
        "    {'x': 23.9, 'tags': ['b', 'c']},\n",
        "    {'x': -8, 'tags': ['a']}\n",
        "], 'taggeddata')"
      ]
    },
    {
      "cell_type": "code",
      "execution_count": null,
      "id": "34fb2bba",
      "metadata": {},
      "outputs": [],
      "source": [
        "weave.legacy.weave.panels.Board(\n",
        "    vars={\n",
        "        # The strange that we need to use two variables for structuring our tag picker and its value.\n",
        "        'filter_tags': [],\n",
        "        'tag_picker': lambda filter_tags: weave.legacy.weave.panels.SelectEditor(\n",
        "            filter_tags,\n",
        "            choices=weave_internal.const(['a', 'b', 'c'])\n",
        "        ),\n",
        "        'data': data,\n",
        "        'filtered_data': lambda data, filter_tags: data.filter(\n",
        "            # We don't currently have an intersection op, so we have to write the logic for it here.\n",
        "            # This will probably not vectorize currently, so will be slower on large amounts of data.\n",
        "            lambda row: weave.legacy.weave.ops.List.concat(weave.legacy.weave.ops.make_list(a=row['tags'], b=filter_tags)).unique().count()\n",
        "                < (row['tags'].count() + filter_tags.count())\n",
        "        )\n",
        "    },\n",
        "    panels=[\n",
        "        weave.legacy.weave.panels.BoardPanel(\n",
        "            lambda filtered_data: weave.legacy.weave.panels.Table(\n",
        "                filtered_data,\n",
        "                columns=[\n",
        "                    lambda row: row['x'],\n",
        "                    # Use json_dumps to get a better view for now.\n",
        "                    lambda row: row['tags'].json_dumps()\n",
        "                ]\n",
        "            )\n",
        "        )\n",
        "    ]\n",
        ")"
      ]
    }
  ],
  "metadata": {
    "kernelspec": {
      "display_name": "Python 3 (ipykernel)",
      "language": "python",
      "name": "python3"
    },
    "language_info": {
      "codemirror_mode": {
        "name": "ipython",
        "version": 3
      },
      "file_extension": ".py",
      "mimetype": "text/x-python",
      "name": "python",
      "nbconvert_exporter": "python",
      "pygments_lexer": "ipython3",
      "version": "3.9.7"
    }
  },
  "nbformat": 4,
  "nbformat_minor": 5
}
