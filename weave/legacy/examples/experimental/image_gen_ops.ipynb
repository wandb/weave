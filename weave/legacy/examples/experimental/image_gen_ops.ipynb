{
  "cells": [
    {
      "cell_type": "code",
      "execution_count": null,
      "id": "22034460",
      "metadata": {},
      "outputs": [],
      "source": [
        "import weave\n",
        "import io\n",
        "from PIL import Image\n",
        "import numpy as np\n",
        "import matplotlib.pyplot as plt\n",
        "import random\n",
        "from weave.legacy.weave import ops\n",
        "\n",
        "def plt_image():\n",
        "    \"\"\"Return current matplotlib figure as PIL Image\"\"\"\n",
        "    img_buf = io.BytesIO()\n",
        "    plt.savefig(img_buf, format='png')\n",
        "    im = Image.open(img_buf)\n",
        "    return im"
      ]
    },
    {
      "cell_type": "code",
      "execution_count": null,
      "id": "d03dc328",
      "metadata": {},
      "outputs": [],
      "source": [
        "# Declare an op that plots a sin weave using matplotlib, and returns the plot as an Image\n",
        "\n",
        "@weave.op(render_info={\"type\": \"function\"})\n",
        "def sin_image(f: int) -> Image.Image:    \n",
        "    x = np.arange(0, f * np.pi, 0.1)\n",
        "    y = np.sin(x)\n",
        "    plt.rcParams[\"figure.figsize\"] = (22, 7)\n",
        "    plt.plot(x, y)\n",
        "    \n",
        "    return plt_image()"
      ]
    },
    {
      "cell_type": "code",
      "execution_count": null,
      "id": "217d0cd2",
      "metadata": {},
      "outputs": [],
      "source": [
        "x = weave.save(7, name='my-number')\n",
        "\n",
        "im = sin_image(x + 2)\n",
        "im"
      ]
    },
    {
      "cell_type": "code",
      "execution_count": null,
      "id": "d8d06148",
      "metadata": {},
      "outputs": [],
      "source": [
        "import json\n",
        "from weave.legacy.weave.ops_domain import wb_domain_types\n",
        "from weave import gql_op_plugin\n",
        "import wandb\n",
        "\n",
        "\n",
        "@weave.op(\n",
        "    render_info={\"type\": \"function\"},\n",
        "    plugins=gql_op_plugin.wb_gql_op_plugin(\n",
        "        lambda inputs, inner: \"project {id name entity {id name}}\"\n",
        "    )\n",
        ")\n",
        "def run_accuracy_barchart(runs: list[wb_domain_types.Run]) -> Image.Image:\n",
        "    runs = list(runs)[:10]\n",
        "    runs = [wandb.Api().run(f'{r[\"project\"][\"entity\"][\"name\"]}/{r[\"project\"][\"name\"]}/{r[\"name\"]}') for r in runs]\n",
        "    names = [r.name for r in runs]\n",
        "    xs = range(len(runs))\n",
        "    ys = [r.summary_metrics.get(\"acc\") or 0 for r in runs]\n",
        "\n",
        "    plt.rcParams[\"figure.figsize\"] = (15, 5)\n",
        "    plt.bar(xs, ys, align=\"center\", alpha=0.5)\n",
        "    plt.xticks(xs, names)\n",
        "    plt.ylabel(\"acc\")\n",
        "    plt.title(\"Run accuracies\")\n",
        "\n",
        "    return plt_image()"
      ]
    },
    {
      "cell_type": "code",
      "execution_count": null,
      "id": "a4dc62a2",
      "metadata": {},
      "outputs": [],
      "source": [
        "runs = weave.legacy.weave.ops.project('shawn', 'fasion-sweep').runs()\n",
        "run_accuracy_barchart(runs)"
      ]
    }
  ],
  "metadata": {
    "kernelspec": {
      "display_name": "Python 3 (ipykernel)",
      "language": "python",
      "name": "python3"
    },
    "language_info": {
      "codemirror_mode": {
        "name": "ipython",
        "version": 3
      },
      "file_extension": ".py",
      "mimetype": "text/x-python",
      "name": "python",
      "nbconvert_exporter": "python",
      "pygments_lexer": "ipython3",
      "version": "3.9.7"
    }
  },
  "nbformat": 4,
  "nbformat_minor": 5
}
