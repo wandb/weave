{
  "cells": [
    {
      "cell_type": "markdown",
      "id": "897e0314",
      "metadata": {},
      "source": [
        "# HuggingFace Datasets\n",
        "\n",
        "A quick overview of exploring [Datasets from HuggingFace](https://huggingface.co/docs/datasets/index).\n",
        "\n",
        "### Known issues\n",
        "\n",
        "- Using a dataset often reboots the weave server the first time, causing the first request to fail. Run again and it'll work\n",
        "- We only load 100 items"
      ]
    },
    {
      "cell_type": "code",
      "execution_count": null,
      "id": "ba78a68c",
      "metadata": {},
      "outputs": [],
      "source": [
        "import weave\n",
        "# Weave package now defaults to eager mode, but lazy mode required for this example notebook for now.\n",
        "weave.use_lazy_execution()\n",
        "from weave.legacy.weave.ecosystem import huggingface as hf"
      ]
    },
    {
      "cell_type": "code",
      "execution_count": null,
      "id": "3e3b90c5",
      "metadata": {},
      "outputs": [],
      "source": [
        "hf.hf_datasets()"
      ]
    },
    {
      "cell_type": "markdown",
      "id": "d82a6ac3",
      "metadata": {},
      "source": []
    },
    {
      "cell_type": "code",
      "execution_count": null,
      "id": "b861a911",
      "metadata": {},
      "outputs": [],
      "source": [
        "hf.dataset('app_reviews')"
      ]
    },
    {
      "cell_type": "code",
      "execution_count": null,
      "id": "9935abb0",
      "metadata": {},
      "outputs": [],
      "source": [
        "hf.dataset('fashion_mnist')"
      ]
    }
  ],
  "metadata": {
    "kernelspec": {
      "display_name": "Python 3 (ipykernel)",
      "language": "python",
      "name": "python3"
    },
    "language_info": {
      "codemirror_mode": {
        "name": "ipython",
        "version": 3
      },
      "file_extension": ".py",
      "mimetype": "text/x-python",
      "name": "python",
      "nbconvert_exporter": "python",
      "pygments_lexer": "ipython3",
      "version": "3.9.7"
    }
  },
  "nbformat": 4,
  "nbformat_minor": 5
}
