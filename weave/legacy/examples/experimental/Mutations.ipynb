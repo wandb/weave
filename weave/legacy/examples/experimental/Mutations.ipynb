{
  "cells": [
    {
      "cell_type": "code",
      "execution_count": null,
      "id": "dd93a251",
      "metadata": {},
      "outputs": [],
      "source": [
        "import weave"
      ]
    },
    {
      "cell_type": "code",
      "execution_count": null,
      "id": "ddcbd7da",
      "metadata": {},
      "outputs": [],
      "source": [
        "# Only run this cell the first time\n",
        "table_data = weave.save([{'a': 5, 'b': 6, 'c': 'hello'}, {'a': 7, 'b': 9, 'c': 'goodbye'}], name='my-table:latest')"
      ]
    },
    {
      "cell_type": "code",
      "execution_count": null,
      "id": "0063dcd0",
      "metadata": {},
      "outputs": [],
      "source": [
        "dataset = weave.legacy.weave.ops.get(\"local-artifact:///my-table:latest/obj\")\n",
        "dataset"
      ]
    },
    {
      "cell_type": "code",
      "execution_count": null,
      "id": "b310adec",
      "metadata": {},
      "outputs": [],
      "source": [
        "# You can mutate data in the UI.\n",
        "# In the panel above, switch the c column Panel to StringEditor,\n",
        "# then edit one of the cells.\n",
        "# To see the changes were saved, rerun cell 3."
      ]
    },
    {
      "cell_type": "code",
      "execution_count": null,
      "id": "cf92cd4e",
      "metadata": {},
      "outputs": [],
      "source": [
        "# Or you can mutate data from Python. You can press the \"play\" icon in the UI to make it live update.\n",
        "for i in range(10):\n",
        "    dataset.append({'a': 0, 'b': i, 'c': 'k'})"
      ]
    }
  ],
  "metadata": {
    "kernelspec": {
      "display_name": "Python 3 (ipykernel)",
      "language": "python",
      "name": "python3"
    }
  },
  "nbformat": 4,
  "nbformat_minor": 5
}
