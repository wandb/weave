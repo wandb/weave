{
  "cells": [
    {
      "cell_type": "code",
      "execution_count": null,
      "id": "37f6d676",
      "metadata": {},
      "outputs": [],
      "source": [
        "import weave\n",
        "# Weave package now defaults to eager mode, but lazy mode required for this example notebook for now.\n",
        "weave.use_lazy_execution()\n",
        "from weave.legacy.weave.ecosystem import torchvision, torch_mnist_model_example"
      ]
    },
    {
      "cell_type": "code",
      "execution_count": null,
      "id": "b450f4df",
      "metadata": {},
      "outputs": [],
      "source": [
        "# TODO: Fix WeaveJS to automatically pick the more specific dataset_card Panel\n",
        "mnist_dataset = torchvision.mnist(100)  # Or try mnist.food101(100), but currently broken\n",
        "mnist_dataset"
      ]
    },
    {
      "cell_type": "code",
      "execution_count": null,
      "id": "664f3447",
      "metadata": {},
      "outputs": [],
      "source": [
        "hyperparams = {\n",
        "    'fc_layer_size': 256,\n",
        "    'dropout': 0.5,\n",
        "    'epochs': 5,\n",
        "    'learning_rate': 0.005,\n",
        "    'batch_size': 128,\n",
        "}\n",
        "train_split = mnist_dataset['data']['train']\n",
        "#train_split.pick('image')\n",
        "model = torch_mnist_model_example.train(\n",
        "    train_split.pick('image'), train_split.pick('label'), hyperparams)"
      ]
    },
    {
      "cell_type": "code",
      "execution_count": null,
      "id": "8d204664",
      "metadata": {},
      "outputs": [],
      "source": [
        "test_split_images = mnist_dataset['data']['test']['image']\n",
        "preds = model.predict(test_split_images)\n",
        "preds"
      ]
    }
  ],
  "metadata": {
    "kernelspec": {
      "display_name": "Python 3 (ipykernel)",
      "language": "python",
      "name": "python3"
    },
    "language_info": {
      "codemirror_mode": {
        "name": "ipython",
        "version": 3
      },
      "file_extension": ".py",
      "mimetype": "text/x-python",
      "name": "python",
      "nbconvert_exporter": "python",
      "pygments_lexer": "ipython3",
      "version": "3.9.7"
    }
  },
  "nbformat": 4,
  "nbformat_minor": 5
}
