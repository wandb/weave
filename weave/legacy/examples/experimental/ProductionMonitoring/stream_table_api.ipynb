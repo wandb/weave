{
  "cells": [
    {
      "cell_type": "markdown",
      "id": "eccb44d3",
      "metadata": {},
      "source": [
        "# Weave StreamTable Usage\n",
        "\n",
        "This notebook demonstrates basic Weave StreamTable usage with interactive examples.\n",
        "\n",
        "## Step 0: Setup\n",
        "\n",
        "All the StreamTables created in this notebook will be saved to the WB_PROJECT under the WB_ENTITY account on the public W&B cloud. \n",
        "\n",
        "**Please login to W&B and set your WB_ENTITY** before running this demo. If entity is not provided explicitly, this will attempt to default to the current logged-in entity if one is available."
      ]
    },
    {
      "cell_type": "code",
      "execution_count": null,
      "id": "3e034bf1",
      "metadata": {},
      "outputs": [],
      "source": [
        "!pip install weave\n",
        "import wandb\n",
        "wandb.login()"
      ]
    },
    {
      "cell_type": "code",
      "execution_count": null,
      "id": "51c30e7a",
      "metadata": {},
      "outputs": [],
      "source": [
        "import weave\n",
        "from weave.legacy.weave.monitoring import StreamTable"
      ]
    },
    {
      "cell_type": "code",
      "execution_count": null,
      "id": "5684f0b8",
      "metadata": {},
      "outputs": [],
      "source": [
        "STREAM_TABLE_NAME = \"my_stream_table\"\n",
        "WB_PROJECT = \"mesa\"\n",
        "WB_ENTITY = \"\""
      ]
    },
    {
      "cell_type": "markdown",
      "id": "6f676d96",
      "metadata": {},
      "source": [
        "## Step 1: Define a StreamTable\n",
        "\n",
        "StreamTable has a single required argument: the name of the StreamTable object.\n",
        "\n",
        "```python\n",
        "st = StreamTable(\"stacey/mesa/my_stream_table\")\n",
        "```\n",
        "\n",
        "This takes the form `my_wb_entity/my_wb_project_name/my_stream_table_name` where you can modify the component names to the relevant strings (e.g. your W&B username or shared W&B team name, a new or existing W&B project name).\n",
        "\n",
        "## Step 2: Log some data\n",
        "\n",
        "To add rows to the StreamTable, call `.log()` on the StreamTable object. \n",
        "`.log()` accepts a single dictionary or a list of dictionaries, where each dictionary entry corresponds to one row of the table. In each dictionary, the keys are column names and the values are the corresponding cell values.\n",
        "\n",
        "```python\n",
        "st.log({\"one_column_name\" : \"value_a\", \"another_column_name\" : 7})\n",
        "st.log([{\"one_column_name\" : \"value_b\", \"another_column_name\" : 19},\n",
        "        {\"one_column_name\" : \"value_c\", \"another_column_name\" : 28},\n",
        "        {\"one_column_name\" : \"value_d\", \"another_column_name\" : 36}]\n",
        "```\n",
        "\n",
        "The first call to `.log()` will return a Weave Panel URL, where you can view, edit, and save the resulting StreamTable as a Weave Board, of the form:\n",
        "\n",
        "View data at: https://weave.wandb.ai/?exp=get%28%0A++++%22wandb-artifact%3A%2F%2F%2Fstacey%2Fmesa%2Fmy_stream_table%3Alatest%2Fobj%22%29%0A++.rows"
      ]
    },
    {
      "cell_type": "code",
      "execution_count": null,
      "id": "b928c2e0",
      "metadata": {},
      "outputs": [],
      "source": [
        "st = StreamTable(f\"{WB_ENTITY}/{WB_PROJECT}/{STREAM_TABLE_NAME}\")\n",
        "\n",
        "# log data to the StreamTable as a dictionary or list of dictionaries\n",
        "st.log({\"col_a\" : \"1\", \"col_b\" : \"17\", \"col_c\" : \"42\"})\n",
        "\n",
        "# show the StreamTable\n",
        "st"
      ]
    },
    {
      "cell_type": "markdown",
      "id": "83cec916",
      "metadata": {},
      "source": [
        "All log calls on a given StreamTable instance will append the given rows to that instance.\n",
        "\n",
        "In a notebook, the StreamTable variable on a line by itself will return a Weave Panel view of the StreamTable. The StreamTable will contain all the logged columns and their values, as well as a `timestamp` column indicating when the row was logged. By default, rows will be ordered by oldest first. You can modify a StreamTable Panel from the UI to sort by columns, group by column values, filter for specific ranges or values, etc.\n",
        "\n",
        "**Note:** If you would like to customize and save a specific view of a StreamTable Panel, open the StreamTable Panel in a new window as a Board and edit/save a Board from this seed panel. There are two options to achieve this:\n",
        "* via the weave.wandb.ai/?exp=... URL\n",
        "* via \"Open in new tab\" arrow button, revealed in the menu when you hover on the right side of a StreamTable panel displayed in the notebok)\n",
        "\n",
        "## Step 3: Log more data & explore the results!\n",
        "\n",
        "Continue logging as much data as you like to any StreamTable instance. You can keep a reference to a given Python StreamTable object in your notebook session or script, and you can reconnect to the same StreamTable instance across multiple sessions/runs of your script via the StreamTable's unique name (e.g. `st = StreamTable(\"stacey/mesa/my_stream_table\")` ) and keep adding rows. Multiple/parallel processes writing to the same StreamTable are also supported—the server will use a queue to order any concurrent messages.\n",
        "\n",
        "If you save the StreamTable Panel as a Board, the Board will continue to update as you send more data to the same StreamTable instance."
      ]
    },
    {
      "cell_type": "code",
      "execution_count": null,
      "id": "294d68c0",
      "metadata": {},
      "outputs": [],
      "source": [
        "st.log({\"col_a\" : 5, \"col_b\" : -24, \"col_c\" : \"hello\"})\n",
        "st.log([{\"col_a\" : 255, \"col_b\" : 3.1415926, \"col_c\" : \"hi!\"}])\n",
        "\n",
        "# optional: wait for all the rows to finish logging before loading\n",
        "st.finish()\n",
        "\n",
        "st"
      ]
    }
  ],
  "metadata": {
    "kernelspec": {
      "display_name": "Python 3 (ipykernel)",
      "language": "python",
      "name": "python3"
    },
    "language_info": {
      "codemirror_mode": {
        "name": "ipython",
        "version": 3
      },
      "file_extension": ".py",
      "mimetype": "text/x-python",
      "name": "python",
      "nbconvert_exporter": "python",
      "pygments_lexer": "ipython3",
      "version": "3.9.7"
    }
  },
  "nbformat": 4,
  "nbformat_minor": 5
}
