{
  "cells": [
    {
      "cell_type": "code",
      "execution_count": null,
      "id": "d46881ea",
      "metadata": {},
      "outputs": [],
      "source": [
        "import weave\n",
        "# Weave package now defaults to eager mode, but lazy mode required for this example notebook for now.\n",
        "weave.use_lazy_execution()\n",
        "from weave.legacy.weave.ecosystem.huggingface import huggingface as hf"
      ]
    },
    {
      "cell_type": "code",
      "execution_count": null,
      "id": "9d181896",
      "metadata": {},
      "outputs": [],
      "source": [
        "# Models\n",
        "#hf().models()"
      ]
    },
    {
      "cell_type": "code",
      "execution_count": null,
      "id": "cb3fb536",
      "metadata": {},
      "outputs": [],
      "source": [
        "# Model card\n",
        "text_gen_model = hf().model('gpt2')\n",
        "text_gen_model"
      ]
    },
    {
      "cell_type": "code",
      "execution_count": null,
      "id": "5961a5c5",
      "metadata": {},
      "outputs": [],
      "source": [
        "# Calling a text generation model\n",
        "text_gen_output = text_gen_model.call('This is the start')\n",
        "text_gen_output"
      ]
    },
    {
      "cell_type": "code",
      "execution_count": null,
      "id": "974e1a18",
      "metadata": {},
      "outputs": [],
      "source": [
        "# Bertviz for attention\n",
        "text_gen_output.attention()"
      ]
    },
    {
      "cell_type": "code",
      "execution_count": null,
      "id": "b9ab742c",
      "metadata": {},
      "outputs": [],
      "source": [
        "# Model card\n",
        "classification_model = hf().model('bhadresh-savani/distilbert-base-uncased-emotion')\n",
        "classification_model"
      ]
    },
    {
      "cell_type": "code",
      "execution_count": null,
      "id": "493448cc",
      "metadata": {},
      "outputs": [],
      "source": [
        "classification_output = classification_model.call(\"I'm feeling just swell\")\n",
        "classification_output"
      ]
    },
    {
      "cell_type": "code",
      "execution_count": null,
      "id": "36305bb0",
      "metadata": {},
      "outputs": [],
      "source": [
        "classification_output.attention()"
      ]
    },
    {
      "cell_type": "code",
      "execution_count": null,
      "id": "b1aa95d3",
      "metadata": {},
      "outputs": [],
      "source": [
        "# Text classification models can be explained with shap\n",
        "\n",
        "# TODO: we wan't chain shap_explain in Python right now. But we can in JS. Fix!\n",
        "from weave.legacy.weave.ecosystem import shap\n",
        "shap.shap_explain(classification_output)"
      ]
    }
  ],
  "metadata": {
    "kernelspec": {
      "display_name": "Python 3 (ipykernel)",
      "language": "python",
      "name": "python3"
    },
    "language_info": {
      "codemirror_mode": {
        "name": "ipython",
        "version": 3
      },
      "file_extension": ".py",
      "mimetype": "text/x-python",
      "name": "python",
      "nbconvert_exporter": "python",
      "pygments_lexer": "ipython3",
      "version": "3.9.7"
    }
  },
  "nbformat": 4,
  "nbformat_minor": 5
}
