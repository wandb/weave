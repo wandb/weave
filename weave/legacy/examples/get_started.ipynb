{
  "cells": [
    {
      "cell_type": "markdown",
      "id": "81c835f8",
      "metadata": {},
      "source": [
        "# Get Started building with Weave\n",
        "\n",
        "In this tutorial, you will learn how to use Weave to build an interactive dashboard to help you explore, understand, and evaluate machine learning models.\n",
        "\n",
        "After this tutorials, you'll know how to build a dashboard to:\n",
        "\n",
        "- explore inputs, outputs & labels of your models\n",
        "- calculate and plot metrics about your models\n",
        "- interactively build live, connected plots to drill deeper into your data\n",
        "- publish sharable interactive dashboards to enable colleagues to build on your work\n",
        "\n",
        "# Hello, World\n",
        "\n",
        "First, install `weave`:\n"
      ]
    },
    {
      "cell_type": "code",
      "execution_count": null,
      "id": "e45d5578",
      "metadata": {},
      "outputs": [],
      "source": [
        "!pip install weave -qqq"
      ]
    },
    {
      "cell_type": "markdown",
      "id": "56c791d0",
      "metadata": {},
      "source": [
        "Next, we'll use Weave to explore the Iris flower dataset.\n"
      ]
    },
    {
      "cell_type": "code",
      "execution_count": null,
      "id": "b2f76045",
      "metadata": {},
      "outputs": [],
      "source": [
        "from sklearn.datasets import load_iris\n",
        "\n",
        "def get_iris_dataset():\n",
        "    iris = load_iris(as_frame=True)\n",
        "    data = iris['data']\n",
        "    data['target_id'] = iris['target']\n",
        "    data['target_name'] = iris['target_names'][iris['target']]\n",
        "\n",
        "    def clean_column_name(c):\n",
        "        return c.replace(\" (cm)\", \"\").replace(\" \", \"_\")\n",
        "    data.columns = [clean_column_name(c) for c in data.columns]\n",
        "    return data\n",
        "\n",
        "iris_df = get_iris_dataset()"
      ]
    },
    {
      "cell_type": "markdown",
      "id": "ae1d5797",
      "metadata": {},
      "source": [
        "Now that we have a dataframe, we can display it in an interactive table by calling `weave.show`.\n"
      ]
    },
    {
      "cell_type": "code",
      "execution_count": null,
      "id": "84f1a891",
      "metadata": {},
      "outputs": [],
      "source": [
        "import weave\n",
        "from weave.legacy.weave.show import show\n",
        "show(iris_df)"
      ]
    },
    {
      "cell_type": "markdown",
      "id": "091192b7-ede4-423f-a78d-b06a9b877bab",
      "metadata": {},
      "source": [
        "This is already a lot more powerful that the static visualization of a pandas `DataFrame` because you can page through it——and we're just getting started.\n",
        "\n",
        "# Building plots\n",
        "\n",
        "Weave can dynamically create visualizations of your data.\n",
        "\n",
        "- At the top of the panel, click `Table`\n",
        "- You should see a dropdown, click `Plot`\n",
        "\n",
        "You should now see a plot of `sepal_width` versus `sepal_length`, colored by `target_name`. Weave's visualization engine uses the type of each column to choose a reasonable way to display your data. You can edit this plot by clicking the pencil icon ✏️ in the top right of the panel to open the panel editor.\n",
        "\n",
        "Note: You can build these plots interactively using the UI or define them programmatically in Python. In this tutorial, we'll focus on building these dashboards using the UI and keep programmatic dashboard building for later tutorials.\n"
      ]
    },
    {
      "cell_type": "markdown",
      "id": "9866379b",
      "metadata": {},
      "source": [
        "!['image'](https://raw.githubusercontent.com/wandb/weave/6936cd8233f382ae3fd165480dce5832c06c2453/docs/assets/get_started_0.png)\n"
      ]
    },
    {
      "cell_type": "markdown",
      "id": "bd62be8e",
      "metadata": {},
      "source": [
        "## Exercise\n",
        "\n",
        "- Try changing the X and Y axes\n",
        "- Try changing the color\n",
        "\n",
        "Tip: `row[\"<column name>\"]` is a **Weave Expression**. You can edit the column name inside the quotes to show the relevant column from your data.\n",
        "\n",
        "# Exploring Tables\n",
        "\n",
        "Let's display our data as a `Table` again:\n"
      ]
    },
    {
      "cell_type": "code",
      "execution_count": null,
      "id": "886c7c49-e7f8-4651-8a6a-b2a08d417dda",
      "metadata": {},
      "outputs": [],
      "source": [
        "show(iris_df)"
      ]
    },
    {
      "cell_type": "markdown",
      "id": "6d12837d",
      "metadata": {},
      "source": [
        "You can add, remove and sort each column by using the three dots button ⋮ beside the column name.\n",
        "\n",
        "## Exercise\n",
        "\n",
        "- Try sorting by the `sepal_length` column\n",
        "- Try removing the `target_id` column\n",
        "\n",
        "## Filtering\n",
        "\n",
        "You can filter tables using the funnel icon ▼ on the top left.\n",
        "\n",
        "For example, to filter the data to only display the `setosa` flowers:\n",
        "\n",
        "- Click the filter icon\n",
        "- Add the expression `row[\"target_name\"] == \"setosa\"`\n",
        "\n",
        "# Transforming data\n",
        "\n",
        "When analyzing models, you often need to use your data to calculate metrics or statistics to get summaries for comparison.\n",
        "\n",
        "To enable this, Weave has built-in operations, or **Weave Ops**, to transform data. You can also configure the data displayed in each column as we did with the plot.\n",
        "\n",
        "For example, to display the sum of each examples' `sepal_width` and `sepal_length`:\n",
        "\n",
        "- Click a column to edit (e.g. `sepal_length`)\n",
        "- Change the Cell expression to `row[\"sepal_width\"] + row[\"sepal_length\"]`\n",
        "- Click anywhere outside the popover to apply the change\n",
        "\n",
        "# Group by columns to compare splits and calculate summary statistics\n",
        "\n",
        "Comparing performance across different data splits is vital to uncovering biases and edge cases. This is fast and visual in Weave using the **Group by** operation.\n",
        "\n",
        "For example, if we want to calculate summary statistics of each type of flower in our dataset, we can group by the `target_name` column.\n",
        "\n",
        "- Click the three dots button ⋮ on the `target_name` column\n",
        "- Click `Group by`\n",
        "\n",
        "We now see that Weave has grouped our data by the `target_name` and made plots for each column. We can now use different operations on these columns because they're now _lists_ rather than individual elements.\n",
        "\n",
        "For example, we can calculate the average of each column by changing the cell expression to be `row[\"<column name>\"].avg` e.g. `row[\"sepal_length\"].avg`.\n",
        "\n",
        "## Exercise\n",
        "\n",
        "- Try calculating the maximum of each column\n"
      ]
    },
    {
      "attachments": {},
      "cell_type": "markdown",
      "id": "0954b735",
      "metadata": {},
      "source": [
        "!['image'](https://raw.githubusercontent.com/wandb/weave/4885095070704922189ba4d761029821c4e5da42/docs/assets/get_started_1.png)\n"
      ]
    },
    {
      "cell_type": "markdown",
      "id": "60acbe66",
      "metadata": {},
      "source": [
        "## Drilldown with connected plots\n",
        "\n",
        "Finally, once you have found a split of data that is interesting, you often want to view individual elements of that data to better understand it. Weave makes it easy to connect multiple visualizations so that you can drilldown into selected data.\n"
      ]
    },
    {
      "cell_type": "code",
      "execution_count": null,
      "id": "531013bb",
      "metadata": {},
      "outputs": [],
      "source": [
        "show(iris_df)"
      ]
    },
    {
      "cell_type": "markdown",
      "id": "2519db1c",
      "metadata": {},
      "source": [
        "!['image'](https://raw.githubusercontent.com/wandb/weave/4885095070704922189ba4d761029821c4e5da42/docs/assets/get_started_2.png)\n"
      ]
    },
    {
      "cell_type": "markdown",
      "id": "ddad55c3",
      "metadata": {},
      "source": [
        "For example, to select data from a plot and display it in a table:\n",
        "\n",
        "- Add a new panel from the drawer menu on the right (1)\n",
        "- Using the panel name (2), refer to the `.selected_data` from the first panel in the expression editor (3)\n",
        "- Use the selection tool (4) to display that data in the drilldown table\n",
        "\n",
        "Tip: You can also connect `Tables` to other plots. To select a row on a table, click the row number. To use that selection, use `<panel_name>.active_data`.\n",
        "\n",
        "# Publish your dashboard and share it\n",
        "\n",
        "Once you have something you're happy with, you can click the arrow ↗️ from the drawer menu on the right to open it in a new tab. From there, you can click \"Publish board\" to send your creation to the cloud and share it with the world. You can also use this area to add new panels and update your dashboard.\n",
        "\n",
        "# What's next?\n",
        "\n",
        "With what you've learned, try build something on your own data. Weave works with lots of different types of data and is performant at large scales!\n"
      ]
    },
    {
      "cell_type": "code",
      "execution_count": null,
      "id": "e2011a09",
      "metadata": {},
      "outputs": [],
      "source": [
        "import numpy\n",
        "from PIL import Image\n",
        "\n",
        "def random_image():\n",
        "    imarray = numpy.random.rand(100,100,3) * 255\n",
        "    return Image.fromarray(imarray.astype('uint8')).convert('RGBA')\n",
        "\n",
        "show([{'image_col': random_image(), 'text_col': 'Hello'}, \n",
        "            {'image_col': random_image(), 'text_col': 'World'}]*1000)"
      ]
    },
    {
      "cell_type": "markdown",
      "id": "6db51292",
      "metadata": {},
      "source": [
        "We're heads down focusing on adding templates and improving our documentation. Weave is open source, and we're very excited to merge your contributions. If you have feedback, feature requests, or bugs, you can open an issue on the Weave Github repository.\n",
        "\n",
        "## Not finished learning?\n",
        "\n",
        "Check out our [examples](https://github.com/wandb/weave/tree/master/examples) to see more tutorials, a gallery of dashboards, and reference guides to different components.\n"
      ]
    }
  ],
  "metadata": {
    "kernelspec": {
      "display_name": "Python 3 (ipykernel)",
      "language": "python",
      "name": "python3"
    },
    "language_info": {
      "codemirror_mode": {
        "name": "ipython",
        "version": 3
      },
      "file_extension": ".py",
      "mimetype": "text/x-python",
      "name": "python",
      "nbconvert_exporter": "python",
      "pygments_lexer": "ipython3",
      "version": "3.10.11"
    }
  },
  "nbformat": 4,
  "nbformat_minor": 5
}
