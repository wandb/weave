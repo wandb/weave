{
  "cells": [
    {
      "cell_type": "code",
      "execution_count": null,
      "id": "f1022622",
      "metadata": {},
      "outputs": [],
      "source": [
        "import weave\n",
        "import weave.legacy.weave.panels"
      ]
    },
    {
      "cell_type": "code",
      "execution_count": null,
      "id": "af978245",
      "metadata": {},
      "outputs": [],
      "source": [
        "from weave.legacy.scripts import syndata"
      ]
    },
    {
      "cell_type": "code",
      "execution_count": null,
      "id": "4a2a4713",
      "metadata": {},
      "outputs": [],
      "source": [
        "data = weave.save(syndata.random_metrics(100, 100))"
      ]
    },
    {
      "cell_type": "code",
      "execution_count": null,
      "id": "85e9d219",
      "metadata": {},
      "outputs": [],
      "source": [
        "import weave\n",
        "from weave.legacy.weave import ops_arrow\n",
        "from weave.legacy.weave.ecosystem import wandb\n",
        "import datetime\n",
        "import random\n",
        "random.seed(1)\n",
        "\n",
        "min_x = datetime.datetime(2023, 3, 22, 11, 0, 0)\n",
        "max_x = min_x + datetime.timedelta(hours=1)\n",
        "\n",
        "users = ['nick', 'shawn', 'stacey', 'tim', 'danny']\n",
        "model_versions = ['v1', 'v2']\n",
        "\n",
        "num_requests = 100\n",
        "\n",
        "def random_datetime_in_range() -> datetime.datetime:\n",
        "    min_timestamp = min_x.timestamp()\n",
        "    max_timestamp = max_x.timestamp()\n",
        "    random_timestamp = random.uniform(min_timestamp, max_timestamp)\n",
        "    return datetime.datetime.fromtimestamp(random_timestamp)\n",
        "\n",
        "def random_suggestion(n: int) -> str:\n",
        "    result = ''\n",
        "    for i in range(n):\n",
        "        result += random.choice('abcdefghijklmnopqrstuvwxyz')\n",
        "    return result\n",
        "\n",
        "\n",
        "items = weave.save(\n",
        "    ops_arrow.to_arrow(sorted([\n",
        "        {\n",
        "            \"pred\": random_suggestion(7),\n",
        "            \"time\": random_datetime_in_range(),\n",
        "            \"user\": random.choice(users),\n",
        "            \"version\": random.choice(model_versions),\n",
        "            \"accepted\": random.choice([1, 1, 1, 0, 0]),\n",
        "            \"metric\": random.uniform(0, 1)\n",
        "        } \n",
        "        for _ in range(num_requests)\n",
        "    ], key=lambda d: d['time']))\n",
        ")"
      ]
    },
    {
      "cell_type": "code",
      "execution_count": null,
      "id": "3d5919ee",
      "metadata": {},
      "outputs": [],
      "source": [
        "from weave.legacy.weave.panels.panel_plot import Signals, AxisSelections, Plot\n",
        "from weave.legacy.weave import weave_internal\n",
        "\n",
        "\n",
        "domain_node = weave_internal.const(None)\n",
        "#domain_node = weave_internal.save(None)\n",
        "\n",
        "board = weave.legacy.weave.panels.Board(\n",
        "    vars={\n",
        "        'predictions': items,\n",
        "        'domain': domain_node,\n",
        "    },\n",
        "    panels=[\n",
        "        weave.legacy.weave.panels.BoardPanel(\n",
        "            lambda predictions, domain: Plot(\n",
        "                            predictions,\n",
        "                            x=lambda row: row[\"time\"],\n",
        "                            y=lambda row: row[\"metric\"],\n",
        "                            label=lambda row: row['user'],\n",
        "                            mark=\"point\",\n",
        "                            domain_x=domain,\n",
        "                        ),\n",
        "            layout=weave.legacy.weave.panels.BoardPanelLayout(x=0, y=0, w=12, h=12)\n",
        "        ),\n",
        "        weave.legacy.weave.panels.BoardPanel(\n",
        "            lambda predictions, domain: Plot(\n",
        "                            predictions,\n",
        "                            x=lambda row: row[\"time\"],\n",
        "                            y=lambda row: row[\"metric\"] * 2,\n",
        "                            label=lambda row: row['version'],\n",
        "                            mark=\"point\",\n",
        "                            domain_x=domain,\n",
        "                        ),\n",
        "            layout=weave.legacy.weave.panels.BoardPanelLayout(x=0, y=0, w=12, h=12)\n",
        "        ),        \n",
        "    ]\n",
        ")\n",
        "board"
      ]
    }
  ],
  "metadata": {
    "kernelspec": {
      "display_name": "Python 3 (ipykernel)",
      "language": "python",
      "name": "python3"
    },
    "language_info": {
      "codemirror_mode": {
        "name": "ipython",
        "version": 3
      },
      "file_extension": ".py",
      "mimetype": "text/x-python",
      "name": "python",
      "nbconvert_exporter": "python",
      "pygments_lexer": "ipython3",
      "version": "3.9.7"
    }
  },
  "nbformat": 4,
  "nbformat_minor": 5
}
