{
  "cells": [
    {
      "cell_type": "code",
      "execution_count": null,
      "id": "eae3e8dd",
      "metadata": {},
      "outputs": [],
      "source": [
        "import weave\n",
        "import weave.legacy.weave.panels\n",
        "import weave.legacy.weave.ops\n",
        "from weave.legacy.weave.show import show"
      ]
    },
    {
      "cell_type": "code",
      "execution_count": null,
      "id": "887d88a4",
      "metadata": {},
      "outputs": [],
      "source": [
        "project = weave.legacy.weave.ops.project('stacey', \"mendeleev\")\n",
        "#project"
      ]
    },
    {
      "cell_type": "code",
      "execution_count": null,
      "id": "b7705fb7",
      "metadata": {},
      "outputs": [],
      "source": [
        "panel = weave.legacy.weave.panels.Table(weave.legacy.weave.ops.project('stacey', \"mendeleev\").artifactType('test_results').artifacts(),\n",
        "                           columns=[\n",
        "                               lambda art: weave.legacy.weave.ops.artifact_collection_ops.artifact_name(art), # hack to get around shadowed `name` op\n",
        "                               lambda art: art.versions().count()\n",
        "                           ])\n",
        "show(panel)"
      ]
    },
    {
      "cell_type": "code",
      "execution_count": null,
      "id": "58b26e21",
      "metadata": {},
      "outputs": [],
      "source": [
        "weave.legacy.weave.ops.project('stacey', \"mendeleev\").artifactType('test_results').artifacts()[0].versions()[0].file('test_results.table.json')"
      ]
    },
    {
      "cell_type": "code",
      "execution_count": null,
      "id": "debbb5d4",
      "metadata": {},
      "outputs": [],
      "source": [
        "weave.legacy.weave.ops.project('shawn', \"dsviz-simple-tables\").artifactType('dataset').artifacts()[0].versions()[5].file('my-table.table.json')"
      ]
    }
  ],
  "metadata": {
    "kernelspec": {
      "display_name": "Python 3 (ipykernel)",
      "language": "python",
      "name": "python3"
    },
    "language_info": {
      "codemirror_mode": {
        "name": "ipython",
        "version": 3
      },
      "file_extension": ".py",
      "mimetype": "text/x-python",
      "name": "python",
      "nbconvert_exporter": "python",
      "pygments_lexer": "ipython3",
      "version": "3.9.7"
    },
    "vscode": {
      "interpreter": {
        "hash": "cdaa5b4f919dd2bcc1e1b23efc336c7178fbd1227e862ece13b7d448295c4271"
      }
    }
  },
  "nbformat": 4,
  "nbformat_minor": 5
}
