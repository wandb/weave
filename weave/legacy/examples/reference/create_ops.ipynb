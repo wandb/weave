{
 "cells": [
  {
   "cell_type": "markdown",
   "id": "e4d89e01",
   "metadata": {},
   "source": [
    "# Creating Weave Ops"
   ]
  },
  {
   "cell_type": "code",
   "execution_count": null,
   "id": "2cd1a5a5",
   "metadata": {},
   "outputs": [],
   "source": [
    "import weave\n",
    "# Weave package now defaults to eager mode, but lazy mode required for this example notebook for now.\n",
    "weave.use_lazy_execution()"
   ]
  },
  {
   "cell_type": "code",
   "execution_count": null,
   "id": "6cc12e6d",
   "metadata": {},
   "outputs": [],
   "source": [
    "# create a custom operation that squares a number. the op will be available for use in python \n",
    "# and to be called from panels.\n",
    "@weave.op()\n",
    "def square(number: int) -> int:\n",
    "    return number * number"
   ]
  },
  {
   "cell_type": "code",
   "execution_count": null,
   "id": "684d1c5b",
   "metadata": {},
   "outputs": [],
   "source": [
    "# call the op from python\n",
    "weave.use(square(20))"
   ]
  },
  {
   "cell_type": "markdown",
   "id": "b12a46ad",
   "metadata": {},
   "source": []
  },
  {
   "cell_type": "code",
   "execution_count": null,
   "id": "784fc8b9",
   "metadata": {},
   "outputs": [],
   "source": [
    "# Or, you can display the results of calling an op.\n",
    "x = weave.save(20, 'my-num')\n",
    "square(x)"
   ]
  }
 ],
 "metadata": {
  "kernelspec": {
   "display_name": "Python 3 (ipykernel)",
   "language": "python",
   "name": "python3"
  },
  "language_info": {
   "codemirror_mode": {
    "name": "ipython",
    "version": 3
   },
   "file_extension": ".py",
   "mimetype": "text/x-python",
   "name": "python",
   "nbconvert_exporter": "python",
   "pygments_lexer": "ipython3",
   "version": "3.9.7"
  }
 },
 "nbformat": 4,
 "nbformat_minor": 5
}
