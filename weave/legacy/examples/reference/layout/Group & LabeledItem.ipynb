{
  "cells": [
    {
      "cell_type": "code",
      "execution_count": null,
      "id": "2e4a39ce",
      "metadata": {},
      "outputs": [],
      "source": [
        "import weave\n",
        "import weave.legacy.weave.panels"
      ]
    },
    {
      "cell_type": "code",
      "execution_count": null,
      "id": "32953f12",
      "metadata": {},
      "outputs": [],
      "source": [
        "# Group example\n",
        "weave.legacy.weave.panels.Group(\n",
        "    items={\n",
        "        '0': weave.legacy.weave.panels.Group(\n",
        "            preferHorizontal=True,\n",
        "            items={\n",
        "                '0': weave.legacy.weave.panels.LabeledItem(item='item1', label='label1'),\n",
        "                '1': weave.legacy.weave.panels.LabeledItem(item='item2', label='label2'),\n",
        "                '2': weave.legacy.weave.panels.LabeledItem(item='item3', label='label3'),\n",
        "            }\n",
        "        ),\n",
        "        '1': weave.legacy.weave.panels.LabeledItem(item='item4', label='label4'),\n",
        "        '2': weave.legacy.weave.panels.LabeledItem(item='item5', label='label5')\n",
        "    }\n",
        ")"
      ]
    }
  ],
  "metadata": {
    "kernelspec": {
      "display_name": "Python 3 (ipykernel)",
      "language": "python",
      "name": "python3"
    }
  },
  "nbformat": 4,
  "nbformat_minor": 5
}
