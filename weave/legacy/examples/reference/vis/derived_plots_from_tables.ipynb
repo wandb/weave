{
  "cells": [
    {
      "cell_type": "code",
      "execution_count": null,
      "id": "14b320aa",
      "metadata": {},
      "outputs": [],
      "source": [
        "import weave\n",
        "from weave.legacy.weave.ecosystem import wandb\n",
        "\n",
        "# Group tags are broken with caching\n",
        "# import os \n",
        "# os.environ[\"WEAVE_NO_CACHE\"] = 'true'"
      ]
    },
    {
      "cell_type": "code",
      "execution_count": null,
      "id": "bfc9678e",
      "metadata": {},
      "outputs": [],
      "source": [
        "table = weave.legacy.weave.panels.Table(list(range(100)))\n",
        "\n",
        "# Add Filter\n",
        "table.config.tableState.set_filter_fn(lambda i: i < 50)\n",
        "\n",
        "# Add Grouping\n",
        "table.config.tableState.add_column(lambda i: i % 3, 'col_name_a')\n",
        "group_col_id = table.config.tableState.order[0]\n",
        "# table.config.tableState.enable_groupby(group_col_id)\n",
        "\n",
        "# Add Selections (Note: Important to add after grouping so `i` is correctly typed)\n",
        "table.config.tableState.add_column(lambda i: i ** 2, 'col_name_b')\n",
        "# table.config.tableState.add_column(lambda i: i.max(), 'col_name_c')\n",
        "\n",
        "# Add Sort\n",
        "table.config.tableState.enable_sort(group_col_id)\n",
        "\n",
        "\n",
        "panel = weave.legacy.weave.panels.Group(\n",
        "    layoutMode='horizontal',\n",
        "    items={\n",
        "        \"table\": table,\n",
        "#         \"table_2\": lambda table: table.rows()[0]['col_name_a']\n",
        "        \"plot\": lambda table: weave.legacy.weave.panels.Plot(\n",
        "            table.all_rows(),\n",
        "            x=lambda row: row['col_name_a'],\n",
        "            y=lambda row: row['col_name_b'],\n",
        "        )\n",
        "    }\n",
        ")\n",
        "panel"
      ]
    },
    {
      "cell_type": "code",
      "execution_count": null,
      "id": "bf475571",
      "metadata": {},
      "outputs": [],
      "source": [
        "panel = weave.legacy.weave.panels.Group(\n",
        "    layoutMode='horizontal',\n",
        "    items={\n",
        "        \"table\": weave.legacy.weave.panels.Table(list(range(100)), columns=[\n",
        "            lambda i: i,\n",
        "            lambda i: i**2,\n",
        "            lambda i: i * 0 + 1\n",
        "        ]),\n",
        "        \"table_2\": lambda table: weave.legacy.weave.panels.Table(table.all_rows(), columns=[\n",
        "            lambda i: table.all_rows()['c_0'].max() - i['c_0'],\n",
        "            lambda i: i['c_1'] / 2,\n",
        "            lambda i: i['c_2'] - 2\n",
        "        ]),\n",
        "        \"plot\": lambda table, table_2: weave.legacy.weave.panels.Plot(\n",
        "            weave.legacy.weave.ops.make_list(a=table.all_rows(), b=table_2.all_rows()).concat(),\n",
        "            x=lambda row: row['c_0'],\n",
        "            y=lambda row: row['c_1'],\n",
        "            color=lambda row: row['c_2']\n",
        "        )\n",
        "    }\n",
        ")\n",
        "panel"
      ]
    }
  ],
  "metadata": {
    "kernelspec": {
      "display_name": "Python 3 (ipykernel)",
      "language": "python",
      "name": "python3"
    },
    "language_info": {
      "codemirror_mode": {
        "name": "ipython",
        "version": 3
      },
      "file_extension": ".py",
      "mimetype": "text/x-python",
      "name": "python",
      "nbconvert_exporter": "python",
      "pygments_lexer": "ipython3",
      "version": "3.9.7"
    }
  },
  "nbformat": 4,
  "nbformat_minor": 5
}
