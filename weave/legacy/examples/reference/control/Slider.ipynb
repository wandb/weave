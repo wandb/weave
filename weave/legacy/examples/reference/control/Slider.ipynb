{
  "cells": [
    {
      "cell_type": "code",
      "execution_count": null,
      "id": "83fee798",
      "metadata": {},
      "outputs": [],
      "source": [
        "import weave\n",
        "from weave.legacy.weave import panels"
      ]
    },
    {
      "cell_type": "code",
      "execution_count": null,
      "id": "6c85e3b7",
      "metadata": {},
      "outputs": [],
      "source": [
        "# Uncontrolled: panel creates its own state slot\n",
        "panel = panels.Group(\n",
        "    items={\n",
        "        \"my_slider\": panels.Slider(),\n",
        "        \"val\": lambda my_slider: my_slider.value()\n",
        "    })\n",
        "panel"
      ]
    },
    {
      "cell_type": "code",
      "execution_count": null,
      "id": "0dd8dd51",
      "metadata": {},
      "outputs": [],
      "source": [
        "# Controlled: state is external to panel\n",
        "\n",
        "panel = panels.Group(\n",
        "    vars={'slider_val': 5},\n",
        "    items={\n",
        "        'state_value': lambda slider_val: slider_val,\n",
        "        'slider': lambda slider_val: panels.Group(\n",
        "            items={\n",
        "                \"my_slider\": panels.Slider(slider_val),\n",
        "                \"val\": lambda my_slider: my_slider.value(),\n",
        "                \"my_slider2\": panels.Slider(slider_val)\n",
        "            })\n",
        "    })\n",
        "panel"
      ]
    }
  ],
  "metadata": {
    "kernelspec": {
      "display_name": "Python 3 (ipykernel)",
      "language": "python",
      "name": "python3"
    },
    "language_info": {
      "codemirror_mode": {
        "name": "ipython",
        "version": 3
      },
      "file_extension": ".py",
      "mimetype": "text/x-python",
      "name": "python",
      "nbconvert_exporter": "python",
      "pygments_lexer": "ipython3",
      "version": "3.9.7"
    }
  },
  "nbformat": 4,
  "nbformat_minor": 5
}
