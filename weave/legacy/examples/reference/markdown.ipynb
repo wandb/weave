{
  "cells": [
    {
      "cell_type": "code",
      "execution_count": null,
      "id": "9357be91",
      "metadata": {},
      "outputs": [],
      "source": [
        "import weave"
      ]
    },
    {
      "cell_type": "code",
      "execution_count": null,
      "id": "42e421dd",
      "metadata": {},
      "outputs": [],
      "source": [
        "weave.legacy.weave.panels.Board(\n",
        "    vars={},\n",
        "    panels=[weave.legacy.weave.panels.BoardPanel(\n",
        "                weave.legacy.weave.panels.PanelString(\"## I am markdown\\n\\nHear me roar\", mode=\"markdown\"),\n",
        "                id='some_markdown')\n",
        "           ])"
      ]
    }
  ],
  "metadata": {
    "kernelspec": {
      "display_name": "Python 3 (ipykernel)",
      "language": "python",
      "name": "python3"
    },
    "language_info": {
      "codemirror_mode": {
        "name": "ipython",
        "version": 3
      },
      "file_extension": ".py",
      "mimetype": "text/x-python",
      "name": "python",
      "nbconvert_exporter": "python",
      "pygments_lexer": "ipython3",
      "version": "3.9.7"
    }
  },
  "nbformat": 4,
  "nbformat_minor": 5
}
