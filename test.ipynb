{
 "cells": [
  {
   "cell_type": "code",
   "execution_count": 1,
   "metadata": {},
   "outputs": [
    {
     "name": "stderr",
     "output_type": "stream",
     "text": [
      "/Users/soumikrakshit/Workspace/repositories/weave/.venv/lib/python3.12/site-packages/tqdm/auto.py:21: TqdmWarning: IProgress not found. Please update jupyter and ipywidgets. See https://ipywidgets.readthedocs.io/en/stable/user_install.html\n",
      "  from .autonotebook import tqdm as notebook_tqdm\n"
     ]
    }
   ],
   "source": [
    "import weave\n",
    "import rich"
   ]
  },
  {
   "cell_type": "code",
   "execution_count": 2,
   "metadata": {},
   "outputs": [
    {
     "name": "stdout",
     "output_type": "stream",
     "text": [
      "Logged in as Weights & Biases user: geekyrakshit.\n",
      "View Weave data at https://wandb.ai/geekyrakshit/test-google-ai-studio/weave\n"
     ]
    }
   ],
   "source": [
    "client = weave.init(\"geekyrakshit/test-google-ai-studio\")\n",
    "call = client.get_call(\"0192d85c-db7f-7ae2-ac98-b9152beab66f\")"
   ]
  },
  {
   "cell_type": "code",
   "execution_count": 4,
   "metadata": {},
   "outputs": [
    {
     "name": "stdout",
     "output_type": "stream",
     "text": [
      "response:\n",
      "GenerateContentResponse(\n",
      "    done=True,\n",
      "    iterator=None,\n",
      "    result=protos.GenerateContentResponse({\n",
      "      \"candidates\": [\n",
      "        {\n",
      "          \"content\": {\n",
      "            \"parts\": [\n",
      "              {\n",
      "                \"text\": \"First, I need a way to figure out if a number is prime. A prime, I need a way to figure out if a number is prime. A prime number is only divisible by 1 and itself.\\n\\n number is only divisible by 1 and itself.\\n\\n```python\\ndef is_prime(n):\\n  \\\"\\\"\\\"\\n  Checks if n is a prime number.\\n  \\\"\\\"\\\"\\n  if n <= 1:\\n    return False\\n  for i in range(2, int(n ** 0.5) + 1):\\n    if n % i == 0:\\n      return False\\n  return True\\n``````python\\ndef is_prime(n):\\n  \\\"\\\"\\\"\\n  Checks if n is a prime number.\\n  \\\"\\\"\\\"\\n  if n <= 1:\\n    return False\\n  for i in range(2, int(n ** 0.5) + 1):\\n    if n % i == 0:\\n      return False\\n  return True\\n```\\n\\nNow I need to find the first 50 prime numbers, and keep track of how many I've found, and their sum.\\n\\n\\n\\nNow I need to f...\n"
     ]
    }
   ],
   "source": [
    "rich.print(call.output)"
   ]
  },
  {
   "cell_type": "code",
   "execution_count": null,
   "metadata": {},
   "outputs": [],
   "source": []
  }
 ],
 "metadata": {
  "kernelspec": {
   "display_name": ".venv",
   "language": "python",
   "name": "python3"
  },
  "language_info": {
   "codemirror_mode": {
    "name": "ipython",
    "version": 3
   },
   "file_extension": ".py",
   "mimetype": "text/x-python",
   "name": "python",
   "nbconvert_exporter": "python",
   "pygments_lexer": "ipython3",
   "version": "3.12.7"
  }
 },
 "nbformat": 4,
 "nbformat_minor": 2
}
