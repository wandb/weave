{
 "cells": [
  {
   "cell_type": "code",
   "execution_count": 1,
   "id": "a36c6f7d",
   "metadata": {},
   "outputs": [],
   "source": [
    "import weave\n",
    "import time\n",
    "weave.use_frontend_devmode()\n",
    "from weave.monitoring import init_monitor"
   ]
  },
  {
   "cell_type": "code",
   "execution_count": 3,
   "id": "7f0e78c1",
   "metadata": {},
   "outputs": [
    {
     "data": {
      "text/html": [
       " View data at <a href='https://weave.wandb.ai/?exp=get%28%0A++++%22wandb-artifact%3A%2F%2F%2Fshawn%2Fmonitor%2Fmonitor2%3Alatest%2Fobj%22%29%0A++.rows' target=\"_blank\">https://weave.wandb.ai/?exp=get%28%0A++++%22wandb-artifact%3A%2F%2F%2Fshawn%2Fmonitor%2Fmonitor2%3Alatest%2Fobj%22%29%0A++.rows</a>"
      ],
      "text/plain": [
       "<IPython.core.display.HTML object>"
      ]
     },
     "metadata": {},
     "output_type": "display_data"
    }
   ],
   "source": [
    "mon = init_monitor('shawn/monitor/monitor2')\n",
    "\n",
    "@mon.trace()\n",
    "def my_fn(a, b):\n",
    "    time.sleep(0.2)\n",
    "    #raise Exception(\"hello\")\n",
    "    return a + b\n",
    "\n",
    "with mon.span('a_span') as s:\n",
    "    time.sleep(0.5)\n",
    "    with mon.attributes({'a': 5, 'b': 6}):\n",
    "        with mon.span('b_span') as b:\n",
    "            time.sleep(0.5)\n",
    "            my_fn(1, 5, monitor_attributes={'j': 15})\n",
    "        time.sleep(0.05)"
   ]
  },
  {
   "cell_type": "code",
   "execution_count": 4,
   "id": "a14c4ee6",
   "metadata": {},
   "outputs": [
    {
     "data": {
      "text/plain": [
       "1691611243.964891"
      ]
     },
     "execution_count": 4,
     "metadata": {},
     "output_type": "execute_result"
    }
   ],
   "source": [
    "import datetime\n",
    "datetime.datetime.now().timestamp()"
   ]
  },
  {
   "cell_type": "code",
   "execution_count": 5,
   "id": "cba9ede6",
   "metadata": {},
   "outputs": [
    {
     "data": {
      "text/html": [
       "\n",
       "        <iframe\n",
       "            width=\"100%\"\n",
       "            height=\"400px\"\n",
       "            src=\"http://localhost:3000/__frontend/weave_jupyter?fullScreen&expNode=%7B%22nodeType%22%3A%20%22output%22%2C%20%22type%22%3A%20%22any%22%2C%20%22fromOp%22%3A%20%7B%22name%22%3A%20%22get%22%2C%20%22inputs%22%3A%20%7B%22uri%22%3A%20%7B%22nodeType%22%3A%20%22const%22%2C%20%22type%22%3A%20%22string%22%2C%20%22val%22%3A%20%22local-artifact%3A///dashboard-tagged%3Alatest/obj%22%7D%7D%7D%7D\"\n",
       "            frameborder=\"0\"\n",
       "            allowfullscreen\n",
       "            allow=\"clipboard-write\"\n",
       "        ></iframe>\n",
       "        "
      ],
      "text/plain": [
       "<IPython.lib.display.IFrame at 0x172d6f610>"
      ]
     },
     "metadata": {},
     "output_type": "display_data"
    }
   ],
   "source": [
    "mon._streamtable.rows()"
   ]
  },
  {
   "cell_type": "code",
   "execution_count": 8,
   "id": "3d1cf43f",
   "metadata": {},
   "outputs": [
    {
     "data": {
      "text/plain": [
       "<function weave.panels_py.panel_open_ai_monitor.board(input_node) -> weave.panels.panel_group.Group>"
      ]
     },
     "execution_count": 8,
     "metadata": {},
     "output_type": "execute_result"
    },
    {
     "name": "stderr",
     "output_type": "stream",
     "text": [
      "WARNING:wandb.sdk.internal.file_stream:requests_with_retry encountered retryable exception: HTTPSConnectionPool(host='api.wandb.ai', port=443): Read timed out. (read timeout=None). func: <bound method Session.post of <requests.sessions.Session object at 0x2a3a11040>>, args: ('https://api.wandb.ai/files/shawn/monitor/monitor2/file_stream',), kwargs: {'json': {'complete': False, 'failed': False, 'dropped': 0, 'uploaded': []}}\n"
     ]
    }
   ],
   "source": [
    "from weave.panels_py import panel_open_ai_monitor\n",
    "panel_open_ai_monitor.board.raw_resolve_fn()"
   ]
  }
 ],
 "metadata": {
  "kernelspec": {
   "display_name": "Python 3 (ipykernel)",
   "language": "python",
   "name": "python3"
  },
  "language_info": {
   "codemirror_mode": {
    "name": "ipython",
    "version": 3
   },
   "file_extension": ".py",
   "mimetype": "text/x-python",
   "name": "python",
   "nbconvert_exporter": "python",
   "pygments_lexer": "ipython3",
   "version": "3.9.7"
  }
 },
 "nbformat": 4,
 "nbformat_minor": 5
}
